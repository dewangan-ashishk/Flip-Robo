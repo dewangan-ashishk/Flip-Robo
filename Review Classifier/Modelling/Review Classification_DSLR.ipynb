{
 "cells": [
  {
   "cell_type": "markdown",
   "id": "f94d6d75",
   "metadata": {},
   "source": [
    "# Review Classification - DSLR"
   ]
  },
  {
   "cell_type": "code",
   "execution_count": 1,
   "id": "dd2790c9",
   "metadata": {},
   "outputs": [
    {
     "data": {
      "text/html": [
       "<div>\n",
       "<style scoped>\n",
       "    .dataframe tbody tr th:only-of-type {\n",
       "        vertical-align: middle;\n",
       "    }\n",
       "\n",
       "    .dataframe tbody tr th {\n",
       "        vertical-align: top;\n",
       "    }\n",
       "\n",
       "    .dataframe thead th {\n",
       "        text-align: right;\n",
       "    }\n",
       "</style>\n",
       "<table border=\"1\" class=\"dataframe\">\n",
       "  <thead>\n",
       "    <tr style=\"text-align: right;\">\n",
       "      <th></th>\n",
       "      <th>Unnamed: 0</th>\n",
       "      <th>Rating</th>\n",
       "      <th>Heading</th>\n",
       "      <th>Review</th>\n",
       "      <th>Product</th>\n",
       "    </tr>\n",
       "  </thead>\n",
       "  <tbody>\n",
       "    <tr>\n",
       "      <th>0</th>\n",
       "      <td>0</td>\n",
       "      <td>5.0</td>\n",
       "      <td>Brilliant</td>\n",
       "      <td>It's a nice budget entry level mirrorless came...</td>\n",
       "      <td>DSLR</td>\n",
       "    </tr>\n",
       "    <tr>\n",
       "      <th>1</th>\n",
       "      <td>1</td>\n",
       "      <td>4.0</td>\n",
       "      <td>Good choice for the money</td>\n",
       "      <td>For a beginner, this Camera seems to be the be...</td>\n",
       "      <td>DSLR</td>\n",
       "    </tr>\n",
       "    <tr>\n",
       "      <th>2</th>\n",
       "      <td>2</td>\n",
       "      <td>5.0</td>\n",
       "      <td>Wonderful</td>\n",
       "      <td>it's a awesome camera loved it.\\nreally underr...</td>\n",
       "      <td>DSLR</td>\n",
       "    </tr>\n",
       "    <tr>\n",
       "      <th>3</th>\n",
       "      <td>3</td>\n",
       "      <td>NaN</td>\n",
       "      <td>NaN</td>\n",
       "      <td>NaN</td>\n",
       "      <td>DSLR</td>\n",
       "    </tr>\n",
       "    <tr>\n",
       "      <th>4</th>\n",
       "      <td>4</td>\n",
       "      <td>NaN</td>\n",
       "      <td>NaN</td>\n",
       "      <td>NaN</td>\n",
       "      <td>DSLR</td>\n",
       "    </tr>\n",
       "  </tbody>\n",
       "</table>\n",
       "</div>"
      ],
      "text/plain": [
       "   Unnamed: 0  Rating                    Heading  \\\n",
       "0           0     5.0                  Brilliant   \n",
       "1           1     4.0  Good choice for the money   \n",
       "2           2     5.0                  Wonderful   \n",
       "3           3     NaN                        NaN   \n",
       "4           4     NaN                        NaN   \n",
       "\n",
       "                                              Review Product  \n",
       "0  It's a nice budget entry level mirrorless came...    DSLR  \n",
       "1  For a beginner, this Camera seems to be the be...    DSLR  \n",
       "2  it's a awesome camera loved it.\\nreally underr...    DSLR  \n",
       "3                                                NaN    DSLR  \n",
       "4                                                NaN    DSLR  "
      ]
     },
     "execution_count": 1,
     "metadata": {},
     "output_type": "execute_result"
    }
   ],
   "source": [
    "#import the dataset\n",
    "import pandas as pd\n",
    "import numpy as np\n",
    "\n",
    "import warnings\n",
    "warnings.filterwarnings('ignore')\n",
    "pd.set_option('Display.max_columns',None)\n",
    "pd.set_option('Display.max_rows',None)\n",
    "\n",
    "df=pd.read_csv(\"DSLR Rating.csv\")\n",
    "df.head()"
   ]
  },
  {
   "cell_type": "markdown",
   "id": "39ae4765",
   "metadata": {},
   "source": [
    "#### Observations:\n",
    "* The feature unnamed is index. Hence we can drop this feature."
   ]
  },
  {
   "cell_type": "code",
   "execution_count": 2,
   "id": "9c6ce781",
   "metadata": {},
   "outputs": [
    {
     "data": {
      "text/html": [
       "<div>\n",
       "<style scoped>\n",
       "    .dataframe tbody tr th:only-of-type {\n",
       "        vertical-align: middle;\n",
       "    }\n",
       "\n",
       "    .dataframe tbody tr th {\n",
       "        vertical-align: top;\n",
       "    }\n",
       "\n",
       "    .dataframe thead th {\n",
       "        text-align: right;\n",
       "    }\n",
       "</style>\n",
       "<table border=\"1\" class=\"dataframe\">\n",
       "  <thead>\n",
       "    <tr style=\"text-align: right;\">\n",
       "      <th></th>\n",
       "      <th>Rating</th>\n",
       "      <th>Heading</th>\n",
       "      <th>Review</th>\n",
       "      <th>Product</th>\n",
       "    </tr>\n",
       "  </thead>\n",
       "  <tbody>\n",
       "    <tr>\n",
       "      <th>0</th>\n",
       "      <td>5.0</td>\n",
       "      <td>Brilliant</td>\n",
       "      <td>It's a nice budget entry level mirrorless came...</td>\n",
       "      <td>DSLR</td>\n",
       "    </tr>\n",
       "    <tr>\n",
       "      <th>1</th>\n",
       "      <td>4.0</td>\n",
       "      <td>Good choice for the money</td>\n",
       "      <td>For a beginner, this Camera seems to be the be...</td>\n",
       "      <td>DSLR</td>\n",
       "    </tr>\n",
       "    <tr>\n",
       "      <th>2</th>\n",
       "      <td>5.0</td>\n",
       "      <td>Wonderful</td>\n",
       "      <td>it's a awesome camera loved it.\\nreally underr...</td>\n",
       "      <td>DSLR</td>\n",
       "    </tr>\n",
       "    <tr>\n",
       "      <th>3</th>\n",
       "      <td>NaN</td>\n",
       "      <td>NaN</td>\n",
       "      <td>NaN</td>\n",
       "      <td>DSLR</td>\n",
       "    </tr>\n",
       "    <tr>\n",
       "      <th>4</th>\n",
       "      <td>NaN</td>\n",
       "      <td>NaN</td>\n",
       "      <td>NaN</td>\n",
       "      <td>DSLR</td>\n",
       "    </tr>\n",
       "  </tbody>\n",
       "</table>\n",
       "</div>"
      ],
      "text/plain": [
       "   Rating                    Heading  \\\n",
       "0     5.0                  Brilliant   \n",
       "1     4.0  Good choice for the money   \n",
       "2     5.0                  Wonderful   \n",
       "3     NaN                        NaN   \n",
       "4     NaN                        NaN   \n",
       "\n",
       "                                              Review Product  \n",
       "0  It's a nice budget entry level mirrorless came...    DSLR  \n",
       "1  For a beginner, this Camera seems to be the be...    DSLR  \n",
       "2  it's a awesome camera loved it.\\nreally underr...    DSLR  \n",
       "3                                                NaN    DSLR  \n",
       "4                                                NaN    DSLR  "
      ]
     },
     "execution_count": 2,
     "metadata": {},
     "output_type": "execute_result"
    }
   ],
   "source": [
    "df.drop(['Unnamed: 0'], axis=1, inplace=True)\n",
    "df.head()"
   ]
  },
  {
   "cell_type": "markdown",
   "id": "b9a42f3d",
   "metadata": {},
   "source": [
    "# Exploratory Data Analysis"
   ]
  },
  {
   "cell_type": "code",
   "execution_count": 3,
   "id": "f33153fa",
   "metadata": {},
   "outputs": [
    {
     "data": {
      "text/plain": [
       "(5729, 4)"
      ]
     },
     "execution_count": 3,
     "metadata": {},
     "output_type": "execute_result"
    }
   ],
   "source": [
    "#check the dimensions of the data (Headphone)\n",
    "df.shape"
   ]
  },
  {
   "cell_type": "markdown",
   "id": "b68807ce",
   "metadata": {},
   "source": [
    "#### Observations\n",
    "* The dataset has 5729 rows and 4 columns\n",
    "* The dataset has 1 label - 'Rating' and 3 features"
   ]
  },
  {
   "cell_type": "code",
   "execution_count": 4,
   "id": "818e3c1b",
   "metadata": {},
   "outputs": [
    {
     "data": {
      "text/plain": [
       "Index(['Rating', 'Heading', 'Review', 'Product'], dtype='object')"
      ]
     },
     "execution_count": 4,
     "metadata": {},
     "output_type": "execute_result"
    }
   ],
   "source": [
    "#check the names of columns in dataset\n",
    "df.columns"
   ]
  },
  {
   "cell_type": "code",
   "execution_count": 5,
   "id": "5f1d57a3",
   "metadata": {},
   "outputs": [
    {
     "data": {
      "text/plain": [
       "Rating     float64\n",
       "Heading     object\n",
       "Review      object\n",
       "Product     object\n",
       "dtype: object"
      ]
     },
     "execution_count": 5,
     "metadata": {},
     "output_type": "execute_result"
    }
   ],
   "source": [
    "#check the datatype of each feature\n",
    "df.dtypes"
   ]
  },
  {
   "cell_type": "markdown",
   "id": "cce0e654",
   "metadata": {},
   "source": [
    "#### Observations:\n",
    "   * All the feratures are of \"object\" data type."
   ]
  },
  {
   "cell_type": "code",
   "execution_count": 6,
   "id": "85254b82",
   "metadata": {},
   "outputs": [
    {
     "data": {
      "text/plain": [
       "Rating     118\n",
       "Heading    118\n",
       "Review     118\n",
       "Product      0\n",
       "dtype: int64"
      ]
     },
     "execution_count": 6,
     "metadata": {},
     "output_type": "execute_result"
    }
   ],
   "source": [
    "#checking if there are any null values in the dataset\n",
    "df.isna().sum()"
   ]
  },
  {
   "cell_type": "code",
   "execution_count": 7,
   "id": "75eafe75",
   "metadata": {},
   "outputs": [],
   "source": [
    "#dropping all numm values\n",
    "df.dropna(inplace=True)"
   ]
  },
  {
   "cell_type": "code",
   "execution_count": 8,
   "id": "1f308939",
   "metadata": {},
   "outputs": [
    {
     "data": {
      "text/plain": [
       "Rating     0\n",
       "Heading    0\n",
       "Review     0\n",
       "Product    0\n",
       "dtype: int64"
      ]
     },
     "execution_count": 8,
     "metadata": {},
     "output_type": "execute_result"
    }
   ],
   "source": [
    "#cross checking null values\n",
    "df.isna().sum()"
   ]
  },
  {
   "cell_type": "code",
   "execution_count": 9,
   "id": "bc49f0db",
   "metadata": {},
   "outputs": [
    {
     "data": {
      "text/plain": [
       "(5611, 4)"
      ]
     },
     "execution_count": 9,
     "metadata": {},
     "output_type": "execute_result"
    }
   ],
   "source": [
    "df.shape"
   ]
  },
  {
   "cell_type": "markdown",
   "id": "c4a6242f",
   "metadata": {},
   "source": [
    "#### Observations:\n",
    "* There are 5611 rows in the dataset"
   ]
  },
  {
   "cell_type": "code",
   "execution_count": 10,
   "id": "07761194",
   "metadata": {},
   "outputs": [
    {
     "data": {
      "text/plain": [
       "5.0    3934\n",
       "4.0    1155\n",
       "3.0     252\n",
       "1.0     212\n",
       "2.0      58\n",
       "Name: Rating, dtype: int64"
      ]
     },
     "execution_count": 10,
     "metadata": {},
     "output_type": "execute_result"
    }
   ],
   "source": [
    "df['Rating'].value_counts()"
   ]
  },
  {
   "cell_type": "markdown",
   "id": "753b27ff",
   "metadata": {},
   "source": [
    "#### Observations:\n",
    "* The ratings are inbalanced. \n",
    "* Most of the ratings are 5 star."
   ]
  },
  {
   "cell_type": "code",
   "execution_count": 11,
   "id": "c662bf5f",
   "metadata": {},
   "outputs": [
    {
     "data": {
      "text/plain": [
       "Rating        5\n",
       "Heading      95\n",
       "Review     4097\n",
       "Product       1\n",
       "dtype: int64"
      ]
     },
     "execution_count": 11,
     "metadata": {},
     "output_type": "execute_result"
    }
   ],
   "source": [
    "#check number of unique values in each class;\n",
    "df.nunique()"
   ]
  },
  {
   "cell_type": "markdown",
   "id": "ba123ffa",
   "metadata": {},
   "source": [
    "#### Observations:\n",
    "* The label rating has 5 unique values: 1, 2, 3, 4, 5\n",
    "* The headings can be duplicate as it is kind of summary of the review.\n",
    "* The reviews should be unique. Hence, we will drop the duplicate reviews to avoid over-fitting."
   ]
  },
  {
   "cell_type": "code",
   "execution_count": 12,
   "id": "d45c3e1d",
   "metadata": {},
   "outputs": [],
   "source": [
    "df.drop_duplicates(subset='Review', inplace=True)"
   ]
  },
  {
   "cell_type": "code",
   "execution_count": 13,
   "id": "52aab63d",
   "metadata": {},
   "outputs": [
    {
     "name": "stdout",
     "output_type": "stream",
     "text": [
      "(4097, 4)\n",
      "Rating        5\n",
      "Heading      94\n",
      "Review     4097\n",
      "Product       1\n",
      "dtype: int64\n"
     ]
    }
   ],
   "source": [
    "#cross checking for diplicacy of reviews\n",
    "print(df.shape)\n",
    "print(df.nunique())"
   ]
  },
  {
   "cell_type": "markdown",
   "id": "7948960f",
   "metadata": {},
   "source": [
    "#### Observations:\n",
    "* We have 4097 unique reviews for laptops\n",
    "* There are only 94 unique headings in the data set.\n",
    "* If the classification is to be done based on the heading, then only unique headings must be considered.\n",
    "* In the model building stage we will classfiy from unique headings as well."
   ]
  },
  {
   "cell_type": "code",
   "execution_count": 14,
   "id": "f462e9da",
   "metadata": {},
   "outputs": [
    {
     "data": {
      "text/html": [
       "<div>\n",
       "<style scoped>\n",
       "    .dataframe tbody tr th:only-of-type {\n",
       "        vertical-align: middle;\n",
       "    }\n",
       "\n",
       "    .dataframe tbody tr th {\n",
       "        vertical-align: top;\n",
       "    }\n",
       "\n",
       "    .dataframe thead th {\n",
       "        text-align: right;\n",
       "    }\n",
       "</style>\n",
       "<table border=\"1\" class=\"dataframe\">\n",
       "  <thead>\n",
       "    <tr style=\"text-align: right;\">\n",
       "      <th></th>\n",
       "      <th>Rating</th>\n",
       "      <th>Heading</th>\n",
       "      <th>Review</th>\n",
       "      <th>Product</th>\n",
       "      <th>Review_word_counter</th>\n",
       "    </tr>\n",
       "  </thead>\n",
       "  <tbody>\n",
       "    <tr>\n",
       "      <th>0</th>\n",
       "      <td>5.0</td>\n",
       "      <td>Brilliant</td>\n",
       "      <td>It's a nice budget entry level mirrorless came...</td>\n",
       "      <td>DSLR</td>\n",
       "      <td>433</td>\n",
       "    </tr>\n",
       "    <tr>\n",
       "      <th>1</th>\n",
       "      <td>4.0</td>\n",
       "      <td>Good choice for the money</td>\n",
       "      <td>For a beginner, this Camera seems to be the be...</td>\n",
       "      <td>DSLR</td>\n",
       "      <td>508</td>\n",
       "    </tr>\n",
       "    <tr>\n",
       "      <th>2</th>\n",
       "      <td>5.0</td>\n",
       "      <td>Wonderful</td>\n",
       "      <td>it's a awesome camera loved it.\\nreally underr...</td>\n",
       "      <td>DSLR</td>\n",
       "      <td>346</td>\n",
       "    </tr>\n",
       "    <tr>\n",
       "      <th>13</th>\n",
       "      <td>5.0</td>\n",
       "      <td>Best in the market!</td>\n",
       "      <td>People who ever plan to progress from novice t...</td>\n",
       "      <td>DSLR</td>\n",
       "      <td>183</td>\n",
       "    </tr>\n",
       "    <tr>\n",
       "      <th>14</th>\n",
       "      <td>4.0</td>\n",
       "      <td>Good choice</td>\n",
       "      <td>Good Product. Great build. Decent battery life...</td>\n",
       "      <td>DSLR</td>\n",
       "      <td>82</td>\n",
       "    </tr>\n",
       "  </tbody>\n",
       "</table>\n",
       "</div>"
      ],
      "text/plain": [
       "    Rating                    Heading  \\\n",
       "0      5.0                  Brilliant   \n",
       "1      4.0  Good choice for the money   \n",
       "2      5.0                  Wonderful   \n",
       "13     5.0        Best in the market!   \n",
       "14     4.0                Good choice   \n",
       "\n",
       "                                               Review Product  \\\n",
       "0   It's a nice budget entry level mirrorless came...    DSLR   \n",
       "1   For a beginner, this Camera seems to be the be...    DSLR   \n",
       "2   it's a awesome camera loved it.\\nreally underr...    DSLR   \n",
       "13  People who ever plan to progress from novice t...    DSLR   \n",
       "14  Good Product. Great build. Decent battery life...    DSLR   \n",
       "\n",
       "    Review_word_counter  \n",
       "0                   433  \n",
       "1                   508  \n",
       "2                   346  \n",
       "13                  183  \n",
       "14                   82  "
      ]
     },
     "execution_count": 14,
     "metadata": {},
     "output_type": "execute_result"
    }
   ],
   "source": [
    "#checking the length of review\n",
    "df['Review_word_counter']=df['Review'].str.strip().str.len()\n",
    "df.head()"
   ]
  },
  {
   "cell_type": "code",
   "execution_count": 15,
   "id": "14bd408a",
   "metadata": {},
   "outputs": [],
   "source": [
    "from sklearn.utils import shuffle\n",
    "df=shuffle(df)\n",
    "df.reset_index(inplace=True,drop=True)"
   ]
  },
  {
   "cell_type": "code",
   "execution_count": 16,
   "id": "671b2f8e",
   "metadata": {},
   "outputs": [
    {
     "data": {
      "text/html": [
       "<div>\n",
       "<style scoped>\n",
       "    .dataframe tbody tr th:only-of-type {\n",
       "        vertical-align: middle;\n",
       "    }\n",
       "\n",
       "    .dataframe tbody tr th {\n",
       "        vertical-align: top;\n",
       "    }\n",
       "\n",
       "    .dataframe thead th {\n",
       "        text-align: right;\n",
       "    }\n",
       "</style>\n",
       "<table border=\"1\" class=\"dataframe\">\n",
       "  <thead>\n",
       "    <tr style=\"text-align: right;\">\n",
       "      <th></th>\n",
       "      <th>Rating</th>\n",
       "      <th>Heading</th>\n",
       "      <th>Review</th>\n",
       "      <th>Product</th>\n",
       "      <th>Review_word_counter</th>\n",
       "    </tr>\n",
       "  </thead>\n",
       "  <tbody>\n",
       "    <tr>\n",
       "      <th>0</th>\n",
       "      <td>5.0</td>\n",
       "      <td>Brilliant</td>\n",
       "      <td>Very nice.. Packed intact.. Gud one fr beginner</td>\n",
       "      <td>DSLR</td>\n",
       "      <td>47</td>\n",
       "    </tr>\n",
       "    <tr>\n",
       "      <th>1</th>\n",
       "      <td>4.0</td>\n",
       "      <td>Nice product</td>\n",
       "      <td>it is a great cam to start photography</td>\n",
       "      <td>DSLR</td>\n",
       "      <td>38</td>\n",
       "    </tr>\n",
       "    <tr>\n",
       "      <th>2</th>\n",
       "      <td>5.0</td>\n",
       "      <td>Must buy!</td>\n",
       "      <td>one of the best camera to learn photography</td>\n",
       "      <td>DSLR</td>\n",
       "      <td>43</td>\n",
       "    </tr>\n",
       "    <tr>\n",
       "      <th>3</th>\n",
       "      <td>5.0</td>\n",
       "      <td>Mind-blowing purchase</td>\n",
       "      <td>very nice for product photography</td>\n",
       "      <td>DSLR</td>\n",
       "      <td>33</td>\n",
       "    </tr>\n",
       "    <tr>\n",
       "      <th>4</th>\n",
       "      <td>4.0</td>\n",
       "      <td>Good choice</td>\n",
       "      <td>Canon shoud be provide sd card. Other wise iam...</td>\n",
       "      <td>DSLR</td>\n",
       "      <td>74</td>\n",
       "    </tr>\n",
       "  </tbody>\n",
       "</table>\n",
       "</div>"
      ],
      "text/plain": [
       "   Rating                Heading  \\\n",
       "0     5.0              Brilliant   \n",
       "1     4.0           Nice product   \n",
       "2     5.0              Must buy!   \n",
       "3     5.0  Mind-blowing purchase   \n",
       "4     4.0            Good choice   \n",
       "\n",
       "                                              Review Product  \\\n",
       "0    Very nice.. Packed intact.. Gud one fr beginner    DSLR   \n",
       "1             it is a great cam to start photography    DSLR   \n",
       "2        one of the best camera to learn photography    DSLR   \n",
       "3                  very nice for product photography    DSLR   \n",
       "4  Canon shoud be provide sd card. Other wise iam...    DSLR   \n",
       "\n",
       "   Review_word_counter  \n",
       "0                   47  \n",
       "1                   38  \n",
       "2                   43  \n",
       "3                   33  \n",
       "4                   74  "
      ]
     },
     "execution_count": 16,
     "metadata": {},
     "output_type": "execute_result"
    }
   ],
   "source": [
    "df.head()"
   ]
  },
  {
   "cell_type": "markdown",
   "id": "4682a746",
   "metadata": {},
   "source": [
    "### Exploratory Data Analysis"
   ]
  },
  {
   "cell_type": "code",
   "execution_count": 17,
   "id": "0ab29561",
   "metadata": {},
   "outputs": [
    {
     "data": {
      "text/plain": [
       "(4097, 5)"
      ]
     },
     "execution_count": 17,
     "metadata": {},
     "output_type": "execute_result"
    }
   ],
   "source": [
    "#check the dimensions of the data\n",
    "df.shape"
   ]
  },
  {
   "cell_type": "markdown",
   "id": "11c8d2c5",
   "metadata": {},
   "source": [
    "#### Observtions:\n",
    "* The dataset has 4097 rows and 4 columns"
   ]
  },
  {
   "cell_type": "code",
   "execution_count": 18,
   "id": "6c2d41b8",
   "metadata": {},
   "outputs": [
    {
     "data": {
      "text/plain": [
       "Index(['Rating', 'Heading', 'Review', 'Product', 'Review_word_counter'], dtype='object')"
      ]
     },
     "execution_count": 18,
     "metadata": {},
     "output_type": "execute_result"
    }
   ],
   "source": [
    "#check the names of columns in dataset\n",
    "df.columns"
   ]
  },
  {
   "cell_type": "code",
   "execution_count": 19,
   "id": "f8dd2aac",
   "metadata": {},
   "outputs": [
    {
     "data": {
      "text/plain": [
       "Rating                 float64\n",
       "Heading                 object\n",
       "Review                  object\n",
       "Product                 object\n",
       "Review_word_counter      int64\n",
       "dtype: object"
      ]
     },
     "execution_count": 19,
     "metadata": {},
     "output_type": "execute_result"
    }
   ],
   "source": [
    "#check the datatype of each feature\n",
    "df.dtypes"
   ]
  },
  {
   "cell_type": "markdown",
   "id": "c8907234",
   "metadata": {},
   "source": [
    "#### Observations:\n",
    "   * There are three columns with \"object\" data type they are \"Heading\", \"Review\" and \"Product\".\n",
    "   * There is one column (label) with float data type."
   ]
  },
  {
   "cell_type": "code",
   "execution_count": 20,
   "id": "7da6439f",
   "metadata": {},
   "outputs": [
    {
     "data": {
      "text/plain": [
       "Rating                 0\n",
       "Heading                0\n",
       "Review                 0\n",
       "Product                0\n",
       "Review_word_counter    0\n",
       "dtype: int64"
      ]
     },
     "execution_count": 20,
     "metadata": {},
     "output_type": "execute_result"
    }
   ],
   "source": [
    "#checking if there are any null values in the dataset\n",
    "df.isnull().sum()"
   ]
  },
  {
   "cell_type": "markdown",
   "id": "85fbf7c1",
   "metadata": {},
   "source": [
    "#### Observations:\n",
    "   * There are no null values in the entire dataset"
   ]
  },
  {
   "cell_type": "code",
   "execution_count": 21,
   "id": "f6d86097",
   "metadata": {},
   "outputs": [
    {
     "data": {
      "text/plain": [
       "5.0    2840\n",
       "4.0     806\n",
       "3.0     204\n",
       "1.0     194\n",
       "2.0      53\n",
       "Name: Rating, dtype: int64"
      ]
     },
     "execution_count": 21,
     "metadata": {},
     "output_type": "execute_result"
    }
   ],
   "source": [
    "df['Rating'].value_counts()"
   ]
  },
  {
   "cell_type": "markdown",
   "id": "3286e46c",
   "metadata": {},
   "source": [
    "#### Observations:\n",
    "* There are more number of 5 star rated reviews.\n",
    "* There are very less number of 2 star rated reviews.\n",
    "* The data set is not perfectly balanced."
   ]
  },
  {
   "cell_type": "code",
   "execution_count": 22,
   "id": "1c271eee",
   "metadata": {},
   "outputs": [],
   "source": [
    "#Separation of rating as different labels.\n",
    "df['1 Star']=df.apply(lambda x: 1 if x['Rating']==1 else 0, axis=1)\n",
    "df['2 Star']=df.apply(lambda x: 1 if x['Rating']==2 else 0, axis=1)\n",
    "df['3 Star']=df.apply(lambda x: 1 if x['Rating']==3 else 0, axis=1)\n",
    "df['4 Star']=df.apply(lambda x: 1 if x['Rating']==4 else 0, axis=1)\n",
    "df['5 Star']=df.apply(lambda x: 1 if x['Rating']==5 else 0, axis=1)"
   ]
  },
  {
   "cell_type": "code",
   "execution_count": 23,
   "id": "7c10e84e",
   "metadata": {},
   "outputs": [
    {
     "data": {
      "text/html": [
       "<div>\n",
       "<style scoped>\n",
       "    .dataframe tbody tr th:only-of-type {\n",
       "        vertical-align: middle;\n",
       "    }\n",
       "\n",
       "    .dataframe tbody tr th {\n",
       "        vertical-align: top;\n",
       "    }\n",
       "\n",
       "    .dataframe thead th {\n",
       "        text-align: right;\n",
       "    }\n",
       "</style>\n",
       "<table border=\"1\" class=\"dataframe\">\n",
       "  <thead>\n",
       "    <tr style=\"text-align: right;\">\n",
       "      <th></th>\n",
       "      <th>Rating</th>\n",
       "      <th>Heading</th>\n",
       "      <th>Review</th>\n",
       "      <th>Product</th>\n",
       "      <th>Review_word_counter</th>\n",
       "      <th>1 Star</th>\n",
       "      <th>2 Star</th>\n",
       "      <th>3 Star</th>\n",
       "      <th>4 Star</th>\n",
       "      <th>5 Star</th>\n",
       "    </tr>\n",
       "  </thead>\n",
       "  <tbody>\n",
       "    <tr>\n",
       "      <th>0</th>\n",
       "      <td>5.0</td>\n",
       "      <td>Brilliant</td>\n",
       "      <td>Very nice.. Packed intact.. Gud one fr beginner</td>\n",
       "      <td>DSLR</td>\n",
       "      <td>47</td>\n",
       "      <td>0</td>\n",
       "      <td>0</td>\n",
       "      <td>0</td>\n",
       "      <td>0</td>\n",
       "      <td>1</td>\n",
       "    </tr>\n",
       "    <tr>\n",
       "      <th>1</th>\n",
       "      <td>4.0</td>\n",
       "      <td>Nice product</td>\n",
       "      <td>it is a great cam to start photography</td>\n",
       "      <td>DSLR</td>\n",
       "      <td>38</td>\n",
       "      <td>0</td>\n",
       "      <td>0</td>\n",
       "      <td>0</td>\n",
       "      <td>1</td>\n",
       "      <td>0</td>\n",
       "    </tr>\n",
       "    <tr>\n",
       "      <th>2</th>\n",
       "      <td>5.0</td>\n",
       "      <td>Must buy!</td>\n",
       "      <td>one of the best camera to learn photography</td>\n",
       "      <td>DSLR</td>\n",
       "      <td>43</td>\n",
       "      <td>0</td>\n",
       "      <td>0</td>\n",
       "      <td>0</td>\n",
       "      <td>0</td>\n",
       "      <td>1</td>\n",
       "    </tr>\n",
       "    <tr>\n",
       "      <th>3</th>\n",
       "      <td>5.0</td>\n",
       "      <td>Mind-blowing purchase</td>\n",
       "      <td>very nice for product photography</td>\n",
       "      <td>DSLR</td>\n",
       "      <td>33</td>\n",
       "      <td>0</td>\n",
       "      <td>0</td>\n",
       "      <td>0</td>\n",
       "      <td>0</td>\n",
       "      <td>1</td>\n",
       "    </tr>\n",
       "    <tr>\n",
       "      <th>4</th>\n",
       "      <td>4.0</td>\n",
       "      <td>Good choice</td>\n",
       "      <td>Canon shoud be provide sd card. Other wise iam...</td>\n",
       "      <td>DSLR</td>\n",
       "      <td>74</td>\n",
       "      <td>0</td>\n",
       "      <td>0</td>\n",
       "      <td>0</td>\n",
       "      <td>1</td>\n",
       "      <td>0</td>\n",
       "    </tr>\n",
       "    <tr>\n",
       "      <th>5</th>\n",
       "      <td>4.0</td>\n",
       "      <td>Worth the money</td>\n",
       "      <td>best Product</td>\n",
       "      <td>DSLR</td>\n",
       "      <td>12</td>\n",
       "      <td>0</td>\n",
       "      <td>0</td>\n",
       "      <td>0</td>\n",
       "      <td>1</td>\n",
       "      <td>0</td>\n",
       "    </tr>\n",
       "    <tr>\n",
       "      <th>6</th>\n",
       "      <td>5.0</td>\n",
       "      <td>Simply awesome</td>\n",
       "      <td>Best DSLR in this price👌🏻👌🏻</td>\n",
       "      <td>DSLR</td>\n",
       "      <td>27</td>\n",
       "      <td>0</td>\n",
       "      <td>0</td>\n",
       "      <td>0</td>\n",
       "      <td>0</td>\n",
       "      <td>1</td>\n",
       "    </tr>\n",
       "    <tr>\n",
       "      <th>7</th>\n",
       "      <td>5.0</td>\n",
       "      <td>Great product</td>\n",
       "      <td>Awesome product best for first users i love it</td>\n",
       "      <td>DSLR</td>\n",
       "      <td>46</td>\n",
       "      <td>0</td>\n",
       "      <td>0</td>\n",
       "      <td>0</td>\n",
       "      <td>0</td>\n",
       "      <td>1</td>\n",
       "    </tr>\n",
       "    <tr>\n",
       "      <th>8</th>\n",
       "      <td>5.0</td>\n",
       "      <td>Best in the market!</td>\n",
       "      <td>Nice Product</td>\n",
       "      <td>DSLR</td>\n",
       "      <td>12</td>\n",
       "      <td>0</td>\n",
       "      <td>0</td>\n",
       "      <td>0</td>\n",
       "      <td>0</td>\n",
       "      <td>1</td>\n",
       "    </tr>\n",
       "    <tr>\n",
       "      <th>9</th>\n",
       "      <td>4.0</td>\n",
       "      <td>Pretty good</td>\n",
       "      <td>osm Nice Camera</td>\n",
       "      <td>DSLR</td>\n",
       "      <td>15</td>\n",
       "      <td>0</td>\n",
       "      <td>0</td>\n",
       "      <td>0</td>\n",
       "      <td>1</td>\n",
       "      <td>0</td>\n",
       "    </tr>\n",
       "    <tr>\n",
       "      <th>10</th>\n",
       "      <td>5.0</td>\n",
       "      <td>Best in the market!</td>\n",
       "      <td>very nice camera osm image... value of money.....</td>\n",
       "      <td>DSLR</td>\n",
       "      <td>69</td>\n",
       "      <td>0</td>\n",
       "      <td>0</td>\n",
       "      <td>0</td>\n",
       "      <td>0</td>\n",
       "      <td>1</td>\n",
       "    </tr>\n",
       "    <tr>\n",
       "      <th>11</th>\n",
       "      <td>5.0</td>\n",
       "      <td>Worth every penny</td>\n",
       "      <td>Image quality is best 👍</td>\n",
       "      <td>DSLR</td>\n",
       "      <td>23</td>\n",
       "      <td>0</td>\n",
       "      <td>0</td>\n",
       "      <td>0</td>\n",
       "      <td>0</td>\n",
       "      <td>1</td>\n",
       "    </tr>\n",
       "    <tr>\n",
       "      <th>12</th>\n",
       "      <td>5.0</td>\n",
       "      <td>Great product</td>\n",
       "      <td>It's very nice camera</td>\n",
       "      <td>DSLR</td>\n",
       "      <td>21</td>\n",
       "      <td>0</td>\n",
       "      <td>0</td>\n",
       "      <td>0</td>\n",
       "      <td>0</td>\n",
       "      <td>1</td>\n",
       "    </tr>\n",
       "    <tr>\n",
       "      <th>13</th>\n",
       "      <td>5.0</td>\n",
       "      <td>Excellent</td>\n",
       "      <td>best Dslr for the beginners. and under best bu...</td>\n",
       "      <td>DSLR</td>\n",
       "      <td>51</td>\n",
       "      <td>0</td>\n",
       "      <td>0</td>\n",
       "      <td>0</td>\n",
       "      <td>0</td>\n",
       "      <td>1</td>\n",
       "    </tr>\n",
       "    <tr>\n",
       "      <th>14</th>\n",
       "      <td>5.0</td>\n",
       "      <td>Excellent</td>\n",
       "      <td>good camra</td>\n",
       "      <td>DSLR</td>\n",
       "      <td>10</td>\n",
       "      <td>0</td>\n",
       "      <td>0</td>\n",
       "      <td>0</td>\n",
       "      <td>0</td>\n",
       "      <td>1</td>\n",
       "    </tr>\n",
       "    <tr>\n",
       "      <th>15</th>\n",
       "      <td>3.0</td>\n",
       "      <td>Fair</td>\n",
       "      <td>ITS OK</td>\n",
       "      <td>DSLR</td>\n",
       "      <td>6</td>\n",
       "      <td>0</td>\n",
       "      <td>0</td>\n",
       "      <td>1</td>\n",
       "      <td>0</td>\n",
       "      <td>0</td>\n",
       "    </tr>\n",
       "    <tr>\n",
       "      <th>16</th>\n",
       "      <td>4.0</td>\n",
       "      <td>Value-for-money</td>\n",
       "      <td>Good start for beginners!!</td>\n",
       "      <td>DSLR</td>\n",
       "      <td>26</td>\n",
       "      <td>0</td>\n",
       "      <td>0</td>\n",
       "      <td>0</td>\n",
       "      <td>1</td>\n",
       "      <td>0</td>\n",
       "    </tr>\n",
       "    <tr>\n",
       "      <th>17</th>\n",
       "      <td>4.0</td>\n",
       "      <td>Very Good</td>\n",
       "      <td>Great buy at below 25k range for beginners.\\n\\...</td>\n",
       "      <td>DSLR</td>\n",
       "      <td>76</td>\n",
       "      <td>0</td>\n",
       "      <td>0</td>\n",
       "      <td>0</td>\n",
       "      <td>1</td>\n",
       "      <td>0</td>\n",
       "    </tr>\n",
       "    <tr>\n",
       "      <th>18</th>\n",
       "      <td>5.0</td>\n",
       "      <td>Must buy!</td>\n",
       "      <td>i gifted my husband he loved it...its just aws...</td>\n",
       "      <td>DSLR</td>\n",
       "      <td>96</td>\n",
       "      <td>0</td>\n",
       "      <td>0</td>\n",
       "      <td>0</td>\n",
       "      <td>0</td>\n",
       "      <td>1</td>\n",
       "    </tr>\n",
       "    <tr>\n",
       "      <th>19</th>\n",
       "      <td>5.0</td>\n",
       "      <td>Terrific purchase</td>\n",
       "      <td>Nice Camera, got at 30k. Thanks Flipkart.</td>\n",
       "      <td>DSLR</td>\n",
       "      <td>41</td>\n",
       "      <td>0</td>\n",
       "      <td>0</td>\n",
       "      <td>0</td>\n",
       "      <td>0</td>\n",
       "      <td>1</td>\n",
       "    </tr>\n",
       "  </tbody>\n",
       "</table>\n",
       "</div>"
      ],
      "text/plain": [
       "    Rating                Heading  \\\n",
       "0      5.0              Brilliant   \n",
       "1      4.0           Nice product   \n",
       "2      5.0              Must buy!   \n",
       "3      5.0  Mind-blowing purchase   \n",
       "4      4.0            Good choice   \n",
       "5      4.0        Worth the money   \n",
       "6      5.0         Simply awesome   \n",
       "7      5.0          Great product   \n",
       "8      5.0    Best in the market!   \n",
       "9      4.0            Pretty good   \n",
       "10     5.0    Best in the market!   \n",
       "11     5.0      Worth every penny   \n",
       "12     5.0          Great product   \n",
       "13     5.0              Excellent   \n",
       "14     5.0              Excellent   \n",
       "15     3.0                   Fair   \n",
       "16     4.0        Value-for-money   \n",
       "17     4.0              Very Good   \n",
       "18     5.0              Must buy!   \n",
       "19     5.0      Terrific purchase   \n",
       "\n",
       "                                               Review Product  \\\n",
       "0     Very nice.. Packed intact.. Gud one fr beginner    DSLR   \n",
       "1              it is a great cam to start photography    DSLR   \n",
       "2         one of the best camera to learn photography    DSLR   \n",
       "3                   very nice for product photography    DSLR   \n",
       "4   Canon shoud be provide sd card. Other wise iam...    DSLR   \n",
       "5                                        best Product    DSLR   \n",
       "6                         Best DSLR in this price👌🏻👌🏻    DSLR   \n",
       "7      Awesome product best for first users i love it    DSLR   \n",
       "8                                        Nice Product    DSLR   \n",
       "9                                     osm Nice Camera    DSLR   \n",
       "10  very nice camera osm image... value of money.....    DSLR   \n",
       "11                            Image quality is best 👍    DSLR   \n",
       "12                              It's very nice camera    DSLR   \n",
       "13  best Dslr for the beginners. and under best bu...    DSLR   \n",
       "14                                         good camra    DSLR   \n",
       "15                                             ITS OK    DSLR   \n",
       "16                         Good start for beginners!!    DSLR   \n",
       "17  Great buy at below 25k range for beginners.\\n\\...    DSLR   \n",
       "18  i gifted my husband he loved it...its just aws...    DSLR   \n",
       "19          Nice Camera, got at 30k. Thanks Flipkart.    DSLR   \n",
       "\n",
       "    Review_word_counter  1 Star  2 Star  3 Star  4 Star  5 Star  \n",
       "0                    47       0       0       0       0       1  \n",
       "1                    38       0       0       0       1       0  \n",
       "2                    43       0       0       0       0       1  \n",
       "3                    33       0       0       0       0       1  \n",
       "4                    74       0       0       0       1       0  \n",
       "5                    12       0       0       0       1       0  \n",
       "6                    27       0       0       0       0       1  \n",
       "7                    46       0       0       0       0       1  \n",
       "8                    12       0       0       0       0       1  \n",
       "9                    15       0       0       0       1       0  \n",
       "10                   69       0       0       0       0       1  \n",
       "11                   23       0       0       0       0       1  \n",
       "12                   21       0       0       0       0       1  \n",
       "13                   51       0       0       0       0       1  \n",
       "14                   10       0       0       0       0       1  \n",
       "15                    6       0       0       1       0       0  \n",
       "16                   26       0       0       0       1       0  \n",
       "17                   76       0       0       0       1       0  \n",
       "18                   96       0       0       0       0       1  \n",
       "19                   41       0       0       0       0       1  "
      ]
     },
     "execution_count": 23,
     "metadata": {},
     "output_type": "execute_result"
    }
   ],
   "source": [
    "df.head(20)"
   ]
  },
  {
   "cell_type": "code",
   "execution_count": 24,
   "id": "54521371",
   "metadata": {},
   "outputs": [],
   "source": [
    "df.drop(['Rating'], axis=1, inplace= True)"
   ]
  },
  {
   "cell_type": "code",
   "execution_count": 25,
   "id": "12822ed8",
   "metadata": {},
   "outputs": [
    {
     "data": {
      "text/html": [
       "<div>\n",
       "<style scoped>\n",
       "    .dataframe tbody tr th:only-of-type {\n",
       "        vertical-align: middle;\n",
       "    }\n",
       "\n",
       "    .dataframe tbody tr th {\n",
       "        vertical-align: top;\n",
       "    }\n",
       "\n",
       "    .dataframe thead th {\n",
       "        text-align: right;\n",
       "    }\n",
       "</style>\n",
       "<table border=\"1\" class=\"dataframe\">\n",
       "  <thead>\n",
       "    <tr style=\"text-align: right;\">\n",
       "      <th></th>\n",
       "      <th>Review_word_counter</th>\n",
       "      <th>1 Star</th>\n",
       "      <th>2 Star</th>\n",
       "      <th>3 Star</th>\n",
       "      <th>4 Star</th>\n",
       "      <th>5 Star</th>\n",
       "    </tr>\n",
       "  </thead>\n",
       "  <tbody>\n",
       "    <tr>\n",
       "      <th>count</th>\n",
       "      <td>4097.000000</td>\n",
       "      <td>4097.000000</td>\n",
       "      <td>4097.000000</td>\n",
       "      <td>4097.000000</td>\n",
       "      <td>4097.000000</td>\n",
       "      <td>4097.000000</td>\n",
       "    </tr>\n",
       "    <tr>\n",
       "      <th>mean</th>\n",
       "      <td>58.807664</td>\n",
       "      <td>0.047352</td>\n",
       "      <td>0.012936</td>\n",
       "      <td>0.049793</td>\n",
       "      <td>0.196729</td>\n",
       "      <td>0.693190</td>\n",
       "    </tr>\n",
       "    <tr>\n",
       "      <th>std</th>\n",
       "      <td>74.951935</td>\n",
       "      <td>0.212416</td>\n",
       "      <td>0.113014</td>\n",
       "      <td>0.217543</td>\n",
       "      <td>0.397574</td>\n",
       "      <td>0.461226</td>\n",
       "    </tr>\n",
       "    <tr>\n",
       "      <th>min</th>\n",
       "      <td>2.000000</td>\n",
       "      <td>0.000000</td>\n",
       "      <td>0.000000</td>\n",
       "      <td>0.000000</td>\n",
       "      <td>0.000000</td>\n",
       "      <td>0.000000</td>\n",
       "    </tr>\n",
       "    <tr>\n",
       "      <th>25%</th>\n",
       "      <td>18.000000</td>\n",
       "      <td>0.000000</td>\n",
       "      <td>0.000000</td>\n",
       "      <td>0.000000</td>\n",
       "      <td>0.000000</td>\n",
       "      <td>0.000000</td>\n",
       "    </tr>\n",
       "    <tr>\n",
       "      <th>50%</th>\n",
       "      <td>33.000000</td>\n",
       "      <td>0.000000</td>\n",
       "      <td>0.000000</td>\n",
       "      <td>0.000000</td>\n",
       "      <td>0.000000</td>\n",
       "      <td>1.000000</td>\n",
       "    </tr>\n",
       "    <tr>\n",
       "      <th>75%</th>\n",
       "      <td>66.000000</td>\n",
       "      <td>0.000000</td>\n",
       "      <td>0.000000</td>\n",
       "      <td>0.000000</td>\n",
       "      <td>0.000000</td>\n",
       "      <td>1.000000</td>\n",
       "    </tr>\n",
       "    <tr>\n",
       "      <th>max</th>\n",
       "      <td>510.000000</td>\n",
       "      <td>1.000000</td>\n",
       "      <td>1.000000</td>\n",
       "      <td>1.000000</td>\n",
       "      <td>1.000000</td>\n",
       "      <td>1.000000</td>\n",
       "    </tr>\n",
       "  </tbody>\n",
       "</table>\n",
       "</div>"
      ],
      "text/plain": [
       "       Review_word_counter       1 Star       2 Star       3 Star  \\\n",
       "count          4097.000000  4097.000000  4097.000000  4097.000000   \n",
       "mean             58.807664     0.047352     0.012936     0.049793   \n",
       "std              74.951935     0.212416     0.113014     0.217543   \n",
       "min               2.000000     0.000000     0.000000     0.000000   \n",
       "25%              18.000000     0.000000     0.000000     0.000000   \n",
       "50%              33.000000     0.000000     0.000000     0.000000   \n",
       "75%              66.000000     0.000000     0.000000     0.000000   \n",
       "max             510.000000     1.000000     1.000000     1.000000   \n",
       "\n",
       "            4 Star       5 Star  \n",
       "count  4097.000000  4097.000000  \n",
       "mean      0.196729     0.693190  \n",
       "std       0.397574     0.461226  \n",
       "min       0.000000     0.000000  \n",
       "25%       0.000000     0.000000  \n",
       "50%       0.000000     1.000000  \n",
       "75%       0.000000     1.000000  \n",
       "max       1.000000     1.000000  "
      ]
     },
     "execution_count": 25,
     "metadata": {},
     "output_type": "execute_result"
    }
   ],
   "source": [
    "#statistical analysis\n",
    "df.describe()"
   ]
  },
  {
   "cell_type": "markdown",
   "id": "1581eb87",
   "metadata": {},
   "source": [
    "#### Observations\n",
    " * For all the labels the minimum value is zero and maximum is 1. As there are only binary classes deviations cannot be studied"
   ]
  },
  {
   "cell_type": "code",
   "execution_count": 26,
   "id": "3a8d473f",
   "metadata": {},
   "outputs": [
    {
     "data": {
      "text/plain": [
       "Review_word_counter    3.322398\n",
       "1 Star                 4.263986\n",
       "2 Star                 8.623772\n",
       "3 Star                 4.141049\n",
       "4 Star                 1.526349\n",
       "5 Star                -0.838133\n",
       "dtype: float64"
      ]
     },
     "execution_count": 26,
     "metadata": {},
     "output_type": "execute_result"
    }
   ],
   "source": [
    "#checking the skewness\n",
    "df.skew()"
   ]
  },
  {
   "cell_type": "markdown",
   "id": "4dc29713",
   "metadata": {},
   "source": [
    "#### observations\n",
    "* The highest skewness is seen in 2 Star rating"
   ]
  },
  {
   "cell_type": "markdown",
   "id": "56ad0d86",
   "metadata": {},
   "source": [
    "# Visualizations"
   ]
  },
  {
   "cell_type": "code",
   "execution_count": 27,
   "id": "1e6c6189",
   "metadata": {},
   "outputs": [],
   "source": [
    "#import libraries required for visualizations\n",
    "import seaborn as sns\n",
    "import matplotlib.pyplot as plt\n",
    "import warnings\n",
    "warnings.filterwarnings(\"ignore\")"
   ]
  },
  {
   "cell_type": "code",
   "execution_count": 28,
   "id": "ab6a3367",
   "metadata": {},
   "outputs": [
    {
     "name": "stdout",
     "output_type": "stream",
     "text": [
      "average length of review: 58.8\n"
     ]
    },
    {
     "data": {
      "image/png": "[encoded data removed]",
      "text/plain": [
       "<Figure size 432x288 with 1 Axes>"
      ]
     },
     "metadata": {
      "needs_background": "light"
     },
     "output_type": "display_data"
    }
   ],
   "source": [
    "#plotting the average length of reviews\n",
    "review=df[\"Review\"]\n",
    "x = [len(review[i]) for i in range(review.shape[0])]\n",
    "\n",
    "print('average length of review: {:.1f}'.format(sum(x)/len(x)) )\n",
    "bins = [1,200,400,600,800,1000]\n",
    "plt.hist(x, bins=bins)\n",
    "plt.xlabel('Length of Review')\n",
    "plt.ylabel('Number of Review')       \n",
    "plt.grid(True)\n",
    "plt.show()"
   ]
  },
  {
   "cell_type": "markdown",
   "id": "be9389eb",
   "metadata": {},
   "source": [
    "#### Observations:\n",
    "* The average length of review is 58.\n",
    "* Maximum number of reviews had less than 200 words.\n",
    "* There were no reviews with more than 600 words.\n",
    "* Comments with 200 and above words were less."
   ]
  },
  {
   "cell_type": "code",
   "execution_count": 29,
   "id": "f109ccce",
   "metadata": {},
   "outputs": [
    {
     "data": {
      "image/png": "[encoded data removed]",
      "text/plain": [
       "<Figure size 1080x720 with 6 Axes>"
      ]
     },
     "metadata": {
      "needs_background": "light"
     },
     "output_type": "display_data"
    }
   ],
   "source": [
    "#let us plot countplot of each feature\n",
    "a = 3  # number of rows\n",
    "b = 3  # number of columns\n",
    "c = 1  # initialize plot counter\n",
    "\n",
    "fig = plt.figure(figsize=(15,10))\n",
    "for cols in df.columns:\n",
    "    if df[cols].dtypes=='int64':\n",
    "        plt.subplot(a, b, c)\n",
    "        plt.title('{}'.format(cols),weight='bold')\n",
    "        sns.countplot(df[cols],palette='nipy_spectral')\n",
    "        plt.xticks(rotation=360)\n",
    "        c = c + 1\n",
    "        plt.tight_layout()\n",
    "        plt.ylabel(\"Count\")\n",
    "plt.show()"
   ]
  },
  {
   "cell_type": "markdown",
   "id": "4395ba0c",
   "metadata": {},
   "source": [
    "#### Obseravtions:\n",
    "   * More than 50% of the review are rated 5 star.\n",
    "   * 2 star rated reviews are least in number"
   ]
  },
  {
   "cell_type": "code",
   "execution_count": 30,
   "id": "60c2ee55",
   "metadata": {},
   "outputs": [
    {
     "name": "stdout",
     "output_type": "stream",
     "text": [
      "['Heading', 'Review', 'Product', 'Review_word_counter', '1 Star', '2 Star', '3 Star', '4 Star', '5 Star']\n"
     ]
    }
   ],
   "source": [
    "print(list(df.columns.values))"
   ]
  },
  {
   "cell_type": "code",
   "execution_count": 31,
   "id": "b7693d3f",
   "metadata": {},
   "outputs": [
    {
     "name": "stdout",
     "output_type": "stream",
     "text": [
      "['1 Star', '2 Star', '3 Star', '4 Star', '5 Star']\n"
     ]
    }
   ],
   "source": [
    "#make a list of columns\n",
    "categories = list(df.columns.values)\n",
    "categories = categories[4:]\n",
    "print(categories)"
   ]
  },
  {
   "cell_type": "code",
   "execution_count": 32,
   "id": "1fd22831",
   "metadata": {},
   "outputs": [
    {
     "data": {
      "image/png": "[encoded data removed]",
      "text/plain": [
       "<Figure size 432x288 with 1 Axes>"
      ]
     },
     "metadata": {},
     "output_type": "display_data"
    }
   ],
   "source": [
    "#distribution plot of each type of review\n",
    "colors=['#cc99ff','#ff9999','#ffff33','#99ff33','#80ffdf'] \n",
    "df_distribution = df[categories].sum()\n",
    "\n",
    "df_distribution.plot.pie(y='count',autopct='%1.1f%%',colors=colors)\\\n",
    "                            .legend(loc='center left', bbox_to_anchor=(1.3, 0.5))\n",
    "plt.ylabel(\"\")\n",
    "plt.title(\"Distribution of Review for DSLR\",fontweight='bold')\n",
    "plt.tight_layout()\n",
    "plt.show()"
   ]
  },
  {
   "cell_type": "markdown",
   "id": "253c9abb",
   "metadata": {},
   "source": [
    "#### Observations:\n",
    "* 5 Star rating had the highest share of 69.3%, followed by 4 star with 19.7%.\n",
    "* 2 Star rating has least share with 1.3%"
   ]
  },
  {
   "cell_type": "code",
   "execution_count": 33,
   "id": "06f6e926",
   "metadata": {},
   "outputs": [
    {
     "data": {
      "image/png": "[encoded data removed]",
      "text/plain": [
       "<Figure size 1080x360 with 1 Axes>"
      ]
     },
     "metadata": {
      "needs_background": "light"
     },
     "output_type": "display_data"
    }
   ],
   "source": [
    "# Checking the count of the various types of reviews\n",
    "cols = ['1 Star', '2 Star', '3 Star', '4 Star', '5 Star']\n",
    "val_counts = df[cols].sum()\n",
    "\n",
    "plt.figure(figsize=(15,5))\n",
    "ax = sns.barplot(val_counts.index, val_counts.values)\n",
    "\n",
    "plt.title(\"Reviews per Classes\")\n",
    "plt.xlabel(\"Various Reviews Type\")\n",
    "plt.ylabel(\"Counts of the Reviews\")\n",
    "\n",
    "rects = ax.patches\n",
    "labels = val_counts.values\n",
    "for rect, label in zip(rects, labels):\n",
    "    height = rect.get_height()\n",
    "    ax.text(rect.get_x() + rect.get_width()/2, height+5, label, ha=\"center\", va=\"bottom\")\n",
    "\n",
    "\n",
    "plt.show()"
   ]
  },
  {
   "cell_type": "markdown",
   "id": "187608ad",
   "metadata": {},
   "source": [
    "#### Observations\n",
    "* There were 2840 5 Star rated reviews which are maximum. \n",
    "* 4 Star reviews were second highest with count of 806\n",
    "* 2 Star ratings have the least count of only 53."
   ]
  },
  {
   "cell_type": "markdown",
   "id": "42743d6e",
   "metadata": {},
   "source": [
    "##  Data Pre-Processing"
   ]
  },
  {
   "cell_type": "code",
   "execution_count": 34,
   "id": "ab1d684b",
   "metadata": {},
   "outputs": [
    {
     "data": {
      "text/html": [
       "<div>\n",
       "<style scoped>\n",
       "    .dataframe tbody tr th:only-of-type {\n",
       "        vertical-align: middle;\n",
       "    }\n",
       "\n",
       "    .dataframe tbody tr th {\n",
       "        vertical-align: top;\n",
       "    }\n",
       "\n",
       "    .dataframe thead th {\n",
       "        text-align: right;\n",
       "    }\n",
       "</style>\n",
       "<table border=\"1\" class=\"dataframe\">\n",
       "  <thead>\n",
       "    <tr style=\"text-align: right;\">\n",
       "      <th></th>\n",
       "      <th>Heading</th>\n",
       "      <th>Review</th>\n",
       "      <th>Product</th>\n",
       "      <th>Review_word_counter</th>\n",
       "      <th>1 Star</th>\n",
       "      <th>2 Star</th>\n",
       "      <th>3 Star</th>\n",
       "      <th>4 Star</th>\n",
       "      <th>5 Star</th>\n",
       "    </tr>\n",
       "  </thead>\n",
       "  <tbody>\n",
       "    <tr>\n",
       "      <th>0</th>\n",
       "      <td>really nice</td>\n",
       "      <td>it's best for lower price</td>\n",
       "      <td>DSLR</td>\n",
       "      <td>25</td>\n",
       "      <td>0</td>\n",
       "      <td>0</td>\n",
       "      <td>0</td>\n",
       "      <td>1</td>\n",
       "      <td>0</td>\n",
       "    </tr>\n",
       "    <tr>\n",
       "      <th>1</th>\n",
       "      <td>wonderful</td>\n",
       "      <td>awesome picture quality..just love it</td>\n",
       "      <td>DSLR</td>\n",
       "      <td>37</td>\n",
       "      <td>0</td>\n",
       "      <td>0</td>\n",
       "      <td>0</td>\n",
       "      <td>0</td>\n",
       "      <td>1</td>\n",
       "    </tr>\n",
       "    <tr>\n",
       "      <th>2</th>\n",
       "      <td>delightful</td>\n",
       "      <td>unbelievable price 18999/-</td>\n",
       "      <td>DSLR</td>\n",
       "      <td>26</td>\n",
       "      <td>0</td>\n",
       "      <td>0</td>\n",
       "      <td>0</td>\n",
       "      <td>1</td>\n",
       "      <td>0</td>\n",
       "    </tr>\n",
       "    <tr>\n",
       "      <th>3</th>\n",
       "      <td>awesome</td>\n",
       "      <td>amazing👍👍😍😍 thanks❤ flipkart</td>\n",
       "      <td>DSLR</td>\n",
       "      <td>28</td>\n",
       "      <td>0</td>\n",
       "      <td>0</td>\n",
       "      <td>0</td>\n",
       "      <td>0</td>\n",
       "      <td>1</td>\n",
       "    </tr>\n",
       "    <tr>\n",
       "      <th>4</th>\n",
       "      <td>excellent</td>\n",
       "      <td>it's soo good</td>\n",
       "      <td>DSLR</td>\n",
       "      <td>13</td>\n",
       "      <td>0</td>\n",
       "      <td>0</td>\n",
       "      <td>0</td>\n",
       "      <td>0</td>\n",
       "      <td>1</td>\n",
       "    </tr>\n",
       "  </tbody>\n",
       "</table>\n",
       "</div>"
      ],
      "text/plain": [
       "       Heading                                 Review Product  \\\n",
       "0  really nice              it's best for lower price    DSLR   \n",
       "1    wonderful  awesome picture quality..just love it    DSLR   \n",
       "2   delightful             unbelievable price 18999/-    DSLR   \n",
       "3      awesome           amazing👍👍😍😍 thanks❤ flipkart    DSLR   \n",
       "4    excellent                          it's soo good    DSLR   \n",
       "\n",
       "   Review_word_counter  1 Star  2 Star  3 Star  4 Star  5 Star  \n",
       "0                   25       0       0       0       1       0  \n",
       "1                   37       0       0       0       0       1  \n",
       "2                   26       0       0       0       1       0  \n",
       "3                   28       0       0       0       0       1  \n",
       "4                   13       0       0       0       0       1  "
      ]
     },
     "execution_count": 34,
     "metadata": {},
     "output_type": "execute_result"
    }
   ],
   "source": [
    "#convert all text into lowercase \n",
    "df['Review'] = df['Review'].str.lower()\n",
    "df['Heading'] = df['Heading'].str.lower()\n",
    "#check if the text is lower cased\n",
    "df.head()"
   ]
  },
  {
   "cell_type": "code",
   "execution_count": 35,
   "id": "e781b040",
   "metadata": {},
   "outputs": [
    {
     "data": {
      "text/html": [
       "<div>\n",
       "<style scoped>\n",
       "    .dataframe tbody tr th:only-of-type {\n",
       "        vertical-align: middle;\n",
       "    }\n",
       "\n",
       "    .dataframe tbody tr th {\n",
       "        vertical-align: top;\n",
       "    }\n",
       "\n",
       "    .dataframe thead th {\n",
       "        text-align: right;\n",
       "    }\n",
       "</style>\n",
       "<table border=\"1\" class=\"dataframe\">\n",
       "  <thead>\n",
       "    <tr style=\"text-align: right;\">\n",
       "      <th></th>\n",
       "      <th>Heading</th>\n",
       "      <th>Review</th>\n",
       "      <th>Product</th>\n",
       "      <th>Review_word_counter</th>\n",
       "      <th>1 Star</th>\n",
       "      <th>2 Star</th>\n",
       "      <th>3 Star</th>\n",
       "      <th>4 Star</th>\n",
       "      <th>5 Star</th>\n",
       "    </tr>\n",
       "  </thead>\n",
       "  <tbody>\n",
       "    <tr>\n",
       "      <th>0</th>\n",
       "      <td>really nice</td>\n",
       "      <td>it's best for lower price</td>\n",
       "      <td>DSLR</td>\n",
       "      <td>25</td>\n",
       "      <td>0</td>\n",
       "      <td>0</td>\n",
       "      <td>0</td>\n",
       "      <td>1</td>\n",
       "      <td>0</td>\n",
       "    </tr>\n",
       "    <tr>\n",
       "      <th>1</th>\n",
       "      <td>wonderful</td>\n",
       "      <td>awesome picture quality..just love it</td>\n",
       "      <td>DSLR</td>\n",
       "      <td>37</td>\n",
       "      <td>0</td>\n",
       "      <td>0</td>\n",
       "      <td>0</td>\n",
       "      <td>0</td>\n",
       "      <td>1</td>\n",
       "    </tr>\n",
       "    <tr>\n",
       "      <th>2</th>\n",
       "      <td>delightful</td>\n",
       "      <td>unbelievable price 18999/-</td>\n",
       "      <td>DSLR</td>\n",
       "      <td>26</td>\n",
       "      <td>0</td>\n",
       "      <td>0</td>\n",
       "      <td>0</td>\n",
       "      <td>1</td>\n",
       "      <td>0</td>\n",
       "    </tr>\n",
       "    <tr>\n",
       "      <th>3</th>\n",
       "      <td>awesome</td>\n",
       "      <td>amazing👍👍😍😍 thanks❤ flipkart</td>\n",
       "      <td>DSLR</td>\n",
       "      <td>28</td>\n",
       "      <td>0</td>\n",
       "      <td>0</td>\n",
       "      <td>0</td>\n",
       "      <td>0</td>\n",
       "      <td>1</td>\n",
       "    </tr>\n",
       "    <tr>\n",
       "      <th>4</th>\n",
       "      <td>excellent</td>\n",
       "      <td>it's soo good</td>\n",
       "      <td>DSLR</td>\n",
       "      <td>13</td>\n",
       "      <td>0</td>\n",
       "      <td>0</td>\n",
       "      <td>0</td>\n",
       "      <td>0</td>\n",
       "      <td>1</td>\n",
       "    </tr>\n",
       "  </tbody>\n",
       "</table>\n",
       "</div>"
      ],
      "text/plain": [
       "       Heading                                 Review Product  \\\n",
       "0  really nice              it's best for lower price    DSLR   \n",
       "1    wonderful  awesome picture quality..just love it    DSLR   \n",
       "2   delightful             unbelievable price 18999/-    DSLR   \n",
       "3      awesome           amazing👍👍😍😍 thanks❤ flipkart    DSLR   \n",
       "4    excellent                          it's soo good    DSLR   \n",
       "\n",
       "   Review_word_counter  1 Star  2 Star  3 Star  4 Star  5 Star  \n",
       "0                   25       0       0       0       1       0  \n",
       "1                   37       0       0       0       0       1  \n",
       "2                   26       0       0       0       1       0  \n",
       "3                   28       0       0       0       0       1  \n",
       "4                   13       0       0       0       0       1  "
      ]
     },
     "execution_count": 35,
     "metadata": {},
     "output_type": "execute_result"
    }
   ],
   "source": [
    "#clean all html tags \n",
    "import re\n",
    "def cleanHtml(sentence):\n",
    "    cleanr = re.compile('<.*?>')\n",
    "    cleantext = re.sub(cleanr, ' ', str(sentence))\n",
    "    return cleantext\n",
    "#apply the function \n",
    "df['Review'] = df['Review'].apply(cleanHtml)\n",
    "df['Heading'] = df['Heading'].apply(cleanHtml)\n",
    "df.head()"
   ]
  },
  {
   "cell_type": "code",
   "execution_count": 36,
   "id": "8eb5996b",
   "metadata": {},
   "outputs": [
    {
     "data": {
      "text/html": [
       "<div>\n",
       "<style scoped>\n",
       "    .dataframe tbody tr th:only-of-type {\n",
       "        vertical-align: middle;\n",
       "    }\n",
       "\n",
       "    .dataframe tbody tr th {\n",
       "        vertical-align: top;\n",
       "    }\n",
       "\n",
       "    .dataframe thead th {\n",
       "        text-align: right;\n",
       "    }\n",
       "</style>\n",
       "<table border=\"1\" class=\"dataframe\">\n",
       "  <thead>\n",
       "    <tr style=\"text-align: right;\">\n",
       "      <th></th>\n",
       "      <th>Heading</th>\n",
       "      <th>Review</th>\n",
       "      <th>Product</th>\n",
       "      <th>Review_word_counter</th>\n",
       "      <th>1 Star</th>\n",
       "      <th>2 Star</th>\n",
       "      <th>3 Star</th>\n",
       "      <th>4 Star</th>\n",
       "      <th>5 Star</th>\n",
       "    </tr>\n",
       "  </thead>\n",
       "  <tbody>\n",
       "    <tr>\n",
       "      <th>0</th>\n",
       "      <td>really nice</td>\n",
       "      <td>its best for lower price</td>\n",
       "      <td>DSLR</td>\n",
       "      <td>25</td>\n",
       "      <td>0</td>\n",
       "      <td>0</td>\n",
       "      <td>0</td>\n",
       "      <td>1</td>\n",
       "      <td>0</td>\n",
       "    </tr>\n",
       "    <tr>\n",
       "      <th>1</th>\n",
       "      <td>wonderful</td>\n",
       "      <td>awesome picture quality  just love it</td>\n",
       "      <td>DSLR</td>\n",
       "      <td>37</td>\n",
       "      <td>0</td>\n",
       "      <td>0</td>\n",
       "      <td>0</td>\n",
       "      <td>0</td>\n",
       "      <td>1</td>\n",
       "    </tr>\n",
       "    <tr>\n",
       "      <th>2</th>\n",
       "      <td>delightful</td>\n",
       "      <td>unbelievable price 18999 -</td>\n",
       "      <td>DSLR</td>\n",
       "      <td>26</td>\n",
       "      <td>0</td>\n",
       "      <td>0</td>\n",
       "      <td>0</td>\n",
       "      <td>1</td>\n",
       "      <td>0</td>\n",
       "    </tr>\n",
       "    <tr>\n",
       "      <th>3</th>\n",
       "      <td>awesome</td>\n",
       "      <td>amazing👍👍😍😍 thanks❤ flipkart</td>\n",
       "      <td>DSLR</td>\n",
       "      <td>28</td>\n",
       "      <td>0</td>\n",
       "      <td>0</td>\n",
       "      <td>0</td>\n",
       "      <td>0</td>\n",
       "      <td>1</td>\n",
       "    </tr>\n",
       "    <tr>\n",
       "      <th>4</th>\n",
       "      <td>excellent</td>\n",
       "      <td>its soo good</td>\n",
       "      <td>DSLR</td>\n",
       "      <td>13</td>\n",
       "      <td>0</td>\n",
       "      <td>0</td>\n",
       "      <td>0</td>\n",
       "      <td>0</td>\n",
       "      <td>1</td>\n",
       "    </tr>\n",
       "  </tbody>\n",
       "</table>\n",
       "</div>"
      ],
      "text/plain": [
       "       Heading                                 Review Product  \\\n",
       "0  really nice               its best for lower price    DSLR   \n",
       "1    wonderful  awesome picture quality  just love it    DSLR   \n",
       "2   delightful             unbelievable price 18999 -    DSLR   \n",
       "3      awesome           amazing👍👍😍😍 thanks❤ flipkart    DSLR   \n",
       "4    excellent                           its soo good    DSLR   \n",
       "\n",
       "   Review_word_counter  1 Star  2 Star  3 Star  4 Star  5 Star  \n",
       "0                   25       0       0       0       1       0  \n",
       "1                   37       0       0       0       0       1  \n",
       "2                   26       0       0       0       1       0  \n",
       "3                   28       0       0       0       0       1  \n",
       "4                   13       0       0       0       0       1  "
      ]
     },
     "execution_count": 36,
     "metadata": {},
     "output_type": "execute_result"
    }
   ],
   "source": [
    "#remove punctuations\n",
    "def cleanPunc(sentence): #function to clean the word of any punctuation or special characters\n",
    "    cleaned = re.sub(r'[?|!|\\'|\"|#]',r'',sentence)\n",
    "    cleaned = re.sub(r'[.|,|)|(|\\|/]',r' ',cleaned)\n",
    "    cleaned = cleaned.strip()\n",
    "    cleaned = cleaned.replace(\"\\n\",\" \")\n",
    "    return cleaned\n",
    "#call the function\n",
    "df['Review'] = df['Review'].apply(cleanPunc)\n",
    "df['Heading'] = df['Heading'].apply(cleanPunc)\n",
    "df.head()"
   ]
  },
  {
   "cell_type": "code",
   "execution_count": 37,
   "id": "0be87355",
   "metadata": {},
   "outputs": [
    {
     "data": {
      "text/html": [
       "<div>\n",
       "<style scoped>\n",
       "    .dataframe tbody tr th:only-of-type {\n",
       "        vertical-align: middle;\n",
       "    }\n",
       "\n",
       "    .dataframe tbody tr th {\n",
       "        vertical-align: top;\n",
       "    }\n",
       "\n",
       "    .dataframe thead th {\n",
       "        text-align: right;\n",
       "    }\n",
       "</style>\n",
       "<table border=\"1\" class=\"dataframe\">\n",
       "  <thead>\n",
       "    <tr style=\"text-align: right;\">\n",
       "      <th></th>\n",
       "      <th>Heading</th>\n",
       "      <th>Review</th>\n",
       "      <th>Product</th>\n",
       "      <th>Review_word_counter</th>\n",
       "      <th>1 Star</th>\n",
       "      <th>2 Star</th>\n",
       "      <th>3 Star</th>\n",
       "      <th>4 Star</th>\n",
       "      <th>5 Star</th>\n",
       "    </tr>\n",
       "  </thead>\n",
       "  <tbody>\n",
       "    <tr>\n",
       "      <th>0</th>\n",
       "      <td>really nice</td>\n",
       "      <td>its best for lower price</td>\n",
       "      <td>DSLR</td>\n",
       "      <td>25</td>\n",
       "      <td>0</td>\n",
       "      <td>0</td>\n",
       "      <td>0</td>\n",
       "      <td>1</td>\n",
       "      <td>0</td>\n",
       "    </tr>\n",
       "    <tr>\n",
       "      <th>1</th>\n",
       "      <td>wonderful</td>\n",
       "      <td>awesome picture quality just love it</td>\n",
       "      <td>DSLR</td>\n",
       "      <td>37</td>\n",
       "      <td>0</td>\n",
       "      <td>0</td>\n",
       "      <td>0</td>\n",
       "      <td>0</td>\n",
       "      <td>1</td>\n",
       "    </tr>\n",
       "    <tr>\n",
       "      <th>2</th>\n",
       "      <td>delightful</td>\n",
       "      <td>unbelievable price</td>\n",
       "      <td>DSLR</td>\n",
       "      <td>26</td>\n",
       "      <td>0</td>\n",
       "      <td>0</td>\n",
       "      <td>0</td>\n",
       "      <td>1</td>\n",
       "      <td>0</td>\n",
       "    </tr>\n",
       "    <tr>\n",
       "      <th>3</th>\n",
       "      <td>awesome</td>\n",
       "      <td>amazing  thanks  flipkart</td>\n",
       "      <td>DSLR</td>\n",
       "      <td>28</td>\n",
       "      <td>0</td>\n",
       "      <td>0</td>\n",
       "      <td>0</td>\n",
       "      <td>0</td>\n",
       "      <td>1</td>\n",
       "    </tr>\n",
       "    <tr>\n",
       "      <th>4</th>\n",
       "      <td>excellent</td>\n",
       "      <td>its soo good</td>\n",
       "      <td>DSLR</td>\n",
       "      <td>13</td>\n",
       "      <td>0</td>\n",
       "      <td>0</td>\n",
       "      <td>0</td>\n",
       "      <td>0</td>\n",
       "      <td>1</td>\n",
       "    </tr>\n",
       "  </tbody>\n",
       "</table>\n",
       "</div>"
      ],
      "text/plain": [
       "       Heading                                Review Product  \\\n",
       "0  really nice              its best for lower price    DSLR   \n",
       "1    wonderful  awesome picture quality just love it    DSLR   \n",
       "2   delightful                    unbelievable price    DSLR   \n",
       "3      awesome             amazing  thanks  flipkart    DSLR   \n",
       "4    excellent                          its soo good    DSLR   \n",
       "\n",
       "   Review_word_counter  1 Star  2 Star  3 Star  4 Star  5 Star  \n",
       "0                   25       0       0       0       1       0  \n",
       "1                   37       0       0       0       0       1  \n",
       "2                   26       0       0       0       1       0  \n",
       "3                   28       0       0       0       0       1  \n",
       "4                   13       0       0       0       0       1  "
      ]
     },
     "execution_count": 37,
     "metadata": {},
     "output_type": "execute_result"
    }
   ],
   "source": [
    "# any alphabets from small a to small z or capital A to capital Z.\n",
    "#The plus sign specifies that string should have at least one character.\n",
    "def keepAlpha(sentence):\n",
    "    alpha_sent = \"\"\n",
    "    for word in sentence.split():\n",
    "        alpha_word = re.sub('[^a-z A-Z]+', ' ', word)\n",
    "        alpha_sent += alpha_word\n",
    "        alpha_sent += \" \"\n",
    "    alpha_sent = alpha_sent.strip()\n",
    "    return alpha_sent\n",
    "#apply the function\n",
    "df['Review'] = df['Review'].apply(keepAlpha)\n",
    "df['Heading'] = df['Heading'].apply(keepAlpha)\n",
    "df.head()"
   ]
  },
  {
   "cell_type": "code",
   "execution_count": 38,
   "id": "982b040b",
   "metadata": {},
   "outputs": [],
   "source": [
    "#import libraries for stemming and stopwords removal\n",
    "from nltk.corpus import stopwords\n",
    "from nltk.stem.snowball import SnowballStemmer\n",
    "import re"
   ]
  },
  {
   "cell_type": "code",
   "execution_count": 39,
   "id": "13ea0aa8",
   "metadata": {},
   "outputs": [
    {
     "data": {
      "text/html": [
       "<div>\n",
       "<style scoped>\n",
       "    .dataframe tbody tr th:only-of-type {\n",
       "        vertical-align: middle;\n",
       "    }\n",
       "\n",
       "    .dataframe tbody tr th {\n",
       "        vertical-align: top;\n",
       "    }\n",
       "\n",
       "    .dataframe thead th {\n",
       "        text-align: right;\n",
       "    }\n",
       "</style>\n",
       "<table border=\"1\" class=\"dataframe\">\n",
       "  <thead>\n",
       "    <tr style=\"text-align: right;\">\n",
       "      <th></th>\n",
       "      <th>Heading</th>\n",
       "      <th>Review</th>\n",
       "      <th>Product</th>\n",
       "      <th>Review_word_counter</th>\n",
       "      <th>1 Star</th>\n",
       "      <th>2 Star</th>\n",
       "      <th>3 Star</th>\n",
       "      <th>4 Star</th>\n",
       "      <th>5 Star</th>\n",
       "    </tr>\n",
       "  </thead>\n",
       "  <tbody>\n",
       "    <tr>\n",
       "      <th>0</th>\n",
       "      <td>really nice</td>\n",
       "      <td>best  lower price</td>\n",
       "      <td>DSLR</td>\n",
       "      <td>25</td>\n",
       "      <td>0</td>\n",
       "      <td>0</td>\n",
       "      <td>0</td>\n",
       "      <td>1</td>\n",
       "      <td>0</td>\n",
       "    </tr>\n",
       "    <tr>\n",
       "      <th>1</th>\n",
       "      <td>wonderful</td>\n",
       "      <td>awesome picture quality  love it</td>\n",
       "      <td>DSLR</td>\n",
       "      <td>37</td>\n",
       "      <td>0</td>\n",
       "      <td>0</td>\n",
       "      <td>0</td>\n",
       "      <td>0</td>\n",
       "      <td>1</td>\n",
       "    </tr>\n",
       "    <tr>\n",
       "      <th>2</th>\n",
       "      <td>delightful</td>\n",
       "      <td>unbelievable price</td>\n",
       "      <td>DSLR</td>\n",
       "      <td>26</td>\n",
       "      <td>0</td>\n",
       "      <td>0</td>\n",
       "      <td>0</td>\n",
       "      <td>1</td>\n",
       "      <td>0</td>\n",
       "    </tr>\n",
       "    <tr>\n",
       "      <th>3</th>\n",
       "      <td>awesome</td>\n",
       "      <td>amazing  thanks  flipkart</td>\n",
       "      <td>DSLR</td>\n",
       "      <td>28</td>\n",
       "      <td>0</td>\n",
       "      <td>0</td>\n",
       "      <td>0</td>\n",
       "      <td>0</td>\n",
       "      <td>1</td>\n",
       "    </tr>\n",
       "    <tr>\n",
       "      <th>4</th>\n",
       "      <td>excellent</td>\n",
       "      <td>soo good</td>\n",
       "      <td>DSLR</td>\n",
       "      <td>13</td>\n",
       "      <td>0</td>\n",
       "      <td>0</td>\n",
       "      <td>0</td>\n",
       "      <td>0</td>\n",
       "      <td>1</td>\n",
       "    </tr>\n",
       "  </tbody>\n",
       "</table>\n",
       "</div>"
      ],
      "text/plain": [
       "       Heading                            Review Product  Review_word_counter  \\\n",
       "0  really nice                 best  lower price    DSLR                   25   \n",
       "1    wonderful  awesome picture quality  love it    DSLR                   37   \n",
       "2   delightful                unbelievable price    DSLR                   26   \n",
       "3      awesome         amazing  thanks  flipkart    DSLR                   28   \n",
       "4    excellent                          soo good    DSLR                   13   \n",
       "\n",
       "   1 Star  2 Star  3 Star  4 Star  5 Star  \n",
       "0       0       0       0       1       0  \n",
       "1       0       0       0       0       1  \n",
       "2       0       0       0       1       0  \n",
       "3       0       0       0       0       1  \n",
       "4       0       0       0       0       1  "
      ]
     },
     "execution_count": 39,
     "metadata": {},
     "output_type": "execute_result"
    }
   ],
   "source": [
    "#removing stopwords\n",
    "stop_words = set(stopwords.words('english'))\n",
    "re_stop_words = re.compile(r\"\\b(\" + \"|\".join(stop_words) + \")\\\\W\", re.I)\n",
    "def removeStopWords(sentence):\n",
    "    global re_stop_words\n",
    "    return re_stop_words.sub(\" \", sentence)\n",
    "#apply the remove_stopwords function\n",
    "df['Review'] = df['Review'].apply(removeStopWords)\n",
    "df['Heading'] = df['Heading'].apply(removeStopWords)\n",
    "df.head()"
   ]
  },
  {
   "cell_type": "code",
   "execution_count": 40,
   "id": "31e03020",
   "metadata": {},
   "outputs": [
    {
     "data": {
      "text/html": [
       "<div>\n",
       "<style scoped>\n",
       "    .dataframe tbody tr th:only-of-type {\n",
       "        vertical-align: middle;\n",
       "    }\n",
       "\n",
       "    .dataframe tbody tr th {\n",
       "        vertical-align: top;\n",
       "    }\n",
       "\n",
       "    .dataframe thead th {\n",
       "        text-align: right;\n",
       "    }\n",
       "</style>\n",
       "<table border=\"1\" class=\"dataframe\">\n",
       "  <thead>\n",
       "    <tr style=\"text-align: right;\">\n",
       "      <th></th>\n",
       "      <th>Heading</th>\n",
       "      <th>Review</th>\n",
       "      <th>Product</th>\n",
       "      <th>Review_word_counter</th>\n",
       "      <th>1 Star</th>\n",
       "      <th>2 Star</th>\n",
       "      <th>3 Star</th>\n",
       "      <th>4 Star</th>\n",
       "      <th>5 Star</th>\n",
       "    </tr>\n",
       "  </thead>\n",
       "  <tbody>\n",
       "    <tr>\n",
       "      <th>0</th>\n",
       "      <td>realli nice</td>\n",
       "      <td>best lower price</td>\n",
       "      <td>DSLR</td>\n",
       "      <td>25</td>\n",
       "      <td>0</td>\n",
       "      <td>0</td>\n",
       "      <td>0</td>\n",
       "      <td>1</td>\n",
       "      <td>0</td>\n",
       "    </tr>\n",
       "    <tr>\n",
       "      <th>1</th>\n",
       "      <td>wonder</td>\n",
       "      <td>awesom pictur qualiti love it</td>\n",
       "      <td>DSLR</td>\n",
       "      <td>37</td>\n",
       "      <td>0</td>\n",
       "      <td>0</td>\n",
       "      <td>0</td>\n",
       "      <td>0</td>\n",
       "      <td>1</td>\n",
       "    </tr>\n",
       "    <tr>\n",
       "      <th>2</th>\n",
       "      <td>delight</td>\n",
       "      <td>unbeliev price</td>\n",
       "      <td>DSLR</td>\n",
       "      <td>26</td>\n",
       "      <td>0</td>\n",
       "      <td>0</td>\n",
       "      <td>0</td>\n",
       "      <td>1</td>\n",
       "      <td>0</td>\n",
       "    </tr>\n",
       "    <tr>\n",
       "      <th>3</th>\n",
       "      <td>awesom</td>\n",
       "      <td>amaz thank flipkart</td>\n",
       "      <td>DSLR</td>\n",
       "      <td>28</td>\n",
       "      <td>0</td>\n",
       "      <td>0</td>\n",
       "      <td>0</td>\n",
       "      <td>0</td>\n",
       "      <td>1</td>\n",
       "    </tr>\n",
       "    <tr>\n",
       "      <th>4</th>\n",
       "      <td>excel</td>\n",
       "      <td>soo good</td>\n",
       "      <td>DSLR</td>\n",
       "      <td>13</td>\n",
       "      <td>0</td>\n",
       "      <td>0</td>\n",
       "      <td>0</td>\n",
       "      <td>0</td>\n",
       "      <td>1</td>\n",
       "    </tr>\n",
       "  </tbody>\n",
       "</table>\n",
       "</div>"
      ],
      "text/plain": [
       "       Heading                         Review Product  Review_word_counter  \\\n",
       "0  realli nice               best lower price    DSLR                   25   \n",
       "1       wonder  awesom pictur qualiti love it    DSLR                   37   \n",
       "2      delight                 unbeliev price    DSLR                   26   \n",
       "3       awesom            amaz thank flipkart    DSLR                   28   \n",
       "4        excel                       soo good    DSLR                   13   \n",
       "\n",
       "   1 Star  2 Star  3 Star  4 Star  5 Star  \n",
       "0       0       0       0       1       0  \n",
       "1       0       0       0       0       1  \n",
       "2       0       0       0       1       0  \n",
       "3       0       0       0       0       1  \n",
       "4       0       0       0       0       1  "
      ]
     },
     "execution_count": 40,
     "metadata": {},
     "output_type": "execute_result"
    }
   ],
   "source": [
    "#stemming\n",
    "stemmer = SnowballStemmer(\"english\")\n",
    "def stemming(sentence):\n",
    "    stemSentence = \"\"\n",
    "    for word in sentence.split():\n",
    "        stem = stemmer.stem(word)\n",
    "        stemSentence += stem\n",
    "        stemSentence += \" \"\n",
    "    stemSentence = stemSentence.strip()\n",
    "    return stemSentence\n",
    "\n",
    "df['Review'] = df['Review'].apply(stemming)\n",
    "df['Heading'] = df['Heading'].apply(stemming)\n",
    "df.head()"
   ]
  },
  {
   "cell_type": "code",
   "execution_count": 41,
   "id": "aedd8568",
   "metadata": {},
   "outputs": [
    {
     "data": {
      "text/html": [
       "<div>\n",
       "<style scoped>\n",
       "    .dataframe tbody tr th:only-of-type {\n",
       "        vertical-align: middle;\n",
       "    }\n",
       "\n",
       "    .dataframe tbody tr th {\n",
       "        vertical-align: top;\n",
       "    }\n",
       "\n",
       "    .dataframe thead th {\n",
       "        text-align: right;\n",
       "    }\n",
       "</style>\n",
       "<table border=\"1\" class=\"dataframe\">\n",
       "  <thead>\n",
       "    <tr style=\"text-align: right;\">\n",
       "      <th></th>\n",
       "      <th>Heading</th>\n",
       "      <th>Review</th>\n",
       "      <th>Product</th>\n",
       "      <th>Review_word_counter</th>\n",
       "      <th>1 Star</th>\n",
       "      <th>2 Star</th>\n",
       "      <th>3 Star</th>\n",
       "      <th>4 Star</th>\n",
       "      <th>5 Star</th>\n",
       "    </tr>\n",
       "  </thead>\n",
       "  <tbody>\n",
       "    <tr>\n",
       "      <th>0</th>\n",
       "      <td>realli nice</td>\n",
       "      <td>best lower price</td>\n",
       "      <td>DSLR</td>\n",
       "      <td>25</td>\n",
       "      <td>0</td>\n",
       "      <td>0</td>\n",
       "      <td>0</td>\n",
       "      <td>1</td>\n",
       "      <td>0</td>\n",
       "    </tr>\n",
       "    <tr>\n",
       "      <th>1</th>\n",
       "      <td>wonder</td>\n",
       "      <td>awesom pictur qualiti love it</td>\n",
       "      <td>DSLR</td>\n",
       "      <td>37</td>\n",
       "      <td>0</td>\n",
       "      <td>0</td>\n",
       "      <td>0</td>\n",
       "      <td>0</td>\n",
       "      <td>1</td>\n",
       "    </tr>\n",
       "    <tr>\n",
       "      <th>2</th>\n",
       "      <td>delight</td>\n",
       "      <td>unbeliev price</td>\n",
       "      <td>DSLR</td>\n",
       "      <td>26</td>\n",
       "      <td>0</td>\n",
       "      <td>0</td>\n",
       "      <td>0</td>\n",
       "      <td>1</td>\n",
       "      <td>0</td>\n",
       "    </tr>\n",
       "    <tr>\n",
       "      <th>3</th>\n",
       "      <td>awesom</td>\n",
       "      <td>amaz thank flipkart</td>\n",
       "      <td>DSLR</td>\n",
       "      <td>28</td>\n",
       "      <td>0</td>\n",
       "      <td>0</td>\n",
       "      <td>0</td>\n",
       "      <td>0</td>\n",
       "      <td>1</td>\n",
       "    </tr>\n",
       "    <tr>\n",
       "      <th>4</th>\n",
       "      <td>excel</td>\n",
       "      <td>soo good</td>\n",
       "      <td>DSLR</td>\n",
       "      <td>13</td>\n",
       "      <td>0</td>\n",
       "      <td>0</td>\n",
       "      <td>0</td>\n",
       "      <td>0</td>\n",
       "      <td>1</td>\n",
       "    </tr>\n",
       "  </tbody>\n",
       "</table>\n",
       "</div>"
      ],
      "text/plain": [
       "       Heading                         Review Product  Review_word_counter  \\\n",
       "0  realli nice               best lower price    DSLR                   25   \n",
       "1       wonder  awesom pictur qualiti love it    DSLR                   37   \n",
       "2      delight                 unbeliev price    DSLR                   26   \n",
       "3       awesom            amaz thank flipkart    DSLR                   28   \n",
       "4        excel                       soo good    DSLR                   13   \n",
       "\n",
       "   1 Star  2 Star  3 Star  4 Star  5 Star  \n",
       "0       0       0       0       1       0  \n",
       "1       0       0       0       0       1  \n",
       "2       0       0       0       1       0  \n",
       "3       0       0       0       0       1  \n",
       "4       0       0       0       0       1  "
      ]
     },
     "execution_count": 41,
     "metadata": {},
     "output_type": "execute_result"
    }
   ],
   "source": [
    "import emoji\n",
    "def emoji_remover(text):\n",
    "    allchars = [str for str in text]\n",
    "    emoji_list = [c for c in allchars if c in emoji.UNICODE_EMOJI]\n",
    "    clean_text = ' '.join([str for str in text.split() if not any(i in str for i in emoji_list)])\n",
    "    return clean_text\n",
    "\n",
    "df['Review'] = df['Review'].apply(emoji_remover)\n",
    "df['Heading'] = df['Heading'].apply(emoji_remover)\n",
    "df.head()"
   ]
  },
  {
   "cell_type": "markdown",
   "id": "25230cb9",
   "metadata": {},
   "source": [
    "Modelling will be done on heading of reviews as well as on actual review. But there are duplicate values in the heading. Thus we will use only unique heading for model development"
   ]
  },
  {
   "cell_type": "markdown",
   "id": "65598b7e",
   "metadata": {},
   "source": [
    "# Modelling on Heading of Reviews"
   ]
  },
  {
   "cell_type": "code",
   "execution_count": 42,
   "id": "7d662288",
   "metadata": {},
   "outputs": [
    {
     "data": {
      "text/plain": [
       "(90, 9)"
      ]
     },
     "execution_count": 42,
     "metadata": {},
     "output_type": "execute_result"
    }
   ],
   "source": [
    "df_heading = df.drop_duplicates(subset='Heading')\n",
    "df_heading.shape"
   ]
  },
  {
   "cell_type": "code",
   "execution_count": 43,
   "id": "0b2df048",
   "metadata": {},
   "outputs": [],
   "source": [
    "df_heading = shuffle(df_heading)\n",
    "df_heading.reset_index(drop=True,inplace=True)"
   ]
  },
  {
   "cell_type": "code",
   "execution_count": 44,
   "id": "1e008444",
   "metadata": {},
   "outputs": [
    {
     "data": {
      "text/html": [
       "<div>\n",
       "<style scoped>\n",
       "    .dataframe tbody tr th:only-of-type {\n",
       "        vertical-align: middle;\n",
       "    }\n",
       "\n",
       "    .dataframe tbody tr th {\n",
       "        vertical-align: top;\n",
       "    }\n",
       "\n",
       "    .dataframe thead th {\n",
       "        text-align: right;\n",
       "    }\n",
       "</style>\n",
       "<table border=\"1\" class=\"dataframe\">\n",
       "  <thead>\n",
       "    <tr style=\"text-align: right;\">\n",
       "      <th></th>\n",
       "      <th>Heading</th>\n",
       "      <th>Review</th>\n",
       "      <th>Product</th>\n",
       "      <th>Review_word_counter</th>\n",
       "      <th>1 Star</th>\n",
       "      <th>2 Star</th>\n",
       "      <th>3 Star</th>\n",
       "      <th>4 Star</th>\n",
       "      <th>5 Star</th>\n",
       "    </tr>\n",
       "  </thead>\n",
       "  <tbody>\n",
       "    <tr>\n",
       "      <th>0</th>\n",
       "      <td>hate it</td>\n",
       "      <td>worst dont buy camera</td>\n",
       "      <td>DSLR</td>\n",
       "      <td>27</td>\n",
       "      <td>1</td>\n",
       "      <td>0</td>\n",
       "      <td>0</td>\n",
       "      <td>0</td>\n",
       "      <td>0</td>\n",
       "    </tr>\n",
       "    <tr>\n",
       "      <th>1</th>\n",
       "      <td>dont wast money</td>\n",
       "      <td>good camera lcd screen less size photo clariti...</td>\n",
       "      <td>DSLR</td>\n",
       "      <td>150</td>\n",
       "      <td>1</td>\n",
       "      <td>0</td>\n",
       "      <td>0</td>\n",
       "      <td>0</td>\n",
       "      <td>0</td>\n",
       "    </tr>\n",
       "    <tr>\n",
       "      <th>2</th>\n",
       "      <td>absolut rubbish wast money bad</td>\n",
       "      <td>worst camera pleas dont buy</td>\n",
       "      <td>DSLR</td>\n",
       "      <td>38</td>\n",
       "      <td>1</td>\n",
       "      <td>0</td>\n",
       "      <td>0</td>\n",
       "      <td>0</td>\n",
       "      <td>0</td>\n",
       "    </tr>\n",
       "    <tr>\n",
       "      <th>3</th>\n",
       "      <td>cheat custom</td>\n",
       "      <td>product good receiv carri case assur order cal...</td>\n",
       "      <td>DSLR</td>\n",
       "      <td>248</td>\n",
       "      <td>1</td>\n",
       "      <td>0</td>\n",
       "      <td>0</td>\n",
       "      <td>0</td>\n",
       "      <td>0</td>\n",
       "    </tr>\n",
       "    <tr>\n",
       "      <th>4</th>\n",
       "      <td>fabul</td>\n",
       "      <td>st dslr love rang u could get love wonder camera</td>\n",
       "      <td>DSLR</td>\n",
       "      <td>108</td>\n",
       "      <td>0</td>\n",
       "      <td>0</td>\n",
       "      <td>0</td>\n",
       "      <td>0</td>\n",
       "      <td>1</td>\n",
       "    </tr>\n",
       "  </tbody>\n",
       "</table>\n",
       "</div>"
      ],
      "text/plain": [
       "                          Heading  \\\n",
       "0                         hate it   \n",
       "1                 dont wast money   \n",
       "2  absolut rubbish wast money bad   \n",
       "3                    cheat custom   \n",
       "4                           fabul   \n",
       "\n",
       "                                              Review Product  \\\n",
       "0                              worst dont buy camera    DSLR   \n",
       "1  good camera lcd screen less size photo clariti...    DSLR   \n",
       "2                        worst camera pleas dont buy    DSLR   \n",
       "3  product good receiv carri case assur order cal...    DSLR   \n",
       "4   st dslr love rang u could get love wonder camera    DSLR   \n",
       "\n",
       "   Review_word_counter  1 Star  2 Star  3 Star  4 Star  5 Star  \n",
       "0                   27       1       0       0       0       0  \n",
       "1                  150       1       0       0       0       0  \n",
       "2                   38       1       0       0       0       0  \n",
       "3                  248       1       0       0       0       0  \n",
       "4                  108       0       0       0       0       1  "
      ]
     },
     "execution_count": 44,
     "metadata": {},
     "output_type": "execute_result"
    }
   ],
   "source": [
    "df_heading.head()"
   ]
  },
  {
   "cell_type": "code",
   "execution_count": 45,
   "id": "760ff322",
   "metadata": {},
   "outputs": [],
   "source": [
    "# Separation of Labels and Features\n",
    "x = df_heading['Heading']\n",
    "y = df_heading[['1 Star','2 Star','3 Star','4 Star','5 Star']]"
   ]
  },
  {
   "cell_type": "code",
   "execution_count": 46,
   "id": "ee9f7043",
   "metadata": {},
   "outputs": [],
   "source": [
    "#transforming words to vectors\n",
    "#initiate tfid\n",
    "from sklearn.feature_extraction.text import TfidfVectorizer\n",
    "tf = TfidfVectorizer()\n",
    "#convert text into vectors\n",
    "x = tf.fit_transform(x)"
   ]
  },
  {
   "cell_type": "code",
   "execution_count": 47,
   "id": "9e451f73",
   "metadata": {},
   "outputs": [],
   "source": [
    "#splitting data into training and testing\n",
    "from sklearn.model_selection import train_test_split\n",
    "x_train, x_test, y_train, y_test = train_test_split(x, y, test_size=0.25, random_state=123)"
   ]
  },
  {
   "cell_type": "markdown",
   "id": "1b58660e",
   "metadata": {},
   "source": [
    "### Understanding few concepts before actual model building"
   ]
  },
  {
   "cell_type": "markdown",
   "id": "ade62a95",
   "metadata": {},
   "source": [
    "### Studying the evaluation metrics"
   ]
  },
  {
   "cell_type": "markdown",
   "id": "3cbb39a6",
   "metadata": {},
   "source": [
    "#### 1) Label ranking average precision (LRAP)\n",
    "It is the average over each ground truth label assigned to each sample, of the ratio of true vs. total labels with lower score.\n",
    "\n",
    "This metric is used in multilabel ranking problem, where the goal is to give better rank to the labels associated to each sample.\n",
    "\n",
    "* The obtained score is always strictly greater than 0 and the best value is 1."
   ]
  },
  {
   "cell_type": "markdown",
   "id": "13d485aa",
   "metadata": {},
   "source": [
    "#### 2) Ranking loss measure.\n",
    "\n",
    "Compute the average number of label pairs that are incorrectly ordered given y_score weighted by the size of the label set and the number of labels not in the label set.\n",
    "\n",
    "This is similar to the error set size, but weighted by the number of relevant and irrelevant labels.  The best performance is achieved with a ranking loss of zero."
   ]
  },
  {
   "cell_type": "markdown",
   "id": "2981109a",
   "metadata": {},
   "source": [
    "#### 3) Hamming loss\n",
    "it is important to note that unlikely accuracy in hamming loss the smaller the result is the better is the model. for an example if hamming loss, is 0.32 which means that if you are trying to predict the aspects of 100 sentences the model will predict incorrectly about 32% of the independent aspects.\n",
    "* hamming loss value ranges from 0 to 1. Lesser value of hamming loss indicates a better classifier."
   ]
  },
  {
   "cell_type": "markdown",
   "id": "9c17cc16",
   "metadata": {},
   "source": [
    "#### 4) Precision\n",
    "The precision is the ratio tp / (tp + fp) where tp is the number of true positives and fp the number of false positives. The precision is intuitively the ability of the classifier not to label as positive a sample that is negative.\n",
    "* The best value is 1 and the worst value is 0."
   ]
  },
  {
   "cell_type": "markdown",
   "id": "08a017eb",
   "metadata": {},
   "source": [
    "#### 5) Coverage error\n",
    "Coverage error measure.\n",
    "\n",
    "Compute how far we need to go through the ranked scores to cover all true labels. The best value is equal to the average number of labels in y_true per sample.\n",
    "* The best value of coverage is when it is equal to average number of true class labels."
   ]
  },
  {
   "cell_type": "markdown",
   "id": "8ba6db2b",
   "metadata": {},
   "source": [
    "#### 6) Log loss\n",
    "This is the loss function used in (multinomial) logistic regression and extensions of it such as neural networks, defined as the negative log-likelihood of a logistic model that returns y_pred probabilities for its training data y_true . The log loss is only defined for two or more labels.\n",
    "The bolder the probabilities, the better will be your Log Loss — closer to zero. It is a measure of uncertainty (you may call it entropy), so a low Log Loss means a low uncertainty/entropy of your model. "
   ]
  },
  {
   "cell_type": "markdown",
   "id": "39d56807",
   "metadata": {},
   "source": [
    "#### 7) Hamming loss\n",
    "The Hamming loss is the fraction of labels that are incorrectly predicted.\n",
    "hamming loss value ranges from 0 to 1. Lesser value of hamming loss indicates a better classifier."
   ]
  },
  {
   "cell_type": "markdown",
   "id": "82ac8608",
   "metadata": {},
   "source": [
    "#### 8)  Confusion matrix for multi-label\n",
    "In multilabel confusion matrix MCM, the count of true negatives is MCM(0,0) , false negatives is MCM(1,0), true positives is MCM(1,1)  and false positives is(0,1) .\n",
    "\n"
   ]
  },
  {
   "attachments": {
    "1_x7WPPEQqCJClqy7e3XxPOA.png": {
     "image/png": "[encoded data removed]"
    }
   },
   "cell_type": "markdown",
   "id": "7335094d",
   "metadata": {},
   "source": [
    "![1_x7WPPEQqCJClqy7e3XxPOA.png](attachment:1_x7WPPEQqCJClqy7e3XxPOA.png)"
   ]
  },
  {
   "cell_type": "code",
   "execution_count": 48,
   "id": "4702d989",
   "metadata": {},
   "outputs": [],
   "source": [
    "#importing libraries for evaluation\n",
    "from sklearn.metrics import hamming_loss,accuracy_score,log_loss,f1_score\n",
    "from sklearn.metrics import coverage_error,precision_score,label_ranking_average_precision_score\n",
    "from sklearn.metrics import roc_auc_score\n",
    "from sklearn.metrics import multilabel_confusion_matrix\n",
    "from sklearn.model_selection import cross_val_score"
   ]
  },
  {
   "cell_type": "markdown",
   "id": "cab660e7",
   "metadata": {},
   "source": [
    "# Building model based on Heading of review"
   ]
  },
  {
   "cell_type": "markdown",
   "id": "3e69b960",
   "metadata": {},
   "source": [
    "### 1) Power Transformation"
   ]
  },
  {
   "cell_type": "markdown",
   "id": "86d444f3",
   "metadata": {},
   "source": [
    "### 1.1 Binary relevance with GuassianNb as base classifier"
   ]
  },
  {
   "cell_type": "code",
   "execution_count": 49,
   "id": "ba54a99a",
   "metadata": {
    "scrolled": true
   },
   "outputs": [
    {
     "name": "stdout",
     "output_type": "stream",
     "text": [
      "Accuracy =  21.73913043478261\n",
      "Cross validation score= 27.77777777777778\n",
      "\n",
      "\n",
      "log loss= 8.274611087925567\n",
      "hamming loss= 0.43478260869565216\n",
      "\n",
      "\n",
      "f1 score= 0.4186046511627907\n",
      "average precision score= 0.2857142857142857\n",
      "AUC ROC score= 0.6446288515406163\n",
      "\n",
      "\n",
      "label ranking average precision score= 0.4159420289855073\n",
      "coverage area= 3.608695652173913\n",
      "\n",
      "\n"
     ]
    }
   ],
   "source": [
    "# using binary relevance\n",
    "from skmultilearn.problem_transform import BinaryRelevance\n",
    "from sklearn.naive_bayes import GaussianNB\n",
    "\n",
    "# initialize binary relevance multi-label classifier\n",
    "# with a gaussian naive bayes base classifier\n",
    "classifier1 = BinaryRelevance(GaussianNB())\n",
    "\n",
    "# train\n",
    "classifier1.fit(x_train, y_train)\n",
    "# predict\n",
    "predictions = classifier1.predict(x_test)\n",
    "\n",
    "# accuracy\n",
    "acc_br=accuracy_score(y_test,predictions)*100\n",
    "print(\"Accuracy = \",acc_br)\n",
    "#cross validation score\n",
    "cv_br=cross_val_score(classifier1,x,y,cv=3).mean()*100\n",
    "print(\"Cross validation score=\",cv_br)\n",
    "print(\"\\n\")\n",
    "\n",
    "#log loss\n",
    "loss_br=log_loss(y_test,predictions.toarray())\n",
    "print(\"log loss=\",loss_br)\n",
    "#hamming loss\n",
    "hamm_loss_br=hamming_loss(y_test,predictions)\n",
    "print(\"hamming loss=\",hamm_loss_br) \n",
    "print(\"\\n\")\n",
    "\n",
    "\n",
    "#f1 score\n",
    "f1_br=f1_score(y_test,predictions.toarray(),average='micro')\n",
    "print(\"f1 score=\",f1_br)\n",
    "#precision score micro averaged\n",
    "pre_br=precision_score(y_test,predictions.toarray(),average='micro')\n",
    "print(\"average precision score=\",pre_br)\n",
    "#auc roc curve\n",
    "auc_br=roc_auc_score(y_test,predictions.toarray())\n",
    "print(\"AUC ROC score=\",auc_br)\n",
    "print(\"\\n\")\n",
    "\n",
    "\n",
    "#label ranking \n",
    "lr_br=label_ranking_average_precision_score(y_test,predictions.toarray())\n",
    "print(\"label ranking average precision score=\",lr_br)\n",
    "#coverage error\n",
    "ce_br=coverage_error(y_test,predictions.toarray())\n",
    "print(\"coverage area=\",ce_br)\n",
    "print(\"\\n\")"
   ]
  },
  {
   "cell_type": "code",
   "execution_count": 50,
   "id": "697b7e51",
   "metadata": {},
   "outputs": [
    {
     "data": {
      "text/plain": [
       "array([[[ 7,  8],\n",
       "        [ 3,  5]],\n",
       "\n",
       "       [[14,  7],\n",
       "        [ 1,  1]],\n",
       "\n",
       "       [[10, 11],\n",
       "        [ 0,  2]],\n",
       "\n",
       "       [[ 9,  9],\n",
       "        [ 1,  4]],\n",
       "\n",
       "       [[ 7, 10],\n",
       "        [ 0,  6]]])"
      ]
     },
     "execution_count": 50,
     "metadata": {},
     "output_type": "execute_result"
    }
   ],
   "source": [
    "#confusion matrix for binary relevance\n",
    "conf_mat1=multilabel_confusion_matrix(y_test,predictions)\n",
    "conf_mat1"
   ]
  },
  {
   "cell_type": "code",
   "execution_count": 51,
   "id": "fa55a23e",
   "metadata": {},
   "outputs": [
    {
     "data": {
      "image/png": "[encoded data removed]",
      "text/plain": [
       "<Figure size 1080x504 with 10 Axes>"
      ]
     },
     "metadata": {
      "needs_background": "light"
     },
     "output_type": "display_data"
    }
   ],
   "source": [
    "#plotting heatmap of confusion matrix\n",
    "a = 2  # number of rows\n",
    "b = 3  # number of columns\n",
    "c = 1  # initialize plot counter\n",
    "fig = plt.figure(figsize=(15,7))\n",
    "for i in range(0,5):\n",
    "    plt.subplot(a, b, c)\n",
    "    plt.title('{}'.format(i+1),weight='bold')\n",
    "    sns.heatmap(conf_mat1[i],annot=True,cmap='plasma',fmt=\"0.2f\",linewidths=3,linecolor='black')\n",
    "    c = c + 1\n",
    "    plt.tight_layout()\n",
    "plt.show()"
   ]
  },
  {
   "cell_type": "markdown",
   "id": "bca7b51c",
   "metadata": {},
   "source": [
    "### 1.2 Label powerset"
   ]
  },
  {
   "cell_type": "code",
   "execution_count": 52,
   "id": "0d12b9ba",
   "metadata": {},
   "outputs": [
    {
     "name": "stdout",
     "output_type": "stream",
     "text": [
      "Accuracy =  30.434782608695656\n",
      "Cross validation score= 32.22222222222222\n",
      "\n",
      "\n",
      "log loss= 24.026974883416138\n",
      "hamming loss= 0.2782608695652174\n",
      "\n",
      "\n",
      "AUC ROC score= 0.59609243697479\n",
      "f1 score= 0.30434782608695654\n",
      "average precision score= 0.30434782608695654\n",
      "\n",
      "\n",
      "coverage area= 3.782608695652174\n",
      "label ranking average precision score= 0.4434782608695651\n"
     ]
    }
   ],
   "source": [
    "#create and fit classifier\n",
    "from skmultilearn.problem_transform import LabelPowerset\n",
    "from sklearn.naive_bayes import GaussianNB\n",
    "\n",
    "# initialize Label Powerset multi-label classifier\n",
    "# with a gaussian naive bayes base classifier\n",
    "classifier2 = LabelPowerset(GaussianNB())\n",
    "classifier2.fit(x_train, y_train)\n",
    "#predictions\n",
    "predictions = classifier2.predict(x_test)\n",
    "\n",
    "# accuracy\n",
    "acc_lps=accuracy_score(y_test,predictions)*100\n",
    "print(\"Accuracy = \",acc_lps)\n",
    "#cross validation score\n",
    "cv_lps=cross_val_score(classifier2,x,y,cv=3).mean()*100\n",
    "print(\"Cross validation score=\",cv_lps)\n",
    "print(\"\\n\")\n",
    "\n",
    "#log loss\n",
    "loss_lps=log_loss(y_test,predictions.toarray())\n",
    "print(\"log loss=\",loss_lps)\n",
    "#hamming loss\n",
    "hamm_loss_lps=hamming_loss(y_test,predictions)\n",
    "print(\"hamming loss=\",hamm_loss_lps)\n",
    "print(\"\\n\")\n",
    "\n",
    "#auc roc score\n",
    "auc_lps=roc_auc_score(y_test,predictions.toarray())\n",
    "print(\"AUC ROC score=\",auc_lps)\n",
    "#f1 score\n",
    "f1_lps=f1_score(y_test,predictions.toarray(),average='micro')\n",
    "print(\"f1 score=\",f1_lps)\n",
    "#precision score micro averaged\n",
    "pre_lps=precision_score(y_test,predictions.toarray(),average='micro')\n",
    "print(\"average precision score=\",pre_lps)\n",
    "print(\"\\n\")\n",
    "\n",
    "#coverage error\n",
    "ce_lps=coverage_error(y_test,predictions.toarray())\n",
    "print(\"coverage area=\",ce_lps)\n",
    "#label ranking \n",
    "lr_lps=label_ranking_average_precision_score(y_test,predictions.toarray())\n",
    "print(\"label ranking average precision score=\",lr_lps)"
   ]
  },
  {
   "cell_type": "code",
   "execution_count": 53,
   "id": "b6b0a723",
   "metadata": {},
   "outputs": [
    {
     "data": {
      "text/plain": [
       "array([[[13,  2],\n",
       "        [ 6,  2]],\n",
       "\n",
       "       [[14,  7],\n",
       "        [ 1,  1]],\n",
       "\n",
       "       [[16,  5],\n",
       "        [ 1,  1]],\n",
       "\n",
       "       [[18,  0],\n",
       "        [ 4,  1]],\n",
       "\n",
       "       [[15,  2],\n",
       "        [ 4,  2]]])"
      ]
     },
     "execution_count": 53,
     "metadata": {},
     "output_type": "execute_result"
    }
   ],
   "source": [
    "#confusion matrix for label powerset\n",
    "conf_mat2=multilabel_confusion_matrix(y_test,predictions)\n",
    "conf_mat2"
   ]
  },
  {
   "cell_type": "code",
   "execution_count": 54,
   "id": "048c3aee",
   "metadata": {},
   "outputs": [
    {
     "data": {
      "image/png": "[encoded data removed]",
      "text/plain": [
       "<Figure size 1080x504 with 10 Axes>"
      ]
     },
     "metadata": {
      "needs_background": "light"
     },
     "output_type": "display_data"
    }
   ],
   "source": [
    "#plotting heatmap of confusion matrix\n",
    "a = 2  # number of rows\n",
    "b = 3  # number of columns\n",
    "c = 1  # initialize plot counter\n",
    "fig = plt.figure(figsize=(15,7))\n",
    "for i in range(0,5): \n",
    "    plt.subplot(a, b, c)\n",
    "    plt.title('{}'.format(i+1),weight='bold')\n",
    "    sns.heatmap(conf_mat2[i],annot=True,cmap='plasma',fmt=\"0.2f\",linewidths=3,linecolor='black')\n",
    "    c = c + 1\n",
    "    plt.tight_layout()\n",
    "plt.show()"
   ]
  },
  {
   "cell_type": "markdown",
   "id": "8b91495b",
   "metadata": {},
   "source": [
    "### 2 ) Classifier chain with MultinomialNB classifier (ensemble)"
   ]
  },
  {
   "cell_type": "code",
   "execution_count": 55,
   "id": "47bf7aab",
   "metadata": {},
   "outputs": [
    {
     "name": "stdout",
     "output_type": "stream",
     "text": [
      "Accuracy =  26.08695652173913\n",
      "Cross validation score= 36.666666666666664\n",
      "\n",
      "\n",
      "log loss= 15.506688232006331\n",
      "hamming loss= 0.23478260869565218\n",
      "\n",
      "\n",
      "AUC ROC score= 0.5411764705882354\n",
      "f1 score= 0.30769230769230765\n",
      "average precision score= 0.375\n",
      "\n",
      "\n",
      "coverage area= 3.9565217391304346\n",
      "label ranking average precision score= 0.40869565217391307\n"
     ]
    }
   ],
   "source": [
    "#create and fit classifier\n",
    "from sklearn.naive_bayes import MultinomialNB\n",
    "from skmultilearn.problem_transform import ClassifierChain\n",
    "classifier3 = ClassifierChain(MultinomialNB())\n",
    "classifier3.fit(x_train, y_train)\n",
    "\n",
    "#predictions\n",
    "predictions = classifier3.predict(x_test)\n",
    "# accuracy\n",
    "acc_cc=accuracy_score(y_test,predictions)*100\n",
    "print(\"Accuracy = \",acc_cc)\n",
    "#cross validation score\n",
    "cv_cc=cross_val_score(classifier3,x,y,cv=3).mean()*100\n",
    "print(\"Cross validation score=\",cv_cc)\n",
    "print(\"\\n\")\n",
    "\n",
    "#log loss\n",
    "loss_cc=log_loss(y_test,predictions.toarray())\n",
    "print(\"log loss=\",loss_cc)\n",
    "#hamming loss\n",
    "hamm_loss_cc=hamming_loss(y_test,predictions)\n",
    "print(\"hamming loss=\",hamm_loss_cc)\n",
    "print(\"\\n\")\n",
    "\n",
    "#auc roc score\n",
    "auc_cc=roc_auc_score(y_test,predictions.toarray())\n",
    "print(\"AUC ROC score=\",auc_cc)\n",
    "#f1 score\n",
    "f1_cc=f1_score(y_test,predictions.toarray(),average='micro')\n",
    "print(\"f1 score=\",f1_cc)\n",
    "#precision score micro averaged\n",
    "pre_cc=precision_score(y_test,predictions.toarray(),average='micro')\n",
    "print(\"average precision score=\",pre_cc)\n",
    "print(\"\\n\")\n",
    "\n",
    "#coverage error\n",
    "ce_cc=coverage_error(y_test,predictions.toarray())\n",
    "print(\"coverage area=\",ce_cc)\n",
    "\n",
    "#label ranking \n",
    "lr_cc=label_ranking_average_precision_score(y_test,predictions.toarray())\n",
    "print(\"label ranking average precision score=\",lr_cc)"
   ]
  },
  {
   "cell_type": "code",
   "execution_count": 56,
   "id": "202ff1fa",
   "metadata": {},
   "outputs": [
    {
     "data": {
      "text/plain": [
       "array([[[15,  0],\n",
       "        [ 8,  0]],\n",
       "\n",
       "       [[21,  0],\n",
       "        [ 2,  0]],\n",
       "\n",
       "       [[21,  0],\n",
       "        [ 2,  0]],\n",
       "\n",
       "       [[18,  0],\n",
       "        [ 5,  0]],\n",
       "\n",
       "       [[ 7, 10],\n",
       "        [ 0,  6]]])"
      ]
     },
     "execution_count": 56,
     "metadata": {},
     "output_type": "execute_result"
    }
   ],
   "source": [
    "#confusion matrix for classifier chain\n",
    "conf_mat3=multilabel_confusion_matrix(y_test,predictions)\n",
    "conf_mat3"
   ]
  },
  {
   "cell_type": "code",
   "execution_count": 57,
   "id": "dc3975fe",
   "metadata": {},
   "outputs": [
    {
     "data": {
      "image/png": "[encoded data removed]",
      "text/plain": [
       "<Figure size 1080x504 with 10 Axes>"
      ]
     },
     "metadata": {
      "needs_background": "light"
     },
     "output_type": "display_data"
    }
   ],
   "source": [
    "#plotting heatmap of confusion matrix\n",
    "a = 2  # number of rows\n",
    "b = 3  # number of columns\n",
    "c = 1  # initialize plot counter\n",
    "fig = plt.figure(figsize=(15,7))\n",
    "for i in range(0,5): \n",
    "    plt.subplot(a, b, c)\n",
    "    plt.title('{}'.format(i+1),weight='bold')\n",
    "    sns.heatmap(conf_mat3[i],annot=True,cmap='plasma',fmt=\"0.2f\",linewidths=3,linecolor='black')\n",
    "    c = c + 1\n",
    "    plt.tight_layout()\n",
    "plt.show()"
   ]
  },
  {
   "cell_type": "markdown",
   "id": "dcd6799e",
   "metadata": {},
   "source": [
    "### 3) Adapted Algorithm\n",
    "Adapted algorithm, as the name suggests, adapting the algorithm to directly perform multi-label classification, rather than transforming the problem into different subsets of problems.\n",
    "\n",
    "For example, multi-label version of kNN is represented by MLkNN. So, let us quickly implement this on our randomly generated data set."
   ]
  },
  {
   "cell_type": "code",
   "execution_count": 58,
   "id": "d9a1d43f",
   "metadata": {},
   "outputs": [
    {
     "name": "stdout",
     "output_type": "stream",
     "text": [
      "Accuracy =  34.78260869565217\n",
      "Cross validation score= 28.888888888888886\n",
      "\n",
      "\n",
      "log loss= 16.828584311926697\n",
      "hamming loss= 0.23478260869565218\n",
      "\n",
      "\n",
      "AUC ROC score= 0.6027731092436974\n",
      "f1 score= 0.37209302325581395\n",
      "average precision score= 0.4\n",
      "\n",
      "\n",
      "label ranking average precision score= 0.4782608695652173\n",
      "coverage area= 3.608695652173913\n"
     ]
    }
   ],
   "source": [
    "from skmultilearn.adapt import MLkNN\n",
    "classifier4 = MLkNN(k=3)\n",
    "# train\n",
    "classifier4.fit(x_train, y_train.values)\n",
    "#predictions\n",
    "predictions = classifier4.predict(x_test)\n",
    "\n",
    "# accuracy\n",
    "acc_mlknn=accuracy_score(y_test,predictions)*100\n",
    "print(\"Accuracy = \",acc_mlknn)\n",
    "#cross validation score\n",
    "cv_mlknn=cross_val_score(classifier4,x,y.values,cv=3).mean()*100\n",
    "print(\"Cross validation score=\",cv_mlknn)\n",
    "print(\"\\n\")\n",
    "\n",
    "#log loss\n",
    "loss_mlknn=log_loss(y_test,predictions.toarray())\n",
    "print(\"log loss=\",loss_mlknn)\n",
    "#hamming loss\n",
    "hamm_loss_mlknn=hamming_loss(y_test,predictions)\n",
    "print(\"hamming loss=\",hamm_loss_mlknn)\n",
    "print(\"\\n\")\n",
    "\n",
    "#auc roc score\n",
    "auc_mlknn=roc_auc_score(y_test,predictions.toarray())\n",
    "print(\"AUC ROC score=\",auc_mlknn)\n",
    "#f1 score\n",
    "f1_mlknn=f1_score(y_test,predictions.toarray(),average='micro')\n",
    "print(\"f1 score=\",f1_mlknn)\n",
    "#precision score micro averaged\n",
    "pre_mlknn=precision_score(y_test,predictions.toarray(),average='micro')\n",
    "print(\"average precision score=\",pre_mlknn)\n",
    "print(\"\\n\")\n",
    "\n",
    "#label ranking \n",
    "lr_mlknn=label_ranking_average_precision_score(y_test,predictions.toarray())\n",
    "print(\"label ranking average precision score=\",lr_mlknn)\n",
    "#coverage error\n",
    "ce_mlknn=coverage_error(y_test,predictions.toarray())\n",
    "print(\"coverage area=\",ce_mlknn)"
   ]
  },
  {
   "cell_type": "code",
   "execution_count": 59,
   "id": "03975c14",
   "metadata": {},
   "outputs": [
    {
     "data": {
      "text/plain": [
       "array([[[15,  0],\n",
       "        [ 8,  0]],\n",
       "\n",
       "       [[18,  3],\n",
       "        [ 1,  1]],\n",
       "\n",
       "       [[21,  0],\n",
       "        [ 2,  0]],\n",
       "\n",
       "       [[18,  0],\n",
       "        [ 4,  1]],\n",
       "\n",
       "       [[ 8,  9],\n",
       "        [ 0,  6]]])"
      ]
     },
     "execution_count": 59,
     "metadata": {},
     "output_type": "execute_result"
    }
   ],
   "source": [
    "#confusion matrix for mlknn\n",
    "conf_mat4=multilabel_confusion_matrix(y_test,predictions)\n",
    "conf_mat4"
   ]
  },
  {
   "cell_type": "code",
   "execution_count": 60,
   "id": "ad691914",
   "metadata": {},
   "outputs": [
    {
     "data": {
      "image/png": "[encoded data removed]",
      "text/plain": [
       "<Figure size 1080x504 with 10 Axes>"
      ]
     },
     "metadata": {
      "needs_background": "light"
     },
     "output_type": "display_data"
    }
   ],
   "source": [
    "a = 2  # number of rows\n",
    "b = 3  # number of columns\n",
    "c = 1  # initialize plot counter\n",
    "fig = plt.figure(figsize=(15,7))\n",
    "for i in range(0,5): \n",
    "    plt.subplot(a, b, c)\n",
    "    plt.title('{}'.format(i+1),weight='bold')\n",
    "    sns.heatmap(conf_mat4[i],annot=True,cmap='plasma',fmt=\"0.2f\",linewidths=3,linecolor='black')\n",
    "    c = c + 1\n",
    "    plt.tight_layout()\n",
    "plt.show()"
   ]
  },
  {
   "cell_type": "markdown",
   "id": "c69f66e7",
   "metadata": {},
   "source": [
    "### Comparing all the models performance"
   ]
  },
  {
   "cell_type": "code",
   "execution_count": 61,
   "id": "40a80485",
   "metadata": {},
   "outputs": [
    {
     "data": {
      "text/html": [
       "<div>\n",
       "<style scoped>\n",
       "    .dataframe tbody tr th:only-of-type {\n",
       "        vertical-align: middle;\n",
       "    }\n",
       "\n",
       "    .dataframe tbody tr th {\n",
       "        vertical-align: top;\n",
       "    }\n",
       "\n",
       "    .dataframe thead th {\n",
       "        text-align: right;\n",
       "    }\n",
       "</style>\n",
       "<table border=\"1\" class=\"dataframe\">\n",
       "  <thead>\n",
       "    <tr style=\"text-align: right;\">\n",
       "      <th></th>\n",
       "      <th>Model</th>\n",
       "      <th>Accuracy Score</th>\n",
       "      <th>Cross Validation score</th>\n",
       "      <th>Hamming Loss</th>\n",
       "      <th>Log Loss</th>\n",
       "      <th>Auc-Roc score</th>\n",
       "      <th>F1 Score</th>\n",
       "      <th>Precision</th>\n",
       "      <th>coverage error</th>\n",
       "      <th>Label ranking</th>\n",
       "    </tr>\n",
       "  </thead>\n",
       "  <tbody>\n",
       "    <tr>\n",
       "      <th>0</th>\n",
       "      <td>Adapted algorithm</td>\n",
       "      <td>34.782609</td>\n",
       "      <td>28.888889</td>\n",
       "      <td>0.234783</td>\n",
       "      <td>16.828584</td>\n",
       "      <td>0.602773</td>\n",
       "      <td>0.372093</td>\n",
       "      <td>0.400000</td>\n",
       "      <td>3.608696</td>\n",
       "      <td>0.478261</td>\n",
       "    </tr>\n",
       "    <tr>\n",
       "      <th>1</th>\n",
       "      <td>Label powerset</td>\n",
       "      <td>30.434783</td>\n",
       "      <td>32.222222</td>\n",
       "      <td>0.278261</td>\n",
       "      <td>24.026975</td>\n",
       "      <td>0.596092</td>\n",
       "      <td>0.304348</td>\n",
       "      <td>0.304348</td>\n",
       "      <td>3.782609</td>\n",
       "      <td>0.443478</td>\n",
       "    </tr>\n",
       "    <tr>\n",
       "      <th>2</th>\n",
       "      <td>Classifier chain</td>\n",
       "      <td>26.086957</td>\n",
       "      <td>36.666667</td>\n",
       "      <td>0.234783</td>\n",
       "      <td>15.506688</td>\n",
       "      <td>0.541176</td>\n",
       "      <td>0.307692</td>\n",
       "      <td>0.375000</td>\n",
       "      <td>3.956522</td>\n",
       "      <td>0.408696</td>\n",
       "    </tr>\n",
       "    <tr>\n",
       "      <th>3</th>\n",
       "      <td>Binary Relevance</td>\n",
       "      <td>21.739130</td>\n",
       "      <td>27.777778</td>\n",
       "      <td>0.434783</td>\n",
       "      <td>8.274611</td>\n",
       "      <td>0.644629</td>\n",
       "      <td>0.418605</td>\n",
       "      <td>0.285714</td>\n",
       "      <td>3.608696</td>\n",
       "      <td>0.415942</td>\n",
       "    </tr>\n",
       "  </tbody>\n",
       "</table>\n",
       "</div>"
      ],
      "text/plain": [
       "               Model  Accuracy Score  Cross Validation score  Hamming Loss  \\\n",
       "0  Adapted algorithm       34.782609               28.888889      0.234783   \n",
       "1     Label powerset       30.434783               32.222222      0.278261   \n",
       "2   Classifier chain       26.086957               36.666667      0.234783   \n",
       "3   Binary Relevance       21.739130               27.777778      0.434783   \n",
       "\n",
       "    Log Loss   Auc-Roc score  F1 Score  Precision  coverage error  \\\n",
       "0  16.828584        0.602773  0.372093   0.400000        3.608696   \n",
       "1  24.026975        0.596092  0.304348   0.304348        3.782609   \n",
       "2  15.506688        0.541176  0.307692   0.375000        3.956522   \n",
       "3   8.274611        0.644629  0.418605   0.285714        3.608696   \n",
       "\n",
       "   Label ranking  \n",
       "0       0.478261  \n",
       "1       0.443478  \n",
       "2       0.408696  \n",
       "3       0.415942  "
      ]
     },
     "execution_count": 61,
     "metadata": {},
     "output_type": "execute_result"
    }
   ],
   "source": [
    "#creating a comparision table for better understanding\n",
    "\n",
    "df_comparison_heading=pd.DataFrame({\n",
    "    \"Model\":['Binary Relevance',\"Classifier chain\",\"Label powerset\",\"Adapted algorithm\"],\n",
    "    \"Accuracy Score\":[acc_br,acc_cc,acc_lps,acc_mlknn],\n",
    "    \"Cross Validation score\":[cv_br,cv_cc,cv_lps,cv_mlknn],\n",
    "    \"Hamming Loss\":[hamm_loss_br,hamm_loss_cc,hamm_loss_lps,hamm_loss_mlknn],\n",
    "    \"Log Loss\":[loss_br,loss_cc,loss_lps,loss_mlknn],\n",
    "    \" Auc-Roc score\":[auc_br,auc_cc,auc_lps,auc_mlknn],\n",
    "    \"F1 Score\":[f1_br,f1_cc,f1_lps,f1_mlknn],\n",
    "    \"Precision\":[pre_br,pre_cc,pre_lps,pre_mlknn],\n",
    "    \"coverage error\":[ce_br,ce_cc,ce_lps,ce_mlknn],\n",
    "    \"Label ranking\":[lr_br,lr_cc,lr_lps,lr_mlknn]})\n",
    "    \n",
    "\n",
    "df_comparison_heading.sort_values(by=\"Accuracy Score\",ascending=False,ignore_index=True)"
   ]
  },
  {
   "cell_type": "markdown",
   "id": "79a98599",
   "metadata": {},
   "source": [
    "#### Conclusion:\n",
    "* The hamming loss for Binary Relevance is the least among all.\n",
    "* The log loss is least for Binary Relevance.\n",
    "* The AUC ROC Score for Binary Relevance is maximum which is 0.7\n",
    "* The accuracy score of Adapted Algorithm is best out of 4 selected models."
   ]
  },
  {
   "cell_type": "markdown",
   "id": "b9de06fe",
   "metadata": {},
   "source": [
    "# Building model based on actual reviews and evaluation of its performance"
   ]
  },
  {
   "cell_type": "code",
   "execution_count": 62,
   "id": "db940337",
   "metadata": {},
   "outputs": [],
   "source": [
    "# Separation of Labels and Features\n",
    "z = df['Review']\n",
    "y = df[['1 Star','2 Star','3 Star','4 Star','5 Star']]"
   ]
  },
  {
   "cell_type": "code",
   "execution_count": 63,
   "id": "43af4270",
   "metadata": {},
   "outputs": [
    {
     "data": {
      "text/plain": [
       "(4097,)"
      ]
     },
     "execution_count": 63,
     "metadata": {},
     "output_type": "execute_result"
    }
   ],
   "source": [
    "z.shape"
   ]
  },
  {
   "cell_type": "code",
   "execution_count": 64,
   "id": "7f9ab3a9",
   "metadata": {},
   "outputs": [
    {
     "data": {
      "text/plain": [
       "(4097, 5)"
      ]
     },
     "execution_count": 64,
     "metadata": {},
     "output_type": "execute_result"
    }
   ],
   "source": [
    "y.shape"
   ]
  },
  {
   "cell_type": "code",
   "execution_count": 65,
   "id": "88bc71a8",
   "metadata": {},
   "outputs": [],
   "source": [
    "#transforming words to vectors\n",
    "#initiate tfid\n",
    "from sklearn.feature_extraction.text import TfidfVectorizer\n",
    "tf = TfidfVectorizer()\n",
    "#convert text into vectors\n",
    "z = tf.fit_transform(z)"
   ]
  },
  {
   "cell_type": "code",
   "execution_count": 66,
   "id": "822b24c9",
   "metadata": {},
   "outputs": [],
   "source": [
    "#splitting data into training and testing\n",
    "from sklearn.model_selection import train_test_split\n",
    "x_train, x_test, y_train, y_test = train_test_split(z, y, test_size=0.25, random_state=123)"
   ]
  },
  {
   "cell_type": "markdown",
   "id": "59054941",
   "metadata": {},
   "source": [
    "# 1) Power Transformation\n",
    "# 1.1 Binary relevance with GuassianNb as base classifier"
   ]
  },
  {
   "cell_type": "code",
   "execution_count": 67,
   "id": "313bc812",
   "metadata": {},
   "outputs": [
    {
     "name": "stdout",
     "output_type": "stream",
     "text": [
      "Accuracy =  14.829268292682926\n",
      "Cross validation score= 15.694352824660292\n",
      "\n",
      "\n",
      "log loss= 22.025771594469354\n",
      "hamming loss= 0.4743414634146341\n",
      "\n",
      "\n",
      "f1 score= 0.2210829862223646\n",
      "average precision score= 0.16459923664122136\n",
      "AUC ROC score= 0.5333059559537092\n",
      "\n",
      "\n",
      "label ranking average precision score= 0.350894308943085\n",
      "coverage area= 4.012682926829268\n",
      "\n",
      "\n"
     ]
    }
   ],
   "source": [
    "# using binary relevance\n",
    "from skmultilearn.problem_transform import BinaryRelevance\n",
    "from sklearn.naive_bayes import GaussianNB\n",
    "\n",
    "# initialize binary relevance multi-label classifier\n",
    "# with a gaussian naive bayes base classifier\n",
    "classifier1 = BinaryRelevance(GaussianNB())\n",
    "\n",
    "# train\n",
    "classifier1.fit(x_train, y_train)\n",
    "# predict\n",
    "predictions = classifier1.predict(x_test)\n",
    "\n",
    "# accuracy\n",
    "acc_br=accuracy_score(y_test,predictions)*100\n",
    "print(\"Accuracy = \",acc_br)\n",
    "#cross validation score\n",
    "cv_br=cross_val_score(classifier1,z,y,cv=3).mean()*100\n",
    "print(\"Cross validation score=\",cv_br)\n",
    "print(\"\\n\")\n",
    "\n",
    "#log loss\n",
    "loss_br=log_loss(y_test,predictions.toarray())\n",
    "print(\"log loss=\",loss_br)\n",
    "#hamming loss\n",
    "hamm_loss_br=hamming_loss(y_test,predictions)\n",
    "print(\"hamming loss=\",hamm_loss_br) \n",
    "print(\"\\n\")\n",
    "\n",
    "\n",
    "#f1 score\n",
    "f1_br=f1_score(y_test,predictions.toarray(),average='micro')\n",
    "print(\"f1 score=\",f1_br)\n",
    "#precision score micro averaged\n",
    "pre_br=precision_score(y_test,predictions.toarray(),average='micro')\n",
    "print(\"average precision score=\",pre_br)\n",
    "#auc roc curve\n",
    "auc_br=roc_auc_score(y_test,predictions.toarray())\n",
    "print(\"AUC ROC score=\",auc_br)\n",
    "print(\"\\n\")\n",
    "\n",
    "\n",
    "#label ranking \n",
    "lr_br=label_ranking_average_precision_score(y_test,predictions.toarray())\n",
    "print(\"label ranking average precision score=\",lr_br)\n",
    "#coverage error\n",
    "ce_br=coverage_error(y_test,predictions.toarray())\n",
    "print(\"coverage area=\",ce_br)\n",
    "print(\"\\n\")"
   ]
  },
  {
   "cell_type": "code",
   "execution_count": 68,
   "id": "9a98005f",
   "metadata": {},
   "outputs": [
    {
     "data": {
      "text/plain": [
       "array([[[618, 361],\n",
       "        [ 19,  27]],\n",
       "\n",
       "       [[813, 200],\n",
       "        [ 10,   2]],\n",
       "\n",
       "       [[467, 515],\n",
       "        [ 17,  26]],\n",
       "\n",
       "       [[178, 634],\n",
       "        [ 40, 173]],\n",
       "\n",
       "       [[273,  41],\n",
       "        [594, 117]]])"
      ]
     },
     "execution_count": 68,
     "metadata": {},
     "output_type": "execute_result"
    }
   ],
   "source": [
    "#confusion matrix for binary relevance\n",
    "conf_mat1=multilabel_confusion_matrix(y_test,predictions)\n",
    "conf_mat1"
   ]
  },
  {
   "cell_type": "code",
   "execution_count": 69,
   "id": "aa51c230",
   "metadata": {},
   "outputs": [
    {
     "data": {
      "image/png": "[encoded data removed]",
      "text/plain": [
       "<Figure size 1080x504 with 10 Axes>"
      ]
     },
     "metadata": {
      "needs_background": "light"
     },
     "output_type": "display_data"
    }
   ],
   "source": [
    "#plotting heatmap of confusion matrix\n",
    "a = 2  # number of rows\n",
    "b = 3  # number of columns\n",
    "c = 1  # initialize plot counter\n",
    "fig = plt.figure(figsize=(15,7))\n",
    "for i in range(0,5):\n",
    "    plt.subplot(a, b, c)\n",
    "    plt.title('{}'.format(i+1),weight='bold')\n",
    "    sns.heatmap(conf_mat1[i],annot=True,cmap='plasma',fmt=\"0.2f\",linewidths=3,linecolor='black')\n",
    "    c = c + 1\n",
    "    plt.tight_layout()\n",
    "plt.show()"
   ]
  },
  {
   "cell_type": "markdown",
   "id": "f6f2de63",
   "metadata": {},
   "source": [
    "# 1.2 Label powerset"
   ]
  },
  {
   "cell_type": "code",
   "execution_count": 70,
   "id": "faf16c89",
   "metadata": {},
   "outputs": [
    {
     "name": "stdout",
     "output_type": "stream",
     "text": [
      "Accuracy =  19.121951219512194\n",
      "Cross validation score= 19.770566183450512\n",
      "\n",
      "\n",
      "log loss= 27.93428842085948\n",
      "hamming loss= 0.32351219512195123\n",
      "\n",
      "\n",
      "AUC ROC score= 0.5000920564301283\n",
      "f1 score= 0.19121951219512195\n",
      "average precision score= 0.19121951219512195\n",
      "\n",
      "\n",
      "coverage area= 4.235121951219512\n",
      "label ranking average precision score= 0.35297560975609216\n"
     ]
    }
   ],
   "source": [
    "#create and fit classifier\n",
    "from skmultilearn.problem_transform import LabelPowerset\n",
    "from sklearn.naive_bayes import GaussianNB\n",
    "\n",
    "# initialize Label Powerset multi-label classifier\n",
    "# with a gaussian naive bayes base classifier\n",
    "classifier2 = LabelPowerset(GaussianNB())\n",
    "classifier2.fit(x_train, y_train)\n",
    "#predictions\n",
    "predictions = classifier2.predict(x_test)\n",
    "\n",
    "# accuracy\n",
    "acc_lps=accuracy_score(y_test,predictions)*100\n",
    "print(\"Accuracy = \",acc_lps)\n",
    "#cross validation score\n",
    "cv_lps=cross_val_score(classifier2,z,y,cv=3).mean()*100\n",
    "print(\"Cross validation score=\",cv_lps)\n",
    "print(\"\\n\")\n",
    "\n",
    "#log loss\n",
    "loss_lps=log_loss(y_test,predictions.toarray())\n",
    "print(\"log loss=\",loss_lps)\n",
    "#hamming loss\n",
    "hamm_loss_lps=hamming_loss(y_test,predictions)\n",
    "print(\"hamming loss=\",hamm_loss_lps)\n",
    "print(\"\\n\")\n",
    "\n",
    "#auc roc score\n",
    "auc_lps=roc_auc_score(y_test,predictions.toarray())\n",
    "print(\"AUC ROC score=\",auc_lps)\n",
    "#f1 score\n",
    "f1_lps=f1_score(y_test,predictions.toarray(),average='micro')\n",
    "print(\"f1 score=\",f1_lps)\n",
    "#precision score micro averaged\n",
    "pre_lps=precision_score(y_test,predictions.toarray(),average='micro')\n",
    "print(\"average precision score=\",pre_lps)\n",
    "print(\"\\n\")\n",
    "\n",
    "#coverage error\n",
    "ce_lps=coverage_error(y_test,predictions.toarray())\n",
    "print(\"coverage area=\",ce_lps)\n",
    "#label ranking \n",
    "lr_lps=label_ranking_average_precision_score(y_test,predictions.toarray())\n",
    "print(\"label ranking average precision score=\",lr_lps)"
   ]
  },
  {
   "cell_type": "code",
   "execution_count": 71,
   "id": "8baaa3d7",
   "metadata": {},
   "outputs": [
    {
     "data": {
      "text/plain": [
       "array([[[898,  81],\n",
       "        [ 35,  11]],\n",
       "\n",
       "       [[818, 195],\n",
       "        [ 10,   2]],\n",
       "\n",
       "       [[668, 314],\n",
       "        [ 35,   8]],\n",
       "\n",
       "       [[622, 190],\n",
       "        [168,  45]],\n",
       "\n",
       "       [[265,  49],\n",
       "        [581, 130]]])"
      ]
     },
     "execution_count": 71,
     "metadata": {},
     "output_type": "execute_result"
    }
   ],
   "source": [
    "#confusion matrix for label powerset\n",
    "conf_mat2=multilabel_confusion_matrix(y_test,predictions)\n",
    "conf_mat2"
   ]
  },
  {
   "cell_type": "code",
   "execution_count": 72,
   "id": "881ad191",
   "metadata": {},
   "outputs": [
    {
     "data": {
      "image/png": "[encoded data removed]",
      "text/plain": [
       "<Figure size 1080x504 with 10 Axes>"
      ]
     },
     "metadata": {
      "needs_background": "light"
     },
     "output_type": "display_data"
    }
   ],
   "source": [
    "#plotting heatmap of confusion matrix\n",
    "a = 2  # number of rows\n",
    "b = 3  # number of columns\n",
    "c = 1  # initialize plot counter\n",
    "fig = plt.figure(figsize=(15,7))\n",
    "for i in range(0,5): \n",
    "    plt.subplot(a, b, c)\n",
    "    plt.title('{}'.format(i+1),weight='bold')\n",
    "    sns.heatmap(conf_mat2[i],annot=True,cmap='plasma',fmt=\"0.2f\",linewidths=3,linecolor='black')\n",
    "    c = c + 1\n",
    "    plt.tight_layout()\n",
    "plt.show()"
   ]
  },
  {
   "cell_type": "markdown",
   "id": "9d52a086",
   "metadata": {},
   "source": [
    "# 2 ) Classifier chain with MultinomialNB classifier (ensemble)"
   ]
  },
  {
   "cell_type": "code",
   "execution_count": 73,
   "id": "efd0af61",
   "metadata": {},
   "outputs": [
    {
     "name": "stdout",
     "output_type": "stream",
     "text": [
      "Accuracy =  68.39024390243902\n",
      "Cross validation score= 68.63548197369575\n",
      "\n",
      "\n",
      "log loss= 9.664701805984857\n",
      "hamming loss= 0.11882926829268292\n",
      "\n",
      "\n",
      "AUC ROC score= 0.5105819389447221\n",
      "f1 score= 0.6971655892590751\n",
      "average precision score= 0.7109533468559838\n",
      "\n",
      "\n",
      "coverage area= 2.264390243902439\n",
      "label ranking average precision score= 0.7471219512195153\n"
     ]
    }
   ],
   "source": [
    "#create and fit classifier\n",
    "from sklearn.naive_bayes import MultinomialNB\n",
    "from skmultilearn.problem_transform import ClassifierChain\n",
    "classifier3 = ClassifierChain(MultinomialNB())\n",
    "classifier3.fit(x_train, y_train)\n",
    "\n",
    "#predictions\n",
    "predictions = classifier3.predict(x_test)\n",
    "# accuracy\n",
    "acc_cc=accuracy_score(y_test,predictions)*100\n",
    "print(\"Accuracy = \",acc_cc)\n",
    "#cross validation score\n",
    "cv_cc=cross_val_score(classifier3,z,y,cv=3).mean()*100\n",
    "print(\"Cross validation score=\",cv_cc)\n",
    "print(\"\\n\")\n",
    "\n",
    "#log loss\n",
    "loss_cc=log_loss(y_test,predictions.toarray())\n",
    "print(\"log loss=\",loss_cc)\n",
    "#hamming loss\n",
    "hamm_loss_cc=hamming_loss(y_test,predictions)\n",
    "print(\"hamming loss=\",hamm_loss_cc)\n",
    "print(\"\\n\")\n",
    "\n",
    "#auc roc score\n",
    "auc_cc=roc_auc_score(y_test,predictions.toarray())\n",
    "print(\"AUC ROC score=\",auc_cc)\n",
    "#f1 score\n",
    "f1_cc=f1_score(y_test,predictions.toarray(),average='micro')\n",
    "print(\"f1 score=\",f1_cc)\n",
    "#precision score micro averaged\n",
    "pre_cc=precision_score(y_test,predictions.toarray(),average='micro')\n",
    "print(\"average precision score=\",pre_cc)\n",
    "print(\"\\n\")\n",
    "\n",
    "#coverage error\n",
    "ce_cc=coverage_error(y_test,predictions.toarray())\n",
    "print(\"coverage area=\",ce_cc)\n",
    "\n",
    "#label ranking \n",
    "lr_cc=label_ranking_average_precision_score(y_test,predictions.toarray())\n",
    "print(\"label ranking average precision score=\",lr_cc)"
   ]
  },
  {
   "cell_type": "code",
   "execution_count": 74,
   "id": "a5841cd0",
   "metadata": {},
   "outputs": [
    {
     "data": {
      "text/plain": [
       "array([[[ 979,    0],\n",
       "        [  45,    1]],\n",
       "\n",
       "       [[1013,    0],\n",
       "        [  12,    0]],\n",
       "\n",
       "       [[ 982,    0],\n",
       "        [  43,    0]],\n",
       "\n",
       "       [[ 810,    2],\n",
       "        [ 212,    1]],\n",
       "\n",
       "       [[  31,  283],\n",
       "        [  12,  699]]])"
      ]
     },
     "execution_count": 74,
     "metadata": {},
     "output_type": "execute_result"
    }
   ],
   "source": [
    "#confusion matrix for classifier chain\n",
    "conf_mat3=multilabel_confusion_matrix(y_test,predictions)\n",
    "conf_mat3"
   ]
  },
  {
   "cell_type": "code",
   "execution_count": 75,
   "id": "b6a22b48",
   "metadata": {},
   "outputs": [
    {
     "data": {
      "image/png": "[encoded data removed]",
      "text/plain": [
       "<Figure size 1080x504 with 10 Axes>"
      ]
     },
     "metadata": {
      "needs_background": "light"
     },
     "output_type": "display_data"
    }
   ],
   "source": [
    "#plotting heatmap of confusion matrix\n",
    "a = 2  # number of rows\n",
    "b = 3  # number of columns\n",
    "c = 1  # initialize plot counter\n",
    "fig = plt.figure(figsize=(15,7))\n",
    "for i in range(0,5): \n",
    "    plt.subplot(a, b, c)\n",
    "    plt.title('{}'.format(i+1),weight='bold')\n",
    "    sns.heatmap(conf_mat3[i],annot=True,cmap='plasma',fmt=\"0.2f\",linewidths=3,linecolor='black')\n",
    "    c = c + 1\n",
    "    plt.tight_layout()\n",
    "plt.show()"
   ]
  },
  {
   "cell_type": "markdown",
   "id": "468e5578",
   "metadata": {},
   "source": [
    "# 3) Adapted Algorithm"
   ]
  },
  {
   "cell_type": "code",
   "execution_count": 76,
   "id": "23b0b8f1",
   "metadata": {},
   "outputs": [
    {
     "name": "stdout",
     "output_type": "stream",
     "text": [
      "Accuracy =  64.97560975609757\n",
      "Cross validation score= 64.90138135818955\n",
      "\n",
      "\n",
      "log loss= 10.169424796901797\n",
      "hamming loss= 0.12839024390243903\n",
      "\n",
      "\n",
      "AUC ROC score= 0.5569075774582245\n",
      "f1 score= 0.6693467336683417\n",
      "average precision score= 0.6901554404145078\n",
      "\n",
      "\n",
      "label ranking average precision score= 0.7198048780487833\n",
      "coverage area= 2.4009756097560975\n"
     ]
    }
   ],
   "source": [
    "from skmultilearn.adapt import MLkNN\n",
    "classifier4 = MLkNN(k=3)\n",
    "# train\n",
    "classifier4.fit(x_train, y_train.values)\n",
    "#predictions\n",
    "predictions = classifier4.predict(x_test)\n",
    "\n",
    "# accuracy\n",
    "acc_mlknn=accuracy_score(y_test,predictions)*100\n",
    "print(\"Accuracy = \",acc_mlknn)\n",
    "#cross validation score\n",
    "cv_mlknn=cross_val_score(classifier4,z,y.values,cv=3).mean()*100\n",
    "print(\"Cross validation score=\",cv_mlknn)\n",
    "print(\"\\n\")\n",
    "\n",
    "#log loss\n",
    "loss_mlknn=log_loss(y_test,predictions.toarray())\n",
    "print(\"log loss=\",loss_mlknn)\n",
    "#hamming loss\n",
    "hamm_loss_mlknn=hamming_loss(y_test,predictions)\n",
    "print(\"hamming loss=\",hamm_loss_mlknn)\n",
    "print(\"\\n\")\n",
    "\n",
    "#auc roc score\n",
    "auc_mlknn=roc_auc_score(y_test,predictions.toarray())\n",
    "print(\"AUC ROC score=\",auc_mlknn)\n",
    "#f1 score\n",
    "f1_mlknn=f1_score(y_test,predictions.toarray(),average='micro')\n",
    "print(\"f1 score=\",f1_mlknn)\n",
    "#precision score micro averaged\n",
    "pre_mlknn=precision_score(y_test,predictions.toarray(),average='micro')\n",
    "print(\"average precision score=\",pre_mlknn)\n",
    "print(\"\\n\")\n",
    "\n",
    "#label ranking \n",
    "lr_mlknn=label_ranking_average_precision_score(y_test,predictions.toarray())\n",
    "print(\"label ranking average precision score=\",lr_mlknn)\n",
    "#coverage error\n",
    "ce_mlknn=coverage_error(y_test,predictions.toarray())\n",
    "print(\"coverage area=\",ce_mlknn)"
   ]
  },
  {
   "cell_type": "code",
   "execution_count": 77,
   "id": "c79ca395",
   "metadata": {},
   "outputs": [
    {
     "data": {
      "text/plain": [
       "array([[[ 964,   15],\n",
       "        [  32,   14]],\n",
       "\n",
       "       [[1012,    1],\n",
       "        [  12,    0]],\n",
       "\n",
       "       [[ 975,    7],\n",
       "        [  42,    1]],\n",
       "\n",
       "       [[ 749,   63],\n",
       "        [ 181,   32]],\n",
       "\n",
       "       [[ 101,  213],\n",
       "        [  92,  619]]])"
      ]
     },
     "execution_count": 77,
     "metadata": {},
     "output_type": "execute_result"
    }
   ],
   "source": [
    "#confusion matrix for mlknn\n",
    "conf_mat4=multilabel_confusion_matrix(y_test,predictions)\n",
    "conf_mat4"
   ]
  },
  {
   "cell_type": "code",
   "execution_count": 78,
   "id": "d71a1dbe",
   "metadata": {},
   "outputs": [
    {
     "data": {
      "image/png": "[encoded data removed]",
      "text/plain": [
       "<Figure size 1080x504 with 10 Axes>"
      ]
     },
     "metadata": {
      "needs_background": "light"
     },
     "output_type": "display_data"
    }
   ],
   "source": [
    "a = 2  # number of rows\n",
    "b = 3  # number of columns\n",
    "c = 1  # initialize plot counter\n",
    "fig = plt.figure(figsize=(15,7))\n",
    "for i in range(0,5): \n",
    "    plt.subplot(a, b, c)\n",
    "    plt.title('{}'.format(i+1),weight='bold')\n",
    "    sns.heatmap(conf_mat4[i],annot=True,cmap='plasma',fmt=\"0.2f\",linewidths=3,linecolor='black')\n",
    "    c = c + 1\n",
    "    plt.tight_layout()\n",
    "plt.show()\n",
    "  "
   ]
  },
  {
   "cell_type": "markdown",
   "id": "e9359e29",
   "metadata": {},
   "source": [
    "# Comparing all the models performance"
   ]
  },
  {
   "cell_type": "code",
   "execution_count": 79,
   "id": "6b92ee4d",
   "metadata": {},
   "outputs": [
    {
     "data": {
      "text/html": [
       "<div>\n",
       "<style scoped>\n",
       "    .dataframe tbody tr th:only-of-type {\n",
       "        vertical-align: middle;\n",
       "    }\n",
       "\n",
       "    .dataframe tbody tr th {\n",
       "        vertical-align: top;\n",
       "    }\n",
       "\n",
       "    .dataframe thead th {\n",
       "        text-align: right;\n",
       "    }\n",
       "</style>\n",
       "<table border=\"1\" class=\"dataframe\">\n",
       "  <thead>\n",
       "    <tr style=\"text-align: right;\">\n",
       "      <th></th>\n",
       "      <th>Model</th>\n",
       "      <th>Accuracy Score</th>\n",
       "      <th>Cross Validation score</th>\n",
       "      <th>Hamming Loss</th>\n",
       "      <th>Log Loss</th>\n",
       "      <th>Auc-Roc score</th>\n",
       "      <th>F1 Score</th>\n",
       "      <th>Precision</th>\n",
       "      <th>coverage error</th>\n",
       "      <th>Label ranking</th>\n",
       "    </tr>\n",
       "  </thead>\n",
       "  <tbody>\n",
       "    <tr>\n",
       "      <th>0</th>\n",
       "      <td>Classifier chain</td>\n",
       "      <td>68.390244</td>\n",
       "      <td>68.635482</td>\n",
       "      <td>0.118829</td>\n",
       "      <td>9.664702</td>\n",
       "      <td>0.510582</td>\n",
       "      <td>0.697166</td>\n",
       "      <td>0.710953</td>\n",
       "      <td>2.264390</td>\n",
       "      <td>0.747122</td>\n",
       "    </tr>\n",
       "    <tr>\n",
       "      <th>1</th>\n",
       "      <td>Adapted algorithm</td>\n",
       "      <td>64.975610</td>\n",
       "      <td>64.901381</td>\n",
       "      <td>0.128390</td>\n",
       "      <td>10.169425</td>\n",
       "      <td>0.556908</td>\n",
       "      <td>0.669347</td>\n",
       "      <td>0.690155</td>\n",
       "      <td>2.400976</td>\n",
       "      <td>0.719805</td>\n",
       "    </tr>\n",
       "    <tr>\n",
       "      <th>2</th>\n",
       "      <td>Label powerset</td>\n",
       "      <td>19.121951</td>\n",
       "      <td>19.770566</td>\n",
       "      <td>0.323512</td>\n",
       "      <td>27.934288</td>\n",
       "      <td>0.500092</td>\n",
       "      <td>0.191220</td>\n",
       "      <td>0.191220</td>\n",
       "      <td>4.235122</td>\n",
       "      <td>0.352976</td>\n",
       "    </tr>\n",
       "    <tr>\n",
       "      <th>3</th>\n",
       "      <td>Binary Relevance</td>\n",
       "      <td>14.829268</td>\n",
       "      <td>15.694353</td>\n",
       "      <td>0.474341</td>\n",
       "      <td>22.025772</td>\n",
       "      <td>0.533306</td>\n",
       "      <td>0.221083</td>\n",
       "      <td>0.164599</td>\n",
       "      <td>4.012683</td>\n",
       "      <td>0.350894</td>\n",
       "    </tr>\n",
       "  </tbody>\n",
       "</table>\n",
       "</div>"
      ],
      "text/plain": [
       "               Model  Accuracy Score  Cross Validation score  Hamming Loss  \\\n",
       "0   Classifier chain       68.390244               68.635482      0.118829   \n",
       "1  Adapted algorithm       64.975610               64.901381      0.128390   \n",
       "2     Label powerset       19.121951               19.770566      0.323512   \n",
       "3   Binary Relevance       14.829268               15.694353      0.474341   \n",
       "\n",
       "    Log Loss   Auc-Roc score  F1 Score  Precision  coverage error  \\\n",
       "0   9.664702        0.510582  0.697166   0.710953        2.264390   \n",
       "1  10.169425        0.556908  0.669347   0.690155        2.400976   \n",
       "2  27.934288        0.500092  0.191220   0.191220        4.235122   \n",
       "3  22.025772        0.533306  0.221083   0.164599        4.012683   \n",
       "\n",
       "   Label ranking  \n",
       "0       0.747122  \n",
       "1       0.719805  \n",
       "2       0.352976  \n",
       "3       0.350894  "
      ]
     },
     "execution_count": 79,
     "metadata": {},
     "output_type": "execute_result"
    }
   ],
   "source": [
    "#creating a comparision table for better understanding\n",
    "\n",
    "df_comparison_review=pd.DataFrame({\n",
    "    \"Model\":['Binary Relevance',\"Classifier chain\",\"Label powerset\",\"Adapted algorithm\"],\n",
    "    \"Accuracy Score\":[acc_br,acc_cc,acc_lps,acc_mlknn],\n",
    "    \"Cross Validation score\":[cv_br,cv_cc,cv_lps,cv_mlknn],\n",
    "    \"Hamming Loss\":[hamm_loss_br,hamm_loss_cc,hamm_loss_lps,hamm_loss_mlknn],\n",
    "    \"Log Loss\":[loss_br,loss_cc,loss_lps,loss_mlknn],\n",
    "    \" Auc-Roc score\":[auc_br,auc_cc,auc_lps,auc_mlknn],\n",
    "    \"F1 Score\":[f1_br,f1_cc,f1_lps,f1_mlknn],\n",
    "    \"Precision\":[pre_br,pre_cc,pre_lps,pre_mlknn],\n",
    "    \"coverage error\":[ce_br,ce_cc,ce_lps,ce_mlknn],\n",
    "    \"Label ranking\":[lr_br,lr_cc,lr_lps,lr_mlknn]})\n",
    "    \n",
    "\n",
    "df_comparison_review.sort_values(by=\"Accuracy Score\",ascending=False,ignore_index=True)"
   ]
  },
  {
   "cell_type": "markdown",
   "id": "0f342756",
   "metadata": {},
   "source": [
    "#### Conclusion:\n",
    "* The hamming loss for Classifier Chain is the least among all.\n",
    "* The log loss is least for Classifier Chain.\n",
    "* The AUC ROC Score for Adapted Algorithm is maximum which is 0.55\n",
    "* The accuracy score of Classifier Chain is best out of 4 selected models."
   ]
  },
  {
   "cell_type": "markdown",
   "id": "60239b0a",
   "metadata": {},
   "source": [
    "# Comparison of Model performance for heading and review"
   ]
  },
  {
   "cell_type": "code",
   "execution_count": 80,
   "id": "c5db30b5",
   "metadata": {},
   "outputs": [
    {
     "data": {
      "text/html": [
       "<div>\n",
       "<style scoped>\n",
       "    .dataframe tbody tr th:only-of-type {\n",
       "        vertical-align: middle;\n",
       "    }\n",
       "\n",
       "    .dataframe tbody tr th {\n",
       "        vertical-align: top;\n",
       "    }\n",
       "\n",
       "    .dataframe thead th {\n",
       "        text-align: right;\n",
       "    }\n",
       "</style>\n",
       "<table border=\"1\" class=\"dataframe\">\n",
       "  <thead>\n",
       "    <tr style=\"text-align: right;\">\n",
       "      <th></th>\n",
       "      <th>Model</th>\n",
       "      <th>Accuracy Score</th>\n",
       "      <th>Cross Validation score</th>\n",
       "      <th>Hamming Loss</th>\n",
       "      <th>Log Loss</th>\n",
       "      <th>Auc-Roc score</th>\n",
       "      <th>F1 Score</th>\n",
       "      <th>Precision</th>\n",
       "      <th>coverage error</th>\n",
       "      <th>Label ranking</th>\n",
       "      <th>Data</th>\n",
       "    </tr>\n",
       "  </thead>\n",
       "  <tbody>\n",
       "    <tr>\n",
       "      <th>0</th>\n",
       "      <td>Binary Relevance</td>\n",
       "      <td>21.739130</td>\n",
       "      <td>27.777778</td>\n",
       "      <td>0.434783</td>\n",
       "      <td>8.274611</td>\n",
       "      <td>0.644629</td>\n",
       "      <td>0.418605</td>\n",
       "      <td>0.285714</td>\n",
       "      <td>3.608696</td>\n",
       "      <td>0.415942</td>\n",
       "      <td>Heading</td>\n",
       "    </tr>\n",
       "    <tr>\n",
       "      <th>1</th>\n",
       "      <td>Classifier chain</td>\n",
       "      <td>26.086957</td>\n",
       "      <td>36.666667</td>\n",
       "      <td>0.234783</td>\n",
       "      <td>15.506688</td>\n",
       "      <td>0.541176</td>\n",
       "      <td>0.307692</td>\n",
       "      <td>0.375000</td>\n",
       "      <td>3.956522</td>\n",
       "      <td>0.408696</td>\n",
       "      <td>Heading</td>\n",
       "    </tr>\n",
       "    <tr>\n",
       "      <th>2</th>\n",
       "      <td>Label powerset</td>\n",
       "      <td>30.434783</td>\n",
       "      <td>32.222222</td>\n",
       "      <td>0.278261</td>\n",
       "      <td>24.026975</td>\n",
       "      <td>0.596092</td>\n",
       "      <td>0.304348</td>\n",
       "      <td>0.304348</td>\n",
       "      <td>3.782609</td>\n",
       "      <td>0.443478</td>\n",
       "      <td>Heading</td>\n",
       "    </tr>\n",
       "    <tr>\n",
       "      <th>3</th>\n",
       "      <td>Adapted algorithm</td>\n",
       "      <td>34.782609</td>\n",
       "      <td>28.888889</td>\n",
       "      <td>0.234783</td>\n",
       "      <td>16.828584</td>\n",
       "      <td>0.602773</td>\n",
       "      <td>0.372093</td>\n",
       "      <td>0.400000</td>\n",
       "      <td>3.608696</td>\n",
       "      <td>0.478261</td>\n",
       "      <td>Heading</td>\n",
       "    </tr>\n",
       "    <tr>\n",
       "      <th>0</th>\n",
       "      <td>Binary Relevance</td>\n",
       "      <td>14.829268</td>\n",
       "      <td>15.694353</td>\n",
       "      <td>0.474341</td>\n",
       "      <td>22.025772</td>\n",
       "      <td>0.533306</td>\n",
       "      <td>0.221083</td>\n",
       "      <td>0.164599</td>\n",
       "      <td>4.012683</td>\n",
       "      <td>0.350894</td>\n",
       "      <td>Review</td>\n",
       "    </tr>\n",
       "    <tr>\n",
       "      <th>1</th>\n",
       "      <td>Classifier chain</td>\n",
       "      <td>68.390244</td>\n",
       "      <td>68.635482</td>\n",
       "      <td>0.118829</td>\n",
       "      <td>9.664702</td>\n",
       "      <td>0.510582</td>\n",
       "      <td>0.697166</td>\n",
       "      <td>0.710953</td>\n",
       "      <td>2.264390</td>\n",
       "      <td>0.747122</td>\n",
       "      <td>Review</td>\n",
       "    </tr>\n",
       "    <tr>\n",
       "      <th>2</th>\n",
       "      <td>Label powerset</td>\n",
       "      <td>19.121951</td>\n",
       "      <td>19.770566</td>\n",
       "      <td>0.323512</td>\n",
       "      <td>27.934288</td>\n",
       "      <td>0.500092</td>\n",
       "      <td>0.191220</td>\n",
       "      <td>0.191220</td>\n",
       "      <td>4.235122</td>\n",
       "      <td>0.352976</td>\n",
       "      <td>Review</td>\n",
       "    </tr>\n",
       "    <tr>\n",
       "      <th>3</th>\n",
       "      <td>Adapted algorithm</td>\n",
       "      <td>64.975610</td>\n",
       "      <td>64.901381</td>\n",
       "      <td>0.128390</td>\n",
       "      <td>10.169425</td>\n",
       "      <td>0.556908</td>\n",
       "      <td>0.669347</td>\n",
       "      <td>0.690155</td>\n",
       "      <td>2.400976</td>\n",
       "      <td>0.719805</td>\n",
       "      <td>Review</td>\n",
       "    </tr>\n",
       "  </tbody>\n",
       "</table>\n",
       "</div>"
      ],
      "text/plain": [
       "               Model  Accuracy Score  Cross Validation score  Hamming Loss  \\\n",
       "0   Binary Relevance       21.739130               27.777778      0.434783   \n",
       "1   Classifier chain       26.086957               36.666667      0.234783   \n",
       "2     Label powerset       30.434783               32.222222      0.278261   \n",
       "3  Adapted algorithm       34.782609               28.888889      0.234783   \n",
       "0   Binary Relevance       14.829268               15.694353      0.474341   \n",
       "1   Classifier chain       68.390244               68.635482      0.118829   \n",
       "2     Label powerset       19.121951               19.770566      0.323512   \n",
       "3  Adapted algorithm       64.975610               64.901381      0.128390   \n",
       "\n",
       "    Log Loss   Auc-Roc score  F1 Score  Precision  coverage error  \\\n",
       "0   8.274611        0.644629  0.418605   0.285714        3.608696   \n",
       "1  15.506688        0.541176  0.307692   0.375000        3.956522   \n",
       "2  24.026975        0.596092  0.304348   0.304348        3.782609   \n",
       "3  16.828584        0.602773  0.372093   0.400000        3.608696   \n",
       "0  22.025772        0.533306  0.221083   0.164599        4.012683   \n",
       "1   9.664702        0.510582  0.697166   0.710953        2.264390   \n",
       "2  27.934288        0.500092  0.191220   0.191220        4.235122   \n",
       "3  10.169425        0.556908  0.669347   0.690155        2.400976   \n",
       "\n",
       "   Label ranking     Data  \n",
       "0       0.415942  Heading  \n",
       "1       0.408696  Heading  \n",
       "2       0.443478  Heading  \n",
       "3       0.478261  Heading  \n",
       "0       0.350894   Review  \n",
       "1       0.747122   Review  \n",
       "2       0.352976   Review  \n",
       "3       0.719805   Review  "
      ]
     },
     "execution_count": 80,
     "metadata": {},
     "output_type": "execute_result"
    }
   ],
   "source": [
    "df_comparison_heading['Data']='Heading'\n",
    "df_comparison_review['Data']='Review'\n",
    "df_merged=pd.concat([df_comparison_heading,df_comparison_review])\n",
    "df_merged"
   ]
  },
  {
   "cell_type": "markdown",
   "id": "470b99ef",
   "metadata": {},
   "source": [
    "#### Conclusion:\n",
    "* The hamming loss by Classifier Chain is the least both for heading of reviews and reviews.\n",
    "* The log loss is least by Binary Relevance for heading of reviews and Classifier Chain for reviews. \n",
    "* The AUC ROC Score by Binary Relevanve is maximum for heading and by Adapted Algorithm for reviews.\n",
    "* The accuracy score is best by Adapted Algorithm for heading of reviews and Classifier Chain for reviews. "
   ]
  },
  {
   "cell_type": "markdown",
   "id": "2b839cff",
   "metadata": {},
   "source": [
    "# Saving Best Model"
   ]
  },
  {
   "cell_type": "markdown",
   "id": "435fe8a2",
   "metadata": {},
   "source": [
    "# saving classifier chain as our best model\n",
    "import pickle\n",
    "filename=\"Review_Classification_Laptop_Model.pkl\"\n",
    "pickle.dump(classifier3,open(filename,'wb'))"
   ]
  },
  {
   "cell_type": "code",
   "execution_count": null,
   "id": "7b159428",
   "metadata": {},
   "outputs": [],
   "source": []
  }
 ],
 "metadata": {
  "kernelspec": {
   "display_name": "Python 3",
   "language": "python",
   "name": "python3"
  },
  "language_info": {
   "codemirror_mode": {
    "name": "ipython",
    "version": 3
   },
   "file_extension": ".py",
   "mimetype": "text/x-python",
   "name": "python",
   "nbconvert_exporter": "python",
   "pygments_lexer": "ipython3",
   "version": "3.8.8"
  }
 },
 "nbformat": 4,
 "nbformat_minor": 5
}
