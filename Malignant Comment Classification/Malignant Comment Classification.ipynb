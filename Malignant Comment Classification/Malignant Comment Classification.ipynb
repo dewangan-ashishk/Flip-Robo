{
 "cells": [
  {
   "cell_type": "code",
   "execution_count": 5,
   "metadata": {},
   "outputs": [],
   "source": [
    "import pandas as pd\n",
    "import numpy as np\n",
    "import matplotlib.pyplot as plt\n",
    "%matplotlib inline"
   ]
  },
  {
   "cell_type": "code",
   "execution_count": 6,
   "metadata": {},
   "outputs": [
    {
     "name": "stdout",
     "output_type": "stream",
     "text": [
      "(159571, 8)\n"
     ]
    }
   ],
   "source": [
    "#Read the csv file\n",
    "df = pd.read_csv(\"train.csv\")\n",
    "print(df.shape)"
   ]
  },
  {
   "cell_type": "code",
   "execution_count": 7,
   "metadata": {},
   "outputs": [
    {
     "name": "stdout",
     "output_type": "stream",
     "text": [
      "id                  object\n",
      "comment_text        object\n",
      "malignant            int64\n",
      "highly_malignant     int64\n",
      "rude                 int64\n",
      "threat               int64\n",
      "abuse                int64\n",
      "loathe               int64\n",
      "dtype: object\n"
     ]
    }
   ],
   "source": [
    "#List of features and labels\n",
    "print(df.dtypes)"
   ]
  },
  {
   "cell_type": "code",
   "execution_count": 8,
   "metadata": {},
   "outputs": [
    {
     "name": "stdout",
     "output_type": "stream",
     "text": [
      "0    144277\n",
      "1     15294\n",
      "Name: malignant, dtype: int64\n",
      "0    157976\n",
      "1      1595\n",
      "Name: highly_malignant, dtype: int64\n",
      "0    151122\n",
      "1      8449\n",
      "Name: rude, dtype: int64\n",
      "0    159093\n",
      "1       478\n",
      "Name: threat, dtype: int64\n",
      "0    151694\n",
      "1      7877\n",
      "Name: abuse, dtype: int64\n",
      "0    158166\n",
      "1      1405\n",
      "Name: loathe, dtype: int64\n"
     ]
    }
   ],
   "source": [
    "#calculating number of comments for each label\n",
    "labels=['malignant', 'highly_malignant', 'rude', 'threat','abuse', 'loathe']\n",
    "for label in labels:\n",
    "    print(df[label].value_counts())"
   ]
  },
  {
   "cell_type": "code",
   "execution_count": 9,
   "metadata": {},
   "outputs": [
    {
     "data": {
      "text/plain": [
       "['9.6', '1.0', '5.3', '0.3', '4.9', '0.9']"
      ]
     },
     "execution_count": 9,
     "metadata": {},
     "output_type": "execute_result"
    }
   ],
   "source": [
    "#calculating percentage of comments for each label\n",
    "per=[]\n",
    "for label in labels:\n",
    "    x=df[label].value_counts()[1]/df.shape[0]*100\n",
    "    per.append(\"{:.1f}\".format(x))\n",
    "per"
   ]
  },
  {
   "cell_type": "code",
   "execution_count": 10,
   "metadata": {},
   "outputs": [
    {
     "name": "stdout",
     "output_type": "stream",
     "text": [
      "6360 3480 4209 1760 385 31\n"
     ]
    }
   ],
   "source": [
    "#separating labels\n",
    "df_label=df[labels]\n",
    "df_label.head()\n",
    "#calculating the frequency of occurence of multilabelled data\n",
    "f1=0\n",
    "f2=0\n",
    "f3=0\n",
    "f4=0\n",
    "f5=0\n",
    "f6=0\n",
    "\n",
    "for i in range(df.shape[0]):\n",
    "    f=np.count_nonzero(df_label.iloc[[i]])\n",
    "    if f==1:\n",
    "        f1=f1+1\n",
    "    if f==2:\n",
    "        f2=f2+1\n",
    "    if f==3:\n",
    "        f3=f3+1\n",
    "    if f==4:\n",
    "        f4=f4+1\n",
    "    if f==5:\n",
    "        f5=f5+1\n",
    "    if f==6:\n",
    "        f6=f6+1\n",
    "\n",
    "print(f1,f2,f3,f4,f5,f6)"
   ]
  },
  {
   "cell_type": "code",
   "execution_count": 11,
   "metadata": {},
   "outputs": [
    {
     "data": {
      "text/plain": [
       "[264,\n",
       " 112,\n",
       " 233,\n",
       " 622,\n",
       " 67,\n",
       " 65,\n",
       " 44,\n",
       " 115,\n",
       " 472,\n",
       " 70,\n",
       " 2875,\n",
       " 56,\n",
       " 319,\n",
       " 819,\n",
       " 219,\n",
       " 610,\n",
       " 57,\n",
       " 48,\n",
       " 118,\n",
       " 440,\n",
       " 266,\n",
       " 58,\n",
       " 543,\n",
       " 97,\n",
       " 1409,\n",
       " 172,\n",
       " 288,\n",
       " 343,\n",
       " 119,\n",
       " 78,\n",
       " 92,\n",
       " 69,\n",
       " 68,\n",
       " 877,\n",
       " 283,\n",
       " 809,\n",
       " 1289,\n",
       " 345,\n",
       " 148,\n",
       " 1191,\n",
       " 216,\n",
       " 198,\n",
       " 648,\n",
       " 40,\n",
       " 319,\n",
       " 813,\n",
       " 93,\n",
       " 109,\n",
       " 696,\n",
       " 1180,\n",
       " 3150,\n",
       " 124,\n",
       " 180,\n",
       " 538,\n",
       " 56,\n",
       " 89,\n",
       " 68,\n",
       " 692,\n",
       " 1798,\n",
       " 360,\n",
       " 112,\n",
       " 299,\n",
       " 33,\n",
       " 986,\n",
       " 172,\n",
       " 311,\n",
       " 120,\n",
       " 151,\n",
       " 204,\n",
       " 218,\n",
       " 195,\n",
       " 338,\n",
       " 65,\n",
       " 1331,\n",
       " 201,\n",
       " 75,\n",
       " 236,\n",
       " 270,\n",
       " 168,\n",
       " 64,\n",
       " 1135,\n",
       " 2749,\n",
       " 516,\n",
       " 295,\n",
       " 109,\n",
       " 113,\n",
       " 73,\n",
       " 47,\n",
       " 338,\n",
       " 26,\n",
       " 809,\n",
       " 497,\n",
       " 75,\n",
       " 87,\n",
       " 527,\n",
       " 554,\n",
       " 55,\n",
       " 136,\n",
       " 174,\n",
       " 264,\n",
       " 96,\n",
       " 177,\n",
       " 84,\n",
       " 408,\n",
       " 103,\n",
       " 42,\n",
       " 897,\n",
       " 647,\n",
       " 139,\n",
       " 200,\n",
       " 96,\n",
       " 51,\n",
       " 669,\n",
       " 414,\n",
       " 1615,\n",
       " 60,\n",
       " 539,\n",
       " 225,\n",
       " 293,\n",
       " 53,\n",
       " 229,\n",
       " 294,\n",
       " 258,\n",
       " 238,\n",
       " 124,\n",
       " 128,\n",
       " 4364,\n",
       " 190,\n",
       " 256,\n",
       " 490,\n",
       " 248,\n",
       " 146,\n",
       " 281,\n",
       " 198,\n",
       " 701,\n",
       " 202,\n",
       " 89,\n",
       " 224,\n",
       " 46,\n",
       " 43,\n",
       " 999,\n",
       " 414,\n",
       " 1971,\n",
       " 321,\n",
       " 114,\n",
       " 683,\n",
       " 64,\n",
       " 195,\n",
       " 493,\n",
       " 386,\n",
       " 719,\n",
       " 554,\n",
       " 60,\n",
       " 462,\n",
       " 105,\n",
       " 244,\n",
       " 154,\n",
       " 365,\n",
       " 245,\n",
       " 99,\n",
       " 3958,\n",
       " 277,\n",
       " 2592,\n",
       " 112,\n",
       " 158,\n",
       " 148,\n",
       " 718,\n",
       " 748,\n",
       " 133,\n",
       " 332,\n",
       " 303,\n",
       " 63,\n",
       " 491,\n",
       " 26,\n",
       " 192,\n",
       " 30,\n",
       " 128,\n",
       " 46,\n",
       " 91,\n",
       " 724,\n",
       " 1239,\n",
       " 53,\n",
       " 53,\n",
       " 306,\n",
       " 149,\n",
       " 164,\n",
       " 130,\n",
       " 93,\n",
       " 271,\n",
       " 220,\n",
       " 304,\n",
       " 375,\n",
       " 273,\n",
       " 77,\n",
       " 89,\n",
       " 262,\n",
       " 211,\n",
       " 649,\n",
       " 541,\n",
       " 112,\n",
       " 658,\n",
       " 379,\n",
       " 110,\n",
       " 336,\n",
       " 666,\n",
       " 350,\n",
       " 607,\n",
       " 427,\n",
       " 86,\n",
       " 64,\n",
       " 86,\n",
       " 37,\n",
       " 345,\n",
       " 1098,\n",
       " 3917,\n",
       " 158,\n",
       " 124,\n",
       " 82,\n",
       " 120,\n",
       " 362,\n",
       " 444,\n",
       " 259,\n",
       " 397,\n",
       " 31,\n",
       " 57,\n",
       " 453,\n",
       " 33,\n",
       " 171,\n",
       " 154,\n",
       " 994,\n",
       " 1122,\n",
       " 130,\n",
       " 491,\n",
       " 194,\n",
       " 944,\n",
       " 136,\n",
       " 291,\n",
       " 167,\n",
       " 58,\n",
       " 509,\n",
       " 1766,\n",
       " 27,\n",
       " 200,\n",
       " 191,\n",
       " 272,\n",
       " 83,\n",
       " 51,\n",
       " 40,\n",
       " 94,\n",
       " 902,\n",
       " 31,\n",
       " 94,\n",
       " 283,\n",
       " 151,\n",
       " 28,\n",
       " 525,\n",
       " 373,\n",
       " 265,\n",
       " 67,\n",
       " 22,\n",
       " 1786,\n",
       " 1255,\n",
       " 745,\n",
       " 94,\n",
       " 432,\n",
       " 91,\n",
       " 91,\n",
       " 131,\n",
       " 28,\n",
       " 207,\n",
       " 687,\n",
       " 531,\n",
       " 349,\n",
       " 640,\n",
       " 310,\n",
       " 474,\n",
       " 32,\n",
       " 51,\n",
       " 243,\n",
       " 215,\n",
       " 421,\n",
       " 32,\n",
       " 61,\n",
       " 109,\n",
       " 98,\n",
       " 122,\n",
       " 97,\n",
       " 893,\n",
       " 348,\n",
       " 71,\n",
       " 292,\n",
       " 246,\n",
       " 307,\n",
       " 126,\n",
       " 105,\n",
       " 60,\n",
       " 82,\n",
       " 456,\n",
       " 91,\n",
       " 35,\n",
       " 96,\n",
       " 117,\n",
       " 328,\n",
       " 166,\n",
       " 623,\n",
       " 197,\n",
       " 54,\n",
       " 120,\n",
       " 200,\n",
       " 206,\n",
       " 320,\n",
       " 182,\n",
       " 52,\n",
       " 518,\n",
       " 170,\n",
       " 153,\n",
       " 54,\n",
       " 144,\n",
       " 166,\n",
       " 63,\n",
       " 29,\n",
       " 4722,\n",
       " 130,\n",
       " 20,\n",
       " 89,\n",
       " 101,\n",
       " 627,\n",
       " 54,\n",
       " 92,\n",
       " 185,\n",
       " 216,\n",
       " 73,\n",
       " 145,\n",
       " 81,\n",
       " 262,\n",
       " 501,\n",
       " 91,\n",
       " 344,\n",
       " 58,\n",
       " 134,\n",
       " 293,\n",
       " 420,\n",
       " 288,\n",
       " 136,\n",
       " 93,\n",
       " 217,\n",
       " 306,\n",
       " 443,\n",
       " 1359,\n",
       " 48,\n",
       " 123,\n",
       " 39,\n",
       " 299,\n",
       " 329,\n",
       " 943,\n",
       " 52,\n",
       " 149,\n",
       " 105,\n",
       " 41,\n",
       " 83,\n",
       " 96,\n",
       " 456,\n",
       " 63,\n",
       " 1445,\n",
       " 213,\n",
       " 103,\n",
       " 248,\n",
       " 332,\n",
       " 107,\n",
       " 74,\n",
       " 699,\n",
       " 173,\n",
       " 96,\n",
       " 52,\n",
       " 500,\n",
       " 469,\n",
       " 36,\n",
       " 297,\n",
       " 114,\n",
       " 876,\n",
       " 382,\n",
       " 36,\n",
       " 599,\n",
       " 588,\n",
       " 140,\n",
       " 163,\n",
       " 85,\n",
       " 348,\n",
       " 369,\n",
       " 81,\n",
       " 50,\n",
       " 461,\n",
       " 230,\n",
       " 594,\n",
       " 361,\n",
       " 205,\n",
       " 123,\n",
       " 20,\n",
       " 773,\n",
       " 302,\n",
       " 111,\n",
       " 325,\n",
       " 153,\n",
       " 854,\n",
       " 100,\n",
       " 191,\n",
       " 521,\n",
       " 722,\n",
       " 21,\n",
       " 615,\n",
       " 62,\n",
       " 159,\n",
       " 250,\n",
       " 588,\n",
       " 273,\n",
       " 717,\n",
       " 313,\n",
       " 183,\n",
       " 133,\n",
       " 451,\n",
       " 744,\n",
       " 676,\n",
       " 87,\n",
       " 32,\n",
       " 772,\n",
       " 954,\n",
       " 648,\n",
       " 455,\n",
       " 567,\n",
       " 115,\n",
       " 1988,\n",
       " 183,\n",
       " 160,\n",
       " 191,\n",
       " 58,\n",
       " 118,\n",
       " 71,\n",
       " 145,\n",
       " 632,\n",
       " 59,\n",
       " 377,\n",
       " 427,\n",
       " 40,\n",
       " 193,\n",
       " 452,\n",
       " 47,\n",
       " 468,\n",
       " 317,\n",
       " 33,\n",
       " 320,\n",
       " 1001,\n",
       " 42,\n",
       " 178,\n",
       " 749,\n",
       " 466,\n",
       " 722,\n",
       " 88,\n",
       " 208,\n",
       " 689,\n",
       " 534,\n",
       " 1757,\n",
       " 165,\n",
       " 115,\n",
       " 169,\n",
       " 263,\n",
       " 29,\n",
       " 76,\n",
       " 42,\n",
       " 159,\n",
       " 73,\n",
       " 33,\n",
       " 62,\n",
       " 46,\n",
       " 206,\n",
       " 406,\n",
       " 66,\n",
       " 593,\n",
       " 219,\n",
       " 136,\n",
       " 542,\n",
       " 151,\n",
       " 891,\n",
       " 1623,\n",
       " 217,\n",
       " 3453,\n",
       " 813,\n",
       " 100,\n",
       " 281,\n",
       " 270,\n",
       " 621,\n",
       " 1447,\n",
       " 64,\n",
       " 210,\n",
       " 177,\n",
       " 96,\n",
       " 371,\n",
       " 767,\n",
       " 56,\n",
       " 249,\n",
       " 261,\n",
       " 436,\n",
       " 113,\n",
       " 306,\n",
       " 69,\n",
       " 37,\n",
       " 859,\n",
       " 354,\n",
       " 131,\n",
       " 276,\n",
       " 538,\n",
       " 70,\n",
       " 114,\n",
       " 430,\n",
       " 92,\n",
       " 641,\n",
       " 226,\n",
       " 339,\n",
       " 389,\n",
       " 208,\n",
       " 816,\n",
       " 52,\n",
       " 376,\n",
       " 810,\n",
       " 1022,\n",
       " 393,\n",
       " 121,\n",
       " 185,\n",
       " 99,\n",
       " 365,\n",
       " 154,\n",
       " 1186,\n",
       " 69,\n",
       " 794,\n",
       " 510,\n",
       " 187,\n",
       " 194,\n",
       " 59,\n",
       " 371,\n",
       " 51,\n",
       " 46,\n",
       " 157,\n",
       " 341,\n",
       " 1132,\n",
       " 722,\n",
       " 416,\n",
       " 26,\n",
       " 416,\n",
       " 67,\n",
       " 421,\n",
       " 118,\n",
       " 2546,\n",
       " 648,\n",
       " 183,\n",
       " 86,\n",
       " 1260,\n",
       " 273,\n",
       " 80,\n",
       " 3557,\n",
       " 153,\n",
       " 103,\n",
       " 554,\n",
       " 586,\n",
       " 50,\n",
       " 217,\n",
       " 178,\n",
       " 529,\n",
       " 1637,\n",
       " 822,\n",
       " 759,\n",
       " 192,\n",
       " 504,\n",
       " 283,\n",
       " 185,\n",
       " 573,\n",
       " 373,\n",
       " 340,\n",
       " 1706,\n",
       " 77,\n",
       " 573,\n",
       " 67,\n",
       " 360,\n",
       " 2205,\n",
       " 39,\n",
       " 386,\n",
       " 4459,\n",
       " 237,\n",
       " 117,\n",
       " 209,\n",
       " 244,\n",
       " 207,\n",
       " 555,\n",
       " 82,\n",
       " 31,\n",
       " 329,\n",
       " 603,\n",
       " 81,\n",
       " 933,\n",
       " 400,\n",
       " 150,\n",
       " 224,\n",
       " 138,\n",
       " 1364,\n",
       " 97,\n",
       " 181,\n",
       " 280,\n",
       " 93,\n",
       " 87,\n",
       " 630,\n",
       " 351,\n",
       " 101,\n",
       " 109,\n",
       " 128,\n",
       " 57,\n",
       " 267,\n",
       " 382,\n",
       " 406,\n",
       " 602,\n",
       " 712,\n",
       " 266,\n",
       " 353,\n",
       " 395,\n",
       " 145,\n",
       " 650,\n",
       " 199,\n",
       " 105,\n",
       " 594,\n",
       " 97,\n",
       " 24,\n",
       " 145,\n",
       " 266,\n",
       " 642,\n",
       " 115,\n",
       " 28,\n",
       " 202,\n",
       " 303,\n",
       " 4210,\n",
       " 390,\n",
       " 569,\n",
       " 79,\n",
       " 241,\n",
       " 146,\n",
       " 1299,\n",
       " 381,\n",
       " 91,\n",
       " 185,\n",
       " 710,\n",
       " 36,\n",
       " 408,\n",
       " 825,\n",
       " 1229,\n",
       " 68,\n",
       " 224,\n",
       " 120,\n",
       " 318,\n",
       " 154,\n",
       " 67,\n",
       " 183,\n",
       " 86,\n",
       " 1657,\n",
       " 81,\n",
       " 62,\n",
       " 4348,\n",
       " 470,\n",
       " 141,\n",
       " 76,\n",
       " 186,\n",
       " 864,\n",
       " 143,\n",
       " 1280,\n",
       " 2262,\n",
       " 148,\n",
       " 692,\n",
       " 47,\n",
       " 122,\n",
       " 459,\n",
       " 205,\n",
       " 60,\n",
       " 644,\n",
       " 45,\n",
       " 263,\n",
       " 189,\n",
       " 321,\n",
       " 965,\n",
       " 211,\n",
       " 175,\n",
       " 162,\n",
       " 456,\n",
       " 48,\n",
       " 820,\n",
       " 111,\n",
       " 298,\n",
       " 104,\n",
       " 376,\n",
       " 623,\n",
       " 749,\n",
       " 642,\n",
       " 1328,\n",
       " 1880,\n",
       " 192,\n",
       " 754,\n",
       " 195,\n",
       " 150,\n",
       " 57,\n",
       " 297,\n",
       " 140,\n",
       " 433,\n",
       " 118,\n",
       " 1234,\n",
       " 329,\n",
       " 199,\n",
       " 920,\n",
       " 225,\n",
       " 385,\n",
       " 394,\n",
       " 652,\n",
       " 31,\n",
       " 414,\n",
       " 120,\n",
       " 44,\n",
       " 95,\n",
       " 999,\n",
       " 1277,\n",
       " 99,\n",
       " 651,\n",
       " 125,\n",
       " 33,\n",
       " 80,\n",
       " 128,\n",
       " 54,\n",
       " 322,\n",
       " 81,\n",
       " 180,\n",
       " 413,\n",
       " 1177,\n",
       " 172,\n",
       " 266,\n",
       " 382,\n",
       " 547,\n",
       " 426,\n",
       " 114,\n",
       " 770,\n",
       " 162,\n",
       " 98,\n",
       " 25,\n",
       " 511,\n",
       " 64,\n",
       " 1610,\n",
       " 162,\n",
       " 98,\n",
       " 64,\n",
       " 163,\n",
       " 465,\n",
       " 102,\n",
       " 519,\n",
       " 144,\n",
       " 74,\n",
       " 46,\n",
       " 628,\n",
       " 22,\n",
       " 488,\n",
       " 1635,\n",
       " 2055,\n",
       " 325,\n",
       " 1796,\n",
       " 2863,\n",
       " 162,\n",
       " 639,\n",
       " 166,\n",
       " 275,\n",
       " 118,\n",
       " 168,\n",
       " 188,\n",
       " 75,\n",
       " 241,\n",
       " 102,\n",
       " 117,\n",
       " 325,\n",
       " 464,\n",
       " 192,\n",
       " 160,\n",
       " 3717,\n",
       " 110,\n",
       " 118,\n",
       " 105,\n",
       " 748,\n",
       " 119,\n",
       " 656,\n",
       " 28,\n",
       " 1401,\n",
       " 223,\n",
       " 170,\n",
       " 1903,\n",
       " 319,\n",
       " 1217,\n",
       " 230,\n",
       " 171,\n",
       " 222,\n",
       " 226,\n",
       " 817,\n",
       " 80,\n",
       " 42,\n",
       " 218,\n",
       " 85,\n",
       " 114,\n",
       " 505,\n",
       " 1179,\n",
       " 30,\n",
       " 22,\n",
       " 627,\n",
       " 298,\n",
       " 41,\n",
       " 102,\n",
       " 147,\n",
       " 467,\n",
       " 33,\n",
       " 150,\n",
       " 262,\n",
       " 287,\n",
       " 463,\n",
       " 60,\n",
       " 615,\n",
       " 100,\n",
       " 230,\n",
       " 65,\n",
       " 34,\n",
       " 238,\n",
       " 1916,\n",
       " 89,\n",
       " 66,\n",
       " 24,\n",
       " 46,\n",
       " 36,\n",
       " 42,\n",
       " 768,\n",
       " 382,\n",
       " 3133,\n",
       " 185,\n",
       " 125,\n",
       " 276,\n",
       " 870,\n",
       " 205,\n",
       " 274,\n",
       " 425,\n",
       " 620,\n",
       " 37,\n",
       " 279,\n",
       " 626,\n",
       " 120,\n",
       " 160,\n",
       " 44,\n",
       " 176,\n",
       " 62,\n",
       " 23,\n",
       " 249,\n",
       " 550,\n",
       " 803,\n",
       " 52,\n",
       " 718,\n",
       " 64,\n",
       " 44,\n",
       " 624,\n",
       " 595,\n",
       " 167,\n",
       " 226,\n",
       " 4566,\n",
       " 104,\n",
       " 466,\n",
       " 161,\n",
       " 264,\n",
       " 212,\n",
       " 51,\n",
       " 865,\n",
       " 663,\n",
       " 377,\n",
       " 35,\n",
       " 223,\n",
       " 189,\n",
       " 30,\n",
       " 190,\n",
       " 51,\n",
       " 72,\n",
       " 356,\n",
       " 446,\n",
       " 29,\n",
       " 564,\n",
       " 153,\n",
       " 39,\n",
       " 137,\n",
       " 121,\n",
       " 65,\n",
       " 668,\n",
       " 455,\n",
       " 1399,\n",
       " 1449,\n",
       " 340,\n",
       " 195,\n",
       " 147,\n",
       " 30,\n",
       " 229,\n",
       " 19,\n",
       " 186,\n",
       " 1423,\n",
       " 470,\n",
       " 760,\n",
       " 2996,\n",
       " 133,\n",
       " 46,\n",
       " 1264,\n",
       " 522,\n",
       " 241,\n",
       " 305,\n",
       " 125,\n",
       " 57,\n",
       " 25,\n",
       " 176,\n",
       " 77,\n",
       " 51,\n",
       " 48,\n",
       " 142,\n",
       " 78,\n",
       " 708,\n",
       " 79,\n",
       " 669,\n",
       " 21,\n",
       " 163,\n",
       " 191,\n",
       " 168,\n",
       " 104,\n",
       " 264,\n",
       " 167,\n",
       " 173,\n",
       " 196,\n",
       " 273,\n",
       " 612,\n",
       " 444,\n",
       " 78,\n",
       " 891,\n",
       " 90,\n",
       " 47,\n",
       " 99,\n",
       " 1203,\n",
       " 185,\n",
       " 223,\n",
       " 447,\n",
       " 1084,\n",
       " 763,\n",
       " 726,\n",
       " 32,\n",
       " 1184,\n",
       " 103,\n",
       " 115,\n",
       " 349,\n",
       " 139,\n",
       " 93,\n",
       " 349,\n",
       " 1143,\n",
       " 287,\n",
       " 168,\n",
       " 611,\n",
       " 195,\n",
       " 82,\n",
       " 106,\n",
       " 185,\n",
       " 175,\n",
       " 354,\n",
       " 167,\n",
       " 1240,\n",
       " 702,\n",
       " 495,\n",
       " 266,\n",
       " 316,\n",
       " 24,\n",
       " 241,\n",
       " 342,\n",
       " 774,\n",
       " 93,\n",
       " 139,\n",
       " 864,\n",
       " 642,\n",
       " 613,\n",
       " 114,\n",
       " 458,\n",
       " 215,\n",
       " 1082,\n",
       " 109,\n",
       " 150,\n",
       " 1105,\n",
       " 157,\n",
       " 108,\n",
       " 666,\n",
       " 75,\n",
       " 259,\n",
       " 167,\n",
       " 53,\n",
       " 55,\n",
       " 1912,\n",
       " 524,\n",
       " 523,\n",
       " 1037,\n",
       " 123,\n",
       " ...]"
      ]
     },
     "execution_count": 11,
     "metadata": {},
     "output_type": "execute_result"
    }
   ],
   "source": [
    "#length of comments\n",
    "x=[len(df['comment_text'][i]) for i in range(df.shape[0])]\n",
    "x"
   ]
  },
  {
   "cell_type": "code",
   "execution_count": 12,
   "metadata": {},
   "outputs": [
    {
     "data": {
      "text/html": [
       "<div>\n",
       "<style scoped>\n",
       "    .dataframe tbody tr th:only-of-type {\n",
       "        vertical-align: middle;\n",
       "    }\n",
       "\n",
       "    .dataframe tbody tr th {\n",
       "        vertical-align: top;\n",
       "    }\n",
       "\n",
       "    .dataframe thead th {\n",
       "        text-align: right;\n",
       "    }\n",
       "</style>\n",
       "<table border=\"1\" class=\"dataframe\">\n",
       "  <thead>\n",
       "    <tr style=\"text-align: right;\">\n",
       "      <th></th>\n",
       "      <th>0</th>\n",
       "    </tr>\n",
       "  </thead>\n",
       "  <tbody>\n",
       "    <tr>\n",
       "      <th>count</th>\n",
       "      <td>159571.000000</td>\n",
       "    </tr>\n",
       "    <tr>\n",
       "      <th>mean</th>\n",
       "      <td>394.138847</td>\n",
       "    </tr>\n",
       "    <tr>\n",
       "      <th>std</th>\n",
       "      <td>590.725381</td>\n",
       "    </tr>\n",
       "    <tr>\n",
       "      <th>min</th>\n",
       "      <td>5.000000</td>\n",
       "    </tr>\n",
       "    <tr>\n",
       "      <th>25%</th>\n",
       "      <td>96.000000</td>\n",
       "    </tr>\n",
       "    <tr>\n",
       "      <th>50%</th>\n",
       "      <td>205.000000</td>\n",
       "    </tr>\n",
       "    <tr>\n",
       "      <th>75%</th>\n",
       "      <td>436.000000</td>\n",
       "    </tr>\n",
       "    <tr>\n",
       "      <th>max</th>\n",
       "      <td>5000.000000</td>\n",
       "    </tr>\n",
       "  </tbody>\n",
       "</table>\n",
       "</div>"
      ],
      "text/plain": [
       "                   0\n",
       "count  159571.000000\n",
       "mean      394.138847\n",
       "std       590.725381\n",
       "min         5.000000\n",
       "25%        96.000000\n",
       "50%       205.000000\n",
       "75%       436.000000\n",
       "max      5000.000000"
      ]
     },
     "execution_count": 12,
     "metadata": {},
     "output_type": "execute_result"
    }
   ],
   "source": [
    "df_com_len=pd.DataFrame(x)\n",
    "df_com_len.describe()"
   ]
  },
  {
   "cell_type": "markdown",
   "metadata": {},
   "source": [
    "We have a huge dataset consisting of 159571 samples which have 8 fields each. Running train_test_split on the heavy preprocessed dataframe sometimes resulted in memory error. The df.reindex code will shuffle the indices initially, so that later splitting dataset into training and testing will give fairer results."
   ]
  },
  {
   "cell_type": "code",
   "execution_count": 13,
   "metadata": {},
   "outputs": [],
   "source": [
    "#shuffling of indices\n",
    "df = df.reindex(np.random.permutation(df.index))"
   ]
  },
  {
   "cell_type": "markdown",
   "metadata": {},
   "source": [
    "# Separation of comments and labels"
   ]
  },
  {
   "cell_type": "code",
   "execution_count": 14,
   "metadata": {},
   "outputs": [
    {
     "name": "stdout",
     "output_type": "stream",
     "text": [
      "73701                            \"==June 2008==\\n |(talk) \"\n",
      "12066     \"\\n\\nHello, Wood Dickinson. I will try to clar...\n",
      "33258     Hey user:jeppiz \\n\\nI was busy a little bit th...\n",
      "20298     \"\\n\\nYour make a good point.  Let me first add...\n",
      "130622                THE CHINESE MAN SUCxS PRAWN BALLS lol\n",
      "Name: comment_text, dtype: object\n"
     ]
    }
   ],
   "source": [
    "comment = df['comment_text']\n",
    "print(comment.head())\n",
    "comment = comment.to_numpy()"
   ]
  },
  {
   "cell_type": "code",
   "execution_count": 15,
   "metadata": {},
   "outputs": [
    {
     "name": "stdout",
     "output_type": "stream",
     "text": [
      "        malignant  highly_malignant  rude  threat  abuse  loathe\n",
      "73701           0                 0     0       0      0       0\n",
      "12066           0                 0     0       0      0       0\n",
      "33258           1                 0     0       0      0       0\n",
      "20298           0                 0     0       0      0       0\n",
      "130622          1                 0     0       0      0       0\n"
     ]
    }
   ],
   "source": [
    "label = df[['malignant', 'highly_malignant', 'rude', 'threat','abuse', 'loathe']]\n",
    "print(label.head())\n",
    "label = label.to_numpy()"
   ]
  },
  {
   "cell_type": "markdown",
   "metadata": {},
   "source": [
    "# Data Visualisations"
   ]
  },
  {
   "cell_type": "code",
   "execution_count": 16,
   "metadata": {},
   "outputs": [
    {
     "data": {
      "text/plain": [
       "890.0"
      ]
     },
     "execution_count": 16,
     "metadata": {},
     "output_type": "execute_result"
    }
   ],
   "source": [
    "np.percentile(df_com_len,90)"
   ]
  },
  {
   "cell_type": "markdown",
   "metadata": {},
   "source": [
    "90 % of the comments have length less than 900. Let us analyse the number of comments having lengths varying from 0 to 1000"
   ]
  },
  {
   "cell_type": "code",
   "execution_count": 17,
   "metadata": {},
   "outputs": [
    {
     "data": {
      "image/png": "[encoded data removed]",
      "text/plain": [
       "<Figure size 432x288 with 1 Axes>"
      ]
     },
     "metadata": {
      "needs_background": "light"
     },
     "output_type": "display_data"
    }
   ],
   "source": [
    "x = [len(comment[i]) for i in range(comment.shape[0])]\n",
    "bins = [1,200,400,600,800,1000]\n",
    "plt.hist(x, bins=bins)\n",
    "plt.xlabel('Length of comments')\n",
    "plt.ylabel('Number of comments')       \n",
    "plt.axis([0, 1000, 0, 80000])\n",
    "plt.grid(True)\n",
    "plt.show()"
   ]
  },
  {
   "cell_type": "markdown",
   "metadata": {},
   "source": [
    "# Number of comments classified as 'malignant', 'highly_malignant', 'rude', 'threat','abuse'and 'loathe'"
   ]
  },
  {
   "cell_type": "code",
   "execution_count": 18,
   "metadata": {},
   "outputs": [
    {
     "data": {
      "image/png": "[encoded data removed]",
      "text/plain": [
       "<Figure size 432x288 with 1 Axes>"
      ]
     },
     "metadata": {
      "needs_background": "light"
     },
     "output_type": "display_data"
    }
   ],
   "source": [
    "y = np.zeros(label.shape)\n",
    "for ix in range(comment.shape[0]):\n",
    "    l = len(comment[ix])\n",
    "    if label[ix][0] :\n",
    "        y[ix][0] = l\n",
    "    if label[ix][1] :\n",
    "        y[ix][1] = l\n",
    "    if label[ix][2] :\n",
    "        y[ix][2] = l\n",
    "    if label[ix][3] :\n",
    "        y[ix][3] = l\n",
    "    if label[ix][4] :\n",
    "        y[ix][4] = l\n",
    "    if label[ix][5] :\n",
    "        y[ix][5] = l\n",
    "\n",
    "labelsplt = ['malignant', 'highly_malignant', 'rude', 'threat','abuse', 'loathe']\n",
    "color = ['orange','brown','purple','yellow','teal','chartreuse']        \n",
    "plt.hist(y,bins = bins,label = labelsplt,color = color)\n",
    "plt.axis([0, 1000, 0, 12000])\n",
    "plt.xlabel('Length of comments')\n",
    "plt.ylabel('Number of comments') \n",
    "plt.legend()\n",
    "plt.grid(True)\n",
    "plt.show()"
   ]
  },
  {
   "cell_type": "markdown",
   "metadata": {},
   "source": [
    "# Remove comments of large length"
   ]
  },
  {
   "cell_type": "markdown",
   "metadata": {},
   "source": [
    "Taking a large threshold for modellling resulted in memory and sometimes the kernel died due to very heavy computation. Large comments add large number of words to the training set causing memory error most of the time.\n",
    "\n",
    "Hence, a threshold of 100 characters will be created and only comments which have length smaller than 100 will be used."
   ]
  },
  {
   "cell_type": "code",
   "execution_count": 19,
   "metadata": {},
   "outputs": [],
   "source": [
    "comments = []\n",
    "labels = []\n",
    "\n",
    "for ix in range(comment.shape[0]):\n",
    "    if len(comment[ix])<=100:\n",
    "        comments.append(comment[ix])\n",
    "        labels.append(label[ix])\n",
    "        \n",
    "#comment length <=100 is chosen because the kernel was crashing due to heavy memory usage and some model needed more memory space "
   ]
  },
  {
   "cell_type": "code",
   "execution_count": 20,
   "metadata": {},
   "outputs": [],
   "source": [
    "labels = np.asarray(labels)"
   ]
  },
  {
   "cell_type": "code",
   "execution_count": 21,
   "metadata": {},
   "outputs": [
    {
     "name": "stdout",
     "output_type": "stream",
     "text": [
      "42043\n"
     ]
    }
   ],
   "source": [
    "print(len(comments))"
   ]
  },
  {
   "cell_type": "markdown",
   "metadata": {},
   "source": [
    "Hence, after removing comments longer than 100 characters, we are still left with more than 42000 comments, which seems enough for training purposes."
   ]
  },
  {
   "cell_type": "code",
   "execution_count": 22,
   "metadata": {},
   "outputs": [
    {
     "name": "stdout",
     "output_type": "stream",
     "text": [
      "!\"#$%&'()*+,-./:;<=>?@[\\]^_`{|}~\n",
      "!\"#$%&()*+,-./:;<=>?@[\\]^_`{|}~0123456789\n"
     ]
    }
   ],
   "source": [
    "#Punctuation removal\n",
    "import string\n",
    "print(string.punctuation)\n",
    "punctuation_edit = string.punctuation.replace('\\'','') +\"0123456789\"\n",
    "print (punctuation_edit)\n",
    "outtab = \"                                         \"\n",
    "trantab = str.maketrans(punctuation_edit, outtab)"
   ]
  },
  {
   "cell_type": "code",
   "execution_count": 23,
   "metadata": {},
   "outputs": [],
   "source": [
    "#Importing and appending stop words\n",
    "from stop_words import get_stop_words\n",
    "stop_words = get_stop_words('english')\n",
    "stop_words.append('')\n",
    "\n",
    "for x in range(ord('b'), ord('z')+1):\n",
    "    stop_words.append(chr(x))"
   ]
  },
  {
   "cell_type": "code",
   "execution_count": 24,
   "metadata": {},
   "outputs": [],
   "source": [
    "stop_words_additional=['aren', 'can', 'couldn', 'didn', 'doesn', 'don', 'hadn', 'hasn', 'haven', 'isn', 'let', 'll', 'mustn', 're', 'shan', 'shouldn', 've', 'wasn', 'weren', 'won', 'wouldn']"
   ]
  },
  {
   "cell_type": "code",
   "execution_count": 25,
   "metadata": {},
   "outputs": [],
   "source": [
    "for x in range(len(stop_words_additional)):\n",
    "    stop_words.append(stop_words_additional[x])"
   ]
  },
  {
   "cell_type": "code",
   "execution_count": 26,
   "metadata": {},
   "outputs": [
    {
     "data": {
      "text/plain": [
       "['a',\n",
       " 'about',\n",
       " 'above',\n",
       " 'after',\n",
       " 'again',\n",
       " 'against',\n",
       " 'all',\n",
       " 'am',\n",
       " 'an',\n",
       " 'and',\n",
       " 'any',\n",
       " 'are',\n",
       " \"aren't\",\n",
       " 'as',\n",
       " 'at',\n",
       " 'be',\n",
       " 'because',\n",
       " 'been',\n",
       " 'before',\n",
       " 'being',\n",
       " 'below',\n",
       " 'between',\n",
       " 'both',\n",
       " 'but',\n",
       " 'by',\n",
       " \"can't\",\n",
       " 'cannot',\n",
       " 'could',\n",
       " \"couldn't\",\n",
       " 'did',\n",
       " \"didn't\",\n",
       " 'do',\n",
       " 'does',\n",
       " \"doesn't\",\n",
       " 'doing',\n",
       " \"don't\",\n",
       " 'down',\n",
       " 'during',\n",
       " 'each',\n",
       " 'few',\n",
       " 'for',\n",
       " 'from',\n",
       " 'further',\n",
       " 'had',\n",
       " \"hadn't\",\n",
       " 'has',\n",
       " \"hasn't\",\n",
       " 'have',\n",
       " \"haven't\",\n",
       " 'having',\n",
       " 'he',\n",
       " \"he'd\",\n",
       " \"he'll\",\n",
       " \"he's\",\n",
       " 'her',\n",
       " 'here',\n",
       " \"here's\",\n",
       " 'hers',\n",
       " 'herself',\n",
       " 'him',\n",
       " 'himself',\n",
       " 'his',\n",
       " 'how',\n",
       " \"how's\",\n",
       " 'i',\n",
       " \"i'd\",\n",
       " \"i'll\",\n",
       " \"i'm\",\n",
       " \"i've\",\n",
       " 'if',\n",
       " 'in',\n",
       " 'into',\n",
       " 'is',\n",
       " \"isn't\",\n",
       " 'it',\n",
       " \"it's\",\n",
       " 'its',\n",
       " 'itself',\n",
       " \"let's\",\n",
       " 'me',\n",
       " 'more',\n",
       " 'most',\n",
       " \"mustn't\",\n",
       " 'my',\n",
       " 'myself',\n",
       " 'no',\n",
       " 'nor',\n",
       " 'not',\n",
       " 'of',\n",
       " 'off',\n",
       " 'on',\n",
       " 'once',\n",
       " 'only',\n",
       " 'or',\n",
       " 'other',\n",
       " 'ought',\n",
       " 'our',\n",
       " 'ours',\n",
       " 'ourselves',\n",
       " 'out',\n",
       " 'over',\n",
       " 'own',\n",
       " 'same',\n",
       " \"shan't\",\n",
       " 'she',\n",
       " \"she'd\",\n",
       " \"she'll\",\n",
       " \"she's\",\n",
       " 'should',\n",
       " \"shouldn't\",\n",
       " 'so',\n",
       " 'some',\n",
       " 'such',\n",
       " 'than',\n",
       " 'that',\n",
       " \"that's\",\n",
       " 'the',\n",
       " 'their',\n",
       " 'theirs',\n",
       " 'them',\n",
       " 'themselves',\n",
       " 'then',\n",
       " 'there',\n",
       " \"there's\",\n",
       " 'these',\n",
       " 'they',\n",
       " \"they'd\",\n",
       " \"they'll\",\n",
       " \"they're\",\n",
       " \"they've\",\n",
       " 'this',\n",
       " 'those',\n",
       " 'through',\n",
       " 'to',\n",
       " 'too',\n",
       " 'under',\n",
       " 'until',\n",
       " 'up',\n",
       " 'very',\n",
       " 'was',\n",
       " \"wasn't\",\n",
       " 'we',\n",
       " \"we'd\",\n",
       " \"we'll\",\n",
       " \"we're\",\n",
       " \"we've\",\n",
       " 'were',\n",
       " \"weren't\",\n",
       " 'what',\n",
       " \"what's\",\n",
       " 'when',\n",
       " \"when's\",\n",
       " 'where',\n",
       " \"where's\",\n",
       " 'which',\n",
       " 'while',\n",
       " 'who',\n",
       " \"who's\",\n",
       " 'whom',\n",
       " 'why',\n",
       " \"why's\",\n",
       " 'with',\n",
       " \"won't\",\n",
       " 'would',\n",
       " \"wouldn't\",\n",
       " 'you',\n",
       " \"you'd\",\n",
       " \"you'll\",\n",
       " \"you're\",\n",
       " \"you've\",\n",
       " 'your',\n",
       " 'yours',\n",
       " 'yourself',\n",
       " 'yourselves',\n",
       " '',\n",
       " 'b',\n",
       " 'c',\n",
       " 'd',\n",
       " 'e',\n",
       " 'f',\n",
       " 'g',\n",
       " 'h',\n",
       " 'i',\n",
       " 'j',\n",
       " 'k',\n",
       " 'l',\n",
       " 'm',\n",
       " 'n',\n",
       " 'o',\n",
       " 'p',\n",
       " 'q',\n",
       " 'r',\n",
       " 's',\n",
       " 't',\n",
       " 'u',\n",
       " 'v',\n",
       " 'w',\n",
       " 'x',\n",
       " 'y',\n",
       " 'z',\n",
       " 'aren',\n",
       " 'can',\n",
       " 'couldn',\n",
       " 'didn',\n",
       " 'doesn',\n",
       " 'don',\n",
       " 'hadn',\n",
       " 'hasn',\n",
       " 'haven',\n",
       " 'isn',\n",
       " 'let',\n",
       " 'll',\n",
       " 'mustn',\n",
       " 're',\n",
       " 'shan',\n",
       " 'shouldn',\n",
       " 've',\n",
       " 'wasn',\n",
       " 'weren',\n",
       " 'won',\n",
       " 'wouldn']"
      ]
     },
     "execution_count": 26,
     "metadata": {},
     "output_type": "execute_result"
    }
   ],
   "source": [
    "stop_words"
   ]
  },
  {
   "cell_type": "code",
   "execution_count": 27,
   "metadata": {},
   "outputs": [],
   "source": [
    "import nltk\n",
    "from nltk.stem import PorterStemmer, WordNetLemmatizer"
   ]
  },
  {
   "cell_type": "code",
   "execution_count": 28,
   "metadata": {},
   "outputs": [
    {
     "name": "stderr",
     "output_type": "stream",
     "text": [
      "[nltk_data] Downloading package wordnet to /Users/ashish/nltk_data...\n",
      "[nltk_data]   Package wordnet is already up-to-date!\n"
     ]
    },
    {
     "data": {
      "text/plain": [
       "True"
      ]
     },
     "execution_count": 28,
     "metadata": {},
     "output_type": "execute_result"
    }
   ],
   "source": [
    "#create objects for stemmer and lemmatizer\n",
    "lemmatiser = WordNetLemmatizer()\n",
    "stemmer = PorterStemmer()\n",
    "#download words from wordnet library\n",
    "nltk.download('wordnet')"
   ]
  },
  {
   "cell_type": "code",
   "execution_count": 29,
   "metadata": {},
   "outputs": [],
   "source": [
    "for i in range(len(comments)):\n",
    "    comments[i] = comments[i].lower().translate(trantab)\n",
    "    l = []\n",
    "    for word in comments[i].split():\n",
    "        l.append(stemmer.stem(lemmatiser.lemmatize(word,pos=\"v\")))\n",
    "    comments[i] = \" \".join(l)"
   ]
  },
  {
   "cell_type": "markdown",
   "metadata": {},
   "source": [
    "Applying Count Vectorizer\n",
    "\n",
    "Here we can finally convert our comments into a matrix of token counts, which signifies the number of times it occurs."
   ]
  },
  {
   "cell_type": "code",
   "execution_count": 30,
   "metadata": {},
   "outputs": [],
   "source": [
    "#import required library\n",
    "from sklearn.feature_extraction.text import CountVectorizer\n",
    "\n",
    "#create object supplying our custom stop words\n",
    "count_vector = CountVectorizer(stop_words=stop_words)\n",
    "#fitting it to converts comments into bag of words format\n",
    "tf = count_vector.fit_transform(comments).toarray()"
   ]
  },
  {
   "cell_type": "code",
   "execution_count": 31,
   "metadata": {},
   "outputs": [
    {
     "name": "stdout",
     "output_type": "stream",
     "text": [
      "(42043, 24471)\n"
     ]
    }
   ],
   "source": [
    "# print(count_vector.get_feature_names())\n",
    "print(tf.shape)"
   ]
  },
  {
   "cell_type": "markdown",
   "metadata": {},
   "source": [
    "We can imply that after all preprocessing we have a list of 42403 words in total."
   ]
  },
  {
   "cell_type": "markdown",
   "metadata": {},
   "source": [
    "Splitting dataset into training and testing\n",
    "    Since the system was going out of memory using train_test_split, I had jumbled all the indexes in the beginning itself.\n",
    "    The shuffle function defined here performs the task of assigning first 2/3rd values to train and remaining 1/3rd values to the test set."
   ]
  },
  {
   "cell_type": "code",
   "execution_count": 32,
   "metadata": {},
   "outputs": [
    {
     "name": "stdout",
     "output_type": "stream",
     "text": [
      "(14014, 24471)\n",
      "(28029, 24471)\n"
     ]
    }
   ],
   "source": [
    "def shuffle(matrix, target, test_proportion):\n",
    "    ratio = int(matrix.shape[0]/test_proportion)\n",
    "    X_train = matrix[ratio:,:]\n",
    "    X_test =  matrix[:ratio,:]\n",
    "    Y_train = target[ratio:,:]\n",
    "    Y_test =  target[:ratio,:]\n",
    "    return X_train, X_test, Y_train, Y_test\n",
    "\n",
    "X_train, X_test, Y_train, Y_test = shuffle(tf, labels,3)\n",
    "\n",
    "print(X_test.shape)\n",
    "print(X_train.shape)"
   ]
  },
  {
   "cell_type": "markdown",
   "metadata": {},
   "source": [
    "Evaluation metrics"
   ]
  },
  {
   "cell_type": "code",
   "execution_count": 30,
   "metadata": {},
   "outputs": [],
   "source": [
    "from sklearn.metrics import hamming_loss\n",
    "from sklearn.metrics import accuracy_score\n",
    "from sklearn.metrics import log_loss\n",
    "\n",
    "def evaluate_score(Y_test,predict): \n",
    "    loss = hamming_loss(Y_test,predict)\n",
    "    print(\"Hamming_loss : {}\".format(loss*100))\n",
    "    accuracy = accuracy_score(Y_test,predict)\n",
    "    print(\"Accuracy : {}\".format(accuracy*100))\n",
    "    try : \n",
    "        loss = log_loss(Y_test,predict)\n",
    "    except :\n",
    "        loss = log_loss(Y_test,predict.toarray())\n",
    "    print(\"Log_loss : {}\".format(loss))"
   ]
  },
  {
   "cell_type": "markdown",
   "metadata": {},
   "source": [
    "# 1. Binary Relevance (BR) with MultinomialNB Classifier"
   ]
  },
  {
   "cell_type": "code",
   "execution_count": 36,
   "metadata": {},
   "outputs": [],
   "source": [
    "from sklearn.naive_bayes import MultinomialNB"
   ]
  },
  {
   "cell_type": "code",
   "execution_count": 59,
   "metadata": {},
   "outputs": [],
   "source": [
    "# clf will be the list of the classifiers for all the 6 labels\n",
    "# each classifier is fit with the training data and corresponding classifier\n",
    "clf = []\n",
    "for ix in range(6):\n",
    "    clf.append(MultinomialNB())\n",
    "    clf[ix].fit(X_train,Y_train[:,ix])"
   ]
  },
  {
   "cell_type": "code",
   "execution_count": 60,
   "metadata": {},
   "outputs": [
    {
     "name": "stdout",
     "output_type": "stream",
     "text": [
      "(14014, 6)\n"
     ]
    }
   ],
   "source": [
    "# predict list contains the predictions, it is transposed later to get the proper shape\n",
    "predict = []\n",
    "for ix in range(6):\n",
    "    predict.append(clf[ix].predict(X_test))\n",
    "\n",
    "predict = np.asarray(np.transpose(predict))\n",
    "print(predict.shape)"
   ]
  },
  {
   "cell_type": "code",
   "execution_count": 61,
   "metadata": {},
   "outputs": [
    {
     "name": "stdout",
     "output_type": "stream",
     "text": [
      "Hamming_loss : 4.217211360068503\n",
      "Accuracy : 84.8936777508206\n",
      "Log_loss : 2.8177969411014705\n"
     ]
    }
   ],
   "source": [
    "# calculate results\n",
    "evaluate_score(Y_test,predict)"
   ]
  },
  {
   "cell_type": "markdown",
   "metadata": {},
   "source": [
    "# 2. BR with SVM Classifier"
   ]
  },
  {
   "cell_type": "code",
   "execution_count": 62,
   "metadata": {},
   "outputs": [
    {
     "data": {
      "text/plain": [
       "BinaryRelevance(classifier=SVC(), require_dense=[False, True])"
      ]
     },
     "execution_count": 62,
     "metadata": {},
     "output_type": "execute_result"
    }
   ],
   "source": [
    "#create and fit classifier\n",
    "from skmultilearn.problem_transform import BinaryRelevance\n",
    "from sklearn.svm import SVC\n",
    "classifier = BinaryRelevance(classifier = SVC(), require_dense = [False, True])\n",
    "classifier.fit(X_train, Y_train)"
   ]
  },
  {
   "cell_type": "code",
   "execution_count": 63,
   "metadata": {},
   "outputs": [],
   "source": [
    "#predictions\n",
    "predictions = classifier.predict(X_test)"
   ]
  },
  {
   "cell_type": "code",
   "execution_count": 64,
   "metadata": {},
   "outputs": [
    {
     "name": "stdout",
     "output_type": "stream",
     "text": [
      "Hamming_loss : 2.949431520860092\n",
      "Accuracy : 87.89068074782361\n",
      "Log_loss : 2.479267763050564\n"
     ]
    }
   ],
   "source": [
    "#calculate scores\n",
    "evaluate_score(Y_test,predictions)"
   ]
  },
  {
   "cell_type": "markdown",
   "metadata": {},
   "source": [
    "# 3. BR with Multinomial Classifier"
   ]
  },
  {
   "cell_type": "code",
   "execution_count": 65,
   "metadata": {},
   "outputs": [
    {
     "data": {
      "text/plain": [
       "BinaryRelevance(classifier=MultinomialNB(), require_dense=[False, True])"
      ]
     },
     "execution_count": 65,
     "metadata": {},
     "output_type": "execute_result"
    }
   ],
   "source": [
    "#create and fit classifier\n",
    "classifier = BinaryRelevance(classifier = MultinomialNB(), require_dense = [False, True])\n",
    "classifier.fit(X_train, Y_train)"
   ]
  },
  {
   "cell_type": "code",
   "execution_count": 66,
   "metadata": {},
   "outputs": [],
   "source": [
    "#predictions\n",
    "predictions = classifier.predict(X_test)"
   ]
  },
  {
   "cell_type": "code",
   "execution_count": 67,
   "metadata": {},
   "outputs": [
    {
     "name": "stdout",
     "output_type": "stream",
     "text": [
      "Hamming_loss : 4.217211360068503\n",
      "Accuracy : 84.8936777508206\n",
      "Log_loss : 2.8177969411014705\n"
     ]
    }
   ],
   "source": [
    "#calculate scores\n",
    "evaluate_score(Y_test,predictions)"
   ]
  },
  {
   "cell_type": "markdown",
   "metadata": {},
   "source": [
    "# 4. BR with GausseanNB Classifier"
   ]
  },
  {
   "cell_type": "code",
   "execution_count": 31,
   "metadata": {},
   "outputs": [],
   "source": [
    "from sklearn.naive_bayes import GaussianNB\n",
    "#create and fit classifiers\n",
    "clf = []\n",
    "for ix in range(6):\n",
    "    clf.append(GaussianNB())\n",
    "    clf[ix].fit(X_train,Y_train[:,ix])"
   ]
  },
  {
   "cell_type": "code",
   "execution_count": 33,
   "metadata": {},
   "outputs": [],
   "source": [
    "#predictions\n",
    "predict = []\n",
    "for ix in range(6):\n",
    "    predict.append(clf[ix].predict(X_test))"
   ]
  },
  {
   "cell_type": "code",
   "execution_count": 34,
   "metadata": {},
   "outputs": [
    {
     "name": "stdout",
     "output_type": "stream",
     "text": [
      "Hamming_loss : 23.84639170353456\n",
      "Accuracy : 45.50449550449551\n",
      "Log_loss : 1.977799288807401\n"
     ]
    }
   ],
   "source": [
    "#calculate scores\n",
    "predict = np.asarray(np.transpose(predict))\n",
    "evaluate_score(Y_test,predict)"
   ]
  },
  {
   "cell_type": "markdown",
   "metadata": {},
   "source": [
    "# 5. Classifier Chain with MultinomialNB Classifier"
   ]
  },
  {
   "cell_type": "code",
   "execution_count": 37,
   "metadata": {},
   "outputs": [
    {
     "data": {
      "text/plain": [
       "ClassifierChain(classifier=MultinomialNB(), require_dense=[True, True])"
      ]
     },
     "execution_count": 37,
     "metadata": {},
     "output_type": "execute_result"
    }
   ],
   "source": [
    "#create and fit classifier\n",
    "from skmultilearn.problem_transform import ClassifierChain\n",
    "classifier = ClassifierChain(MultinomialNB())\n",
    "classifier.fit(X_train, Y_train)"
   ]
  },
  {
   "cell_type": "code",
   "execution_count": 38,
   "metadata": {},
   "outputs": [],
   "source": [
    "#predictions\n",
    "predictions = classifier.predict(X_test)"
   ]
  },
  {
   "cell_type": "code",
   "execution_count": 39,
   "metadata": {},
   "outputs": [
    {
     "name": "stdout",
     "output_type": "stream",
     "text": [
      "Hamming_loss : 4.451500880072309\n",
      "Accuracy : 85.293278150421\n",
      "Log_loss : 2.1836022582824905\n"
     ]
    }
   ],
   "source": [
    "#calculate scores\n",
    "evaluate_score(Y_test,predictions)"
   ]
  },
  {
   "cell_type": "markdown",
   "metadata": {},
   "source": [
    "# 6. Label Powerset with MultinomialNB Classifier"
   ]
  },
  {
   "cell_type": "code",
   "execution_count": 40,
   "metadata": {},
   "outputs": [
    {
     "data": {
      "text/plain": [
       "LabelPowerset(classifier=MultinomialNB(), require_dense=[True, True])"
      ]
     },
     "execution_count": 40,
     "metadata": {},
     "output_type": "execute_result"
    }
   ],
   "source": [
    "#create and fit classifier\n",
    "from skmultilearn.problem_transform import LabelPowerset\n",
    "classifier = LabelPowerset(MultinomialNB())\n",
    "classifier.fit(X_train, Y_train)"
   ]
  },
  {
   "cell_type": "code",
   "execution_count": 41,
   "metadata": {},
   "outputs": [],
   "source": [
    "#predictions\n",
    "predictions = classifier.predict(X_test)"
   ]
  },
  {
   "cell_type": "code",
   "execution_count": 42,
   "metadata": {},
   "outputs": [
    {
     "name": "stdout",
     "output_type": "stream",
     "text": [
      "Hamming_loss : 3.8675610104181533\n",
      "Accuracy : 85.88554302840016\n",
      "Log_loss : 1.9162714424467173\n"
     ]
    }
   ],
   "source": [
    "#calculate scores\n",
    "evaluate_score(Y_test,predictions)"
   ]
  },
  {
   "cell_type": "markdown",
   "metadata": {},
   "source": [
    "# Adaptation Algorithms"
   ]
  },
  {
   "cell_type": "markdown",
   "metadata": {},
   "source": [
    "# 7. MLkNN with k=3"
   ]
  },
  {
   "cell_type": "code",
   "execution_count": 43,
   "metadata": {},
   "outputs": [
    {
     "name": "stderr",
     "output_type": "stream",
     "text": [
      "/opt/anaconda3/lib/python3.8/site-packages/sklearn/utils/validation.py:70: FutureWarning: Pass n_neighbors=3 as keyword args. From version 1.0 (renaming of 0.25) passing these as positional arguments will result in an error\n",
      "  warnings.warn(f\"Pass {args_msg} as keyword args. From version \"\n"
     ]
    },
    {
     "data": {
      "text/plain": [
       "MLkNN(k=3)"
      ]
     },
     "execution_count": 43,
     "metadata": {},
     "output_type": "execute_result"
    }
   ],
   "source": [
    "#create and fit classifier\n",
    "from skmultilearn.adapt import MLkNN\n",
    "classifier_ML = MLkNN(k=3)\n",
    "classifier_ML.fit(X_train, Y_train)"
   ]
  },
  {
   "cell_type": "code",
   "execution_count": 44,
   "metadata": {},
   "outputs": [],
   "source": [
    "#predictions\n",
    "predictions = classifier_ML.predict(X_test)"
   ]
  },
  {
   "cell_type": "code",
   "execution_count": 45,
   "metadata": {},
   "outputs": [
    {
     "name": "stdout",
     "output_type": "stream",
     "text": [
      "Hamming_loss : 5.11988011988012\n",
      "Accuracy : 82.19637505351791\n",
      "Log_loss : 2.0125109069254186\n"
     ]
    }
   ],
   "source": [
    "#calculate scores\n",
    "evaluate_score(Y_test,predictions)"
   ]
  },
  {
   "cell_type": "markdown",
   "metadata": {},
   "source": [
    "# Free Form Visualisation\n",
    "\n",
    "Let us have a plot showing the hamming-loss and log-loss of different models, which we selected."
   ]
  },
  {
   "cell_type": "code",
   "execution_count": 47,
   "metadata": {},
   "outputs": [],
   "source": [
    "import matplotlib.pyplot as plt\n",
    "import numpy as np\n",
    "import matplotlib.cm as cm\n",
    "import itertools"
   ]
  },
  {
   "cell_type": "code",
   "execution_count": 48,
   "metadata": {},
   "outputs": [
    {
     "data": {
      "image/png": "[encoded data removed]",
      "text/plain": [
       "<Figure size 432x288 with 1 Axes>"
      ]
     },
     "metadata": {
      "needs_background": "light"
     },
     "output_type": "display_data"
    }
   ],
   "source": [
    "x = ['BR-MultNB','BR-SVM','BR-Mult','BR-GaussNB','CC-MultNB','LP-MultNB','MLkNN']\n",
    "#x = ['BR-MultNB','BR-GausNB','BR-SVC','CC-MultNB','LP-MultNB','BP-MLL-ini','BP-MLL-fin']\n",
    "y = [4.21,2.94,4.21,23.85,4.45,3.87,5.11]\n",
    "#y = [3.27,20.74,4.26,3.56,3.17,13.96,15.158\n",
    "colors = itertools.cycle(['b', 'g', 'r', 'c', 'm', 'y', 'k'])\n",
    "plt.ylabel('Hamming-Loss')\n",
    "plt.xlabel('Model-details')\n",
    "plt.xticks(rotation=90)\n",
    "for i in range(len(y)):\n",
    "    plt.bar(x[i], y[i], color=next(colors))\n",
    "plt.show()"
   ]
  },
  {
   "cell_type": "code",
   "execution_count": 49,
   "metadata": {},
   "outputs": [
    {
     "data": {
      "image/png": "[encoded data removed]",
      "text/plain": [
       "<Figure size 432x288 with 1 Axes>"
      ]
     },
     "metadata": {
      "needs_background": "light"
     },
     "output_type": "display_data"
    }
   ],
   "source": [
    "x = ['BR-MultNB','BR-SVM','BR-Mult','BR-GaussNB','CC-MultNB','LP-MultNB','MLkNN']\n",
    "#x = ['BR-MultNB','BR-GausNB','BR-SVC','CC-MultNB','LP-MultNB','BP-MLL-ini','BP-MLL-fin']\n",
    "y = [2.82,2.48,2.82,1.98,2.18,1.91,2.01]\n",
    "#y = [1.92,1.422,0.46,1.5,1.47,0.36,0.35]\n",
    "colors = itertools.cycle(['b', 'g', 'r', 'c', 'm', 'y', 'k'])\n",
    "plt.ylabel('Log-Loss')\n",
    "plt.xlabel('Model-details')\n",
    "plt.xticks(rotation=90)\n",
    "for i in range(len(y)):\n",
    "    plt.bar(x[i], y[i], color=next(colors))\n",
    "plt.show()"
   ]
  },
  {
   "cell_type": "markdown",
   "metadata": {},
   "source": [
    "# Classification of Test Data Set"
   ]
  },
  {
   "cell_type": "code",
   "execution_count": 33,
   "metadata": {},
   "outputs": [],
   "source": [
    "df = pd.read_csv(\"test.csv\")\n",
    "comment = df['comment_text']\n",
    "comment = comment.to_numpy()"
   ]
  },
  {
   "cell_type": "code",
   "execution_count": 3,
   "metadata": {},
   "outputs": [
    {
     "name": "stdout",
     "output_type": "stream",
     "text": [
      "!\"#$%&'()*+,-./:;<=>?@[\\]^_`{|}~\n",
      "!\"#$%&()*+,-./:;<=>?@[\\]^_`{|}~0123456789\n"
     ]
    }
   ],
   "source": [
    "import string\n",
    "print(string.punctuation)\n",
    "punctuation_edit = string.punctuation.replace('\\'','') +\"0123456789\"\n",
    "print (punctuation_edit)\n",
    "outtab = \"                                         \"\n",
    "trantab = str.maketrans(punctuation_edit, outtab)"
   ]
  },
  {
   "cell_type": "code",
   "execution_count": 34,
   "metadata": {},
   "outputs": [],
   "source": [
    "for i in range(len(comment)):\n",
    "    comment[i] = comment[i].lower().translate(trantab)\n",
    "    l = []\n",
    "    for word in comment[i].split():\n",
    "        l.append(stemmer.stem(lemmatiser.lemmatize(word,pos=\"v\")))\n",
    "    comment[i] = \" \".join(l)"
   ]
  },
  {
   "cell_type": "code",
   "execution_count": null,
   "metadata": {},
   "outputs": [],
   "source": [
    "import nltk\n",
    "from nltk.stem import PorterStemmer, WordNetLemmatizer\n",
    "#create objects for stemmer and lemmatizer\n",
    "lemmatiser = WordNetLemmatizer()\n",
    "stemmer = PorterStemmer()\n",
    "#download words from wordnet library\n",
    "nltk.download('wordnet')"
   ]
  },
  {
   "cell_type": "code",
   "execution_count": 35,
   "metadata": {},
   "outputs": [],
   "source": [
    "for i in range(len(comment)):\n",
    "    comment[i] = comment[i].lower().translate(trantab)\n",
    "    l = []\n",
    "    for word in comment[i].split():\n",
    "        l.append(stemmer.stem(lemmatiser.lemmatize(word,pos=\"v\")))\n",
    "    comment[i] = \" \".join(l)"
   ]
  },
  {
   "cell_type": "code",
   "execution_count": null,
   "metadata": {},
   "outputs": [],
   "source": [
    "from stop_words import get_stop_words\n",
    "stop_words = get_stop_words('english')\n",
    "stop_words.append('')\n",
    "\n",
    "for x in range(ord('b'), ord('z')+1):\n",
    "    stop_words.append(chr(x))\n",
    "    \n",
    "stop_words_additional=['aren', 'can', 'couldn', 'didn', 'doesn', 'don', 'hadn', 'hasn', 'haven', 'isn', 'let', 'll', 'mustn', 're', 'shan', 'shouldn', 've', 'wasn', 'weren', 'won', 'wouldn']\n",
    "for x in range(len(stop_words_additional)):\n",
    "    stop_words.append(stop_words_additional[x])"
   ]
  },
  {
   "cell_type": "code",
   "execution_count": 36,
   "metadata": {},
   "outputs": [],
   "source": [
    "#create object supplying our custom stop words\n",
    "count_vector = CountVectorizer(stop_words=stop_words)\n",
    "#fitting it to converts comments into bag of words format\n",
    "tf = count_vector.fit_transform(comment).toarray()"
   ]
  },
  {
   "cell_type": "markdown",
   "metadata": {},
   "source": [
    "Not able to classify test dataset because the kernel is dying due to some technical issue"
   ]
  },
  {
   "cell_type": "code",
   "execution_count": 1,
   "metadata": {},
   "outputs": [
    {
     "ename": "NameError",
     "evalue": "name 'X_train' is not defined",
     "output_type": "error",
     "traceback": [
      "\u001b[0;31m---------------------------------------------------------------------------\u001b[0m",
      "\u001b[0;31mNameError\u001b[0m                                 Traceback (most recent call last)",
      "\u001b[0;32m<ipython-input-1-7f2a3fe85967>\u001b[0m in \u001b[0;36m<module>\u001b[0;34m\u001b[0m\n\u001b[1;32m      3\u001b[0m \u001b[0;34m\u001b[0m\u001b[0m\n\u001b[1;32m      4\u001b[0m \u001b[0mclassifier_final\u001b[0m \u001b[0;34m=\u001b[0m \u001b[0mLabelPowerset\u001b[0m\u001b[0;34m(\u001b[0m\u001b[0mMultinomialNB\u001b[0m\u001b[0;34m(\u001b[0m\u001b[0;34m)\u001b[0m\u001b[0;34m)\u001b[0m\u001b[0;34m\u001b[0m\u001b[0;34m\u001b[0m\u001b[0m\n\u001b[0;32m----> 5\u001b[0;31m \u001b[0mclassifier_final\u001b[0m\u001b[0;34m.\u001b[0m\u001b[0mfit\u001b[0m\u001b[0;34m(\u001b[0m\u001b[0mX_train\u001b[0m\u001b[0;34m,\u001b[0m \u001b[0mY_train\u001b[0m\u001b[0;34m)\u001b[0m\u001b[0;34m\u001b[0m\u001b[0;34m\u001b[0m\u001b[0m\n\u001b[0m\u001b[1;32m      6\u001b[0m \u001b[0mpredictions\u001b[0m \u001b[0;34m=\u001b[0m \u001b[0mclassifier_final\u001b[0m\u001b[0;34m.\u001b[0m\u001b[0mpredict\u001b[0m\u001b[0;34m(\u001b[0m\u001b[0mtf\u001b[0m\u001b[0;34m)\u001b[0m\u001b[0;34m\u001b[0m\u001b[0;34m\u001b[0m\u001b[0m\n",
      "\u001b[0;31mNameError\u001b[0m: name 'X_train' is not defined"
     ]
    }
   ],
   "source": [
    "from sklearn.naive_bayes import MultinomialNB\n",
    "from skmultilearn.problem_transform import LabelPowerset\n",
    "\n",
    "classifier_final = LabelPowerset(MultinomialNB())\n",
    "classifier_final.fit(X_train, Y_train)\n",
    "predictions = classifier_final.predict(tf)"
   ]
  },
  {
   "cell_type": "code",
   "execution_count": null,
   "metadata": {},
   "outputs": [],
   "source": [
    "test_data=pd.read_excel('test.csv')\n",
    "df_pred=pd.concat([test_data,predictions],axis=1)\n",
    "df_pred.head()"
   ]
  },
  {
   "cell_type": "code",
   "execution_count": null,
   "metadata": {},
   "outputs": [],
   "source": []
  },
  {
   "cell_type": "code",
   "execution_count": null,
   "metadata": {},
   "outputs": [],
   "source": []
  }
 ],
 "metadata": {
  "kernelspec": {
   "display_name": "Python 3",
   "language": "python",
   "name": "python3"
  },
  "language_info": {
   "codemirror_mode": {
    "name": "ipython",
    "version": 3
   },
   "file_extension": ".py",
   "mimetype": "text/x-python",
   "name": "python",
   "nbconvert_exporter": "python",
   "pygments_lexer": "ipython3",
   "version": "3.8.8"
  }
 },
 "nbformat": 4,
 "nbformat_minor": 4
}
