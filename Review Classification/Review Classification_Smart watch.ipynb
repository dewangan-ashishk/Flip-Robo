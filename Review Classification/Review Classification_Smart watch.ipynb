{
 "cells": [
  {
   "cell_type": "markdown",
   "id": "f94d6d75",
   "metadata": {},
   "source": [
    "# Review Classification - Smart watch"
   ]
  },
  {
   "cell_type": "code",
   "execution_count": 1,
   "id": "dd2790c9",
   "metadata": {},
   "outputs": [
    {
     "data": {
      "text/html": [
       "<div>\n",
       "<style scoped>\n",
       "    .dataframe tbody tr th:only-of-type {\n",
       "        vertical-align: middle;\n",
       "    }\n",
       "\n",
       "    .dataframe tbody tr th {\n",
       "        vertical-align: top;\n",
       "    }\n",
       "\n",
       "    .dataframe thead th {\n",
       "        text-align: right;\n",
       "    }\n",
       "</style>\n",
       "<table border=\"1\" class=\"dataframe\">\n",
       "  <thead>\n",
       "    <tr style=\"text-align: right;\">\n",
       "      <th></th>\n",
       "      <th>Unnamed: 0</th>\n",
       "      <th>Rating</th>\n",
       "      <th>Heading</th>\n",
       "      <th>Review</th>\n",
       "      <th>Product</th>\n",
       "    </tr>\n",
       "  </thead>\n",
       "  <tbody>\n",
       "    <tr>\n",
       "      <th>0</th>\n",
       "      <td>0</td>\n",
       "      <td>5.0</td>\n",
       "      <td>Excellent</td>\n",
       "      <td>Awesome Watch , More better than I ve expected...</td>\n",
       "      <td>Smart watch</td>\n",
       "    </tr>\n",
       "    <tr>\n",
       "      <th>1</th>\n",
       "      <td>1</td>\n",
       "      <td>5.0</td>\n",
       "      <td>Best in the market!</td>\n",
       "      <td>Nice product</td>\n",
       "      <td>Smart watch</td>\n",
       "    </tr>\n",
       "    <tr>\n",
       "      <th>2</th>\n",
       "      <td>2</td>\n",
       "      <td>5.0</td>\n",
       "      <td>Terrific</td>\n",
       "      <td>Extremely value for money</td>\n",
       "      <td>Smart watch</td>\n",
       "    </tr>\n",
       "    <tr>\n",
       "      <th>3</th>\n",
       "      <td>3</td>\n",
       "      <td>NaN</td>\n",
       "      <td>NaN</td>\n",
       "      <td>NaN</td>\n",
       "      <td>Smart watch</td>\n",
       "    </tr>\n",
       "    <tr>\n",
       "      <th>4</th>\n",
       "      <td>4</td>\n",
       "      <td>NaN</td>\n",
       "      <td>NaN</td>\n",
       "      <td>NaN</td>\n",
       "      <td>Smart watch</td>\n",
       "    </tr>\n",
       "  </tbody>\n",
       "</table>\n",
       "</div>"
      ],
      "text/plain": [
       "   Unnamed: 0  Rating              Heading  \\\n",
       "0           0     5.0            Excellent   \n",
       "1           1     5.0  Best in the market!   \n",
       "2           2     5.0             Terrific   \n",
       "3           3     NaN                  NaN   \n",
       "4           4     NaN                  NaN   \n",
       "\n",
       "                                              Review      Product  \n",
       "0  Awesome Watch , More better than I ve expected...  Smart watch  \n",
       "1                                       Nice product  Smart watch  \n",
       "2                          Extremely value for money  Smart watch  \n",
       "3                                                NaN  Smart watch  \n",
       "4                                                NaN  Smart watch  "
      ]
     },
     "execution_count": 1,
     "metadata": {},
     "output_type": "execute_result"
    }
   ],
   "source": [
    "#import the dataset\n",
    "import pandas as pd\n",
    "import numpy as np\n",
    "\n",
    "import warnings\n",
    "warnings.filterwarnings('ignore')\n",
    "pd.set_option('Display.max_columns',None)\n",
    "pd.set_option('Display.max_rows',None)\n",
    "\n",
    "df=pd.read_csv(\"Smart watch Rating.csv\")\n",
    "df.head()"
   ]
  },
  {
   "cell_type": "markdown",
   "id": "88314aee",
   "metadata": {},
   "source": [
    "#### Observations:\n",
    "* The feature unnamed is index. Hence we can drop this feature."
   ]
  },
  {
   "cell_type": "code",
   "execution_count": 2,
   "id": "69662b3e",
   "metadata": {},
   "outputs": [
    {
     "data": {
      "text/html": [
       "<div>\n",
       "<style scoped>\n",
       "    .dataframe tbody tr th:only-of-type {\n",
       "        vertical-align: middle;\n",
       "    }\n",
       "\n",
       "    .dataframe tbody tr th {\n",
       "        vertical-align: top;\n",
       "    }\n",
       "\n",
       "    .dataframe thead th {\n",
       "        text-align: right;\n",
       "    }\n",
       "</style>\n",
       "<table border=\"1\" class=\"dataframe\">\n",
       "  <thead>\n",
       "    <tr style=\"text-align: right;\">\n",
       "      <th></th>\n",
       "      <th>Rating</th>\n",
       "      <th>Heading</th>\n",
       "      <th>Review</th>\n",
       "      <th>Product</th>\n",
       "    </tr>\n",
       "  </thead>\n",
       "  <tbody>\n",
       "    <tr>\n",
       "      <th>0</th>\n",
       "      <td>5.0</td>\n",
       "      <td>Excellent</td>\n",
       "      <td>Awesome Watch , More better than I ve expected...</td>\n",
       "      <td>Smart watch</td>\n",
       "    </tr>\n",
       "    <tr>\n",
       "      <th>1</th>\n",
       "      <td>5.0</td>\n",
       "      <td>Best in the market!</td>\n",
       "      <td>Nice product</td>\n",
       "      <td>Smart watch</td>\n",
       "    </tr>\n",
       "    <tr>\n",
       "      <th>2</th>\n",
       "      <td>5.0</td>\n",
       "      <td>Terrific</td>\n",
       "      <td>Extremely value for money</td>\n",
       "      <td>Smart watch</td>\n",
       "    </tr>\n",
       "    <tr>\n",
       "      <th>3</th>\n",
       "      <td>NaN</td>\n",
       "      <td>NaN</td>\n",
       "      <td>NaN</td>\n",
       "      <td>Smart watch</td>\n",
       "    </tr>\n",
       "    <tr>\n",
       "      <th>4</th>\n",
       "      <td>NaN</td>\n",
       "      <td>NaN</td>\n",
       "      <td>NaN</td>\n",
       "      <td>Smart watch</td>\n",
       "    </tr>\n",
       "  </tbody>\n",
       "</table>\n",
       "</div>"
      ],
      "text/plain": [
       "   Rating              Heading  \\\n",
       "0     5.0            Excellent   \n",
       "1     5.0  Best in the market!   \n",
       "2     5.0             Terrific   \n",
       "3     NaN                  NaN   \n",
       "4     NaN                  NaN   \n",
       "\n",
       "                                              Review      Product  \n",
       "0  Awesome Watch , More better than I ve expected...  Smart watch  \n",
       "1                                       Nice product  Smart watch  \n",
       "2                          Extremely value for money  Smart watch  \n",
       "3                                                NaN  Smart watch  \n",
       "4                                                NaN  Smart watch  "
      ]
     },
     "execution_count": 2,
     "metadata": {},
     "output_type": "execute_result"
    }
   ],
   "source": [
    "df.drop(['Unnamed: 0'], axis=1, inplace=True)\n",
    "df.head()"
   ]
  },
  {
   "cell_type": "markdown",
   "id": "6a3d6c3d",
   "metadata": {},
   "source": [
    "# Exploratory Data Analysis"
   ]
  },
  {
   "cell_type": "code",
   "execution_count": 3,
   "id": "5c7a129f",
   "metadata": {},
   "outputs": [
    {
     "data": {
      "text/plain": [
       "(9547, 4)"
      ]
     },
     "execution_count": 3,
     "metadata": {},
     "output_type": "execute_result"
    }
   ],
   "source": [
    "#check the dimensions of the data (Headphone)\n",
    "df.shape"
   ]
  },
  {
   "cell_type": "markdown",
   "id": "46f35542",
   "metadata": {},
   "source": [
    "#### Observations\n",
    "* The dataset has 9547 rows and 4 columns\n",
    "* The dataset has 1 label - 'Rating' and 3 features"
   ]
  },
  {
   "cell_type": "code",
   "execution_count": 4,
   "id": "a3f16b00",
   "metadata": {},
   "outputs": [
    {
     "data": {
      "text/plain": [
       "Index(['Rating', 'Heading', 'Review', 'Product'], dtype='object')"
      ]
     },
     "execution_count": 4,
     "metadata": {},
     "output_type": "execute_result"
    }
   ],
   "source": [
    "#check the names of columns in dataset\n",
    "df.columns"
   ]
  },
  {
   "cell_type": "code",
   "execution_count": 5,
   "id": "357da756",
   "metadata": {},
   "outputs": [
    {
     "data": {
      "text/plain": [
       "Rating     float64\n",
       "Heading     object\n",
       "Review      object\n",
       "Product     object\n",
       "dtype: object"
      ]
     },
     "execution_count": 5,
     "metadata": {},
     "output_type": "execute_result"
    }
   ],
   "source": [
    "#check the datatype of each feature\n",
    "df.dtypes"
   ]
  },
  {
   "cell_type": "markdown",
   "id": "e6a143e0",
   "metadata": {},
   "source": [
    "#### Observations:\n",
    "   * All the feratures are of \"object\" data type."
   ]
  },
  {
   "cell_type": "code",
   "execution_count": 6,
   "id": "e5f4f895",
   "metadata": {},
   "outputs": [
    {
     "data": {
      "text/plain": [
       "Rating     1018\n",
       "Heading     963\n",
       "Review      963\n",
       "Product       0\n",
       "dtype: int64"
      ]
     },
     "execution_count": 6,
     "metadata": {},
     "output_type": "execute_result"
    }
   ],
   "source": [
    "#checking if there are any null values in the dataset\n",
    "df.isna().sum()"
   ]
  },
  {
   "cell_type": "code",
   "execution_count": 7,
   "id": "83ef6c46",
   "metadata": {},
   "outputs": [],
   "source": [
    "#dropping all numm values\n",
    "df.dropna(inplace=True)"
   ]
  },
  {
   "cell_type": "code",
   "execution_count": 8,
   "id": "9f9c341a",
   "metadata": {},
   "outputs": [
    {
     "data": {
      "text/plain": [
       "Rating     0\n",
       "Heading    0\n",
       "Review     0\n",
       "Product    0\n",
       "dtype: int64"
      ]
     },
     "execution_count": 8,
     "metadata": {},
     "output_type": "execute_result"
    }
   ],
   "source": [
    "#cross checking null values\n",
    "df.isna().sum()"
   ]
  },
  {
   "cell_type": "code",
   "execution_count": 9,
   "id": "1a0ef9f5",
   "metadata": {},
   "outputs": [
    {
     "data": {
      "text/plain": [
       "(8529, 4)"
      ]
     },
     "execution_count": 9,
     "metadata": {},
     "output_type": "execute_result"
    }
   ],
   "source": [
    "df.shape"
   ]
  },
  {
   "cell_type": "markdown",
   "id": "bf3fa3b4",
   "metadata": {},
   "source": [
    "#### Observations:\n",
    "* There are 8529 rows in the dataset"
   ]
  },
  {
   "cell_type": "code",
   "execution_count": 10,
   "id": "7ff52a48",
   "metadata": {},
   "outputs": [
    {
     "data": {
      "text/plain": [
       "5.0    5229\n",
       "4.0    1669\n",
       "1.0     786\n",
       "3.0     584\n",
       "2.0     261\n",
       "Name: Rating, dtype: int64"
      ]
     },
     "execution_count": 10,
     "metadata": {},
     "output_type": "execute_result"
    }
   ],
   "source": [
    "df['Rating'].value_counts()"
   ]
  },
  {
   "cell_type": "markdown",
   "id": "dceebfc1",
   "metadata": {},
   "source": [
    "#### Observations:\n",
    "* The ratings are inbalanced. \n",
    "* Most of the ratings are 5 star."
   ]
  },
  {
   "cell_type": "code",
   "execution_count": 11,
   "id": "3495e55f",
   "metadata": {},
   "outputs": [
    {
     "data": {
      "text/plain": [
       "Rating        5\n",
       "Heading      80\n",
       "Review     3250\n",
       "Product       1\n",
       "dtype: int64"
      ]
     },
     "execution_count": 11,
     "metadata": {},
     "output_type": "execute_result"
    }
   ],
   "source": [
    "#check number of unique values in each class;\n",
    "df.nunique()"
   ]
  },
  {
   "cell_type": "markdown",
   "id": "464a9a15",
   "metadata": {},
   "source": [
    "#### Observations:\n",
    "* The label rating has 5 unique values: 1, 2, 3, 4, 5\n",
    "* The headings can be duplicate as it is kind of summary of the review.\n",
    "* The reviews should be unique. Hence, we will drop the duplicate reviews to avoid over-fitting."
   ]
  },
  {
   "cell_type": "code",
   "execution_count": 12,
   "id": "44ab814b",
   "metadata": {},
   "outputs": [],
   "source": [
    "df.drop_duplicates(subset='Review', inplace=True)"
   ]
  },
  {
   "cell_type": "code",
   "execution_count": 13,
   "id": "b40a4a31",
   "metadata": {},
   "outputs": [
    {
     "name": "stdout",
     "output_type": "stream",
     "text": [
      "(3250, 4)\n",
      "Rating        5\n",
      "Heading      80\n",
      "Review     3250\n",
      "Product       1\n",
      "dtype: int64\n"
     ]
    }
   ],
   "source": [
    "#cross checking for diplicacy of reviews\n",
    "print(df.shape)\n",
    "print(df.nunique())"
   ]
  },
  {
   "cell_type": "markdown",
   "id": "0bbbfa7b",
   "metadata": {},
   "source": [
    "#### Observations:\n",
    "* We have 3250 unique reviews for laptops\n",
    "* There are only 80 unique headings in the data set.\n",
    "* If the classification is to be done based on the heading, then only unique headings must be considered.\n",
    "* In the model building stage we will classfiy from unique headings as well."
   ]
  },
  {
   "cell_type": "code",
   "execution_count": 14,
   "id": "29f4e94c",
   "metadata": {},
   "outputs": [
    {
     "data": {
      "text/html": [
       "<div>\n",
       "<style scoped>\n",
       "    .dataframe tbody tr th:only-of-type {\n",
       "        vertical-align: middle;\n",
       "    }\n",
       "\n",
       "    .dataframe tbody tr th {\n",
       "        vertical-align: top;\n",
       "    }\n",
       "\n",
       "    .dataframe thead th {\n",
       "        text-align: right;\n",
       "    }\n",
       "</style>\n",
       "<table border=\"1\" class=\"dataframe\">\n",
       "  <thead>\n",
       "    <tr style=\"text-align: right;\">\n",
       "      <th></th>\n",
       "      <th>Rating</th>\n",
       "      <th>Heading</th>\n",
       "      <th>Review</th>\n",
       "      <th>Product</th>\n",
       "      <th>Review_word_counter</th>\n",
       "    </tr>\n",
       "  </thead>\n",
       "  <tbody>\n",
       "    <tr>\n",
       "      <th>0</th>\n",
       "      <td>5.0</td>\n",
       "      <td>Excellent</td>\n",
       "      <td>Awesome Watch , More better than I ve expected...</td>\n",
       "      <td>Smart watch</td>\n",
       "      <td>333</td>\n",
       "    </tr>\n",
       "    <tr>\n",
       "      <th>1</th>\n",
       "      <td>5.0</td>\n",
       "      <td>Best in the market!</td>\n",
       "      <td>Nice product</td>\n",
       "      <td>Smart watch</td>\n",
       "      <td>12</td>\n",
       "    </tr>\n",
       "    <tr>\n",
       "      <th>2</th>\n",
       "      <td>5.0</td>\n",
       "      <td>Terrific</td>\n",
       "      <td>Extremely value for money</td>\n",
       "      <td>Smart watch</td>\n",
       "      <td>25</td>\n",
       "    </tr>\n",
       "    <tr>\n",
       "      <th>12</th>\n",
       "      <td>3.0</td>\n",
       "      <td>Fair</td>\n",
       "      <td>Super</td>\n",
       "      <td>Smart watch</td>\n",
       "      <td>5</td>\n",
       "    </tr>\n",
       "    <tr>\n",
       "      <th>13</th>\n",
       "      <td>4.0</td>\n",
       "      <td>Value-for-money</td>\n",
       "      <td>Awesome product but no features and no screen ...</td>\n",
       "      <td>Smart watch</td>\n",
       "      <td>68</td>\n",
       "    </tr>\n",
       "  </tbody>\n",
       "</table>\n",
       "</div>"
      ],
      "text/plain": [
       "    Rating              Heading  \\\n",
       "0      5.0            Excellent   \n",
       "1      5.0  Best in the market!   \n",
       "2      5.0             Terrific   \n",
       "12     3.0                 Fair   \n",
       "13     4.0      Value-for-money   \n",
       "\n",
       "                                               Review      Product  \\\n",
       "0   Awesome Watch , More better than I ve expected...  Smart watch   \n",
       "1                                        Nice product  Smart watch   \n",
       "2                           Extremely value for money  Smart watch   \n",
       "12                                              Super  Smart watch   \n",
       "13  Awesome product but no features and no screen ...  Smart watch   \n",
       "\n",
       "    Review_word_counter  \n",
       "0                   333  \n",
       "1                    12  \n",
       "2                    25  \n",
       "12                    5  \n",
       "13                   68  "
      ]
     },
     "execution_count": 14,
     "metadata": {},
     "output_type": "execute_result"
    }
   ],
   "source": [
    "#checking the length of review\n",
    "df['Review_word_counter']=df['Review'].str.strip().str.len()\n",
    "df.head()"
   ]
  },
  {
   "cell_type": "code",
   "execution_count": 15,
   "id": "14bd408a",
   "metadata": {},
   "outputs": [],
   "source": [
    "from sklearn.utils import shuffle\n",
    "df=shuffle(df)\n",
    "df.reset_index(inplace=True,drop=True)"
   ]
  },
  {
   "cell_type": "code",
   "execution_count": 16,
   "id": "f973560f",
   "metadata": {},
   "outputs": [
    {
     "data": {
      "text/html": [
       "<div>\n",
       "<style scoped>\n",
       "    .dataframe tbody tr th:only-of-type {\n",
       "        vertical-align: middle;\n",
       "    }\n",
       "\n",
       "    .dataframe tbody tr th {\n",
       "        vertical-align: top;\n",
       "    }\n",
       "\n",
       "    .dataframe thead th {\n",
       "        text-align: right;\n",
       "    }\n",
       "</style>\n",
       "<table border=\"1\" class=\"dataframe\">\n",
       "  <thead>\n",
       "    <tr style=\"text-align: right;\">\n",
       "      <th></th>\n",
       "      <th>Rating</th>\n",
       "      <th>Heading</th>\n",
       "      <th>Review</th>\n",
       "      <th>Product</th>\n",
       "      <th>Review_word_counter</th>\n",
       "    </tr>\n",
       "  </thead>\n",
       "  <tbody>\n",
       "    <tr>\n",
       "      <th>0</th>\n",
       "      <td>4.0</td>\n",
       "      <td>Worth the money</td>\n",
       "      <td>Nice watch.</td>\n",
       "      <td>Smart watch</td>\n",
       "      <td>11</td>\n",
       "    </tr>\n",
       "    <tr>\n",
       "      <th>1</th>\n",
       "      <td>5.0</td>\n",
       "      <td>Terrific purchase</td>\n",
       "      <td>I love it. Not only looks good but works good ...</td>\n",
       "      <td>Smart watch</td>\n",
       "      <td>54</td>\n",
       "    </tr>\n",
       "    <tr>\n",
       "      <th>2</th>\n",
       "      <td>4.0</td>\n",
       "      <td>Good quality product</td>\n",
       "      <td>Nice Watch, Call Recive Option Available. Othe...</td>\n",
       "      <td>Smart watch</td>\n",
       "      <td>67</td>\n",
       "    </tr>\n",
       "    <tr>\n",
       "      <th>3</th>\n",
       "      <td>5.0</td>\n",
       "      <td>Worth every penny</td>\n",
       "      <td>At such a low price Haven't seen a watch like ...</td>\n",
       "      <td>Smart watch</td>\n",
       "      <td>59</td>\n",
       "    </tr>\n",
       "    <tr>\n",
       "      <th>4</th>\n",
       "      <td>5.0</td>\n",
       "      <td>Just wow!</td>\n",
       "      <td>Best in market</td>\n",
       "      <td>Smart watch</td>\n",
       "      <td>14</td>\n",
       "    </tr>\n",
       "  </tbody>\n",
       "</table>\n",
       "</div>"
      ],
      "text/plain": [
       "   Rating               Heading  \\\n",
       "0     4.0       Worth the money   \n",
       "1     5.0     Terrific purchase   \n",
       "2     4.0  Good quality product   \n",
       "3     5.0     Worth every penny   \n",
       "4     5.0             Just wow!   \n",
       "\n",
       "                                              Review      Product  \\\n",
       "0                                        Nice watch.  Smart watch   \n",
       "1  I love it. Not only looks good but works good ...  Smart watch   \n",
       "2  Nice Watch, Call Recive Option Available. Othe...  Smart watch   \n",
       "3  At such a low price Haven't seen a watch like ...  Smart watch   \n",
       "4                                     Best in market  Smart watch   \n",
       "\n",
       "   Review_word_counter  \n",
       "0                   11  \n",
       "1                   54  \n",
       "2                   67  \n",
       "3                   59  \n",
       "4                   14  "
      ]
     },
     "execution_count": 16,
     "metadata": {},
     "output_type": "execute_result"
    }
   ],
   "source": [
    "df.head()"
   ]
  },
  {
   "cell_type": "markdown",
   "id": "4682a746",
   "metadata": {},
   "source": [
    "### Exploratory Data Analysis"
   ]
  },
  {
   "cell_type": "code",
   "execution_count": 17,
   "id": "0ab29561",
   "metadata": {},
   "outputs": [
    {
     "data": {
      "text/plain": [
       "(3250, 5)"
      ]
     },
     "execution_count": 17,
     "metadata": {},
     "output_type": "execute_result"
    }
   ],
   "source": [
    "#check the dimensions of the data\n",
    "df.shape"
   ]
  },
  {
   "cell_type": "markdown",
   "id": "11c8d2c5",
   "metadata": {},
   "source": [
    "#### Observtions:\n",
    "* The dataset has 3250 rows and 4 columns"
   ]
  },
  {
   "cell_type": "code",
   "execution_count": 18,
   "id": "6c2d41b8",
   "metadata": {},
   "outputs": [
    {
     "data": {
      "text/plain": [
       "Index(['Rating', 'Heading', 'Review', 'Product', 'Review_word_counter'], dtype='object')"
      ]
     },
     "execution_count": 18,
     "metadata": {},
     "output_type": "execute_result"
    }
   ],
   "source": [
    "#check the names of columns in dataset\n",
    "df.columns"
   ]
  },
  {
   "cell_type": "code",
   "execution_count": 19,
   "id": "f8dd2aac",
   "metadata": {},
   "outputs": [
    {
     "data": {
      "text/plain": [
       "Rating                 float64\n",
       "Heading                 object\n",
       "Review                  object\n",
       "Product                 object\n",
       "Review_word_counter      int64\n",
       "dtype: object"
      ]
     },
     "execution_count": 19,
     "metadata": {},
     "output_type": "execute_result"
    }
   ],
   "source": [
    "#check the datatype of each feature\n",
    "df.dtypes"
   ]
  },
  {
   "cell_type": "markdown",
   "id": "c8907234",
   "metadata": {},
   "source": [
    "#### Observations:\n",
    "   * There are three columns with \"object\" data type they are \"Heading\", \"Review\" and \"Product\".\n",
    "   * There is one column (label) with float data type."
   ]
  },
  {
   "cell_type": "code",
   "execution_count": 20,
   "id": "7da6439f",
   "metadata": {},
   "outputs": [
    {
     "data": {
      "text/plain": [
       "Rating                 0\n",
       "Heading                0\n",
       "Review                 0\n",
       "Product                0\n",
       "Review_word_counter    0\n",
       "dtype: int64"
      ]
     },
     "execution_count": 20,
     "metadata": {},
     "output_type": "execute_result"
    }
   ],
   "source": [
    "#checking if there are any null values in the dataset\n",
    "df.isnull().sum()"
   ]
  },
  {
   "cell_type": "markdown",
   "id": "85fbf7c1",
   "metadata": {},
   "source": [
    "#### Observations:\n",
    "   * There are no null values in the entire dataset"
   ]
  },
  {
   "cell_type": "code",
   "execution_count": 21,
   "id": "f6d86097",
   "metadata": {},
   "outputs": [
    {
     "data": {
      "text/plain": [
       "5.0    1926\n",
       "4.0     617\n",
       "1.0     361\n",
       "3.0     227\n",
       "2.0     119\n",
       "Name: Rating, dtype: int64"
      ]
     },
     "execution_count": 21,
     "metadata": {},
     "output_type": "execute_result"
    }
   ],
   "source": [
    "df['Rating'].value_counts()"
   ]
  },
  {
   "cell_type": "markdown",
   "id": "3286e46c",
   "metadata": {},
   "source": [
    "#### Observations:\n",
    "* There are more number of 5 star rated reviews.\n",
    "* There are very less number of 2 star rated reviews.\n",
    "* The data set is not perfectly balanced."
   ]
  },
  {
   "cell_type": "code",
   "execution_count": 22,
   "id": "1c271eee",
   "metadata": {},
   "outputs": [],
   "source": [
    "#Separation of rating as different labels.\n",
    "df['1 Star']=df.apply(lambda x: 1 if x['Rating']==1 else 0, axis=1)\n",
    "df['2 Star']=df.apply(lambda x: 1 if x['Rating']==2 else 0, axis=1)\n",
    "df['3 Star']=df.apply(lambda x: 1 if x['Rating']==3 else 0, axis=1)\n",
    "df['4 Star']=df.apply(lambda x: 1 if x['Rating']==4 else 0, axis=1)\n",
    "df['5 Star']=df.apply(lambda x: 1 if x['Rating']==5 else 0, axis=1)"
   ]
  },
  {
   "cell_type": "code",
   "execution_count": 23,
   "id": "7c10e84e",
   "metadata": {},
   "outputs": [
    {
     "data": {
      "text/html": [
       "<div>\n",
       "<style scoped>\n",
       "    .dataframe tbody tr th:only-of-type {\n",
       "        vertical-align: middle;\n",
       "    }\n",
       "\n",
       "    .dataframe tbody tr th {\n",
       "        vertical-align: top;\n",
       "    }\n",
       "\n",
       "    .dataframe thead th {\n",
       "        text-align: right;\n",
       "    }\n",
       "</style>\n",
       "<table border=\"1\" class=\"dataframe\">\n",
       "  <thead>\n",
       "    <tr style=\"text-align: right;\">\n",
       "      <th></th>\n",
       "      <th>Rating</th>\n",
       "      <th>Heading</th>\n",
       "      <th>Review</th>\n",
       "      <th>Product</th>\n",
       "      <th>Review_word_counter</th>\n",
       "      <th>1 Star</th>\n",
       "      <th>2 Star</th>\n",
       "      <th>3 Star</th>\n",
       "      <th>4 Star</th>\n",
       "      <th>5 Star</th>\n",
       "    </tr>\n",
       "  </thead>\n",
       "  <tbody>\n",
       "    <tr>\n",
       "      <th>0</th>\n",
       "      <td>4.0</td>\n",
       "      <td>Worth the money</td>\n",
       "      <td>Nice watch.</td>\n",
       "      <td>Smart watch</td>\n",
       "      <td>11</td>\n",
       "      <td>0</td>\n",
       "      <td>0</td>\n",
       "      <td>0</td>\n",
       "      <td>1</td>\n",
       "      <td>0</td>\n",
       "    </tr>\n",
       "    <tr>\n",
       "      <th>1</th>\n",
       "      <td>5.0</td>\n",
       "      <td>Terrific purchase</td>\n",
       "      <td>I love it. Not only looks good but works good ...</td>\n",
       "      <td>Smart watch</td>\n",
       "      <td>54</td>\n",
       "      <td>0</td>\n",
       "      <td>0</td>\n",
       "      <td>0</td>\n",
       "      <td>0</td>\n",
       "      <td>1</td>\n",
       "    </tr>\n",
       "    <tr>\n",
       "      <th>2</th>\n",
       "      <td>4.0</td>\n",
       "      <td>Good quality product</td>\n",
       "      <td>Nice Watch, Call Recive Option Available. Othe...</td>\n",
       "      <td>Smart watch</td>\n",
       "      <td>67</td>\n",
       "      <td>0</td>\n",
       "      <td>0</td>\n",
       "      <td>0</td>\n",
       "      <td>1</td>\n",
       "      <td>0</td>\n",
       "    </tr>\n",
       "    <tr>\n",
       "      <th>3</th>\n",
       "      <td>5.0</td>\n",
       "      <td>Worth every penny</td>\n",
       "      <td>At such a low price Haven't seen a watch like ...</td>\n",
       "      <td>Smart watch</td>\n",
       "      <td>59</td>\n",
       "      <td>0</td>\n",
       "      <td>0</td>\n",
       "      <td>0</td>\n",
       "      <td>0</td>\n",
       "      <td>1</td>\n",
       "    </tr>\n",
       "    <tr>\n",
       "      <th>4</th>\n",
       "      <td>5.0</td>\n",
       "      <td>Just wow!</td>\n",
       "      <td>Best in market</td>\n",
       "      <td>Smart watch</td>\n",
       "      <td>14</td>\n",
       "      <td>0</td>\n",
       "      <td>0</td>\n",
       "      <td>0</td>\n",
       "      <td>0</td>\n",
       "      <td>1</td>\n",
       "    </tr>\n",
       "    <tr>\n",
       "      <th>5</th>\n",
       "      <td>5.0</td>\n",
       "      <td>Must buy!</td>\n",
       "      <td>Excellent value for money smartwatch. I purcha...</td>\n",
       "      <td>Smart watch</td>\n",
       "      <td>268</td>\n",
       "      <td>0</td>\n",
       "      <td>0</td>\n",
       "      <td>0</td>\n",
       "      <td>0</td>\n",
       "      <td>1</td>\n",
       "    </tr>\n",
       "    <tr>\n",
       "      <th>6</th>\n",
       "      <td>4.0</td>\n",
       "      <td>Nice product</td>\n",
       "      <td>nice</td>\n",
       "      <td>Smart watch</td>\n",
       "      <td>4</td>\n",
       "      <td>0</td>\n",
       "      <td>0</td>\n",
       "      <td>0</td>\n",
       "      <td>1</td>\n",
       "      <td>0</td>\n",
       "    </tr>\n",
       "    <tr>\n",
       "      <th>7</th>\n",
       "      <td>1.0</td>\n",
       "      <td>Useless product</td>\n",
       "      <td>Camera quality is very bad, battery backup is ...</td>\n",
       "      <td>Smart watch</td>\n",
       "      <td>54</td>\n",
       "      <td>1</td>\n",
       "      <td>0</td>\n",
       "      <td>0</td>\n",
       "      <td>0</td>\n",
       "      <td>0</td>\n",
       "    </tr>\n",
       "    <tr>\n",
       "      <th>8</th>\n",
       "      <td>5.0</td>\n",
       "      <td>Highly recommended</td>\n",
       "      <td>Superb 👌👌👌</td>\n",
       "      <td>Smart watch</td>\n",
       "      <td>10</td>\n",
       "      <td>0</td>\n",
       "      <td>0</td>\n",
       "      <td>0</td>\n",
       "      <td>0</td>\n",
       "      <td>1</td>\n",
       "    </tr>\n",
       "    <tr>\n",
       "      <th>9</th>\n",
       "      <td>5.0</td>\n",
       "      <td>Brilliant</td>\n",
       "      <td>Watch ultimate by cognizant boys</td>\n",
       "      <td>Smart watch</td>\n",
       "      <td>32</td>\n",
       "      <td>0</td>\n",
       "      <td>0</td>\n",
       "      <td>0</td>\n",
       "      <td>0</td>\n",
       "      <td>1</td>\n",
       "    </tr>\n",
       "    <tr>\n",
       "      <th>10</th>\n",
       "      <td>5.0</td>\n",
       "      <td>Simply awesome</td>\n",
       "      <td>Terrific and amezing super best in the market</td>\n",
       "      <td>Smart watch</td>\n",
       "      <td>45</td>\n",
       "      <td>0</td>\n",
       "      <td>0</td>\n",
       "      <td>0</td>\n",
       "      <td>0</td>\n",
       "      <td>1</td>\n",
       "    </tr>\n",
       "    <tr>\n",
       "      <th>11</th>\n",
       "      <td>5.0</td>\n",
       "      <td>Awesome</td>\n",
       "      <td>Quality good but battery backup was non expected</td>\n",
       "      <td>Smart watch</td>\n",
       "      <td>48</td>\n",
       "      <td>0</td>\n",
       "      <td>0</td>\n",
       "      <td>0</td>\n",
       "      <td>0</td>\n",
       "      <td>1</td>\n",
       "    </tr>\n",
       "    <tr>\n",
       "      <th>12</th>\n",
       "      <td>5.0</td>\n",
       "      <td>Excellent</td>\n",
       "      <td>Happy With The Product</td>\n",
       "      <td>Smart watch</td>\n",
       "      <td>22</td>\n",
       "      <td>0</td>\n",
       "      <td>0</td>\n",
       "      <td>0</td>\n",
       "      <td>0</td>\n",
       "      <td>1</td>\n",
       "    </tr>\n",
       "    <tr>\n",
       "      <th>13</th>\n",
       "      <td>5.0</td>\n",
       "      <td>Great product</td>\n",
       "      <td>Nice design good product I love it</td>\n",
       "      <td>Smart watch</td>\n",
       "      <td>34</td>\n",
       "      <td>0</td>\n",
       "      <td>0</td>\n",
       "      <td>0</td>\n",
       "      <td>0</td>\n",
       "      <td>1</td>\n",
       "    </tr>\n",
       "    <tr>\n",
       "      <th>14</th>\n",
       "      <td>5.0</td>\n",
       "      <td>Brilliant</td>\n",
       "      <td>Awesome watch at this price....Paisa wasool</td>\n",
       "      <td>Smart watch</td>\n",
       "      <td>43</td>\n",
       "      <td>0</td>\n",
       "      <td>0</td>\n",
       "      <td>0</td>\n",
       "      <td>0</td>\n",
       "      <td>1</td>\n",
       "    </tr>\n",
       "    <tr>\n",
       "      <th>15</th>\n",
       "      <td>5.0</td>\n",
       "      <td>Perfect product!</td>\n",
       "      <td>Fire-Boltt Mercury is a good quality watch. Wi...</td>\n",
       "      <td>Smart watch</td>\n",
       "      <td>228</td>\n",
       "      <td>0</td>\n",
       "      <td>0</td>\n",
       "      <td>0</td>\n",
       "      <td>0</td>\n",
       "      <td>1</td>\n",
       "    </tr>\n",
       "    <tr>\n",
       "      <th>16</th>\n",
       "      <td>1.0</td>\n",
       "      <td>Worst experience ever!</td>\n",
       "      <td>Response is very laggy , not happy with the buy</td>\n",
       "      <td>Smart watch</td>\n",
       "      <td>47</td>\n",
       "      <td>1</td>\n",
       "      <td>0</td>\n",
       "      <td>0</td>\n",
       "      <td>0</td>\n",
       "      <td>0</td>\n",
       "    </tr>\n",
       "    <tr>\n",
       "      <th>17</th>\n",
       "      <td>3.0</td>\n",
       "      <td>Does the job</td>\n",
       "      <td>Max 3.5 stars for features and price 3K. No us...</td>\n",
       "      <td>Smart watch</td>\n",
       "      <td>199</td>\n",
       "      <td>0</td>\n",
       "      <td>0</td>\n",
       "      <td>1</td>\n",
       "      <td>0</td>\n",
       "      <td>0</td>\n",
       "    </tr>\n",
       "    <tr>\n",
       "      <th>18</th>\n",
       "      <td>4.0</td>\n",
       "      <td>Really Nice</td>\n",
       "      <td>the strap is very comfortable , light in weigh...</td>\n",
       "      <td>Smart watch</td>\n",
       "      <td>82</td>\n",
       "      <td>0</td>\n",
       "      <td>0</td>\n",
       "      <td>0</td>\n",
       "      <td>1</td>\n",
       "      <td>0</td>\n",
       "    </tr>\n",
       "    <tr>\n",
       "      <th>19</th>\n",
       "      <td>5.0</td>\n",
       "      <td>Super!</td>\n",
       "      <td>If you are looking for rugged watch with amole...</td>\n",
       "      <td>Smart watch</td>\n",
       "      <td>72</td>\n",
       "      <td>0</td>\n",
       "      <td>0</td>\n",
       "      <td>0</td>\n",
       "      <td>0</td>\n",
       "      <td>1</td>\n",
       "    </tr>\n",
       "  </tbody>\n",
       "</table>\n",
       "</div>"
      ],
      "text/plain": [
       "    Rating                 Heading  \\\n",
       "0      4.0         Worth the money   \n",
       "1      5.0       Terrific purchase   \n",
       "2      4.0    Good quality product   \n",
       "3      5.0       Worth every penny   \n",
       "4      5.0               Just wow!   \n",
       "5      5.0               Must buy!   \n",
       "6      4.0            Nice product   \n",
       "7      1.0         Useless product   \n",
       "8      5.0      Highly recommended   \n",
       "9      5.0               Brilliant   \n",
       "10     5.0          Simply awesome   \n",
       "11     5.0                 Awesome   \n",
       "12     5.0               Excellent   \n",
       "13     5.0           Great product   \n",
       "14     5.0               Brilliant   \n",
       "15     5.0        Perfect product!   \n",
       "16     1.0  Worst experience ever!   \n",
       "17     3.0            Does the job   \n",
       "18     4.0             Really Nice   \n",
       "19     5.0                  Super!   \n",
       "\n",
       "                                               Review      Product  \\\n",
       "0                                         Nice watch.  Smart watch   \n",
       "1   I love it. Not only looks good but works good ...  Smart watch   \n",
       "2   Nice Watch, Call Recive Option Available. Othe...  Smart watch   \n",
       "3   At such a low price Haven't seen a watch like ...  Smart watch   \n",
       "4                                      Best in market  Smart watch   \n",
       "5   Excellent value for money smartwatch. I purcha...  Smart watch   \n",
       "6                                                nice  Smart watch   \n",
       "7   Camera quality is very bad, battery backup is ...  Smart watch   \n",
       "8                                          Superb 👌👌👌  Smart watch   \n",
       "9                    Watch ultimate by cognizant boys  Smart watch   \n",
       "10      Terrific and amezing super best in the market  Smart watch   \n",
       "11   Quality good but battery backup was non expected  Smart watch   \n",
       "12                             Happy With The Product  Smart watch   \n",
       "13                 Nice design good product I love it  Smart watch   \n",
       "14        Awesome watch at this price....Paisa wasool  Smart watch   \n",
       "15  Fire-Boltt Mercury is a good quality watch. Wi...  Smart watch   \n",
       "16    Response is very laggy , not happy with the buy  Smart watch   \n",
       "17  Max 3.5 stars for features and price 3K. No us...  Smart watch   \n",
       "18  the strap is very comfortable , light in weigh...  Smart watch   \n",
       "19  If you are looking for rugged watch with amole...  Smart watch   \n",
       "\n",
       "    Review_word_counter  1 Star  2 Star  3 Star  4 Star  5 Star  \n",
       "0                    11       0       0       0       1       0  \n",
       "1                    54       0       0       0       0       1  \n",
       "2                    67       0       0       0       1       0  \n",
       "3                    59       0       0       0       0       1  \n",
       "4                    14       0       0       0       0       1  \n",
       "5                   268       0       0       0       0       1  \n",
       "6                     4       0       0       0       1       0  \n",
       "7                    54       1       0       0       0       0  \n",
       "8                    10       0       0       0       0       1  \n",
       "9                    32       0       0       0       0       1  \n",
       "10                   45       0       0       0       0       1  \n",
       "11                   48       0       0       0       0       1  \n",
       "12                   22       0       0       0       0       1  \n",
       "13                   34       0       0       0       0       1  \n",
       "14                   43       0       0       0       0       1  \n",
       "15                  228       0       0       0       0       1  \n",
       "16                   47       1       0       0       0       0  \n",
       "17                  199       0       0       1       0       0  \n",
       "18                   82       0       0       0       1       0  \n",
       "19                   72       0       0       0       0       1  "
      ]
     },
     "execution_count": 23,
     "metadata": {},
     "output_type": "execute_result"
    }
   ],
   "source": [
    "df.head(20)"
   ]
  },
  {
   "cell_type": "code",
   "execution_count": 24,
   "id": "54521371",
   "metadata": {},
   "outputs": [],
   "source": [
    "df.drop(['Rating'], axis=1, inplace= True)"
   ]
  },
  {
   "cell_type": "code",
   "execution_count": 25,
   "id": "12822ed8",
   "metadata": {},
   "outputs": [
    {
     "data": {
      "text/html": [
       "<div>\n",
       "<style scoped>\n",
       "    .dataframe tbody tr th:only-of-type {\n",
       "        vertical-align: middle;\n",
       "    }\n",
       "\n",
       "    .dataframe tbody tr th {\n",
       "        vertical-align: top;\n",
       "    }\n",
       "\n",
       "    .dataframe thead th {\n",
       "        text-align: right;\n",
       "    }\n",
       "</style>\n",
       "<table border=\"1\" class=\"dataframe\">\n",
       "  <thead>\n",
       "    <tr style=\"text-align: right;\">\n",
       "      <th></th>\n",
       "      <th>Review_word_counter</th>\n",
       "      <th>1 Star</th>\n",
       "      <th>2 Star</th>\n",
       "      <th>3 Star</th>\n",
       "      <th>4 Star</th>\n",
       "      <th>5 Star</th>\n",
       "    </tr>\n",
       "  </thead>\n",
       "  <tbody>\n",
       "    <tr>\n",
       "      <th>count</th>\n",
       "      <td>3250.000000</td>\n",
       "      <td>3250.000000</td>\n",
       "      <td>3250.000000</td>\n",
       "      <td>3250.000000</td>\n",
       "      <td>3250.000000</td>\n",
       "      <td>3250.000000</td>\n",
       "    </tr>\n",
       "    <tr>\n",
       "      <th>mean</th>\n",
       "      <td>114.323385</td>\n",
       "      <td>0.111077</td>\n",
       "      <td>0.036615</td>\n",
       "      <td>0.069846</td>\n",
       "      <td>0.189846</td>\n",
       "      <td>0.592615</td>\n",
       "    </tr>\n",
       "    <tr>\n",
       "      <th>std</th>\n",
       "      <td>130.623937</td>\n",
       "      <td>0.314276</td>\n",
       "      <td>0.187844</td>\n",
       "      <td>0.254927</td>\n",
       "      <td>0.392240</td>\n",
       "      <td>0.491423</td>\n",
       "    </tr>\n",
       "    <tr>\n",
       "      <th>min</th>\n",
       "      <td>2.000000</td>\n",
       "      <td>0.000000</td>\n",
       "      <td>0.000000</td>\n",
       "      <td>0.000000</td>\n",
       "      <td>0.000000</td>\n",
       "      <td>0.000000</td>\n",
       "    </tr>\n",
       "    <tr>\n",
       "      <th>25%</th>\n",
       "      <td>24.000000</td>\n",
       "      <td>0.000000</td>\n",
       "      <td>0.000000</td>\n",
       "      <td>0.000000</td>\n",
       "      <td>0.000000</td>\n",
       "      <td>0.000000</td>\n",
       "    </tr>\n",
       "    <tr>\n",
       "      <th>50%</th>\n",
       "      <td>57.000000</td>\n",
       "      <td>0.000000</td>\n",
       "      <td>0.000000</td>\n",
       "      <td>0.000000</td>\n",
       "      <td>0.000000</td>\n",
       "      <td>1.000000</td>\n",
       "    </tr>\n",
       "    <tr>\n",
       "      <th>75%</th>\n",
       "      <td>156.000000</td>\n",
       "      <td>0.000000</td>\n",
       "      <td>0.000000</td>\n",
       "      <td>0.000000</td>\n",
       "      <td>0.000000</td>\n",
       "      <td>1.000000</td>\n",
       "    </tr>\n",
       "    <tr>\n",
       "      <th>max</th>\n",
       "      <td>510.000000</td>\n",
       "      <td>1.000000</td>\n",
       "      <td>1.000000</td>\n",
       "      <td>1.000000</td>\n",
       "      <td>1.000000</td>\n",
       "      <td>1.000000</td>\n",
       "    </tr>\n",
       "  </tbody>\n",
       "</table>\n",
       "</div>"
      ],
      "text/plain": [
       "       Review_word_counter       1 Star       2 Star       3 Star  \\\n",
       "count          3250.000000  3250.000000  3250.000000  3250.000000   \n",
       "mean            114.323385     0.111077     0.036615     0.069846   \n",
       "std             130.623937     0.314276     0.187844     0.254927   \n",
       "min               2.000000     0.000000     0.000000     0.000000   \n",
       "25%              24.000000     0.000000     0.000000     0.000000   \n",
       "50%              57.000000     0.000000     0.000000     0.000000   \n",
       "75%             156.000000     0.000000     0.000000     0.000000   \n",
       "max             510.000000     1.000000     1.000000     1.000000   \n",
       "\n",
       "            4 Star       5 Star  \n",
       "count  3250.000000  3250.000000  \n",
       "mean      0.189846     0.592615  \n",
       "std       0.392240     0.491423  \n",
       "min       0.000000     0.000000  \n",
       "25%       0.000000     0.000000  \n",
       "50%       0.000000     1.000000  \n",
       "75%       0.000000     1.000000  \n",
       "max       1.000000     1.000000  "
      ]
     },
     "execution_count": 25,
     "metadata": {},
     "output_type": "execute_result"
    }
   ],
   "source": [
    "#statistical analysis\n",
    "df.describe()"
   ]
  },
  {
   "cell_type": "markdown",
   "id": "1581eb87",
   "metadata": {},
   "source": [
    "#### Observations\n",
    " * For all the labels the minimum value is zero and maximum is 1. As there are only binary classes deviations cannot be studied"
   ]
  },
  {
   "cell_type": "code",
   "execution_count": 26,
   "id": "3a8d473f",
   "metadata": {},
   "outputs": [
    {
     "data": {
      "text/plain": [
       "Review_word_counter    1.673376\n",
       "1 Star                 2.476568\n",
       "2 Star                 4.936742\n",
       "3 Star                 3.376803\n",
       "4 Star                 1.582425\n",
       "5 Star                -0.377159\n",
       "dtype: float64"
      ]
     },
     "execution_count": 26,
     "metadata": {},
     "output_type": "execute_result"
    }
   ],
   "source": [
    "#checking the skewness\n",
    "df.skew()"
   ]
  },
  {
   "cell_type": "markdown",
   "id": "4dc29713",
   "metadata": {},
   "source": [
    "#### observations\n",
    "* The highest skewness is seen in 2 Star rating"
   ]
  },
  {
   "cell_type": "markdown",
   "id": "56ad0d86",
   "metadata": {},
   "source": [
    "# Visualizations"
   ]
  },
  {
   "cell_type": "code",
   "execution_count": 27,
   "id": "1e6c6189",
   "metadata": {},
   "outputs": [],
   "source": [
    "#import libraries required for visualizations\n",
    "import seaborn as sns\n",
    "import matplotlib.pyplot as plt\n",
    "import warnings\n",
    "warnings.filterwarnings(\"ignore\")"
   ]
  },
  {
   "cell_type": "code",
   "execution_count": 28,
   "id": "ab6a3367",
   "metadata": {},
   "outputs": [
    {
     "name": "stdout",
     "output_type": "stream",
     "text": [
      "average length of review: 114.3\n"
     ]
    },
    {
     "data": {
      "image/png": "[encoded data removed]",
      "text/plain": [
       "<Figure size 432x288 with 1 Axes>"
      ]
     },
     "metadata": {
      "needs_background": "light"
     },
     "output_type": "display_data"
    }
   ],
   "source": [
    "#plotting the average length of reviews\n",
    "review=df[\"Review\"]\n",
    "x = [len(review[i]) for i in range(review.shape[0])]\n",
    "\n",
    "print('average length of review: {:.1f}'.format(sum(x)/len(x)) )\n",
    "bins = [1,200,400,600,800,1000]\n",
    "plt.hist(x, bins=bins)\n",
    "plt.xlabel('Length of Review')\n",
    "plt.ylabel('Number of Review')       \n",
    "plt.grid(True)\n",
    "plt.show()"
   ]
  },
  {
   "cell_type": "markdown",
   "id": "be9389eb",
   "metadata": {},
   "source": [
    "#### Observations:\n",
    "* The average length of review is 114.\n",
    "* Maximum number of reviews had less than 200 words.\n",
    "* There were no reviews with more than 600 words.\n",
    "* Comments with 200 and above words were less."
   ]
  },
  {
   "cell_type": "code",
   "execution_count": 29,
   "id": "f109ccce",
   "metadata": {},
   "outputs": [
    {
     "data": {
      "image/png": "[encoded data removed]",
      "text/plain": [
       "<Figure size 1080x720 with 6 Axes>"
      ]
     },
     "metadata": {
      "needs_background": "light"
     },
     "output_type": "display_data"
    }
   ],
   "source": [
    "#let us plot countplot of each feature\n",
    "a = 3  # number of rows\n",
    "b = 3  # number of columns\n",
    "c = 1  # initialize plot counter\n",
    "\n",
    "fig = plt.figure(figsize=(15,10))\n",
    "for cols in df.columns:\n",
    "    if df[cols].dtypes=='int64':\n",
    "        plt.subplot(a, b, c)\n",
    "        plt.title('{}'.format(cols),weight='bold')\n",
    "        sns.countplot(df[cols],palette='nipy_spectral')\n",
    "        plt.xticks(rotation=360)\n",
    "        c = c + 1\n",
    "        plt.tight_layout()\n",
    "        plt.ylabel(\"Count\")\n",
    "plt.show()"
   ]
  },
  {
   "cell_type": "markdown",
   "id": "4395ba0c",
   "metadata": {},
   "source": [
    "#### Obseravtions:\n",
    "   * Around 50% of the review are rated 5 star.\n",
    "   * 2 star rated reviews are least in number"
   ]
  },
  {
   "cell_type": "code",
   "execution_count": 30,
   "id": "60c2ee55",
   "metadata": {},
   "outputs": [
    {
     "name": "stdout",
     "output_type": "stream",
     "text": [
      "['Heading', 'Review', 'Product', 'Review_word_counter', '1 Star', '2 Star', '3 Star', '4 Star', '5 Star']\n"
     ]
    }
   ],
   "source": [
    "print(list(df.columns.values))"
   ]
  },
  {
   "cell_type": "code",
   "execution_count": 31,
   "id": "b7693d3f",
   "metadata": {},
   "outputs": [
    {
     "name": "stdout",
     "output_type": "stream",
     "text": [
      "['1 Star', '2 Star', '3 Star', '4 Star', '5 Star']\n"
     ]
    }
   ],
   "source": [
    "#make a list of columns\n",
    "categories = list(df.columns.values)\n",
    "categories = categories[4:]\n",
    "print(categories)"
   ]
  },
  {
   "cell_type": "code",
   "execution_count": 32,
   "id": "1fd22831",
   "metadata": {},
   "outputs": [
    {
     "data": {
      "image/png": "[encoded data removed]",
      "text/plain": [
       "<Figure size 432x288 with 1 Axes>"
      ]
     },
     "metadata": {},
     "output_type": "display_data"
    }
   ],
   "source": [
    "#distribution plot of each type of review\n",
    "colors=['#cc99ff','#ff9999','#ffff33','#99ff33','#80ffdf'] \n",
    "df_distribution = df[categories].sum()\n",
    "\n",
    "df_distribution.plot.pie(y='count',autopct='%1.1f%%',colors=colors)\\\n",
    "                            .legend(loc='center left', bbox_to_anchor=(1.3, 0.5))\n",
    "plt.ylabel(\"\")\n",
    "plt.title(\"Distribution of Review for Smart Watch\",fontweight='bold')\n",
    "plt.tight_layout()\n",
    "plt.show()"
   ]
  },
  {
   "cell_type": "markdown",
   "id": "253c9abb",
   "metadata": {},
   "source": [
    "#### Observations:\n",
    "* 5 Star rating had the highest share of 59.3%, followed by 4 star with 19%.\n",
    "* 2 Star rating has least share with 3.7%"
   ]
  },
  {
   "cell_type": "code",
   "execution_count": 33,
   "id": "06f6e926",
   "metadata": {},
   "outputs": [
    {
     "data": {
      "image/png": "[encoded data removed]",
      "text/plain": [
       "<Figure size 1080x360 with 1 Axes>"
      ]
     },
     "metadata": {
      "needs_background": "light"
     },
     "output_type": "display_data"
    }
   ],
   "source": [
    "# Checking the count of the various types of reviews\n",
    "cols = ['1 Star', '2 Star', '3 Star', '4 Star', '5 Star']\n",
    "val_counts = df[cols].sum()\n",
    "\n",
    "plt.figure(figsize=(15,5))\n",
    "ax = sns.barplot(val_counts.index, val_counts.values)\n",
    "\n",
    "plt.title(\"Reviews per Classes\")\n",
    "plt.xlabel(\"Various Reviews Type\")\n",
    "plt.ylabel(\"Counts of the Reviews\")\n",
    "\n",
    "rects = ax.patches\n",
    "labels = val_counts.values\n",
    "for rect, label in zip(rects, labels):\n",
    "    height = rect.get_height()\n",
    "    ax.text(rect.get_x() + rect.get_width()/2, height+5, label, ha=\"center\", va=\"bottom\")\n",
    "\n",
    "\n",
    "plt.show()"
   ]
  },
  {
   "cell_type": "markdown",
   "id": "187608ad",
   "metadata": {},
   "source": [
    "#### Observations\n",
    "* There were 5334 5 Star rated reviews which are maximum. \n",
    "* 4 Star reviews were second highest with count of 2051\n",
    "* 2 Star ratings have the least count of only 278."
   ]
  },
  {
   "cell_type": "markdown",
   "id": "42743d6e",
   "metadata": {},
   "source": [
    "##  Data Pre-Processing"
   ]
  },
  {
   "cell_type": "code",
   "execution_count": 34,
   "id": "ab1d684b",
   "metadata": {},
   "outputs": [
    {
     "data": {
      "text/html": [
       "<div>\n",
       "<style scoped>\n",
       "    .dataframe tbody tr th:only-of-type {\n",
       "        vertical-align: middle;\n",
       "    }\n",
       "\n",
       "    .dataframe tbody tr th {\n",
       "        vertical-align: top;\n",
       "    }\n",
       "\n",
       "    .dataframe thead th {\n",
       "        text-align: right;\n",
       "    }\n",
       "</style>\n",
       "<table border=\"1\" class=\"dataframe\">\n",
       "  <thead>\n",
       "    <tr style=\"text-align: right;\">\n",
       "      <th></th>\n",
       "      <th>Heading</th>\n",
       "      <th>Review</th>\n",
       "      <th>Product</th>\n",
       "      <th>Review_word_counter</th>\n",
       "      <th>1 Star</th>\n",
       "      <th>2 Star</th>\n",
       "      <th>3 Star</th>\n",
       "      <th>4 Star</th>\n",
       "      <th>5 Star</th>\n",
       "    </tr>\n",
       "  </thead>\n",
       "  <tbody>\n",
       "    <tr>\n",
       "      <th>0</th>\n",
       "      <td>must buy!</td>\n",
       "      <td>it's soo good</td>\n",
       "      <td>Smart watch</td>\n",
       "      <td>13</td>\n",
       "      <td>0</td>\n",
       "      <td>0</td>\n",
       "      <td>0</td>\n",
       "      <td>0</td>\n",
       "      <td>1</td>\n",
       "    </tr>\n",
       "    <tr>\n",
       "      <th>1</th>\n",
       "      <td>useless product</td>\n",
       "      <td>overrated. third quality device. not any prope...</td>\n",
       "      <td>Smart watch</td>\n",
       "      <td>141</td>\n",
       "      <td>1</td>\n",
       "      <td>0</td>\n",
       "      <td>0</td>\n",
       "      <td>0</td>\n",
       "      <td>0</td>\n",
       "    </tr>\n",
       "    <tr>\n",
       "      <th>2</th>\n",
       "      <td>classy product</td>\n",
       "      <td>love it! looks great👍❣</td>\n",
       "      <td>Smart watch</td>\n",
       "      <td>22</td>\n",
       "      <td>0</td>\n",
       "      <td>0</td>\n",
       "      <td>0</td>\n",
       "      <td>0</td>\n",
       "      <td>1</td>\n",
       "    </tr>\n",
       "    <tr>\n",
       "      <th>3</th>\n",
       "      <td>good</td>\n",
       "      <td>battery charging comes only three days\\nbut re...</td>\n",
       "      <td>Smart watch</td>\n",
       "      <td>79</td>\n",
       "      <td>0</td>\n",
       "      <td>0</td>\n",
       "      <td>1</td>\n",
       "      <td>0</td>\n",
       "      <td>0</td>\n",
       "    </tr>\n",
       "    <tr>\n",
       "      <th>4</th>\n",
       "      <td>worth the money</td>\n",
       "      <td>workable at this price</td>\n",
       "      <td>Smart watch</td>\n",
       "      <td>22</td>\n",
       "      <td>0</td>\n",
       "      <td>0</td>\n",
       "      <td>0</td>\n",
       "      <td>1</td>\n",
       "      <td>0</td>\n",
       "    </tr>\n",
       "  </tbody>\n",
       "</table>\n",
       "</div>"
      ],
      "text/plain": [
       "           Heading                                             Review  \\\n",
       "0        must buy!                                      it's soo good   \n",
       "1  useless product  overrated. third quality device. not any prope...   \n",
       "2   classy product                             love it! looks great👍❣   \n",
       "3             good  battery charging comes only three days\\nbut re...   \n",
       "4  worth the money                             workable at this price   \n",
       "\n",
       "       Product  Review_word_counter  1 Star  2 Star  3 Star  4 Star  5 Star  \n",
       "0  Smart watch                   13       0       0       0       0       1  \n",
       "1  Smart watch                  141       1       0       0       0       0  \n",
       "2  Smart watch                   22       0       0       0       0       1  \n",
       "3  Smart watch                   79       0       0       1       0       0  \n",
       "4  Smart watch                   22       0       0       0       1       0  "
      ]
     },
     "execution_count": 34,
     "metadata": {},
     "output_type": "execute_result"
    }
   ],
   "source": [
    "#convert all text into lowercase \n",
    "df['Review'] = df['Review'].str.lower()\n",
    "df['Heading'] = df['Heading'].str.lower()\n",
    "#check if the text is lower cased\n",
    "df.head()"
   ]
  },
  {
   "cell_type": "code",
   "execution_count": 35,
   "id": "e781b040",
   "metadata": {},
   "outputs": [
    {
     "data": {
      "text/html": [
       "<div>\n",
       "<style scoped>\n",
       "    .dataframe tbody tr th:only-of-type {\n",
       "        vertical-align: middle;\n",
       "    }\n",
       "\n",
       "    .dataframe tbody tr th {\n",
       "        vertical-align: top;\n",
       "    }\n",
       "\n",
       "    .dataframe thead th {\n",
       "        text-align: right;\n",
       "    }\n",
       "</style>\n",
       "<table border=\"1\" class=\"dataframe\">\n",
       "  <thead>\n",
       "    <tr style=\"text-align: right;\">\n",
       "      <th></th>\n",
       "      <th>Heading</th>\n",
       "      <th>Review</th>\n",
       "      <th>Product</th>\n",
       "      <th>Review_word_counter</th>\n",
       "      <th>1 Star</th>\n",
       "      <th>2 Star</th>\n",
       "      <th>3 Star</th>\n",
       "      <th>4 Star</th>\n",
       "      <th>5 Star</th>\n",
       "    </tr>\n",
       "  </thead>\n",
       "  <tbody>\n",
       "    <tr>\n",
       "      <th>0</th>\n",
       "      <td>must buy!</td>\n",
       "      <td>it's soo good</td>\n",
       "      <td>Smart watch</td>\n",
       "      <td>13</td>\n",
       "      <td>0</td>\n",
       "      <td>0</td>\n",
       "      <td>0</td>\n",
       "      <td>0</td>\n",
       "      <td>1</td>\n",
       "    </tr>\n",
       "    <tr>\n",
       "      <th>1</th>\n",
       "      <td>useless product</td>\n",
       "      <td>overrated. third quality device. not any prope...</td>\n",
       "      <td>Smart watch</td>\n",
       "      <td>141</td>\n",
       "      <td>1</td>\n",
       "      <td>0</td>\n",
       "      <td>0</td>\n",
       "      <td>0</td>\n",
       "      <td>0</td>\n",
       "    </tr>\n",
       "    <tr>\n",
       "      <th>2</th>\n",
       "      <td>classy product</td>\n",
       "      <td>love it! looks great👍❣</td>\n",
       "      <td>Smart watch</td>\n",
       "      <td>22</td>\n",
       "      <td>0</td>\n",
       "      <td>0</td>\n",
       "      <td>0</td>\n",
       "      <td>0</td>\n",
       "      <td>1</td>\n",
       "    </tr>\n",
       "    <tr>\n",
       "      <th>3</th>\n",
       "      <td>good</td>\n",
       "      <td>battery charging comes only three days\\nbut re...</td>\n",
       "      <td>Smart watch</td>\n",
       "      <td>79</td>\n",
       "      <td>0</td>\n",
       "      <td>0</td>\n",
       "      <td>1</td>\n",
       "      <td>0</td>\n",
       "      <td>0</td>\n",
       "    </tr>\n",
       "    <tr>\n",
       "      <th>4</th>\n",
       "      <td>worth the money</td>\n",
       "      <td>workable at this price</td>\n",
       "      <td>Smart watch</td>\n",
       "      <td>22</td>\n",
       "      <td>0</td>\n",
       "      <td>0</td>\n",
       "      <td>0</td>\n",
       "      <td>1</td>\n",
       "      <td>0</td>\n",
       "    </tr>\n",
       "  </tbody>\n",
       "</table>\n",
       "</div>"
      ],
      "text/plain": [
       "           Heading                                             Review  \\\n",
       "0        must buy!                                      it's soo good   \n",
       "1  useless product  overrated. third quality device. not any prope...   \n",
       "2   classy product                             love it! looks great👍❣   \n",
       "3             good  battery charging comes only three days\\nbut re...   \n",
       "4  worth the money                             workable at this price   \n",
       "\n",
       "       Product  Review_word_counter  1 Star  2 Star  3 Star  4 Star  5 Star  \n",
       "0  Smart watch                   13       0       0       0       0       1  \n",
       "1  Smart watch                  141       1       0       0       0       0  \n",
       "2  Smart watch                   22       0       0       0       0       1  \n",
       "3  Smart watch                   79       0       0       1       0       0  \n",
       "4  Smart watch                   22       0       0       0       1       0  "
      ]
     },
     "execution_count": 35,
     "metadata": {},
     "output_type": "execute_result"
    }
   ],
   "source": [
    "#clean all html tags \n",
    "import re\n",
    "def cleanHtml(sentence):\n",
    "    cleanr = re.compile('<.*?>')\n",
    "    cleantext = re.sub(cleanr, ' ', str(sentence))\n",
    "    return cleantext\n",
    "#apply the function \n",
    "df['Review'] = df['Review'].apply(cleanHtml)\n",
    "df['Heading'] = df['Heading'].apply(cleanHtml)\n",
    "df.head()"
   ]
  },
  {
   "cell_type": "code",
   "execution_count": 36,
   "id": "8eb5996b",
   "metadata": {},
   "outputs": [
    {
     "data": {
      "text/html": [
       "<div>\n",
       "<style scoped>\n",
       "    .dataframe tbody tr th:only-of-type {\n",
       "        vertical-align: middle;\n",
       "    }\n",
       "\n",
       "    .dataframe tbody tr th {\n",
       "        vertical-align: top;\n",
       "    }\n",
       "\n",
       "    .dataframe thead th {\n",
       "        text-align: right;\n",
       "    }\n",
       "</style>\n",
       "<table border=\"1\" class=\"dataframe\">\n",
       "  <thead>\n",
       "    <tr style=\"text-align: right;\">\n",
       "      <th></th>\n",
       "      <th>Heading</th>\n",
       "      <th>Review</th>\n",
       "      <th>Product</th>\n",
       "      <th>Review_word_counter</th>\n",
       "      <th>1 Star</th>\n",
       "      <th>2 Star</th>\n",
       "      <th>3 Star</th>\n",
       "      <th>4 Star</th>\n",
       "      <th>5 Star</th>\n",
       "    </tr>\n",
       "  </thead>\n",
       "  <tbody>\n",
       "    <tr>\n",
       "      <th>0</th>\n",
       "      <td>must buy</td>\n",
       "      <td>its soo good</td>\n",
       "      <td>Smart watch</td>\n",
       "      <td>13</td>\n",
       "      <td>0</td>\n",
       "      <td>0</td>\n",
       "      <td>0</td>\n",
       "      <td>0</td>\n",
       "      <td>1</td>\n",
       "    </tr>\n",
       "    <tr>\n",
       "      <th>1</th>\n",
       "      <td>useless product</td>\n",
       "      <td>overrated  third quality device  not any prope...</td>\n",
       "      <td>Smart watch</td>\n",
       "      <td>141</td>\n",
       "      <td>1</td>\n",
       "      <td>0</td>\n",
       "      <td>0</td>\n",
       "      <td>0</td>\n",
       "      <td>0</td>\n",
       "    </tr>\n",
       "    <tr>\n",
       "      <th>2</th>\n",
       "      <td>classy product</td>\n",
       "      <td>love it looks great👍❣</td>\n",
       "      <td>Smart watch</td>\n",
       "      <td>22</td>\n",
       "      <td>0</td>\n",
       "      <td>0</td>\n",
       "      <td>0</td>\n",
       "      <td>0</td>\n",
       "      <td>1</td>\n",
       "    </tr>\n",
       "    <tr>\n",
       "      <th>3</th>\n",
       "      <td>good</td>\n",
       "      <td>battery charging comes only three days but rem...</td>\n",
       "      <td>Smart watch</td>\n",
       "      <td>79</td>\n",
       "      <td>0</td>\n",
       "      <td>0</td>\n",
       "      <td>1</td>\n",
       "      <td>0</td>\n",
       "      <td>0</td>\n",
       "    </tr>\n",
       "    <tr>\n",
       "      <th>4</th>\n",
       "      <td>worth the money</td>\n",
       "      <td>workable at this price</td>\n",
       "      <td>Smart watch</td>\n",
       "      <td>22</td>\n",
       "      <td>0</td>\n",
       "      <td>0</td>\n",
       "      <td>0</td>\n",
       "      <td>1</td>\n",
       "      <td>0</td>\n",
       "    </tr>\n",
       "  </tbody>\n",
       "</table>\n",
       "</div>"
      ],
      "text/plain": [
       "           Heading                                             Review  \\\n",
       "0         must buy                                       its soo good   \n",
       "1  useless product  overrated  third quality device  not any prope...   \n",
       "2   classy product                              love it looks great👍❣   \n",
       "3             good  battery charging comes only three days but rem...   \n",
       "4  worth the money                             workable at this price   \n",
       "\n",
       "       Product  Review_word_counter  1 Star  2 Star  3 Star  4 Star  5 Star  \n",
       "0  Smart watch                   13       0       0       0       0       1  \n",
       "1  Smart watch                  141       1       0       0       0       0  \n",
       "2  Smart watch                   22       0       0       0       0       1  \n",
       "3  Smart watch                   79       0       0       1       0       0  \n",
       "4  Smart watch                   22       0       0       0       1       0  "
      ]
     },
     "execution_count": 36,
     "metadata": {},
     "output_type": "execute_result"
    }
   ],
   "source": [
    "#remove punctuations\n",
    "def cleanPunc(sentence): #function to clean the word of any punctuation or special characters\n",
    "    cleaned = re.sub(r'[?|!|\\'|\"|#]',r'',sentence)\n",
    "    cleaned = re.sub(r'[.|,|)|(|\\|/]',r' ',cleaned)\n",
    "    cleaned = cleaned.strip()\n",
    "    cleaned = cleaned.replace(\"\\n\",\" \")\n",
    "    return cleaned\n",
    "#call the function\n",
    "df['Review'] = df['Review'].apply(cleanPunc)\n",
    "df['Heading'] = df['Heading'].apply(cleanPunc)\n",
    "df.head()"
   ]
  },
  {
   "cell_type": "code",
   "execution_count": 37,
   "id": "0be87355",
   "metadata": {},
   "outputs": [
    {
     "data": {
      "text/html": [
       "<div>\n",
       "<style scoped>\n",
       "    .dataframe tbody tr th:only-of-type {\n",
       "        vertical-align: middle;\n",
       "    }\n",
       "\n",
       "    .dataframe tbody tr th {\n",
       "        vertical-align: top;\n",
       "    }\n",
       "\n",
       "    .dataframe thead th {\n",
       "        text-align: right;\n",
       "    }\n",
       "</style>\n",
       "<table border=\"1\" class=\"dataframe\">\n",
       "  <thead>\n",
       "    <tr style=\"text-align: right;\">\n",
       "      <th></th>\n",
       "      <th>Heading</th>\n",
       "      <th>Review</th>\n",
       "      <th>Product</th>\n",
       "      <th>Review_word_counter</th>\n",
       "      <th>1 Star</th>\n",
       "      <th>2 Star</th>\n",
       "      <th>3 Star</th>\n",
       "      <th>4 Star</th>\n",
       "      <th>5 Star</th>\n",
       "    </tr>\n",
       "  </thead>\n",
       "  <tbody>\n",
       "    <tr>\n",
       "      <th>0</th>\n",
       "      <td>must buy</td>\n",
       "      <td>its soo good</td>\n",
       "      <td>Smart watch</td>\n",
       "      <td>13</td>\n",
       "      <td>0</td>\n",
       "      <td>0</td>\n",
       "      <td>0</td>\n",
       "      <td>0</td>\n",
       "      <td>1</td>\n",
       "    </tr>\n",
       "    <tr>\n",
       "      <th>1</th>\n",
       "      <td>useless product</td>\n",
       "      <td>overrated third quality device not any proper ...</td>\n",
       "      <td>Smart watch</td>\n",
       "      <td>141</td>\n",
       "      <td>1</td>\n",
       "      <td>0</td>\n",
       "      <td>0</td>\n",
       "      <td>0</td>\n",
       "      <td>0</td>\n",
       "    </tr>\n",
       "    <tr>\n",
       "      <th>2</th>\n",
       "      <td>classy product</td>\n",
       "      <td>love it looks great</td>\n",
       "      <td>Smart watch</td>\n",
       "      <td>22</td>\n",
       "      <td>0</td>\n",
       "      <td>0</td>\n",
       "      <td>0</td>\n",
       "      <td>0</td>\n",
       "      <td>1</td>\n",
       "    </tr>\n",
       "    <tr>\n",
       "      <th>3</th>\n",
       "      <td>good</td>\n",
       "      <td>battery charging comes only three days but rem...</td>\n",
       "      <td>Smart watch</td>\n",
       "      <td>79</td>\n",
       "      <td>0</td>\n",
       "      <td>0</td>\n",
       "      <td>1</td>\n",
       "      <td>0</td>\n",
       "      <td>0</td>\n",
       "    </tr>\n",
       "    <tr>\n",
       "      <th>4</th>\n",
       "      <td>worth the money</td>\n",
       "      <td>workable at this price</td>\n",
       "      <td>Smart watch</td>\n",
       "      <td>22</td>\n",
       "      <td>0</td>\n",
       "      <td>0</td>\n",
       "      <td>0</td>\n",
       "      <td>1</td>\n",
       "      <td>0</td>\n",
       "    </tr>\n",
       "  </tbody>\n",
       "</table>\n",
       "</div>"
      ],
      "text/plain": [
       "           Heading                                             Review  \\\n",
       "0         must buy                                       its soo good   \n",
       "1  useless product  overrated third quality device not any proper ...   \n",
       "2   classy product                                love it looks great   \n",
       "3             good  battery charging comes only three days but rem...   \n",
       "4  worth the money                             workable at this price   \n",
       "\n",
       "       Product  Review_word_counter  1 Star  2 Star  3 Star  4 Star  5 Star  \n",
       "0  Smart watch                   13       0       0       0       0       1  \n",
       "1  Smart watch                  141       1       0       0       0       0  \n",
       "2  Smart watch                   22       0       0       0       0       1  \n",
       "3  Smart watch                   79       0       0       1       0       0  \n",
       "4  Smart watch                   22       0       0       0       1       0  "
      ]
     },
     "execution_count": 37,
     "metadata": {},
     "output_type": "execute_result"
    }
   ],
   "source": [
    "# any alphabets from small a to small z or capital A to capital Z.\n",
    "#The plus sign specifies that string should have at least one character.\n",
    "def keepAlpha(sentence):\n",
    "    alpha_sent = \"\"\n",
    "    for word in sentence.split():\n",
    "        alpha_word = re.sub('[^a-z A-Z]+', ' ', word)\n",
    "        alpha_sent += alpha_word\n",
    "        alpha_sent += \" \"\n",
    "    alpha_sent = alpha_sent.strip()\n",
    "    return alpha_sent\n",
    "#apply the function\n",
    "df['Review'] = df['Review'].apply(keepAlpha)\n",
    "df['Heading'] = df['Heading'].apply(keepAlpha)\n",
    "df.head()"
   ]
  },
  {
   "cell_type": "code",
   "execution_count": 38,
   "id": "982b040b",
   "metadata": {},
   "outputs": [],
   "source": [
    "#import libraries for stemming and stopwords removal\n",
    "from nltk.corpus import stopwords\n",
    "from nltk.stem.snowball import SnowballStemmer\n",
    "import re"
   ]
  },
  {
   "cell_type": "code",
   "execution_count": 39,
   "id": "13ea0aa8",
   "metadata": {},
   "outputs": [
    {
     "data": {
      "text/html": [
       "<div>\n",
       "<style scoped>\n",
       "    .dataframe tbody tr th:only-of-type {\n",
       "        vertical-align: middle;\n",
       "    }\n",
       "\n",
       "    .dataframe tbody tr th {\n",
       "        vertical-align: top;\n",
       "    }\n",
       "\n",
       "    .dataframe thead th {\n",
       "        text-align: right;\n",
       "    }\n",
       "</style>\n",
       "<table border=\"1\" class=\"dataframe\">\n",
       "  <thead>\n",
       "    <tr style=\"text-align: right;\">\n",
       "      <th></th>\n",
       "      <th>Heading</th>\n",
       "      <th>Review</th>\n",
       "      <th>Product</th>\n",
       "      <th>Review_word_counter</th>\n",
       "      <th>1 Star</th>\n",
       "      <th>2 Star</th>\n",
       "      <th>3 Star</th>\n",
       "      <th>4 Star</th>\n",
       "      <th>5 Star</th>\n",
       "    </tr>\n",
       "  </thead>\n",
       "  <tbody>\n",
       "    <tr>\n",
       "      <th>0</th>\n",
       "      <td>must buy</td>\n",
       "      <td>soo good</td>\n",
       "      <td>Smart watch</td>\n",
       "      <td>13</td>\n",
       "      <td>0</td>\n",
       "      <td>0</td>\n",
       "      <td>0</td>\n",
       "      <td>0</td>\n",
       "      <td>1</td>\n",
       "    </tr>\n",
       "    <tr>\n",
       "      <th>1</th>\n",
       "      <td>useless product</td>\n",
       "      <td>overrated third quality device   proper functi...</td>\n",
       "      <td>Smart watch</td>\n",
       "      <td>141</td>\n",
       "      <td>1</td>\n",
       "      <td>0</td>\n",
       "      <td>0</td>\n",
       "      <td>0</td>\n",
       "      <td>0</td>\n",
       "    </tr>\n",
       "    <tr>\n",
       "      <th>2</th>\n",
       "      <td>classy product</td>\n",
       "      <td>love  looks great</td>\n",
       "      <td>Smart watch</td>\n",
       "      <td>22</td>\n",
       "      <td>0</td>\n",
       "      <td>0</td>\n",
       "      <td>0</td>\n",
       "      <td>0</td>\n",
       "      <td>1</td>\n",
       "    </tr>\n",
       "    <tr>\n",
       "      <th>3</th>\n",
       "      <td>good</td>\n",
       "      <td>battery charging comes  three days  remaining ...</td>\n",
       "      <td>Smart watch</td>\n",
       "      <td>79</td>\n",
       "      <td>0</td>\n",
       "      <td>0</td>\n",
       "      <td>1</td>\n",
       "      <td>0</td>\n",
       "      <td>0</td>\n",
       "    </tr>\n",
       "    <tr>\n",
       "      <th>4</th>\n",
       "      <td>worth  money</td>\n",
       "      <td>workable   price</td>\n",
       "      <td>Smart watch</td>\n",
       "      <td>22</td>\n",
       "      <td>0</td>\n",
       "      <td>0</td>\n",
       "      <td>0</td>\n",
       "      <td>1</td>\n",
       "      <td>0</td>\n",
       "    </tr>\n",
       "  </tbody>\n",
       "</table>\n",
       "</div>"
      ],
      "text/plain": [
       "           Heading                                             Review  \\\n",
       "0         must buy                                           soo good   \n",
       "1  useless product  overrated third quality device   proper functi...   \n",
       "2   classy product                                  love  looks great   \n",
       "3             good  battery charging comes  three days  remaining ...   \n",
       "4     worth  money                                   workable   price   \n",
       "\n",
       "       Product  Review_word_counter  1 Star  2 Star  3 Star  4 Star  5 Star  \n",
       "0  Smart watch                   13       0       0       0       0       1  \n",
       "1  Smart watch                  141       1       0       0       0       0  \n",
       "2  Smart watch                   22       0       0       0       0       1  \n",
       "3  Smart watch                   79       0       0       1       0       0  \n",
       "4  Smart watch                   22       0       0       0       1       0  "
      ]
     },
     "execution_count": 39,
     "metadata": {},
     "output_type": "execute_result"
    }
   ],
   "source": [
    "#removing stopwords\n",
    "stop_words = set(stopwords.words('english'))\n",
    "re_stop_words = re.compile(r\"\\b(\" + \"|\".join(stop_words) + \")\\\\W\", re.I)\n",
    "def removeStopWords(sentence):\n",
    "    global re_stop_words\n",
    "    return re_stop_words.sub(\" \", sentence)\n",
    "#apply the remove_stopwords function\n",
    "df['Review'] = df['Review'].apply(removeStopWords)\n",
    "df['Heading'] = df['Heading'].apply(removeStopWords)\n",
    "df.head()"
   ]
  },
  {
   "cell_type": "code",
   "execution_count": 40,
   "id": "31e03020",
   "metadata": {},
   "outputs": [
    {
     "data": {
      "text/html": [
       "<div>\n",
       "<style scoped>\n",
       "    .dataframe tbody tr th:only-of-type {\n",
       "        vertical-align: middle;\n",
       "    }\n",
       "\n",
       "    .dataframe tbody tr th {\n",
       "        vertical-align: top;\n",
       "    }\n",
       "\n",
       "    .dataframe thead th {\n",
       "        text-align: right;\n",
       "    }\n",
       "</style>\n",
       "<table border=\"1\" class=\"dataframe\">\n",
       "  <thead>\n",
       "    <tr style=\"text-align: right;\">\n",
       "      <th></th>\n",
       "      <th>Heading</th>\n",
       "      <th>Review</th>\n",
       "      <th>Product</th>\n",
       "      <th>Review_word_counter</th>\n",
       "      <th>1 Star</th>\n",
       "      <th>2 Star</th>\n",
       "      <th>3 Star</th>\n",
       "      <th>4 Star</th>\n",
       "      <th>5 Star</th>\n",
       "    </tr>\n",
       "  </thead>\n",
       "  <tbody>\n",
       "    <tr>\n",
       "      <th>0</th>\n",
       "      <td>must buy</td>\n",
       "      <td>soo good</td>\n",
       "      <td>Smart watch</td>\n",
       "      <td>13</td>\n",
       "      <td>0</td>\n",
       "      <td>0</td>\n",
       "      <td>0</td>\n",
       "      <td>0</td>\n",
       "      <td>1</td>\n",
       "    </tr>\n",
       "    <tr>\n",
       "      <th>1</th>\n",
       "      <td>useless product</td>\n",
       "      <td>overr third qualiti devic proper function work...</td>\n",
       "      <td>Smart watch</td>\n",
       "      <td>141</td>\n",
       "      <td>1</td>\n",
       "      <td>0</td>\n",
       "      <td>0</td>\n",
       "      <td>0</td>\n",
       "      <td>0</td>\n",
       "    </tr>\n",
       "    <tr>\n",
       "      <th>2</th>\n",
       "      <td>classi product</td>\n",
       "      <td>love look great</td>\n",
       "      <td>Smart watch</td>\n",
       "      <td>22</td>\n",
       "      <td>0</td>\n",
       "      <td>0</td>\n",
       "      <td>0</td>\n",
       "      <td>0</td>\n",
       "      <td>1</td>\n",
       "    </tr>\n",
       "    <tr>\n",
       "      <th>3</th>\n",
       "      <td>good</td>\n",
       "      <td>batteri charg come three day remain ohk satisf...</td>\n",
       "      <td>Smart watch</td>\n",
       "      <td>79</td>\n",
       "      <td>0</td>\n",
       "      <td>0</td>\n",
       "      <td>1</td>\n",
       "      <td>0</td>\n",
       "      <td>0</td>\n",
       "    </tr>\n",
       "    <tr>\n",
       "      <th>4</th>\n",
       "      <td>worth money</td>\n",
       "      <td>workabl price</td>\n",
       "      <td>Smart watch</td>\n",
       "      <td>22</td>\n",
       "      <td>0</td>\n",
       "      <td>0</td>\n",
       "      <td>0</td>\n",
       "      <td>1</td>\n",
       "      <td>0</td>\n",
       "    </tr>\n",
       "  </tbody>\n",
       "</table>\n",
       "</div>"
      ],
      "text/plain": [
       "           Heading                                             Review  \\\n",
       "0         must buy                                           soo good   \n",
       "1  useless product  overr third qualiti devic proper function work...   \n",
       "2   classi product                                    love look great   \n",
       "3             good  batteri charg come three day remain ohk satisf...   \n",
       "4      worth money                                      workabl price   \n",
       "\n",
       "       Product  Review_word_counter  1 Star  2 Star  3 Star  4 Star  5 Star  \n",
       "0  Smart watch                   13       0       0       0       0       1  \n",
       "1  Smart watch                  141       1       0       0       0       0  \n",
       "2  Smart watch                   22       0       0       0       0       1  \n",
       "3  Smart watch                   79       0       0       1       0       0  \n",
       "4  Smart watch                   22       0       0       0       1       0  "
      ]
     },
     "execution_count": 40,
     "metadata": {},
     "output_type": "execute_result"
    }
   ],
   "source": [
    "#stemming\n",
    "stemmer = SnowballStemmer(\"english\")\n",
    "def stemming(sentence):\n",
    "    stemSentence = \"\"\n",
    "    for word in sentence.split():\n",
    "        stem = stemmer.stem(word)\n",
    "        stemSentence += stem\n",
    "        stemSentence += \" \"\n",
    "    stemSentence = stemSentence.strip()\n",
    "    return stemSentence\n",
    "\n",
    "df['Review'] = df['Review'].apply(stemming)\n",
    "df['Heading'] = df['Heading'].apply(stemming)\n",
    "df.head()"
   ]
  },
  {
   "cell_type": "code",
   "execution_count": 41,
   "id": "aedd8568",
   "metadata": {},
   "outputs": [
    {
     "data": {
      "text/html": [
       "<div>\n",
       "<style scoped>\n",
       "    .dataframe tbody tr th:only-of-type {\n",
       "        vertical-align: middle;\n",
       "    }\n",
       "\n",
       "    .dataframe tbody tr th {\n",
       "        vertical-align: top;\n",
       "    }\n",
       "\n",
       "    .dataframe thead th {\n",
       "        text-align: right;\n",
       "    }\n",
       "</style>\n",
       "<table border=\"1\" class=\"dataframe\">\n",
       "  <thead>\n",
       "    <tr style=\"text-align: right;\">\n",
       "      <th></th>\n",
       "      <th>Heading</th>\n",
       "      <th>Review</th>\n",
       "      <th>Product</th>\n",
       "      <th>Review_word_counter</th>\n",
       "      <th>1 Star</th>\n",
       "      <th>2 Star</th>\n",
       "      <th>3 Star</th>\n",
       "      <th>4 Star</th>\n",
       "      <th>5 Star</th>\n",
       "    </tr>\n",
       "  </thead>\n",
       "  <tbody>\n",
       "    <tr>\n",
       "      <th>0</th>\n",
       "      <td>must buy</td>\n",
       "      <td>soo good</td>\n",
       "      <td>Smart watch</td>\n",
       "      <td>13</td>\n",
       "      <td>0</td>\n",
       "      <td>0</td>\n",
       "      <td>0</td>\n",
       "      <td>0</td>\n",
       "      <td>1</td>\n",
       "    </tr>\n",
       "    <tr>\n",
       "      <th>1</th>\n",
       "      <td>useless product</td>\n",
       "      <td>overr third qualiti devic proper function work...</td>\n",
       "      <td>Smart watch</td>\n",
       "      <td>141</td>\n",
       "      <td>1</td>\n",
       "      <td>0</td>\n",
       "      <td>0</td>\n",
       "      <td>0</td>\n",
       "      <td>0</td>\n",
       "    </tr>\n",
       "    <tr>\n",
       "      <th>2</th>\n",
       "      <td>classi product</td>\n",
       "      <td>love look great</td>\n",
       "      <td>Smart watch</td>\n",
       "      <td>22</td>\n",
       "      <td>0</td>\n",
       "      <td>0</td>\n",
       "      <td>0</td>\n",
       "      <td>0</td>\n",
       "      <td>1</td>\n",
       "    </tr>\n",
       "    <tr>\n",
       "      <th>3</th>\n",
       "      <td>good</td>\n",
       "      <td>batteri charg come three day remain ohk satisf...</td>\n",
       "      <td>Smart watch</td>\n",
       "      <td>79</td>\n",
       "      <td>0</td>\n",
       "      <td>0</td>\n",
       "      <td>1</td>\n",
       "      <td>0</td>\n",
       "      <td>0</td>\n",
       "    </tr>\n",
       "    <tr>\n",
       "      <th>4</th>\n",
       "      <td>worth money</td>\n",
       "      <td>workabl price</td>\n",
       "      <td>Smart watch</td>\n",
       "      <td>22</td>\n",
       "      <td>0</td>\n",
       "      <td>0</td>\n",
       "      <td>0</td>\n",
       "      <td>1</td>\n",
       "      <td>0</td>\n",
       "    </tr>\n",
       "  </tbody>\n",
       "</table>\n",
       "</div>"
      ],
      "text/plain": [
       "           Heading                                             Review  \\\n",
       "0         must buy                                           soo good   \n",
       "1  useless product  overr third qualiti devic proper function work...   \n",
       "2   classi product                                    love look great   \n",
       "3             good  batteri charg come three day remain ohk satisf...   \n",
       "4      worth money                                      workabl price   \n",
       "\n",
       "       Product  Review_word_counter  1 Star  2 Star  3 Star  4 Star  5 Star  \n",
       "0  Smart watch                   13       0       0       0       0       1  \n",
       "1  Smart watch                  141       1       0       0       0       0  \n",
       "2  Smart watch                   22       0       0       0       0       1  \n",
       "3  Smart watch                   79       0       0       1       0       0  \n",
       "4  Smart watch                   22       0       0       0       1       0  "
      ]
     },
     "execution_count": 41,
     "metadata": {},
     "output_type": "execute_result"
    }
   ],
   "source": [
    "import emoji\n",
    "def emoji_remover(text):\n",
    "    allchars = [str for str in text]\n",
    "    emoji_list = [c for c in allchars if c in emoji.UNICODE_EMOJI]\n",
    "    clean_text = ' '.join([str for str in text.split() if not any(i in str for i in emoji_list)])\n",
    "    return clean_text\n",
    "\n",
    "df['Review'] = df['Review'].apply(emoji_remover)\n",
    "df['Heading'] = df['Heading'].apply(emoji_remover)\n",
    "df.head()"
   ]
  },
  {
   "cell_type": "markdown",
   "id": "f965cc43",
   "metadata": {},
   "source": [
    "Modelling will be done on heading of reviews as well as on actual review. But there are duplicate values in the heading. Thus we will use only unique heading for model development"
   ]
  },
  {
   "cell_type": "markdown",
   "id": "00f94d3b",
   "metadata": {},
   "source": [
    "# Modelling on Heading of Reviews"
   ]
  },
  {
   "cell_type": "code",
   "execution_count": 42,
   "id": "05f0e07b",
   "metadata": {},
   "outputs": [
    {
     "data": {
      "text/plain": [
       "(75, 9)"
      ]
     },
     "execution_count": 42,
     "metadata": {},
     "output_type": "execute_result"
    }
   ],
   "source": [
    "df_heading = df.drop_duplicates(subset='Heading')\n",
    "df_heading.shape"
   ]
  },
  {
   "cell_type": "code",
   "execution_count": 43,
   "id": "708f6746",
   "metadata": {},
   "outputs": [],
   "source": [
    "df_heading = shuffle(df_heading)\n",
    "df_heading.reset_index(drop=True,inplace=True)"
   ]
  },
  {
   "cell_type": "code",
   "execution_count": 44,
   "id": "0902ad59",
   "metadata": {},
   "outputs": [
    {
     "data": {
      "text/html": [
       "<div>\n",
       "<style scoped>\n",
       "    .dataframe tbody tr th:only-of-type {\n",
       "        vertical-align: middle;\n",
       "    }\n",
       "\n",
       "    .dataframe tbody tr th {\n",
       "        vertical-align: top;\n",
       "    }\n",
       "\n",
       "    .dataframe thead th {\n",
       "        text-align: right;\n",
       "    }\n",
       "</style>\n",
       "<table border=\"1\" class=\"dataframe\">\n",
       "  <thead>\n",
       "    <tr style=\"text-align: right;\">\n",
       "      <th></th>\n",
       "      <th>Heading</th>\n",
       "      <th>Review</th>\n",
       "      <th>Product</th>\n",
       "      <th>Review_word_counter</th>\n",
       "      <th>1 Star</th>\n",
       "      <th>2 Star</th>\n",
       "      <th>3 Star</th>\n",
       "      <th>4 Star</th>\n",
       "      <th>5 Star</th>\n",
       "    </tr>\n",
       "  </thead>\n",
       "  <tbody>\n",
       "    <tr>\n",
       "      <th>0</th>\n",
       "      <td>hate it</td>\n",
       "      <td>dont buy</td>\n",
       "      <td>Smart watch</td>\n",
       "      <td>8</td>\n",
       "      <td>1</td>\n",
       "      <td>0</td>\n",
       "      <td>0</td>\n",
       "      <td>0</td>\n",
       "      <td>0</td>\n",
       "    </tr>\n",
       "    <tr>\n",
       "      <th>1</th>\n",
       "      <td>useless product</td>\n",
       "      <td>overr third qualiti devic proper function work...</td>\n",
       "      <td>Smart watch</td>\n",
       "      <td>141</td>\n",
       "      <td>1</td>\n",
       "      <td>0</td>\n",
       "      <td>0</td>\n",
       "      <td>0</td>\n",
       "      <td>0</td>\n",
       "    </tr>\n",
       "    <tr>\n",
       "      <th>2</th>\n",
       "      <td>go it</td>\n",
       "      <td>clean ui good accuraci level premium built qua...</td>\n",
       "      <td>Smart watch</td>\n",
       "      <td>224</td>\n",
       "      <td>0</td>\n",
       "      <td>0</td>\n",
       "      <td>0</td>\n",
       "      <td>0</td>\n",
       "      <td>1</td>\n",
       "    </tr>\n",
       "    <tr>\n",
       "      <th>3</th>\n",
       "      <td>smart afteral</td>\n",
       "      <td>dream gadget want turn nightmar dont know whet...</td>\n",
       "      <td>Smart watch</td>\n",
       "      <td>510</td>\n",
       "      <td>0</td>\n",
       "      <td>0</td>\n",
       "      <td>1</td>\n",
       "      <td>0</td>\n",
       "      <td>0</td>\n",
       "    </tr>\n",
       "    <tr>\n",
       "      <th>4</th>\n",
       "      <td>good watch budget</td>\n",
       "      <td>use mani smart watch ninja good one gud see ma...</td>\n",
       "      <td>Smart watch</td>\n",
       "      <td>213</td>\n",
       "      <td>0</td>\n",
       "      <td>0</td>\n",
       "      <td>0</td>\n",
       "      <td>0</td>\n",
       "      <td>1</td>\n",
       "    </tr>\n",
       "  </tbody>\n",
       "</table>\n",
       "</div>"
      ],
      "text/plain": [
       "             Heading                                             Review  \\\n",
       "0            hate it                                           dont buy   \n",
       "1    useless product  overr third qualiti devic proper function work...   \n",
       "2              go it  clean ui good accuraci level premium built qua...   \n",
       "3      smart afteral  dream gadget want turn nightmar dont know whet...   \n",
       "4  good watch budget  use mani smart watch ninja good one gud see ma...   \n",
       "\n",
       "       Product  Review_word_counter  1 Star  2 Star  3 Star  4 Star  5 Star  \n",
       "0  Smart watch                    8       1       0       0       0       0  \n",
       "1  Smart watch                  141       1       0       0       0       0  \n",
       "2  Smart watch                  224       0       0       0       0       1  \n",
       "3  Smart watch                  510       0       0       1       0       0  \n",
       "4  Smart watch                  213       0       0       0       0       1  "
      ]
     },
     "execution_count": 44,
     "metadata": {},
     "output_type": "execute_result"
    }
   ],
   "source": [
    "df_heading.head()"
   ]
  },
  {
   "cell_type": "code",
   "execution_count": 45,
   "id": "1a9a40f0",
   "metadata": {},
   "outputs": [],
   "source": [
    "# Separation of Labels and Features\n",
    "x = df_heading['Heading']\n",
    "y = df_heading[['1 Star','2 Star','3 Star','4 Star','5 Star']]"
   ]
  },
  {
   "cell_type": "code",
   "execution_count": 46,
   "id": "ee9f7043",
   "metadata": {},
   "outputs": [],
   "source": [
    "#transforming words to vectors\n",
    "#initiate tfid\n",
    "from sklearn.feature_extraction.text import TfidfVectorizer\n",
    "tf = TfidfVectorizer()\n",
    "#convert text into vectors\n",
    "x = tf.fit_transform(x)"
   ]
  },
  {
   "cell_type": "code",
   "execution_count": 47,
   "id": "9e451f73",
   "metadata": {},
   "outputs": [],
   "source": [
    "#splitting data into training and testing\n",
    "from sklearn.model_selection import train_test_split\n",
    "x_train, x_test, y_train, y_test = train_test_split(x, y, test_size=0.25, random_state=123)"
   ]
  },
  {
   "cell_type": "markdown",
   "id": "1b58660e",
   "metadata": {},
   "source": [
    "### Understanding few concepts before actual model building"
   ]
  },
  {
   "cell_type": "markdown",
   "id": "ade62a95",
   "metadata": {},
   "source": [
    "### Studying the evaluation metrics"
   ]
  },
  {
   "cell_type": "markdown",
   "id": "3cbb39a6",
   "metadata": {},
   "source": [
    "#### 1) Label ranking average precision (LRAP)\n",
    "It is the average over each ground truth label assigned to each sample, of the ratio of true vs. total labels with lower score.\n",
    "\n",
    "This metric is used in multilabel ranking problem, where the goal is to give better rank to the labels associated to each sample.\n",
    "\n",
    "* The obtained score is always strictly greater than 0 and the best value is 1."
   ]
  },
  {
   "cell_type": "markdown",
   "id": "13d485aa",
   "metadata": {},
   "source": [
    "#### 2) Ranking loss measure.\n",
    "\n",
    "Compute the average number of label pairs that are incorrectly ordered given y_score weighted by the size of the label set and the number of labels not in the label set.\n",
    "\n",
    "This is similar to the error set size, but weighted by the number of relevant and irrelevant labels.  The best performance is achieved with a ranking loss of zero."
   ]
  },
  {
   "cell_type": "markdown",
   "id": "2981109a",
   "metadata": {},
   "source": [
    "#### 3) Hamming loss\n",
    "it is important to note that unlikely accuracy in hamming loss the smaller the result is the better is the model. for an example if hamming loss, is 0.32 which means that if you are trying to predict the aspects of 100 sentences the model will predict incorrectly about 32% of the independent aspects.\n",
    "* hamming loss value ranges from 0 to 1. Lesser value of hamming loss indicates a better classifier."
   ]
  },
  {
   "cell_type": "markdown",
   "id": "9c17cc16",
   "metadata": {},
   "source": [
    "#### 4) Precision\n",
    "The precision is the ratio tp / (tp + fp) where tp is the number of true positives and fp the number of false positives. The precision is intuitively the ability of the classifier not to label as positive a sample that is negative.\n",
    "* The best value is 1 and the worst value is 0."
   ]
  },
  {
   "cell_type": "markdown",
   "id": "08a017eb",
   "metadata": {},
   "source": [
    "#### 5) Coverage error\n",
    "Coverage error measure.\n",
    "\n",
    "Compute how far we need to go through the ranked scores to cover all true labels. The best value is equal to the average number of labels in y_true per sample.\n",
    "* The best value of coverage is when it is equal to average number of true class labels."
   ]
  },
  {
   "cell_type": "markdown",
   "id": "8ba6db2b",
   "metadata": {},
   "source": [
    "#### 6) Log loss\n",
    "This is the loss function used in (multinomial) logistic regression and extensions of it such as neural networks, defined as the negative log-likelihood of a logistic model that returns y_pred probabilities for its training data y_true . The log loss is only defined for two or more labels.\n",
    "The bolder the probabilities, the better will be your Log Loss — closer to zero. It is a measure of uncertainty (you may call it entropy), so a low Log Loss means a low uncertainty/entropy of your model. "
   ]
  },
  {
   "cell_type": "markdown",
   "id": "39d56807",
   "metadata": {},
   "source": [
    "#### 7) Hamming loss\n",
    "The Hamming loss is the fraction of labels that are incorrectly predicted.\n",
    "hamming loss value ranges from 0 to 1. Lesser value of hamming loss indicates a better classifier."
   ]
  },
  {
   "cell_type": "markdown",
   "id": "82ac8608",
   "metadata": {},
   "source": [
    "#### 8)  Confusion matrix for multi-label\n",
    "In multilabel confusion matrix MCM, the count of true negatives is MCM(0,0) , false negatives is MCM(1,0), true positives is MCM(1,1)  and false positives is(0,1) .\n",
    "\n"
   ]
  },
  {
   "attachments": {
    "1_x7WPPEQqCJClqy7e3XxPOA.png": {
     "image/png": "[encoded data removed]"
    }
   },
   "cell_type": "markdown",
   "id": "7335094d",
   "metadata": {},
   "source": [
    "![1_x7WPPEQqCJClqy7e3XxPOA.png](attachment:1_x7WPPEQqCJClqy7e3XxPOA.png)"
   ]
  },
  {
   "cell_type": "code",
   "execution_count": 48,
   "id": "4702d989",
   "metadata": {},
   "outputs": [],
   "source": [
    "#importing libraries for evaluation\n",
    "from sklearn.metrics import hamming_loss,accuracy_score,log_loss,f1_score\n",
    "from sklearn.metrics import coverage_error,precision_score,label_ranking_average_precision_score\n",
    "from sklearn.metrics import roc_auc_score\n",
    "from sklearn.metrics import multilabel_confusion_matrix\n",
    "from sklearn.model_selection import cross_val_score"
   ]
  },
  {
   "cell_type": "markdown",
   "id": "cab660e7",
   "metadata": {},
   "source": [
    "# Building model based on Heading of review"
   ]
  },
  {
   "cell_type": "markdown",
   "id": "3e69b960",
   "metadata": {},
   "source": [
    "### 1) Power Transformation"
   ]
  },
  {
   "cell_type": "markdown",
   "id": "86d444f3",
   "metadata": {},
   "source": [
    "### 1.1 Binary relevance with GuassianNb as base classifier"
   ]
  },
  {
   "cell_type": "code",
   "execution_count": 49,
   "id": "ba54a99a",
   "metadata": {
    "scrolled": true
   },
   "outputs": [
    {
     "name": "stdout",
     "output_type": "stream",
     "text": [
      "Accuracy =  15.789473684210526\n",
      "Cross validation score= 17.333333333333336\n",
      "\n",
      "\n",
      "log loss= 9.900991076050097\n",
      "hamming loss= 0.4631578947368421\n",
      "\n",
      "\n",
      "f1 score= 0.3888888888888889\n",
      "average precision score= 0.2641509433962264\n",
      "AUC ROC score= 0.5187896825396825\n",
      "\n",
      "\n",
      "label ranking average precision score= 0.3894736842105264\n",
      "coverage area= 3.736842105263158\n",
      "\n",
      "\n"
     ]
    }
   ],
   "source": [
    "# using binary relevance\n",
    "from skmultilearn.problem_transform import BinaryRelevance\n",
    "from sklearn.naive_bayes import GaussianNB\n",
    "\n",
    "# initialize binary relevance multi-label classifier\n",
    "# with a gaussian naive bayes base classifier\n",
    "classifier1 = BinaryRelevance(GaussianNB())\n",
    "\n",
    "# train\n",
    "classifier1.fit(x_train, y_train)\n",
    "# predict\n",
    "predictions = classifier1.predict(x_test)\n",
    "\n",
    "# accuracy\n",
    "acc_br=accuracy_score(y_test,predictions)*100\n",
    "print(\"Accuracy = \",acc_br)\n",
    "#cross validation score\n",
    "cv_br=cross_val_score(classifier1,x,y,cv=3).mean()*100\n",
    "print(\"Cross validation score=\",cv_br)\n",
    "print(\"\\n\")\n",
    "\n",
    "#log loss\n",
    "loss_br=log_loss(y_test,predictions.toarray())\n",
    "print(\"log loss=\",loss_br)\n",
    "#hamming loss\n",
    "hamm_loss_br=hamming_loss(y_test,predictions)\n",
    "print(\"hamming loss=\",hamm_loss_br) \n",
    "print(\"\\n\")\n",
    "\n",
    "\n",
    "#f1 score\n",
    "f1_br=f1_score(y_test,predictions.toarray(),average='micro')\n",
    "print(\"f1 score=\",f1_br)\n",
    "#precision score micro averaged\n",
    "pre_br=precision_score(y_test,predictions.toarray(),average='micro')\n",
    "print(\"average precision score=\",pre_br)\n",
    "#auc roc curve\n",
    "auc_br=roc_auc_score(y_test,predictions.toarray())\n",
    "print(\"AUC ROC score=\",auc_br)\n",
    "print(\"\\n\")\n",
    "\n",
    "\n",
    "#label ranking \n",
    "lr_br=label_ranking_average_precision_score(y_test,predictions.toarray())\n",
    "print(\"label ranking average precision score=\",lr_br)\n",
    "#coverage error\n",
    "ce_br=coverage_error(y_test,predictions.toarray())\n",
    "print(\"coverage area=\",ce_br)\n",
    "print(\"\\n\")"
   ]
  },
  {
   "cell_type": "code",
   "execution_count": 50,
   "id": "697b7e51",
   "metadata": {},
   "outputs": [
    {
     "data": {
      "text/plain": [
       "array([[[10,  4],\n",
       "        [ 1,  4]],\n",
       "\n",
       "       [[11,  7],\n",
       "        [ 1,  0]],\n",
       "\n",
       "       [[ 7,  9],\n",
       "        [ 2,  1]],\n",
       "\n",
       "       [[ 6, 10],\n",
       "        [ 1,  2]],\n",
       "\n",
       "       [[ 3,  9],\n",
       "        [ 0,  7]]])"
      ]
     },
     "execution_count": 50,
     "metadata": {},
     "output_type": "execute_result"
    }
   ],
   "source": [
    "#confusion matrix for binary relevance\n",
    "conf_mat1=multilabel_confusion_matrix(y_test,predictions)\n",
    "conf_mat1"
   ]
  },
  {
   "cell_type": "code",
   "execution_count": 51,
   "id": "fa55a23e",
   "metadata": {},
   "outputs": [
    {
     "data": {
      "image/png": "[encoded data removed]",
      "text/plain": [
       "<Figure size 1080x504 with 10 Axes>"
      ]
     },
     "metadata": {
      "needs_background": "light"
     },
     "output_type": "display_data"
    }
   ],
   "source": [
    "#plotting heatmap of confusion matrix\n",
    "a = 2  # number of rows\n",
    "b = 3  # number of columns\n",
    "c = 1  # initialize plot counter\n",
    "fig = plt.figure(figsize=(15,7))\n",
    "for i in range(0,5):\n",
    "    plt.subplot(a, b, c)\n",
    "    plt.title('{}'.format(i+1),weight='bold')\n",
    "    sns.heatmap(conf_mat1[i],annot=True,cmap='plasma',fmt=\"0.2f\",linewidths=3,linecolor='black')\n",
    "    c = c + 1\n",
    "    plt.tight_layout()\n",
    "plt.show()"
   ]
  },
  {
   "cell_type": "markdown",
   "id": "bca7b51c",
   "metadata": {},
   "source": [
    "### 1.2 Label powerset"
   ]
  },
  {
   "cell_type": "code",
   "execution_count": 52,
   "id": "0d12b9ba",
   "metadata": {},
   "outputs": [
    {
     "name": "stdout",
     "output_type": "stream",
     "text": [
      "Accuracy =  26.31578947368421\n",
      "Cross validation score= 24.0\n",
      "\n",
      "\n",
      "log loss= 25.44962471203946\n",
      "hamming loss= 0.29473684210526313\n",
      "\n",
      "\n",
      "AUC ROC score= 0.5248015873015873\n",
      "f1 score= 0.2631578947368421\n",
      "average precision score= 0.2631578947368421\n",
      "\n",
      "\n",
      "coverage area= 3.9473684210526314\n",
      "label ranking average precision score= 0.4105263157894738\n"
     ]
    }
   ],
   "source": [
    "#create and fit classifier\n",
    "from skmultilearn.problem_transform import LabelPowerset\n",
    "from sklearn.naive_bayes import GaussianNB\n",
    "\n",
    "# initialize Label Powerset multi-label classifier\n",
    "# with a gaussian naive bayes base classifier\n",
    "classifier2 = LabelPowerset(GaussianNB())\n",
    "classifier2.fit(x_train, y_train)\n",
    "#predictions\n",
    "predictions = classifier2.predict(x_test)\n",
    "\n",
    "# accuracy\n",
    "acc_lps=accuracy_score(y_test,predictions)*100\n",
    "print(\"Accuracy = \",acc_lps)\n",
    "#cross validation score\n",
    "cv_lps=cross_val_score(classifier2,x,y,cv=3).mean()*100\n",
    "print(\"Cross validation score=\",cv_lps)\n",
    "print(\"\\n\")\n",
    "\n",
    "#log loss\n",
    "loss_lps=log_loss(y_test,predictions.toarray())\n",
    "print(\"log loss=\",loss_lps)\n",
    "#hamming loss\n",
    "hamm_loss_lps=hamming_loss(y_test,predictions)\n",
    "print(\"hamming loss=\",hamm_loss_lps)\n",
    "print(\"\\n\")\n",
    "\n",
    "#auc roc score\n",
    "auc_lps=roc_auc_score(y_test,predictions.toarray())\n",
    "print(\"AUC ROC score=\",auc_lps)\n",
    "#f1 score\n",
    "f1_lps=f1_score(y_test,predictions.toarray(),average='micro')\n",
    "print(\"f1 score=\",f1_lps)\n",
    "#precision score micro averaged\n",
    "pre_lps=precision_score(y_test,predictions.toarray(),average='micro')\n",
    "print(\"average precision score=\",pre_lps)\n",
    "print(\"\\n\")\n",
    "\n",
    "#coverage error\n",
    "ce_lps=coverage_error(y_test,predictions.toarray())\n",
    "print(\"coverage area=\",ce_lps)\n",
    "#label ranking \n",
    "lr_lps=label_ranking_average_precision_score(y_test,predictions.toarray())\n",
    "print(\"label ranking average precision score=\",lr_lps)"
   ]
  },
  {
   "cell_type": "code",
   "execution_count": 53,
   "id": "b6b0a723",
   "metadata": {},
   "outputs": [
    {
     "data": {
      "text/plain": [
       "array([[[14,  0],\n",
       "        [ 5,  0]],\n",
       "\n",
       "       [[11,  7],\n",
       "        [ 1,  0]],\n",
       "\n",
       "       [[14,  2],\n",
       "        [ 2,  1]],\n",
       "\n",
       "       [[12,  4],\n",
       "        [ 2,  1]],\n",
       "\n",
       "       [[11,  1],\n",
       "        [ 4,  3]]])"
      ]
     },
     "execution_count": 53,
     "metadata": {},
     "output_type": "execute_result"
    }
   ],
   "source": [
    "#confusion matrix for label powerset\n",
    "conf_mat2=multilabel_confusion_matrix(y_test,predictions)\n",
    "conf_mat2"
   ]
  },
  {
   "cell_type": "code",
   "execution_count": 54,
   "id": "048c3aee",
   "metadata": {},
   "outputs": [
    {
     "data": {
      "image/png": "[encoded data removed]",
      "text/plain": [
       "<Figure size 1080x504 with 10 Axes>"
      ]
     },
     "metadata": {
      "needs_background": "light"
     },
     "output_type": "display_data"
    }
   ],
   "source": [
    "#plotting heatmap of confusion matrix\n",
    "a = 2  # number of rows\n",
    "b = 3  # number of columns\n",
    "c = 1  # initialize plot counter\n",
    "fig = plt.figure(figsize=(15,7))\n",
    "for i in range(0,5): \n",
    "    plt.subplot(a, b, c)\n",
    "    plt.title('{}'.format(i+1),weight='bold')\n",
    "    sns.heatmap(conf_mat2[i],annot=True,cmap='plasma',fmt=\"0.2f\",linewidths=3,linecolor='black')\n",
    "    c = c + 1\n",
    "    plt.tight_layout()\n",
    "plt.show()"
   ]
  },
  {
   "cell_type": "markdown",
   "id": "8b91495b",
   "metadata": {},
   "source": [
    "### 2 ) Classifier chain with MultinomialNB classifier (ensemble)"
   ]
  },
  {
   "cell_type": "code",
   "execution_count": 55,
   "id": "47bf7aab",
   "metadata": {},
   "outputs": [
    {
     "name": "stdout",
     "output_type": "stream",
     "text": [
      "Accuracy =  31.57894736842105\n",
      "Cross validation score= 24.000000000000004\n",
      "\n",
      "\n",
      "log loss= 9.76680975126454\n",
      "hamming loss= 0.18947368421052632\n",
      "\n",
      "\n",
      "AUC ROC score= 0.5440476190476191\n",
      "f1 score= 0.39999999999999997\n",
      "average precision score= 0.5454545454545454\n",
      "\n",
      "\n",
      "coverage area= 3.736842105263158\n",
      "label ranking average precision score= 0.4526315789473685\n"
     ]
    }
   ],
   "source": [
    "#create and fit classifier\n",
    "from sklearn.naive_bayes import MultinomialNB\n",
    "from skmultilearn.problem_transform import ClassifierChain\n",
    "classifier3 = ClassifierChain(MultinomialNB())\n",
    "classifier3.fit(x_train, y_train)\n",
    "\n",
    "#predictions\n",
    "predictions = classifier3.predict(x_test)\n",
    "# accuracy\n",
    "acc_cc=accuracy_score(y_test,predictions)*100\n",
    "print(\"Accuracy = \",acc_cc)\n",
    "#cross validation score\n",
    "cv_cc=cross_val_score(classifier3,x,y,cv=3).mean()*100\n",
    "print(\"Cross validation score=\",cv_cc)\n",
    "print(\"\\n\")\n",
    "\n",
    "#log loss\n",
    "loss_cc=log_loss(y_test,predictions.toarray())\n",
    "print(\"log loss=\",loss_cc)\n",
    "#hamming loss\n",
    "hamm_loss_cc=hamming_loss(y_test,predictions)\n",
    "print(\"hamming loss=\",hamm_loss_cc)\n",
    "print(\"\\n\")\n",
    "\n",
    "#auc roc score\n",
    "auc_cc=roc_auc_score(y_test,predictions.toarray())\n",
    "print(\"AUC ROC score=\",auc_cc)\n",
    "#f1 score\n",
    "f1_cc=f1_score(y_test,predictions.toarray(),average='micro')\n",
    "print(\"f1 score=\",f1_cc)\n",
    "#precision score micro averaged\n",
    "pre_cc=precision_score(y_test,predictions.toarray(),average='micro')\n",
    "print(\"average precision score=\",pre_cc)\n",
    "print(\"\\n\")\n",
    "\n",
    "#coverage error\n",
    "ce_cc=coverage_error(y_test,predictions.toarray())\n",
    "print(\"coverage area=\",ce_cc)\n",
    "\n",
    "#label ranking \n",
    "lr_cc=label_ranking_average_precision_score(y_test,predictions.toarray())\n",
    "print(\"label ranking average precision score=\",lr_cc)"
   ]
  },
  {
   "cell_type": "code",
   "execution_count": 56,
   "id": "202ff1fa",
   "metadata": {},
   "outputs": [
    {
     "data": {
      "text/plain": [
       "array([[[14,  0],\n",
       "        [ 5,  0]],\n",
       "\n",
       "       [[18,  0],\n",
       "        [ 1,  0]],\n",
       "\n",
       "       [[16,  0],\n",
       "        [ 3,  0]],\n",
       "\n",
       "       [[16,  0],\n",
       "        [ 3,  0]],\n",
       "\n",
       "       [[ 7,  5],\n",
       "        [ 1,  6]]])"
      ]
     },
     "execution_count": 56,
     "metadata": {},
     "output_type": "execute_result"
    }
   ],
   "source": [
    "#confusion matrix for classifier chain\n",
    "conf_mat3=multilabel_confusion_matrix(y_test,predictions)\n",
    "conf_mat3"
   ]
  },
  {
   "cell_type": "code",
   "execution_count": 57,
   "id": "dc3975fe",
   "metadata": {},
   "outputs": [
    {
     "data": {
      "image/png": "[encoded data removed]",
      "text/plain": [
       "<Figure size 1080x504 with 10 Axes>"
      ]
     },
     "metadata": {
      "needs_background": "light"
     },
     "output_type": "display_data"
    }
   ],
   "source": [
    "#plotting heatmap of confusion matrix\n",
    "a = 2  # number of rows\n",
    "b = 3  # number of columns\n",
    "c = 1  # initialize plot counter\n",
    "fig = plt.figure(figsize=(15,7))\n",
    "for i in range(0,5): \n",
    "    plt.subplot(a, b, c)\n",
    "    plt.title('{}'.format(i+1),weight='bold')\n",
    "    sns.heatmap(conf_mat3[i],annot=True,cmap='plasma',fmt=\"0.2f\",linewidths=3,linecolor='black')\n",
    "    c = c + 1\n",
    "    plt.tight_layout()\n",
    "plt.show()"
   ]
  },
  {
   "cell_type": "markdown",
   "id": "dcd6799e",
   "metadata": {},
   "source": [
    "### 3) Adapted Algorithm\n",
    "Adapted algorithm, as the name suggests, adapting the algorithm to directly perform multi-label classification, rather than transforming the problem into different subsets of problems.\n",
    "\n",
    "For example, multi-label version of kNN is represented by MLkNN. So, let us quickly implement this on our randomly generated data set."
   ]
  },
  {
   "cell_type": "code",
   "execution_count": 58,
   "id": "d9a1d43f",
   "metadata": {},
   "outputs": [
    {
     "name": "stdout",
     "output_type": "stream",
     "text": [
      "Accuracy =  36.84210526315789\n",
      "Cross validation score= 26.666666666666668\n",
      "\n",
      "\n",
      "log loss= 20.069096563428293\n",
      "hamming loss= 0.25263157894736843\n",
      "\n",
      "\n",
      "AUC ROC score= 0.5474404761904762\n",
      "f1 score= 0.4\n",
      "average precision score= 0.38095238095238093\n",
      "\n",
      "\n",
      "label ranking average precision score= 0.5105263157894737\n",
      "coverage area= 3.3684210526315788\n"
     ]
    }
   ],
   "source": [
    "from skmultilearn.adapt import MLkNN\n",
    "classifier4 = MLkNN(k=3)\n",
    "# train\n",
    "classifier4.fit(x_train, y_train.values)\n",
    "#predictions\n",
    "predictions = classifier4.predict(x_test)\n",
    "\n",
    "# accuracy\n",
    "acc_mlknn=accuracy_score(y_test,predictions)*100\n",
    "print(\"Accuracy = \",acc_mlknn)\n",
    "#cross validation score\n",
    "cv_mlknn=cross_val_score(classifier4,x,y.values,cv=3).mean()*100\n",
    "print(\"Cross validation score=\",cv_mlknn)\n",
    "print(\"\\n\")\n",
    "\n",
    "#log loss\n",
    "loss_mlknn=log_loss(y_test,predictions.toarray())\n",
    "print(\"log loss=\",loss_mlknn)\n",
    "#hamming loss\n",
    "hamm_loss_mlknn=hamming_loss(y_test,predictions)\n",
    "print(\"hamming loss=\",hamm_loss_mlknn)\n",
    "print(\"\\n\")\n",
    "\n",
    "#auc roc score\n",
    "auc_mlknn=roc_auc_score(y_test,predictions.toarray())\n",
    "print(\"AUC ROC score=\",auc_mlknn)\n",
    "#f1 score\n",
    "f1_mlknn=f1_score(y_test,predictions.toarray(),average='micro')\n",
    "print(\"f1 score=\",f1_mlknn)\n",
    "#precision score micro averaged\n",
    "pre_mlknn=precision_score(y_test,predictions.toarray(),average='micro')\n",
    "print(\"average precision score=\",pre_mlknn)\n",
    "print(\"\\n\")\n",
    "\n",
    "#label ranking \n",
    "lr_mlknn=label_ranking_average_precision_score(y_test,predictions.toarray())\n",
    "print(\"label ranking average precision score=\",lr_mlknn)\n",
    "#coverage error\n",
    "ce_mlknn=coverage_error(y_test,predictions.toarray())\n",
    "print(\"coverage area=\",ce_mlknn)"
   ]
  },
  {
   "cell_type": "code",
   "execution_count": 59,
   "id": "03975c14",
   "metadata": {},
   "outputs": [
    {
     "data": {
      "text/plain": [
       "array([[[10,  4],\n",
       "        [ 3,  2]],\n",
       "\n",
       "       [[18,  0],\n",
       "        [ 1,  0]],\n",
       "\n",
       "       [[14,  2],\n",
       "        [ 2,  1]],\n",
       "\n",
       "       [[15,  1],\n",
       "        [ 3,  0]],\n",
       "\n",
       "       [[ 6,  6],\n",
       "        [ 2,  5]]])"
      ]
     },
     "execution_count": 59,
     "metadata": {},
     "output_type": "execute_result"
    }
   ],
   "source": [
    "#confusion matrix for mlknn\n",
    "conf_mat4=multilabel_confusion_matrix(y_test,predictions)\n",
    "conf_mat4"
   ]
  },
  {
   "cell_type": "code",
   "execution_count": 60,
   "id": "ad691914",
   "metadata": {},
   "outputs": [
    {
     "data": {
      "image/png": "[encoded data removed]",
      "text/plain": [
       "<Figure size 1080x504 with 10 Axes>"
      ]
     },
     "metadata": {
      "needs_background": "light"
     },
     "output_type": "display_data"
    }
   ],
   "source": [
    "a = 2  # number of rows\n",
    "b = 3  # number of columns\n",
    "c = 1  # initialize plot counter\n",
    "fig = plt.figure(figsize=(15,7))\n",
    "for i in range(0,5): \n",
    "    plt.subplot(a, b, c)\n",
    "    plt.title('{}'.format(i+1),weight='bold')\n",
    "    sns.heatmap(conf_mat4[i],annot=True,cmap='plasma',fmt=\"0.2f\",linewidths=3,linecolor='black')\n",
    "    c = c + 1\n",
    "    plt.tight_layout()\n",
    "plt.show()"
   ]
  },
  {
   "cell_type": "markdown",
   "id": "c69f66e7",
   "metadata": {},
   "source": [
    "### Comparing all the models performance"
   ]
  },
  {
   "cell_type": "code",
   "execution_count": 61,
   "id": "40a80485",
   "metadata": {},
   "outputs": [
    {
     "data": {
      "text/html": [
       "<div>\n",
       "<style scoped>\n",
       "    .dataframe tbody tr th:only-of-type {\n",
       "        vertical-align: middle;\n",
       "    }\n",
       "\n",
       "    .dataframe tbody tr th {\n",
       "        vertical-align: top;\n",
       "    }\n",
       "\n",
       "    .dataframe thead th {\n",
       "        text-align: right;\n",
       "    }\n",
       "</style>\n",
       "<table border=\"1\" class=\"dataframe\">\n",
       "  <thead>\n",
       "    <tr style=\"text-align: right;\">\n",
       "      <th></th>\n",
       "      <th>Model</th>\n",
       "      <th>Accuracy Score</th>\n",
       "      <th>Cross Validation score</th>\n",
       "      <th>Hamming Loss</th>\n",
       "      <th>Log Loss</th>\n",
       "      <th>Auc-Roc score</th>\n",
       "      <th>F1 Score</th>\n",
       "      <th>Precision</th>\n",
       "      <th>coverage error</th>\n",
       "      <th>Label ranking</th>\n",
       "    </tr>\n",
       "  </thead>\n",
       "  <tbody>\n",
       "    <tr>\n",
       "      <th>0</th>\n",
       "      <td>Adapted algorithm</td>\n",
       "      <td>36.842105</td>\n",
       "      <td>26.666667</td>\n",
       "      <td>0.252632</td>\n",
       "      <td>20.069097</td>\n",
       "      <td>0.547440</td>\n",
       "      <td>0.400000</td>\n",
       "      <td>0.380952</td>\n",
       "      <td>3.368421</td>\n",
       "      <td>0.510526</td>\n",
       "    </tr>\n",
       "    <tr>\n",
       "      <th>1</th>\n",
       "      <td>Classifier chain</td>\n",
       "      <td>31.578947</td>\n",
       "      <td>24.000000</td>\n",
       "      <td>0.189474</td>\n",
       "      <td>9.766810</td>\n",
       "      <td>0.544048</td>\n",
       "      <td>0.400000</td>\n",
       "      <td>0.545455</td>\n",
       "      <td>3.736842</td>\n",
       "      <td>0.452632</td>\n",
       "    </tr>\n",
       "    <tr>\n",
       "      <th>2</th>\n",
       "      <td>Label powerset</td>\n",
       "      <td>26.315789</td>\n",
       "      <td>24.000000</td>\n",
       "      <td>0.294737</td>\n",
       "      <td>25.449625</td>\n",
       "      <td>0.524802</td>\n",
       "      <td>0.263158</td>\n",
       "      <td>0.263158</td>\n",
       "      <td>3.947368</td>\n",
       "      <td>0.410526</td>\n",
       "    </tr>\n",
       "    <tr>\n",
       "      <th>3</th>\n",
       "      <td>Binary Relevance</td>\n",
       "      <td>15.789474</td>\n",
       "      <td>17.333333</td>\n",
       "      <td>0.463158</td>\n",
       "      <td>9.900991</td>\n",
       "      <td>0.518790</td>\n",
       "      <td>0.388889</td>\n",
       "      <td>0.264151</td>\n",
       "      <td>3.736842</td>\n",
       "      <td>0.389474</td>\n",
       "    </tr>\n",
       "  </tbody>\n",
       "</table>\n",
       "</div>"
      ],
      "text/plain": [
       "               Model  Accuracy Score  Cross Validation score  Hamming Loss  \\\n",
       "0  Adapted algorithm       36.842105               26.666667      0.252632   \n",
       "1   Classifier chain       31.578947               24.000000      0.189474   \n",
       "2     Label powerset       26.315789               24.000000      0.294737   \n",
       "3   Binary Relevance       15.789474               17.333333      0.463158   \n",
       "\n",
       "    Log Loss   Auc-Roc score  F1 Score  Precision  coverage error  \\\n",
       "0  20.069097        0.547440  0.400000   0.380952        3.368421   \n",
       "1   9.766810        0.544048  0.400000   0.545455        3.736842   \n",
       "2  25.449625        0.524802  0.263158   0.263158        3.947368   \n",
       "3   9.900991        0.518790  0.388889   0.264151        3.736842   \n",
       "\n",
       "   Label ranking  \n",
       "0       0.510526  \n",
       "1       0.452632  \n",
       "2       0.410526  \n",
       "3       0.389474  "
      ]
     },
     "execution_count": 61,
     "metadata": {},
     "output_type": "execute_result"
    }
   ],
   "source": [
    "#creating a comparision table for better understanding\n",
    "\n",
    "df_comparison_heading=pd.DataFrame({\n",
    "    \"Model\":['Binary Relevance',\"Classifier chain\",\"Label powerset\",\"Adapted algorithm\"],\n",
    "    \"Accuracy Score\":[acc_br,acc_cc,acc_lps,acc_mlknn],\n",
    "    \"Cross Validation score\":[cv_br,cv_cc,cv_lps,cv_mlknn],\n",
    "    \"Hamming Loss\":[hamm_loss_br,hamm_loss_cc,hamm_loss_lps,hamm_loss_mlknn],\n",
    "    \"Log Loss\":[loss_br,loss_cc,loss_lps,loss_mlknn],\n",
    "    \" Auc-Roc score\":[auc_br,auc_cc,auc_lps,auc_mlknn],\n",
    "    \"F1 Score\":[f1_br,f1_cc,f1_lps,f1_mlknn],\n",
    "    \"Precision\":[pre_br,pre_cc,pre_lps,pre_mlknn],\n",
    "    \"coverage error\":[ce_br,ce_cc,ce_lps,ce_mlknn],\n",
    "    \"Label ranking\":[lr_br,lr_cc,lr_lps,lr_mlknn]})\n",
    "    \n",
    "\n",
    "df_comparison_heading.sort_values(by=\"Accuracy Score\",ascending=False,ignore_index=True)"
   ]
  },
  {
   "cell_type": "markdown",
   "id": "e85f051f",
   "metadata": {},
   "source": [
    "#### Conclusion:\n",
    "* The hamming loss for Classifier Chain is the least among all.\n",
    "* The log loss is least for Classifier.\n",
    "* The AUC ROC Score for Adapted ALgorithm is maximum which is 0.547\n",
    "* The AUC ROC Score for Classifier Chain and Adapted Algorithm is almost similar.\n",
    "* The accuracy score of Adapted Algorithm is best out of 4 selected models."
   ]
  },
  {
   "cell_type": "markdown",
   "id": "b9de06fe",
   "metadata": {},
   "source": [
    "# Building model based on actual reviews and evaluation of its performance"
   ]
  },
  {
   "cell_type": "code",
   "execution_count": 62,
   "id": "24d50a4a",
   "metadata": {},
   "outputs": [],
   "source": [
    "# Separation of Labels and Features\n",
    "z = df['Review']\n",
    "y = df[['1 Star','2 Star','3 Star','4 Star','5 Star']]"
   ]
  },
  {
   "cell_type": "code",
   "execution_count": 63,
   "id": "75fbb584",
   "metadata": {},
   "outputs": [
    {
     "data": {
      "text/plain": [
       "(3250,)"
      ]
     },
     "execution_count": 63,
     "metadata": {},
     "output_type": "execute_result"
    }
   ],
   "source": [
    "z.shape"
   ]
  },
  {
   "cell_type": "code",
   "execution_count": 64,
   "id": "1cfb586d",
   "metadata": {},
   "outputs": [
    {
     "data": {
      "text/plain": [
       "(3250, 5)"
      ]
     },
     "execution_count": 64,
     "metadata": {},
     "output_type": "execute_result"
    }
   ],
   "source": [
    "y.shape"
   ]
  },
  {
   "cell_type": "code",
   "execution_count": 65,
   "id": "88bc71a8",
   "metadata": {},
   "outputs": [],
   "source": [
    "#transforming words to vectors\n",
    "#initiate tfid\n",
    "from sklearn.feature_extraction.text import TfidfVectorizer\n",
    "tf = TfidfVectorizer()\n",
    "#convert text into vectors\n",
    "z = tf.fit_transform(z)"
   ]
  },
  {
   "cell_type": "code",
   "execution_count": 66,
   "id": "822b24c9",
   "metadata": {},
   "outputs": [],
   "source": [
    "#splitting data into training and testing\n",
    "from sklearn.model_selection import train_test_split\n",
    "x_train, x_test, y_train, y_test = train_test_split(z, y, test_size=0.25, random_state=123)"
   ]
  },
  {
   "cell_type": "markdown",
   "id": "59054941",
   "metadata": {},
   "source": [
    "# 1) Power Transformation\n",
    "# 1.1 Binary relevance with GuassianNb as base classifier"
   ]
  },
  {
   "cell_type": "code",
   "execution_count": 67,
   "id": "313bc812",
   "metadata": {},
   "outputs": [
    {
     "name": "stdout",
     "output_type": "stream",
     "text": [
      "Accuracy =  14.514145141451415\n",
      "Cross validation score= 18.062015107685703\n",
      "\n",
      "\n",
      "log loss= 18.584821844218688\n",
      "hamming loss= 0.44378843788437883\n",
      "\n",
      "\n",
      "f1 score= 0.25822368421052627\n",
      "average precision score= 0.19394688079061148\n",
      "AUC ROC score= 0.5471718162805944\n",
      "\n",
      "\n",
      "label ranking average precision score= 0.3511275112751092\n",
      "coverage area= 3.972939729397294\n",
      "\n",
      "\n"
     ]
    }
   ],
   "source": [
    "# using binary relevance\n",
    "from skmultilearn.problem_transform import BinaryRelevance\n",
    "from sklearn.naive_bayes import GaussianNB\n",
    "\n",
    "# initialize binary relevance multi-label classifier\n",
    "# with a gaussian naive bayes base classifier\n",
    "classifier1 = BinaryRelevance(GaussianNB())\n",
    "\n",
    "# train\n",
    "classifier1.fit(x_train, y_train)\n",
    "# predict\n",
    "predictions = classifier1.predict(x_test)\n",
    "\n",
    "# accuracy\n",
    "acc_br=accuracy_score(y_test,predictions)*100\n",
    "print(\"Accuracy = \",acc_br)\n",
    "#cross validation score\n",
    "cv_br=cross_val_score(classifier1,z,y,cv=3).mean()*100\n",
    "print(\"Cross validation score=\",cv_br)\n",
    "print(\"\\n\")\n",
    "\n",
    "#log loss\n",
    "loss_br=log_loss(y_test,predictions.toarray())\n",
    "print(\"log loss=\",loss_br)\n",
    "#hamming loss\n",
    "hamm_loss_br=hamming_loss(y_test,predictions)\n",
    "print(\"hamming loss=\",hamm_loss_br) \n",
    "print(\"\\n\")\n",
    "\n",
    "\n",
    "#f1 score\n",
    "f1_br=f1_score(y_test,predictions.toarray(),average='micro')\n",
    "print(\"f1 score=\",f1_br)\n",
    "#precision score micro averaged\n",
    "pre_br=precision_score(y_test,predictions.toarray(),average='micro')\n",
    "print(\"average precision score=\",pre_br)\n",
    "#auc roc curve\n",
    "auc_br=roc_auc_score(y_test,predictions.toarray())\n",
    "print(\"AUC ROC score=\",auc_br)\n",
    "print(\"\\n\")\n",
    "\n",
    "\n",
    "#label ranking \n",
    "lr_br=label_ranking_average_precision_score(y_test,predictions.toarray())\n",
    "print(\"label ranking average precision score=\",lr_br)\n",
    "#coverage error\n",
    "ce_br=coverage_error(y_test,predictions.toarray())\n",
    "print(\"coverage area=\",ce_br)\n",
    "print(\"\\n\")"
   ]
  },
  {
   "cell_type": "code",
   "execution_count": 68,
   "id": "9a98005f",
   "metadata": {},
   "outputs": [
    {
     "data": {
      "text/plain": [
       "array([[[456, 264],\n",
       "        [ 41,  52]],\n",
       "\n",
       "       [[637, 155],\n",
       "        [ 13,   8]],\n",
       "\n",
       "       [[363, 402],\n",
       "        [ 24,  24]],\n",
       "\n",
       "       [[215, 430],\n",
       "        [ 46, 122]],\n",
       "\n",
       "       [[276,  54],\n",
       "        [375, 108]]])"
      ]
     },
     "execution_count": 68,
     "metadata": {},
     "output_type": "execute_result"
    }
   ],
   "source": [
    "#confusion matrix for binary relevance\n",
    "conf_mat1=multilabel_confusion_matrix(y_test,predictions)\n",
    "conf_mat1"
   ]
  },
  {
   "cell_type": "code",
   "execution_count": 69,
   "id": "aa51c230",
   "metadata": {},
   "outputs": [
    {
     "data": {
      "image/png": "[encoded data removed]",
      "text/plain": [
       "<Figure size 1080x504 with 10 Axes>"
      ]
     },
     "metadata": {
      "needs_background": "light"
     },
     "output_type": "display_data"
    }
   ],
   "source": [
    "#plotting heatmap of confusion matrix\n",
    "a = 2  # number of rows\n",
    "b = 3  # number of columns\n",
    "c = 1  # initialize plot counter\n",
    "fig = plt.figure(figsize=(15,7))\n",
    "for i in range(0,5):\n",
    "    plt.subplot(a, b, c)\n",
    "    plt.title('{}'.format(i+1),weight='bold')\n",
    "    sns.heatmap(conf_mat1[i],annot=True,cmap='plasma',fmt=\"0.2f\",linewidths=3,linecolor='black')\n",
    "    c = c + 1\n",
    "    plt.tight_layout()\n",
    "plt.show()"
   ]
  },
  {
   "cell_type": "markdown",
   "id": "f6f2de63",
   "metadata": {},
   "source": [
    "# 1.2 Label powerset"
   ]
  },
  {
   "cell_type": "code",
   "execution_count": 70,
   "id": "faf16c89",
   "metadata": {},
   "outputs": [
    {
     "name": "stdout",
     "output_type": "stream",
     "text": [
      "Accuracy =  22.01722017220172\n",
      "Cross validation score= 26.67718366934362\n",
      "\n",
      "\n",
      "log loss= 26.934297951258774\n",
      "hamming loss= 0.3119311193111931\n",
      "\n",
      "\n",
      "AUC ROC score= 0.5121910688773432\n",
      "f1 score= 0.2201722017220172\n",
      "average precision score= 0.2201722017220172\n",
      "\n",
      "\n",
      "coverage area= 4.1193111931119315\n",
      "label ranking average precision score= 0.3761377613776091\n"
     ]
    }
   ],
   "source": [
    "#create and fit classifier\n",
    "from skmultilearn.problem_transform import LabelPowerset\n",
    "from sklearn.naive_bayes import GaussianNB\n",
    "\n",
    "# initialize Label Powerset multi-label classifier\n",
    "# with a gaussian naive bayes base classifier\n",
    "classifier2 = LabelPowerset(GaussianNB())\n",
    "classifier2.fit(x_train, y_train)\n",
    "#predictions\n",
    "predictions = classifier2.predict(x_test)\n",
    "\n",
    "# accuracy\n",
    "acc_lps=accuracy_score(y_test,predictions)*100\n",
    "print(\"Accuracy = \",acc_lps)\n",
    "#cross validation score\n",
    "cv_lps=cross_val_score(classifier2,z,y,cv=3).mean()*100\n",
    "print(\"Cross validation score=\",cv_lps)\n",
    "print(\"\\n\")\n",
    "\n",
    "#log loss\n",
    "loss_lps=log_loss(y_test,predictions.toarray())\n",
    "print(\"log loss=\",loss_lps)\n",
    "#hamming loss\n",
    "hamm_loss_lps=hamming_loss(y_test,predictions)\n",
    "print(\"hamming loss=\",hamm_loss_lps)\n",
    "print(\"\\n\")\n",
    "\n",
    "#auc roc score\n",
    "auc_lps=roc_auc_score(y_test,predictions.toarray())\n",
    "print(\"AUC ROC score=\",auc_lps)\n",
    "#f1 score\n",
    "f1_lps=f1_score(y_test,predictions.toarray(),average='micro')\n",
    "print(\"f1 score=\",f1_lps)\n",
    "#precision score micro averaged\n",
    "pre_lps=precision_score(y_test,predictions.toarray(),average='micro')\n",
    "print(\"average precision score=\",pre_lps)\n",
    "print(\"\\n\")\n",
    "\n",
    "#coverage error\n",
    "ce_lps=coverage_error(y_test,predictions.toarray())\n",
    "print(\"coverage area=\",ce_lps)\n",
    "#label ranking \n",
    "lr_lps=label_ranking_average_precision_score(y_test,predictions.toarray())\n",
    "print(\"label ranking average precision score=\",lr_lps)"
   ]
  },
  {
   "cell_type": "code",
   "execution_count": 71,
   "id": "8baaa3d7",
   "metadata": {},
   "outputs": [
    {
     "data": {
      "text/plain": [
       "array([[[673,  47],\n",
       "        [ 77,  16]],\n",
       "\n",
       "       [[646, 146],\n",
       "        [ 13,   8]],\n",
       "\n",
       "       [[507, 258],\n",
       "        [ 42,   6]],\n",
       "\n",
       "       [[534, 111],\n",
       "        [139,  29]],\n",
       "\n",
       "       [[258,  72],\n",
       "        [363, 120]]])"
      ]
     },
     "execution_count": 71,
     "metadata": {},
     "output_type": "execute_result"
    }
   ],
   "source": [
    "#confusion matrix for label powerset\n",
    "conf_mat2=multilabel_confusion_matrix(y_test,predictions)\n",
    "conf_mat2"
   ]
  },
  {
   "cell_type": "code",
   "execution_count": 72,
   "id": "881ad191",
   "metadata": {},
   "outputs": [
    {
     "data": {
      "image/png": "[encoded data removed]",
      "text/plain": [
       "<Figure size 1080x504 with 10 Axes>"
      ]
     },
     "metadata": {
      "needs_background": "light"
     },
     "output_type": "display_data"
    }
   ],
   "source": [
    "#plotting heatmap of confusion matrix\n",
    "a = 2  # number of rows\n",
    "b = 3  # number of columns\n",
    "c = 1  # initialize plot counter\n",
    "fig = plt.figure(figsize=(15,7))\n",
    "for i in range(0,5): \n",
    "    plt.subplot(a, b, c)\n",
    "    plt.title('{}'.format(i+1),weight='bold')\n",
    "    sns.heatmap(conf_mat2[i],annot=True,cmap='plasma',fmt=\"0.2f\",linewidths=3,linecolor='black')\n",
    "    c = c + 1\n",
    "    plt.tight_layout()\n",
    "plt.show()"
   ]
  },
  {
   "cell_type": "markdown",
   "id": "9d52a086",
   "metadata": {},
   "source": [
    "# 2 ) Classifier chain with MultinomialNB classifier (ensemble)"
   ]
  },
  {
   "cell_type": "code",
   "execution_count": 73,
   "id": "efd0af61",
   "metadata": {},
   "outputs": [
    {
     "name": "stdout",
     "output_type": "stream",
     "text": [
      "Accuracy =  58.30258302583026\n",
      "Cross validation score= 58.30732476299833\n",
      "\n",
      "\n",
      "log loss= 9.379344681485398\n",
      "hamming loss= 0.13628536285362855\n",
      "\n",
      "\n",
      "AUC ROC score= 0.533853360290948\n",
      "f1 score= 0.6311584553928096\n",
      "average precision score= 0.6879535558780842\n",
      "\n",
      "\n",
      "coverage area= 2.6678966789667897\n",
      "label ranking average precision score= 0.6664206642066401\n"
     ]
    }
   ],
   "source": [
    "#create and fit classifier\n",
    "from sklearn.naive_bayes import MultinomialNB\n",
    "from skmultilearn.problem_transform import ClassifierChain\n",
    "classifier3 = ClassifierChain(MultinomialNB())\n",
    "classifier3.fit(x_train, y_train)\n",
    "\n",
    "#predictions\n",
    "predictions = classifier3.predict(x_test)\n",
    "# accuracy\n",
    "acc_cc=accuracy_score(y_test,predictions)*100\n",
    "print(\"Accuracy = \",acc_cc)\n",
    "#cross validation score\n",
    "cv_cc=cross_val_score(classifier3,z,y,cv=3).mean()*100\n",
    "print(\"Cross validation score=\",cv_cc)\n",
    "print(\"\\n\")\n",
    "\n",
    "#log loss\n",
    "loss_cc=log_loss(y_test,predictions.toarray())\n",
    "print(\"log loss=\",loss_cc)\n",
    "#hamming loss\n",
    "hamm_loss_cc=hamming_loss(y_test,predictions)\n",
    "print(\"hamming loss=\",hamm_loss_cc)\n",
    "print(\"\\n\")\n",
    "\n",
    "#auc roc score\n",
    "auc_cc=roc_auc_score(y_test,predictions.toarray())\n",
    "print(\"AUC ROC score=\",auc_cc)\n",
    "#f1 score\n",
    "f1_cc=f1_score(y_test,predictions.toarray(),average='micro')\n",
    "print(\"f1 score=\",f1_cc)\n",
    "#precision score micro averaged\n",
    "pre_cc=precision_score(y_test,predictions.toarray(),average='micro')\n",
    "print(\"average precision score=\",pre_cc)\n",
    "print(\"\\n\")\n",
    "\n",
    "#coverage error\n",
    "ce_cc=coverage_error(y_test,predictions.toarray())\n",
    "print(\"coverage area=\",ce_cc)\n",
    "\n",
    "#label ranking \n",
    "lr_cc=label_ranking_average_precision_score(y_test,predictions.toarray())\n",
    "print(\"label ranking average precision score=\",lr_cc)"
   ]
  },
  {
   "cell_type": "code",
   "execution_count": 74,
   "id": "a5841cd0",
   "metadata": {},
   "outputs": [
    {
     "data": {
      "text/plain": [
       "array([[[720,   0],\n",
       "        [ 92,   1]],\n",
       "\n",
       "       [[792,   0],\n",
       "        [ 21,   0]],\n",
       "\n",
       "       [[765,   0],\n",
       "        [ 48,   0]],\n",
       "\n",
       "       [[645,   0],\n",
       "        [168,   0]],\n",
       "\n",
       "       [[115, 215],\n",
       "        [ 10, 473]]])"
      ]
     },
     "execution_count": 74,
     "metadata": {},
     "output_type": "execute_result"
    }
   ],
   "source": [
    "#confusion matrix for classifier chain\n",
    "conf_mat3=multilabel_confusion_matrix(y_test,predictions)\n",
    "conf_mat3"
   ]
  },
  {
   "cell_type": "code",
   "execution_count": 75,
   "id": "b6a22b48",
   "metadata": {},
   "outputs": [
    {
     "data": {
      "image/png": "[encoded data removed]",
      "text/plain": [
       "<Figure size 1080x504 with 10 Axes>"
      ]
     },
     "metadata": {
      "needs_background": "light"
     },
     "output_type": "display_data"
    }
   ],
   "source": [
    "#plotting heatmap of confusion matrix\n",
    "a = 2  # number of rows\n",
    "b = 3  # number of columns\n",
    "c = 1  # initialize plot counter\n",
    "fig = plt.figure(figsize=(15,7))\n",
    "for i in range(0,5): \n",
    "    plt.subplot(a, b, c)\n",
    "    plt.title('{}'.format(i+1),weight='bold')\n",
    "    sns.heatmap(conf_mat3[i],annot=True,cmap='plasma',fmt=\"0.2f\",linewidths=3,linecolor='black')\n",
    "    c = c + 1\n",
    "    plt.tight_layout()\n",
    "plt.show()"
   ]
  },
  {
   "cell_type": "markdown",
   "id": "468e5578",
   "metadata": {},
   "source": [
    "# 3) Adapted Algorithm"
   ]
  },
  {
   "cell_type": "code",
   "execution_count": 76,
   "id": "23b0b8f1",
   "metadata": {},
   "outputs": [
    {
     "name": "stdout",
     "output_type": "stream",
     "text": [
      "Accuracy =  56.33456334563346\n",
      "Cross validation score= 55.23118666089708\n",
      "\n",
      "\n",
      "log loss= 10.464109511920006\n",
      "hamming loss= 0.14661746617466176\n",
      "\n",
      "\n",
      "AUC ROC score= 0.5695554032695295\n",
      "f1 score= 0.6058201058201058\n",
      "average precision score= 0.6552217453505007\n",
      "\n",
      "\n",
      "label ranking average precision score= 0.6506765067650657\n",
      "coverage area= 2.7466174661746616\n"
     ]
    }
   ],
   "source": [
    "from skmultilearn.adapt import MLkNN\n",
    "classifier4 = MLkNN(k=3)\n",
    "# train\n",
    "classifier4.fit(x_train, y_train.values)\n",
    "#predictions\n",
    "predictions = classifier4.predict(x_test)\n",
    "\n",
    "# accuracy\n",
    "acc_mlknn=accuracy_score(y_test,predictions)*100\n",
    "print(\"Accuracy = \",acc_mlknn)\n",
    "#cross validation score\n",
    "cv_mlknn=cross_val_score(classifier4,z,y.values,cv=3).mean()*100\n",
    "print(\"Cross validation score=\",cv_mlknn)\n",
    "print(\"\\n\")\n",
    "\n",
    "#log loss\n",
    "loss_mlknn=log_loss(y_test,predictions.toarray())\n",
    "print(\"log loss=\",loss_mlknn)\n",
    "#hamming loss\n",
    "hamm_loss_mlknn=hamming_loss(y_test,predictions)\n",
    "print(\"hamming loss=\",hamm_loss_mlknn)\n",
    "print(\"\\n\")\n",
    "\n",
    "#auc roc score\n",
    "auc_mlknn=roc_auc_score(y_test,predictions.toarray())\n",
    "print(\"AUC ROC score=\",auc_mlknn)\n",
    "#f1 score\n",
    "f1_mlknn=f1_score(y_test,predictions.toarray(),average='micro')\n",
    "print(\"f1 score=\",f1_mlknn)\n",
    "#precision score micro averaged\n",
    "pre_mlknn=precision_score(y_test,predictions.toarray(),average='micro')\n",
    "print(\"average precision score=\",pre_mlknn)\n",
    "print(\"\\n\")\n",
    "\n",
    "#label ranking \n",
    "lr_mlknn=label_ranking_average_precision_score(y_test,predictions.toarray())\n",
    "print(\"label ranking average precision score=\",lr_mlknn)\n",
    "#coverage error\n",
    "ce_mlknn=coverage_error(y_test,predictions.toarray())\n",
    "print(\"coverage area=\",ce_mlknn)"
   ]
  },
  {
   "cell_type": "code",
   "execution_count": 77,
   "id": "c79ca395",
   "metadata": {},
   "outputs": [
    {
     "data": {
      "text/plain": [
       "array([[[709,  11],\n",
       "        [ 66,  27]],\n",
       "\n",
       "       [[783,   9],\n",
       "        [ 20,   1]],\n",
       "\n",
       "       [[761,   4],\n",
       "        [ 44,   4]],\n",
       "\n",
       "       [[616,  29],\n",
       "        [158,  10]],\n",
       "\n",
       "       [[142, 188],\n",
       "        [ 67, 416]]])"
      ]
     },
     "execution_count": 77,
     "metadata": {},
     "output_type": "execute_result"
    }
   ],
   "source": [
    "#confusion matrix for mlknn\n",
    "conf_mat4=multilabel_confusion_matrix(y_test,predictions)\n",
    "conf_mat4"
   ]
  },
  {
   "cell_type": "code",
   "execution_count": 78,
   "id": "d71a1dbe",
   "metadata": {},
   "outputs": [
    {
     "data": {
      "image/png": "[encoded data removed]",
      "text/plain": [
       "<Figure size 1080x504 with 10 Axes>"
      ]
     },
     "metadata": {
      "needs_background": "light"
     },
     "output_type": "display_data"
    }
   ],
   "source": [
    "a = 2  # number of rows\n",
    "b = 3  # number of columns\n",
    "c = 1  # initialize plot counter\n",
    "fig = plt.figure(figsize=(15,7))\n",
    "for i in range(0,5): \n",
    "    plt.subplot(a, b, c)\n",
    "    plt.title('{}'.format(i+1),weight='bold')\n",
    "    sns.heatmap(conf_mat4[i],annot=True,cmap='plasma',fmt=\"0.2f\",linewidths=3,linecolor='black')\n",
    "    c = c + 1\n",
    "    plt.tight_layout()\n",
    "plt.show()\n",
    "  "
   ]
  },
  {
   "cell_type": "markdown",
   "id": "e9359e29",
   "metadata": {},
   "source": [
    "# Comparing all the models performance"
   ]
  },
  {
   "cell_type": "code",
   "execution_count": 79,
   "id": "6b92ee4d",
   "metadata": {},
   "outputs": [
    {
     "data": {
      "text/html": [
       "<div>\n",
       "<style scoped>\n",
       "    .dataframe tbody tr th:only-of-type {\n",
       "        vertical-align: middle;\n",
       "    }\n",
       "\n",
       "    .dataframe tbody tr th {\n",
       "        vertical-align: top;\n",
       "    }\n",
       "\n",
       "    .dataframe thead th {\n",
       "        text-align: right;\n",
       "    }\n",
       "</style>\n",
       "<table border=\"1\" class=\"dataframe\">\n",
       "  <thead>\n",
       "    <tr style=\"text-align: right;\">\n",
       "      <th></th>\n",
       "      <th>Model</th>\n",
       "      <th>Accuracy Score</th>\n",
       "      <th>Cross Validation score</th>\n",
       "      <th>Hamming Loss</th>\n",
       "      <th>Log Loss</th>\n",
       "      <th>Auc-Roc score</th>\n",
       "      <th>F1 Score</th>\n",
       "      <th>Precision</th>\n",
       "      <th>coverage error</th>\n",
       "      <th>Label ranking</th>\n",
       "    </tr>\n",
       "  </thead>\n",
       "  <tbody>\n",
       "    <tr>\n",
       "      <th>0</th>\n",
       "      <td>Classifier chain</td>\n",
       "      <td>58.302583</td>\n",
       "      <td>58.307325</td>\n",
       "      <td>0.136285</td>\n",
       "      <td>9.379345</td>\n",
       "      <td>0.533853</td>\n",
       "      <td>0.631158</td>\n",
       "      <td>0.687954</td>\n",
       "      <td>2.667897</td>\n",
       "      <td>0.666421</td>\n",
       "    </tr>\n",
       "    <tr>\n",
       "      <th>1</th>\n",
       "      <td>Adapted algorithm</td>\n",
       "      <td>56.334563</td>\n",
       "      <td>55.231187</td>\n",
       "      <td>0.146617</td>\n",
       "      <td>10.464110</td>\n",
       "      <td>0.569555</td>\n",
       "      <td>0.605820</td>\n",
       "      <td>0.655222</td>\n",
       "      <td>2.746617</td>\n",
       "      <td>0.650677</td>\n",
       "    </tr>\n",
       "    <tr>\n",
       "      <th>2</th>\n",
       "      <td>Label powerset</td>\n",
       "      <td>22.017220</td>\n",
       "      <td>26.677184</td>\n",
       "      <td>0.311931</td>\n",
       "      <td>26.934298</td>\n",
       "      <td>0.512191</td>\n",
       "      <td>0.220172</td>\n",
       "      <td>0.220172</td>\n",
       "      <td>4.119311</td>\n",
       "      <td>0.376138</td>\n",
       "    </tr>\n",
       "    <tr>\n",
       "      <th>3</th>\n",
       "      <td>Binary Relevance</td>\n",
       "      <td>14.514145</td>\n",
       "      <td>18.062015</td>\n",
       "      <td>0.443788</td>\n",
       "      <td>18.584822</td>\n",
       "      <td>0.547172</td>\n",
       "      <td>0.258224</td>\n",
       "      <td>0.193947</td>\n",
       "      <td>3.972940</td>\n",
       "      <td>0.351128</td>\n",
       "    </tr>\n",
       "  </tbody>\n",
       "</table>\n",
       "</div>"
      ],
      "text/plain": [
       "               Model  Accuracy Score  Cross Validation score  Hamming Loss  \\\n",
       "0   Classifier chain       58.302583               58.307325      0.136285   \n",
       "1  Adapted algorithm       56.334563               55.231187      0.146617   \n",
       "2     Label powerset       22.017220               26.677184      0.311931   \n",
       "3   Binary Relevance       14.514145               18.062015      0.443788   \n",
       "\n",
       "    Log Loss   Auc-Roc score  F1 Score  Precision  coverage error  \\\n",
       "0   9.379345        0.533853  0.631158   0.687954        2.667897   \n",
       "1  10.464110        0.569555  0.605820   0.655222        2.746617   \n",
       "2  26.934298        0.512191  0.220172   0.220172        4.119311   \n",
       "3  18.584822        0.547172  0.258224   0.193947        3.972940   \n",
       "\n",
       "   Label ranking  \n",
       "0       0.666421  \n",
       "1       0.650677  \n",
       "2       0.376138  \n",
       "3       0.351128  "
      ]
     },
     "execution_count": 79,
     "metadata": {},
     "output_type": "execute_result"
    }
   ],
   "source": [
    "#creating a comparision table for better understanding\n",
    "\n",
    "df_comparison_review=pd.DataFrame({\n",
    "    \"Model\":['Binary Relevance',\"Classifier chain\",\"Label powerset\",\"Adapted algorithm\"],\n",
    "    \"Accuracy Score\":[acc_br,acc_cc,acc_lps,acc_mlknn],\n",
    "    \"Cross Validation score\":[cv_br,cv_cc,cv_lps,cv_mlknn],\n",
    "    \"Hamming Loss\":[hamm_loss_br,hamm_loss_cc,hamm_loss_lps,hamm_loss_mlknn],\n",
    "    \"Log Loss\":[loss_br,loss_cc,loss_lps,loss_mlknn],\n",
    "    \" Auc-Roc score\":[auc_br,auc_cc,auc_lps,auc_mlknn],\n",
    "    \"F1 Score\":[f1_br,f1_cc,f1_lps,f1_mlknn],\n",
    "    \"Precision\":[pre_br,pre_cc,pre_lps,pre_mlknn],\n",
    "    \"coverage error\":[ce_br,ce_cc,ce_lps,ce_mlknn],\n",
    "    \"Label ranking\":[lr_br,lr_cc,lr_lps,lr_mlknn]})\n",
    "    \n",
    "\n",
    "df_comparison_review.sort_values(by=\"Accuracy Score\",ascending=False,ignore_index=True)"
   ]
  },
  {
   "cell_type": "markdown",
   "id": "a59249b0",
   "metadata": {},
   "source": [
    "#### Conclusion:\n",
    "* The hamming loss for Classifier Chain is the least among all.\n",
    "* The log loss is least for Classifier Chain.\n",
    "* The AUC ROC Score for Adapted Algorithm is maximum which is 0.56\n",
    "* The accuracy score of Classifier Chain is best out of 4 selected models."
   ]
  },
  {
   "cell_type": "markdown",
   "id": "60239b0a",
   "metadata": {},
   "source": [
    "# Comparison of Model performance for heading and review"
   ]
  },
  {
   "cell_type": "code",
   "execution_count": 80,
   "id": "c5db30b5",
   "metadata": {},
   "outputs": [
    {
     "data": {
      "text/html": [
       "<div>\n",
       "<style scoped>\n",
       "    .dataframe tbody tr th:only-of-type {\n",
       "        vertical-align: middle;\n",
       "    }\n",
       "\n",
       "    .dataframe tbody tr th {\n",
       "        vertical-align: top;\n",
       "    }\n",
       "\n",
       "    .dataframe thead th {\n",
       "        text-align: right;\n",
       "    }\n",
       "</style>\n",
       "<table border=\"1\" class=\"dataframe\">\n",
       "  <thead>\n",
       "    <tr style=\"text-align: right;\">\n",
       "      <th></th>\n",
       "      <th>Model</th>\n",
       "      <th>Accuracy Score</th>\n",
       "      <th>Cross Validation score</th>\n",
       "      <th>Hamming Loss</th>\n",
       "      <th>Log Loss</th>\n",
       "      <th>Auc-Roc score</th>\n",
       "      <th>F1 Score</th>\n",
       "      <th>Precision</th>\n",
       "      <th>coverage error</th>\n",
       "      <th>Label ranking</th>\n",
       "      <th>Data</th>\n",
       "    </tr>\n",
       "  </thead>\n",
       "  <tbody>\n",
       "    <tr>\n",
       "      <th>0</th>\n",
       "      <td>Binary Relevance</td>\n",
       "      <td>15.789474</td>\n",
       "      <td>17.333333</td>\n",
       "      <td>0.463158</td>\n",
       "      <td>9.900991</td>\n",
       "      <td>0.518790</td>\n",
       "      <td>0.388889</td>\n",
       "      <td>0.264151</td>\n",
       "      <td>3.736842</td>\n",
       "      <td>0.389474</td>\n",
       "      <td>Heading</td>\n",
       "    </tr>\n",
       "    <tr>\n",
       "      <th>1</th>\n",
       "      <td>Classifier chain</td>\n",
       "      <td>31.578947</td>\n",
       "      <td>24.000000</td>\n",
       "      <td>0.189474</td>\n",
       "      <td>9.766810</td>\n",
       "      <td>0.544048</td>\n",
       "      <td>0.400000</td>\n",
       "      <td>0.545455</td>\n",
       "      <td>3.736842</td>\n",
       "      <td>0.452632</td>\n",
       "      <td>Heading</td>\n",
       "    </tr>\n",
       "    <tr>\n",
       "      <th>2</th>\n",
       "      <td>Label powerset</td>\n",
       "      <td>26.315789</td>\n",
       "      <td>24.000000</td>\n",
       "      <td>0.294737</td>\n",
       "      <td>25.449625</td>\n",
       "      <td>0.524802</td>\n",
       "      <td>0.263158</td>\n",
       "      <td>0.263158</td>\n",
       "      <td>3.947368</td>\n",
       "      <td>0.410526</td>\n",
       "      <td>Heading</td>\n",
       "    </tr>\n",
       "    <tr>\n",
       "      <th>3</th>\n",
       "      <td>Adapted algorithm</td>\n",
       "      <td>36.842105</td>\n",
       "      <td>26.666667</td>\n",
       "      <td>0.252632</td>\n",
       "      <td>20.069097</td>\n",
       "      <td>0.547440</td>\n",
       "      <td>0.400000</td>\n",
       "      <td>0.380952</td>\n",
       "      <td>3.368421</td>\n",
       "      <td>0.510526</td>\n",
       "      <td>Heading</td>\n",
       "    </tr>\n",
       "    <tr>\n",
       "      <th>0</th>\n",
       "      <td>Binary Relevance</td>\n",
       "      <td>14.514145</td>\n",
       "      <td>18.062015</td>\n",
       "      <td>0.443788</td>\n",
       "      <td>18.584822</td>\n",
       "      <td>0.547172</td>\n",
       "      <td>0.258224</td>\n",
       "      <td>0.193947</td>\n",
       "      <td>3.972940</td>\n",
       "      <td>0.351128</td>\n",
       "      <td>Review</td>\n",
       "    </tr>\n",
       "    <tr>\n",
       "      <th>1</th>\n",
       "      <td>Classifier chain</td>\n",
       "      <td>58.302583</td>\n",
       "      <td>58.307325</td>\n",
       "      <td>0.136285</td>\n",
       "      <td>9.379345</td>\n",
       "      <td>0.533853</td>\n",
       "      <td>0.631158</td>\n",
       "      <td>0.687954</td>\n",
       "      <td>2.667897</td>\n",
       "      <td>0.666421</td>\n",
       "      <td>Review</td>\n",
       "    </tr>\n",
       "    <tr>\n",
       "      <th>2</th>\n",
       "      <td>Label powerset</td>\n",
       "      <td>22.017220</td>\n",
       "      <td>26.677184</td>\n",
       "      <td>0.311931</td>\n",
       "      <td>26.934298</td>\n",
       "      <td>0.512191</td>\n",
       "      <td>0.220172</td>\n",
       "      <td>0.220172</td>\n",
       "      <td>4.119311</td>\n",
       "      <td>0.376138</td>\n",
       "      <td>Review</td>\n",
       "    </tr>\n",
       "    <tr>\n",
       "      <th>3</th>\n",
       "      <td>Adapted algorithm</td>\n",
       "      <td>56.334563</td>\n",
       "      <td>55.231187</td>\n",
       "      <td>0.146617</td>\n",
       "      <td>10.464110</td>\n",
       "      <td>0.569555</td>\n",
       "      <td>0.605820</td>\n",
       "      <td>0.655222</td>\n",
       "      <td>2.746617</td>\n",
       "      <td>0.650677</td>\n",
       "      <td>Review</td>\n",
       "    </tr>\n",
       "  </tbody>\n",
       "</table>\n",
       "</div>"
      ],
      "text/plain": [
       "               Model  Accuracy Score  Cross Validation score  Hamming Loss  \\\n",
       "0   Binary Relevance       15.789474               17.333333      0.463158   \n",
       "1   Classifier chain       31.578947               24.000000      0.189474   \n",
       "2     Label powerset       26.315789               24.000000      0.294737   \n",
       "3  Adapted algorithm       36.842105               26.666667      0.252632   \n",
       "0   Binary Relevance       14.514145               18.062015      0.443788   \n",
       "1   Classifier chain       58.302583               58.307325      0.136285   \n",
       "2     Label powerset       22.017220               26.677184      0.311931   \n",
       "3  Adapted algorithm       56.334563               55.231187      0.146617   \n",
       "\n",
       "    Log Loss   Auc-Roc score  F1 Score  Precision  coverage error  \\\n",
       "0   9.900991        0.518790  0.388889   0.264151        3.736842   \n",
       "1   9.766810        0.544048  0.400000   0.545455        3.736842   \n",
       "2  25.449625        0.524802  0.263158   0.263158        3.947368   \n",
       "3  20.069097        0.547440  0.400000   0.380952        3.368421   \n",
       "0  18.584822        0.547172  0.258224   0.193947        3.972940   \n",
       "1   9.379345        0.533853  0.631158   0.687954        2.667897   \n",
       "2  26.934298        0.512191  0.220172   0.220172        4.119311   \n",
       "3  10.464110        0.569555  0.605820   0.655222        2.746617   \n",
       "\n",
       "   Label ranking     Data  \n",
       "0       0.389474  Heading  \n",
       "1       0.452632  Heading  \n",
       "2       0.410526  Heading  \n",
       "3       0.510526  Heading  \n",
       "0       0.351128   Review  \n",
       "1       0.666421   Review  \n",
       "2       0.376138   Review  \n",
       "3       0.650677   Review  "
      ]
     },
     "execution_count": 80,
     "metadata": {},
     "output_type": "execute_result"
    }
   ],
   "source": [
    "df_comparison_heading['Data']='Heading'\n",
    "df_comparison_review['Data']='Review'\n",
    "df_merged=pd.concat([df_comparison_heading,df_comparison_review])\n",
    "df_merged"
   ]
  },
  {
   "cell_type": "markdown",
   "id": "921dce05",
   "metadata": {},
   "source": [
    "#### Conclusion:\n",
    "* The hamming loss by Classifier Chain is the least both for heading of reviews and reviews.\n",
    "* The log loss by Classifier Chain is the least both for heading of reviews and reviews.\n",
    "* The AUC ROC score by Adapted Algorithm is the least both for heading of reviews and reviews.\n",
    "* The AUC ROC Score by Binary Relevance is maximum for heading and by Adapted Algorithm for reviews.\n",
    "* The accuracy score of Adapted Algorithm is best for heading and Classifier Chain for reviews"
   ]
  },
  {
   "cell_type": "markdown",
   "id": "861672ad",
   "metadata": {},
   "source": [
    "# Saving Best Model"
   ]
  },
  {
   "cell_type": "markdown",
   "id": "f804da56",
   "metadata": {},
   "source": [
    "# saving classifier chain as our best model\n",
    "import pickle\n",
    "filename=\"Review_Classification_Laptop_Model.pkl\"\n",
    "pickle.dump(classifier3,open(filename,'wb'))"
   ]
  },
  {
   "cell_type": "code",
   "execution_count": null,
   "id": "53dc22e4",
   "metadata": {},
   "outputs": [],
   "source": []
  }
 ],
 "metadata": {
  "kernelspec": {
   "display_name": "Python 3",
   "language": "python",
   "name": "python3"
  },
  "language_info": {
   "codemirror_mode": {
    "name": "ipython",
    "version": 3
   },
   "file_extension": ".py",
   "mimetype": "text/x-python",
   "name": "python",
   "nbconvert_exporter": "python",
   "pygments_lexer": "ipython3",
   "version": "3.8.8"
  }
 },
 "nbformat": 4,
 "nbformat_minor": 5
}
