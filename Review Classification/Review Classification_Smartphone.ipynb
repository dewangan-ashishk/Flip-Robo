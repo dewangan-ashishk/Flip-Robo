{
 "cells": [
  {
   "cell_type": "markdown",
   "id": "f94d6d75",
   "metadata": {},
   "source": [
    "# Review Classification - Smartphone"
   ]
  },
  {
   "cell_type": "code",
   "execution_count": 1,
   "id": "dd2790c9",
   "metadata": {},
   "outputs": [
    {
     "data": {
      "text/html": [
       "<div>\n",
       "<style scoped>\n",
       "    .dataframe tbody tr th:only-of-type {\n",
       "        vertical-align: middle;\n",
       "    }\n",
       "\n",
       "    .dataframe tbody tr th {\n",
       "        vertical-align: top;\n",
       "    }\n",
       "\n",
       "    .dataframe thead th {\n",
       "        text-align: right;\n",
       "    }\n",
       "</style>\n",
       "<table border=\"1\" class=\"dataframe\">\n",
       "  <thead>\n",
       "    <tr style=\"text-align: right;\">\n",
       "      <th></th>\n",
       "      <th>Unnamed: 0</th>\n",
       "      <th>Rating</th>\n",
       "      <th>Heading</th>\n",
       "      <th>Review</th>\n",
       "      <th>Product</th>\n",
       "    </tr>\n",
       "  </thead>\n",
       "  <tbody>\n",
       "    <tr>\n",
       "      <th>0</th>\n",
       "      <td>0</td>\n",
       "      <td>5.0</td>\n",
       "      <td>Simply awesome</td>\n",
       "      <td>Phone is awesome no problem full paisa wasool ...</td>\n",
       "      <td>Smartphone</td>\n",
       "    </tr>\n",
       "    <tr>\n",
       "      <th>1</th>\n",
       "      <td>1</td>\n",
       "      <td>5.0</td>\n",
       "      <td>Perfect product!</td>\n",
       "      <td>Same As Expected From Moto! This is the Best v...</td>\n",
       "      <td>Smartphone</td>\n",
       "    </tr>\n",
       "    <tr>\n",
       "      <th>2</th>\n",
       "      <td>2</td>\n",
       "      <td>5.0</td>\n",
       "      <td>Awesome</td>\n",
       "      <td>Good value for money phone. Best past is this ...</td>\n",
       "      <td>Smartphone</td>\n",
       "    </tr>\n",
       "    <tr>\n",
       "      <th>3</th>\n",
       "      <td>3</td>\n",
       "      <td>NaN</td>\n",
       "      <td>NaN</td>\n",
       "      <td>NaN</td>\n",
       "      <td>Smartphone</td>\n",
       "    </tr>\n",
       "    <tr>\n",
       "      <th>4</th>\n",
       "      <td>4</td>\n",
       "      <td>NaN</td>\n",
       "      <td>NaN</td>\n",
       "      <td>NaN</td>\n",
       "      <td>Smartphone</td>\n",
       "    </tr>\n",
       "  </tbody>\n",
       "</table>\n",
       "</div>"
      ],
      "text/plain": [
       "   Unnamed: 0  Rating           Heading  \\\n",
       "0           0     5.0    Simply awesome   \n",
       "1           1     5.0  Perfect product!   \n",
       "2           2     5.0           Awesome   \n",
       "3           3     NaN               NaN   \n",
       "4           4     NaN               NaN   \n",
       "\n",
       "                                              Review     Product  \n",
       "0  Phone is awesome no problem full paisa wasool ...  Smartphone  \n",
       "1  Same As Expected From Moto! This is the Best v...  Smartphone  \n",
       "2  Good value for money phone. Best past is this ...  Smartphone  \n",
       "3                                                NaN  Smartphone  \n",
       "4                                                NaN  Smartphone  "
      ]
     },
     "execution_count": 1,
     "metadata": {},
     "output_type": "execute_result"
    }
   ],
   "source": [
    "#import the dataset\n",
    "import pandas as pd\n",
    "import numpy as np\n",
    "\n",
    "import warnings\n",
    "warnings.filterwarnings('ignore')\n",
    "pd.set_option('Display.max_columns',None)\n",
    "pd.set_option('Display.max_rows',None)\n",
    "\n",
    "df=pd.read_csv(\"Smartphone Rating.csv\")\n",
    "df.head()"
   ]
  },
  {
   "cell_type": "markdown",
   "id": "88314aee",
   "metadata": {},
   "source": [
    "#### Observations:\n",
    "* The feature unnamed is index. Hence we can drop this feature."
   ]
  },
  {
   "cell_type": "code",
   "execution_count": 2,
   "id": "69662b3e",
   "metadata": {},
   "outputs": [
    {
     "data": {
      "text/html": [
       "<div>\n",
       "<style scoped>\n",
       "    .dataframe tbody tr th:only-of-type {\n",
       "        vertical-align: middle;\n",
       "    }\n",
       "\n",
       "    .dataframe tbody tr th {\n",
       "        vertical-align: top;\n",
       "    }\n",
       "\n",
       "    .dataframe thead th {\n",
       "        text-align: right;\n",
       "    }\n",
       "</style>\n",
       "<table border=\"1\" class=\"dataframe\">\n",
       "  <thead>\n",
       "    <tr style=\"text-align: right;\">\n",
       "      <th></th>\n",
       "      <th>Rating</th>\n",
       "      <th>Heading</th>\n",
       "      <th>Review</th>\n",
       "      <th>Product</th>\n",
       "    </tr>\n",
       "  </thead>\n",
       "  <tbody>\n",
       "    <tr>\n",
       "      <th>0</th>\n",
       "      <td>5.0</td>\n",
       "      <td>Simply awesome</td>\n",
       "      <td>Phone is awesome no problem full paisa wasool ...</td>\n",
       "      <td>Smartphone</td>\n",
       "    </tr>\n",
       "    <tr>\n",
       "      <th>1</th>\n",
       "      <td>5.0</td>\n",
       "      <td>Perfect product!</td>\n",
       "      <td>Same As Expected From Moto! This is the Best v...</td>\n",
       "      <td>Smartphone</td>\n",
       "    </tr>\n",
       "    <tr>\n",
       "      <th>2</th>\n",
       "      <td>5.0</td>\n",
       "      <td>Awesome</td>\n",
       "      <td>Good value for money phone. Best past is this ...</td>\n",
       "      <td>Smartphone</td>\n",
       "    </tr>\n",
       "    <tr>\n",
       "      <th>3</th>\n",
       "      <td>NaN</td>\n",
       "      <td>NaN</td>\n",
       "      <td>NaN</td>\n",
       "      <td>Smartphone</td>\n",
       "    </tr>\n",
       "    <tr>\n",
       "      <th>4</th>\n",
       "      <td>NaN</td>\n",
       "      <td>NaN</td>\n",
       "      <td>NaN</td>\n",
       "      <td>Smartphone</td>\n",
       "    </tr>\n",
       "  </tbody>\n",
       "</table>\n",
       "</div>"
      ],
      "text/plain": [
       "   Rating           Heading  \\\n",
       "0     5.0    Simply awesome   \n",
       "1     5.0  Perfect product!   \n",
       "2     5.0           Awesome   \n",
       "3     NaN               NaN   \n",
       "4     NaN               NaN   \n",
       "\n",
       "                                              Review     Product  \n",
       "0  Phone is awesome no problem full paisa wasool ...  Smartphone  \n",
       "1  Same As Expected From Moto! This is the Best v...  Smartphone  \n",
       "2  Good value for money phone. Best past is this ...  Smartphone  \n",
       "3                                                NaN  Smartphone  \n",
       "4                                                NaN  Smartphone  "
      ]
     },
     "execution_count": 2,
     "metadata": {},
     "output_type": "execute_result"
    }
   ],
   "source": [
    "df.drop(['Unnamed: 0'], axis=1, inplace=True)\n",
    "df.head()"
   ]
  },
  {
   "cell_type": "markdown",
   "id": "6a3d6c3d",
   "metadata": {},
   "source": [
    "# Exploratory Data Analysis"
   ]
  },
  {
   "cell_type": "code",
   "execution_count": 3,
   "id": "5c7a129f",
   "metadata": {},
   "outputs": [
    {
     "data": {
      "text/plain": [
       "(20080, 4)"
      ]
     },
     "execution_count": 3,
     "metadata": {},
     "output_type": "execute_result"
    }
   ],
   "source": [
    "#check the dimensions of the data (Headphone)\n",
    "df.shape"
   ]
  },
  {
   "cell_type": "markdown",
   "id": "46f35542",
   "metadata": {},
   "source": [
    "#### Observations\n",
    "* The dataset has 20080 rows and 4 columns\n",
    "* The dataset has 1 label - 'Rating' and 3 features"
   ]
  },
  {
   "cell_type": "code",
   "execution_count": 4,
   "id": "a3f16b00",
   "metadata": {},
   "outputs": [
    {
     "data": {
      "text/plain": [
       "Index(['Rating', 'Heading', 'Review', 'Product'], dtype='object')"
      ]
     },
     "execution_count": 4,
     "metadata": {},
     "output_type": "execute_result"
    }
   ],
   "source": [
    "#check the names of columns in dataset\n",
    "df.columns"
   ]
  },
  {
   "cell_type": "code",
   "execution_count": 5,
   "id": "357da756",
   "metadata": {},
   "outputs": [
    {
     "data": {
      "text/plain": [
       "Rating     float64\n",
       "Heading     object\n",
       "Review      object\n",
       "Product     object\n",
       "dtype: object"
      ]
     },
     "execution_count": 5,
     "metadata": {},
     "output_type": "execute_result"
    }
   ],
   "source": [
    "#check the datatype of each feature\n",
    "df.dtypes"
   ]
  },
  {
   "cell_type": "markdown",
   "id": "e6a143e0",
   "metadata": {},
   "source": [
    "#### Observations:\n",
    "   * All the feratures are of \"object\" data type."
   ]
  },
  {
   "cell_type": "code",
   "execution_count": 6,
   "id": "e5f4f895",
   "metadata": {},
   "outputs": [
    {
     "data": {
      "text/plain": [
       "Rating     1291\n",
       "Heading    1279\n",
       "Review     1279\n",
       "Product       0\n",
       "dtype: int64"
      ]
     },
     "execution_count": 6,
     "metadata": {},
     "output_type": "execute_result"
    }
   ],
   "source": [
    "#checking if there are any null values in the dataset\n",
    "df.isna().sum()"
   ]
  },
  {
   "cell_type": "code",
   "execution_count": 7,
   "id": "83ef6c46",
   "metadata": {},
   "outputs": [],
   "source": [
    "#dropping all numm values\n",
    "df.dropna(inplace=True)"
   ]
  },
  {
   "cell_type": "code",
   "execution_count": 8,
   "id": "9f9c341a",
   "metadata": {},
   "outputs": [
    {
     "data": {
      "text/plain": [
       "Rating     0\n",
       "Heading    0\n",
       "Review     0\n",
       "Product    0\n",
       "dtype: int64"
      ]
     },
     "execution_count": 8,
     "metadata": {},
     "output_type": "execute_result"
    }
   ],
   "source": [
    "#cross checking null values\n",
    "df.isna().sum()"
   ]
  },
  {
   "cell_type": "code",
   "execution_count": 9,
   "id": "1a0ef9f5",
   "metadata": {},
   "outputs": [
    {
     "data": {
      "text/plain": [
       "(18789, 4)"
      ]
     },
     "execution_count": 9,
     "metadata": {},
     "output_type": "execute_result"
    }
   ],
   "source": [
    "df.shape"
   ]
  },
  {
   "cell_type": "markdown",
   "id": "bf3fa3b4",
   "metadata": {},
   "source": [
    "#### Observations:\n",
    "* There are 18789 rows in the dataset"
   ]
  },
  {
   "cell_type": "code",
   "execution_count": 10,
   "id": "7ff52a48",
   "metadata": {},
   "outputs": [
    {
     "data": {
      "text/plain": [
       "5.0    10414\n",
       "4.0     4458\n",
       "3.0     1763\n",
       "1.0     1488\n",
       "2.0      666\n",
       "Name: Rating, dtype: int64"
      ]
     },
     "execution_count": 10,
     "metadata": {},
     "output_type": "execute_result"
    }
   ],
   "source": [
    "df['Rating'].value_counts()"
   ]
  },
  {
   "cell_type": "markdown",
   "id": "dceebfc1",
   "metadata": {},
   "source": [
    "#### Observations:\n",
    "* The ratings are inbalanced. \n",
    "* Most of the ratings are 5 star."
   ]
  },
  {
   "cell_type": "code",
   "execution_count": 11,
   "id": "3495e55f",
   "metadata": {},
   "outputs": [
    {
     "data": {
      "text/plain": [
       "Rating         5\n",
       "Heading      170\n",
       "Review     11324\n",
       "Product        1\n",
       "dtype: int64"
      ]
     },
     "execution_count": 11,
     "metadata": {},
     "output_type": "execute_result"
    }
   ],
   "source": [
    "#check number of unique values in each class;\n",
    "df.nunique()"
   ]
  },
  {
   "cell_type": "markdown",
   "id": "464a9a15",
   "metadata": {},
   "source": [
    "#### Observations:\n",
    "* The label rating has 5 unique values: 1, 2, 3, 4, 5\n",
    "* The headings can be duplicate as it is kind of summary of the review.\n",
    "* The reviews should be unique. Hence, we will drop the duplicate reviews to avoid over-fitting."
   ]
  },
  {
   "cell_type": "code",
   "execution_count": 12,
   "id": "44ab814b",
   "metadata": {},
   "outputs": [],
   "source": [
    "df.drop_duplicates(subset='Review', inplace=True)"
   ]
  },
  {
   "cell_type": "code",
   "execution_count": 13,
   "id": "b40a4a31",
   "metadata": {},
   "outputs": [
    {
     "name": "stdout",
     "output_type": "stream",
     "text": [
      "(11324, 4)\n",
      "Rating         5\n",
      "Heading      168\n",
      "Review     11324\n",
      "Product        1\n",
      "dtype: int64\n"
     ]
    }
   ],
   "source": [
    "#cross checking for diplicacy of reviews\n",
    "print(df.shape)\n",
    "print(df.nunique())"
   ]
  },
  {
   "cell_type": "markdown",
   "id": "0bbbfa7b",
   "metadata": {},
   "source": [
    "#### Observations:\n",
    "* We have 11324 unique reviews for laptops\n",
    "* There are only 168 unique headings in the data set.\n",
    "* If the classification is to be done based on the heading, then only unique headings must be considered.\n",
    "* In the model building stage we will classfiy from unique headings as well."
   ]
  },
  {
   "cell_type": "code",
   "execution_count": 14,
   "id": "29f4e94c",
   "metadata": {},
   "outputs": [
    {
     "data": {
      "text/html": [
       "<div>\n",
       "<style scoped>\n",
       "    .dataframe tbody tr th:only-of-type {\n",
       "        vertical-align: middle;\n",
       "    }\n",
       "\n",
       "    .dataframe tbody tr th {\n",
       "        vertical-align: top;\n",
       "    }\n",
       "\n",
       "    .dataframe thead th {\n",
       "        text-align: right;\n",
       "    }\n",
       "</style>\n",
       "<table border=\"1\" class=\"dataframe\">\n",
       "  <thead>\n",
       "    <tr style=\"text-align: right;\">\n",
       "      <th></th>\n",
       "      <th>Rating</th>\n",
       "      <th>Heading</th>\n",
       "      <th>Review</th>\n",
       "      <th>Product</th>\n",
       "      <th>Review_word_counter</th>\n",
       "    </tr>\n",
       "  </thead>\n",
       "  <tbody>\n",
       "    <tr>\n",
       "      <th>0</th>\n",
       "      <td>5.0</td>\n",
       "      <td>Simply awesome</td>\n",
       "      <td>Phone is awesome no problem full paisa wasool ...</td>\n",
       "      <td>Smartphone</td>\n",
       "      <td>500</td>\n",
       "    </tr>\n",
       "    <tr>\n",
       "      <th>1</th>\n",
       "      <td>5.0</td>\n",
       "      <td>Perfect product!</td>\n",
       "      <td>Same As Expected From Moto! This is the Best v...</td>\n",
       "      <td>Smartphone</td>\n",
       "      <td>219</td>\n",
       "    </tr>\n",
       "    <tr>\n",
       "      <th>2</th>\n",
       "      <td>5.0</td>\n",
       "      <td>Awesome</td>\n",
       "      <td>Good value for money phone. Best past is this ...</td>\n",
       "      <td>Smartphone</td>\n",
       "      <td>133</td>\n",
       "    </tr>\n",
       "    <tr>\n",
       "      <th>12</th>\n",
       "      <td>4.0</td>\n",
       "      <td>Worth the money</td>\n",
       "      <td>This mobile low budget in a good phone .\\nGood...</td>\n",
       "      <td>Smartphone</td>\n",
       "      <td>133</td>\n",
       "    </tr>\n",
       "    <tr>\n",
       "      <th>13</th>\n",
       "      <td>4.0</td>\n",
       "      <td>Value-for-money</td>\n",
       "      <td>Rear Camera will be better with updates .but t...</td>\n",
       "      <td>Smartphone</td>\n",
       "      <td>398</td>\n",
       "    </tr>\n",
       "  </tbody>\n",
       "</table>\n",
       "</div>"
      ],
      "text/plain": [
       "    Rating           Heading  \\\n",
       "0      5.0    Simply awesome   \n",
       "1      5.0  Perfect product!   \n",
       "2      5.0           Awesome   \n",
       "12     4.0   Worth the money   \n",
       "13     4.0   Value-for-money   \n",
       "\n",
       "                                               Review     Product  \\\n",
       "0   Phone is awesome no problem full paisa wasool ...  Smartphone   \n",
       "1   Same As Expected From Moto! This is the Best v...  Smartphone   \n",
       "2   Good value for money phone. Best past is this ...  Smartphone   \n",
       "12  This mobile low budget in a good phone .\\nGood...  Smartphone   \n",
       "13  Rear Camera will be better with updates .but t...  Smartphone   \n",
       "\n",
       "    Review_word_counter  \n",
       "0                   500  \n",
       "1                   219  \n",
       "2                   133  \n",
       "12                  133  \n",
       "13                  398  "
      ]
     },
     "execution_count": 14,
     "metadata": {},
     "output_type": "execute_result"
    }
   ],
   "source": [
    "#checking the length of review\n",
    "df['Review_word_counter']=df['Review'].str.strip().str.len()\n",
    "df.head()"
   ]
  },
  {
   "cell_type": "code",
   "execution_count": 15,
   "id": "14bd408a",
   "metadata": {},
   "outputs": [],
   "source": [
    "from sklearn.utils import shuffle\n",
    "df=shuffle(df)\n",
    "df.reset_index(inplace=True,drop=True)"
   ]
  },
  {
   "cell_type": "code",
   "execution_count": 16,
   "id": "f973560f",
   "metadata": {},
   "outputs": [
    {
     "data": {
      "text/html": [
       "<div>\n",
       "<style scoped>\n",
       "    .dataframe tbody tr th:only-of-type {\n",
       "        vertical-align: middle;\n",
       "    }\n",
       "\n",
       "    .dataframe tbody tr th {\n",
       "        vertical-align: top;\n",
       "    }\n",
       "\n",
       "    .dataframe thead th {\n",
       "        text-align: right;\n",
       "    }\n",
       "</style>\n",
       "<table border=\"1\" class=\"dataframe\">\n",
       "  <thead>\n",
       "    <tr style=\"text-align: right;\">\n",
       "      <th></th>\n",
       "      <th>Rating</th>\n",
       "      <th>Heading</th>\n",
       "      <th>Review</th>\n",
       "      <th>Product</th>\n",
       "      <th>Review_word_counter</th>\n",
       "    </tr>\n",
       "  </thead>\n",
       "  <tbody>\n",
       "    <tr>\n",
       "      <th>0</th>\n",
       "      <td>4.0</td>\n",
       "      <td>Delightful</td>\n",
       "      <td>Great Budget Smartphone</td>\n",
       "      <td>Smartphone</td>\n",
       "      <td>23</td>\n",
       "    </tr>\n",
       "    <tr>\n",
       "      <th>1</th>\n",
       "      <td>1.0</td>\n",
       "      <td>Useless product</td>\n",
       "      <td>Bad battery and charger is slo</td>\n",
       "      <td>Smartphone</td>\n",
       "      <td>30</td>\n",
       "    </tr>\n",
       "    <tr>\n",
       "      <th>2</th>\n",
       "      <td>5.0</td>\n",
       "      <td>Great product</td>\n",
       "      <td>Weight must be minimised</td>\n",
       "      <td>Smartphone</td>\n",
       "      <td>24</td>\n",
       "    </tr>\n",
       "    <tr>\n",
       "      <th>3</th>\n",
       "      <td>5.0</td>\n",
       "      <td>Fabulous!</td>\n",
       "      <td>Best in money in</td>\n",
       "      <td>Smartphone</td>\n",
       "      <td>16</td>\n",
       "    </tr>\n",
       "    <tr>\n",
       "      <th>4</th>\n",
       "      <td>4.0</td>\n",
       "      <td>Good choice</td>\n",
       "      <td>Very good and nice</td>\n",
       "      <td>Smartphone</td>\n",
       "      <td>18</td>\n",
       "    </tr>\n",
       "  </tbody>\n",
       "</table>\n",
       "</div>"
      ],
      "text/plain": [
       "   Rating          Heading                          Review     Product  \\\n",
       "0     4.0       Delightful         Great Budget Smartphone  Smartphone   \n",
       "1     1.0  Useless product  Bad battery and charger is slo  Smartphone   \n",
       "2     5.0    Great product        Weight must be minimised  Smartphone   \n",
       "3     5.0        Fabulous!                Best in money in  Smartphone   \n",
       "4     4.0      Good choice              Very good and nice  Smartphone   \n",
       "\n",
       "   Review_word_counter  \n",
       "0                   23  \n",
       "1                   30  \n",
       "2                   24  \n",
       "3                   16  \n",
       "4                   18  "
      ]
     },
     "execution_count": 16,
     "metadata": {},
     "output_type": "execute_result"
    }
   ],
   "source": [
    "df.head()"
   ]
  },
  {
   "cell_type": "markdown",
   "id": "4682a746",
   "metadata": {},
   "source": [
    "### Exploratory Data Analysis"
   ]
  },
  {
   "cell_type": "code",
   "execution_count": 17,
   "id": "0ab29561",
   "metadata": {},
   "outputs": [
    {
     "data": {
      "text/plain": [
       "(11324, 5)"
      ]
     },
     "execution_count": 17,
     "metadata": {},
     "output_type": "execute_result"
    }
   ],
   "source": [
    "#check the dimensions of the data\n",
    "df.shape"
   ]
  },
  {
   "cell_type": "markdown",
   "id": "11c8d2c5",
   "metadata": {},
   "source": [
    "#### Observtions:\n",
    "* The dataset has 11324 rows and 4 columns"
   ]
  },
  {
   "cell_type": "code",
   "execution_count": 18,
   "id": "6c2d41b8",
   "metadata": {},
   "outputs": [
    {
     "data": {
      "text/plain": [
       "Index(['Rating', 'Heading', 'Review', 'Product', 'Review_word_counter'], dtype='object')"
      ]
     },
     "execution_count": 18,
     "metadata": {},
     "output_type": "execute_result"
    }
   ],
   "source": [
    "#check the names of columns in dataset\n",
    "df.columns"
   ]
  },
  {
   "cell_type": "code",
   "execution_count": 19,
   "id": "f8dd2aac",
   "metadata": {},
   "outputs": [
    {
     "data": {
      "text/plain": [
       "Rating                 float64\n",
       "Heading                 object\n",
       "Review                  object\n",
       "Product                 object\n",
       "Review_word_counter      int64\n",
       "dtype: object"
      ]
     },
     "execution_count": 19,
     "metadata": {},
     "output_type": "execute_result"
    }
   ],
   "source": [
    "#check the datatype of each feature\n",
    "df.dtypes"
   ]
  },
  {
   "cell_type": "markdown",
   "id": "c8907234",
   "metadata": {},
   "source": [
    "#### Observations:\n",
    "   * There are three columns with \"object\" data type they are \"Heading\", \"Review\" and \"Product\".\n",
    "   * There is one column (label) with float data type."
   ]
  },
  {
   "cell_type": "code",
   "execution_count": 20,
   "id": "7da6439f",
   "metadata": {},
   "outputs": [
    {
     "data": {
      "text/plain": [
       "Rating                 0\n",
       "Heading                0\n",
       "Review                 0\n",
       "Product                0\n",
       "Review_word_counter    0\n",
       "dtype: int64"
      ]
     },
     "execution_count": 20,
     "metadata": {},
     "output_type": "execute_result"
    }
   ],
   "source": [
    "#checking if there are any null values in the dataset\n",
    "df.isnull().sum()"
   ]
  },
  {
   "cell_type": "markdown",
   "id": "85fbf7c1",
   "metadata": {},
   "source": [
    "#### Observations:\n",
    "   * There are no null values in the entire dataset"
   ]
  },
  {
   "cell_type": "code",
   "execution_count": 21,
   "id": "f6d86097",
   "metadata": {},
   "outputs": [
    {
     "data": {
      "text/plain": [
       "5.0    5637\n",
       "4.0    2562\n",
       "1.0    1350\n",
       "3.0    1208\n",
       "2.0     567\n",
       "Name: Rating, dtype: int64"
      ]
     },
     "execution_count": 21,
     "metadata": {},
     "output_type": "execute_result"
    }
   ],
   "source": [
    "df['Rating'].value_counts()"
   ]
  },
  {
   "cell_type": "markdown",
   "id": "3286e46c",
   "metadata": {},
   "source": [
    "#### Observations:\n",
    "* There are more number of 5 star rated reviews.\n",
    "* There are very less number of 2 star rated reviews.\n",
    "* The data set is not perfectly balanced."
   ]
  },
  {
   "cell_type": "code",
   "execution_count": 22,
   "id": "1c271eee",
   "metadata": {},
   "outputs": [],
   "source": [
    "#Separation of rating as different labels.\n",
    "df['1 Star']=df.apply(lambda x: 1 if x['Rating']==1 else 0, axis=1)\n",
    "df['2 Star']=df.apply(lambda x: 1 if x['Rating']==2 else 0, axis=1)\n",
    "df['3 Star']=df.apply(lambda x: 1 if x['Rating']==3 else 0, axis=1)\n",
    "df['4 Star']=df.apply(lambda x: 1 if x['Rating']==4 else 0, axis=1)\n",
    "df['5 Star']=df.apply(lambda x: 1 if x['Rating']==5 else 0, axis=1)"
   ]
  },
  {
   "cell_type": "code",
   "execution_count": 23,
   "id": "7c10e84e",
   "metadata": {},
   "outputs": [
    {
     "data": {
      "text/html": [
       "<div>\n",
       "<style scoped>\n",
       "    .dataframe tbody tr th:only-of-type {\n",
       "        vertical-align: middle;\n",
       "    }\n",
       "\n",
       "    .dataframe tbody tr th {\n",
       "        vertical-align: top;\n",
       "    }\n",
       "\n",
       "    .dataframe thead th {\n",
       "        text-align: right;\n",
       "    }\n",
       "</style>\n",
       "<table border=\"1\" class=\"dataframe\">\n",
       "  <thead>\n",
       "    <tr style=\"text-align: right;\">\n",
       "      <th></th>\n",
       "      <th>Rating</th>\n",
       "      <th>Heading</th>\n",
       "      <th>Review</th>\n",
       "      <th>Product</th>\n",
       "      <th>Review_word_counter</th>\n",
       "      <th>1 Star</th>\n",
       "      <th>2 Star</th>\n",
       "      <th>3 Star</th>\n",
       "      <th>4 Star</th>\n",
       "      <th>5 Star</th>\n",
       "    </tr>\n",
       "  </thead>\n",
       "  <tbody>\n",
       "    <tr>\n",
       "      <th>0</th>\n",
       "      <td>4.0</td>\n",
       "      <td>Delightful</td>\n",
       "      <td>Great Budget Smartphone</td>\n",
       "      <td>Smartphone</td>\n",
       "      <td>23</td>\n",
       "      <td>0</td>\n",
       "      <td>0</td>\n",
       "      <td>0</td>\n",
       "      <td>1</td>\n",
       "      <td>0</td>\n",
       "    </tr>\n",
       "    <tr>\n",
       "      <th>1</th>\n",
       "      <td>1.0</td>\n",
       "      <td>Useless product</td>\n",
       "      <td>Bad battery and charger is slo</td>\n",
       "      <td>Smartphone</td>\n",
       "      <td>30</td>\n",
       "      <td>1</td>\n",
       "      <td>0</td>\n",
       "      <td>0</td>\n",
       "      <td>0</td>\n",
       "      <td>0</td>\n",
       "    </tr>\n",
       "    <tr>\n",
       "      <th>2</th>\n",
       "      <td>5.0</td>\n",
       "      <td>Great product</td>\n",
       "      <td>Weight must be minimised</td>\n",
       "      <td>Smartphone</td>\n",
       "      <td>24</td>\n",
       "      <td>0</td>\n",
       "      <td>0</td>\n",
       "      <td>0</td>\n",
       "      <td>0</td>\n",
       "      <td>1</td>\n",
       "    </tr>\n",
       "    <tr>\n",
       "      <th>3</th>\n",
       "      <td>5.0</td>\n",
       "      <td>Fabulous!</td>\n",
       "      <td>Best in money in</td>\n",
       "      <td>Smartphone</td>\n",
       "      <td>16</td>\n",
       "      <td>0</td>\n",
       "      <td>0</td>\n",
       "      <td>0</td>\n",
       "      <td>0</td>\n",
       "      <td>1</td>\n",
       "    </tr>\n",
       "    <tr>\n",
       "      <th>4</th>\n",
       "      <td>4.0</td>\n",
       "      <td>Good choice</td>\n",
       "      <td>Very good and nice</td>\n",
       "      <td>Smartphone</td>\n",
       "      <td>18</td>\n",
       "      <td>0</td>\n",
       "      <td>0</td>\n",
       "      <td>0</td>\n",
       "      <td>1</td>\n",
       "      <td>0</td>\n",
       "    </tr>\n",
       "    <tr>\n",
       "      <th>5</th>\n",
       "      <td>5.0</td>\n",
       "      <td>Awesome</td>\n",
       "      <td>Super phone ameging</td>\n",
       "      <td>Smartphone</td>\n",
       "      <td>19</td>\n",
       "      <td>0</td>\n",
       "      <td>0</td>\n",
       "      <td>0</td>\n",
       "      <td>0</td>\n",
       "      <td>1</td>\n",
       "    </tr>\n",
       "    <tr>\n",
       "      <th>6</th>\n",
       "      <td>2.0</td>\n",
       "      <td>Expected a better product</td>\n",
       "      <td>Camera quality is disgusting and the screen li...</td>\n",
       "      <td>Smartphone</td>\n",
       "      <td>59</td>\n",
       "      <td>0</td>\n",
       "      <td>1</td>\n",
       "      <td>0</td>\n",
       "      <td>0</td>\n",
       "      <td>0</td>\n",
       "    </tr>\n",
       "    <tr>\n",
       "      <th>7</th>\n",
       "      <td>5.0</td>\n",
       "      <td>Best in the market!</td>\n",
       "      <td>Nice product❤</td>\n",
       "      <td>Smartphone</td>\n",
       "      <td>13</td>\n",
       "      <td>0</td>\n",
       "      <td>0</td>\n",
       "      <td>0</td>\n",
       "      <td>0</td>\n",
       "      <td>1</td>\n",
       "    </tr>\n",
       "    <tr>\n",
       "      <th>8</th>\n",
       "      <td>5.0</td>\n",
       "      <td>Terrific</td>\n",
       "      <td>Extremely happy with this product.</td>\n",
       "      <td>Smartphone</td>\n",
       "      <td>34</td>\n",
       "      <td>0</td>\n",
       "      <td>0</td>\n",
       "      <td>0</td>\n",
       "      <td>0</td>\n",
       "      <td>1</td>\n",
       "    </tr>\n",
       "    <tr>\n",
       "      <th>9</th>\n",
       "      <td>5.0</td>\n",
       "      <td>Perfect product!</td>\n",
       "      <td>Best moto phone</td>\n",
       "      <td>Smartphone</td>\n",
       "      <td>15</td>\n",
       "      <td>0</td>\n",
       "      <td>0</td>\n",
       "      <td>0</td>\n",
       "      <td>0</td>\n",
       "      <td>1</td>\n",
       "    </tr>\n",
       "    <tr>\n",
       "      <th>10</th>\n",
       "      <td>5.0</td>\n",
       "      <td>Must buy!</td>\n",
       "      <td>Good features and value for money.</td>\n",
       "      <td>Smartphone</td>\n",
       "      <td>34</td>\n",
       "      <td>0</td>\n",
       "      <td>0</td>\n",
       "      <td>0</td>\n",
       "      <td>0</td>\n",
       "      <td>1</td>\n",
       "    </tr>\n",
       "    <tr>\n",
       "      <th>11</th>\n",
       "      <td>5.0</td>\n",
       "      <td>Wonderful</td>\n",
       "      <td>First of all thankyou flipkart for fast deleve...</td>\n",
       "      <td>Smartphone</td>\n",
       "      <td>306</td>\n",
       "      <td>0</td>\n",
       "      <td>0</td>\n",
       "      <td>0</td>\n",
       "      <td>0</td>\n",
       "      <td>1</td>\n",
       "    </tr>\n",
       "    <tr>\n",
       "      <th>12</th>\n",
       "      <td>5.0</td>\n",
       "      <td>Awesome</td>\n",
       "      <td>Back cover</td>\n",
       "      <td>Smartphone</td>\n",
       "      <td>10</td>\n",
       "      <td>0</td>\n",
       "      <td>0</td>\n",
       "      <td>0</td>\n",
       "      <td>0</td>\n",
       "      <td>1</td>\n",
       "    </tr>\n",
       "    <tr>\n",
       "      <th>13</th>\n",
       "      <td>3.0</td>\n",
       "      <td>Does the job</td>\n",
       "      <td>The phone is perfect for light use.I have boug...</td>\n",
       "      <td>Smartphone</td>\n",
       "      <td>302</td>\n",
       "      <td>0</td>\n",
       "      <td>0</td>\n",
       "      <td>1</td>\n",
       "      <td>0</td>\n",
       "      <td>0</td>\n",
       "    </tr>\n",
       "    <tr>\n",
       "      <th>14</th>\n",
       "      <td>4.0</td>\n",
       "      <td>Worth the money</td>\n",
       "      <td>Very comfortable grip</td>\n",
       "      <td>Smartphone</td>\n",
       "      <td>21</td>\n",
       "      <td>0</td>\n",
       "      <td>0</td>\n",
       "      <td>0</td>\n",
       "      <td>1</td>\n",
       "      <td>0</td>\n",
       "    </tr>\n",
       "    <tr>\n",
       "      <th>15</th>\n",
       "      <td>3.0</td>\n",
       "      <td>Just okay</td>\n",
       "      <td>Phone is good on the basis of battery and back...</td>\n",
       "      <td>Smartphone</td>\n",
       "      <td>498</td>\n",
       "      <td>0</td>\n",
       "      <td>0</td>\n",
       "      <td>1</td>\n",
       "      <td>0</td>\n",
       "      <td>0</td>\n",
       "    </tr>\n",
       "    <tr>\n",
       "      <th>16</th>\n",
       "      <td>5.0</td>\n",
       "      <td>Perfect product!</td>\n",
       "      <td>Very nice mobile. Oppo is best</td>\n",
       "      <td>Smartphone</td>\n",
       "      <td>30</td>\n",
       "      <td>0</td>\n",
       "      <td>0</td>\n",
       "      <td>0</td>\n",
       "      <td>0</td>\n",
       "      <td>1</td>\n",
       "    </tr>\n",
       "    <tr>\n",
       "      <th>17</th>\n",
       "      <td>5.0</td>\n",
       "      <td>Great product</td>\n",
       "      <td>It has been 2 months since i am using this and...</td>\n",
       "      <td>Smartphone</td>\n",
       "      <td>78</td>\n",
       "      <td>0</td>\n",
       "      <td>0</td>\n",
       "      <td>0</td>\n",
       "      <td>0</td>\n",
       "      <td>1</td>\n",
       "    </tr>\n",
       "    <tr>\n",
       "      <th>18</th>\n",
       "      <td>5.0</td>\n",
       "      <td>Great product</td>\n",
       "      <td>Look premium.... All over nice phone at this p...</td>\n",
       "      <td>Smartphone</td>\n",
       "      <td>55</td>\n",
       "      <td>0</td>\n",
       "      <td>0</td>\n",
       "      <td>0</td>\n",
       "      <td>0</td>\n",
       "      <td>1</td>\n",
       "    </tr>\n",
       "    <tr>\n",
       "      <th>19</th>\n",
       "      <td>5.0</td>\n",
       "      <td>Just wow!</td>\n",
       "      <td>This phone is best in this price\\nCamera very ...</td>\n",
       "      <td>Smartphone</td>\n",
       "      <td>175</td>\n",
       "      <td>0</td>\n",
       "      <td>0</td>\n",
       "      <td>0</td>\n",
       "      <td>0</td>\n",
       "      <td>1</td>\n",
       "    </tr>\n",
       "  </tbody>\n",
       "</table>\n",
       "</div>"
      ],
      "text/plain": [
       "    Rating                    Heading  \\\n",
       "0      4.0                 Delightful   \n",
       "1      1.0            Useless product   \n",
       "2      5.0              Great product   \n",
       "3      5.0                  Fabulous!   \n",
       "4      4.0                Good choice   \n",
       "5      5.0                    Awesome   \n",
       "6      2.0  Expected a better product   \n",
       "7      5.0        Best in the market!   \n",
       "8      5.0                   Terrific   \n",
       "9      5.0           Perfect product!   \n",
       "10     5.0                  Must buy!   \n",
       "11     5.0                  Wonderful   \n",
       "12     5.0                    Awesome   \n",
       "13     3.0               Does the job   \n",
       "14     4.0            Worth the money   \n",
       "15     3.0                  Just okay   \n",
       "16     5.0           Perfect product!   \n",
       "17     5.0              Great product   \n",
       "18     5.0              Great product   \n",
       "19     5.0                  Just wow!   \n",
       "\n",
       "                                               Review     Product  \\\n",
       "0                             Great Budget Smartphone  Smartphone   \n",
       "1                      Bad battery and charger is slo  Smartphone   \n",
       "2                            Weight must be minimised  Smartphone   \n",
       "3                                    Best in money in  Smartphone   \n",
       "4                                  Very good and nice  Smartphone   \n",
       "5                                 Super phone ameging  Smartphone   \n",
       "6   Camera quality is disgusting and the screen li...  Smartphone   \n",
       "7                                       Nice product❤  Smartphone   \n",
       "8                  Extremely happy with this product.  Smartphone   \n",
       "9                                     Best moto phone  Smartphone   \n",
       "10                 Good features and value for money.  Smartphone   \n",
       "11  First of all thankyou flipkart for fast deleve...  Smartphone   \n",
       "12                                         Back cover  Smartphone   \n",
       "13  The phone is perfect for light use.I have boug...  Smartphone   \n",
       "14                              Very comfortable grip  Smartphone   \n",
       "15  Phone is good on the basis of battery and back...  Smartphone   \n",
       "16                     Very nice mobile. Oppo is best  Smartphone   \n",
       "17  It has been 2 months since i am using this and...  Smartphone   \n",
       "18  Look premium.... All over nice phone at this p...  Smartphone   \n",
       "19  This phone is best in this price\\nCamera very ...  Smartphone   \n",
       "\n",
       "    Review_word_counter  1 Star  2 Star  3 Star  4 Star  5 Star  \n",
       "0                    23       0       0       0       1       0  \n",
       "1                    30       1       0       0       0       0  \n",
       "2                    24       0       0       0       0       1  \n",
       "3                    16       0       0       0       0       1  \n",
       "4                    18       0       0       0       1       0  \n",
       "5                    19       0       0       0       0       1  \n",
       "6                    59       0       1       0       0       0  \n",
       "7                    13       0       0       0       0       1  \n",
       "8                    34       0       0       0       0       1  \n",
       "9                    15       0       0       0       0       1  \n",
       "10                   34       0       0       0       0       1  \n",
       "11                  306       0       0       0       0       1  \n",
       "12                   10       0       0       0       0       1  \n",
       "13                  302       0       0       1       0       0  \n",
       "14                   21       0       0       0       1       0  \n",
       "15                  498       0       0       1       0       0  \n",
       "16                   30       0       0       0       0       1  \n",
       "17                   78       0       0       0       0       1  \n",
       "18                   55       0       0       0       0       1  \n",
       "19                  175       0       0       0       0       1  "
      ]
     },
     "execution_count": 23,
     "metadata": {},
     "output_type": "execute_result"
    }
   ],
   "source": [
    "df.head(20)"
   ]
  },
  {
   "cell_type": "code",
   "execution_count": 24,
   "id": "54521371",
   "metadata": {},
   "outputs": [],
   "source": [
    "df.drop(['Rating'], axis=1, inplace= True)"
   ]
  },
  {
   "cell_type": "code",
   "execution_count": 25,
   "id": "12822ed8",
   "metadata": {},
   "outputs": [
    {
     "data": {
      "text/html": [
       "<div>\n",
       "<style scoped>\n",
       "    .dataframe tbody tr th:only-of-type {\n",
       "        vertical-align: middle;\n",
       "    }\n",
       "\n",
       "    .dataframe tbody tr th {\n",
       "        vertical-align: top;\n",
       "    }\n",
       "\n",
       "    .dataframe thead th {\n",
       "        text-align: right;\n",
       "    }\n",
       "</style>\n",
       "<table border=\"1\" class=\"dataframe\">\n",
       "  <thead>\n",
       "    <tr style=\"text-align: right;\">\n",
       "      <th></th>\n",
       "      <th>Review_word_counter</th>\n",
       "      <th>1 Star</th>\n",
       "      <th>2 Star</th>\n",
       "      <th>3 Star</th>\n",
       "      <th>4 Star</th>\n",
       "      <th>5 Star</th>\n",
       "    </tr>\n",
       "  </thead>\n",
       "  <tbody>\n",
       "    <tr>\n",
       "      <th>count</th>\n",
       "      <td>11324.000000</td>\n",
       "      <td>11324.000000</td>\n",
       "      <td>11324.000000</td>\n",
       "      <td>11324.000000</td>\n",
       "      <td>11324.000000</td>\n",
       "      <td>11324.000000</td>\n",
       "    </tr>\n",
       "    <tr>\n",
       "      <th>mean</th>\n",
       "      <td>81.453020</td>\n",
       "      <td>0.119216</td>\n",
       "      <td>0.050071</td>\n",
       "      <td>0.106676</td>\n",
       "      <td>0.226245</td>\n",
       "      <td>0.497792</td>\n",
       "    </tr>\n",
       "    <tr>\n",
       "      <th>std</th>\n",
       "      <td>106.361355</td>\n",
       "      <td>0.324057</td>\n",
       "      <td>0.218100</td>\n",
       "      <td>0.308715</td>\n",
       "      <td>0.418418</td>\n",
       "      <td>0.500017</td>\n",
       "    </tr>\n",
       "    <tr>\n",
       "      <th>min</th>\n",
       "      <td>2.000000</td>\n",
       "      <td>0.000000</td>\n",
       "      <td>0.000000</td>\n",
       "      <td>0.000000</td>\n",
       "      <td>0.000000</td>\n",
       "      <td>0.000000</td>\n",
       "    </tr>\n",
       "    <tr>\n",
       "      <th>25%</th>\n",
       "      <td>21.000000</td>\n",
       "      <td>0.000000</td>\n",
       "      <td>0.000000</td>\n",
       "      <td>0.000000</td>\n",
       "      <td>0.000000</td>\n",
       "      <td>0.000000</td>\n",
       "    </tr>\n",
       "    <tr>\n",
       "      <th>50%</th>\n",
       "      <td>39.000000</td>\n",
       "      <td>0.000000</td>\n",
       "      <td>0.000000</td>\n",
       "      <td>0.000000</td>\n",
       "      <td>0.000000</td>\n",
       "      <td>0.000000</td>\n",
       "    </tr>\n",
       "    <tr>\n",
       "      <th>75%</th>\n",
       "      <td>91.000000</td>\n",
       "      <td>0.000000</td>\n",
       "      <td>0.000000</td>\n",
       "      <td>0.000000</td>\n",
       "      <td>0.000000</td>\n",
       "      <td>1.000000</td>\n",
       "    </tr>\n",
       "    <tr>\n",
       "      <th>max</th>\n",
       "      <td>510.000000</td>\n",
       "      <td>1.000000</td>\n",
       "      <td>1.000000</td>\n",
       "      <td>1.000000</td>\n",
       "      <td>1.000000</td>\n",
       "      <td>1.000000</td>\n",
       "    </tr>\n",
       "  </tbody>\n",
       "</table>\n",
       "</div>"
      ],
      "text/plain": [
       "       Review_word_counter        1 Star        2 Star        3 Star  \\\n",
       "count         11324.000000  11324.000000  11324.000000  11324.000000   \n",
       "mean             81.453020      0.119216      0.050071      0.106676   \n",
       "std             106.361355      0.324057      0.218100      0.308715   \n",
       "min               2.000000      0.000000      0.000000      0.000000   \n",
       "25%              21.000000      0.000000      0.000000      0.000000   \n",
       "50%              39.000000      0.000000      0.000000      0.000000   \n",
       "75%              91.000000      0.000000      0.000000      0.000000   \n",
       "max             510.000000      1.000000      1.000000      1.000000   \n",
       "\n",
       "             4 Star        5 Star  \n",
       "count  11324.000000  11324.000000  \n",
       "mean       0.226245      0.497792  \n",
       "std        0.418418      0.500017  \n",
       "min        0.000000      0.000000  \n",
       "25%        0.000000      0.000000  \n",
       "50%        0.000000      0.000000  \n",
       "75%        0.000000      1.000000  \n",
       "max        1.000000      1.000000  "
      ]
     },
     "execution_count": 25,
     "metadata": {},
     "output_type": "execute_result"
    }
   ],
   "source": [
    "#statistical analysis\n",
    "df.describe()"
   ]
  },
  {
   "cell_type": "markdown",
   "id": "1581eb87",
   "metadata": {},
   "source": [
    "#### Observations\n",
    " * For all the labels the minimum value is zero and maximum is 1. As there are only binary classes deviations cannot be studied"
   ]
  },
  {
   "cell_type": "code",
   "execution_count": 26,
   "id": "3a8d473f",
   "metadata": {},
   "outputs": [
    {
     "data": {
      "text/plain": [
       "Review_word_counter    2.501052\n",
       "1 Star                 2.350524\n",
       "2 Star                 4.126621\n",
       "3 Star                 2.548589\n",
       "4 Star                 1.308754\n",
       "5 Star                 0.008832\n",
       "dtype: float64"
      ]
     },
     "execution_count": 26,
     "metadata": {},
     "output_type": "execute_result"
    }
   ],
   "source": [
    "#checking the skewness\n",
    "df.skew()"
   ]
  },
  {
   "cell_type": "markdown",
   "id": "4dc29713",
   "metadata": {},
   "source": [
    "#### observations\n",
    "* The highest skewness is seen in 2 Star rating"
   ]
  },
  {
   "cell_type": "markdown",
   "id": "56ad0d86",
   "metadata": {},
   "source": [
    "# Visualizations"
   ]
  },
  {
   "cell_type": "code",
   "execution_count": 27,
   "id": "1e6c6189",
   "metadata": {},
   "outputs": [],
   "source": [
    "#import libraries required for visualizations\n",
    "import seaborn as sns\n",
    "import matplotlib.pyplot as plt\n",
    "import warnings\n",
    "warnings.filterwarnings(\"ignore\")"
   ]
  },
  {
   "cell_type": "code",
   "execution_count": 28,
   "id": "ab6a3367",
   "metadata": {},
   "outputs": [
    {
     "name": "stdout",
     "output_type": "stream",
     "text": [
      "average length of review: 81.5\n"
     ]
    },
    {
     "data": {
      "image/png": "[encoded data removed]",
      "text/plain": [
       "<Figure size 432x288 with 1 Axes>"
      ]
     },
     "metadata": {
      "needs_background": "light"
     },
     "output_type": "display_data"
    }
   ],
   "source": [
    "#plotting the average length of reviews\n",
    "review=df[\"Review\"]\n",
    "x = [len(review[i]) for i in range(review.shape[0])]\n",
    "\n",
    "print('average length of review: {:.1f}'.format(sum(x)/len(x)) )\n",
    "bins = [1,200,400,600,800,1000]\n",
    "plt.hist(x, bins=bins)\n",
    "plt.xlabel('Length of Review')\n",
    "plt.ylabel('Number of Review')       \n",
    "plt.grid(True)\n",
    "plt.show()"
   ]
  },
  {
   "cell_type": "markdown",
   "id": "be9389eb",
   "metadata": {},
   "source": [
    "#### Observations:\n",
    "* The average length of review is 81.\n",
    "* Maximum number of reviews had less than 200 words.\n",
    "* There were no reviews with more than 600 words.\n",
    "* Comments with 200 and above words were less."
   ]
  },
  {
   "cell_type": "code",
   "execution_count": 29,
   "id": "f109ccce",
   "metadata": {},
   "outputs": [
    {
     "data": {
      "image/png": "[encoded data removed]",
      "text/plain": [
       "<Figure size 1080x720 with 6 Axes>"
      ]
     },
     "metadata": {
      "needs_background": "light"
     },
     "output_type": "display_data"
    }
   ],
   "source": [
    "#let us plot countplot of each feature\n",
    "a = 3  # number of rows\n",
    "b = 3  # number of columns\n",
    "c = 1  # initialize plot counter\n",
    "\n",
    "fig = plt.figure(figsize=(15,10))\n",
    "for cols in df.columns:\n",
    "    if df[cols].dtypes=='int64':\n",
    "        plt.subplot(a, b, c)\n",
    "        plt.title('{}'.format(cols),weight='bold')\n",
    "        sns.countplot(df[cols],palette='nipy_spectral')\n",
    "        plt.xticks(rotation=360)\n",
    "        c = c + 1\n",
    "        plt.tight_layout()\n",
    "        plt.ylabel(\"Count\")\n",
    "plt.show()"
   ]
  },
  {
   "cell_type": "markdown",
   "id": "4395ba0c",
   "metadata": {},
   "source": [
    "#### Obseravtions:\n",
    "   * Around 50% of the review are rated 5 star.\n",
    "   * 2 star rated reviews are least in number"
   ]
  },
  {
   "cell_type": "code",
   "execution_count": 30,
   "id": "60c2ee55",
   "metadata": {},
   "outputs": [
    {
     "name": "stdout",
     "output_type": "stream",
     "text": [
      "['Heading', 'Review', 'Product', 'Review_word_counter', '1 Star', '2 Star', '3 Star', '4 Star', '5 Star']\n"
     ]
    }
   ],
   "source": [
    "print(list(df.columns.values))"
   ]
  },
  {
   "cell_type": "code",
   "execution_count": 31,
   "id": "b7693d3f",
   "metadata": {},
   "outputs": [
    {
     "name": "stdout",
     "output_type": "stream",
     "text": [
      "['1 Star', '2 Star', '3 Star', '4 Star', '5 Star']\n"
     ]
    }
   ],
   "source": [
    "#make a list of columns\n",
    "categories = list(df.columns.values)\n",
    "categories = categories[4:]\n",
    "print(categories)"
   ]
  },
  {
   "cell_type": "code",
   "execution_count": 32,
   "id": "1fd22831",
   "metadata": {},
   "outputs": [
    {
     "data": {
      "image/png": "[encoded data removed]",
      "text/plain": [
       "<Figure size 432x288 with 1 Axes>"
      ]
     },
     "metadata": {},
     "output_type": "display_data"
    }
   ],
   "source": [
    "#distribution plot of each type of review\n",
    "colors=['#cc99ff','#ff9999','#ffff33','#99ff33','#80ffdf'] \n",
    "df_distribution = df[categories].sum()\n",
    "\n",
    "df_distribution.plot.pie(y='count',autopct='%1.1f%%',colors=colors)\\\n",
    "                            .legend(loc='center left', bbox_to_anchor=(1.3, 0.5))\n",
    "plt.ylabel(\"\")\n",
    "plt.title(\"Distribution of Review for Smartphone\",fontweight='bold')\n",
    "plt.tight_layout()\n",
    "plt.show()"
   ]
  },
  {
   "cell_type": "markdown",
   "id": "253c9abb",
   "metadata": {},
   "source": [
    "#### Observations:\n",
    "* 5 Star rating had the highest share of 49.8%, followed by 4 star with 22.6%.\n",
    "* 2 Star rating has least share with 5%"
   ]
  },
  {
   "cell_type": "code",
   "execution_count": 33,
   "id": "06f6e926",
   "metadata": {},
   "outputs": [
    {
     "data": {
      "image/png": "[encoded data removed]",
      "text/plain": [
       "<Figure size 1080x360 with 1 Axes>"
      ]
     },
     "metadata": {
      "needs_background": "light"
     },
     "output_type": "display_data"
    }
   ],
   "source": [
    "# Checking the count of the various types of reviews\n",
    "cols = ['1 Star', '2 Star', '3 Star', '4 Star', '5 Star']\n",
    "val_counts = df[cols].sum()\n",
    "\n",
    "plt.figure(figsize=(15,5))\n",
    "ax = sns.barplot(val_counts.index, val_counts.values)\n",
    "\n",
    "plt.title(\"Reviews per Classes\")\n",
    "plt.xlabel(\"Various Reviews Type\")\n",
    "plt.ylabel(\"Counts of the Reviews\")\n",
    "\n",
    "rects = ax.patches\n",
    "labels = val_counts.values\n",
    "for rect, label in zip(rects, labels):\n",
    "    height = rect.get_height()\n",
    "    ax.text(rect.get_x() + rect.get_width()/2, height+5, label, ha=\"center\", va=\"bottom\")\n",
    "\n",
    "\n",
    "plt.show()"
   ]
  },
  {
   "cell_type": "markdown",
   "id": "187608ad",
   "metadata": {},
   "source": [
    "#### Observations\n",
    "* There were 5637 5 Star rated reviews which are maximum. \n",
    "* 4 Star reviews were second highest with count of 2562\n",
    "* 2 Star ratings have the least count of only 567."
   ]
  },
  {
   "cell_type": "markdown",
   "id": "42743d6e",
   "metadata": {},
   "source": [
    "##  Data Pre-Processing"
   ]
  },
  {
   "cell_type": "code",
   "execution_count": 34,
   "id": "ab1d684b",
   "metadata": {},
   "outputs": [
    {
     "data": {
      "text/html": [
       "<div>\n",
       "<style scoped>\n",
       "    .dataframe tbody tr th:only-of-type {\n",
       "        vertical-align: middle;\n",
       "    }\n",
       "\n",
       "    .dataframe tbody tr th {\n",
       "        vertical-align: top;\n",
       "    }\n",
       "\n",
       "    .dataframe thead th {\n",
       "        text-align: right;\n",
       "    }\n",
       "</style>\n",
       "<table border=\"1\" class=\"dataframe\">\n",
       "  <thead>\n",
       "    <tr style=\"text-align: right;\">\n",
       "      <th></th>\n",
       "      <th>Heading</th>\n",
       "      <th>Review</th>\n",
       "      <th>Product</th>\n",
       "      <th>Review_word_counter</th>\n",
       "      <th>1 Star</th>\n",
       "      <th>2 Star</th>\n",
       "      <th>3 Star</th>\n",
       "      <th>4 Star</th>\n",
       "      <th>5 Star</th>\n",
       "    </tr>\n",
       "  </thead>\n",
       "  <tbody>\n",
       "    <tr>\n",
       "      <th>0</th>\n",
       "      <td>really nice</td>\n",
       "      <td>this phone comes with decent specifications......</td>\n",
       "      <td>Smartphone</td>\n",
       "      <td>510</td>\n",
       "      <td>0</td>\n",
       "      <td>0</td>\n",
       "      <td>0</td>\n",
       "      <td>1</td>\n",
       "      <td>0</td>\n",
       "    </tr>\n",
       "    <tr>\n",
       "      <th>1</th>\n",
       "      <td>worth every penny</td>\n",
       "      <td>best mobile in value of my money thank you fli...</td>\n",
       "      <td>Smartphone</td>\n",
       "      <td>52</td>\n",
       "      <td>0</td>\n",
       "      <td>0</td>\n",
       "      <td>0</td>\n",
       "      <td>0</td>\n",
       "      <td>1</td>\n",
       "    </tr>\n",
       "    <tr>\n",
       "      <th>2</th>\n",
       "      <td>worth every penny</td>\n",
       "      <td>awesome product. delivery on time :)</td>\n",
       "      <td>Smartphone</td>\n",
       "      <td>36</td>\n",
       "      <td>0</td>\n",
       "      <td>0</td>\n",
       "      <td>0</td>\n",
       "      <td>0</td>\n",
       "      <td>1</td>\n",
       "    </tr>\n",
       "    <tr>\n",
       "      <th>3</th>\n",
       "      <td>perfect product!</td>\n",
       "      <td>nice and good service flipkart</td>\n",
       "      <td>Smartphone</td>\n",
       "      <td>30</td>\n",
       "      <td>0</td>\n",
       "      <td>0</td>\n",
       "      <td>0</td>\n",
       "      <td>0</td>\n",
       "      <td>1</td>\n",
       "    </tr>\n",
       "    <tr>\n",
       "      <th>4</th>\n",
       "      <td>terrific</td>\n",
       "      <td>overall better mobile phone in this price\\npro...</td>\n",
       "      <td>Smartphone</td>\n",
       "      <td>239</td>\n",
       "      <td>0</td>\n",
       "      <td>0</td>\n",
       "      <td>0</td>\n",
       "      <td>0</td>\n",
       "      <td>1</td>\n",
       "    </tr>\n",
       "  </tbody>\n",
       "</table>\n",
       "</div>"
      ],
      "text/plain": [
       "             Heading                                             Review  \\\n",
       "0        really nice  this phone comes with decent specifications......   \n",
       "1  worth every penny  best mobile in value of my money thank you fli...   \n",
       "2  worth every penny               awesome product. delivery on time :)   \n",
       "3   perfect product!                     nice and good service flipkart   \n",
       "4           terrific  overall better mobile phone in this price\\npro...   \n",
       "\n",
       "      Product  Review_word_counter  1 Star  2 Star  3 Star  4 Star  5 Star  \n",
       "0  Smartphone                  510       0       0       0       1       0  \n",
       "1  Smartphone                   52       0       0       0       0       1  \n",
       "2  Smartphone                   36       0       0       0       0       1  \n",
       "3  Smartphone                   30       0       0       0       0       1  \n",
       "4  Smartphone                  239       0       0       0       0       1  "
      ]
     },
     "execution_count": 34,
     "metadata": {},
     "output_type": "execute_result"
    }
   ],
   "source": [
    "#convert all text into lowercase \n",
    "df['Review'] = df['Review'].str.lower()\n",
    "df['Heading'] = df['Heading'].str.lower()\n",
    "#check if the text is lower cased\n",
    "df.head()"
   ]
  },
  {
   "cell_type": "code",
   "execution_count": 35,
   "id": "e781b040",
   "metadata": {},
   "outputs": [
    {
     "data": {
      "text/html": [
       "<div>\n",
       "<style scoped>\n",
       "    .dataframe tbody tr th:only-of-type {\n",
       "        vertical-align: middle;\n",
       "    }\n",
       "\n",
       "    .dataframe tbody tr th {\n",
       "        vertical-align: top;\n",
       "    }\n",
       "\n",
       "    .dataframe thead th {\n",
       "        text-align: right;\n",
       "    }\n",
       "</style>\n",
       "<table border=\"1\" class=\"dataframe\">\n",
       "  <thead>\n",
       "    <tr style=\"text-align: right;\">\n",
       "      <th></th>\n",
       "      <th>Heading</th>\n",
       "      <th>Review</th>\n",
       "      <th>Product</th>\n",
       "      <th>Review_word_counter</th>\n",
       "      <th>1 Star</th>\n",
       "      <th>2 Star</th>\n",
       "      <th>3 Star</th>\n",
       "      <th>4 Star</th>\n",
       "      <th>5 Star</th>\n",
       "    </tr>\n",
       "  </thead>\n",
       "  <tbody>\n",
       "    <tr>\n",
       "      <th>0</th>\n",
       "      <td>really nice</td>\n",
       "      <td>this phone comes with decent specifications......</td>\n",
       "      <td>Smartphone</td>\n",
       "      <td>510</td>\n",
       "      <td>0</td>\n",
       "      <td>0</td>\n",
       "      <td>0</td>\n",
       "      <td>1</td>\n",
       "      <td>0</td>\n",
       "    </tr>\n",
       "    <tr>\n",
       "      <th>1</th>\n",
       "      <td>worth every penny</td>\n",
       "      <td>best mobile in value of my money thank you fli...</td>\n",
       "      <td>Smartphone</td>\n",
       "      <td>52</td>\n",
       "      <td>0</td>\n",
       "      <td>0</td>\n",
       "      <td>0</td>\n",
       "      <td>0</td>\n",
       "      <td>1</td>\n",
       "    </tr>\n",
       "    <tr>\n",
       "      <th>2</th>\n",
       "      <td>worth every penny</td>\n",
       "      <td>awesome product. delivery on time :)</td>\n",
       "      <td>Smartphone</td>\n",
       "      <td>36</td>\n",
       "      <td>0</td>\n",
       "      <td>0</td>\n",
       "      <td>0</td>\n",
       "      <td>0</td>\n",
       "      <td>1</td>\n",
       "    </tr>\n",
       "    <tr>\n",
       "      <th>3</th>\n",
       "      <td>perfect product!</td>\n",
       "      <td>nice and good service flipkart</td>\n",
       "      <td>Smartphone</td>\n",
       "      <td>30</td>\n",
       "      <td>0</td>\n",
       "      <td>0</td>\n",
       "      <td>0</td>\n",
       "      <td>0</td>\n",
       "      <td>1</td>\n",
       "    </tr>\n",
       "    <tr>\n",
       "      <th>4</th>\n",
       "      <td>terrific</td>\n",
       "      <td>overall better mobile phone in this price\\npro...</td>\n",
       "      <td>Smartphone</td>\n",
       "      <td>239</td>\n",
       "      <td>0</td>\n",
       "      <td>0</td>\n",
       "      <td>0</td>\n",
       "      <td>0</td>\n",
       "      <td>1</td>\n",
       "    </tr>\n",
       "  </tbody>\n",
       "</table>\n",
       "</div>"
      ],
      "text/plain": [
       "             Heading                                             Review  \\\n",
       "0        really nice  this phone comes with decent specifications......   \n",
       "1  worth every penny  best mobile in value of my money thank you fli...   \n",
       "2  worth every penny               awesome product. delivery on time :)   \n",
       "3   perfect product!                     nice and good service flipkart   \n",
       "4           terrific  overall better mobile phone in this price\\npro...   \n",
       "\n",
       "      Product  Review_word_counter  1 Star  2 Star  3 Star  4 Star  5 Star  \n",
       "0  Smartphone                  510       0       0       0       1       0  \n",
       "1  Smartphone                   52       0       0       0       0       1  \n",
       "2  Smartphone                   36       0       0       0       0       1  \n",
       "3  Smartphone                   30       0       0       0       0       1  \n",
       "4  Smartphone                  239       0       0       0       0       1  "
      ]
     },
     "execution_count": 35,
     "metadata": {},
     "output_type": "execute_result"
    }
   ],
   "source": [
    "#clean all html tags \n",
    "import re\n",
    "def cleanHtml(sentence):\n",
    "    cleanr = re.compile('<.*?>')\n",
    "    cleantext = re.sub(cleanr, ' ', str(sentence))\n",
    "    return cleantext\n",
    "#apply the function \n",
    "df['Review'] = df['Review'].apply(cleanHtml)\n",
    "df['Heading'] = df['Heading'].apply(cleanHtml)\n",
    "df.head()"
   ]
  },
  {
   "cell_type": "code",
   "execution_count": 36,
   "id": "8eb5996b",
   "metadata": {},
   "outputs": [
    {
     "data": {
      "text/html": [
       "<div>\n",
       "<style scoped>\n",
       "    .dataframe tbody tr th:only-of-type {\n",
       "        vertical-align: middle;\n",
       "    }\n",
       "\n",
       "    .dataframe tbody tr th {\n",
       "        vertical-align: top;\n",
       "    }\n",
       "\n",
       "    .dataframe thead th {\n",
       "        text-align: right;\n",
       "    }\n",
       "</style>\n",
       "<table border=\"1\" class=\"dataframe\">\n",
       "  <thead>\n",
       "    <tr style=\"text-align: right;\">\n",
       "      <th></th>\n",
       "      <th>Heading</th>\n",
       "      <th>Review</th>\n",
       "      <th>Product</th>\n",
       "      <th>Review_word_counter</th>\n",
       "      <th>1 Star</th>\n",
       "      <th>2 Star</th>\n",
       "      <th>3 Star</th>\n",
       "      <th>4 Star</th>\n",
       "      <th>5 Star</th>\n",
       "    </tr>\n",
       "  </thead>\n",
       "  <tbody>\n",
       "    <tr>\n",
       "      <th>0</th>\n",
       "      <td>really nice</td>\n",
       "      <td>this phone comes with decent specifications   ...</td>\n",
       "      <td>Smartphone</td>\n",
       "      <td>510</td>\n",
       "      <td>0</td>\n",
       "      <td>0</td>\n",
       "      <td>0</td>\n",
       "      <td>1</td>\n",
       "      <td>0</td>\n",
       "    </tr>\n",
       "    <tr>\n",
       "      <th>1</th>\n",
       "      <td>worth every penny</td>\n",
       "      <td>best mobile in value of my money thank you fli...</td>\n",
       "      <td>Smartphone</td>\n",
       "      <td>52</td>\n",
       "      <td>0</td>\n",
       "      <td>0</td>\n",
       "      <td>0</td>\n",
       "      <td>0</td>\n",
       "      <td>1</td>\n",
       "    </tr>\n",
       "    <tr>\n",
       "      <th>2</th>\n",
       "      <td>worth every penny</td>\n",
       "      <td>awesome product  delivery on time :</td>\n",
       "      <td>Smartphone</td>\n",
       "      <td>36</td>\n",
       "      <td>0</td>\n",
       "      <td>0</td>\n",
       "      <td>0</td>\n",
       "      <td>0</td>\n",
       "      <td>1</td>\n",
       "    </tr>\n",
       "    <tr>\n",
       "      <th>3</th>\n",
       "      <td>perfect product</td>\n",
       "      <td>nice and good service flipkart</td>\n",
       "      <td>Smartphone</td>\n",
       "      <td>30</td>\n",
       "      <td>0</td>\n",
       "      <td>0</td>\n",
       "      <td>0</td>\n",
       "      <td>0</td>\n",
       "      <td>1</td>\n",
       "    </tr>\n",
       "    <tr>\n",
       "      <th>4</th>\n",
       "      <td>terrific</td>\n",
       "      <td>overall better mobile phone in this price pros...</td>\n",
       "      <td>Smartphone</td>\n",
       "      <td>239</td>\n",
       "      <td>0</td>\n",
       "      <td>0</td>\n",
       "      <td>0</td>\n",
       "      <td>0</td>\n",
       "      <td>1</td>\n",
       "    </tr>\n",
       "  </tbody>\n",
       "</table>\n",
       "</div>"
      ],
      "text/plain": [
       "             Heading                                             Review  \\\n",
       "0        really nice  this phone comes with decent specifications   ...   \n",
       "1  worth every penny  best mobile in value of my money thank you fli...   \n",
       "2  worth every penny                awesome product  delivery on time :   \n",
       "3    perfect product                     nice and good service flipkart   \n",
       "4           terrific  overall better mobile phone in this price pros...   \n",
       "\n",
       "      Product  Review_word_counter  1 Star  2 Star  3 Star  4 Star  5 Star  \n",
       "0  Smartphone                  510       0       0       0       1       0  \n",
       "1  Smartphone                   52       0       0       0       0       1  \n",
       "2  Smartphone                   36       0       0       0       0       1  \n",
       "3  Smartphone                   30       0       0       0       0       1  \n",
       "4  Smartphone                  239       0       0       0       0       1  "
      ]
     },
     "execution_count": 36,
     "metadata": {},
     "output_type": "execute_result"
    }
   ],
   "source": [
    "#remove punctuations\n",
    "def cleanPunc(sentence): #function to clean the word of any punctuation or special characters\n",
    "    cleaned = re.sub(r'[?|!|\\'|\"|#]',r'',sentence)\n",
    "    cleaned = re.sub(r'[.|,|)|(|\\|/]',r' ',cleaned)\n",
    "    cleaned = cleaned.strip()\n",
    "    cleaned = cleaned.replace(\"\\n\",\" \")\n",
    "    return cleaned\n",
    "#call the function\n",
    "df['Review'] = df['Review'].apply(cleanPunc)\n",
    "df['Heading'] = df['Heading'].apply(cleanPunc)\n",
    "df.head()"
   ]
  },
  {
   "cell_type": "code",
   "execution_count": 37,
   "id": "0be87355",
   "metadata": {},
   "outputs": [
    {
     "data": {
      "text/html": [
       "<div>\n",
       "<style scoped>\n",
       "    .dataframe tbody tr th:only-of-type {\n",
       "        vertical-align: middle;\n",
       "    }\n",
       "\n",
       "    .dataframe tbody tr th {\n",
       "        vertical-align: top;\n",
       "    }\n",
       "\n",
       "    .dataframe thead th {\n",
       "        text-align: right;\n",
       "    }\n",
       "</style>\n",
       "<table border=\"1\" class=\"dataframe\">\n",
       "  <thead>\n",
       "    <tr style=\"text-align: right;\">\n",
       "      <th></th>\n",
       "      <th>Heading</th>\n",
       "      <th>Review</th>\n",
       "      <th>Product</th>\n",
       "      <th>Review_word_counter</th>\n",
       "      <th>1 Star</th>\n",
       "      <th>2 Star</th>\n",
       "      <th>3 Star</th>\n",
       "      <th>4 Star</th>\n",
       "      <th>5 Star</th>\n",
       "    </tr>\n",
       "  </thead>\n",
       "  <tbody>\n",
       "    <tr>\n",
       "      <th>0</th>\n",
       "      <td>really nice</td>\n",
       "      <td>this phone comes with decent specifications an...</td>\n",
       "      <td>Smartphone</td>\n",
       "      <td>510</td>\n",
       "      <td>0</td>\n",
       "      <td>0</td>\n",
       "      <td>0</td>\n",
       "      <td>1</td>\n",
       "      <td>0</td>\n",
       "    </tr>\n",
       "    <tr>\n",
       "      <th>1</th>\n",
       "      <td>worth every penny</td>\n",
       "      <td>best mobile in value of my money thank you fli...</td>\n",
       "      <td>Smartphone</td>\n",
       "      <td>52</td>\n",
       "      <td>0</td>\n",
       "      <td>0</td>\n",
       "      <td>0</td>\n",
       "      <td>0</td>\n",
       "      <td>1</td>\n",
       "    </tr>\n",
       "    <tr>\n",
       "      <th>2</th>\n",
       "      <td>worth every penny</td>\n",
       "      <td>awesome product delivery on time</td>\n",
       "      <td>Smartphone</td>\n",
       "      <td>36</td>\n",
       "      <td>0</td>\n",
       "      <td>0</td>\n",
       "      <td>0</td>\n",
       "      <td>0</td>\n",
       "      <td>1</td>\n",
       "    </tr>\n",
       "    <tr>\n",
       "      <th>3</th>\n",
       "      <td>perfect product</td>\n",
       "      <td>nice and good service flipkart</td>\n",
       "      <td>Smartphone</td>\n",
       "      <td>30</td>\n",
       "      <td>0</td>\n",
       "      <td>0</td>\n",
       "      <td>0</td>\n",
       "      <td>0</td>\n",
       "      <td>1</td>\n",
       "    </tr>\n",
       "    <tr>\n",
       "      <th>4</th>\n",
       "      <td>terrific</td>\n",
       "      <td>overall better mobile phone in this price pros...</td>\n",
       "      <td>Smartphone</td>\n",
       "      <td>239</td>\n",
       "      <td>0</td>\n",
       "      <td>0</td>\n",
       "      <td>0</td>\n",
       "      <td>0</td>\n",
       "      <td>1</td>\n",
       "    </tr>\n",
       "  </tbody>\n",
       "</table>\n",
       "</div>"
      ],
      "text/plain": [
       "             Heading                                             Review  \\\n",
       "0        really nice  this phone comes with decent specifications an...   \n",
       "1  worth every penny  best mobile in value of my money thank you fli...   \n",
       "2  worth every penny                   awesome product delivery on time   \n",
       "3    perfect product                     nice and good service flipkart   \n",
       "4           terrific  overall better mobile phone in this price pros...   \n",
       "\n",
       "      Product  Review_word_counter  1 Star  2 Star  3 Star  4 Star  5 Star  \n",
       "0  Smartphone                  510       0       0       0       1       0  \n",
       "1  Smartphone                   52       0       0       0       0       1  \n",
       "2  Smartphone                   36       0       0       0       0       1  \n",
       "3  Smartphone                   30       0       0       0       0       1  \n",
       "4  Smartphone                  239       0       0       0       0       1  "
      ]
     },
     "execution_count": 37,
     "metadata": {},
     "output_type": "execute_result"
    }
   ],
   "source": [
    "# any alphabets from small a to small z or capital A to capital Z.\n",
    "#The plus sign specifies that string should have at least one character.\n",
    "def keepAlpha(sentence):\n",
    "    alpha_sent = \"\"\n",
    "    for word in sentence.split():\n",
    "        alpha_word = re.sub('[^a-z A-Z]+', ' ', word)\n",
    "        alpha_sent += alpha_word\n",
    "        alpha_sent += \" \"\n",
    "    alpha_sent = alpha_sent.strip()\n",
    "    return alpha_sent\n",
    "#apply the function\n",
    "df['Review'] = df['Review'].apply(keepAlpha)\n",
    "df['Heading'] = df['Heading'].apply(keepAlpha)\n",
    "df.head()"
   ]
  },
  {
   "cell_type": "code",
   "execution_count": 38,
   "id": "982b040b",
   "metadata": {},
   "outputs": [],
   "source": [
    "#import libraries for stemming and stopwords removal\n",
    "from nltk.corpus import stopwords\n",
    "from nltk.stem.snowball import SnowballStemmer\n",
    "import re"
   ]
  },
  {
   "cell_type": "code",
   "execution_count": 39,
   "id": "13ea0aa8",
   "metadata": {},
   "outputs": [
    {
     "data": {
      "text/html": [
       "<div>\n",
       "<style scoped>\n",
       "    .dataframe tbody tr th:only-of-type {\n",
       "        vertical-align: middle;\n",
       "    }\n",
       "\n",
       "    .dataframe tbody tr th {\n",
       "        vertical-align: top;\n",
       "    }\n",
       "\n",
       "    .dataframe thead th {\n",
       "        text-align: right;\n",
       "    }\n",
       "</style>\n",
       "<table border=\"1\" class=\"dataframe\">\n",
       "  <thead>\n",
       "    <tr style=\"text-align: right;\">\n",
       "      <th></th>\n",
       "      <th>Heading</th>\n",
       "      <th>Review</th>\n",
       "      <th>Product</th>\n",
       "      <th>Review_word_counter</th>\n",
       "      <th>1 Star</th>\n",
       "      <th>2 Star</th>\n",
       "      <th>3 Star</th>\n",
       "      <th>4 Star</th>\n",
       "      <th>5 Star</th>\n",
       "    </tr>\n",
       "  </thead>\n",
       "  <tbody>\n",
       "    <tr>\n",
       "      <th>0</th>\n",
       "      <td>really nice</td>\n",
       "      <td>phone comes  decent specifications   audio ou...</td>\n",
       "      <td>Smartphone</td>\n",
       "      <td>510</td>\n",
       "      <td>0</td>\n",
       "      <td>0</td>\n",
       "      <td>0</td>\n",
       "      <td>1</td>\n",
       "      <td>0</td>\n",
       "    </tr>\n",
       "    <tr>\n",
       "      <th>1</th>\n",
       "      <td>worth every penny</td>\n",
       "      <td>best mobile  value   money thank  flip cart</td>\n",
       "      <td>Smartphone</td>\n",
       "      <td>52</td>\n",
       "      <td>0</td>\n",
       "      <td>0</td>\n",
       "      <td>0</td>\n",
       "      <td>0</td>\n",
       "      <td>1</td>\n",
       "    </tr>\n",
       "    <tr>\n",
       "      <th>2</th>\n",
       "      <td>worth every penny</td>\n",
       "      <td>awesome product delivery  time</td>\n",
       "      <td>Smartphone</td>\n",
       "      <td>36</td>\n",
       "      <td>0</td>\n",
       "      <td>0</td>\n",
       "      <td>0</td>\n",
       "      <td>0</td>\n",
       "      <td>1</td>\n",
       "    </tr>\n",
       "    <tr>\n",
       "      <th>3</th>\n",
       "      <td>perfect product</td>\n",
       "      <td>nice  good service flipkart</td>\n",
       "      <td>Smartphone</td>\n",
       "      <td>30</td>\n",
       "      <td>0</td>\n",
       "      <td>0</td>\n",
       "      <td>0</td>\n",
       "      <td>0</td>\n",
       "      <td>1</td>\n",
       "    </tr>\n",
       "    <tr>\n",
       "      <th>4</th>\n",
       "      <td>terrific</td>\n",
       "      <td>overall better mobile phone   price pros perfo...</td>\n",
       "      <td>Smartphone</td>\n",
       "      <td>239</td>\n",
       "      <td>0</td>\n",
       "      <td>0</td>\n",
       "      <td>0</td>\n",
       "      <td>0</td>\n",
       "      <td>1</td>\n",
       "    </tr>\n",
       "  </tbody>\n",
       "</table>\n",
       "</div>"
      ],
      "text/plain": [
       "             Heading                                             Review  \\\n",
       "0        really nice   phone comes  decent specifications   audio ou...   \n",
       "1  worth every penny        best mobile  value   money thank  flip cart   \n",
       "2  worth every penny                     awesome product delivery  time   \n",
       "3    perfect product                        nice  good service flipkart   \n",
       "4           terrific  overall better mobile phone   price pros perfo...   \n",
       "\n",
       "      Product  Review_word_counter  1 Star  2 Star  3 Star  4 Star  5 Star  \n",
       "0  Smartphone                  510       0       0       0       1       0  \n",
       "1  Smartphone                   52       0       0       0       0       1  \n",
       "2  Smartphone                   36       0       0       0       0       1  \n",
       "3  Smartphone                   30       0       0       0       0       1  \n",
       "4  Smartphone                  239       0       0       0       0       1  "
      ]
     },
     "execution_count": 39,
     "metadata": {},
     "output_type": "execute_result"
    }
   ],
   "source": [
    "#removing stopwords\n",
    "stop_words = set(stopwords.words('english'))\n",
    "re_stop_words = re.compile(r\"\\b(\" + \"|\".join(stop_words) + \")\\\\W\", re.I)\n",
    "def removeStopWords(sentence):\n",
    "    global re_stop_words\n",
    "    return re_stop_words.sub(\" \", sentence)\n",
    "#apply the remove_stopwords function\n",
    "df['Review'] = df['Review'].apply(removeStopWords)\n",
    "df['Heading'] = df['Heading'].apply(removeStopWords)\n",
    "df.head()"
   ]
  },
  {
   "cell_type": "code",
   "execution_count": 40,
   "id": "31e03020",
   "metadata": {},
   "outputs": [
    {
     "data": {
      "text/html": [
       "<div>\n",
       "<style scoped>\n",
       "    .dataframe tbody tr th:only-of-type {\n",
       "        vertical-align: middle;\n",
       "    }\n",
       "\n",
       "    .dataframe tbody tr th {\n",
       "        vertical-align: top;\n",
       "    }\n",
       "\n",
       "    .dataframe thead th {\n",
       "        text-align: right;\n",
       "    }\n",
       "</style>\n",
       "<table border=\"1\" class=\"dataframe\">\n",
       "  <thead>\n",
       "    <tr style=\"text-align: right;\">\n",
       "      <th></th>\n",
       "      <th>Heading</th>\n",
       "      <th>Review</th>\n",
       "      <th>Product</th>\n",
       "      <th>Review_word_counter</th>\n",
       "      <th>1 Star</th>\n",
       "      <th>2 Star</th>\n",
       "      <th>3 Star</th>\n",
       "      <th>4 Star</th>\n",
       "      <th>5 Star</th>\n",
       "    </tr>\n",
       "  </thead>\n",
       "  <tbody>\n",
       "    <tr>\n",
       "      <th>0</th>\n",
       "      <td>realli nice</td>\n",
       "      <td>phone come decent specif audio output pretti g...</td>\n",
       "      <td>Smartphone</td>\n",
       "      <td>510</td>\n",
       "      <td>0</td>\n",
       "      <td>0</td>\n",
       "      <td>0</td>\n",
       "      <td>1</td>\n",
       "      <td>0</td>\n",
       "    </tr>\n",
       "    <tr>\n",
       "      <th>1</th>\n",
       "      <td>worth everi penni</td>\n",
       "      <td>best mobil valu money thank flip cart</td>\n",
       "      <td>Smartphone</td>\n",
       "      <td>52</td>\n",
       "      <td>0</td>\n",
       "      <td>0</td>\n",
       "      <td>0</td>\n",
       "      <td>0</td>\n",
       "      <td>1</td>\n",
       "    </tr>\n",
       "    <tr>\n",
       "      <th>2</th>\n",
       "      <td>worth everi penni</td>\n",
       "      <td>awesom product deliveri time</td>\n",
       "      <td>Smartphone</td>\n",
       "      <td>36</td>\n",
       "      <td>0</td>\n",
       "      <td>0</td>\n",
       "      <td>0</td>\n",
       "      <td>0</td>\n",
       "      <td>1</td>\n",
       "    </tr>\n",
       "    <tr>\n",
       "      <th>3</th>\n",
       "      <td>perfect product</td>\n",
       "      <td>nice good servic flipkart</td>\n",
       "      <td>Smartphone</td>\n",
       "      <td>30</td>\n",
       "      <td>0</td>\n",
       "      <td>0</td>\n",
       "      <td>0</td>\n",
       "      <td>0</td>\n",
       "      <td>1</td>\n",
       "    </tr>\n",
       "    <tr>\n",
       "      <th>4</th>\n",
       "      <td>terrif</td>\n",
       "      <td>overal better mobil phone price pros perform e...</td>\n",
       "      <td>Smartphone</td>\n",
       "      <td>239</td>\n",
       "      <td>0</td>\n",
       "      <td>0</td>\n",
       "      <td>0</td>\n",
       "      <td>0</td>\n",
       "      <td>1</td>\n",
       "    </tr>\n",
       "  </tbody>\n",
       "</table>\n",
       "</div>"
      ],
      "text/plain": [
       "             Heading                                             Review  \\\n",
       "0        realli nice  phone come decent specif audio output pretti g...   \n",
       "1  worth everi penni              best mobil valu money thank flip cart   \n",
       "2  worth everi penni                       awesom product deliveri time   \n",
       "3    perfect product                          nice good servic flipkart   \n",
       "4             terrif  overal better mobil phone price pros perform e...   \n",
       "\n",
       "      Product  Review_word_counter  1 Star  2 Star  3 Star  4 Star  5 Star  \n",
       "0  Smartphone                  510       0       0       0       1       0  \n",
       "1  Smartphone                   52       0       0       0       0       1  \n",
       "2  Smartphone                   36       0       0       0       0       1  \n",
       "3  Smartphone                   30       0       0       0       0       1  \n",
       "4  Smartphone                  239       0       0       0       0       1  "
      ]
     },
     "execution_count": 40,
     "metadata": {},
     "output_type": "execute_result"
    }
   ],
   "source": [
    "#stemming\n",
    "stemmer = SnowballStemmer(\"english\")\n",
    "def stemming(sentence):\n",
    "    stemSentence = \"\"\n",
    "    for word in sentence.split():\n",
    "        stem = stemmer.stem(word)\n",
    "        stemSentence += stem\n",
    "        stemSentence += \" \"\n",
    "    stemSentence = stemSentence.strip()\n",
    "    return stemSentence\n",
    "\n",
    "df['Review'] = df['Review'].apply(stemming)\n",
    "df['Heading'] = df['Heading'].apply(stemming)\n",
    "df.head()"
   ]
  },
  {
   "cell_type": "code",
   "execution_count": 41,
   "id": "aedd8568",
   "metadata": {},
   "outputs": [
    {
     "data": {
      "text/html": [
       "<div>\n",
       "<style scoped>\n",
       "    .dataframe tbody tr th:only-of-type {\n",
       "        vertical-align: middle;\n",
       "    }\n",
       "\n",
       "    .dataframe tbody tr th {\n",
       "        vertical-align: top;\n",
       "    }\n",
       "\n",
       "    .dataframe thead th {\n",
       "        text-align: right;\n",
       "    }\n",
       "</style>\n",
       "<table border=\"1\" class=\"dataframe\">\n",
       "  <thead>\n",
       "    <tr style=\"text-align: right;\">\n",
       "      <th></th>\n",
       "      <th>Heading</th>\n",
       "      <th>Review</th>\n",
       "      <th>Product</th>\n",
       "      <th>Review_word_counter</th>\n",
       "      <th>1 Star</th>\n",
       "      <th>2 Star</th>\n",
       "      <th>3 Star</th>\n",
       "      <th>4 Star</th>\n",
       "      <th>5 Star</th>\n",
       "    </tr>\n",
       "  </thead>\n",
       "  <tbody>\n",
       "    <tr>\n",
       "      <th>0</th>\n",
       "      <td>realli nice</td>\n",
       "      <td>phone come decent specif audio output pretti g...</td>\n",
       "      <td>Smartphone</td>\n",
       "      <td>510</td>\n",
       "      <td>0</td>\n",
       "      <td>0</td>\n",
       "      <td>0</td>\n",
       "      <td>1</td>\n",
       "      <td>0</td>\n",
       "    </tr>\n",
       "    <tr>\n",
       "      <th>1</th>\n",
       "      <td>worth everi penni</td>\n",
       "      <td>best mobil valu money thank flip cart</td>\n",
       "      <td>Smartphone</td>\n",
       "      <td>52</td>\n",
       "      <td>0</td>\n",
       "      <td>0</td>\n",
       "      <td>0</td>\n",
       "      <td>0</td>\n",
       "      <td>1</td>\n",
       "    </tr>\n",
       "    <tr>\n",
       "      <th>2</th>\n",
       "      <td>worth everi penni</td>\n",
       "      <td>awesom product deliveri time</td>\n",
       "      <td>Smartphone</td>\n",
       "      <td>36</td>\n",
       "      <td>0</td>\n",
       "      <td>0</td>\n",
       "      <td>0</td>\n",
       "      <td>0</td>\n",
       "      <td>1</td>\n",
       "    </tr>\n",
       "    <tr>\n",
       "      <th>3</th>\n",
       "      <td>perfect product</td>\n",
       "      <td>nice good servic flipkart</td>\n",
       "      <td>Smartphone</td>\n",
       "      <td>30</td>\n",
       "      <td>0</td>\n",
       "      <td>0</td>\n",
       "      <td>0</td>\n",
       "      <td>0</td>\n",
       "      <td>1</td>\n",
       "    </tr>\n",
       "    <tr>\n",
       "      <th>4</th>\n",
       "      <td>terrif</td>\n",
       "      <td>overal better mobil phone price pros perform e...</td>\n",
       "      <td>Smartphone</td>\n",
       "      <td>239</td>\n",
       "      <td>0</td>\n",
       "      <td>0</td>\n",
       "      <td>0</td>\n",
       "      <td>0</td>\n",
       "      <td>1</td>\n",
       "    </tr>\n",
       "  </tbody>\n",
       "</table>\n",
       "</div>"
      ],
      "text/plain": [
       "             Heading                                             Review  \\\n",
       "0        realli nice  phone come decent specif audio output pretti g...   \n",
       "1  worth everi penni              best mobil valu money thank flip cart   \n",
       "2  worth everi penni                       awesom product deliveri time   \n",
       "3    perfect product                          nice good servic flipkart   \n",
       "4             terrif  overal better mobil phone price pros perform e...   \n",
       "\n",
       "      Product  Review_word_counter  1 Star  2 Star  3 Star  4 Star  5 Star  \n",
       "0  Smartphone                  510       0       0       0       1       0  \n",
       "1  Smartphone                   52       0       0       0       0       1  \n",
       "2  Smartphone                   36       0       0       0       0       1  \n",
       "3  Smartphone                   30       0       0       0       0       1  \n",
       "4  Smartphone                  239       0       0       0       0       1  "
      ]
     },
     "execution_count": 41,
     "metadata": {},
     "output_type": "execute_result"
    }
   ],
   "source": [
    "import emoji\n",
    "def emoji_remover(text):\n",
    "    allchars = [str for str in text]\n",
    "    emoji_list = [c for c in allchars if c in emoji.UNICODE_EMOJI]\n",
    "    clean_text = ' '.join([str for str in text.split() if not any(i in str for i in emoji_list)])\n",
    "    return clean_text\n",
    "\n",
    "df['Review'] = df['Review'].apply(emoji_remover)\n",
    "df['Heading'] = df['Heading'].apply(emoji_remover)\n",
    "df.head()"
   ]
  },
  {
   "cell_type": "markdown",
   "id": "f965cc43",
   "metadata": {},
   "source": [
    "Modelling will be done on heading of reviews as well as on actual review. But there are duplicate values in the heading. Thus we will use only unique heading for model development"
   ]
  },
  {
   "cell_type": "markdown",
   "id": "00f94d3b",
   "metadata": {},
   "source": [
    "# Modelling on Heading of Reviews"
   ]
  },
  {
   "cell_type": "code",
   "execution_count": 42,
   "id": "05f0e07b",
   "metadata": {},
   "outputs": [
    {
     "data": {
      "text/plain": [
       "(150, 9)"
      ]
     },
     "execution_count": 42,
     "metadata": {},
     "output_type": "execute_result"
    }
   ],
   "source": [
    "df_heading = df.drop_duplicates(subset='Heading')\n",
    "df_heading.shape"
   ]
  },
  {
   "cell_type": "code",
   "execution_count": 43,
   "id": "708f6746",
   "metadata": {},
   "outputs": [],
   "source": [
    "df_heading = shuffle(df_heading)\n",
    "df_heading.reset_index(drop=True,inplace=True)"
   ]
  },
  {
   "cell_type": "code",
   "execution_count": 44,
   "id": "0902ad59",
   "metadata": {},
   "outputs": [
    {
     "data": {
      "text/html": [
       "<div>\n",
       "<style scoped>\n",
       "    .dataframe tbody tr th:only-of-type {\n",
       "        vertical-align: middle;\n",
       "    }\n",
       "\n",
       "    .dataframe tbody tr th {\n",
       "        vertical-align: top;\n",
       "    }\n",
       "\n",
       "    .dataframe thead th {\n",
       "        text-align: right;\n",
       "    }\n",
       "</style>\n",
       "<table border=\"1\" class=\"dataframe\">\n",
       "  <thead>\n",
       "    <tr style=\"text-align: right;\">\n",
       "      <th></th>\n",
       "      <th>Heading</th>\n",
       "      <th>Review</th>\n",
       "      <th>Product</th>\n",
       "      <th>Review_word_counter</th>\n",
       "      <th>1 Star</th>\n",
       "      <th>2 Star</th>\n",
       "      <th>3 Star</th>\n",
       "      <th>4 Star</th>\n",
       "      <th>5 Star</th>\n",
       "    </tr>\n",
       "  </thead>\n",
       "  <tbody>\n",
       "    <tr>\n",
       "      <th>0</th>\n",
       "      <td>display poor dont buy phone</td>\n",
       "      <td>camera open bright increas camera bright decreas</td>\n",
       "      <td>Smartphone</td>\n",
       "      <td>93</td>\n",
       "      <td>1</td>\n",
       "      <td>0</td>\n",
       "      <td>0</td>\n",
       "      <td>0</td>\n",
       "      <td>0</td>\n",
       "    </tr>\n",
       "    <tr>\n",
       "      <th>1</th>\n",
       "      <td>worst experi ever</td>\n",
       "      <td>use phone day expect camera qualiti phone sati...</td>\n",
       "      <td>Smartphone</td>\n",
       "      <td>199</td>\n",
       "      <td>1</td>\n",
       "      <td>0</td>\n",
       "      <td>0</td>\n",
       "      <td>0</td>\n",
       "      <td>0</td>\n",
       "    </tr>\n",
       "    <tr>\n",
       "      <th>2</th>\n",
       "      <td>dont buy worst product all</td>\n",
       "      <td>realli worst phone purchas get switch automat ...</td>\n",
       "      <td>Smartphone</td>\n",
       "      <td>133</td>\n",
       "      <td>1</td>\n",
       "      <td>0</td>\n",
       "      <td>0</td>\n",
       "      <td>0</td>\n",
       "      <td>0</td>\n",
       "    </tr>\n",
       "    <tr>\n",
       "      <th>3</th>\n",
       "      <td>dont buy mobil flipkart worst perform</td>\n",
       "      <td>worst perform purchas flipkart</td>\n",
       "      <td>Smartphone</td>\n",
       "      <td>54</td>\n",
       "      <td>1</td>\n",
       "      <td>0</td>\n",
       "      <td>0</td>\n",
       "      <td>0</td>\n",
       "      <td>0</td>\n",
       "    </tr>\n",
       "    <tr>\n",
       "      <th>4</th>\n",
       "      <td>good choic medium usag great price</td>\n",
       "      <td>price great deal bright pictur qualiti littl l...</td>\n",
       "      <td>Smartphone</td>\n",
       "      <td>173</td>\n",
       "      <td>0</td>\n",
       "      <td>0</td>\n",
       "      <td>0</td>\n",
       "      <td>1</td>\n",
       "      <td>0</td>\n",
       "    </tr>\n",
       "  </tbody>\n",
       "</table>\n",
       "</div>"
      ],
      "text/plain": [
       "                                 Heading  \\\n",
       "0            display poor dont buy phone   \n",
       "1                      worst experi ever   \n",
       "2             dont buy worst product all   \n",
       "3  dont buy mobil flipkart worst perform   \n",
       "4     good choic medium usag great price   \n",
       "\n",
       "                                              Review     Product  \\\n",
       "0   camera open bright increas camera bright decreas  Smartphone   \n",
       "1  use phone day expect camera qualiti phone sati...  Smartphone   \n",
       "2  realli worst phone purchas get switch automat ...  Smartphone   \n",
       "3                     worst perform purchas flipkart  Smartphone   \n",
       "4  price great deal bright pictur qualiti littl l...  Smartphone   \n",
       "\n",
       "   Review_word_counter  1 Star  2 Star  3 Star  4 Star  5 Star  \n",
       "0                   93       1       0       0       0       0  \n",
       "1                  199       1       0       0       0       0  \n",
       "2                  133       1       0       0       0       0  \n",
       "3                   54       1       0       0       0       0  \n",
       "4                  173       0       0       0       1       0  "
      ]
     },
     "execution_count": 44,
     "metadata": {},
     "output_type": "execute_result"
    }
   ],
   "source": [
    "df_heading.head()"
   ]
  },
  {
   "cell_type": "code",
   "execution_count": 45,
   "id": "1a9a40f0",
   "metadata": {},
   "outputs": [],
   "source": [
    "# Separation of Labels and Features\n",
    "x = df_heading['Heading']\n",
    "y = df_heading[['1 Star','2 Star','3 Star','4 Star','5 Star']]"
   ]
  },
  {
   "cell_type": "code",
   "execution_count": 46,
   "id": "ee9f7043",
   "metadata": {},
   "outputs": [],
   "source": [
    "#transforming words to vectors\n",
    "#initiate tfid\n",
    "from sklearn.feature_extraction.text import TfidfVectorizer\n",
    "tf = TfidfVectorizer()\n",
    "#convert text into vectors\n",
    "x = tf.fit_transform(x)"
   ]
  },
  {
   "cell_type": "code",
   "execution_count": 47,
   "id": "9e451f73",
   "metadata": {},
   "outputs": [],
   "source": [
    "#splitting data into training and testing\n",
    "from sklearn.model_selection import train_test_split\n",
    "x_train, x_test, y_train, y_test = train_test_split(x, y, test_size=0.25, random_state=123)"
   ]
  },
  {
   "cell_type": "markdown",
   "id": "1b58660e",
   "metadata": {},
   "source": [
    "### Understanding few concepts before actual model building"
   ]
  },
  {
   "cell_type": "markdown",
   "id": "ade62a95",
   "metadata": {},
   "source": [
    "### Studying the evaluation metrics"
   ]
  },
  {
   "cell_type": "markdown",
   "id": "3cbb39a6",
   "metadata": {},
   "source": [
    "#### 1) Label ranking average precision (LRAP)\n",
    "It is the average over each ground truth label assigned to each sample, of the ratio of true vs. total labels with lower score.\n",
    "\n",
    "This metric is used in multilabel ranking problem, where the goal is to give better rank to the labels associated to each sample.\n",
    "\n",
    "* The obtained score is always strictly greater than 0 and the best value is 1."
   ]
  },
  {
   "cell_type": "markdown",
   "id": "13d485aa",
   "metadata": {},
   "source": [
    "#### 2) Ranking loss measure.\n",
    "\n",
    "Compute the average number of label pairs that are incorrectly ordered given y_score weighted by the size of the label set and the number of labels not in the label set.\n",
    "\n",
    "This is similar to the error set size, but weighted by the number of relevant and irrelevant labels.  The best performance is achieved with a ranking loss of zero."
   ]
  },
  {
   "cell_type": "markdown",
   "id": "2981109a",
   "metadata": {},
   "source": [
    "#### 3) Hamming loss\n",
    "it is important to note that unlikely accuracy in hamming loss the smaller the result is the better is the model. for an example if hamming loss, is 0.32 which means that if you are trying to predict the aspects of 100 sentences the model will predict incorrectly about 32% of the independent aspects.\n",
    "* hamming loss value ranges from 0 to 1. Lesser value of hamming loss indicates a better classifier."
   ]
  },
  {
   "cell_type": "markdown",
   "id": "9c17cc16",
   "metadata": {},
   "source": [
    "#### 4) Precision\n",
    "The precision is the ratio tp / (tp + fp) where tp is the number of true positives and fp the number of false positives. The precision is intuitively the ability of the classifier not to label as positive a sample that is negative.\n",
    "* The best value is 1 and the worst value is 0."
   ]
  },
  {
   "cell_type": "markdown",
   "id": "08a017eb",
   "metadata": {},
   "source": [
    "#### 5) Coverage error\n",
    "Coverage error measure.\n",
    "\n",
    "Compute how far we need to go through the ranked scores to cover all true labels. The best value is equal to the average number of labels in y_true per sample.\n",
    "* The best value of coverage is when it is equal to average number of true class labels."
   ]
  },
  {
   "cell_type": "markdown",
   "id": "8ba6db2b",
   "metadata": {},
   "source": [
    "#### 6) Log loss\n",
    "This is the loss function used in (multinomial) logistic regression and extensions of it such as neural networks, defined as the negative log-likelihood of a logistic model that returns y_pred probabilities for its training data y_true . The log loss is only defined for two or more labels.\n",
    "The bolder the probabilities, the better will be your Log Loss — closer to zero. It is a measure of uncertainty (you may call it entropy), so a low Log Loss means a low uncertainty/entropy of your model. "
   ]
  },
  {
   "cell_type": "markdown",
   "id": "39d56807",
   "metadata": {},
   "source": [
    "#### 7) Hamming loss\n",
    "The Hamming loss is the fraction of labels that are incorrectly predicted.\n",
    "hamming loss value ranges from 0 to 1. Lesser value of hamming loss indicates a better classifier."
   ]
  },
  {
   "cell_type": "markdown",
   "id": "82ac8608",
   "metadata": {},
   "source": [
    "#### 8)  Confusion matrix for multi-label\n",
    "In multilabel confusion matrix MCM, the count of true negatives is MCM(0,0) , false negatives is MCM(1,0), true positives is MCM(1,1)  and false positives is(0,1) .\n",
    "\n"
   ]
  },
  {
   "attachments": {
    "1_x7WPPEQqCJClqy7e3XxPOA.png": {
     "image/png": "[encoded data removed]"
    }
   },
   "cell_type": "markdown",
   "id": "7335094d",
   "metadata": {},
   "source": [
    "![1_x7WPPEQqCJClqy7e3XxPOA.png](attachment:1_x7WPPEQqCJClqy7e3XxPOA.png)"
   ]
  },
  {
   "cell_type": "code",
   "execution_count": 48,
   "id": "4702d989",
   "metadata": {},
   "outputs": [],
   "source": [
    "#importing libraries for evaluation\n",
    "from sklearn.metrics import hamming_loss,accuracy_score,log_loss,f1_score\n",
    "from sklearn.metrics import coverage_error,precision_score,label_ranking_average_precision_score\n",
    "from sklearn.metrics import roc_auc_score\n",
    "from sklearn.metrics import multilabel_confusion_matrix\n",
    "from sklearn.model_selection import cross_val_score"
   ]
  },
  {
   "cell_type": "markdown",
   "id": "cab660e7",
   "metadata": {},
   "source": [
    "# Building model based on Heading of review"
   ]
  },
  {
   "cell_type": "markdown",
   "id": "3e69b960",
   "metadata": {},
   "source": [
    "### 1) Power Transformation"
   ]
  },
  {
   "cell_type": "markdown",
   "id": "86d444f3",
   "metadata": {},
   "source": [
    "### 1.1 Binary relevance with GuassianNb as base classifier"
   ]
  },
  {
   "cell_type": "code",
   "execution_count": 49,
   "id": "ba54a99a",
   "metadata": {
    "scrolled": true
   },
   "outputs": [
    {
     "name": "stdout",
     "output_type": "stream",
     "text": [
      "Accuracy =  31.57894736842105\n",
      "Cross validation score= 29.33333333333333\n",
      "\n",
      "\n",
      "log loss= 6.099015439373183\n",
      "hamming loss= 0.33157894736842103\n",
      "\n",
      "\n",
      "f1 score= 0.496\n",
      "average precision score= 0.3563218390804598\n",
      "AUC ROC score= 0.6202598334583629\n",
      "\n",
      "\n",
      "label ranking average precision score= 0.5162280701754385\n",
      "coverage area= 3.0526315789473686\n",
      "\n",
      "\n"
     ]
    }
   ],
   "source": [
    "# using binary relevance\n",
    "from skmultilearn.problem_transform import BinaryRelevance\n",
    "from sklearn.naive_bayes import GaussianNB\n",
    "\n",
    "# initialize binary relevance multi-label classifier\n",
    "# with a gaussian naive bayes base classifier\n",
    "classifier1 = BinaryRelevance(GaussianNB())\n",
    "\n",
    "# train\n",
    "classifier1.fit(x_train, y_train)\n",
    "# predict\n",
    "predictions = classifier1.predict(x_test)\n",
    "\n",
    "# accuracy\n",
    "acc_br=accuracy_score(y_test,predictions)*100\n",
    "print(\"Accuracy = \",acc_br)\n",
    "#cross validation score\n",
    "cv_br=cross_val_score(classifier1,x,y,cv=3).mean()*100\n",
    "print(\"Cross validation score=\",cv_br)\n",
    "print(\"\\n\")\n",
    "\n",
    "#log loss\n",
    "loss_br=log_loss(y_test,predictions.toarray())\n",
    "print(\"log loss=\",loss_br)\n",
    "#hamming loss\n",
    "hamm_loss_br=hamming_loss(y_test,predictions)\n",
    "print(\"hamming loss=\",hamm_loss_br) \n",
    "print(\"\\n\")\n",
    "\n",
    "\n",
    "#f1 score\n",
    "f1_br=f1_score(y_test,predictions.toarray(),average='micro')\n",
    "print(\"f1 score=\",f1_br)\n",
    "#precision score micro averaged\n",
    "pre_br=precision_score(y_test,predictions.toarray(),average='micro')\n",
    "print(\"average precision score=\",pre_br)\n",
    "#auc roc curve\n",
    "auc_br=roc_auc_score(y_test,predictions.toarray())\n",
    "print(\"AUC ROC score=\",auc_br)\n",
    "print(\"\\n\")\n",
    "\n",
    "\n",
    "#label ranking \n",
    "lr_br=label_ranking_average_precision_score(y_test,predictions.toarray())\n",
    "print(\"label ranking average precision score=\",lr_br)\n",
    "#coverage error\n",
    "ce_br=coverage_error(y_test,predictions.toarray())\n",
    "print(\"coverage area=\",ce_br)\n",
    "print(\"\\n\")"
   ]
  },
  {
   "cell_type": "code",
   "execution_count": 50,
   "id": "697b7e51",
   "metadata": {},
   "outputs": [
    {
     "data": {
      "text/plain": [
       "array([[[21, 11],\n",
       "        [ 0,  6]],\n",
       "\n",
       "       [[23, 12],\n",
       "        [ 2,  1]],\n",
       "\n",
       "       [[24, 13],\n",
       "        [ 1,  0]],\n",
       "\n",
       "       [[15, 12],\n",
       "        [ 1, 10]],\n",
       "\n",
       "       [[13,  8],\n",
       "        [ 3, 14]]])"
      ]
     },
     "execution_count": 50,
     "metadata": {},
     "output_type": "execute_result"
    }
   ],
   "source": [
    "#confusion matrix for binary relevance\n",
    "conf_mat1=multilabel_confusion_matrix(y_test,predictions)\n",
    "conf_mat1"
   ]
  },
  {
   "cell_type": "code",
   "execution_count": 51,
   "id": "fa55a23e",
   "metadata": {},
   "outputs": [
    {
     "data": {
      "image/png": "[encoded data removed]",
      "text/plain": [
       "<Figure size 1080x504 with 10 Axes>"
      ]
     },
     "metadata": {
      "needs_background": "light"
     },
     "output_type": "display_data"
    }
   ],
   "source": [
    "#plotting heatmap of confusion matrix\n",
    "a = 2  # number of rows\n",
    "b = 3  # number of columns\n",
    "c = 1  # initialize plot counter\n",
    "fig = plt.figure(figsize=(15,7))\n",
    "for i in range(0,5):\n",
    "    plt.subplot(a, b, c)\n",
    "    plt.title('{}'.format(i+1),weight='bold')\n",
    "    sns.heatmap(conf_mat1[i],annot=True,cmap='plasma',fmt=\"0.2f\",linewidths=3,linecolor='black')\n",
    "    c = c + 1\n",
    "    plt.tight_layout()\n",
    "plt.show()"
   ]
  },
  {
   "cell_type": "markdown",
   "id": "bca7b51c",
   "metadata": {},
   "source": [
    "### 1.2 Label powerset"
   ]
  },
  {
   "cell_type": "code",
   "execution_count": 52,
   "id": "0d12b9ba",
   "metadata": {},
   "outputs": [
    {
     "name": "stdout",
     "output_type": "stream",
     "text": [
      "Accuracy =  39.473684210526315\n",
      "Cross validation score= 40.666666666666664\n",
      "\n",
      "\n",
      "log loss= 20.905048870603835\n",
      "hamming loss= 0.24210526315789474\n",
      "\n",
      "\n",
      "AUC ROC score= 0.5945128221231163\n",
      "f1 score= 0.39473684210526316\n",
      "average precision score= 0.39473684210526316\n",
      "\n",
      "\n",
      "coverage area= 3.4210526315789473\n",
      "label ranking average precision score= 0.5157894736842102\n"
     ]
    }
   ],
   "source": [
    "#create and fit classifier\n",
    "from skmultilearn.problem_transform import LabelPowerset\n",
    "from sklearn.naive_bayes import GaussianNB\n",
    "\n",
    "# initialize Label Powerset multi-label classifier\n",
    "# with a gaussian naive bayes base classifier\n",
    "classifier2 = LabelPowerset(GaussianNB())\n",
    "classifier2.fit(x_train, y_train)\n",
    "#predictions\n",
    "predictions = classifier2.predict(x_test)\n",
    "\n",
    "# accuracy\n",
    "acc_lps=accuracy_score(y_test,predictions)*100\n",
    "print(\"Accuracy = \",acc_lps)\n",
    "#cross validation score\n",
    "cv_lps=cross_val_score(classifier2,x,y,cv=3).mean()*100\n",
    "print(\"Cross validation score=\",cv_lps)\n",
    "print(\"\\n\")\n",
    "\n",
    "#log loss\n",
    "loss_lps=log_loss(y_test,predictions.toarray())\n",
    "print(\"log loss=\",loss_lps)\n",
    "#hamming loss\n",
    "hamm_loss_lps=hamming_loss(y_test,predictions)\n",
    "print(\"hamming loss=\",hamm_loss_lps)\n",
    "print(\"\\n\")\n",
    "\n",
    "#auc roc score\n",
    "auc_lps=roc_auc_score(y_test,predictions.toarray())\n",
    "print(\"AUC ROC score=\",auc_lps)\n",
    "#f1 score\n",
    "f1_lps=f1_score(y_test,predictions.toarray(),average='micro')\n",
    "print(\"f1 score=\",f1_lps)\n",
    "#precision score micro averaged\n",
    "pre_lps=precision_score(y_test,predictions.toarray(),average='micro')\n",
    "print(\"average precision score=\",pre_lps)\n",
    "print(\"\\n\")\n",
    "\n",
    "#coverage error\n",
    "ce_lps=coverage_error(y_test,predictions.toarray())\n",
    "print(\"coverage area=\",ce_lps)\n",
    "#label ranking \n",
    "lr_lps=label_ranking_average_precision_score(y_test,predictions.toarray())\n",
    "print(\"label ranking average precision score=\",lr_lps)"
   ]
  },
  {
   "cell_type": "code",
   "execution_count": 53,
   "id": "b6b0a723",
   "metadata": {},
   "outputs": [
    {
     "data": {
      "text/plain": [
       "array([[[29,  3],\n",
       "        [ 1,  5]],\n",
       "\n",
       "       [[32,  3],\n",
       "        [ 3,  0]],\n",
       "\n",
       "       [[23, 14],\n",
       "        [ 1,  0]],\n",
       "\n",
       "       [[24,  3],\n",
       "        [ 5,  6]],\n",
       "\n",
       "       [[21,  0],\n",
       "        [13,  4]]])"
      ]
     },
     "execution_count": 53,
     "metadata": {},
     "output_type": "execute_result"
    }
   ],
   "source": [
    "#confusion matrix for label powerset\n",
    "conf_mat2=multilabel_confusion_matrix(y_test,predictions)\n",
    "conf_mat2"
   ]
  },
  {
   "cell_type": "code",
   "execution_count": 54,
   "id": "048c3aee",
   "metadata": {},
   "outputs": [
    {
     "data": {
      "image/png": "[encoded data removed]",
      "text/plain": [
       "<Figure size 1080x504 with 10 Axes>"
      ]
     },
     "metadata": {
      "needs_background": "light"
     },
     "output_type": "display_data"
    }
   ],
   "source": [
    "#plotting heatmap of confusion matrix\n",
    "a = 2  # number of rows\n",
    "b = 3  # number of columns\n",
    "c = 1  # initialize plot counter\n",
    "fig = plt.figure(figsize=(15,7))\n",
    "for i in range(0,5): \n",
    "    plt.subplot(a, b, c)\n",
    "    plt.title('{}'.format(i+1),weight='bold')\n",
    "    sns.heatmap(conf_mat2[i],annot=True,cmap='plasma',fmt=\"0.2f\",linewidths=3,linecolor='black')\n",
    "    c = c + 1\n",
    "    plt.tight_layout()\n",
    "plt.show()"
   ]
  },
  {
   "cell_type": "markdown",
   "id": "8b91495b",
   "metadata": {},
   "source": [
    "### 2 ) Classifier chain with MultinomialNB classifier (ensemble)"
   ]
  },
  {
   "cell_type": "code",
   "execution_count": 55,
   "id": "47bf7aab",
   "metadata": {},
   "outputs": [
    {
     "name": "stdout",
     "output_type": "stream",
     "text": [
      "Accuracy =  21.052631578947366\n",
      "Cross validation score= 17.333333333333336\n",
      "\n",
      "\n",
      "log loss= 3.8702934952750736\n",
      "hamming loss= 0.1736842105263158\n",
      "\n",
      "\n",
      "AUC ROC score= 0.5559786414565826\n",
      "f1 score= 0.32653061224489793\n",
      "average precision score= 0.7272727272727273\n",
      "\n",
      "\n",
      "coverage area= 4.157894736842105\n",
      "label ranking average precision score= 0.3684210526315787\n"
     ]
    }
   ],
   "source": [
    "#create and fit classifier\n",
    "from sklearn.naive_bayes import MultinomialNB\n",
    "from skmultilearn.problem_transform import ClassifierChain\n",
    "classifier3 = ClassifierChain(MultinomialNB())\n",
    "classifier3.fit(x_train, y_train)\n",
    "\n",
    "#predictions\n",
    "predictions = classifier3.predict(x_test)\n",
    "# accuracy\n",
    "acc_cc=accuracy_score(y_test,predictions)*100\n",
    "print(\"Accuracy = \",acc_cc)\n",
    "#cross validation score\n",
    "cv_cc=cross_val_score(classifier3,x,y,cv=3).mean()*100\n",
    "print(\"Cross validation score=\",cv_cc)\n",
    "print(\"\\n\")\n",
    "\n",
    "#log loss\n",
    "loss_cc=log_loss(y_test,predictions.toarray())\n",
    "print(\"log loss=\",loss_cc)\n",
    "#hamming loss\n",
    "hamm_loss_cc=hamming_loss(y_test,predictions)\n",
    "print(\"hamming loss=\",hamm_loss_cc)\n",
    "print(\"\\n\")\n",
    "\n",
    "#auc roc score\n",
    "auc_cc=roc_auc_score(y_test,predictions.toarray())\n",
    "print(\"AUC ROC score=\",auc_cc)\n",
    "#f1 score\n",
    "f1_cc=f1_score(y_test,predictions.toarray(),average='micro')\n",
    "print(\"f1 score=\",f1_cc)\n",
    "#precision score micro averaged\n",
    "pre_cc=precision_score(y_test,predictions.toarray(),average='micro')\n",
    "print(\"average precision score=\",pre_cc)\n",
    "print(\"\\n\")\n",
    "\n",
    "#coverage error\n",
    "ce_cc=coverage_error(y_test,predictions.toarray())\n",
    "print(\"coverage area=\",ce_cc)\n",
    "\n",
    "#label ranking \n",
    "lr_cc=label_ranking_average_precision_score(y_test,predictions.toarray())\n",
    "print(\"label ranking average precision score=\",lr_cc)"
   ]
  },
  {
   "cell_type": "code",
   "execution_count": 56,
   "id": "202ff1fa",
   "metadata": {},
   "outputs": [
    {
     "data": {
      "text/plain": [
       "array([[[31,  1],\n",
       "        [ 4,  2]],\n",
       "\n",
       "       [[35,  0],\n",
       "        [ 3,  0]],\n",
       "\n",
       "       [[37,  0],\n",
       "        [ 1,  0]],\n",
       "\n",
       "       [[27,  0],\n",
       "        [11,  0]],\n",
       "\n",
       "       [[19,  2],\n",
       "        [11,  6]]])"
      ]
     },
     "execution_count": 56,
     "metadata": {},
     "output_type": "execute_result"
    }
   ],
   "source": [
    "#confusion matrix for classifier chain\n",
    "conf_mat3=multilabel_confusion_matrix(y_test,predictions)\n",
    "conf_mat3"
   ]
  },
  {
   "cell_type": "code",
   "execution_count": 57,
   "id": "dc3975fe",
   "metadata": {},
   "outputs": [
    {
     "data": {
      "image/png": "[encoded data removed]",
      "text/plain": [
       "<Figure size 1080x504 with 10 Axes>"
      ]
     },
     "metadata": {
      "needs_background": "light"
     },
     "output_type": "display_data"
    }
   ],
   "source": [
    "#plotting heatmap of confusion matrix\n",
    "a = 2  # number of rows\n",
    "b = 3  # number of columns\n",
    "c = 1  # initialize plot counter\n",
    "fig = plt.figure(figsize=(15,7))\n",
    "for i in range(0,5): \n",
    "    plt.subplot(a, b, c)\n",
    "    plt.title('{}'.format(i+1),weight='bold')\n",
    "    sns.heatmap(conf_mat3[i],annot=True,cmap='plasma',fmt=\"0.2f\",linewidths=3,linecolor='black')\n",
    "    c = c + 1\n",
    "    plt.tight_layout()\n",
    "plt.show()"
   ]
  },
  {
   "cell_type": "markdown",
   "id": "dcd6799e",
   "metadata": {},
   "source": [
    "### 3) Adapted Algorithm\n",
    "Adapted algorithm, as the name suggests, adapting the algorithm to directly perform multi-label classification, rather than transforming the problem into different subsets of problems.\n",
    "\n",
    "For example, multi-label version of kNN is represented by MLkNN. So, let us quickly implement this on our randomly generated data set."
   ]
  },
  {
   "cell_type": "code",
   "execution_count": 58,
   "id": "d9a1d43f",
   "metadata": {},
   "outputs": [
    {
     "name": "stdout",
     "output_type": "stream",
     "text": [
      "Accuracy =  28.947368421052634\n",
      "Cross validation score= 36.00000000000001\n",
      "\n",
      "\n",
      "log loss= 8.942601841526582\n",
      "hamming loss= 0.18947368421052632\n",
      "\n",
      "\n",
      "AUC ROC score= 0.582759284303402\n",
      "f1 score= 0.37931034482758624\n",
      "average precision score= 0.55\n",
      "\n",
      "\n",
      "label ranking average precision score= 0.43157894736842084\n",
      "coverage area= 3.8421052631578947\n"
     ]
    }
   ],
   "source": [
    "from skmultilearn.adapt import MLkNN\n",
    "classifier4 = MLkNN(k=3)\n",
    "# train\n",
    "classifier4.fit(x_train, y_train.values)\n",
    "#predictions\n",
    "predictions = classifier4.predict(x_test)\n",
    "\n",
    "# accuracy\n",
    "acc_mlknn=accuracy_score(y_test,predictions)*100\n",
    "print(\"Accuracy = \",acc_mlknn)\n",
    "#cross validation score\n",
    "cv_mlknn=cross_val_score(classifier4,x,y.values,cv=3).mean()*100\n",
    "print(\"Cross validation score=\",cv_mlknn)\n",
    "print(\"\\n\")\n",
    "\n",
    "#log loss\n",
    "loss_mlknn=log_loss(y_test,predictions.toarray())\n",
    "print(\"log loss=\",loss_mlknn)\n",
    "#hamming loss\n",
    "hamm_loss_mlknn=hamming_loss(y_test,predictions)\n",
    "print(\"hamming loss=\",hamm_loss_mlknn)\n",
    "print(\"\\n\")\n",
    "\n",
    "#auc roc score\n",
    "auc_mlknn=roc_auc_score(y_test,predictions.toarray())\n",
    "print(\"AUC ROC score=\",auc_mlknn)\n",
    "#f1 score\n",
    "f1_mlknn=f1_score(y_test,predictions.toarray(),average='micro')\n",
    "print(\"f1 score=\",f1_mlknn)\n",
    "#precision score micro averaged\n",
    "pre_mlknn=precision_score(y_test,predictions.toarray(),average='micro')\n",
    "print(\"average precision score=\",pre_mlknn)\n",
    "print(\"\\n\")\n",
    "\n",
    "#label ranking \n",
    "lr_mlknn=label_ranking_average_precision_score(y_test,predictions.toarray())\n",
    "print(\"label ranking average precision score=\",lr_mlknn)\n",
    "#coverage error\n",
    "ce_mlknn=coverage_error(y_test,predictions.toarray())\n",
    "print(\"coverage area=\",ce_mlknn)"
   ]
  },
  {
   "cell_type": "code",
   "execution_count": 59,
   "id": "03975c14",
   "metadata": {},
   "outputs": [
    {
     "data": {
      "text/plain": [
       "array([[[30,  2],\n",
       "        [ 2,  4]],\n",
       "\n",
       "       [[34,  1],\n",
       "        [ 3,  0]],\n",
       "\n",
       "       [[34,  3],\n",
       "        [ 1,  0]],\n",
       "\n",
       "       [[27,  0],\n",
       "        [ 9,  2]],\n",
       "\n",
       "       [[18,  3],\n",
       "        [12,  5]]])"
      ]
     },
     "execution_count": 59,
     "metadata": {},
     "output_type": "execute_result"
    }
   ],
   "source": [
    "#confusion matrix for mlknn\n",
    "conf_mat4=multilabel_confusion_matrix(y_test,predictions)\n",
    "conf_mat4"
   ]
  },
  {
   "cell_type": "code",
   "execution_count": 60,
   "id": "ad691914",
   "metadata": {},
   "outputs": [
    {
     "data": {
      "image/png": "[encoded data removed]",
      "text/plain": [
       "<Figure size 1080x504 with 10 Axes>"
      ]
     },
     "metadata": {
      "needs_background": "light"
     },
     "output_type": "display_data"
    }
   ],
   "source": [
    "a = 2  # number of rows\n",
    "b = 3  # number of columns\n",
    "c = 1  # initialize plot counter\n",
    "fig = plt.figure(figsize=(15,7))\n",
    "for i in range(0,5): \n",
    "    plt.subplot(a, b, c)\n",
    "    plt.title('{}'.format(i+1),weight='bold')\n",
    "    sns.heatmap(conf_mat4[i],annot=True,cmap='plasma',fmt=\"0.2f\",linewidths=3,linecolor='black')\n",
    "    c = c + 1\n",
    "    plt.tight_layout()\n",
    "plt.show()"
   ]
  },
  {
   "cell_type": "markdown",
   "id": "c69f66e7",
   "metadata": {},
   "source": [
    "### Comparing all the models performance"
   ]
  },
  {
   "cell_type": "code",
   "execution_count": 61,
   "id": "40a80485",
   "metadata": {},
   "outputs": [
    {
     "data": {
      "text/html": [
       "<div>\n",
       "<style scoped>\n",
       "    .dataframe tbody tr th:only-of-type {\n",
       "        vertical-align: middle;\n",
       "    }\n",
       "\n",
       "    .dataframe tbody tr th {\n",
       "        vertical-align: top;\n",
       "    }\n",
       "\n",
       "    .dataframe thead th {\n",
       "        text-align: right;\n",
       "    }\n",
       "</style>\n",
       "<table border=\"1\" class=\"dataframe\">\n",
       "  <thead>\n",
       "    <tr style=\"text-align: right;\">\n",
       "      <th></th>\n",
       "      <th>Model</th>\n",
       "      <th>Accuracy Score</th>\n",
       "      <th>Cross Validation score</th>\n",
       "      <th>Hamming Loss</th>\n",
       "      <th>Log Loss</th>\n",
       "      <th>Auc-Roc score</th>\n",
       "      <th>F1 Score</th>\n",
       "      <th>Precision</th>\n",
       "      <th>coverage error</th>\n",
       "      <th>Label ranking</th>\n",
       "    </tr>\n",
       "  </thead>\n",
       "  <tbody>\n",
       "    <tr>\n",
       "      <th>0</th>\n",
       "      <td>Label powerset</td>\n",
       "      <td>39.473684</td>\n",
       "      <td>40.666667</td>\n",
       "      <td>0.242105</td>\n",
       "      <td>20.905049</td>\n",
       "      <td>0.594513</td>\n",
       "      <td>0.394737</td>\n",
       "      <td>0.394737</td>\n",
       "      <td>3.421053</td>\n",
       "      <td>0.515789</td>\n",
       "    </tr>\n",
       "    <tr>\n",
       "      <th>1</th>\n",
       "      <td>Binary Relevance</td>\n",
       "      <td>31.578947</td>\n",
       "      <td>29.333333</td>\n",
       "      <td>0.331579</td>\n",
       "      <td>6.099015</td>\n",
       "      <td>0.620260</td>\n",
       "      <td>0.496000</td>\n",
       "      <td>0.356322</td>\n",
       "      <td>3.052632</td>\n",
       "      <td>0.516228</td>\n",
       "    </tr>\n",
       "    <tr>\n",
       "      <th>2</th>\n",
       "      <td>Adapted algorithm</td>\n",
       "      <td>28.947368</td>\n",
       "      <td>36.000000</td>\n",
       "      <td>0.189474</td>\n",
       "      <td>8.942602</td>\n",
       "      <td>0.582759</td>\n",
       "      <td>0.379310</td>\n",
       "      <td>0.550000</td>\n",
       "      <td>3.842105</td>\n",
       "      <td>0.431579</td>\n",
       "    </tr>\n",
       "    <tr>\n",
       "      <th>3</th>\n",
       "      <td>Classifier chain</td>\n",
       "      <td>21.052632</td>\n",
       "      <td>17.333333</td>\n",
       "      <td>0.173684</td>\n",
       "      <td>3.870293</td>\n",
       "      <td>0.555979</td>\n",
       "      <td>0.326531</td>\n",
       "      <td>0.727273</td>\n",
       "      <td>4.157895</td>\n",
       "      <td>0.368421</td>\n",
       "    </tr>\n",
       "  </tbody>\n",
       "</table>\n",
       "</div>"
      ],
      "text/plain": [
       "               Model  Accuracy Score  Cross Validation score  Hamming Loss  \\\n",
       "0     Label powerset       39.473684               40.666667      0.242105   \n",
       "1   Binary Relevance       31.578947               29.333333      0.331579   \n",
       "2  Adapted algorithm       28.947368               36.000000      0.189474   \n",
       "3   Classifier chain       21.052632               17.333333      0.173684   \n",
       "\n",
       "    Log Loss   Auc-Roc score  F1 Score  Precision  coverage error  \\\n",
       "0  20.905049        0.594513  0.394737   0.394737        3.421053   \n",
       "1   6.099015        0.620260  0.496000   0.356322        3.052632   \n",
       "2   8.942602        0.582759  0.379310   0.550000        3.842105   \n",
       "3   3.870293        0.555979  0.326531   0.727273        4.157895   \n",
       "\n",
       "   Label ranking  \n",
       "0       0.515789  \n",
       "1       0.516228  \n",
       "2       0.431579  \n",
       "3       0.368421  "
      ]
     },
     "execution_count": 61,
     "metadata": {},
     "output_type": "execute_result"
    }
   ],
   "source": [
    "#creating a comparision table for better understanding\n",
    "\n",
    "df_comparison_heading=pd.DataFrame({\n",
    "    \"Model\":['Binary Relevance',\"Classifier chain\",\"Label powerset\",\"Adapted algorithm\"],\n",
    "    \"Accuracy Score\":[acc_br,acc_cc,acc_lps,acc_mlknn],\n",
    "    \"Cross Validation score\":[cv_br,cv_cc,cv_lps,cv_mlknn],\n",
    "    \"Hamming Loss\":[hamm_loss_br,hamm_loss_cc,hamm_loss_lps,hamm_loss_mlknn],\n",
    "    \"Log Loss\":[loss_br,loss_cc,loss_lps,loss_mlknn],\n",
    "    \" Auc-Roc score\":[auc_br,auc_cc,auc_lps,auc_mlknn],\n",
    "    \"F1 Score\":[f1_br,f1_cc,f1_lps,f1_mlknn],\n",
    "    \"Precision\":[pre_br,pre_cc,pre_lps,pre_mlknn],\n",
    "    \"coverage error\":[ce_br,ce_cc,ce_lps,ce_mlknn],\n",
    "    \"Label ranking\":[lr_br,lr_cc,lr_lps,lr_mlknn]})\n",
    "    \n",
    "\n",
    "df_comparison_heading.sort_values(by=\"Accuracy Score\",ascending=False,ignore_index=True)"
   ]
  },
  {
   "cell_type": "markdown",
   "id": "e85f051f",
   "metadata": {},
   "source": [
    "#### Conclusion:\n",
    "* The hamming loss for Classifier Chain is the least among all.\n",
    "* The log loss is least for Classifier Chain.\n",
    "* The AUC ROC Score for Binary Relevance is maximum which is 0.62\n",
    "* The accuracy score of Label Powerset is best out of 4 selected models."
   ]
  },
  {
   "cell_type": "markdown",
   "id": "b9de06fe",
   "metadata": {},
   "source": [
    "# Building model based on actual reviews and evaluation of its performance"
   ]
  },
  {
   "cell_type": "code",
   "execution_count": 62,
   "id": "24d50a4a",
   "metadata": {},
   "outputs": [],
   "source": [
    "# Separation of Labels and Features\n",
    "z = df['Review']\n",
    "y = df[['1 Star','2 Star','3 Star','4 Star','5 Star']]"
   ]
  },
  {
   "cell_type": "code",
   "execution_count": 63,
   "id": "75fbb584",
   "metadata": {},
   "outputs": [
    {
     "data": {
      "text/plain": [
       "(11324,)"
      ]
     },
     "execution_count": 63,
     "metadata": {},
     "output_type": "execute_result"
    }
   ],
   "source": [
    "z.shape"
   ]
  },
  {
   "cell_type": "code",
   "execution_count": 64,
   "id": "1cfb586d",
   "metadata": {},
   "outputs": [
    {
     "data": {
      "text/plain": [
       "(11324, 5)"
      ]
     },
     "execution_count": 64,
     "metadata": {},
     "output_type": "execute_result"
    }
   ],
   "source": [
    "y.shape"
   ]
  },
  {
   "cell_type": "code",
   "execution_count": 65,
   "id": "88bc71a8",
   "metadata": {},
   "outputs": [],
   "source": [
    "#transforming words to vectors\n",
    "#initiate tfid\n",
    "from sklearn.feature_extraction.text import TfidfVectorizer\n",
    "tf = TfidfVectorizer()\n",
    "#convert text into vectors\n",
    "z = tf.fit_transform(z)"
   ]
  },
  {
   "cell_type": "code",
   "execution_count": 66,
   "id": "822b24c9",
   "metadata": {},
   "outputs": [],
   "source": [
    "#splitting data into training and testing\n",
    "from sklearn.model_selection import train_test_split\n",
    "x_train, x_test, y_train, y_test = train_test_split(z, y, test_size=0.25, random_state=123)"
   ]
  },
  {
   "cell_type": "markdown",
   "id": "59054941",
   "metadata": {},
   "source": [
    "# 1) Power Transformation\n",
    "# 1.1 Binary relevance with GuassianNb as base classifier"
   ]
  },
  {
   "cell_type": "code",
   "execution_count": 67,
   "id": "313bc812",
   "metadata": {},
   "outputs": [
    {
     "name": "stdout",
     "output_type": "stream",
     "text": [
      "Accuracy =  6.923348640056518\n",
      "Cross validation score= 6.455345099677006\n",
      "\n",
      "\n",
      "log loss= 5.878204302930631\n",
      "hamming loss= 0.5691275167785235\n",
      "\n",
      "\n",
      "f1 score= 0.36845406083411725\n",
      "average precision score= 0.2367758186397985\n",
      "AUC ROC score= 0.532815971935535\n",
      "\n",
      "\n",
      "label ranking average precision score= 0.2997586247498034\n",
      "coverage area= 4.140233133168492\n",
      "\n",
      "\n"
     ]
    }
   ],
   "source": [
    "# using binary relevance\n",
    "from skmultilearn.problem_transform import BinaryRelevance\n",
    "from sklearn.naive_bayes import GaussianNB\n",
    "\n",
    "# initialize binary relevance multi-label classifier\n",
    "# with a gaussian naive bayes base classifier\n",
    "classifier1 = BinaryRelevance(GaussianNB())\n",
    "\n",
    "# train\n",
    "classifier1.fit(x_train, y_train)\n",
    "# predict\n",
    "predictions = classifier1.predict(x_test)\n",
    "\n",
    "# accuracy\n",
    "acc_br=accuracy_score(y_test,predictions)*100\n",
    "print(\"Accuracy = \",acc_br)\n",
    "#cross validation score\n",
    "cv_br=cross_val_score(classifier1,z,y,cv=3).mean()*100\n",
    "print(\"Cross validation score=\",cv_br)\n",
    "print(\"\\n\")\n",
    "\n",
    "#log loss\n",
    "loss_br=log_loss(y_test,predictions.toarray())\n",
    "print(\"log loss=\",loss_br)\n",
    "#hamming loss\n",
    "hamm_loss_br=hamming_loss(y_test,predictions)\n",
    "print(\"hamming loss=\",hamm_loss_br) \n",
    "print(\"\\n\")\n",
    "\n",
    "\n",
    "#f1 score\n",
    "f1_br=f1_score(y_test,predictions.toarray(),average='micro')\n",
    "print(\"f1 score=\",f1_br)\n",
    "#precision score micro averaged\n",
    "pre_br=precision_score(y_test,predictions.toarray(),average='micro')\n",
    "print(\"average precision score=\",pre_br)\n",
    "#auc roc curve\n",
    "auc_br=roc_auc_score(y_test,predictions.toarray())\n",
    "print(\"AUC ROC score=\",auc_br)\n",
    "print(\"\\n\")\n",
    "\n",
    "\n",
    "#label ranking \n",
    "lr_br=label_ranking_average_precision_score(y_test,predictions.toarray())\n",
    "print(\"label ranking average precision score=\",lr_br)\n",
    "#coverage error\n",
    "ce_br=coverage_error(y_test,predictions.toarray())\n",
    "print(\"coverage area=\",ce_br)\n",
    "print(\"\\n\")"
   ]
  },
  {
   "cell_type": "code",
   "execution_count": 68,
   "id": "9a98005f",
   "metadata": {},
   "outputs": [
    {
     "data": {
      "text/plain": [
       "array([[[ 888, 1603],\n",
       "        [  80,  260]],\n",
       "\n",
       "       [[1316, 1382],\n",
       "        [  60,   73]],\n",
       "\n",
       "       [[ 758, 1786],\n",
       "        [  86,  201]],\n",
       "\n",
       "       [[ 448, 1713],\n",
       "        [ 116,  554]],\n",
       "\n",
       "       [[ 339, 1091],\n",
       "        [ 139, 1262]]])"
      ]
     },
     "execution_count": 68,
     "metadata": {},
     "output_type": "execute_result"
    }
   ],
   "source": [
    "#confusion matrix for binary relevance\n",
    "conf_mat1=multilabel_confusion_matrix(y_test,predictions)\n",
    "conf_mat1"
   ]
  },
  {
   "cell_type": "code",
   "execution_count": 69,
   "id": "aa51c230",
   "metadata": {},
   "outputs": [
    {
     "data": {
      "image/png": "[encoded data removed]",
      "text/plain": [
       "<Figure size 1080x504 with 10 Axes>"
      ]
     },
     "metadata": {
      "needs_background": "light"
     },
     "output_type": "display_data"
    }
   ],
   "source": [
    "#plotting heatmap of confusion matrix\n",
    "a = 2  # number of rows\n",
    "b = 3  # number of columns\n",
    "c = 1  # initialize plot counter\n",
    "fig = plt.figure(figsize=(15,7))\n",
    "for i in range(0,5):\n",
    "    plt.subplot(a, b, c)\n",
    "    plt.title('{}'.format(i+1),weight='bold')\n",
    "    sns.heatmap(conf_mat1[i],annot=True,cmap='plasma',fmt=\"0.2f\",linewidths=3,linecolor='black')\n",
    "    c = c + 1\n",
    "    plt.tight_layout()\n",
    "plt.show()"
   ]
  },
  {
   "cell_type": "markdown",
   "id": "f6f2de63",
   "metadata": {},
   "source": [
    "# 1.2 Label powerset"
   ]
  },
  {
   "cell_type": "code",
   "execution_count": 70,
   "id": "faf16c89",
   "metadata": {},
   "outputs": [
    {
     "name": "stdout",
     "output_type": "stream",
     "text": [
      "Accuracy =  14.76510067114094\n",
      "Cross validation score= 15.144884658714034\n",
      "\n",
      "\n",
      "log loss= 29.43909128962187\n",
      "hamming loss= 0.3409395973154362\n",
      "\n",
      "\n",
      "AUC ROC score= 0.5158057539313053\n",
      "f1 score= 0.1476510067114094\n",
      "average precision score= 0.1476510067114094\n",
      "\n",
      "\n",
      "coverage area= 4.409395973154362\n",
      "label ranking average precision score= 0.3181208053691403\n"
     ]
    }
   ],
   "source": [
    "#create and fit classifier\n",
    "from skmultilearn.problem_transform import LabelPowerset\n",
    "from sklearn.naive_bayes import GaussianNB\n",
    "\n",
    "# initialize Label Powerset multi-label classifier\n",
    "# with a gaussian naive bayes base classifier\n",
    "classifier2 = LabelPowerset(GaussianNB())\n",
    "classifier2.fit(x_train, y_train)\n",
    "#predictions\n",
    "predictions = classifier2.predict(x_test)\n",
    "\n",
    "# accuracy\n",
    "acc_lps=accuracy_score(y_test,predictions)*100\n",
    "print(\"Accuracy = \",acc_lps)\n",
    "#cross validation score\n",
    "cv_lps=cross_val_score(classifier2,z,y,cv=3).mean()*100\n",
    "print(\"Cross validation score=\",cv_lps)\n",
    "print(\"\\n\")\n",
    "\n",
    "#log loss\n",
    "loss_lps=log_loss(y_test,predictions.toarray())\n",
    "print(\"log loss=\",loss_lps)\n",
    "#hamming loss\n",
    "hamm_loss_lps=hamming_loss(y_test,predictions)\n",
    "print(\"hamming loss=\",hamm_loss_lps)\n",
    "print(\"\\n\")\n",
    "\n",
    "#auc roc score\n",
    "auc_lps=roc_auc_score(y_test,predictions.toarray())\n",
    "print(\"AUC ROC score=\",auc_lps)\n",
    "#f1 score\n",
    "f1_lps=f1_score(y_test,predictions.toarray(),average='micro')\n",
    "print(\"f1 score=\",f1_lps)\n",
    "#precision score micro averaged\n",
    "pre_lps=precision_score(y_test,predictions.toarray(),average='micro')\n",
    "print(\"average precision score=\",pre_lps)\n",
    "print(\"\\n\")\n",
    "\n",
    "#coverage error\n",
    "ce_lps=coverage_error(y_test,predictions.toarray())\n",
    "print(\"coverage area=\",ce_lps)\n",
    "#label ranking \n",
    "lr_lps=label_ranking_average_precision_score(y_test,predictions.toarray())\n",
    "print(\"label ranking average precision score=\",lr_lps)"
   ]
  },
  {
   "cell_type": "code",
   "execution_count": 71,
   "id": "8baaa3d7",
   "metadata": {},
   "outputs": [
    {
     "data": {
      "text/plain": [
       "array([[[2328,  163],\n",
       "        [ 267,   73]],\n",
       "\n",
       "       [[1362, 1336],\n",
       "        [  61,   72]],\n",
       "\n",
       "       [[1958,  586],\n",
       "        [ 247,   40]],\n",
       "\n",
       "       [[1951,  210],\n",
       "        [ 584,   86]],\n",
       "\n",
       "       [[1312,  118],\n",
       "        [1254,  147]]])"
      ]
     },
     "execution_count": 71,
     "metadata": {},
     "output_type": "execute_result"
    }
   ],
   "source": [
    "#confusion matrix for label powerset\n",
    "conf_mat2=multilabel_confusion_matrix(y_test,predictions)\n",
    "conf_mat2"
   ]
  },
  {
   "cell_type": "code",
   "execution_count": 72,
   "id": "881ad191",
   "metadata": {},
   "outputs": [
    {
     "data": {
      "image/png": "[encoded data removed]",
      "text/plain": [
       "<Figure size 1080x504 with 10 Axes>"
      ]
     },
     "metadata": {
      "needs_background": "light"
     },
     "output_type": "display_data"
    }
   ],
   "source": [
    "#plotting heatmap of confusion matrix\n",
    "a = 2  # number of rows\n",
    "b = 3  # number of columns\n",
    "c = 1  # initialize plot counter\n",
    "fig = plt.figure(figsize=(15,7))\n",
    "for i in range(0,5): \n",
    "    plt.subplot(a, b, c)\n",
    "    plt.title('{}'.format(i+1),weight='bold')\n",
    "    sns.heatmap(conf_mat2[i],annot=True,cmap='plasma',fmt=\"0.2f\",linewidths=3,linecolor='black')\n",
    "    c = c + 1\n",
    "    plt.tight_layout()\n",
    "plt.show()"
   ]
  },
  {
   "cell_type": "markdown",
   "id": "9d52a086",
   "metadata": {},
   "source": [
    "# 2 ) Classifier chain with MultinomialNB classifier (ensemble)"
   ]
  },
  {
   "cell_type": "code",
   "execution_count": 73,
   "id": "efd0af61",
   "metadata": {},
   "outputs": [
    {
     "name": "stdout",
     "output_type": "stream",
     "text": [
      "Accuracy =  47.12115860120099\n",
      "Cross validation score= 46.547164226946066\n",
      "\n",
      "\n",
      "log loss= 9.365455430620528\n",
      "hamming loss= 0.15747085835393854\n",
      "\n",
      "\n",
      "AUC ROC score= 0.5490725081273565\n",
      "f1 score= 0.5448233612415766\n",
      "average precision score= 0.6456921587608906\n",
      "\n",
      "\n",
      "coverage area= 3.1151536559519606\n",
      "label ranking average precision score= 0.5769692688096231\n"
     ]
    }
   ],
   "source": [
    "#create and fit classifier\n",
    "from sklearn.naive_bayes import MultinomialNB\n",
    "from skmultilearn.problem_transform import ClassifierChain\n",
    "classifier3 = ClassifierChain(MultinomialNB())\n",
    "classifier3.fit(x_train, y_train)\n",
    "\n",
    "#predictions\n",
    "predictions = classifier3.predict(x_test)\n",
    "# accuracy\n",
    "acc_cc=accuracy_score(y_test,predictions)*100\n",
    "print(\"Accuracy = \",acc_cc)\n",
    "#cross validation score\n",
    "cv_cc=cross_val_score(classifier3,z,y,cv=3).mean()*100\n",
    "print(\"Cross validation score=\",cv_cc)\n",
    "print(\"\\n\")\n",
    "\n",
    "#log loss\n",
    "loss_cc=log_loss(y_test,predictions.toarray())\n",
    "print(\"log loss=\",loss_cc)\n",
    "#hamming loss\n",
    "hamm_loss_cc=hamming_loss(y_test,predictions)\n",
    "print(\"hamming loss=\",hamm_loss_cc)\n",
    "print(\"\\n\")\n",
    "\n",
    "#auc roc score\n",
    "auc_cc=roc_auc_score(y_test,predictions.toarray())\n",
    "print(\"AUC ROC score=\",auc_cc)\n",
    "#f1 score\n",
    "f1_cc=f1_score(y_test,predictions.toarray(),average='micro')\n",
    "print(\"f1 score=\",f1_cc)\n",
    "#precision score micro averaged\n",
    "pre_cc=precision_score(y_test,predictions.toarray(),average='micro')\n",
    "print(\"average precision score=\",pre_cc)\n",
    "print(\"\\n\")\n",
    "\n",
    "#coverage error\n",
    "ce_cc=coverage_error(y_test,predictions.toarray())\n",
    "print(\"coverage area=\",ce_cc)\n",
    "\n",
    "#label ranking \n",
    "lr_cc=label_ranking_average_precision_score(y_test,predictions.toarray())\n",
    "print(\"label ranking average precision score=\",lr_cc)"
   ]
  },
  {
   "cell_type": "code",
   "execution_count": 74,
   "id": "a5841cd0",
   "metadata": {},
   "outputs": [
    {
     "data": {
      "text/plain": [
       "array([[[2485,    6],\n",
       "        [ 321,   19]],\n",
       "\n",
       "       [[2698,    0],\n",
       "        [ 133,    0]],\n",
       "\n",
       "       [[2544,    0],\n",
       "        [ 287,    0]],\n",
       "\n",
       "       [[2154,    7],\n",
       "        [ 664,    6]],\n",
       "\n",
       "       [[ 711,  719],\n",
       "        [  92, 1309]]])"
      ]
     },
     "execution_count": 74,
     "metadata": {},
     "output_type": "execute_result"
    }
   ],
   "source": [
    "#confusion matrix for classifier chain\n",
    "conf_mat3=multilabel_confusion_matrix(y_test,predictions)\n",
    "conf_mat3"
   ]
  },
  {
   "cell_type": "code",
   "execution_count": 75,
   "id": "b6a22b48",
   "metadata": {},
   "outputs": [
    {
     "data": {
      "image/png": "[encoded data removed]",
      "text/plain": [
       "<Figure size 1080x504 with 10 Axes>"
      ]
     },
     "metadata": {
      "needs_background": "light"
     },
     "output_type": "display_data"
    }
   ],
   "source": [
    "#plotting heatmap of confusion matrix\n",
    "a = 2  # number of rows\n",
    "b = 3  # number of columns\n",
    "c = 1  # initialize plot counter\n",
    "fig = plt.figure(figsize=(15,7))\n",
    "for i in range(0,5): \n",
    "    plt.subplot(a, b, c)\n",
    "    plt.title('{}'.format(i+1),weight='bold')\n",
    "    sns.heatmap(conf_mat3[i],annot=True,cmap='plasma',fmt=\"0.2f\",linewidths=3,linecolor='black')\n",
    "    c = c + 1\n",
    "    plt.tight_layout()\n",
    "plt.show()"
   ]
  },
  {
   "cell_type": "markdown",
   "id": "468e5578",
   "metadata": {},
   "source": [
    "# 3) Adapted Algorithm"
   ]
  },
  {
   "cell_type": "code",
   "execution_count": 76,
   "id": "23b0b8f1",
   "metadata": {},
   "outputs": [
    {
     "name": "stdout",
     "output_type": "stream",
     "text": [
      "Accuracy =  25.07947721653126\n",
      "Cross validation score= 40.82424535950053\n",
      "\n",
      "\n",
      "log loss= 12.846690994297392\n",
      "hamming loss= 0.2256446485340869\n",
      "\n",
      "\n",
      "AUC ROC score= 0.559819484324664\n",
      "f1 score= 0.3258758970029548\n",
      "average precision score= 0.40482433141059254\n",
      "\n",
      "\n",
      "label ranking average precision score= 0.40720593429884927\n",
      "coverage area= 3.9311197456729072\n"
     ]
    }
   ],
   "source": [
    "from skmultilearn.adapt import MLkNN\n",
    "classifier4 = MLkNN(k=3)\n",
    "# train\n",
    "classifier4.fit(x_train, y_train.values)\n",
    "#predictions\n",
    "predictions = classifier4.predict(x_test)\n",
    "\n",
    "# accuracy\n",
    "acc_mlknn=accuracy_score(y_test,predictions)*100\n",
    "print(\"Accuracy = \",acc_mlknn)\n",
    "#cross validation score\n",
    "cv_mlknn=cross_val_score(classifier4,z,y.values,cv=3).mean()*100\n",
    "print(\"Cross validation score=\",cv_mlknn)\n",
    "print(\"\\n\")\n",
    "\n",
    "#log loss\n",
    "loss_mlknn=log_loss(y_test,predictions.toarray())\n",
    "print(\"log loss=\",loss_mlknn)\n",
    "#hamming loss\n",
    "hamm_loss_mlknn=hamming_loss(y_test,predictions)\n",
    "print(\"hamming loss=\",hamm_loss_mlknn)\n",
    "print(\"\\n\")\n",
    "\n",
    "#auc roc score\n",
    "auc_mlknn=roc_auc_score(y_test,predictions.toarray())\n",
    "print(\"AUC ROC score=\",auc_mlknn)\n",
    "#f1 score\n",
    "f1_mlknn=f1_score(y_test,predictions.toarray(),average='micro')\n",
    "print(\"f1 score=\",f1_mlknn)\n",
    "#precision score micro averaged\n",
    "pre_mlknn=precision_score(y_test,predictions.toarray(),average='micro')\n",
    "print(\"average precision score=\",pre_mlknn)\n",
    "print(\"\\n\")\n",
    "\n",
    "#label ranking \n",
    "lr_mlknn=label_ranking_average_precision_score(y_test,predictions.toarray())\n",
    "print(\"label ranking average precision score=\",lr_mlknn)\n",
    "#coverage error\n",
    "ce_mlknn=coverage_error(y_test,predictions.toarray())\n",
    "print(\"coverage area=\",ce_mlknn)"
   ]
  },
  {
   "cell_type": "code",
   "execution_count": 77,
   "id": "c79ca395",
   "metadata": {},
   "outputs": [
    {
     "data": {
      "text/plain": [
       "array([[[2272,  219],\n",
       "        [ 199,  141]],\n",
       "\n",
       "       [[2676,   22],\n",
       "        [ 128,    5]],\n",
       "\n",
       "       [[2479,   65],\n",
       "        [ 262,   25]],\n",
       "\n",
       "       [[1515,  646],\n",
       "        [ 441,  229]],\n",
       "\n",
       "       [[1247,  183],\n",
       "        [1029,  372]]])"
      ]
     },
     "execution_count": 77,
     "metadata": {},
     "output_type": "execute_result"
    }
   ],
   "source": [
    "#confusion matrix for mlknn\n",
    "conf_mat4=multilabel_confusion_matrix(y_test,predictions)\n",
    "conf_mat4"
   ]
  },
  {
   "cell_type": "code",
   "execution_count": 78,
   "id": "d71a1dbe",
   "metadata": {},
   "outputs": [
    {
     "data": {
      "image/png": "[encoded data removed]",
      "text/plain": [
       "<Figure size 1080x504 with 10 Axes>"
      ]
     },
     "metadata": {
      "needs_background": "light"
     },
     "output_type": "display_data"
    }
   ],
   "source": [
    "a = 2  # number of rows\n",
    "b = 3  # number of columns\n",
    "c = 1  # initialize plot counter\n",
    "fig = plt.figure(figsize=(15,7))\n",
    "for i in range(0,5): \n",
    "    plt.subplot(a, b, c)\n",
    "    plt.title('{}'.format(i+1),weight='bold')\n",
    "    sns.heatmap(conf_mat4[i],annot=True,cmap='plasma',fmt=\"0.2f\",linewidths=3,linecolor='black')\n",
    "    c = c + 1\n",
    "    plt.tight_layout()\n",
    "plt.show()\n",
    "  "
   ]
  },
  {
   "cell_type": "markdown",
   "id": "e9359e29",
   "metadata": {},
   "source": [
    "# Comparing all the models performance"
   ]
  },
  {
   "cell_type": "code",
   "execution_count": 79,
   "id": "6b92ee4d",
   "metadata": {},
   "outputs": [
    {
     "data": {
      "text/html": [
       "<div>\n",
       "<style scoped>\n",
       "    .dataframe tbody tr th:only-of-type {\n",
       "        vertical-align: middle;\n",
       "    }\n",
       "\n",
       "    .dataframe tbody tr th {\n",
       "        vertical-align: top;\n",
       "    }\n",
       "\n",
       "    .dataframe thead th {\n",
       "        text-align: right;\n",
       "    }\n",
       "</style>\n",
       "<table border=\"1\" class=\"dataframe\">\n",
       "  <thead>\n",
       "    <tr style=\"text-align: right;\">\n",
       "      <th></th>\n",
       "      <th>Model</th>\n",
       "      <th>Accuracy Score</th>\n",
       "      <th>Cross Validation score</th>\n",
       "      <th>Hamming Loss</th>\n",
       "      <th>Log Loss</th>\n",
       "      <th>Auc-Roc score</th>\n",
       "      <th>F1 Score</th>\n",
       "      <th>Precision</th>\n",
       "      <th>coverage error</th>\n",
       "      <th>Label ranking</th>\n",
       "    </tr>\n",
       "  </thead>\n",
       "  <tbody>\n",
       "    <tr>\n",
       "      <th>0</th>\n",
       "      <td>Classifier chain</td>\n",
       "      <td>47.121159</td>\n",
       "      <td>46.547164</td>\n",
       "      <td>0.157471</td>\n",
       "      <td>9.365455</td>\n",
       "      <td>0.549073</td>\n",
       "      <td>0.544823</td>\n",
       "      <td>0.645692</td>\n",
       "      <td>3.115154</td>\n",
       "      <td>0.576969</td>\n",
       "    </tr>\n",
       "    <tr>\n",
       "      <th>1</th>\n",
       "      <td>Adapted algorithm</td>\n",
       "      <td>25.079477</td>\n",
       "      <td>40.824245</td>\n",
       "      <td>0.225645</td>\n",
       "      <td>12.846691</td>\n",
       "      <td>0.559819</td>\n",
       "      <td>0.325876</td>\n",
       "      <td>0.404824</td>\n",
       "      <td>3.931120</td>\n",
       "      <td>0.407206</td>\n",
       "    </tr>\n",
       "    <tr>\n",
       "      <th>2</th>\n",
       "      <td>Label powerset</td>\n",
       "      <td>14.765101</td>\n",
       "      <td>15.144885</td>\n",
       "      <td>0.340940</td>\n",
       "      <td>29.439091</td>\n",
       "      <td>0.515806</td>\n",
       "      <td>0.147651</td>\n",
       "      <td>0.147651</td>\n",
       "      <td>4.409396</td>\n",
       "      <td>0.318121</td>\n",
       "    </tr>\n",
       "    <tr>\n",
       "      <th>3</th>\n",
       "      <td>Binary Relevance</td>\n",
       "      <td>6.923349</td>\n",
       "      <td>6.455345</td>\n",
       "      <td>0.569128</td>\n",
       "      <td>5.878204</td>\n",
       "      <td>0.532816</td>\n",
       "      <td>0.368454</td>\n",
       "      <td>0.236776</td>\n",
       "      <td>4.140233</td>\n",
       "      <td>0.299759</td>\n",
       "    </tr>\n",
       "  </tbody>\n",
       "</table>\n",
       "</div>"
      ],
      "text/plain": [
       "               Model  Accuracy Score  Cross Validation score  Hamming Loss  \\\n",
       "0   Classifier chain       47.121159               46.547164      0.157471   \n",
       "1  Adapted algorithm       25.079477               40.824245      0.225645   \n",
       "2     Label powerset       14.765101               15.144885      0.340940   \n",
       "3   Binary Relevance        6.923349                6.455345      0.569128   \n",
       "\n",
       "    Log Loss   Auc-Roc score  F1 Score  Precision  coverage error  \\\n",
       "0   9.365455        0.549073  0.544823   0.645692        3.115154   \n",
       "1  12.846691        0.559819  0.325876   0.404824        3.931120   \n",
       "2  29.439091        0.515806  0.147651   0.147651        4.409396   \n",
       "3   5.878204        0.532816  0.368454   0.236776        4.140233   \n",
       "\n",
       "   Label ranking  \n",
       "0       0.576969  \n",
       "1       0.407206  \n",
       "2       0.318121  \n",
       "3       0.299759  "
      ]
     },
     "execution_count": 79,
     "metadata": {},
     "output_type": "execute_result"
    }
   ],
   "source": [
    "#creating a comparision table for better understanding\n",
    "\n",
    "df_comparison_review=pd.DataFrame({\n",
    "    \"Model\":['Binary Relevance',\"Classifier chain\",\"Label powerset\",\"Adapted algorithm\"],\n",
    "    \"Accuracy Score\":[acc_br,acc_cc,acc_lps,acc_mlknn],\n",
    "    \"Cross Validation score\":[cv_br,cv_cc,cv_lps,cv_mlknn],\n",
    "    \"Hamming Loss\":[hamm_loss_br,hamm_loss_cc,hamm_loss_lps,hamm_loss_mlknn],\n",
    "    \"Log Loss\":[loss_br,loss_cc,loss_lps,loss_mlknn],\n",
    "    \" Auc-Roc score\":[auc_br,auc_cc,auc_lps,auc_mlknn],\n",
    "    \"F1 Score\":[f1_br,f1_cc,f1_lps,f1_mlknn],\n",
    "    \"Precision\":[pre_br,pre_cc,pre_lps,pre_mlknn],\n",
    "    \"coverage error\":[ce_br,ce_cc,ce_lps,ce_mlknn],\n",
    "    \"Label ranking\":[lr_br,lr_cc,lr_lps,lr_mlknn]})\n",
    "    \n",
    "\n",
    "df_comparison_review.sort_values(by=\"Accuracy Score\",ascending=False,ignore_index=True)"
   ]
  },
  {
   "cell_type": "markdown",
   "id": "a59249b0",
   "metadata": {},
   "source": [
    "#### Conclusion:\n",
    "* The hamming loss for Classifier Chain is the least among all.\n",
    "* The log loss is least for Binary Relevance.\n",
    "* The AUC ROC Score for Adapted Algorithm is maximum which is 0.56\n",
    "* The accuracy score of Classifier Chain is best out of 4 selected models."
   ]
  },
  {
   "cell_type": "markdown",
   "id": "60239b0a",
   "metadata": {},
   "source": [
    "# Comparison of Model performance for heading and review"
   ]
  },
  {
   "cell_type": "code",
   "execution_count": 80,
   "id": "c5db30b5",
   "metadata": {},
   "outputs": [
    {
     "data": {
      "text/html": [
       "<div>\n",
       "<style scoped>\n",
       "    .dataframe tbody tr th:only-of-type {\n",
       "        vertical-align: middle;\n",
       "    }\n",
       "\n",
       "    .dataframe tbody tr th {\n",
       "        vertical-align: top;\n",
       "    }\n",
       "\n",
       "    .dataframe thead th {\n",
       "        text-align: right;\n",
       "    }\n",
       "</style>\n",
       "<table border=\"1\" class=\"dataframe\">\n",
       "  <thead>\n",
       "    <tr style=\"text-align: right;\">\n",
       "      <th></th>\n",
       "      <th>Model</th>\n",
       "      <th>Accuracy Score</th>\n",
       "      <th>Cross Validation score</th>\n",
       "      <th>Hamming Loss</th>\n",
       "      <th>Log Loss</th>\n",
       "      <th>Auc-Roc score</th>\n",
       "      <th>F1 Score</th>\n",
       "      <th>Precision</th>\n",
       "      <th>coverage error</th>\n",
       "      <th>Label ranking</th>\n",
       "      <th>Data</th>\n",
       "    </tr>\n",
       "  </thead>\n",
       "  <tbody>\n",
       "    <tr>\n",
       "      <th>0</th>\n",
       "      <td>Binary Relevance</td>\n",
       "      <td>31.578947</td>\n",
       "      <td>29.333333</td>\n",
       "      <td>0.331579</td>\n",
       "      <td>6.099015</td>\n",
       "      <td>0.620260</td>\n",
       "      <td>0.496000</td>\n",
       "      <td>0.356322</td>\n",
       "      <td>3.052632</td>\n",
       "      <td>0.516228</td>\n",
       "      <td>Heading</td>\n",
       "    </tr>\n",
       "    <tr>\n",
       "      <th>1</th>\n",
       "      <td>Classifier chain</td>\n",
       "      <td>21.052632</td>\n",
       "      <td>17.333333</td>\n",
       "      <td>0.173684</td>\n",
       "      <td>3.870293</td>\n",
       "      <td>0.555979</td>\n",
       "      <td>0.326531</td>\n",
       "      <td>0.727273</td>\n",
       "      <td>4.157895</td>\n",
       "      <td>0.368421</td>\n",
       "      <td>Heading</td>\n",
       "    </tr>\n",
       "    <tr>\n",
       "      <th>2</th>\n",
       "      <td>Label powerset</td>\n",
       "      <td>39.473684</td>\n",
       "      <td>40.666667</td>\n",
       "      <td>0.242105</td>\n",
       "      <td>20.905049</td>\n",
       "      <td>0.594513</td>\n",
       "      <td>0.394737</td>\n",
       "      <td>0.394737</td>\n",
       "      <td>3.421053</td>\n",
       "      <td>0.515789</td>\n",
       "      <td>Heading</td>\n",
       "    </tr>\n",
       "    <tr>\n",
       "      <th>3</th>\n",
       "      <td>Adapted algorithm</td>\n",
       "      <td>28.947368</td>\n",
       "      <td>36.000000</td>\n",
       "      <td>0.189474</td>\n",
       "      <td>8.942602</td>\n",
       "      <td>0.582759</td>\n",
       "      <td>0.379310</td>\n",
       "      <td>0.550000</td>\n",
       "      <td>3.842105</td>\n",
       "      <td>0.431579</td>\n",
       "      <td>Heading</td>\n",
       "    </tr>\n",
       "    <tr>\n",
       "      <th>0</th>\n",
       "      <td>Binary Relevance</td>\n",
       "      <td>6.923349</td>\n",
       "      <td>6.455345</td>\n",
       "      <td>0.569128</td>\n",
       "      <td>5.878204</td>\n",
       "      <td>0.532816</td>\n",
       "      <td>0.368454</td>\n",
       "      <td>0.236776</td>\n",
       "      <td>4.140233</td>\n",
       "      <td>0.299759</td>\n",
       "      <td>Review</td>\n",
       "    </tr>\n",
       "    <tr>\n",
       "      <th>1</th>\n",
       "      <td>Classifier chain</td>\n",
       "      <td>47.121159</td>\n",
       "      <td>46.547164</td>\n",
       "      <td>0.157471</td>\n",
       "      <td>9.365455</td>\n",
       "      <td>0.549073</td>\n",
       "      <td>0.544823</td>\n",
       "      <td>0.645692</td>\n",
       "      <td>3.115154</td>\n",
       "      <td>0.576969</td>\n",
       "      <td>Review</td>\n",
       "    </tr>\n",
       "    <tr>\n",
       "      <th>2</th>\n",
       "      <td>Label powerset</td>\n",
       "      <td>14.765101</td>\n",
       "      <td>15.144885</td>\n",
       "      <td>0.340940</td>\n",
       "      <td>29.439091</td>\n",
       "      <td>0.515806</td>\n",
       "      <td>0.147651</td>\n",
       "      <td>0.147651</td>\n",
       "      <td>4.409396</td>\n",
       "      <td>0.318121</td>\n",
       "      <td>Review</td>\n",
       "    </tr>\n",
       "    <tr>\n",
       "      <th>3</th>\n",
       "      <td>Adapted algorithm</td>\n",
       "      <td>25.079477</td>\n",
       "      <td>40.824245</td>\n",
       "      <td>0.225645</td>\n",
       "      <td>12.846691</td>\n",
       "      <td>0.559819</td>\n",
       "      <td>0.325876</td>\n",
       "      <td>0.404824</td>\n",
       "      <td>3.931120</td>\n",
       "      <td>0.407206</td>\n",
       "      <td>Review</td>\n",
       "    </tr>\n",
       "  </tbody>\n",
       "</table>\n",
       "</div>"
      ],
      "text/plain": [
       "               Model  Accuracy Score  Cross Validation score  Hamming Loss  \\\n",
       "0   Binary Relevance       31.578947               29.333333      0.331579   \n",
       "1   Classifier chain       21.052632               17.333333      0.173684   \n",
       "2     Label powerset       39.473684               40.666667      0.242105   \n",
       "3  Adapted algorithm       28.947368               36.000000      0.189474   \n",
       "0   Binary Relevance        6.923349                6.455345      0.569128   \n",
       "1   Classifier chain       47.121159               46.547164      0.157471   \n",
       "2     Label powerset       14.765101               15.144885      0.340940   \n",
       "3  Adapted algorithm       25.079477               40.824245      0.225645   \n",
       "\n",
       "    Log Loss   Auc-Roc score  F1 Score  Precision  coverage error  \\\n",
       "0   6.099015        0.620260  0.496000   0.356322        3.052632   \n",
       "1   3.870293        0.555979  0.326531   0.727273        4.157895   \n",
       "2  20.905049        0.594513  0.394737   0.394737        3.421053   \n",
       "3   8.942602        0.582759  0.379310   0.550000        3.842105   \n",
       "0   5.878204        0.532816  0.368454   0.236776        4.140233   \n",
       "1   9.365455        0.549073  0.544823   0.645692        3.115154   \n",
       "2  29.439091        0.515806  0.147651   0.147651        4.409396   \n",
       "3  12.846691        0.559819  0.325876   0.404824        3.931120   \n",
       "\n",
       "   Label ranking     Data  \n",
       "0       0.516228  Heading  \n",
       "1       0.368421  Heading  \n",
       "2       0.515789  Heading  \n",
       "3       0.431579  Heading  \n",
       "0       0.299759   Review  \n",
       "1       0.576969   Review  \n",
       "2       0.318121   Review  \n",
       "3       0.407206   Review  "
      ]
     },
     "execution_count": 80,
     "metadata": {},
     "output_type": "execute_result"
    }
   ],
   "source": [
    "df_comparison_heading['Data']='Heading'\n",
    "df_comparison_review['Data']='Review'\n",
    "df_merged=pd.concat([df_comparison_heading,df_comparison_review])\n",
    "df_merged"
   ]
  },
  {
   "cell_type": "markdown",
   "id": "921dce05",
   "metadata": {},
   "source": [
    "#### Conclusion:\n",
    "* The hamming loss by Classifier Chain is the least both for heading of reviews and reviews.\n",
    "* The log loss is least by Clasifier Chain for heading of reviews and Binary Relevance for reviews. \n",
    "* The AUC ROC Score by Binary Relevanve is maximum for heading and by Adapted Algorithm for reviews.\n",
    "* The accuracy score of Label Powerset is best for heading and Classifier Chain for reviews"
   ]
  },
  {
   "cell_type": "markdown",
   "id": "861672ad",
   "metadata": {},
   "source": [
    "# Saving Best Model"
   ]
  },
  {
   "cell_type": "markdown",
   "id": "f804da56",
   "metadata": {},
   "source": [
    "# saving classifier chain as our best model\n",
    "import pickle\n",
    "filename=\"Review_Classification_Laptop_Model.pkl\"\n",
    "pickle.dump(classifier3,open(filename,'wb'))"
   ]
  },
  {
   "cell_type": "code",
   "execution_count": null,
   "id": "53dc22e4",
   "metadata": {},
   "outputs": [],
   "source": []
  }
 ],
 "metadata": {
  "kernelspec": {
   "display_name": "Python 3",
   "language": "python",
   "name": "python3"
  },
  "language_info": {
   "codemirror_mode": {
    "name": "ipython",
    "version": 3
   },
   "file_extension": ".py",
   "mimetype": "text/x-python",
   "name": "python",
   "nbconvert_exporter": "python",
   "pygments_lexer": "ipython3",
   "version": "3.8.8"
  }
 },
 "nbformat": 4,
 "nbformat_minor": 5
}
