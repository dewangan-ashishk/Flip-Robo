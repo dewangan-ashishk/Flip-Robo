{
 "cells": [
  {
   "cell_type": "markdown",
   "id": "f94d6d75",
   "metadata": {},
   "source": [
    "# Review Classification - Printer"
   ]
  },
  {
   "cell_type": "code",
   "execution_count": 1,
   "id": "dd2790c9",
   "metadata": {},
   "outputs": [
    {
     "data": {
      "text/html": [
       "<div>\n",
       "<style scoped>\n",
       "    .dataframe tbody tr th:only-of-type {\n",
       "        vertical-align: middle;\n",
       "    }\n",
       "\n",
       "    .dataframe tbody tr th {\n",
       "        vertical-align: top;\n",
       "    }\n",
       "\n",
       "    .dataframe thead th {\n",
       "        text-align: right;\n",
       "    }\n",
       "</style>\n",
       "<table border=\"1\" class=\"dataframe\">\n",
       "  <thead>\n",
       "    <tr style=\"text-align: right;\">\n",
       "      <th></th>\n",
       "      <th>Unnamed: 0</th>\n",
       "      <th>Rating</th>\n",
       "      <th>Heading</th>\n",
       "      <th>Review</th>\n",
       "      <th>Product</th>\n",
       "    </tr>\n",
       "  </thead>\n",
       "  <tbody>\n",
       "    <tr>\n",
       "      <th>0</th>\n",
       "      <td>0</td>\n",
       "      <td>5.0</td>\n",
       "      <td>Perfect product!</td>\n",
       "      <td>Very nice printer, is worth the purchase. Idea...</td>\n",
       "      <td>Printer</td>\n",
       "    </tr>\n",
       "    <tr>\n",
       "      <th>1</th>\n",
       "      <td>1</td>\n",
       "      <td>5.0</td>\n",
       "      <td>Excellent</td>\n",
       "      <td>great !! easy to use ,, budget friendly,, good...</td>\n",
       "      <td>Printer</td>\n",
       "    </tr>\n",
       "    <tr>\n",
       "      <th>2</th>\n",
       "      <td>2</td>\n",
       "      <td>5.0</td>\n",
       "      <td>Brilliant</td>\n",
       "      <td>nice product\\nI am a student I ordered this fo...</td>\n",
       "      <td>Printer</td>\n",
       "    </tr>\n",
       "    <tr>\n",
       "      <th>3</th>\n",
       "      <td>3</td>\n",
       "      <td>NaN</td>\n",
       "      <td>NaN</td>\n",
       "      <td>NaN</td>\n",
       "      <td>Printer</td>\n",
       "    </tr>\n",
       "    <tr>\n",
       "      <th>4</th>\n",
       "      <td>4</td>\n",
       "      <td>NaN</td>\n",
       "      <td>NaN</td>\n",
       "      <td>NaN</td>\n",
       "      <td>Printer</td>\n",
       "    </tr>\n",
       "  </tbody>\n",
       "</table>\n",
       "</div>"
      ],
      "text/plain": [
       "   Unnamed: 0  Rating           Heading  \\\n",
       "0           0     5.0  Perfect product!   \n",
       "1           1     5.0         Excellent   \n",
       "2           2     5.0         Brilliant   \n",
       "3           3     NaN               NaN   \n",
       "4           4     NaN               NaN   \n",
       "\n",
       "                                              Review  Product  \n",
       "0  Very nice printer, is worth the purchase. Idea...  Printer  \n",
       "1  great !! easy to use ,, budget friendly,, good...  Printer  \n",
       "2  nice product\\nI am a student I ordered this fo...  Printer  \n",
       "3                                                NaN  Printer  \n",
       "4                                                NaN  Printer  "
      ]
     },
     "execution_count": 1,
     "metadata": {},
     "output_type": "execute_result"
    }
   ],
   "source": [
    "#import the dataset\n",
    "import pandas as pd\n",
    "import numpy as np\n",
    "\n",
    "import warnings\n",
    "warnings.filterwarnings('ignore')\n",
    "pd.set_option('Display.max_columns',None)\n",
    "pd.set_option('Display.max_rows',None)\n",
    "\n",
    "df=pd.read_csv(\"Printer Rating.csv\")\n",
    "df.head()"
   ]
  },
  {
   "cell_type": "markdown",
   "id": "88314aee",
   "metadata": {},
   "source": [
    "#### Observations:\n",
    "* The feature unnamed is index. Hence we can drop this feature."
   ]
  },
  {
   "cell_type": "code",
   "execution_count": 2,
   "id": "69662b3e",
   "metadata": {},
   "outputs": [
    {
     "data": {
      "text/html": [
       "<div>\n",
       "<style scoped>\n",
       "    .dataframe tbody tr th:only-of-type {\n",
       "        vertical-align: middle;\n",
       "    }\n",
       "\n",
       "    .dataframe tbody tr th {\n",
       "        vertical-align: top;\n",
       "    }\n",
       "\n",
       "    .dataframe thead th {\n",
       "        text-align: right;\n",
       "    }\n",
       "</style>\n",
       "<table border=\"1\" class=\"dataframe\">\n",
       "  <thead>\n",
       "    <tr style=\"text-align: right;\">\n",
       "      <th></th>\n",
       "      <th>Rating</th>\n",
       "      <th>Heading</th>\n",
       "      <th>Review</th>\n",
       "      <th>Product</th>\n",
       "    </tr>\n",
       "  </thead>\n",
       "  <tbody>\n",
       "    <tr>\n",
       "      <th>0</th>\n",
       "      <td>5.0</td>\n",
       "      <td>Perfect product!</td>\n",
       "      <td>Very nice printer, is worth the purchase. Idea...</td>\n",
       "      <td>Printer</td>\n",
       "    </tr>\n",
       "    <tr>\n",
       "      <th>1</th>\n",
       "      <td>5.0</td>\n",
       "      <td>Excellent</td>\n",
       "      <td>great !! easy to use ,, budget friendly,, good...</td>\n",
       "      <td>Printer</td>\n",
       "    </tr>\n",
       "    <tr>\n",
       "      <th>2</th>\n",
       "      <td>5.0</td>\n",
       "      <td>Brilliant</td>\n",
       "      <td>nice product\\nI am a student I ordered this fo...</td>\n",
       "      <td>Printer</td>\n",
       "    </tr>\n",
       "    <tr>\n",
       "      <th>3</th>\n",
       "      <td>NaN</td>\n",
       "      <td>NaN</td>\n",
       "      <td>NaN</td>\n",
       "      <td>Printer</td>\n",
       "    </tr>\n",
       "    <tr>\n",
       "      <th>4</th>\n",
       "      <td>NaN</td>\n",
       "      <td>NaN</td>\n",
       "      <td>NaN</td>\n",
       "      <td>Printer</td>\n",
       "    </tr>\n",
       "  </tbody>\n",
       "</table>\n",
       "</div>"
      ],
      "text/plain": [
       "   Rating           Heading  \\\n",
       "0     5.0  Perfect product!   \n",
       "1     5.0         Excellent   \n",
       "2     5.0         Brilliant   \n",
       "3     NaN               NaN   \n",
       "4     NaN               NaN   \n",
       "\n",
       "                                              Review  Product  \n",
       "0  Very nice printer, is worth the purchase. Idea...  Printer  \n",
       "1  great !! easy to use ,, budget friendly,, good...  Printer  \n",
       "2  nice product\\nI am a student I ordered this fo...  Printer  \n",
       "3                                                NaN  Printer  \n",
       "4                                                NaN  Printer  "
      ]
     },
     "execution_count": 2,
     "metadata": {},
     "output_type": "execute_result"
    }
   ],
   "source": [
    "df.drop(['Unnamed: 0'], axis=1, inplace=True)\n",
    "df.head()"
   ]
  },
  {
   "cell_type": "markdown",
   "id": "6a3d6c3d",
   "metadata": {},
   "source": [
    "# Exploratory Data Analysis"
   ]
  },
  {
   "cell_type": "code",
   "execution_count": 3,
   "id": "5c7a129f",
   "metadata": {},
   "outputs": [
    {
     "data": {
      "text/plain": [
       "(14939, 4)"
      ]
     },
     "execution_count": 3,
     "metadata": {},
     "output_type": "execute_result"
    }
   ],
   "source": [
    "#check the dimensions of the data (Headphone)\n",
    "df.shape"
   ]
  },
  {
   "cell_type": "markdown",
   "id": "46f35542",
   "metadata": {},
   "source": [
    "#### Observations\n",
    "* The dataset has 14939 rows and 4 columns\n",
    "* The dataset has 1 label - 'Rating' and 3 features"
   ]
  },
  {
   "cell_type": "code",
   "execution_count": 4,
   "id": "a3f16b00",
   "metadata": {},
   "outputs": [
    {
     "data": {
      "text/plain": [
       "Index(['Rating', 'Heading', 'Review', 'Product'], dtype='object')"
      ]
     },
     "execution_count": 4,
     "metadata": {},
     "output_type": "execute_result"
    }
   ],
   "source": [
    "#check the names of columns in dataset\n",
    "df.columns"
   ]
  },
  {
   "cell_type": "code",
   "execution_count": 5,
   "id": "357da756",
   "metadata": {},
   "outputs": [
    {
     "data": {
      "text/plain": [
       "Rating     float64\n",
       "Heading     object\n",
       "Review      object\n",
       "Product     object\n",
       "dtype: object"
      ]
     },
     "execution_count": 5,
     "metadata": {},
     "output_type": "execute_result"
    }
   ],
   "source": [
    "#check the datatype of each feature\n",
    "df.dtypes"
   ]
  },
  {
   "cell_type": "markdown",
   "id": "e6a143e0",
   "metadata": {},
   "source": [
    "#### Observations:\n",
    "   * All the feratures are of \"object\" data type."
   ]
  },
  {
   "cell_type": "code",
   "execution_count": 6,
   "id": "e5f4f895",
   "metadata": {},
   "outputs": [
    {
     "data": {
      "text/plain": [
       "Rating     456\n",
       "Heading    429\n",
       "Review     427\n",
       "Product      0\n",
       "dtype: int64"
      ]
     },
     "execution_count": 6,
     "metadata": {},
     "output_type": "execute_result"
    }
   ],
   "source": [
    "#checking if there are any null values in the dataset\n",
    "df.isna().sum()"
   ]
  },
  {
   "cell_type": "code",
   "execution_count": 7,
   "id": "83ef6c46",
   "metadata": {},
   "outputs": [],
   "source": [
    "#dropping all numm values\n",
    "df.dropna(inplace=True)"
   ]
  },
  {
   "cell_type": "code",
   "execution_count": 8,
   "id": "9f9c341a",
   "metadata": {},
   "outputs": [
    {
     "data": {
      "text/plain": [
       "Rating     0\n",
       "Heading    0\n",
       "Review     0\n",
       "Product    0\n",
       "dtype: int64"
      ]
     },
     "execution_count": 8,
     "metadata": {},
     "output_type": "execute_result"
    }
   ],
   "source": [
    "#cross checking null values\n",
    "df.isna().sum()"
   ]
  },
  {
   "cell_type": "code",
   "execution_count": 9,
   "id": "1a0ef9f5",
   "metadata": {},
   "outputs": [
    {
     "data": {
      "text/plain": [
       "(14481, 4)"
      ]
     },
     "execution_count": 9,
     "metadata": {},
     "output_type": "execute_result"
    }
   ],
   "source": [
    "df.shape"
   ]
  },
  {
   "cell_type": "markdown",
   "id": "bf3fa3b4",
   "metadata": {},
   "source": [
    "#### Observations:\n",
    "* There are 14481 rows in the dataset"
   ]
  },
  {
   "cell_type": "code",
   "execution_count": 10,
   "id": "7ff52a48",
   "metadata": {},
   "outputs": [
    {
     "data": {
      "text/plain": [
       "5.0    6436\n",
       "1.0    3391\n",
       "4.0    2544\n",
       "3.0    1333\n",
       "2.0     777\n",
       "Name: Rating, dtype: int64"
      ]
     },
     "execution_count": 10,
     "metadata": {},
     "output_type": "execute_result"
    }
   ],
   "source": [
    "df['Rating'].value_counts()"
   ]
  },
  {
   "cell_type": "markdown",
   "id": "dceebfc1",
   "metadata": {},
   "source": [
    "#### Observations:\n",
    "* The ratings are inbalanced. \n",
    "* Most of the ratings are 5 star."
   ]
  },
  {
   "cell_type": "code",
   "execution_count": 11,
   "id": "3495e55f",
   "metadata": {},
   "outputs": [
    {
     "data": {
      "text/plain": [
       "Rating        5\n",
       "Heading     718\n",
       "Review     5580\n",
       "Product       1\n",
       "dtype: int64"
      ]
     },
     "execution_count": 11,
     "metadata": {},
     "output_type": "execute_result"
    }
   ],
   "source": [
    "#check number of unique values in each class;\n",
    "df.nunique()"
   ]
  },
  {
   "cell_type": "markdown",
   "id": "464a9a15",
   "metadata": {},
   "source": [
    "#### Observations:\n",
    "* The label rating has 5 unique values: 1, 2, 3, 4, 5\n",
    "* The headings can be duplicate as it is kind of summary of the review.\n",
    "* The reviews should be unique. Hence, we will drop the duplicate reviews to avoid over-fitting."
   ]
  },
  {
   "cell_type": "code",
   "execution_count": 12,
   "id": "44ab814b",
   "metadata": {},
   "outputs": [],
   "source": [
    "df.drop_duplicates(subset='Review', inplace=True)"
   ]
  },
  {
   "cell_type": "code",
   "execution_count": 13,
   "id": "b40a4a31",
   "metadata": {},
   "outputs": [
    {
     "name": "stdout",
     "output_type": "stream",
     "text": [
      "(5580, 4)\n",
      "Rating        5\n",
      "Heading     697\n",
      "Review     5580\n",
      "Product       1\n",
      "dtype: int64\n"
     ]
    }
   ],
   "source": [
    "#cross checking for diplicacy of reviews\n",
    "print(df.shape)\n",
    "print(df.nunique())"
   ]
  },
  {
   "cell_type": "markdown",
   "id": "0bbbfa7b",
   "metadata": {},
   "source": [
    "#### Observations:\n",
    "* We have 5580 unique reviews for laptops\n",
    "* There are only 697 unique headings in the data set.\n",
    "* If the classification is to be done based on the heading, then only unique headings must be considered.\n",
    "* In the model building stage we will classfiy from unique headings as well."
   ]
  },
  {
   "cell_type": "code",
   "execution_count": 14,
   "id": "29f4e94c",
   "metadata": {},
   "outputs": [
    {
     "data": {
      "text/html": [
       "<div>\n",
       "<style scoped>\n",
       "    .dataframe tbody tr th:only-of-type {\n",
       "        vertical-align: middle;\n",
       "    }\n",
       "\n",
       "    .dataframe tbody tr th {\n",
       "        vertical-align: top;\n",
       "    }\n",
       "\n",
       "    .dataframe thead th {\n",
       "        text-align: right;\n",
       "    }\n",
       "</style>\n",
       "<table border=\"1\" class=\"dataframe\">\n",
       "  <thead>\n",
       "    <tr style=\"text-align: right;\">\n",
       "      <th></th>\n",
       "      <th>Rating</th>\n",
       "      <th>Heading</th>\n",
       "      <th>Review</th>\n",
       "      <th>Product</th>\n",
       "      <th>Review_word_counter</th>\n",
       "    </tr>\n",
       "  </thead>\n",
       "  <tbody>\n",
       "    <tr>\n",
       "      <th>0</th>\n",
       "      <td>5.0</td>\n",
       "      <td>Perfect product!</td>\n",
       "      <td>Very nice printer, is worth the purchase. Idea...</td>\n",
       "      <td>Printer</td>\n",
       "      <td>510</td>\n",
       "    </tr>\n",
       "    <tr>\n",
       "      <th>1</th>\n",
       "      <td>5.0</td>\n",
       "      <td>Excellent</td>\n",
       "      <td>great !! easy to use ,, budget friendly,, good...</td>\n",
       "      <td>Printer</td>\n",
       "      <td>110</td>\n",
       "    </tr>\n",
       "    <tr>\n",
       "      <th>2</th>\n",
       "      <td>5.0</td>\n",
       "      <td>Brilliant</td>\n",
       "      <td>nice product\\nI am a student I ordered this fo...</td>\n",
       "      <td>Printer</td>\n",
       "      <td>201</td>\n",
       "    </tr>\n",
       "    <tr>\n",
       "      <th>9</th>\n",
       "      <td>1.0</td>\n",
       "      <td>Not recommended at all</td>\n",
       "      <td>printer is very good but it's cartage is not g...</td>\n",
       "      <td>Printer</td>\n",
       "      <td>202</td>\n",
       "    </tr>\n",
       "    <tr>\n",
       "      <th>10</th>\n",
       "      <td>5.0</td>\n",
       "      <td>nice product</td>\n",
       "      <td>its a good printer, but i found it little slow...</td>\n",
       "      <td>Printer</td>\n",
       "      <td>119</td>\n",
       "    </tr>\n",
       "  </tbody>\n",
       "</table>\n",
       "</div>"
      ],
      "text/plain": [
       "    Rating                 Heading  \\\n",
       "0      5.0        Perfect product!   \n",
       "1      5.0               Excellent   \n",
       "2      5.0               Brilliant   \n",
       "9      1.0  Not recommended at all   \n",
       "10     5.0            nice product   \n",
       "\n",
       "                                               Review  Product  \\\n",
       "0   Very nice printer, is worth the purchase. Idea...  Printer   \n",
       "1   great !! easy to use ,, budget friendly,, good...  Printer   \n",
       "2   nice product\\nI am a student I ordered this fo...  Printer   \n",
       "9   printer is very good but it's cartage is not g...  Printer   \n",
       "10  its a good printer, but i found it little slow...  Printer   \n",
       "\n",
       "    Review_word_counter  \n",
       "0                   510  \n",
       "1                   110  \n",
       "2                   201  \n",
       "9                   202  \n",
       "10                  119  "
      ]
     },
     "execution_count": 14,
     "metadata": {},
     "output_type": "execute_result"
    }
   ],
   "source": [
    "#checking the length of review\n",
    "df['Review_word_counter']=df['Review'].str.strip().str.len()\n",
    "df.head()"
   ]
  },
  {
   "cell_type": "code",
   "execution_count": 15,
   "id": "14bd408a",
   "metadata": {},
   "outputs": [],
   "source": [
    "from sklearn.utils import shuffle\n",
    "df=shuffle(df)\n",
    "df.reset_index(inplace=True,drop=True)"
   ]
  },
  {
   "cell_type": "code",
   "execution_count": 16,
   "id": "f973560f",
   "metadata": {},
   "outputs": [
    {
     "data": {
      "text/html": [
       "<div>\n",
       "<style scoped>\n",
       "    .dataframe tbody tr th:only-of-type {\n",
       "        vertical-align: middle;\n",
       "    }\n",
       "\n",
       "    .dataframe tbody tr th {\n",
       "        vertical-align: top;\n",
       "    }\n",
       "\n",
       "    .dataframe thead th {\n",
       "        text-align: right;\n",
       "    }\n",
       "</style>\n",
       "<table border=\"1\" class=\"dataframe\">\n",
       "  <thead>\n",
       "    <tr style=\"text-align: right;\">\n",
       "      <th></th>\n",
       "      <th>Rating</th>\n",
       "      <th>Heading</th>\n",
       "      <th>Review</th>\n",
       "      <th>Product</th>\n",
       "      <th>Review_word_counter</th>\n",
       "    </tr>\n",
       "  </thead>\n",
       "  <tbody>\n",
       "    <tr>\n",
       "      <th>0</th>\n",
       "      <td>2.0</td>\n",
       "      <td>Bad quality</td>\n",
       "      <td>Black ink cartridge is empty in 4 print ( less...</td>\n",
       "      <td>Printer</td>\n",
       "      <td>59</td>\n",
       "    </tr>\n",
       "    <tr>\n",
       "      <th>1</th>\n",
       "      <td>5.0</td>\n",
       "      <td>Fabulous!</td>\n",
       "      <td>After using it for one month I am writing this...</td>\n",
       "      <td>Printer</td>\n",
       "      <td>170</td>\n",
       "    </tr>\n",
       "    <tr>\n",
       "      <th>2</th>\n",
       "      <td>1.0</td>\n",
       "      <td>Useless product</td>\n",
       "      <td>It is local it is not working now</td>\n",
       "      <td>Printer</td>\n",
       "      <td>33</td>\n",
       "    </tr>\n",
       "    <tr>\n",
       "      <th>3</th>\n",
       "      <td>3.0</td>\n",
       "      <td>ONLY 3 YRS LIFE</td>\n",
       "      <td>AFTER USING IT AFTER 3 1/2 YRS .... ITS NOT WO...</td>\n",
       "      <td>Printer</td>\n",
       "      <td>144</td>\n",
       "    </tr>\n",
       "    <tr>\n",
       "      <th>4</th>\n",
       "      <td>5.0</td>\n",
       "      <td>very nice product</td>\n",
       "      <td>i bought it for my childern for their school w...</td>\n",
       "      <td>Printer</td>\n",
       "      <td>124</td>\n",
       "    </tr>\n",
       "  </tbody>\n",
       "</table>\n",
       "</div>"
      ],
      "text/plain": [
       "   Rating            Heading  \\\n",
       "0     2.0        Bad quality   \n",
       "1     5.0          Fabulous!   \n",
       "2     1.0    Useless product   \n",
       "3     3.0    ONLY 3 YRS LIFE   \n",
       "4     5.0  very nice product   \n",
       "\n",
       "                                              Review  Product  \\\n",
       "0  Black ink cartridge is empty in 4 print ( less...  Printer   \n",
       "1  After using it for one month I am writing this...  Printer   \n",
       "2                  It is local it is not working now  Printer   \n",
       "3  AFTER USING IT AFTER 3 1/2 YRS .... ITS NOT WO...  Printer   \n",
       "4  i bought it for my childern for their school w...  Printer   \n",
       "\n",
       "   Review_word_counter  \n",
       "0                   59  \n",
       "1                  170  \n",
       "2                   33  \n",
       "3                  144  \n",
       "4                  124  "
      ]
     },
     "execution_count": 16,
     "metadata": {},
     "output_type": "execute_result"
    }
   ],
   "source": [
    "df.head()"
   ]
  },
  {
   "cell_type": "markdown",
   "id": "4682a746",
   "metadata": {},
   "source": [
    "### Exploratory Data Analysis"
   ]
  },
  {
   "cell_type": "code",
   "execution_count": 17,
   "id": "0ab29561",
   "metadata": {},
   "outputs": [
    {
     "data": {
      "text/plain": [
       "(5580, 5)"
      ]
     },
     "execution_count": 17,
     "metadata": {},
     "output_type": "execute_result"
    }
   ],
   "source": [
    "#check the dimensions of the data\n",
    "df.shape"
   ]
  },
  {
   "cell_type": "markdown",
   "id": "11c8d2c5",
   "metadata": {},
   "source": [
    "#### Observtions:\n",
    "* The dataset has 5580 rows and 4 columns"
   ]
  },
  {
   "cell_type": "code",
   "execution_count": 18,
   "id": "6c2d41b8",
   "metadata": {},
   "outputs": [
    {
     "data": {
      "text/plain": [
       "Index(['Rating', 'Heading', 'Review', 'Product', 'Review_word_counter'], dtype='object')"
      ]
     },
     "execution_count": 18,
     "metadata": {},
     "output_type": "execute_result"
    }
   ],
   "source": [
    "#check the names of columns in dataset\n",
    "df.columns"
   ]
  },
  {
   "cell_type": "code",
   "execution_count": 19,
   "id": "f8dd2aac",
   "metadata": {},
   "outputs": [
    {
     "data": {
      "text/plain": [
       "Rating                 float64\n",
       "Heading                 object\n",
       "Review                  object\n",
       "Product                 object\n",
       "Review_word_counter      int64\n",
       "dtype: object"
      ]
     },
     "execution_count": 19,
     "metadata": {},
     "output_type": "execute_result"
    }
   ],
   "source": [
    "#check the datatype of each feature\n",
    "df.dtypes"
   ]
  },
  {
   "cell_type": "markdown",
   "id": "c8907234",
   "metadata": {},
   "source": [
    "#### Observations:\n",
    "   * There are three columns with \"object\" data type they are \"Heading\", \"Review\" and \"Product\".\n",
    "   * There is one column (label) with float data type."
   ]
  },
  {
   "cell_type": "code",
   "execution_count": 20,
   "id": "7da6439f",
   "metadata": {},
   "outputs": [
    {
     "data": {
      "text/plain": [
       "Rating                 0\n",
       "Heading                0\n",
       "Review                 0\n",
       "Product                0\n",
       "Review_word_counter    0\n",
       "dtype: int64"
      ]
     },
     "execution_count": 20,
     "metadata": {},
     "output_type": "execute_result"
    }
   ],
   "source": [
    "#checking if there are any null values in the dataset\n",
    "df.isnull().sum()"
   ]
  },
  {
   "cell_type": "markdown",
   "id": "85fbf7c1",
   "metadata": {},
   "source": [
    "#### Observations:\n",
    "   * There are no null values in the entire dataset"
   ]
  },
  {
   "cell_type": "code",
   "execution_count": 21,
   "id": "f6d86097",
   "metadata": {},
   "outputs": [
    {
     "data": {
      "text/plain": [
       "5.0    2301\n",
       "1.0    1463\n",
       "4.0     951\n",
       "3.0     525\n",
       "2.0     340\n",
       "Name: Rating, dtype: int64"
      ]
     },
     "execution_count": 21,
     "metadata": {},
     "output_type": "execute_result"
    }
   ],
   "source": [
    "df['Rating'].value_counts()"
   ]
  },
  {
   "cell_type": "markdown",
   "id": "3286e46c",
   "metadata": {},
   "source": [
    "#### Observations:\n",
    "* There are more number of 5 star rated reviews.\n",
    "* There are very less number of 2 star rated reviews.\n",
    "* The data set is not perfectly balanced."
   ]
  },
  {
   "cell_type": "code",
   "execution_count": 22,
   "id": "1c271eee",
   "metadata": {},
   "outputs": [],
   "source": [
    "#Separation of rating as different labels.\n",
    "df['1 Star']=df.apply(lambda x: 1 if x['Rating']==1 else 0, axis=1)\n",
    "df['2 Star']=df.apply(lambda x: 1 if x['Rating']==2 else 0, axis=1)\n",
    "df['3 Star']=df.apply(lambda x: 1 if x['Rating']==3 else 0, axis=1)\n",
    "df['4 Star']=df.apply(lambda x: 1 if x['Rating']==4 else 0, axis=1)\n",
    "df['5 Star']=df.apply(lambda x: 1 if x['Rating']==5 else 0, axis=1)"
   ]
  },
  {
   "cell_type": "code",
   "execution_count": 23,
   "id": "7c10e84e",
   "metadata": {},
   "outputs": [
    {
     "data": {
      "text/html": [
       "<div>\n",
       "<style scoped>\n",
       "    .dataframe tbody tr th:only-of-type {\n",
       "        vertical-align: middle;\n",
       "    }\n",
       "\n",
       "    .dataframe tbody tr th {\n",
       "        vertical-align: top;\n",
       "    }\n",
       "\n",
       "    .dataframe thead th {\n",
       "        text-align: right;\n",
       "    }\n",
       "</style>\n",
       "<table border=\"1\" class=\"dataframe\">\n",
       "  <thead>\n",
       "    <tr style=\"text-align: right;\">\n",
       "      <th></th>\n",
       "      <th>Rating</th>\n",
       "      <th>Heading</th>\n",
       "      <th>Review</th>\n",
       "      <th>Product</th>\n",
       "      <th>Review_word_counter</th>\n",
       "      <th>1 Star</th>\n",
       "      <th>2 Star</th>\n",
       "      <th>3 Star</th>\n",
       "      <th>4 Star</th>\n",
       "      <th>5 Star</th>\n",
       "    </tr>\n",
       "  </thead>\n",
       "  <tbody>\n",
       "    <tr>\n",
       "      <th>0</th>\n",
       "      <td>2.0</td>\n",
       "      <td>Bad quality</td>\n",
       "      <td>Black ink cartridge is empty in 4 print ( less...</td>\n",
       "      <td>Printer</td>\n",
       "      <td>59</td>\n",
       "      <td>0</td>\n",
       "      <td>1</td>\n",
       "      <td>0</td>\n",
       "      <td>0</td>\n",
       "      <td>0</td>\n",
       "    </tr>\n",
       "    <tr>\n",
       "      <th>1</th>\n",
       "      <td>5.0</td>\n",
       "      <td>Fabulous!</td>\n",
       "      <td>After using it for one month I am writing this...</td>\n",
       "      <td>Printer</td>\n",
       "      <td>170</td>\n",
       "      <td>0</td>\n",
       "      <td>0</td>\n",
       "      <td>0</td>\n",
       "      <td>0</td>\n",
       "      <td>1</td>\n",
       "    </tr>\n",
       "    <tr>\n",
       "      <th>2</th>\n",
       "      <td>1.0</td>\n",
       "      <td>Useless product</td>\n",
       "      <td>It is local it is not working now</td>\n",
       "      <td>Printer</td>\n",
       "      <td>33</td>\n",
       "      <td>1</td>\n",
       "      <td>0</td>\n",
       "      <td>0</td>\n",
       "      <td>0</td>\n",
       "      <td>0</td>\n",
       "    </tr>\n",
       "    <tr>\n",
       "      <th>3</th>\n",
       "      <td>3.0</td>\n",
       "      <td>ONLY 3 YRS LIFE</td>\n",
       "      <td>AFTER USING IT AFTER 3 1/2 YRS .... ITS NOT WO...</td>\n",
       "      <td>Printer</td>\n",
       "      <td>144</td>\n",
       "      <td>0</td>\n",
       "      <td>0</td>\n",
       "      <td>1</td>\n",
       "      <td>0</td>\n",
       "      <td>0</td>\n",
       "    </tr>\n",
       "    <tr>\n",
       "      <th>4</th>\n",
       "      <td>5.0</td>\n",
       "      <td>very nice product</td>\n",
       "      <td>i bought it for my childern for their school w...</td>\n",
       "      <td>Printer</td>\n",
       "      <td>124</td>\n",
       "      <td>0</td>\n",
       "      <td>0</td>\n",
       "      <td>0</td>\n",
       "      <td>0</td>\n",
       "      <td>1</td>\n",
       "    </tr>\n",
       "    <tr>\n",
       "      <th>5</th>\n",
       "      <td>5.0</td>\n",
       "      <td>Classy product</td>\n",
       "      <td>awsome</td>\n",
       "      <td>Printer</td>\n",
       "      <td>6</td>\n",
       "      <td>0</td>\n",
       "      <td>0</td>\n",
       "      <td>0</td>\n",
       "      <td>0</td>\n",
       "      <td>1</td>\n",
       "    </tr>\n",
       "    <tr>\n",
       "      <th>6</th>\n",
       "      <td>4.0</td>\n",
       "      <td>Really Nice</td>\n",
       "      <td>Initial performance is good..\\nInk price is mo...</td>\n",
       "      <td>Printer</td>\n",
       "      <td>49</td>\n",
       "      <td>0</td>\n",
       "      <td>0</td>\n",
       "      <td>0</td>\n",
       "      <td>1</td>\n",
       "      <td>0</td>\n",
       "    </tr>\n",
       "    <tr>\n",
       "      <th>7</th>\n",
       "      <td>4.0</td>\n",
       "      <td>its awsome and available at cheap cost</td>\n",
       "      <td>i have used this for home use and its excellen...</td>\n",
       "      <td>Printer</td>\n",
       "      <td>150</td>\n",
       "      <td>0</td>\n",
       "      <td>0</td>\n",
       "      <td>0</td>\n",
       "      <td>1</td>\n",
       "      <td>0</td>\n",
       "    </tr>\n",
       "    <tr>\n",
       "      <th>8</th>\n",
       "      <td>5.0</td>\n",
       "      <td>Worth every penny</td>\n",
       "      <td>Wowww\\nVery good printer.</td>\n",
       "      <td>Printer</td>\n",
       "      <td>24</td>\n",
       "      <td>0</td>\n",
       "      <td>0</td>\n",
       "      <td>0</td>\n",
       "      <td>0</td>\n",
       "      <td>1</td>\n",
       "    </tr>\n",
       "    <tr>\n",
       "      <th>9</th>\n",
       "      <td>1.0</td>\n",
       "      <td>Don't waste your money</td>\n",
       "      <td>caryage is not fully refill ink</td>\n",
       "      <td>Printer</td>\n",
       "      <td>31</td>\n",
       "      <td>1</td>\n",
       "      <td>0</td>\n",
       "      <td>0</td>\n",
       "      <td>0</td>\n",
       "      <td>0</td>\n",
       "    </tr>\n",
       "    <tr>\n",
       "      <th>10</th>\n",
       "      <td>4.0</td>\n",
       "      <td>good deal at such a low price</td>\n",
       "      <td>i bought it this week.and its so far good.took...</td>\n",
       "      <td>Printer</td>\n",
       "      <td>185</td>\n",
       "      <td>0</td>\n",
       "      <td>0</td>\n",
       "      <td>0</td>\n",
       "      <td>1</td>\n",
       "      <td>0</td>\n",
       "    </tr>\n",
       "    <tr>\n",
       "      <th>11</th>\n",
       "      <td>5.0</td>\n",
       "      <td>Good product</td>\n",
       "      <td>I got the product on time as mentioned... It i...</td>\n",
       "      <td>Printer</td>\n",
       "      <td>68</td>\n",
       "      <td>0</td>\n",
       "      <td>0</td>\n",
       "      <td>0</td>\n",
       "      <td>0</td>\n",
       "      <td>1</td>\n",
       "    </tr>\n",
       "    <tr>\n",
       "      <th>12</th>\n",
       "      <td>1.0</td>\n",
       "      <td>Don't waste your money</td>\n",
       "      <td>Worst prodcut.</td>\n",
       "      <td>Printer</td>\n",
       "      <td>14</td>\n",
       "      <td>1</td>\n",
       "      <td>0</td>\n",
       "      <td>0</td>\n",
       "      <td>0</td>\n",
       "      <td>0</td>\n",
       "    </tr>\n",
       "    <tr>\n",
       "      <th>13</th>\n",
       "      <td>4.0</td>\n",
       "      <td>Worth the money</td>\n",
       "      <td>Good product. Value for money. Appreciate the ...</td>\n",
       "      <td>Printer</td>\n",
       "      <td>130</td>\n",
       "      <td>0</td>\n",
       "      <td>0</td>\n",
       "      <td>0</td>\n",
       "      <td>1</td>\n",
       "      <td>0</td>\n",
       "    </tr>\n",
       "    <tr>\n",
       "      <th>14</th>\n",
       "      <td>1.0</td>\n",
       "      <td>Waste of money!</td>\n",
       "      <td>It's not a good product west of money</td>\n",
       "      <td>Printer</td>\n",
       "      <td>37</td>\n",
       "      <td>1</td>\n",
       "      <td>0</td>\n",
       "      <td>0</td>\n",
       "      <td>0</td>\n",
       "      <td>0</td>\n",
       "    </tr>\n",
       "    <tr>\n",
       "      <th>15</th>\n",
       "      <td>1.0</td>\n",
       "      <td>Horrible</td>\n",
       "      <td>Cartridge was blank only 20 pages copy done , ...</td>\n",
       "      <td>Printer</td>\n",
       "      <td>89</td>\n",
       "      <td>1</td>\n",
       "      <td>0</td>\n",
       "      <td>0</td>\n",
       "      <td>0</td>\n",
       "      <td>0</td>\n",
       "    </tr>\n",
       "    <tr>\n",
       "      <th>16</th>\n",
       "      <td>3.0</td>\n",
       "      <td>Nice</td>\n",
       "      <td>Worth of money</td>\n",
       "      <td>Printer</td>\n",
       "      <td>14</td>\n",
       "      <td>0</td>\n",
       "      <td>0</td>\n",
       "      <td>1</td>\n",
       "      <td>0</td>\n",
       "      <td>0</td>\n",
       "    </tr>\n",
       "    <tr>\n",
       "      <th>17</th>\n",
       "      <td>2.0</td>\n",
       "      <td>Slightly disappointed</td>\n",
       "      <td>Average</td>\n",
       "      <td>Printer</td>\n",
       "      <td>7</td>\n",
       "      <td>0</td>\n",
       "      <td>1</td>\n",
       "      <td>0</td>\n",
       "      <td>0</td>\n",
       "      <td>0</td>\n",
       "    </tr>\n",
       "    <tr>\n",
       "      <th>18</th>\n",
       "      <td>1.0</td>\n",
       "      <td>Did not meet expectations</td>\n",
       "      <td>Waste machine</td>\n",
       "      <td>Printer</td>\n",
       "      <td>13</td>\n",
       "      <td>1</td>\n",
       "      <td>0</td>\n",
       "      <td>0</td>\n",
       "      <td>0</td>\n",
       "      <td>0</td>\n",
       "    </tr>\n",
       "    <tr>\n",
       "      <th>19</th>\n",
       "      <td>5.0</td>\n",
       "      <td>Highly recommended</td>\n",
       "      <td>Such a Awesome Products</td>\n",
       "      <td>Printer</td>\n",
       "      <td>23</td>\n",
       "      <td>0</td>\n",
       "      <td>0</td>\n",
       "      <td>0</td>\n",
       "      <td>0</td>\n",
       "      <td>1</td>\n",
       "    </tr>\n",
       "  </tbody>\n",
       "</table>\n",
       "</div>"
      ],
      "text/plain": [
       "    Rating                                 Heading  \\\n",
       "0      2.0                             Bad quality   \n",
       "1      5.0                               Fabulous!   \n",
       "2      1.0                         Useless product   \n",
       "3      3.0                         ONLY 3 YRS LIFE   \n",
       "4      5.0                       very nice product   \n",
       "5      5.0                          Classy product   \n",
       "6      4.0                             Really Nice   \n",
       "7      4.0  its awsome and available at cheap cost   \n",
       "8      5.0                       Worth every penny   \n",
       "9      1.0                  Don't waste your money   \n",
       "10     4.0           good deal at such a low price   \n",
       "11     5.0                            Good product   \n",
       "12     1.0                  Don't waste your money   \n",
       "13     4.0                         Worth the money   \n",
       "14     1.0                         Waste of money!   \n",
       "15     1.0                                Horrible   \n",
       "16     3.0                                    Nice   \n",
       "17     2.0                   Slightly disappointed   \n",
       "18     1.0               Did not meet expectations   \n",
       "19     5.0                      Highly recommended   \n",
       "\n",
       "                                               Review  Product  \\\n",
       "0   Black ink cartridge is empty in 4 print ( less...  Printer   \n",
       "1   After using it for one month I am writing this...  Printer   \n",
       "2                   It is local it is not working now  Printer   \n",
       "3   AFTER USING IT AFTER 3 1/2 YRS .... ITS NOT WO...  Printer   \n",
       "4   i bought it for my childern for their school w...  Printer   \n",
       "5                                              awsome  Printer   \n",
       "6   Initial performance is good..\\nInk price is mo...  Printer   \n",
       "7   i have used this for home use and its excellen...  Printer   \n",
       "8                           Wowww\\nVery good printer.  Printer   \n",
       "9                     caryage is not fully refill ink  Printer   \n",
       "10  i bought it this week.and its so far good.took...  Printer   \n",
       "11  I got the product on time as mentioned... It i...  Printer   \n",
       "12                                     Worst prodcut.  Printer   \n",
       "13  Good product. Value for money. Appreciate the ...  Printer   \n",
       "14              It's not a good product west of money  Printer   \n",
       "15  Cartridge was blank only 20 pages copy done , ...  Printer   \n",
       "16                                     Worth of money  Printer   \n",
       "17                                            Average  Printer   \n",
       "18                                      Waste machine  Printer   \n",
       "19                            Such a Awesome Products  Printer   \n",
       "\n",
       "    Review_word_counter  1 Star  2 Star  3 Star  4 Star  5 Star  \n",
       "0                    59       0       1       0       0       0  \n",
       "1                   170       0       0       0       0       1  \n",
       "2                    33       1       0       0       0       0  \n",
       "3                   144       0       0       1       0       0  \n",
       "4                   124       0       0       0       0       1  \n",
       "5                     6       0       0       0       0       1  \n",
       "6                    49       0       0       0       1       0  \n",
       "7                   150       0       0       0       1       0  \n",
       "8                    24       0       0       0       0       1  \n",
       "9                    31       1       0       0       0       0  \n",
       "10                  185       0       0       0       1       0  \n",
       "11                   68       0       0       0       0       1  \n",
       "12                   14       1       0       0       0       0  \n",
       "13                  130       0       0       0       1       0  \n",
       "14                   37       1       0       0       0       0  \n",
       "15                   89       1       0       0       0       0  \n",
       "16                   14       0       0       1       0       0  \n",
       "17                    7       0       1       0       0       0  \n",
       "18                   13       1       0       0       0       0  \n",
       "19                   23       0       0       0       0       1  "
      ]
     },
     "execution_count": 23,
     "metadata": {},
     "output_type": "execute_result"
    }
   ],
   "source": [
    "df.head(20)"
   ]
  },
  {
   "cell_type": "code",
   "execution_count": 24,
   "id": "54521371",
   "metadata": {},
   "outputs": [],
   "source": [
    "df.drop(['Rating'], axis=1, inplace= True)"
   ]
  },
  {
   "cell_type": "code",
   "execution_count": 25,
   "id": "12822ed8",
   "metadata": {},
   "outputs": [
    {
     "data": {
      "text/html": [
       "<div>\n",
       "<style scoped>\n",
       "    .dataframe tbody tr th:only-of-type {\n",
       "        vertical-align: middle;\n",
       "    }\n",
       "\n",
       "    .dataframe tbody tr th {\n",
       "        vertical-align: top;\n",
       "    }\n",
       "\n",
       "    .dataframe thead th {\n",
       "        text-align: right;\n",
       "    }\n",
       "</style>\n",
       "<table border=\"1\" class=\"dataframe\">\n",
       "  <thead>\n",
       "    <tr style=\"text-align: right;\">\n",
       "      <th></th>\n",
       "      <th>Review_word_counter</th>\n",
       "      <th>1 Star</th>\n",
       "      <th>2 Star</th>\n",
       "      <th>3 Star</th>\n",
       "      <th>4 Star</th>\n",
       "      <th>5 Star</th>\n",
       "    </tr>\n",
       "  </thead>\n",
       "  <tbody>\n",
       "    <tr>\n",
       "      <th>count</th>\n",
       "      <td>5580.000000</td>\n",
       "      <td>5580.000000</td>\n",
       "      <td>5580.000000</td>\n",
       "      <td>5580.000000</td>\n",
       "      <td>5580.000000</td>\n",
       "      <td>5580.000000</td>\n",
       "    </tr>\n",
       "    <tr>\n",
       "      <th>mean</th>\n",
       "      <td>82.979211</td>\n",
       "      <td>0.262186</td>\n",
       "      <td>0.060932</td>\n",
       "      <td>0.094086</td>\n",
       "      <td>0.170430</td>\n",
       "      <td>0.412366</td>\n",
       "    </tr>\n",
       "    <tr>\n",
       "      <th>std</th>\n",
       "      <td>104.864386</td>\n",
       "      <td>0.439863</td>\n",
       "      <td>0.239227</td>\n",
       "      <td>0.291975</td>\n",
       "      <td>0.376044</td>\n",
       "      <td>0.492304</td>\n",
       "    </tr>\n",
       "    <tr>\n",
       "      <th>min</th>\n",
       "      <td>2.000000</td>\n",
       "      <td>0.000000</td>\n",
       "      <td>0.000000</td>\n",
       "      <td>0.000000</td>\n",
       "      <td>0.000000</td>\n",
       "      <td>0.000000</td>\n",
       "    </tr>\n",
       "    <tr>\n",
       "      <th>25%</th>\n",
       "      <td>21.000000</td>\n",
       "      <td>0.000000</td>\n",
       "      <td>0.000000</td>\n",
       "      <td>0.000000</td>\n",
       "      <td>0.000000</td>\n",
       "      <td>0.000000</td>\n",
       "    </tr>\n",
       "    <tr>\n",
       "      <th>50%</th>\n",
       "      <td>41.000000</td>\n",
       "      <td>0.000000</td>\n",
       "      <td>0.000000</td>\n",
       "      <td>0.000000</td>\n",
       "      <td>0.000000</td>\n",
       "      <td>0.000000</td>\n",
       "    </tr>\n",
       "    <tr>\n",
       "      <th>75%</th>\n",
       "      <td>100.250000</td>\n",
       "      <td>1.000000</td>\n",
       "      <td>0.000000</td>\n",
       "      <td>0.000000</td>\n",
       "      <td>0.000000</td>\n",
       "      <td>1.000000</td>\n",
       "    </tr>\n",
       "    <tr>\n",
       "      <th>max</th>\n",
       "      <td>510.000000</td>\n",
       "      <td>1.000000</td>\n",
       "      <td>1.000000</td>\n",
       "      <td>1.000000</td>\n",
       "      <td>1.000000</td>\n",
       "      <td>1.000000</td>\n",
       "    </tr>\n",
       "  </tbody>\n",
       "</table>\n",
       "</div>"
      ],
      "text/plain": [
       "       Review_word_counter       1 Star       2 Star       3 Star  \\\n",
       "count          5580.000000  5580.000000  5580.000000  5580.000000   \n",
       "mean             82.979211     0.262186     0.060932     0.094086   \n",
       "std             104.864386     0.439863     0.239227     0.291975   \n",
       "min               2.000000     0.000000     0.000000     0.000000   \n",
       "25%              21.000000     0.000000     0.000000     0.000000   \n",
       "50%              41.000000     0.000000     0.000000     0.000000   \n",
       "75%             100.250000     1.000000     0.000000     0.000000   \n",
       "max             510.000000     1.000000     1.000000     1.000000   \n",
       "\n",
       "            4 Star       5 Star  \n",
       "count  5580.000000  5580.000000  \n",
       "mean      0.170430     0.412366  \n",
       "std       0.376044     0.492304  \n",
       "min       0.000000     0.000000  \n",
       "25%       0.000000     0.000000  \n",
       "50%       0.000000     0.000000  \n",
       "75%       0.000000     1.000000  \n",
       "max       1.000000     1.000000  "
      ]
     },
     "execution_count": 25,
     "metadata": {},
     "output_type": "execute_result"
    }
   ],
   "source": [
    "#statistical analysis\n",
    "df.describe()"
   ]
  },
  {
   "cell_type": "markdown",
   "id": "1581eb87",
   "metadata": {},
   "source": [
    "#### Observations\n",
    " * For all the labels the minimum value is zero and maximum is 1. As there are only binary classes deviations cannot be studied"
   ]
  },
  {
   "cell_type": "code",
   "execution_count": 26,
   "id": "3a8d473f",
   "metadata": {},
   "outputs": [
    {
     "data": {
      "text/plain": [
       "Review_word_counter    2.411023\n",
       "1 Star                 1.081696\n",
       "2 Star                 3.672043\n",
       "3 Star                 2.781472\n",
       "4 Star                 1.753455\n",
       "5 Star                 0.356145\n",
       "dtype: float64"
      ]
     },
     "execution_count": 26,
     "metadata": {},
     "output_type": "execute_result"
    }
   ],
   "source": [
    "#checking the skewness\n",
    "df.skew()"
   ]
  },
  {
   "cell_type": "markdown",
   "id": "4dc29713",
   "metadata": {},
   "source": [
    "#### observations\n",
    "* The highest skewness is seen in 2 Star rating"
   ]
  },
  {
   "cell_type": "markdown",
   "id": "56ad0d86",
   "metadata": {},
   "source": [
    "# Visualizations"
   ]
  },
  {
   "cell_type": "code",
   "execution_count": 27,
   "id": "1e6c6189",
   "metadata": {},
   "outputs": [],
   "source": [
    "#import libraries required for visualizations\n",
    "import seaborn as sns\n",
    "import matplotlib.pyplot as plt\n",
    "import warnings\n",
    "warnings.filterwarnings(\"ignore\")"
   ]
  },
  {
   "cell_type": "code",
   "execution_count": 28,
   "id": "ab6a3367",
   "metadata": {},
   "outputs": [
    {
     "name": "stdout",
     "output_type": "stream",
     "text": [
      "average length of review: 83.0\n"
     ]
    },
    {
     "data": {
      "image/png": "[encoded data removed]",
      "text/plain": [
       "<Figure size 432x288 with 1 Axes>"
      ]
     },
     "metadata": {
      "needs_background": "light"
     },
     "output_type": "display_data"
    }
   ],
   "source": [
    "#plotting the average length of reviews\n",
    "review=df[\"Review\"]\n",
    "x = [len(review[i]) for i in range(review.shape[0])]\n",
    "\n",
    "print('average length of review: {:.1f}'.format(sum(x)/len(x)) )\n",
    "bins = [1,200,400,600,800,1000]\n",
    "plt.hist(x, bins=bins)\n",
    "plt.xlabel('Length of Review')\n",
    "plt.ylabel('Number of Review')       \n",
    "plt.grid(True)\n",
    "plt.show()"
   ]
  },
  {
   "cell_type": "markdown",
   "id": "be9389eb",
   "metadata": {},
   "source": [
    "#### Observations:\n",
    "* The average length of review is 83.\n",
    "* Maximum number of reviews had less than 200 words.\n",
    "* There were no reviews with more than 600 words.\n",
    "* Comments with 200 and above words were less."
   ]
  },
  {
   "cell_type": "code",
   "execution_count": 29,
   "id": "f109ccce",
   "metadata": {},
   "outputs": [
    {
     "data": {
      "image/png": "[encoded data removed]",
      "text/plain": [
       "<Figure size 1080x720 with 6 Axes>"
      ]
     },
     "metadata": {
      "needs_background": "light"
     },
     "output_type": "display_data"
    }
   ],
   "source": [
    "#let us plot countplot of each feature\n",
    "a = 3  # number of rows\n",
    "b = 3  # number of columns\n",
    "c = 1  # initialize plot counter\n",
    "\n",
    "fig = plt.figure(figsize=(15,10))\n",
    "for cols in df.columns:\n",
    "    if df[cols].dtypes=='int64':\n",
    "        plt.subplot(a, b, c)\n",
    "        plt.title('{}'.format(cols),weight='bold')\n",
    "        sns.countplot(df[cols],palette='nipy_spectral')\n",
    "        plt.xticks(rotation=360)\n",
    "        c = c + 1\n",
    "        plt.tight_layout()\n",
    "        plt.ylabel(\"Count\")\n",
    "plt.show()"
   ]
  },
  {
   "cell_type": "markdown",
   "id": "4395ba0c",
   "metadata": {},
   "source": [
    "#### Obseravtions:\n",
    "   * Around 50% of the review are rated 5 star.\n",
    "   * 2 star rated reviews are least in number"
   ]
  },
  {
   "cell_type": "code",
   "execution_count": 30,
   "id": "60c2ee55",
   "metadata": {},
   "outputs": [
    {
     "name": "stdout",
     "output_type": "stream",
     "text": [
      "['Heading', 'Review', 'Product', 'Review_word_counter', '1 Star', '2 Star', '3 Star', '4 Star', '5 Star']\n"
     ]
    }
   ],
   "source": [
    "print(list(df.columns.values))"
   ]
  },
  {
   "cell_type": "code",
   "execution_count": 31,
   "id": "b7693d3f",
   "metadata": {},
   "outputs": [
    {
     "name": "stdout",
     "output_type": "stream",
     "text": [
      "['1 Star', '2 Star', '3 Star', '4 Star', '5 Star']\n"
     ]
    }
   ],
   "source": [
    "#make a list of columns\n",
    "categories = list(df.columns.values)\n",
    "categories = categories[4:]\n",
    "print(categories)"
   ]
  },
  {
   "cell_type": "code",
   "execution_count": 32,
   "id": "1fd22831",
   "metadata": {},
   "outputs": [
    {
     "data": {
      "image/png": "[encoded data removed]",
      "text/plain": [
       "<Figure size 432x288 with 1 Axes>"
      ]
     },
     "metadata": {},
     "output_type": "display_data"
    }
   ],
   "source": [
    "#distribution plot of each type of review\n",
    "colors=['#cc99ff','#ff9999','#ffff33','#99ff33','#80ffdf'] \n",
    "df_distribution = df[categories].sum()\n",
    "\n",
    "df_distribution.plot.pie(y='count',autopct='%1.1f%%',colors=colors)\\\n",
    "                            .legend(loc='center left', bbox_to_anchor=(1.3, 0.5))\n",
    "plt.ylabel(\"\")\n",
    "plt.title(\"Distribution of Review for Printer\",fontweight='bold')\n",
    "plt.tight_layout()\n",
    "plt.show()"
   ]
  },
  {
   "cell_type": "markdown",
   "id": "253c9abb",
   "metadata": {},
   "source": [
    "#### Observations:\n",
    "* 5 Star rating had the highest share of 41.2%, followed by 4 star with 17%.\n",
    "* 2 Star rating has least share with 6.1%"
   ]
  },
  {
   "cell_type": "code",
   "execution_count": 33,
   "id": "06f6e926",
   "metadata": {},
   "outputs": [
    {
     "data": {
      "image/png": "[encoded data removed]",
      "text/plain": [
       "<Figure size 1080x360 with 1 Axes>"
      ]
     },
     "metadata": {
      "needs_background": "light"
     },
     "output_type": "display_data"
    }
   ],
   "source": [
    "# Checking the count of the various types of reviews\n",
    "cols = ['1 Star', '2 Star', '3 Star', '4 Star', '5 Star']\n",
    "val_counts = df[cols].sum()\n",
    "\n",
    "plt.figure(figsize=(15,5))\n",
    "ax = sns.barplot(val_counts.index, val_counts.values)\n",
    "\n",
    "plt.title(\"Reviews per Classes\")\n",
    "plt.xlabel(\"Various Reviews Type\")\n",
    "plt.ylabel(\"Counts of the Reviews\")\n",
    "\n",
    "rects = ax.patches\n",
    "labels = val_counts.values\n",
    "for rect, label in zip(rects, labels):\n",
    "    height = rect.get_height()\n",
    "    ax.text(rect.get_x() + rect.get_width()/2, height+5, label, ha=\"center\", va=\"bottom\")\n",
    "\n",
    "\n",
    "plt.show()"
   ]
  },
  {
   "cell_type": "markdown",
   "id": "187608ad",
   "metadata": {},
   "source": [
    "#### Observations\n",
    "* There were 2301 5 Star rated reviews which are maximum. \n",
    "* 4 Star reviews were second highest with count of 1463\n",
    "* 2 Star ratings have the least count of only 340."
   ]
  },
  {
   "cell_type": "markdown",
   "id": "42743d6e",
   "metadata": {},
   "source": [
    "##  Data Pre-Processing"
   ]
  },
  {
   "cell_type": "code",
   "execution_count": 34,
   "id": "ab1d684b",
   "metadata": {},
   "outputs": [
    {
     "data": {
      "text/html": [
       "<div>\n",
       "<style scoped>\n",
       "    .dataframe tbody tr th:only-of-type {\n",
       "        vertical-align: middle;\n",
       "    }\n",
       "\n",
       "    .dataframe tbody tr th {\n",
       "        vertical-align: top;\n",
       "    }\n",
       "\n",
       "    .dataframe thead th {\n",
       "        text-align: right;\n",
       "    }\n",
       "</style>\n",
       "<table border=\"1\" class=\"dataframe\">\n",
       "  <thead>\n",
       "    <tr style=\"text-align: right;\">\n",
       "      <th></th>\n",
       "      <th>Heading</th>\n",
       "      <th>Review</th>\n",
       "      <th>Product</th>\n",
       "      <th>Review_word_counter</th>\n",
       "      <th>1 Star</th>\n",
       "      <th>2 Star</th>\n",
       "      <th>3 Star</th>\n",
       "      <th>4 Star</th>\n",
       "      <th>5 Star</th>\n",
       "    </tr>\n",
       "  </thead>\n",
       "  <tbody>\n",
       "    <tr>\n",
       "      <th>0</th>\n",
       "      <td>super!</td>\n",
       "      <td>this is best quality products</td>\n",
       "      <td>Printer</td>\n",
       "      <td>29</td>\n",
       "      <td>0</td>\n",
       "      <td>0</td>\n",
       "      <td>0</td>\n",
       "      <td>0</td>\n",
       "      <td>1</td>\n",
       "    </tr>\n",
       "    <tr>\n",
       "      <th>1</th>\n",
       "      <td>pretty good</td>\n",
       "      <td>the product is good and easy to use. however n...</td>\n",
       "      <td>Printer</td>\n",
       "      <td>220</td>\n",
       "      <td>0</td>\n",
       "      <td>0</td>\n",
       "      <td>0</td>\n",
       "      <td>1</td>\n",
       "      <td>0</td>\n",
       "    </tr>\n",
       "    <tr>\n",
       "      <th>2</th>\n",
       "      <td>just okay</td>\n",
       "      <td>overall performance is satisfactory</td>\n",
       "      <td>Printer</td>\n",
       "      <td>35</td>\n",
       "      <td>0</td>\n",
       "      <td>0</td>\n",
       "      <td>1</td>\n",
       "      <td>0</td>\n",
       "      <td>0</td>\n",
       "    </tr>\n",
       "    <tr>\n",
       "      <th>3</th>\n",
       "      <td>good deal at such a low price</td>\n",
       "      <td>i bought it this week.and its so far good.took...</td>\n",
       "      <td>Printer</td>\n",
       "      <td>185</td>\n",
       "      <td>0</td>\n",
       "      <td>0</td>\n",
       "      <td>0</td>\n",
       "      <td>1</td>\n",
       "      <td>0</td>\n",
       "    </tr>\n",
       "    <tr>\n",
       "      <th>4</th>\n",
       "      <td>good choice</td>\n",
       "      <td>prints good but cartridges are very expensive</td>\n",
       "      <td>Printer</td>\n",
       "      <td>45</td>\n",
       "      <td>0</td>\n",
       "      <td>0</td>\n",
       "      <td>0</td>\n",
       "      <td>1</td>\n",
       "      <td>0</td>\n",
       "    </tr>\n",
       "  </tbody>\n",
       "</table>\n",
       "</div>"
      ],
      "text/plain": [
       "                         Heading  \\\n",
       "0                         super!   \n",
       "1                    pretty good   \n",
       "2                      just okay   \n",
       "3  good deal at such a low price   \n",
       "4                    good choice   \n",
       "\n",
       "                                              Review  Product  \\\n",
       "0                      this is best quality products  Printer   \n",
       "1  the product is good and easy to use. however n...  Printer   \n",
       "2                overall performance is satisfactory  Printer   \n",
       "3  i bought it this week.and its so far good.took...  Printer   \n",
       "4      prints good but cartridges are very expensive  Printer   \n",
       "\n",
       "   Review_word_counter  1 Star  2 Star  3 Star  4 Star  5 Star  \n",
       "0                   29       0       0       0       0       1  \n",
       "1                  220       0       0       0       1       0  \n",
       "2                   35       0       0       1       0       0  \n",
       "3                  185       0       0       0       1       0  \n",
       "4                   45       0       0       0       1       0  "
      ]
     },
     "execution_count": 34,
     "metadata": {},
     "output_type": "execute_result"
    }
   ],
   "source": [
    "#convert all text into lowercase \n",
    "df['Review'] = df['Review'].str.lower()\n",
    "df['Heading'] = df['Heading'].str.lower()\n",
    "#check if the text is lower cased\n",
    "df.head()"
   ]
  },
  {
   "cell_type": "code",
   "execution_count": 35,
   "id": "e781b040",
   "metadata": {},
   "outputs": [
    {
     "data": {
      "text/html": [
       "<div>\n",
       "<style scoped>\n",
       "    .dataframe tbody tr th:only-of-type {\n",
       "        vertical-align: middle;\n",
       "    }\n",
       "\n",
       "    .dataframe tbody tr th {\n",
       "        vertical-align: top;\n",
       "    }\n",
       "\n",
       "    .dataframe thead th {\n",
       "        text-align: right;\n",
       "    }\n",
       "</style>\n",
       "<table border=\"1\" class=\"dataframe\">\n",
       "  <thead>\n",
       "    <tr style=\"text-align: right;\">\n",
       "      <th></th>\n",
       "      <th>Heading</th>\n",
       "      <th>Review</th>\n",
       "      <th>Product</th>\n",
       "      <th>Review_word_counter</th>\n",
       "      <th>1 Star</th>\n",
       "      <th>2 Star</th>\n",
       "      <th>3 Star</th>\n",
       "      <th>4 Star</th>\n",
       "      <th>5 Star</th>\n",
       "    </tr>\n",
       "  </thead>\n",
       "  <tbody>\n",
       "    <tr>\n",
       "      <th>0</th>\n",
       "      <td>super!</td>\n",
       "      <td>this is best quality products</td>\n",
       "      <td>Printer</td>\n",
       "      <td>29</td>\n",
       "      <td>0</td>\n",
       "      <td>0</td>\n",
       "      <td>0</td>\n",
       "      <td>0</td>\n",
       "      <td>1</td>\n",
       "    </tr>\n",
       "    <tr>\n",
       "      <th>1</th>\n",
       "      <td>pretty good</td>\n",
       "      <td>the product is good and easy to use. however n...</td>\n",
       "      <td>Printer</td>\n",
       "      <td>220</td>\n",
       "      <td>0</td>\n",
       "      <td>0</td>\n",
       "      <td>0</td>\n",
       "      <td>1</td>\n",
       "      <td>0</td>\n",
       "    </tr>\n",
       "    <tr>\n",
       "      <th>2</th>\n",
       "      <td>just okay</td>\n",
       "      <td>overall performance is satisfactory</td>\n",
       "      <td>Printer</td>\n",
       "      <td>35</td>\n",
       "      <td>0</td>\n",
       "      <td>0</td>\n",
       "      <td>1</td>\n",
       "      <td>0</td>\n",
       "      <td>0</td>\n",
       "    </tr>\n",
       "    <tr>\n",
       "      <th>3</th>\n",
       "      <td>good deal at such a low price</td>\n",
       "      <td>i bought it this week.and its so far good.took...</td>\n",
       "      <td>Printer</td>\n",
       "      <td>185</td>\n",
       "      <td>0</td>\n",
       "      <td>0</td>\n",
       "      <td>0</td>\n",
       "      <td>1</td>\n",
       "      <td>0</td>\n",
       "    </tr>\n",
       "    <tr>\n",
       "      <th>4</th>\n",
       "      <td>good choice</td>\n",
       "      <td>prints good but cartridges are very expensive</td>\n",
       "      <td>Printer</td>\n",
       "      <td>45</td>\n",
       "      <td>0</td>\n",
       "      <td>0</td>\n",
       "      <td>0</td>\n",
       "      <td>1</td>\n",
       "      <td>0</td>\n",
       "    </tr>\n",
       "  </tbody>\n",
       "</table>\n",
       "</div>"
      ],
      "text/plain": [
       "                         Heading  \\\n",
       "0                         super!   \n",
       "1                    pretty good   \n",
       "2                      just okay   \n",
       "3  good deal at such a low price   \n",
       "4                    good choice   \n",
       "\n",
       "                                              Review  Product  \\\n",
       "0                      this is best quality products  Printer   \n",
       "1  the product is good and easy to use. however n...  Printer   \n",
       "2                overall performance is satisfactory  Printer   \n",
       "3  i bought it this week.and its so far good.took...  Printer   \n",
       "4      prints good but cartridges are very expensive  Printer   \n",
       "\n",
       "   Review_word_counter  1 Star  2 Star  3 Star  4 Star  5 Star  \n",
       "0                   29       0       0       0       0       1  \n",
       "1                  220       0       0       0       1       0  \n",
       "2                   35       0       0       1       0       0  \n",
       "3                  185       0       0       0       1       0  \n",
       "4                   45       0       0       0       1       0  "
      ]
     },
     "execution_count": 35,
     "metadata": {},
     "output_type": "execute_result"
    }
   ],
   "source": [
    "#clean all html tags \n",
    "import re\n",
    "def cleanHtml(sentence):\n",
    "    cleanr = re.compile('<.*?>')\n",
    "    cleantext = re.sub(cleanr, ' ', str(sentence))\n",
    "    return cleantext\n",
    "#apply the function \n",
    "df['Review'] = df['Review'].apply(cleanHtml)\n",
    "df['Heading'] = df['Heading'].apply(cleanHtml)\n",
    "df.head()"
   ]
  },
  {
   "cell_type": "code",
   "execution_count": 36,
   "id": "8eb5996b",
   "metadata": {},
   "outputs": [
    {
     "data": {
      "text/html": [
       "<div>\n",
       "<style scoped>\n",
       "    .dataframe tbody tr th:only-of-type {\n",
       "        vertical-align: middle;\n",
       "    }\n",
       "\n",
       "    .dataframe tbody tr th {\n",
       "        vertical-align: top;\n",
       "    }\n",
       "\n",
       "    .dataframe thead th {\n",
       "        text-align: right;\n",
       "    }\n",
       "</style>\n",
       "<table border=\"1\" class=\"dataframe\">\n",
       "  <thead>\n",
       "    <tr style=\"text-align: right;\">\n",
       "      <th></th>\n",
       "      <th>Heading</th>\n",
       "      <th>Review</th>\n",
       "      <th>Product</th>\n",
       "      <th>Review_word_counter</th>\n",
       "      <th>1 Star</th>\n",
       "      <th>2 Star</th>\n",
       "      <th>3 Star</th>\n",
       "      <th>4 Star</th>\n",
       "      <th>5 Star</th>\n",
       "    </tr>\n",
       "  </thead>\n",
       "  <tbody>\n",
       "    <tr>\n",
       "      <th>0</th>\n",
       "      <td>super</td>\n",
       "      <td>this is best quality products</td>\n",
       "      <td>Printer</td>\n",
       "      <td>29</td>\n",
       "      <td>0</td>\n",
       "      <td>0</td>\n",
       "      <td>0</td>\n",
       "      <td>0</td>\n",
       "      <td>1</td>\n",
       "    </tr>\n",
       "    <tr>\n",
       "      <th>1</th>\n",
       "      <td>pretty good</td>\n",
       "      <td>the product is good and easy to use  however n...</td>\n",
       "      <td>Printer</td>\n",
       "      <td>220</td>\n",
       "      <td>0</td>\n",
       "      <td>0</td>\n",
       "      <td>0</td>\n",
       "      <td>1</td>\n",
       "      <td>0</td>\n",
       "    </tr>\n",
       "    <tr>\n",
       "      <th>2</th>\n",
       "      <td>just okay</td>\n",
       "      <td>overall performance is satisfactory</td>\n",
       "      <td>Printer</td>\n",
       "      <td>35</td>\n",
       "      <td>0</td>\n",
       "      <td>0</td>\n",
       "      <td>1</td>\n",
       "      <td>0</td>\n",
       "      <td>0</td>\n",
       "    </tr>\n",
       "    <tr>\n",
       "      <th>3</th>\n",
       "      <td>good deal at such a low price</td>\n",
       "      <td>i bought it this week and its so far good took...</td>\n",
       "      <td>Printer</td>\n",
       "      <td>185</td>\n",
       "      <td>0</td>\n",
       "      <td>0</td>\n",
       "      <td>0</td>\n",
       "      <td>1</td>\n",
       "      <td>0</td>\n",
       "    </tr>\n",
       "    <tr>\n",
       "      <th>4</th>\n",
       "      <td>good choice</td>\n",
       "      <td>prints good but cartridges are very expensive</td>\n",
       "      <td>Printer</td>\n",
       "      <td>45</td>\n",
       "      <td>0</td>\n",
       "      <td>0</td>\n",
       "      <td>0</td>\n",
       "      <td>1</td>\n",
       "      <td>0</td>\n",
       "    </tr>\n",
       "  </tbody>\n",
       "</table>\n",
       "</div>"
      ],
      "text/plain": [
       "                         Heading  \\\n",
       "0                          super   \n",
       "1                    pretty good   \n",
       "2                      just okay   \n",
       "3  good deal at such a low price   \n",
       "4                    good choice   \n",
       "\n",
       "                                              Review  Product  \\\n",
       "0                      this is best quality products  Printer   \n",
       "1  the product is good and easy to use  however n...  Printer   \n",
       "2                overall performance is satisfactory  Printer   \n",
       "3  i bought it this week and its so far good took...  Printer   \n",
       "4      prints good but cartridges are very expensive  Printer   \n",
       "\n",
       "   Review_word_counter  1 Star  2 Star  3 Star  4 Star  5 Star  \n",
       "0                   29       0       0       0       0       1  \n",
       "1                  220       0       0       0       1       0  \n",
       "2                   35       0       0       1       0       0  \n",
       "3                  185       0       0       0       1       0  \n",
       "4                   45       0       0       0       1       0  "
      ]
     },
     "execution_count": 36,
     "metadata": {},
     "output_type": "execute_result"
    }
   ],
   "source": [
    "#remove punctuations\n",
    "def cleanPunc(sentence): #function to clean the word of any punctuation or special characters\n",
    "    cleaned = re.sub(r'[?|!|\\'|\"|#]',r'',sentence)\n",
    "    cleaned = re.sub(r'[.|,|)|(|\\|/]',r' ',cleaned)\n",
    "    cleaned = cleaned.strip()\n",
    "    cleaned = cleaned.replace(\"\\n\",\" \")\n",
    "    return cleaned\n",
    "#call the function\n",
    "df['Review'] = df['Review'].apply(cleanPunc)\n",
    "df['Heading'] = df['Heading'].apply(cleanPunc)\n",
    "df.head()"
   ]
  },
  {
   "cell_type": "code",
   "execution_count": 37,
   "id": "0be87355",
   "metadata": {},
   "outputs": [
    {
     "data": {
      "text/html": [
       "<div>\n",
       "<style scoped>\n",
       "    .dataframe tbody tr th:only-of-type {\n",
       "        vertical-align: middle;\n",
       "    }\n",
       "\n",
       "    .dataframe tbody tr th {\n",
       "        vertical-align: top;\n",
       "    }\n",
       "\n",
       "    .dataframe thead th {\n",
       "        text-align: right;\n",
       "    }\n",
       "</style>\n",
       "<table border=\"1\" class=\"dataframe\">\n",
       "  <thead>\n",
       "    <tr style=\"text-align: right;\">\n",
       "      <th></th>\n",
       "      <th>Heading</th>\n",
       "      <th>Review</th>\n",
       "      <th>Product</th>\n",
       "      <th>Review_word_counter</th>\n",
       "      <th>1 Star</th>\n",
       "      <th>2 Star</th>\n",
       "      <th>3 Star</th>\n",
       "      <th>4 Star</th>\n",
       "      <th>5 Star</th>\n",
       "    </tr>\n",
       "  </thead>\n",
       "  <tbody>\n",
       "    <tr>\n",
       "      <th>0</th>\n",
       "      <td>super</td>\n",
       "      <td>this is best quality products</td>\n",
       "      <td>Printer</td>\n",
       "      <td>29</td>\n",
       "      <td>0</td>\n",
       "      <td>0</td>\n",
       "      <td>0</td>\n",
       "      <td>0</td>\n",
       "      <td>1</td>\n",
       "    </tr>\n",
       "    <tr>\n",
       "      <th>1</th>\n",
       "      <td>pretty good</td>\n",
       "      <td>the product is good and easy to use however no...</td>\n",
       "      <td>Printer</td>\n",
       "      <td>220</td>\n",
       "      <td>0</td>\n",
       "      <td>0</td>\n",
       "      <td>0</td>\n",
       "      <td>1</td>\n",
       "      <td>0</td>\n",
       "    </tr>\n",
       "    <tr>\n",
       "      <th>2</th>\n",
       "      <td>just okay</td>\n",
       "      <td>overall performance is satisfactory</td>\n",
       "      <td>Printer</td>\n",
       "      <td>35</td>\n",
       "      <td>0</td>\n",
       "      <td>0</td>\n",
       "      <td>1</td>\n",
       "      <td>0</td>\n",
       "      <td>0</td>\n",
       "    </tr>\n",
       "    <tr>\n",
       "      <th>3</th>\n",
       "      <td>good deal at such a low price</td>\n",
       "      <td>i bought it this week and its so far good took...</td>\n",
       "      <td>Printer</td>\n",
       "      <td>185</td>\n",
       "      <td>0</td>\n",
       "      <td>0</td>\n",
       "      <td>0</td>\n",
       "      <td>1</td>\n",
       "      <td>0</td>\n",
       "    </tr>\n",
       "    <tr>\n",
       "      <th>4</th>\n",
       "      <td>good choice</td>\n",
       "      <td>prints good but cartridges are very expensive</td>\n",
       "      <td>Printer</td>\n",
       "      <td>45</td>\n",
       "      <td>0</td>\n",
       "      <td>0</td>\n",
       "      <td>0</td>\n",
       "      <td>1</td>\n",
       "      <td>0</td>\n",
       "    </tr>\n",
       "  </tbody>\n",
       "</table>\n",
       "</div>"
      ],
      "text/plain": [
       "                         Heading  \\\n",
       "0                          super   \n",
       "1                    pretty good   \n",
       "2                      just okay   \n",
       "3  good deal at such a low price   \n",
       "4                    good choice   \n",
       "\n",
       "                                              Review  Product  \\\n",
       "0                      this is best quality products  Printer   \n",
       "1  the product is good and easy to use however no...  Printer   \n",
       "2                overall performance is satisfactory  Printer   \n",
       "3  i bought it this week and its so far good took...  Printer   \n",
       "4      prints good but cartridges are very expensive  Printer   \n",
       "\n",
       "   Review_word_counter  1 Star  2 Star  3 Star  4 Star  5 Star  \n",
       "0                   29       0       0       0       0       1  \n",
       "1                  220       0       0       0       1       0  \n",
       "2                   35       0       0       1       0       0  \n",
       "3                  185       0       0       0       1       0  \n",
       "4                   45       0       0       0       1       0  "
      ]
     },
     "execution_count": 37,
     "metadata": {},
     "output_type": "execute_result"
    }
   ],
   "source": [
    "# any alphabets from small a to small z or capital A to capital Z.\n",
    "#The plus sign specifies that string should have at least one character.\n",
    "def keepAlpha(sentence):\n",
    "    alpha_sent = \"\"\n",
    "    for word in sentence.split():\n",
    "        alpha_word = re.sub('[^a-z A-Z]+', ' ', word)\n",
    "        alpha_sent += alpha_word\n",
    "        alpha_sent += \" \"\n",
    "    alpha_sent = alpha_sent.strip()\n",
    "    return alpha_sent\n",
    "#apply the function\n",
    "df['Review'] = df['Review'].apply(keepAlpha)\n",
    "df['Heading'] = df['Heading'].apply(keepAlpha)\n",
    "df.head()"
   ]
  },
  {
   "cell_type": "code",
   "execution_count": 38,
   "id": "982b040b",
   "metadata": {},
   "outputs": [],
   "source": [
    "#import libraries for stemming and stopwords removal\n",
    "from nltk.corpus import stopwords\n",
    "from nltk.stem.snowball import SnowballStemmer\n",
    "import re"
   ]
  },
  {
   "cell_type": "code",
   "execution_count": 39,
   "id": "13ea0aa8",
   "metadata": {},
   "outputs": [
    {
     "data": {
      "text/html": [
       "<div>\n",
       "<style scoped>\n",
       "    .dataframe tbody tr th:only-of-type {\n",
       "        vertical-align: middle;\n",
       "    }\n",
       "\n",
       "    .dataframe tbody tr th {\n",
       "        vertical-align: top;\n",
       "    }\n",
       "\n",
       "    .dataframe thead th {\n",
       "        text-align: right;\n",
       "    }\n",
       "</style>\n",
       "<table border=\"1\" class=\"dataframe\">\n",
       "  <thead>\n",
       "    <tr style=\"text-align: right;\">\n",
       "      <th></th>\n",
       "      <th>Heading</th>\n",
       "      <th>Review</th>\n",
       "      <th>Product</th>\n",
       "      <th>Review_word_counter</th>\n",
       "      <th>1 Star</th>\n",
       "      <th>2 Star</th>\n",
       "      <th>3 Star</th>\n",
       "      <th>4 Star</th>\n",
       "      <th>5 Star</th>\n",
       "    </tr>\n",
       "  </thead>\n",
       "  <tbody>\n",
       "    <tr>\n",
       "      <th>0</th>\n",
       "      <td>super</td>\n",
       "      <td>best quality products</td>\n",
       "      <td>Printer</td>\n",
       "      <td>29</td>\n",
       "      <td>0</td>\n",
       "      <td>0</td>\n",
       "      <td>0</td>\n",
       "      <td>0</td>\n",
       "      <td>1</td>\n",
       "    </tr>\n",
       "    <tr>\n",
       "      <th>1</th>\n",
       "      <td>pretty good</td>\n",
       "      <td>product  good  easy  use however  recommended...</td>\n",
       "      <td>Printer</td>\n",
       "      <td>220</td>\n",
       "      <td>0</td>\n",
       "      <td>0</td>\n",
       "      <td>0</td>\n",
       "      <td>1</td>\n",
       "      <td>0</td>\n",
       "    </tr>\n",
       "    <tr>\n",
       "      <th>2</th>\n",
       "      <td>okay</td>\n",
       "      <td>overall performance  satisfactory</td>\n",
       "      <td>Printer</td>\n",
       "      <td>35</td>\n",
       "      <td>0</td>\n",
       "      <td>0</td>\n",
       "      <td>1</td>\n",
       "      <td>0</td>\n",
       "      <td>0</td>\n",
       "    </tr>\n",
       "    <tr>\n",
       "      <th>3</th>\n",
       "      <td>good deal    low price</td>\n",
       "      <td>bought   week    far good took almost   pages...</td>\n",
       "      <td>Printer</td>\n",
       "      <td>185</td>\n",
       "      <td>0</td>\n",
       "      <td>0</td>\n",
       "      <td>0</td>\n",
       "      <td>1</td>\n",
       "      <td>0</td>\n",
       "    </tr>\n",
       "    <tr>\n",
       "      <th>4</th>\n",
       "      <td>good choice</td>\n",
       "      <td>prints good  cartridges   expensive</td>\n",
       "      <td>Printer</td>\n",
       "      <td>45</td>\n",
       "      <td>0</td>\n",
       "      <td>0</td>\n",
       "      <td>0</td>\n",
       "      <td>1</td>\n",
       "      <td>0</td>\n",
       "    </tr>\n",
       "  </tbody>\n",
       "</table>\n",
       "</div>"
      ],
      "text/plain": [
       "                  Heading                                             Review  \\\n",
       "0                   super                              best quality products   \n",
       "1             pretty good   product  good  easy  use however  recommended...   \n",
       "2                    okay                  overall performance  satisfactory   \n",
       "3  good deal    low price   bought   week    far good took almost   pages...   \n",
       "4             good choice                prints good  cartridges   expensive   \n",
       "\n",
       "   Product  Review_word_counter  1 Star  2 Star  3 Star  4 Star  5 Star  \n",
       "0  Printer                   29       0       0       0       0       1  \n",
       "1  Printer                  220       0       0       0       1       0  \n",
       "2  Printer                   35       0       0       1       0       0  \n",
       "3  Printer                  185       0       0       0       1       0  \n",
       "4  Printer                   45       0       0       0       1       0  "
      ]
     },
     "execution_count": 39,
     "metadata": {},
     "output_type": "execute_result"
    }
   ],
   "source": [
    "#removing stopwords\n",
    "stop_words = set(stopwords.words('english'))\n",
    "re_stop_words = re.compile(r\"\\b(\" + \"|\".join(stop_words) + \")\\\\W\", re.I)\n",
    "def removeStopWords(sentence):\n",
    "    global re_stop_words\n",
    "    return re_stop_words.sub(\" \", sentence)\n",
    "#apply the remove_stopwords function\n",
    "df['Review'] = df['Review'].apply(removeStopWords)\n",
    "df['Heading'] = df['Heading'].apply(removeStopWords)\n",
    "df.head()"
   ]
  },
  {
   "cell_type": "code",
   "execution_count": 40,
   "id": "31e03020",
   "metadata": {},
   "outputs": [
    {
     "data": {
      "text/html": [
       "<div>\n",
       "<style scoped>\n",
       "    .dataframe tbody tr th:only-of-type {\n",
       "        vertical-align: middle;\n",
       "    }\n",
       "\n",
       "    .dataframe tbody tr th {\n",
       "        vertical-align: top;\n",
       "    }\n",
       "\n",
       "    .dataframe thead th {\n",
       "        text-align: right;\n",
       "    }\n",
       "</style>\n",
       "<table border=\"1\" class=\"dataframe\">\n",
       "  <thead>\n",
       "    <tr style=\"text-align: right;\">\n",
       "      <th></th>\n",
       "      <th>Heading</th>\n",
       "      <th>Review</th>\n",
       "      <th>Product</th>\n",
       "      <th>Review_word_counter</th>\n",
       "      <th>1 Star</th>\n",
       "      <th>2 Star</th>\n",
       "      <th>3 Star</th>\n",
       "      <th>4 Star</th>\n",
       "      <th>5 Star</th>\n",
       "    </tr>\n",
       "  </thead>\n",
       "  <tbody>\n",
       "    <tr>\n",
       "      <th>0</th>\n",
       "      <td>super</td>\n",
       "      <td>best qualiti product</td>\n",
       "      <td>Printer</td>\n",
       "      <td>29</td>\n",
       "      <td>0</td>\n",
       "      <td>0</td>\n",
       "      <td>0</td>\n",
       "      <td>0</td>\n",
       "      <td>1</td>\n",
       "    </tr>\n",
       "    <tr>\n",
       "      <th>1</th>\n",
       "      <td>pretti good</td>\n",
       "      <td>product good easi use howev recommend commerci...</td>\n",
       "      <td>Printer</td>\n",
       "      <td>220</td>\n",
       "      <td>0</td>\n",
       "      <td>0</td>\n",
       "      <td>0</td>\n",
       "      <td>1</td>\n",
       "      <td>0</td>\n",
       "    </tr>\n",
       "    <tr>\n",
       "      <th>2</th>\n",
       "      <td>okay</td>\n",
       "      <td>overal perform satisfactori</td>\n",
       "      <td>Printer</td>\n",
       "      <td>35</td>\n",
       "      <td>0</td>\n",
       "      <td>0</td>\n",
       "      <td>1</td>\n",
       "      <td>0</td>\n",
       "      <td>0</td>\n",
       "    </tr>\n",
       "    <tr>\n",
       "      <th>3</th>\n",
       "      <td>good deal low price</td>\n",
       "      <td>bought week far good took almost page good par...</td>\n",
       "      <td>Printer</td>\n",
       "      <td>185</td>\n",
       "      <td>0</td>\n",
       "      <td>0</td>\n",
       "      <td>0</td>\n",
       "      <td>1</td>\n",
       "      <td>0</td>\n",
       "    </tr>\n",
       "    <tr>\n",
       "      <th>4</th>\n",
       "      <td>good choic</td>\n",
       "      <td>print good cartridg expens</td>\n",
       "      <td>Printer</td>\n",
       "      <td>45</td>\n",
       "      <td>0</td>\n",
       "      <td>0</td>\n",
       "      <td>0</td>\n",
       "      <td>1</td>\n",
       "      <td>0</td>\n",
       "    </tr>\n",
       "  </tbody>\n",
       "</table>\n",
       "</div>"
      ],
      "text/plain": [
       "               Heading                                             Review  \\\n",
       "0                super                               best qualiti product   \n",
       "1          pretti good  product good easi use howev recommend commerci...   \n",
       "2                 okay                        overal perform satisfactori   \n",
       "3  good deal low price  bought week far good took almost page good par...   \n",
       "4           good choic                         print good cartridg expens   \n",
       "\n",
       "   Product  Review_word_counter  1 Star  2 Star  3 Star  4 Star  5 Star  \n",
       "0  Printer                   29       0       0       0       0       1  \n",
       "1  Printer                  220       0       0       0       1       0  \n",
       "2  Printer                   35       0       0       1       0       0  \n",
       "3  Printer                  185       0       0       0       1       0  \n",
       "4  Printer                   45       0       0       0       1       0  "
      ]
     },
     "execution_count": 40,
     "metadata": {},
     "output_type": "execute_result"
    }
   ],
   "source": [
    "#stemming\n",
    "stemmer = SnowballStemmer(\"english\")\n",
    "def stemming(sentence):\n",
    "    stemSentence = \"\"\n",
    "    for word in sentence.split():\n",
    "        stem = stemmer.stem(word)\n",
    "        stemSentence += stem\n",
    "        stemSentence += \" \"\n",
    "    stemSentence = stemSentence.strip()\n",
    "    return stemSentence\n",
    "\n",
    "df['Review'] = df['Review'].apply(stemming)\n",
    "df['Heading'] = df['Heading'].apply(stemming)\n",
    "df.head()"
   ]
  },
  {
   "cell_type": "code",
   "execution_count": 41,
   "id": "aedd8568",
   "metadata": {},
   "outputs": [
    {
     "data": {
      "text/html": [
       "<div>\n",
       "<style scoped>\n",
       "    .dataframe tbody tr th:only-of-type {\n",
       "        vertical-align: middle;\n",
       "    }\n",
       "\n",
       "    .dataframe tbody tr th {\n",
       "        vertical-align: top;\n",
       "    }\n",
       "\n",
       "    .dataframe thead th {\n",
       "        text-align: right;\n",
       "    }\n",
       "</style>\n",
       "<table border=\"1\" class=\"dataframe\">\n",
       "  <thead>\n",
       "    <tr style=\"text-align: right;\">\n",
       "      <th></th>\n",
       "      <th>Heading</th>\n",
       "      <th>Review</th>\n",
       "      <th>Product</th>\n",
       "      <th>Review_word_counter</th>\n",
       "      <th>1 Star</th>\n",
       "      <th>2 Star</th>\n",
       "      <th>3 Star</th>\n",
       "      <th>4 Star</th>\n",
       "      <th>5 Star</th>\n",
       "    </tr>\n",
       "  </thead>\n",
       "  <tbody>\n",
       "    <tr>\n",
       "      <th>0</th>\n",
       "      <td>super</td>\n",
       "      <td>best qualiti product</td>\n",
       "      <td>Printer</td>\n",
       "      <td>29</td>\n",
       "      <td>0</td>\n",
       "      <td>0</td>\n",
       "      <td>0</td>\n",
       "      <td>0</td>\n",
       "      <td>1</td>\n",
       "    </tr>\n",
       "    <tr>\n",
       "      <th>1</th>\n",
       "      <td>pretti good</td>\n",
       "      <td>product good easi use howev recommend commerci...</td>\n",
       "      <td>Printer</td>\n",
       "      <td>220</td>\n",
       "      <td>0</td>\n",
       "      <td>0</td>\n",
       "      <td>0</td>\n",
       "      <td>1</td>\n",
       "      <td>0</td>\n",
       "    </tr>\n",
       "    <tr>\n",
       "      <th>2</th>\n",
       "      <td>okay</td>\n",
       "      <td>overal perform satisfactori</td>\n",
       "      <td>Printer</td>\n",
       "      <td>35</td>\n",
       "      <td>0</td>\n",
       "      <td>0</td>\n",
       "      <td>1</td>\n",
       "      <td>0</td>\n",
       "      <td>0</td>\n",
       "    </tr>\n",
       "    <tr>\n",
       "      <th>3</th>\n",
       "      <td>good deal low price</td>\n",
       "      <td>bought week far good took almost page good par...</td>\n",
       "      <td>Printer</td>\n",
       "      <td>185</td>\n",
       "      <td>0</td>\n",
       "      <td>0</td>\n",
       "      <td>0</td>\n",
       "      <td>1</td>\n",
       "      <td>0</td>\n",
       "    </tr>\n",
       "    <tr>\n",
       "      <th>4</th>\n",
       "      <td>good choic</td>\n",
       "      <td>print good cartridg expens</td>\n",
       "      <td>Printer</td>\n",
       "      <td>45</td>\n",
       "      <td>0</td>\n",
       "      <td>0</td>\n",
       "      <td>0</td>\n",
       "      <td>1</td>\n",
       "      <td>0</td>\n",
       "    </tr>\n",
       "  </tbody>\n",
       "</table>\n",
       "</div>"
      ],
      "text/plain": [
       "               Heading                                             Review  \\\n",
       "0                super                               best qualiti product   \n",
       "1          pretti good  product good easi use howev recommend commerci...   \n",
       "2                 okay                        overal perform satisfactori   \n",
       "3  good deal low price  bought week far good took almost page good par...   \n",
       "4           good choic                         print good cartridg expens   \n",
       "\n",
       "   Product  Review_word_counter  1 Star  2 Star  3 Star  4 Star  5 Star  \n",
       "0  Printer                   29       0       0       0       0       1  \n",
       "1  Printer                  220       0       0       0       1       0  \n",
       "2  Printer                   35       0       0       1       0       0  \n",
       "3  Printer                  185       0       0       0       1       0  \n",
       "4  Printer                   45       0       0       0       1       0  "
      ]
     },
     "execution_count": 41,
     "metadata": {},
     "output_type": "execute_result"
    }
   ],
   "source": [
    "import emoji\n",
    "def emoji_remover(text):\n",
    "    allchars = [str for str in text]\n",
    "    emoji_list = [c for c in allchars if c in emoji.UNICODE_EMOJI]\n",
    "    clean_text = ' '.join([str for str in text.split() if not any(i in str for i in emoji_list)])\n",
    "    return clean_text\n",
    "\n",
    "df['Review'] = df['Review'].apply(emoji_remover)\n",
    "df['Heading'] = df['Heading'].apply(emoji_remover)\n",
    "df.head()"
   ]
  },
  {
   "cell_type": "markdown",
   "id": "f965cc43",
   "metadata": {},
   "source": [
    "Modelling will be done on heading of reviews as well as on actual review. But there are duplicate values in the heading. Thus we will use only unique heading for model development"
   ]
  },
  {
   "cell_type": "markdown",
   "id": "00f94d3b",
   "metadata": {},
   "source": [
    "# Modelling on Heading of Reviews"
   ]
  },
  {
   "cell_type": "code",
   "execution_count": 42,
   "id": "05f0e07b",
   "metadata": {},
   "outputs": [
    {
     "data": {
      "text/plain": [
       "(569, 9)"
      ]
     },
     "execution_count": 42,
     "metadata": {},
     "output_type": "execute_result"
    }
   ],
   "source": [
    "df_heading = df.drop_duplicates(subset='Heading')\n",
    "df_heading.shape"
   ]
  },
  {
   "cell_type": "code",
   "execution_count": 43,
   "id": "708f6746",
   "metadata": {},
   "outputs": [],
   "source": [
    "df_heading = shuffle(df_heading)\n",
    "df_heading.reset_index(drop=True,inplace=True)"
   ]
  },
  {
   "cell_type": "code",
   "execution_count": 44,
   "id": "0902ad59",
   "metadata": {},
   "outputs": [
    {
     "data": {
      "text/html": [
       "<div>\n",
       "<style scoped>\n",
       "    .dataframe tbody tr th:only-of-type {\n",
       "        vertical-align: middle;\n",
       "    }\n",
       "\n",
       "    .dataframe tbody tr th {\n",
       "        vertical-align: top;\n",
       "    }\n",
       "\n",
       "    .dataframe thead th {\n",
       "        text-align: right;\n",
       "    }\n",
       "</style>\n",
       "<table border=\"1\" class=\"dataframe\">\n",
       "  <thead>\n",
       "    <tr style=\"text-align: right;\">\n",
       "      <th></th>\n",
       "      <th>Heading</th>\n",
       "      <th>Review</th>\n",
       "      <th>Product</th>\n",
       "      <th>Review_word_counter</th>\n",
       "      <th>1 Star</th>\n",
       "      <th>2 Star</th>\n",
       "      <th>3 Star</th>\n",
       "      <th>4 Star</th>\n",
       "      <th>5 Star</th>\n",
       "    </tr>\n",
       "  </thead>\n",
       "  <tbody>\n",
       "    <tr>\n",
       "      <th>0</th>\n",
       "      <td>could way better</td>\n",
       "      <td>make much sound print document</td>\n",
       "      <td>Printer</td>\n",
       "      <td>49</td>\n",
       "      <td>0</td>\n",
       "      <td>1</td>\n",
       "      <td>0</td>\n",
       "      <td>0</td>\n",
       "      <td>0</td>\n",
       "    </tr>\n",
       "    <tr>\n",
       "      <th>1</th>\n",
       "      <td>nois</td>\n",
       "      <td>product servic good make lot nois print nice p...</td>\n",
       "      <td>Printer</td>\n",
       "      <td>142</td>\n",
       "      <td>0</td>\n",
       "      <td>0</td>\n",
       "      <td>1</td>\n",
       "      <td>0</td>\n",
       "      <td>0</td>\n",
       "    </tr>\n",
       "    <tr>\n",
       "      <th>2</th>\n",
       "      <td>four star</td>\n",
       "      <td>good printer print cost high</td>\n",
       "      <td>Printer</td>\n",
       "      <td>47</td>\n",
       "      <td>0</td>\n",
       "      <td>0</td>\n",
       "      <td>0</td>\n",
       "      <td>1</td>\n",
       "      <td>0</td>\n",
       "    </tr>\n",
       "    <tr>\n",
       "      <th>3</th>\n",
       "      <td>awesom</td>\n",
       "      <td>simpl easi use</td>\n",
       "      <td>Printer</td>\n",
       "      <td>25</td>\n",
       "      <td>0</td>\n",
       "      <td>0</td>\n",
       "      <td>0</td>\n",
       "      <td>0</td>\n",
       "      <td>1</td>\n",
       "    </tr>\n",
       "    <tr>\n",
       "      <th>4</th>\n",
       "      <td>question</td>\n",
       "      <td>instal mac machin latest os</td>\n",
       "      <td>Printer</td>\n",
       "      <td>49</td>\n",
       "      <td>0</td>\n",
       "      <td>0</td>\n",
       "      <td>1</td>\n",
       "      <td>0</td>\n",
       "      <td>0</td>\n",
       "    </tr>\n",
       "  </tbody>\n",
       "</table>\n",
       "</div>"
      ],
      "text/plain": [
       "            Heading                                             Review  \\\n",
       "0  could way better                     make much sound print document   \n",
       "1              nois  product servic good make lot nois print nice p...   \n",
       "2         four star                       good printer print cost high   \n",
       "3            awesom                                     simpl easi use   \n",
       "4          question                        instal mac machin latest os   \n",
       "\n",
       "   Product  Review_word_counter  1 Star  2 Star  3 Star  4 Star  5 Star  \n",
       "0  Printer                   49       0       1       0       0       0  \n",
       "1  Printer                  142       0       0       1       0       0  \n",
       "2  Printer                   47       0       0       0       1       0  \n",
       "3  Printer                   25       0       0       0       0       1  \n",
       "4  Printer                   49       0       0       1       0       0  "
      ]
     },
     "execution_count": 44,
     "metadata": {},
     "output_type": "execute_result"
    }
   ],
   "source": [
    "df_heading.head()"
   ]
  },
  {
   "cell_type": "code",
   "execution_count": 45,
   "id": "1a9a40f0",
   "metadata": {},
   "outputs": [],
   "source": [
    "# Separation of Labels and Features\n",
    "x = df_heading['Heading']\n",
    "y = df_heading[['1 Star','2 Star','3 Star','4 Star','5 Star']]"
   ]
  },
  {
   "cell_type": "code",
   "execution_count": 46,
   "id": "ee9f7043",
   "metadata": {},
   "outputs": [],
   "source": [
    "#transforming words to vectors\n",
    "#initiate tfid\n",
    "from sklearn.feature_extraction.text import TfidfVectorizer\n",
    "tf = TfidfVectorizer()\n",
    "#convert text into vectors\n",
    "x = tf.fit_transform(x)"
   ]
  },
  {
   "cell_type": "code",
   "execution_count": 47,
   "id": "9e451f73",
   "metadata": {},
   "outputs": [],
   "source": [
    "#splitting data into training and testing\n",
    "from sklearn.model_selection import train_test_split\n",
    "x_train, x_test, y_train, y_test = train_test_split(x, y, test_size=0.25, random_state=123)"
   ]
  },
  {
   "cell_type": "markdown",
   "id": "1b58660e",
   "metadata": {},
   "source": [
    "### Understanding few concepts before actual model building"
   ]
  },
  {
   "cell_type": "markdown",
   "id": "ade62a95",
   "metadata": {},
   "source": [
    "### Studying the evaluation metrics"
   ]
  },
  {
   "cell_type": "markdown",
   "id": "3cbb39a6",
   "metadata": {},
   "source": [
    "#### 1) Label ranking average precision (LRAP)\n",
    "It is the average over each ground truth label assigned to each sample, of the ratio of true vs. total labels with lower score.\n",
    "\n",
    "This metric is used in multilabel ranking problem, where the goal is to give better rank to the labels associated to each sample.\n",
    "\n",
    "* The obtained score is always strictly greater than 0 and the best value is 1."
   ]
  },
  {
   "cell_type": "markdown",
   "id": "13d485aa",
   "metadata": {},
   "source": [
    "#### 2) Ranking loss measure.\n",
    "\n",
    "Compute the average number of label pairs that are incorrectly ordered given y_score weighted by the size of the label set and the number of labels not in the label set.\n",
    "\n",
    "This is similar to the error set size, but weighted by the number of relevant and irrelevant labels.  The best performance is achieved with a ranking loss of zero."
   ]
  },
  {
   "cell_type": "markdown",
   "id": "2981109a",
   "metadata": {},
   "source": [
    "#### 3) Hamming loss\n",
    "it is important to note that unlikely accuracy in hamming loss the smaller the result is the better is the model. for an example if hamming loss, is 0.32 which means that if you are trying to predict the aspects of 100 sentences the model will predict incorrectly about 32% of the independent aspects.\n",
    "* hamming loss value ranges from 0 to 1. Lesser value of hamming loss indicates a better classifier."
   ]
  },
  {
   "cell_type": "markdown",
   "id": "9c17cc16",
   "metadata": {},
   "source": [
    "#### 4) Precision\n",
    "The precision is the ratio tp / (tp + fp) where tp is the number of true positives and fp the number of false positives. The precision is intuitively the ability of the classifier not to label as positive a sample that is negative.\n",
    "* The best value is 1 and the worst value is 0."
   ]
  },
  {
   "cell_type": "markdown",
   "id": "08a017eb",
   "metadata": {},
   "source": [
    "#### 5) Coverage error\n",
    "Coverage error measure.\n",
    "\n",
    "Compute how far we need to go through the ranked scores to cover all true labels. The best value is equal to the average number of labels in y_true per sample.\n",
    "* The best value of coverage is when it is equal to average number of true class labels."
   ]
  },
  {
   "cell_type": "markdown",
   "id": "8ba6db2b",
   "metadata": {},
   "source": [
    "#### 6) Log loss\n",
    "This is the loss function used in (multinomial) logistic regression and extensions of it such as neural networks, defined as the negative log-likelihood of a logistic model that returns y_pred probabilities for its training data y_true . The log loss is only defined for two or more labels.\n",
    "The bolder the probabilities, the better will be your Log Loss — closer to zero. It is a measure of uncertainty (you may call it entropy), so a low Log Loss means a low uncertainty/entropy of your model. "
   ]
  },
  {
   "cell_type": "markdown",
   "id": "39d56807",
   "metadata": {},
   "source": [
    "#### 7) Hamming loss\n",
    "The Hamming loss is the fraction of labels that are incorrectly predicted.\n",
    "hamming loss value ranges from 0 to 1. Lesser value of hamming loss indicates a better classifier."
   ]
  },
  {
   "cell_type": "markdown",
   "id": "82ac8608",
   "metadata": {},
   "source": [
    "#### 8)  Confusion matrix for multi-label\n",
    "In multilabel confusion matrix MCM, the count of true negatives is MCM(0,0) , false negatives is MCM(1,0), true positives is MCM(1,1)  and false positives is(0,1) .\n",
    "\n"
   ]
  },
  {
   "attachments": {
    "1_x7WPPEQqCJClqy7e3XxPOA.png": {
     "image/png": "[encoded data removed]"
    }
   },
   "cell_type": "markdown",
   "id": "7335094d",
   "metadata": {},
   "source": [
    "![1_x7WPPEQqCJClqy7e3XxPOA.png](attachment:1_x7WPPEQqCJClqy7e3XxPOA.png)"
   ]
  },
  {
   "cell_type": "code",
   "execution_count": 48,
   "id": "4702d989",
   "metadata": {},
   "outputs": [],
   "source": [
    "#importing libraries for evaluation\n",
    "from sklearn.metrics import hamming_loss,accuracy_score,log_loss,f1_score\n",
    "from sklearn.metrics import coverage_error,precision_score,label_ranking_average_precision_score\n",
    "from sklearn.metrics import roc_auc_score\n",
    "from sklearn.metrics import multilabel_confusion_matrix\n",
    "from sklearn.model_selection import cross_val_score"
   ]
  },
  {
   "cell_type": "markdown",
   "id": "cab660e7",
   "metadata": {},
   "source": [
    "# Building model based on Heading of review"
   ]
  },
  {
   "cell_type": "markdown",
   "id": "3e69b960",
   "metadata": {},
   "source": [
    "### 1) Power Transformation"
   ]
  },
  {
   "cell_type": "markdown",
   "id": "86d444f3",
   "metadata": {},
   "source": [
    "### 1.1 Binary relevance with GuassianNb as base classifier"
   ]
  },
  {
   "cell_type": "code",
   "execution_count": 49,
   "id": "ba54a99a",
   "metadata": {
    "scrolled": true
   },
   "outputs": [
    {
     "name": "stdout",
     "output_type": "stream",
     "text": [
      "Accuracy =  22.377622377622377\n",
      "Cross validation score= 17.74993038150933\n",
      "\n",
      "\n",
      "log loss= 11.053394050528903\n",
      "hamming loss= 0.3832167832167832\n",
      "\n",
      "\n",
      "f1 score= 0.41201716738197425\n",
      "average precision score= 0.29721362229102166\n",
      "AUC ROC score= 0.5973940707293482\n",
      "\n",
      "\n",
      "label ranking average precision score= 0.4294871794871801\n",
      "coverage area= 3.4825174825174825\n",
      "\n",
      "\n"
     ]
    }
   ],
   "source": [
    "# using binary relevance\n",
    "from skmultilearn.problem_transform import BinaryRelevance\n",
    "from sklearn.naive_bayes import GaussianNB\n",
    "\n",
    "# initialize binary relevance multi-label classifier\n",
    "# with a gaussian naive bayes base classifier\n",
    "classifier1 = BinaryRelevance(GaussianNB())\n",
    "\n",
    "# train\n",
    "classifier1.fit(x_train, y_train)\n",
    "# predict\n",
    "predictions = classifier1.predict(x_test)\n",
    "\n",
    "# accuracy\n",
    "acc_br=accuracy_score(y_test,predictions)*100\n",
    "print(\"Accuracy = \",acc_br)\n",
    "#cross validation score\n",
    "cv_br=cross_val_score(classifier1,x,y,cv=3).mean()*100\n",
    "print(\"Cross validation score=\",cv_br)\n",
    "print(\"\\n\")\n",
    "\n",
    "#log loss\n",
    "loss_br=log_loss(y_test,predictions.toarray())\n",
    "print(\"log loss=\",loss_br)\n",
    "#hamming loss\n",
    "hamm_loss_br=hamming_loss(y_test,predictions)\n",
    "print(\"hamming loss=\",hamm_loss_br) \n",
    "print(\"\\n\")\n",
    "\n",
    "\n",
    "#f1 score\n",
    "f1_br=f1_score(y_test,predictions.toarray(),average='micro')\n",
    "print(\"f1 score=\",f1_br)\n",
    "#precision score micro averaged\n",
    "pre_br=precision_score(y_test,predictions.toarray(),average='micro')\n",
    "print(\"average precision score=\",pre_br)\n",
    "#auc roc curve\n",
    "auc_br=roc_auc_score(y_test,predictions.toarray())\n",
    "print(\"AUC ROC score=\",auc_br)\n",
    "print(\"\\n\")\n",
    "\n",
    "\n",
    "#label ranking \n",
    "lr_br=label_ranking_average_precision_score(y_test,predictions.toarray())\n",
    "print(\"label ranking average precision score=\",lr_br)\n",
    "#coverage error\n",
    "ce_br=coverage_error(y_test,predictions.toarray())\n",
    "print(\"coverage area=\",ce_br)\n",
    "print(\"\\n\")"
   ]
  },
  {
   "cell_type": "code",
   "execution_count": 50,
   "id": "697b7e51",
   "metadata": {},
   "outputs": [
    {
     "data": {
      "text/plain": [
       "array([[[ 59,  48],\n",
       "        [  7,  29]],\n",
       "\n",
       "       [[102,  29],\n",
       "        [  6,   6]],\n",
       "\n",
       "       [[ 86,  43],\n",
       "        [  8,   6]],\n",
       "\n",
       "       [[ 59,  57],\n",
       "        [ 12,  15]],\n",
       "\n",
       "       [[ 39,  50],\n",
       "        [ 14,  40]]])"
      ]
     },
     "execution_count": 50,
     "metadata": {},
     "output_type": "execute_result"
    }
   ],
   "source": [
    "#confusion matrix for binary relevance\n",
    "conf_mat1=multilabel_confusion_matrix(y_test,predictions)\n",
    "conf_mat1"
   ]
  },
  {
   "cell_type": "code",
   "execution_count": 51,
   "id": "fa55a23e",
   "metadata": {},
   "outputs": [
    {
     "data": {
      "image/png": "[encoded data removed]",
      "text/plain": [
       "<Figure size 1080x504 with 10 Axes>"
      ]
     },
     "metadata": {
      "needs_background": "light"
     },
     "output_type": "display_data"
    }
   ],
   "source": [
    "#plotting heatmap of confusion matrix\n",
    "a = 2  # number of rows\n",
    "b = 3  # number of columns\n",
    "c = 1  # initialize plot counter\n",
    "fig = plt.figure(figsize=(15,7))\n",
    "for i in range(0,5):\n",
    "    plt.subplot(a, b, c)\n",
    "    plt.title('{}'.format(i+1),weight='bold')\n",
    "    sns.heatmap(conf_mat1[i],annot=True,cmap='plasma',fmt=\"0.2f\",linewidths=3,linecolor='black')\n",
    "    c = c + 1\n",
    "    plt.tight_layout()\n",
    "plt.show()"
   ]
  },
  {
   "cell_type": "markdown",
   "id": "bca7b51c",
   "metadata": {},
   "source": [
    "### 1.2 Label powerset"
   ]
  },
  {
   "cell_type": "code",
   "execution_count": 52,
   "id": "0d12b9ba",
   "metadata": {},
   "outputs": [
    {
     "name": "stdout",
     "output_type": "stream",
     "text": [
      "Accuracy =  34.26573426573427\n",
      "Cross validation score= 30.75837742504409\n",
      "\n",
      "\n",
      "log loss= 22.703811056794436\n",
      "hamming loss= 0.2629370629370629\n",
      "\n",
      "\n",
      "AUC ROC score= 0.5963249123678086\n",
      "f1 score= 0.34265734265734266\n",
      "average precision score= 0.34265734265734266\n",
      "\n",
      "\n",
      "coverage area= 3.629370629370629\n",
      "label ranking average precision score= 0.474125874125875\n"
     ]
    }
   ],
   "source": [
    "#create and fit classifier\n",
    "from skmultilearn.problem_transform import LabelPowerset\n",
    "from sklearn.naive_bayes import GaussianNB\n",
    "\n",
    "# initialize Label Powerset multi-label classifier\n",
    "# with a gaussian naive bayes base classifier\n",
    "classifier2 = LabelPowerset(GaussianNB())\n",
    "classifier2.fit(x_train, y_train)\n",
    "#predictions\n",
    "predictions = classifier2.predict(x_test)\n",
    "\n",
    "# accuracy\n",
    "acc_lps=accuracy_score(y_test,predictions)*100\n",
    "print(\"Accuracy = \",acc_lps)\n",
    "#cross validation score\n",
    "cv_lps=cross_val_score(classifier2,x,y,cv=3).mean()*100\n",
    "print(\"Cross validation score=\",cv_lps)\n",
    "print(\"\\n\")\n",
    "\n",
    "#log loss\n",
    "loss_lps=log_loss(y_test,predictions.toarray())\n",
    "print(\"log loss=\",loss_lps)\n",
    "#hamming loss\n",
    "hamm_loss_lps=hamming_loss(y_test,predictions)\n",
    "print(\"hamming loss=\",hamm_loss_lps)\n",
    "print(\"\\n\")\n",
    "\n",
    "#auc roc score\n",
    "auc_lps=roc_auc_score(y_test,predictions.toarray())\n",
    "print(\"AUC ROC score=\",auc_lps)\n",
    "#f1 score\n",
    "f1_lps=f1_score(y_test,predictions.toarray(),average='micro')\n",
    "print(\"f1 score=\",f1_lps)\n",
    "#precision score micro averaged\n",
    "pre_lps=precision_score(y_test,predictions.toarray(),average='micro')\n",
    "print(\"average precision score=\",pre_lps)\n",
    "print(\"\\n\")\n",
    "\n",
    "#coverage error\n",
    "ce_lps=coverage_error(y_test,predictions.toarray())\n",
    "print(\"coverage area=\",ce_lps)\n",
    "#label ranking \n",
    "lr_lps=label_ranking_average_precision_score(y_test,predictions.toarray())\n",
    "print(\"label ranking average precision score=\",lr_lps)"
   ]
  },
  {
   "cell_type": "code",
   "execution_count": 53,
   "id": "b6b0a723",
   "metadata": {},
   "outputs": [
    {
     "data": {
      "text/plain": [
       "array([[[ 95,  12],\n",
       "        [ 19,  17]],\n",
       "\n",
       "       [[101,  30],\n",
       "        [  6,   6]],\n",
       "\n",
       "       [[111,  18],\n",
       "        [ 11,   3]],\n",
       "\n",
       "       [[ 91,  25],\n",
       "        [ 19,   8]],\n",
       "\n",
       "       [[ 80,   9],\n",
       "        [ 39,  15]]])"
      ]
     },
     "execution_count": 53,
     "metadata": {},
     "output_type": "execute_result"
    }
   ],
   "source": [
    "#confusion matrix for label powerset\n",
    "conf_mat2=multilabel_confusion_matrix(y_test,predictions)\n",
    "conf_mat2"
   ]
  },
  {
   "cell_type": "code",
   "execution_count": 54,
   "id": "048c3aee",
   "metadata": {},
   "outputs": [
    {
     "data": {
      "image/png": "[encoded data removed]",
      "text/plain": [
       "<Figure size 1080x504 with 10 Axes>"
      ]
     },
     "metadata": {
      "needs_background": "light"
     },
     "output_type": "display_data"
    }
   ],
   "source": [
    "#plotting heatmap of confusion matrix\n",
    "a = 2  # number of rows\n",
    "b = 3  # number of columns\n",
    "c = 1  # initialize plot counter\n",
    "fig = plt.figure(figsize=(15,7))\n",
    "for i in range(0,5): \n",
    "    plt.subplot(a, b, c)\n",
    "    plt.title('{}'.format(i+1),weight='bold')\n",
    "    sns.heatmap(conf_mat2[i],annot=True,cmap='plasma',fmt=\"0.2f\",linewidths=3,linecolor='black')\n",
    "    c = c + 1\n",
    "    plt.tight_layout()\n",
    "plt.show()"
   ]
  },
  {
   "cell_type": "markdown",
   "id": "8b91495b",
   "metadata": {},
   "source": [
    "### 2 ) Classifier chain with MultinomialNB classifier (ensemble)"
   ]
  },
  {
   "cell_type": "code",
   "execution_count": 55,
   "id": "47bf7aab",
   "metadata": {},
   "outputs": [
    {
     "name": "stdout",
     "output_type": "stream",
     "text": [
      "Accuracy =  25.174825174825177\n",
      "Cross validation score= 24.78325443237724\n",
      "\n",
      "\n",
      "log loss= 8.573067748739163\n",
      "hamming loss= 0.1944055944055944\n",
      "\n",
      "\n",
      "AUC ROC score= 0.5388310870408659\n",
      "f1 score= 0.3412322274881517\n",
      "average precision score= 0.5294117647058824\n",
      "\n",
      "\n",
      "coverage area= 3.993006993006993\n",
      "label ranking average precision score= 0.40139860139860206\n"
     ]
    }
   ],
   "source": [
    "#create and fit classifier\n",
    "from sklearn.naive_bayes import MultinomialNB\n",
    "from skmultilearn.problem_transform import ClassifierChain\n",
    "classifier3 = ClassifierChain(MultinomialNB())\n",
    "classifier3.fit(x_train, y_train)\n",
    "\n",
    "#predictions\n",
    "predictions = classifier3.predict(x_test)\n",
    "# accuracy\n",
    "acc_cc=accuracy_score(y_test,predictions)*100\n",
    "print(\"Accuracy = \",acc_cc)\n",
    "#cross validation score\n",
    "cv_cc=cross_val_score(classifier3,x,y,cv=3).mean()*100\n",
    "print(\"Cross validation score=\",cv_cc)\n",
    "print(\"\\n\")\n",
    "\n",
    "#log loss\n",
    "loss_cc=log_loss(y_test,predictions.toarray())\n",
    "print(\"log loss=\",loss_cc)\n",
    "#hamming loss\n",
    "hamm_loss_cc=hamming_loss(y_test,predictions)\n",
    "print(\"hamming loss=\",hamm_loss_cc)\n",
    "print(\"\\n\")\n",
    "\n",
    "#auc roc score\n",
    "auc_cc=roc_auc_score(y_test,predictions.toarray())\n",
    "print(\"AUC ROC score=\",auc_cc)\n",
    "#f1 score\n",
    "f1_cc=f1_score(y_test,predictions.toarray(),average='micro')\n",
    "print(\"f1 score=\",f1_cc)\n",
    "#precision score micro averaged\n",
    "pre_cc=precision_score(y_test,predictions.toarray(),average='micro')\n",
    "print(\"average precision score=\",pre_cc)\n",
    "print(\"\\n\")\n",
    "\n",
    "#coverage error\n",
    "ce_cc=coverage_error(y_test,predictions.toarray())\n",
    "print(\"coverage area=\",ce_cc)\n",
    "\n",
    "#label ranking \n",
    "lr_cc=label_ranking_average_precision_score(y_test,predictions.toarray())\n",
    "print(\"label ranking average precision score=\",lr_cc)"
   ]
  },
  {
   "cell_type": "code",
   "execution_count": 56,
   "id": "202ff1fa",
   "metadata": {},
   "outputs": [
    {
     "data": {
      "text/plain": [
       "array([[[106,   1],\n",
       "        [ 28,   8]],\n",
       "\n",
       "       [[131,   0],\n",
       "        [ 12,   0]],\n",
       "\n",
       "       [[129,   0],\n",
       "        [ 14,   0]],\n",
       "\n",
       "       [[114,   2],\n",
       "        [ 27,   0]],\n",
       "\n",
       "       [[ 60,  29],\n",
       "        [ 26,  28]]])"
      ]
     },
     "execution_count": 56,
     "metadata": {},
     "output_type": "execute_result"
    }
   ],
   "source": [
    "#confusion matrix for classifier chain\n",
    "conf_mat3=multilabel_confusion_matrix(y_test,predictions)\n",
    "conf_mat3"
   ]
  },
  {
   "cell_type": "code",
   "execution_count": 57,
   "id": "dc3975fe",
   "metadata": {},
   "outputs": [
    {
     "data": {
      "image/png": "[encoded data removed]",
      "text/plain": [
       "<Figure size 1080x504 with 10 Axes>"
      ]
     },
     "metadata": {
      "needs_background": "light"
     },
     "output_type": "display_data"
    }
   ],
   "source": [
    "#plotting heatmap of confusion matrix\n",
    "a = 2  # number of rows\n",
    "b = 3  # number of columns\n",
    "c = 1  # initialize plot counter\n",
    "fig = plt.figure(figsize=(15,7))\n",
    "for i in range(0,5): \n",
    "    plt.subplot(a, b, c)\n",
    "    plt.title('{}'.format(i+1),weight='bold')\n",
    "    sns.heatmap(conf_mat3[i],annot=True,cmap='plasma',fmt=\"0.2f\",linewidths=3,linecolor='black')\n",
    "    c = c + 1\n",
    "    plt.tight_layout()\n",
    "plt.show()"
   ]
  },
  {
   "cell_type": "markdown",
   "id": "dcd6799e",
   "metadata": {},
   "source": [
    "### 3) Adapted Algorithm\n",
    "Adapted algorithm, as the name suggests, adapting the algorithm to directly perform multi-label classification, rather than transforming the problem into different subsets of problems.\n",
    "\n",
    "For example, multi-label version of kNN is represented by MLkNN. So, let us quickly implement this on our randomly generated data set."
   ]
  },
  {
   "cell_type": "code",
   "execution_count": 58,
   "id": "d9a1d43f",
   "metadata": {},
   "outputs": [
    {
     "name": "stdout",
     "output_type": "stream",
     "text": [
      "Accuracy =  34.96503496503497\n",
      "Cross validation score= 29.361366378910237\n",
      "\n",
      "\n",
      "log loss= 15.654756273235616\n",
      "hamming loss= 0.22657342657342658\n",
      "\n",
      "\n",
      "AUC ROC score= 0.60710911386317\n",
      "f1 score= 0.47741935483870973\n",
      "average precision score= 0.4431137724550898\n",
      "\n",
      "\n",
      "label ranking average precision score= 0.5300699300699308\n",
      "coverage area= 3.097902097902098\n"
     ]
    }
   ],
   "source": [
    "from skmultilearn.adapt import MLkNN\n",
    "classifier4 = MLkNN(k=3)\n",
    "# train\n",
    "classifier4.fit(x_train, y_train.values)\n",
    "#predictions\n",
    "predictions = classifier4.predict(x_test)\n",
    "\n",
    "# accuracy\n",
    "acc_mlknn=accuracy_score(y_test,predictions)*100\n",
    "print(\"Accuracy = \",acc_mlknn)\n",
    "#cross validation score\n",
    "cv_mlknn=cross_val_score(classifier4,x,y.values,cv=3).mean()*100\n",
    "print(\"Cross validation score=\",cv_mlknn)\n",
    "print(\"\\n\")\n",
    "\n",
    "#log loss\n",
    "loss_mlknn=log_loss(y_test,predictions.toarray())\n",
    "print(\"log loss=\",loss_mlknn)\n",
    "#hamming loss\n",
    "hamm_loss_mlknn=hamming_loss(y_test,predictions)\n",
    "print(\"hamming loss=\",hamm_loss_mlknn)\n",
    "print(\"\\n\")\n",
    "\n",
    "#auc roc score\n",
    "auc_mlknn=roc_auc_score(y_test,predictions.toarray())\n",
    "print(\"AUC ROC score=\",auc_mlknn)\n",
    "#f1 score\n",
    "f1_mlknn=f1_score(y_test,predictions.toarray(),average='micro')\n",
    "print(\"f1 score=\",f1_mlknn)\n",
    "#precision score micro averaged\n",
    "pre_mlknn=precision_score(y_test,predictions.toarray(),average='micro')\n",
    "print(\"average precision score=\",pre_mlknn)\n",
    "print(\"\\n\")\n",
    "\n",
    "#label ranking \n",
    "lr_mlknn=label_ranking_average_precision_score(y_test,predictions.toarray())\n",
    "print(\"label ranking average precision score=\",lr_mlknn)\n",
    "#coverage error\n",
    "ce_mlknn=coverage_error(y_test,predictions.toarray())\n",
    "print(\"coverage area=\",ce_mlknn)"
   ]
  },
  {
   "cell_type": "code",
   "execution_count": 59,
   "id": "03975c14",
   "metadata": {},
   "outputs": [
    {
     "data": {
      "text/plain": [
       "array([[[ 89,  18],\n",
       "        [ 13,  23]],\n",
       "\n",
       "       [[122,   9],\n",
       "        [ 10,   2]],\n",
       "\n",
       "       [[127,   2],\n",
       "        [ 14,   0]],\n",
       "\n",
       "       [[ 82,  34],\n",
       "        [ 14,  13]],\n",
       "\n",
       "       [[ 59,  30],\n",
       "        [ 18,  36]]])"
      ]
     },
     "execution_count": 59,
     "metadata": {},
     "output_type": "execute_result"
    }
   ],
   "source": [
    "#confusion matrix for mlknn\n",
    "conf_mat4=multilabel_confusion_matrix(y_test,predictions)\n",
    "conf_mat4"
   ]
  },
  {
   "cell_type": "code",
   "execution_count": 60,
   "id": "ad691914",
   "metadata": {},
   "outputs": [
    {
     "data": {
      "image/png": "[encoded data removed]",
      "text/plain": [
       "<Figure size 1080x504 with 10 Axes>"
      ]
     },
     "metadata": {
      "needs_background": "light"
     },
     "output_type": "display_data"
    }
   ],
   "source": [
    "a = 2  # number of rows\n",
    "b = 3  # number of columns\n",
    "c = 1  # initialize plot counter\n",
    "fig = plt.figure(figsize=(15,7))\n",
    "for i in range(0,5): \n",
    "    plt.subplot(a, b, c)\n",
    "    plt.title('{}'.format(i+1),weight='bold')\n",
    "    sns.heatmap(conf_mat4[i],annot=True,cmap='plasma',fmt=\"0.2f\",linewidths=3,linecolor='black')\n",
    "    c = c + 1\n",
    "    plt.tight_layout()\n",
    "plt.show()"
   ]
  },
  {
   "cell_type": "markdown",
   "id": "c69f66e7",
   "metadata": {},
   "source": [
    "### Comparing all the models performance"
   ]
  },
  {
   "cell_type": "code",
   "execution_count": 61,
   "id": "40a80485",
   "metadata": {},
   "outputs": [
    {
     "data": {
      "text/html": [
       "<div>\n",
       "<style scoped>\n",
       "    .dataframe tbody tr th:only-of-type {\n",
       "        vertical-align: middle;\n",
       "    }\n",
       "\n",
       "    .dataframe tbody tr th {\n",
       "        vertical-align: top;\n",
       "    }\n",
       "\n",
       "    .dataframe thead th {\n",
       "        text-align: right;\n",
       "    }\n",
       "</style>\n",
       "<table border=\"1\" class=\"dataframe\">\n",
       "  <thead>\n",
       "    <tr style=\"text-align: right;\">\n",
       "      <th></th>\n",
       "      <th>Model</th>\n",
       "      <th>Accuracy Score</th>\n",
       "      <th>Cross Validation score</th>\n",
       "      <th>Hamming Loss</th>\n",
       "      <th>Log Loss</th>\n",
       "      <th>Auc-Roc score</th>\n",
       "      <th>F1 Score</th>\n",
       "      <th>Precision</th>\n",
       "      <th>coverage error</th>\n",
       "      <th>Label ranking</th>\n",
       "    </tr>\n",
       "  </thead>\n",
       "  <tbody>\n",
       "    <tr>\n",
       "      <th>0</th>\n",
       "      <td>Adapted algorithm</td>\n",
       "      <td>34.965035</td>\n",
       "      <td>29.361366</td>\n",
       "      <td>0.226573</td>\n",
       "      <td>15.654756</td>\n",
       "      <td>0.607109</td>\n",
       "      <td>0.477419</td>\n",
       "      <td>0.443114</td>\n",
       "      <td>3.097902</td>\n",
       "      <td>0.530070</td>\n",
       "    </tr>\n",
       "    <tr>\n",
       "      <th>1</th>\n",
       "      <td>Label powerset</td>\n",
       "      <td>34.265734</td>\n",
       "      <td>30.758377</td>\n",
       "      <td>0.262937</td>\n",
       "      <td>22.703811</td>\n",
       "      <td>0.596325</td>\n",
       "      <td>0.342657</td>\n",
       "      <td>0.342657</td>\n",
       "      <td>3.629371</td>\n",
       "      <td>0.474126</td>\n",
       "    </tr>\n",
       "    <tr>\n",
       "      <th>2</th>\n",
       "      <td>Classifier chain</td>\n",
       "      <td>25.174825</td>\n",
       "      <td>24.783254</td>\n",
       "      <td>0.194406</td>\n",
       "      <td>8.573068</td>\n",
       "      <td>0.538831</td>\n",
       "      <td>0.341232</td>\n",
       "      <td>0.529412</td>\n",
       "      <td>3.993007</td>\n",
       "      <td>0.401399</td>\n",
       "    </tr>\n",
       "    <tr>\n",
       "      <th>3</th>\n",
       "      <td>Binary Relevance</td>\n",
       "      <td>22.377622</td>\n",
       "      <td>17.749930</td>\n",
       "      <td>0.383217</td>\n",
       "      <td>11.053394</td>\n",
       "      <td>0.597394</td>\n",
       "      <td>0.412017</td>\n",
       "      <td>0.297214</td>\n",
       "      <td>3.482517</td>\n",
       "      <td>0.429487</td>\n",
       "    </tr>\n",
       "  </tbody>\n",
       "</table>\n",
       "</div>"
      ],
      "text/plain": [
       "               Model  Accuracy Score  Cross Validation score  Hamming Loss  \\\n",
       "0  Adapted algorithm       34.965035               29.361366      0.226573   \n",
       "1     Label powerset       34.265734               30.758377      0.262937   \n",
       "2   Classifier chain       25.174825               24.783254      0.194406   \n",
       "3   Binary Relevance       22.377622               17.749930      0.383217   \n",
       "\n",
       "    Log Loss   Auc-Roc score  F1 Score  Precision  coverage error  \\\n",
       "0  15.654756        0.607109  0.477419   0.443114        3.097902   \n",
       "1  22.703811        0.596325  0.342657   0.342657        3.629371   \n",
       "2   8.573068        0.538831  0.341232   0.529412        3.993007   \n",
       "3  11.053394        0.597394  0.412017   0.297214        3.482517   \n",
       "\n",
       "   Label ranking  \n",
       "0       0.530070  \n",
       "1       0.474126  \n",
       "2       0.401399  \n",
       "3       0.429487  "
      ]
     },
     "execution_count": 61,
     "metadata": {},
     "output_type": "execute_result"
    }
   ],
   "source": [
    "#creating a comparision table for better understanding\n",
    "\n",
    "df_comparison_heading=pd.DataFrame({\n",
    "    \"Model\":['Binary Relevance',\"Classifier chain\",\"Label powerset\",\"Adapted algorithm\"],\n",
    "    \"Accuracy Score\":[acc_br,acc_cc,acc_lps,acc_mlknn],\n",
    "    \"Cross Validation score\":[cv_br,cv_cc,cv_lps,cv_mlknn],\n",
    "    \"Hamming Loss\":[hamm_loss_br,hamm_loss_cc,hamm_loss_lps,hamm_loss_mlknn],\n",
    "    \"Log Loss\":[loss_br,loss_cc,loss_lps,loss_mlknn],\n",
    "    \" Auc-Roc score\":[auc_br,auc_cc,auc_lps,auc_mlknn],\n",
    "    \"F1 Score\":[f1_br,f1_cc,f1_lps,f1_mlknn],\n",
    "    \"Precision\":[pre_br,pre_cc,pre_lps,pre_mlknn],\n",
    "    \"coverage error\":[ce_br,ce_cc,ce_lps,ce_mlknn],\n",
    "    \"Label ranking\":[lr_br,lr_cc,lr_lps,lr_mlknn]})\n",
    "    \n",
    "\n",
    "df_comparison_heading.sort_values(by=\"Accuracy Score\",ascending=False,ignore_index=True)"
   ]
  },
  {
   "cell_type": "markdown",
   "id": "e85f051f",
   "metadata": {},
   "source": [
    "#### Conclusion:\n",
    "* The hamming loss for Classifier Chain is the least among all.\n",
    "* The log loss is least for Classifier Chain.\n",
    "* The AUC ROC Score for Adapted Algorithm is maximum which is 0.60\n",
    "* The accuracy score of Adapted Algorithm is best out of 4 selected models."
   ]
  },
  {
   "cell_type": "markdown",
   "id": "b9de06fe",
   "metadata": {},
   "source": [
    "# Building model based on actual reviews and evaluation of its performance"
   ]
  },
  {
   "cell_type": "code",
   "execution_count": 62,
   "id": "24d50a4a",
   "metadata": {},
   "outputs": [],
   "source": [
    "# Separation of Labels and Features\n",
    "z = df['Review']\n",
    "y = df[['1 Star','2 Star','3 Star','4 Star','5 Star']]"
   ]
  },
  {
   "cell_type": "code",
   "execution_count": 63,
   "id": "75fbb584",
   "metadata": {},
   "outputs": [
    {
     "data": {
      "text/plain": [
       "(5580,)"
      ]
     },
     "execution_count": 63,
     "metadata": {},
     "output_type": "execute_result"
    }
   ],
   "source": [
    "z.shape"
   ]
  },
  {
   "cell_type": "code",
   "execution_count": 64,
   "id": "1cfb586d",
   "metadata": {},
   "outputs": [
    {
     "data": {
      "text/plain": [
       "(5580, 5)"
      ]
     },
     "execution_count": 64,
     "metadata": {},
     "output_type": "execute_result"
    }
   ],
   "source": [
    "y.shape"
   ]
  },
  {
   "cell_type": "code",
   "execution_count": 65,
   "id": "88bc71a8",
   "metadata": {},
   "outputs": [],
   "source": [
    "#transforming words to vectors\n",
    "#initiate tfid\n",
    "from sklearn.feature_extraction.text import TfidfVectorizer\n",
    "tf = TfidfVectorizer()\n",
    "#convert text into vectors\n",
    "z = tf.fit_transform(z)"
   ]
  },
  {
   "cell_type": "code",
   "execution_count": 66,
   "id": "822b24c9",
   "metadata": {},
   "outputs": [],
   "source": [
    "#splitting data into training and testing\n",
    "from sklearn.model_selection import train_test_split\n",
    "x_train, x_test, y_train, y_test = train_test_split(z, y, test_size=0.25, random_state=123)"
   ]
  },
  {
   "cell_type": "markdown",
   "id": "59054941",
   "metadata": {},
   "source": [
    "# 1) Power Transformation\n",
    "# 1.1 Binary relevance with GuassianNb as base classifier"
   ]
  },
  {
   "cell_type": "code",
   "execution_count": 67,
   "id": "313bc812",
   "metadata": {},
   "outputs": [
    {
     "name": "stdout",
     "output_type": "stream",
     "text": [
      "Accuracy =  10.25089605734767\n",
      "Cross validation score= 9.677419354838708\n",
      "\n",
      "\n",
      "log loss= 6.145244612701795\n",
      "hamming loss= 0.5331899641577061\n",
      "\n",
      "\n",
      "f1 score= 0.3773648083040348\n",
      "average precision score= 0.24617737003058104\n",
      "AUC ROC score= 0.5492211455172427\n",
      "\n",
      "\n",
      "label ranking average precision score= 0.3258064516128982\n",
      "coverage area= 4.036559139784946\n",
      "\n",
      "\n"
     ]
    }
   ],
   "source": [
    "# using binary relevance\n",
    "from skmultilearn.problem_transform import BinaryRelevance\n",
    "from sklearn.naive_bayes import GaussianNB\n",
    "\n",
    "# initialize binary relevance multi-label classifier\n",
    "# with a gaussian naive bayes base classifier\n",
    "classifier1 = BinaryRelevance(GaussianNB())\n",
    "\n",
    "# train\n",
    "classifier1.fit(x_train, y_train)\n",
    "# predict\n",
    "predictions = classifier1.predict(x_test)\n",
    "\n",
    "# accuracy\n",
    "acc_br=accuracy_score(y_test,predictions)*100\n",
    "print(\"Accuracy = \",acc_br)\n",
    "#cross validation score\n",
    "cv_br=cross_val_score(classifier1,z,y,cv=3).mean()*100\n",
    "print(\"Cross validation score=\",cv_br)\n",
    "print(\"\\n\")\n",
    "\n",
    "#log loss\n",
    "loss_br=log_loss(y_test,predictions.toarray())\n",
    "print(\"log loss=\",loss_br)\n",
    "#hamming loss\n",
    "hamm_loss_br=hamming_loss(y_test,predictions)\n",
    "print(\"hamming loss=\",hamm_loss_br) \n",
    "print(\"\\n\")\n",
    "\n",
    "\n",
    "#f1 score\n",
    "f1_br=f1_score(y_test,predictions.toarray(),average='micro')\n",
    "print(\"f1 score=\",f1_br)\n",
    "#precision score micro averaged\n",
    "pre_br=precision_score(y_test,predictions.toarray(),average='micro')\n",
    "print(\"average precision score=\",pre_br)\n",
    "#auc roc curve\n",
    "auc_br=roc_auc_score(y_test,predictions.toarray())\n",
    "print(\"AUC ROC score=\",auc_br)\n",
    "print(\"\\n\")\n",
    "\n",
    "\n",
    "#label ranking \n",
    "lr_br=label_ranking_average_precision_score(y_test,predictions.toarray())\n",
    "print(\"label ranking average precision score=\",lr_br)\n",
    "#coverage error\n",
    "ce_br=coverage_error(y_test,predictions.toarray())\n",
    "print(\"coverage area=\",ce_br)\n",
    "print(\"\\n\")"
   ]
  },
  {
   "cell_type": "code",
   "execution_count": 68,
   "id": "9a98005f",
   "metadata": {},
   "outputs": [
    {
     "data": {
      "text/plain": [
       "array([[[359, 660],\n",
       "        [ 53, 323]],\n",
       "\n",
       "       [[649, 657],\n",
       "        [ 39,  50]],\n",
       "\n",
       "       [[541, 732],\n",
       "        [ 48,  74]],\n",
       "\n",
       "       [[380, 776],\n",
       "        [ 64, 175]],\n",
       "\n",
       "       [[200, 626],\n",
       "        [ 64, 505]]])"
      ]
     },
     "execution_count": 68,
     "metadata": {},
     "output_type": "execute_result"
    }
   ],
   "source": [
    "#confusion matrix for binary relevance\n",
    "conf_mat1=multilabel_confusion_matrix(y_test,predictions)\n",
    "conf_mat1"
   ]
  },
  {
   "cell_type": "code",
   "execution_count": 69,
   "id": "aa51c230",
   "metadata": {},
   "outputs": [
    {
     "data": {
      "image/png": "[encoded data removed]",
      "text/plain": [
       "<Figure size 1080x504 with 10 Axes>"
      ]
     },
     "metadata": {
      "needs_background": "light"
     },
     "output_type": "display_data"
    }
   ],
   "source": [
    "#plotting heatmap of confusion matrix\n",
    "a = 2  # number of rows\n",
    "b = 3  # number of columns\n",
    "c = 1  # initialize plot counter\n",
    "fig = plt.figure(figsize=(15,7))\n",
    "for i in range(0,5):\n",
    "    plt.subplot(a, b, c)\n",
    "    plt.title('{}'.format(i+1),weight='bold')\n",
    "    sns.heatmap(conf_mat1[i],annot=True,cmap='plasma',fmt=\"0.2f\",linewidths=3,linecolor='black')\n",
    "    c = c + 1\n",
    "    plt.tight_layout()\n",
    "plt.show()"
   ]
  },
  {
   "cell_type": "markdown",
   "id": "f6f2de63",
   "metadata": {},
   "source": [
    "# 1.2 Label powerset"
   ]
  },
  {
   "cell_type": "code",
   "execution_count": 70,
   "id": "faf16c89",
   "metadata": {},
   "outputs": [
    {
     "name": "stdout",
     "output_type": "stream",
     "text": [
      "Accuracy =  21.863799283154123\n",
      "Cross validation score= 20.179211469534053\n",
      "\n",
      "\n",
      "log loss= 26.98728764907\n",
      "hamming loss= 0.3125448028673835\n",
      "\n",
      "\n",
      "AUC ROC score= 0.5457775876942188\n",
      "f1 score= 0.21863799283154123\n",
      "average precision score= 0.21863799283154123\n",
      "\n",
      "\n",
      "coverage area= 4.125448028673835\n",
      "label ranking average precision score= 0.3749103942652276\n"
     ]
    }
   ],
   "source": [
    "#create and fit classifier\n",
    "from skmultilearn.problem_transform import LabelPowerset\n",
    "from sklearn.naive_bayes import GaussianNB\n",
    "\n",
    "# initialize Label Powerset multi-label classifier\n",
    "# with a gaussian naive bayes base classifier\n",
    "classifier2 = LabelPowerset(GaussianNB())\n",
    "classifier2.fit(x_train, y_train)\n",
    "#predictions\n",
    "predictions = classifier2.predict(x_test)\n",
    "\n",
    "# accuracy\n",
    "acc_lps=accuracy_score(y_test,predictions)*100\n",
    "print(\"Accuracy = \",acc_lps)\n",
    "#cross validation score\n",
    "cv_lps=cross_val_score(classifier2,z,y,cv=3).mean()*100\n",
    "print(\"Cross validation score=\",cv_lps)\n",
    "print(\"\\n\")\n",
    "\n",
    "#log loss\n",
    "loss_lps=log_loss(y_test,predictions.toarray())\n",
    "print(\"log loss=\",loss_lps)\n",
    "#hamming loss\n",
    "hamm_loss_lps=hamming_loss(y_test,predictions)\n",
    "print(\"hamming loss=\",hamm_loss_lps)\n",
    "print(\"\\n\")\n",
    "\n",
    "#auc roc score\n",
    "auc_lps=roc_auc_score(y_test,predictions.toarray())\n",
    "print(\"AUC ROC score=\",auc_lps)\n",
    "#f1 score\n",
    "f1_lps=f1_score(y_test,predictions.toarray(),average='micro')\n",
    "print(\"f1 score=\",f1_lps)\n",
    "#precision score micro averaged\n",
    "pre_lps=precision_score(y_test,predictions.toarray(),average='micro')\n",
    "print(\"average precision score=\",pre_lps)\n",
    "print(\"\\n\")\n",
    "\n",
    "#coverage error\n",
    "ce_lps=coverage_error(y_test,predictions.toarray())\n",
    "print(\"coverage area=\",ce_lps)\n",
    "#label ranking \n",
    "lr_lps=label_ranking_average_precision_score(y_test,predictions.toarray())\n",
    "print(\"label ranking average precision score=\",lr_lps)"
   ]
  },
  {
   "cell_type": "code",
   "execution_count": 71,
   "id": "8baaa3d7",
   "metadata": {},
   "outputs": [
    {
     "data": {
      "text/plain": [
       "array([[[ 941,   78],\n",
       "        [ 292,   84]],\n",
       "\n",
       "       [[ 687,  619],\n",
       "        [  40,   49]],\n",
       "\n",
       "       [[1073,  200],\n",
       "        [  95,   27]],\n",
       "\n",
       "       [[1041,  115],\n",
       "        [ 194,   45]],\n",
       "\n",
       "       [[ 748,   78],\n",
       "        [ 469,  100]]])"
      ]
     },
     "execution_count": 71,
     "metadata": {},
     "output_type": "execute_result"
    }
   ],
   "source": [
    "#confusion matrix for label powerset\n",
    "conf_mat2=multilabel_confusion_matrix(y_test,predictions)\n",
    "conf_mat2"
   ]
  },
  {
   "cell_type": "code",
   "execution_count": 72,
   "id": "881ad191",
   "metadata": {},
   "outputs": [
    {
     "data": {
      "image/png": "[encoded data removed]",
      "text/plain": [
       "<Figure size 1080x504 with 10 Axes>"
      ]
     },
     "metadata": {
      "needs_background": "light"
     },
     "output_type": "display_data"
    }
   ],
   "source": [
    "#plotting heatmap of confusion matrix\n",
    "a = 2  # number of rows\n",
    "b = 3  # number of columns\n",
    "c = 1  # initialize plot counter\n",
    "fig = plt.figure(figsize=(15,7))\n",
    "for i in range(0,5): \n",
    "    plt.subplot(a, b, c)\n",
    "    plt.title('{}'.format(i+1),weight='bold')\n",
    "    sns.heatmap(conf_mat2[i],annot=True,cmap='plasma',fmt=\"0.2f\",linewidths=3,linecolor='black')\n",
    "    c = c + 1\n",
    "    plt.tight_layout()\n",
    "plt.show()"
   ]
  },
  {
   "cell_type": "markdown",
   "id": "9d52a086",
   "metadata": {},
   "source": [
    "# 2 ) Classifier chain with MultinomialNB classifier (ensemble)"
   ]
  },
  {
   "cell_type": "code",
   "execution_count": 73,
   "id": "efd0af61",
   "metadata": {},
   "outputs": [
    {
     "name": "stdout",
     "output_type": "stream",
     "text": [
      "Accuracy =  45.16129032258064\n",
      "Cross validation score= 42.97491039426524\n",
      "\n",
      "\n",
      "log loss= 7.9169626313907635\n",
      "hamming loss= 0.15240143369175627\n",
      "\n",
      "\n",
      "AUC ROC score= 0.5883752990910887\n",
      "f1 score= 0.5424020662935858\n",
      "average precision score= 0.6788793103448276\n",
      "\n",
      "\n",
      "coverage area= 3.193548387096774\n",
      "label ranking average precision score= 0.5612903225806516\n"
     ]
    }
   ],
   "source": [
    "#create and fit classifier\n",
    "from sklearn.naive_bayes import MultinomialNB\n",
    "from skmultilearn.problem_transform import ClassifierChain\n",
    "classifier3 = ClassifierChain(MultinomialNB())\n",
    "classifier3.fit(x_train, y_train)\n",
    "\n",
    "#predictions\n",
    "predictions = classifier3.predict(x_test)\n",
    "# accuracy\n",
    "acc_cc=accuracy_score(y_test,predictions)*100\n",
    "print(\"Accuracy = \",acc_cc)\n",
    "#cross validation score\n",
    "cv_cc=cross_val_score(classifier3,z,y,cv=3).mean()*100\n",
    "print(\"Cross validation score=\",cv_cc)\n",
    "print(\"\\n\")\n",
    "\n",
    "#log loss\n",
    "loss_cc=log_loss(y_test,predictions.toarray())\n",
    "print(\"log loss=\",loss_cc)\n",
    "#hamming loss\n",
    "hamm_loss_cc=hamming_loss(y_test,predictions)\n",
    "print(\"hamming loss=\",hamm_loss_cc)\n",
    "print(\"\\n\")\n",
    "\n",
    "#auc roc score\n",
    "auc_cc=roc_auc_score(y_test,predictions.toarray())\n",
    "print(\"AUC ROC score=\",auc_cc)\n",
    "#f1 score\n",
    "f1_cc=f1_score(y_test,predictions.toarray(),average='micro')\n",
    "print(\"f1 score=\",f1_cc)\n",
    "#precision score micro averaged\n",
    "pre_cc=precision_score(y_test,predictions.toarray(),average='micro')\n",
    "print(\"average precision score=\",pre_cc)\n",
    "print(\"\\n\")\n",
    "\n",
    "#coverage error\n",
    "ce_cc=coverage_error(y_test,predictions.toarray())\n",
    "print(\"coverage area=\",ce_cc)\n",
    "\n",
    "#label ranking \n",
    "lr_cc=label_ranking_average_precision_score(y_test,predictions.toarray())\n",
    "print(\"label ranking average precision score=\",lr_cc)"
   ]
  },
  {
   "cell_type": "code",
   "execution_count": 74,
   "id": "a5841cd0",
   "metadata": {},
   "outputs": [
    {
     "data": {
      "text/plain": [
       "array([[[ 986,   33],\n",
       "        [ 241,  135]],\n",
       "\n",
       "       [[1306,    0],\n",
       "        [  89,    0]],\n",
       "\n",
       "       [[1273,    0],\n",
       "        [ 122,    0]],\n",
       "\n",
       "       [[1154,    2],\n",
       "        [ 236,    3]],\n",
       "\n",
       "       [[ 563,  263],\n",
       "        [  77,  492]]])"
      ]
     },
     "execution_count": 74,
     "metadata": {},
     "output_type": "execute_result"
    }
   ],
   "source": [
    "#confusion matrix for classifier chain\n",
    "conf_mat3=multilabel_confusion_matrix(y_test,predictions)\n",
    "conf_mat3"
   ]
  },
  {
   "cell_type": "code",
   "execution_count": 75,
   "id": "b6a22b48",
   "metadata": {},
   "outputs": [
    {
     "data": {
      "image/png": "[encoded data removed]",
      "text/plain": [
       "<Figure size 1080x504 with 10 Axes>"
      ]
     },
     "metadata": {
      "needs_background": "light"
     },
     "output_type": "display_data"
    }
   ],
   "source": [
    "#plotting heatmap of confusion matrix\n",
    "a = 2  # number of rows\n",
    "b = 3  # number of columns\n",
    "c = 1  # initialize plot counter\n",
    "fig = plt.figure(figsize=(15,7))\n",
    "for i in range(0,5): \n",
    "    plt.subplot(a, b, c)\n",
    "    plt.title('{}'.format(i+1),weight='bold')\n",
    "    sns.heatmap(conf_mat3[i],annot=True,cmap='plasma',fmt=\"0.2f\",linewidths=3,linecolor='black')\n",
    "    c = c + 1\n",
    "    plt.tight_layout()\n",
    "plt.show()"
   ]
  },
  {
   "cell_type": "markdown",
   "id": "468e5578",
   "metadata": {},
   "source": [
    "# 3) Adapted Algorithm"
   ]
  },
  {
   "cell_type": "code",
   "execution_count": 76,
   "id": "23b0b8f1",
   "metadata": {},
   "outputs": [
    {
     "name": "stdout",
     "output_type": "stream",
     "text": [
      "Accuracy =  48.17204301075269\n",
      "Cross validation score= 44.6415770609319\n",
      "\n",
      "\n",
      "log loss= 11.810584949850517\n",
      "hamming loss= 0.1703225806451613\n",
      "\n",
      "\n",
      "AUC ROC score= 0.6091469641401446\n",
      "f1 score= 0.5308056872037915\n",
      "average precision score= 0.5910290237467019\n",
      "\n",
      "\n",
      "label ranking average precision score= 0.5853763440860277\n",
      "coverage area= 3.0731182795698926\n"
     ]
    }
   ],
   "source": [
    "from skmultilearn.adapt import MLkNN\n",
    "classifier4 = MLkNN(k=3)\n",
    "# train\n",
    "classifier4.fit(x_train, y_train.values)\n",
    "#predictions\n",
    "predictions = classifier4.predict(x_test)\n",
    "\n",
    "# accuracy\n",
    "acc_mlknn=accuracy_score(y_test,predictions)*100\n",
    "print(\"Accuracy = \",acc_mlknn)\n",
    "#cross validation score\n",
    "cv_mlknn=cross_val_score(classifier4,z,y.values,cv=3).mean()*100\n",
    "print(\"Cross validation score=\",cv_mlknn)\n",
    "print(\"\\n\")\n",
    "\n",
    "#log loss\n",
    "loss_mlknn=log_loss(y_test,predictions.toarray())\n",
    "print(\"log loss=\",loss_mlknn)\n",
    "#hamming loss\n",
    "hamm_loss_mlknn=hamming_loss(y_test,predictions)\n",
    "print(\"hamming loss=\",hamm_loss_mlknn)\n",
    "print(\"\\n\")\n",
    "\n",
    "#auc roc score\n",
    "auc_mlknn=roc_auc_score(y_test,predictions.toarray())\n",
    "print(\"AUC ROC score=\",auc_mlknn)\n",
    "#f1 score\n",
    "f1_mlknn=f1_score(y_test,predictions.toarray(),average='micro')\n",
    "print(\"f1 score=\",f1_mlknn)\n",
    "#precision score micro averaged\n",
    "pre_mlknn=precision_score(y_test,predictions.toarray(),average='micro')\n",
    "print(\"average precision score=\",pre_mlknn)\n",
    "print(\"\\n\")\n",
    "\n",
    "#label ranking \n",
    "lr_mlknn=label_ranking_average_precision_score(y_test,predictions.toarray())\n",
    "print(\"label ranking average precision score=\",lr_mlknn)\n",
    "#coverage error\n",
    "ce_mlknn=coverage_error(y_test,predictions.toarray())\n",
    "print(\"coverage area=\",ce_mlknn)"
   ]
  },
  {
   "cell_type": "code",
   "execution_count": 77,
   "id": "c79ca395",
   "metadata": {},
   "outputs": [
    {
     "data": {
      "text/plain": [
       "array([[[ 899,  120],\n",
       "        [ 131,  245]],\n",
       "\n",
       "       [[1290,   16],\n",
       "        [  86,    3]],\n",
       "\n",
       "       [[1235,   38],\n",
       "        [ 112,   10]],\n",
       "\n",
       "       [[1080,   76],\n",
       "        [ 205,   34]],\n",
       "\n",
       "       [[ 611,  215],\n",
       "        [ 189,  380]]])"
      ]
     },
     "execution_count": 77,
     "metadata": {},
     "output_type": "execute_result"
    }
   ],
   "source": [
    "#confusion matrix for mlknn\n",
    "conf_mat4=multilabel_confusion_matrix(y_test,predictions)\n",
    "conf_mat4"
   ]
  },
  {
   "cell_type": "code",
   "execution_count": 78,
   "id": "d71a1dbe",
   "metadata": {},
   "outputs": [
    {
     "data": {
      "image/png": "[encoded data removed]",
      "text/plain": [
       "<Figure size 1080x504 with 10 Axes>"
      ]
     },
     "metadata": {
      "needs_background": "light"
     },
     "output_type": "display_data"
    }
   ],
   "source": [
    "a = 2  # number of rows\n",
    "b = 3  # number of columns\n",
    "c = 1  # initialize plot counter\n",
    "fig = plt.figure(figsize=(15,7))\n",
    "for i in range(0,5): \n",
    "    plt.subplot(a, b, c)\n",
    "    plt.title('{}'.format(i+1),weight='bold')\n",
    "    sns.heatmap(conf_mat4[i],annot=True,cmap='plasma',fmt=\"0.2f\",linewidths=3,linecolor='black')\n",
    "    c = c + 1\n",
    "    plt.tight_layout()\n",
    "plt.show()\n",
    "  "
   ]
  },
  {
   "cell_type": "markdown",
   "id": "e9359e29",
   "metadata": {},
   "source": [
    "# Comparing all the models performance"
   ]
  },
  {
   "cell_type": "code",
   "execution_count": 79,
   "id": "6b92ee4d",
   "metadata": {},
   "outputs": [
    {
     "data": {
      "text/html": [
       "<div>\n",
       "<style scoped>\n",
       "    .dataframe tbody tr th:only-of-type {\n",
       "        vertical-align: middle;\n",
       "    }\n",
       "\n",
       "    .dataframe tbody tr th {\n",
       "        vertical-align: top;\n",
       "    }\n",
       "\n",
       "    .dataframe thead th {\n",
       "        text-align: right;\n",
       "    }\n",
       "</style>\n",
       "<table border=\"1\" class=\"dataframe\">\n",
       "  <thead>\n",
       "    <tr style=\"text-align: right;\">\n",
       "      <th></th>\n",
       "      <th>Model</th>\n",
       "      <th>Accuracy Score</th>\n",
       "      <th>Cross Validation score</th>\n",
       "      <th>Hamming Loss</th>\n",
       "      <th>Log Loss</th>\n",
       "      <th>Auc-Roc score</th>\n",
       "      <th>F1 Score</th>\n",
       "      <th>Precision</th>\n",
       "      <th>coverage error</th>\n",
       "      <th>Label ranking</th>\n",
       "    </tr>\n",
       "  </thead>\n",
       "  <tbody>\n",
       "    <tr>\n",
       "      <th>0</th>\n",
       "      <td>Adapted algorithm</td>\n",
       "      <td>48.172043</td>\n",
       "      <td>44.641577</td>\n",
       "      <td>0.170323</td>\n",
       "      <td>11.810585</td>\n",
       "      <td>0.609147</td>\n",
       "      <td>0.530806</td>\n",
       "      <td>0.591029</td>\n",
       "      <td>3.073118</td>\n",
       "      <td>0.585376</td>\n",
       "    </tr>\n",
       "    <tr>\n",
       "      <th>1</th>\n",
       "      <td>Classifier chain</td>\n",
       "      <td>45.161290</td>\n",
       "      <td>42.974910</td>\n",
       "      <td>0.152401</td>\n",
       "      <td>7.916963</td>\n",
       "      <td>0.588375</td>\n",
       "      <td>0.542402</td>\n",
       "      <td>0.678879</td>\n",
       "      <td>3.193548</td>\n",
       "      <td>0.561290</td>\n",
       "    </tr>\n",
       "    <tr>\n",
       "      <th>2</th>\n",
       "      <td>Label powerset</td>\n",
       "      <td>21.863799</td>\n",
       "      <td>20.179211</td>\n",
       "      <td>0.312545</td>\n",
       "      <td>26.987288</td>\n",
       "      <td>0.545778</td>\n",
       "      <td>0.218638</td>\n",
       "      <td>0.218638</td>\n",
       "      <td>4.125448</td>\n",
       "      <td>0.374910</td>\n",
       "    </tr>\n",
       "    <tr>\n",
       "      <th>3</th>\n",
       "      <td>Binary Relevance</td>\n",
       "      <td>10.250896</td>\n",
       "      <td>9.677419</td>\n",
       "      <td>0.533190</td>\n",
       "      <td>6.145245</td>\n",
       "      <td>0.549221</td>\n",
       "      <td>0.377365</td>\n",
       "      <td>0.246177</td>\n",
       "      <td>4.036559</td>\n",
       "      <td>0.325806</td>\n",
       "    </tr>\n",
       "  </tbody>\n",
       "</table>\n",
       "</div>"
      ],
      "text/plain": [
       "               Model  Accuracy Score  Cross Validation score  Hamming Loss  \\\n",
       "0  Adapted algorithm       48.172043               44.641577      0.170323   \n",
       "1   Classifier chain       45.161290               42.974910      0.152401   \n",
       "2     Label powerset       21.863799               20.179211      0.312545   \n",
       "3   Binary Relevance       10.250896                9.677419      0.533190   \n",
       "\n",
       "    Log Loss   Auc-Roc score  F1 Score  Precision  coverage error  \\\n",
       "0  11.810585        0.609147  0.530806   0.591029        3.073118   \n",
       "1   7.916963        0.588375  0.542402   0.678879        3.193548   \n",
       "2  26.987288        0.545778  0.218638   0.218638        4.125448   \n",
       "3   6.145245        0.549221  0.377365   0.246177        4.036559   \n",
       "\n",
       "   Label ranking  \n",
       "0       0.585376  \n",
       "1       0.561290  \n",
       "2       0.374910  \n",
       "3       0.325806  "
      ]
     },
     "execution_count": 79,
     "metadata": {},
     "output_type": "execute_result"
    }
   ],
   "source": [
    "#creating a comparision table for better understanding\n",
    "\n",
    "df_comparison_review=pd.DataFrame({\n",
    "    \"Model\":['Binary Relevance',\"Classifier chain\",\"Label powerset\",\"Adapted algorithm\"],\n",
    "    \"Accuracy Score\":[acc_br,acc_cc,acc_lps,acc_mlknn],\n",
    "    \"Cross Validation score\":[cv_br,cv_cc,cv_lps,cv_mlknn],\n",
    "    \"Hamming Loss\":[hamm_loss_br,hamm_loss_cc,hamm_loss_lps,hamm_loss_mlknn],\n",
    "    \"Log Loss\":[loss_br,loss_cc,loss_lps,loss_mlknn],\n",
    "    \" Auc-Roc score\":[auc_br,auc_cc,auc_lps,auc_mlknn],\n",
    "    \"F1 Score\":[f1_br,f1_cc,f1_lps,f1_mlknn],\n",
    "    \"Precision\":[pre_br,pre_cc,pre_lps,pre_mlknn],\n",
    "    \"coverage error\":[ce_br,ce_cc,ce_lps,ce_mlknn],\n",
    "    \"Label ranking\":[lr_br,lr_cc,lr_lps,lr_mlknn]})\n",
    "    \n",
    "\n",
    "df_comparison_review.sort_values(by=\"Accuracy Score\",ascending=False,ignore_index=True)"
   ]
  },
  {
   "cell_type": "markdown",
   "id": "a59249b0",
   "metadata": {},
   "source": [
    "#### Conclusion:\n",
    "* The hamming loss for Classifier Chain is the least among all.\n",
    "* The log loss is least for Binary Relevance.\n",
    "* The AUC ROC Score for Adapted Algorithm is maximum which is 0.56\n",
    "* The accuracy score of Adapted Algorithm is best out of 4 selected models."
   ]
  },
  {
   "cell_type": "markdown",
   "id": "60239b0a",
   "metadata": {},
   "source": [
    "# Comparison of Model performance for heading and review"
   ]
  },
  {
   "cell_type": "code",
   "execution_count": 80,
   "id": "c5db30b5",
   "metadata": {},
   "outputs": [
    {
     "data": {
      "text/html": [
       "<div>\n",
       "<style scoped>\n",
       "    .dataframe tbody tr th:only-of-type {\n",
       "        vertical-align: middle;\n",
       "    }\n",
       "\n",
       "    .dataframe tbody tr th {\n",
       "        vertical-align: top;\n",
       "    }\n",
       "\n",
       "    .dataframe thead th {\n",
       "        text-align: right;\n",
       "    }\n",
       "</style>\n",
       "<table border=\"1\" class=\"dataframe\">\n",
       "  <thead>\n",
       "    <tr style=\"text-align: right;\">\n",
       "      <th></th>\n",
       "      <th>Model</th>\n",
       "      <th>Accuracy Score</th>\n",
       "      <th>Cross Validation score</th>\n",
       "      <th>Hamming Loss</th>\n",
       "      <th>Log Loss</th>\n",
       "      <th>Auc-Roc score</th>\n",
       "      <th>F1 Score</th>\n",
       "      <th>Precision</th>\n",
       "      <th>coverage error</th>\n",
       "      <th>Label ranking</th>\n",
       "      <th>Data</th>\n",
       "    </tr>\n",
       "  </thead>\n",
       "  <tbody>\n",
       "    <tr>\n",
       "      <th>0</th>\n",
       "      <td>Binary Relevance</td>\n",
       "      <td>22.377622</td>\n",
       "      <td>17.749930</td>\n",
       "      <td>0.383217</td>\n",
       "      <td>11.053394</td>\n",
       "      <td>0.597394</td>\n",
       "      <td>0.412017</td>\n",
       "      <td>0.297214</td>\n",
       "      <td>3.482517</td>\n",
       "      <td>0.429487</td>\n",
       "      <td>Heading</td>\n",
       "    </tr>\n",
       "    <tr>\n",
       "      <th>1</th>\n",
       "      <td>Classifier chain</td>\n",
       "      <td>25.174825</td>\n",
       "      <td>24.783254</td>\n",
       "      <td>0.194406</td>\n",
       "      <td>8.573068</td>\n",
       "      <td>0.538831</td>\n",
       "      <td>0.341232</td>\n",
       "      <td>0.529412</td>\n",
       "      <td>3.993007</td>\n",
       "      <td>0.401399</td>\n",
       "      <td>Heading</td>\n",
       "    </tr>\n",
       "    <tr>\n",
       "      <th>2</th>\n",
       "      <td>Label powerset</td>\n",
       "      <td>34.265734</td>\n",
       "      <td>30.758377</td>\n",
       "      <td>0.262937</td>\n",
       "      <td>22.703811</td>\n",
       "      <td>0.596325</td>\n",
       "      <td>0.342657</td>\n",
       "      <td>0.342657</td>\n",
       "      <td>3.629371</td>\n",
       "      <td>0.474126</td>\n",
       "      <td>Heading</td>\n",
       "    </tr>\n",
       "    <tr>\n",
       "      <th>3</th>\n",
       "      <td>Adapted algorithm</td>\n",
       "      <td>34.965035</td>\n",
       "      <td>29.361366</td>\n",
       "      <td>0.226573</td>\n",
       "      <td>15.654756</td>\n",
       "      <td>0.607109</td>\n",
       "      <td>0.477419</td>\n",
       "      <td>0.443114</td>\n",
       "      <td>3.097902</td>\n",
       "      <td>0.530070</td>\n",
       "      <td>Heading</td>\n",
       "    </tr>\n",
       "    <tr>\n",
       "      <th>0</th>\n",
       "      <td>Binary Relevance</td>\n",
       "      <td>10.250896</td>\n",
       "      <td>9.677419</td>\n",
       "      <td>0.533190</td>\n",
       "      <td>6.145245</td>\n",
       "      <td>0.549221</td>\n",
       "      <td>0.377365</td>\n",
       "      <td>0.246177</td>\n",
       "      <td>4.036559</td>\n",
       "      <td>0.325806</td>\n",
       "      <td>Review</td>\n",
       "    </tr>\n",
       "    <tr>\n",
       "      <th>1</th>\n",
       "      <td>Classifier chain</td>\n",
       "      <td>45.161290</td>\n",
       "      <td>42.974910</td>\n",
       "      <td>0.152401</td>\n",
       "      <td>7.916963</td>\n",
       "      <td>0.588375</td>\n",
       "      <td>0.542402</td>\n",
       "      <td>0.678879</td>\n",
       "      <td>3.193548</td>\n",
       "      <td>0.561290</td>\n",
       "      <td>Review</td>\n",
       "    </tr>\n",
       "    <tr>\n",
       "      <th>2</th>\n",
       "      <td>Label powerset</td>\n",
       "      <td>21.863799</td>\n",
       "      <td>20.179211</td>\n",
       "      <td>0.312545</td>\n",
       "      <td>26.987288</td>\n",
       "      <td>0.545778</td>\n",
       "      <td>0.218638</td>\n",
       "      <td>0.218638</td>\n",
       "      <td>4.125448</td>\n",
       "      <td>0.374910</td>\n",
       "      <td>Review</td>\n",
       "    </tr>\n",
       "    <tr>\n",
       "      <th>3</th>\n",
       "      <td>Adapted algorithm</td>\n",
       "      <td>48.172043</td>\n",
       "      <td>44.641577</td>\n",
       "      <td>0.170323</td>\n",
       "      <td>11.810585</td>\n",
       "      <td>0.609147</td>\n",
       "      <td>0.530806</td>\n",
       "      <td>0.591029</td>\n",
       "      <td>3.073118</td>\n",
       "      <td>0.585376</td>\n",
       "      <td>Review</td>\n",
       "    </tr>\n",
       "  </tbody>\n",
       "</table>\n",
       "</div>"
      ],
      "text/plain": [
       "               Model  Accuracy Score  Cross Validation score  Hamming Loss  \\\n",
       "0   Binary Relevance       22.377622               17.749930      0.383217   \n",
       "1   Classifier chain       25.174825               24.783254      0.194406   \n",
       "2     Label powerset       34.265734               30.758377      0.262937   \n",
       "3  Adapted algorithm       34.965035               29.361366      0.226573   \n",
       "0   Binary Relevance       10.250896                9.677419      0.533190   \n",
       "1   Classifier chain       45.161290               42.974910      0.152401   \n",
       "2     Label powerset       21.863799               20.179211      0.312545   \n",
       "3  Adapted algorithm       48.172043               44.641577      0.170323   \n",
       "\n",
       "    Log Loss   Auc-Roc score  F1 Score  Precision  coverage error  \\\n",
       "0  11.053394        0.597394  0.412017   0.297214        3.482517   \n",
       "1   8.573068        0.538831  0.341232   0.529412        3.993007   \n",
       "2  22.703811        0.596325  0.342657   0.342657        3.629371   \n",
       "3  15.654756        0.607109  0.477419   0.443114        3.097902   \n",
       "0   6.145245        0.549221  0.377365   0.246177        4.036559   \n",
       "1   7.916963        0.588375  0.542402   0.678879        3.193548   \n",
       "2  26.987288        0.545778  0.218638   0.218638        4.125448   \n",
       "3  11.810585        0.609147  0.530806   0.591029        3.073118   \n",
       "\n",
       "   Label ranking     Data  \n",
       "0       0.429487  Heading  \n",
       "1       0.401399  Heading  \n",
       "2       0.474126  Heading  \n",
       "3       0.530070  Heading  \n",
       "0       0.325806   Review  \n",
       "1       0.561290   Review  \n",
       "2       0.374910   Review  \n",
       "3       0.585376   Review  "
      ]
     },
     "execution_count": 80,
     "metadata": {},
     "output_type": "execute_result"
    }
   ],
   "source": [
    "df_comparison_heading['Data']='Heading'\n",
    "df_comparison_review['Data']='Review'\n",
    "df_merged=pd.concat([df_comparison_heading,df_comparison_review])\n",
    "df_merged"
   ]
  },
  {
   "cell_type": "markdown",
   "id": "921dce05",
   "metadata": {},
   "source": [
    "#### Conclusion:\n",
    "* The hamming loss by Classifier Chain is the least both for heading of reviews and reviews.\n",
    "* The log loss is least by Clasifier Chain for heading of reviews and Binary Relevance for reviews. \n",
    "* The AUC ROC score by Adapted Algorithm is the best both for heading of reviews and reviews.\n",
    "* The Accuracy score by Adapted Algorithm is the best both for heading of reviews and reviews."
   ]
  },
  {
   "cell_type": "markdown",
   "id": "861672ad",
   "metadata": {},
   "source": [
    "# Saving Best Model"
   ]
  },
  {
   "cell_type": "markdown",
   "id": "f804da56",
   "metadata": {},
   "source": [
    "# saving classifier chain as our best model\n",
    "import pickle\n",
    "filename=\"Review_Classification_Laptop_Model.pkl\"\n",
    "pickle.dump(classifier3,open(filename,'wb'))"
   ]
  },
  {
   "cell_type": "code",
   "execution_count": null,
   "id": "53dc22e4",
   "metadata": {},
   "outputs": [],
   "source": []
  }
 ],
 "metadata": {
  "kernelspec": {
   "display_name": "Python 3",
   "language": "python",
   "name": "python3"
  },
  "language_info": {
   "codemirror_mode": {
    "name": "ipython",
    "version": 3
   },
   "file_extension": ".py",
   "mimetype": "text/x-python",
   "name": "python",
   "nbconvert_exporter": "python",
   "pygments_lexer": "ipython3",
   "version": "3.8.8"
  }
 },
 "nbformat": 4,
 "nbformat_minor": 5
}
