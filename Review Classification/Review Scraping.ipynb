{
 "cells": [
  {
   "cell_type": "code",
   "execution_count": 11,
   "id": "28eff649",
   "metadata": {},
   "outputs": [],
   "source": [
    "import pandas as pd\n",
    "import seaborn as sns\n",
    "import selenium\n",
    "from selenium import webdriver\n",
    "import time\n",
    "import warnings\n",
    "warnings.filterwarnings('ignore')\n",
    "driver = webdriver.Chrome('/Users/ashish/Desktop/Python/Flip Robo/Review Rating/chromedriver')"
   ]
  },
  {
   "cell_type": "code",
   "execution_count": 25,
   "id": "2317d359",
   "metadata": {},
   "outputs": [],
   "source": [
    "driver.get('https://www.amazon.in')"
   ]
  },
  {
   "cell_type": "code",
   "execution_count": 20,
   "id": "90801cbf",
   "metadata": {},
   "outputs": [
    {
     "name": "stdout",
     "output_type": "stream",
     "text": [
      "Enter the Product to be searched: Laptop\n"
     ]
    }
   ],
   "source": [
    "#Enter the product to be searched\n",
    "product=input('Enter the Product to be searched: ')"
   ]
  },
  {
   "cell_type": "code",
   "execution_count": 35,
   "id": "6470d269",
   "metadata": {},
   "outputs": [],
   "source": [
    "search_bar = driver.find_element_by_id(\"twotabsearchtextbox\")    # Locating searc_bar by id\n",
    "\n",
    "search_bar.clear()                                               # clearing search_bar\n",
    "\n",
    "search_bar.send_keys(product)                                   # sending user input to search bar\n",
    "\n",
    "search_button = driver.find_element_by_xpath('//span[@id=\"nav-search-submit-text\"]')       # Locating search_button by xpath\n",
    "\n",
    "search_button.click()   "
   ]
  },
  {
   "cell_type": "code",
   "execution_count": 27,
   "id": "7b040689",
   "metadata": {},
   "outputs": [],
   "source": [
    "from selenium.common.exceptions import NoSuchElementException"
   ]
  },
  {
   "cell_type": "code",
   "execution_count": 36,
   "id": "332b626d",
   "metadata": {},
   "outputs": [],
   "source": [
    "product_link=driver.find_elements_by_xpath('//a[@class=\"a-link-normal a-text-normal\"]')\n",
    "product_url=[]\n",
    "\n",
    "for i in product_link:\n",
    "    product_url.append(i.get_attribute('href'))\n",
    "    \n",
    "for i in range(0,50):\n",
    "    for _ in range(0,100):\n",
    "        driver.execute_script(\"window.scrollBy(0,20)\")\n",
    "        \n",
    "    try:\n",
    "        next_button=driver.find_element_by_xpath('//li[@class=\"a-last\"]')\n",
    "        next_button.click()\n",
    "        \n",
    "    except NoSuchElementException:\n",
    "        pass\n",
    "    \n",
    "    for _ in range(0,100):\n",
    "        driver.execute_script(\"window.scrollBy(0,20)\")\n",
    "    \n",
    "    new_product_link=driver.find_elements_by_xpath('//a[@class=\"a-link-normal a-text-normal\"]')\n",
    "    \n",
    "    for i in new_product_link:\n",
    "        product_url.append(i.get_attribute('href')) "
   ]
  },
  {
   "cell_type": "code",
   "execution_count": 37,
   "id": "31389546",
   "metadata": {},
   "outputs": [
    {
     "data": {
      "text/plain": [
       "620"
      ]
     },
     "execution_count": 37,
     "metadata": {},
     "output_type": "execute_result"
    }
   ],
   "source": [
    "len(product_url)"
   ]
  },
  {
   "cell_type": "code",
   "execution_count": 80,
   "id": "4a3ac90c",
   "metadata": {},
   "outputs": [],
   "source": [
    "for path in product_url[1:2]:\n",
    "    driver.get(path)\n",
    "    \n",
    "    time.sleep(2)\n",
    "    \n",
    "    for _ in range(500):\n",
    "            driver.execute_script(\"window.scrollBy(0,20)\")\n",
    "            \n",
    "    all_review_ele = driver.find_element_by_xpath('//a[@class=\"a-link-emphasis a-text-bold\"]')\n",
    "    all_review_ele.click()\n",
    "    \n",
    "    \n",
    "    try:\n",
    "        next_button=driver.find_element_by_xpath('//li[@class=\"a-last\"]')\n",
    "        next_button.click()\n",
    "        \n",
    "    except NoSuchElementException:\n",
    "        pass"
   ]
  },
  {
   "cell_type": "code",
   "execution_count": 81,
   "id": "2af093ef",
   "metadata": {},
   "outputs": [],
   "source": [
    "rating_ele = driver.find_elements_by_xpath('//a[@data-hook=\"review-title\"]')\n",
    "rating_link=[]\n",
    "for r in rating_ele:\n",
    "    rating_link.append(r.get_attribute('href'))"
   ]
  },
  {
   "cell_type": "code",
   "execution_count": 83,
   "id": "0c216029",
   "metadata": {},
   "outputs": [],
   "source": [
    "rating_star=driver.find_elements_by_xpath('//i[@data-hook=\"review-star-rating\"]//span')"
   ]
  },
  {
   "cell_type": "code",
   "execution_count": 85,
   "id": "1abeaacf",
   "metadata": {},
   "outputs": [
    {
     "data": {
      "text/plain": [
       "''"
      ]
     },
     "execution_count": 85,
     "metadata": {},
     "output_type": "execute_result"
    }
   ],
   "source": [
    "rating_star[0].text"
   ]
  },
  {
   "cell_type": "code",
   "execution_count": 82,
   "id": "f7c9ca30",
   "metadata": {},
   "outputs": [
    {
     "data": {
      "text/plain": [
       "'Lightweight, professional, sauve'"
      ]
     },
     "execution_count": 82,
     "metadata": {},
     "output_type": "execute_result"
    }
   ],
   "source": [
    "rating_ele[0].text"
   ]
  },
  {
   "cell_type": "code",
   "execution_count": 67,
   "id": "18f5abaf",
   "metadata": {},
   "outputs": [],
   "source": [
    "driver.get(rating_link[0])"
   ]
  },
  {
   "cell_type": "code",
   "execution_count": 78,
   "id": "8a8cc4a0",
   "metadata": {},
   "outputs": [
    {
     "name": "stdout",
     "output_type": "stream",
     "text": [
      "\n"
     ]
    }
   ],
   "source": [
    "rating = driver.find_elements_by_xpath('//*[@id=\"customer_review-R1E9NAUDRDOEP\"]/div[2]/a[1]/i/span')\n",
    "for r in rating:\n",
    "    print(r.text)"
   ]
  },
  {
   "cell_type": "code",
   "execution_count": null,
   "id": "48ff4814",
   "metadata": {},
   "outputs": [],
   "source": []
  }
 ],
 "metadata": {
  "kernelspec": {
   "display_name": "Python 3",
   "language": "python",
   "name": "python3"
  },
  "language_info": {
   "codemirror_mode": {
    "name": "ipython",
    "version": 3
   },
   "file_extension": ".py",
   "mimetype": "text/x-python",
   "name": "python",
   "nbconvert_exporter": "python",
   "pygments_lexer": "ipython3",
   "version": "3.8.8"
  }
 },
 "nbformat": 4,
 "nbformat_minor": 5
}
