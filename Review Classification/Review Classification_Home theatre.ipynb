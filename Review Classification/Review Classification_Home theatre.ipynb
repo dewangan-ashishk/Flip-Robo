{
 "cells": [
  {
   "cell_type": "markdown",
   "id": "f94d6d75",
   "metadata": {},
   "source": [
    "# Review Classification - Home theatre"
   ]
  },
  {
   "cell_type": "code",
   "execution_count": 1,
   "id": "dd2790c9",
   "metadata": {},
   "outputs": [
    {
     "data": {
      "text/html": [
       "<div>\n",
       "<style scoped>\n",
       "    .dataframe tbody tr th:only-of-type {\n",
       "        vertical-align: middle;\n",
       "    }\n",
       "\n",
       "    .dataframe tbody tr th {\n",
       "        vertical-align: top;\n",
       "    }\n",
       "\n",
       "    .dataframe thead th {\n",
       "        text-align: right;\n",
       "    }\n",
       "</style>\n",
       "<table border=\"1\" class=\"dataframe\">\n",
       "  <thead>\n",
       "    <tr style=\"text-align: right;\">\n",
       "      <th></th>\n",
       "      <th>Unnamed: 0</th>\n",
       "      <th>Rating</th>\n",
       "      <th>Heading</th>\n",
       "      <th>Review</th>\n",
       "      <th>Product</th>\n",
       "    </tr>\n",
       "  </thead>\n",
       "  <tbody>\n",
       "    <tr>\n",
       "      <th>0</th>\n",
       "      <td>0</td>\n",
       "      <td>5.0</td>\n",
       "      <td>Brilliant</td>\n",
       "      <td>in love with this little beast..sound is cryst...</td>\n",
       "      <td>Home theatre</td>\n",
       "    </tr>\n",
       "    <tr>\n",
       "      <th>1</th>\n",
       "      <td>1</td>\n",
       "      <td>5.0</td>\n",
       "      <td>Simply awesome</td>\n",
       "      <td>I am very happy with Boat Partypal 60, 20 watt...</td>\n",
       "      <td>Home theatre</td>\n",
       "    </tr>\n",
       "    <tr>\n",
       "      <th>2</th>\n",
       "      <td>2</td>\n",
       "      <td>5.0</td>\n",
       "      <td>Wonderful</td>\n",
       "      <td>Its sound quality was good but to heavy it is ...</td>\n",
       "      <td>Home theatre</td>\n",
       "    </tr>\n",
       "    <tr>\n",
       "      <th>3</th>\n",
       "      <td>3</td>\n",
       "      <td>NaN</td>\n",
       "      <td>NaN</td>\n",
       "      <td>NaN</td>\n",
       "      <td>Home theatre</td>\n",
       "    </tr>\n",
       "    <tr>\n",
       "      <th>4</th>\n",
       "      <td>4</td>\n",
       "      <td>NaN</td>\n",
       "      <td>NaN</td>\n",
       "      <td>NaN</td>\n",
       "      <td>Home theatre</td>\n",
       "    </tr>\n",
       "  </tbody>\n",
       "</table>\n",
       "</div>"
      ],
      "text/plain": [
       "   Unnamed: 0  Rating         Heading  \\\n",
       "0           0     5.0       Brilliant   \n",
       "1           1     5.0  Simply awesome   \n",
       "2           2     5.0       Wonderful   \n",
       "3           3     NaN             NaN   \n",
       "4           4     NaN             NaN   \n",
       "\n",
       "                                              Review       Product  \n",
       "0  in love with this little beast..sound is cryst...  Home theatre  \n",
       "1  I am very happy with Boat Partypal 60, 20 watt...  Home theatre  \n",
       "2  Its sound quality was good but to heavy it is ...  Home theatre  \n",
       "3                                                NaN  Home theatre  \n",
       "4                                                NaN  Home theatre  "
      ]
     },
     "execution_count": 1,
     "metadata": {},
     "output_type": "execute_result"
    }
   ],
   "source": [
    "#import the dataset\n",
    "import pandas as pd\n",
    "import numpy as np\n",
    "\n",
    "import warnings\n",
    "warnings.filterwarnings('ignore')\n",
    "pd.set_option('Display.max_columns',None)\n",
    "pd.set_option('Display.max_rows',None)\n",
    "\n",
    "df=pd.read_csv(\"Home theatre Rating.csv\")\n",
    "df.head()"
   ]
  },
  {
   "cell_type": "markdown",
   "id": "88314aee",
   "metadata": {},
   "source": [
    "#### Observations:\n",
    "* The feature unnamed is index. Hence we can drop this feature."
   ]
  },
  {
   "cell_type": "code",
   "execution_count": 2,
   "id": "69662b3e",
   "metadata": {},
   "outputs": [
    {
     "data": {
      "text/html": [
       "<div>\n",
       "<style scoped>\n",
       "    .dataframe tbody tr th:only-of-type {\n",
       "        vertical-align: middle;\n",
       "    }\n",
       "\n",
       "    .dataframe tbody tr th {\n",
       "        vertical-align: top;\n",
       "    }\n",
       "\n",
       "    .dataframe thead th {\n",
       "        text-align: right;\n",
       "    }\n",
       "</style>\n",
       "<table border=\"1\" class=\"dataframe\">\n",
       "  <thead>\n",
       "    <tr style=\"text-align: right;\">\n",
       "      <th></th>\n",
       "      <th>Rating</th>\n",
       "      <th>Heading</th>\n",
       "      <th>Review</th>\n",
       "      <th>Product</th>\n",
       "    </tr>\n",
       "  </thead>\n",
       "  <tbody>\n",
       "    <tr>\n",
       "      <th>0</th>\n",
       "      <td>5.0</td>\n",
       "      <td>Brilliant</td>\n",
       "      <td>in love with this little beast..sound is cryst...</td>\n",
       "      <td>Home theatre</td>\n",
       "    </tr>\n",
       "    <tr>\n",
       "      <th>1</th>\n",
       "      <td>5.0</td>\n",
       "      <td>Simply awesome</td>\n",
       "      <td>I am very happy with Boat Partypal 60, 20 watt...</td>\n",
       "      <td>Home theatre</td>\n",
       "    </tr>\n",
       "    <tr>\n",
       "      <th>2</th>\n",
       "      <td>5.0</td>\n",
       "      <td>Wonderful</td>\n",
       "      <td>Its sound quality was good but to heavy it is ...</td>\n",
       "      <td>Home theatre</td>\n",
       "    </tr>\n",
       "    <tr>\n",
       "      <th>3</th>\n",
       "      <td>NaN</td>\n",
       "      <td>NaN</td>\n",
       "      <td>NaN</td>\n",
       "      <td>Home theatre</td>\n",
       "    </tr>\n",
       "    <tr>\n",
       "      <th>4</th>\n",
       "      <td>NaN</td>\n",
       "      <td>NaN</td>\n",
       "      <td>NaN</td>\n",
       "      <td>Home theatre</td>\n",
       "    </tr>\n",
       "  </tbody>\n",
       "</table>\n",
       "</div>"
      ],
      "text/plain": [
       "   Rating         Heading                                             Review  \\\n",
       "0     5.0       Brilliant  in love with this little beast..sound is cryst...   \n",
       "1     5.0  Simply awesome  I am very happy with Boat Partypal 60, 20 watt...   \n",
       "2     5.0       Wonderful  Its sound quality was good but to heavy it is ...   \n",
       "3     NaN             NaN                                                NaN   \n",
       "4     NaN             NaN                                                NaN   \n",
       "\n",
       "        Product  \n",
       "0  Home theatre  \n",
       "1  Home theatre  \n",
       "2  Home theatre  \n",
       "3  Home theatre  \n",
       "4  Home theatre  "
      ]
     },
     "execution_count": 2,
     "metadata": {},
     "output_type": "execute_result"
    }
   ],
   "source": [
    "df.drop(['Unnamed: 0'], axis=1, inplace=True)\n",
    "df.head()"
   ]
  },
  {
   "cell_type": "markdown",
   "id": "6a3d6c3d",
   "metadata": {},
   "source": [
    "# Exploratory Data Analysis"
   ]
  },
  {
   "cell_type": "code",
   "execution_count": 3,
   "id": "5c7a129f",
   "metadata": {},
   "outputs": [
    {
     "data": {
      "text/plain": [
       "(13310, 4)"
      ]
     },
     "execution_count": 3,
     "metadata": {},
     "output_type": "execute_result"
    }
   ],
   "source": [
    "#check the dimensions of the data (Headphone)\n",
    "df.shape"
   ]
  },
  {
   "cell_type": "markdown",
   "id": "46f35542",
   "metadata": {},
   "source": [
    "#### Observations\n",
    "* The dataset has 13310 rows and 4 columns\n",
    "* The dataset has 1 label - 'Rating' and 3 features"
   ]
  },
  {
   "cell_type": "code",
   "execution_count": 4,
   "id": "a3f16b00",
   "metadata": {},
   "outputs": [
    {
     "data": {
      "text/plain": [
       "Index(['Rating', 'Heading', 'Review', 'Product'], dtype='object')"
      ]
     },
     "execution_count": 4,
     "metadata": {},
     "output_type": "execute_result"
    }
   ],
   "source": [
    "#check the names of columns in dataset\n",
    "df.columns"
   ]
  },
  {
   "cell_type": "code",
   "execution_count": 5,
   "id": "357da756",
   "metadata": {},
   "outputs": [
    {
     "data": {
      "text/plain": [
       "Rating     float64\n",
       "Heading     object\n",
       "Review      object\n",
       "Product     object\n",
       "dtype: object"
      ]
     },
     "execution_count": 5,
     "metadata": {},
     "output_type": "execute_result"
    }
   ],
   "source": [
    "#check the datatype of each feature\n",
    "df.dtypes"
   ]
  },
  {
   "cell_type": "markdown",
   "id": "e6a143e0",
   "metadata": {},
   "source": [
    "#### Observations:\n",
    "   * All the feratures are of \"object\" data type."
   ]
  },
  {
   "cell_type": "code",
   "execution_count": 6,
   "id": "e5f4f895",
   "metadata": {},
   "outputs": [
    {
     "data": {
      "text/plain": [
       "Rating     306\n",
       "Heading    299\n",
       "Review     299\n",
       "Product      0\n",
       "dtype: int64"
      ]
     },
     "execution_count": 6,
     "metadata": {},
     "output_type": "execute_result"
    }
   ],
   "source": [
    "#checking if there are any null values in the dataset\n",
    "df.isna().sum()"
   ]
  },
  {
   "cell_type": "code",
   "execution_count": 7,
   "id": "83ef6c46",
   "metadata": {},
   "outputs": [],
   "source": [
    "#dropping all numm values\n",
    "df.dropna(inplace=True)"
   ]
  },
  {
   "cell_type": "code",
   "execution_count": 8,
   "id": "9f9c341a",
   "metadata": {},
   "outputs": [
    {
     "data": {
      "text/plain": [
       "Rating     0\n",
       "Heading    0\n",
       "Review     0\n",
       "Product    0\n",
       "dtype: int64"
      ]
     },
     "execution_count": 8,
     "metadata": {},
     "output_type": "execute_result"
    }
   ],
   "source": [
    "#cross checking null values\n",
    "df.isna().sum()"
   ]
  },
  {
   "cell_type": "code",
   "execution_count": 9,
   "id": "1a0ef9f5",
   "metadata": {},
   "outputs": [
    {
     "data": {
      "text/plain": [
       "(13004, 4)"
      ]
     },
     "execution_count": 9,
     "metadata": {},
     "output_type": "execute_result"
    }
   ],
   "source": [
    "df.shape"
   ]
  },
  {
   "cell_type": "markdown",
   "id": "bf3fa3b4",
   "metadata": {},
   "source": [
    "#### Observations:\n",
    "* There are 13004 rows in the dataset"
   ]
  },
  {
   "cell_type": "code",
   "execution_count": 10,
   "id": "7ff52a48",
   "metadata": {},
   "outputs": [
    {
     "data": {
      "text/plain": [
       "5.0    7117\n",
       "4.0    2625\n",
       "1.0    1652\n",
       "3.0    1114\n",
       "2.0     496\n",
       "Name: Rating, dtype: int64"
      ]
     },
     "execution_count": 10,
     "metadata": {},
     "output_type": "execute_result"
    }
   ],
   "source": [
    "df['Rating'].value_counts()"
   ]
  },
  {
   "cell_type": "markdown",
   "id": "dceebfc1",
   "metadata": {},
   "source": [
    "#### Observations:\n",
    "* The ratings are inbalanced. \n",
    "* Most of the ratings are 5 star."
   ]
  },
  {
   "cell_type": "code",
   "execution_count": 11,
   "id": "3495e55f",
   "metadata": {},
   "outputs": [
    {
     "data": {
      "text/plain": [
       "Rating        5\n",
       "Heading     138\n",
       "Review     7832\n",
       "Product       1\n",
       "dtype: int64"
      ]
     },
     "execution_count": 11,
     "metadata": {},
     "output_type": "execute_result"
    }
   ],
   "source": [
    "#check number of unique values in each class;\n",
    "df.nunique()"
   ]
  },
  {
   "cell_type": "markdown",
   "id": "464a9a15",
   "metadata": {},
   "source": [
    "#### Observations:\n",
    "* The label rating has 5 unique values: 1, 2, 3, 4, 5\n",
    "* The headings can be duplicate as it is kind of summary of the review.\n",
    "* The reviews should be unique. Hence, we will drop the duplicate reviews to avoid over-fitting."
   ]
  },
  {
   "cell_type": "code",
   "execution_count": 12,
   "id": "44ab814b",
   "metadata": {},
   "outputs": [],
   "source": [
    "df.drop_duplicates(subset='Review', inplace=True)"
   ]
  },
  {
   "cell_type": "code",
   "execution_count": 13,
   "id": "b40a4a31",
   "metadata": {},
   "outputs": [
    {
     "name": "stdout",
     "output_type": "stream",
     "text": [
      "(7832, 4)\n",
      "Rating        5\n",
      "Heading     134\n",
      "Review     7832\n",
      "Product       1\n",
      "dtype: int64\n"
     ]
    }
   ],
   "source": [
    "#cross checking for diplicacy of reviews\n",
    "print(df.shape)\n",
    "print(df.nunique())"
   ]
  },
  {
   "cell_type": "markdown",
   "id": "0bbbfa7b",
   "metadata": {},
   "source": [
    "#### Observations:\n",
    "* We have 7832 unique reviews for laptops\n",
    "* There are only 134 unique headings in the data set.\n",
    "* If the classification is to be done based on the heading, then only unique headings must be considered.\n",
    "* In the model building stage we will classfiy from unique headings as well."
   ]
  },
  {
   "cell_type": "code",
   "execution_count": 14,
   "id": "29f4e94c",
   "metadata": {},
   "outputs": [
    {
     "data": {
      "text/html": [
       "<div>\n",
       "<style scoped>\n",
       "    .dataframe tbody tr th:only-of-type {\n",
       "        vertical-align: middle;\n",
       "    }\n",
       "\n",
       "    .dataframe tbody tr th {\n",
       "        vertical-align: top;\n",
       "    }\n",
       "\n",
       "    .dataframe thead th {\n",
       "        text-align: right;\n",
       "    }\n",
       "</style>\n",
       "<table border=\"1\" class=\"dataframe\">\n",
       "  <thead>\n",
       "    <tr style=\"text-align: right;\">\n",
       "      <th></th>\n",
       "      <th>Rating</th>\n",
       "      <th>Heading</th>\n",
       "      <th>Review</th>\n",
       "      <th>Product</th>\n",
       "      <th>Review_word_counter</th>\n",
       "    </tr>\n",
       "  </thead>\n",
       "  <tbody>\n",
       "    <tr>\n",
       "      <th>0</th>\n",
       "      <td>5.0</td>\n",
       "      <td>Brilliant</td>\n",
       "      <td>in love with this little beast..sound is cryst...</td>\n",
       "      <td>Home theatre</td>\n",
       "      <td>510</td>\n",
       "    </tr>\n",
       "    <tr>\n",
       "      <th>1</th>\n",
       "      <td>5.0</td>\n",
       "      <td>Simply awesome</td>\n",
       "      <td>I am very happy with Boat Partypal 60, 20 watt...</td>\n",
       "      <td>Home theatre</td>\n",
       "      <td>510</td>\n",
       "    </tr>\n",
       "    <tr>\n",
       "      <th>2</th>\n",
       "      <td>5.0</td>\n",
       "      <td>Wonderful</td>\n",
       "      <td>Its sound quality was good but to heavy it is ...</td>\n",
       "      <td>Home theatre</td>\n",
       "      <td>190</td>\n",
       "    </tr>\n",
       "    <tr>\n",
       "      <th>13</th>\n",
       "      <td>4.0</td>\n",
       "      <td>Delightful</td>\n",
       "      <td>ordered it after doing extensive research. mor...</td>\n",
       "      <td>Home theatre</td>\n",
       "      <td>508</td>\n",
       "    </tr>\n",
       "    <tr>\n",
       "      <th>14</th>\n",
       "      <td>5.0</td>\n",
       "      <td>Wonderful</td>\n",
       "      <td>Superb excellent should buy worth for this pri...</td>\n",
       "      <td>Home theatre</td>\n",
       "      <td>134</td>\n",
       "    </tr>\n",
       "  </tbody>\n",
       "</table>\n",
       "</div>"
      ],
      "text/plain": [
       "    Rating         Heading                                             Review  \\\n",
       "0      5.0       Brilliant  in love with this little beast..sound is cryst...   \n",
       "1      5.0  Simply awesome  I am very happy with Boat Partypal 60, 20 watt...   \n",
       "2      5.0       Wonderful  Its sound quality was good but to heavy it is ...   \n",
       "13     4.0      Delightful  ordered it after doing extensive research. mor...   \n",
       "14     5.0       Wonderful  Superb excellent should buy worth for this pri...   \n",
       "\n",
       "         Product  Review_word_counter  \n",
       "0   Home theatre                  510  \n",
       "1   Home theatre                  510  \n",
       "2   Home theatre                  190  \n",
       "13  Home theatre                  508  \n",
       "14  Home theatre                  134  "
      ]
     },
     "execution_count": 14,
     "metadata": {},
     "output_type": "execute_result"
    }
   ],
   "source": [
    "#checking the length of review\n",
    "df['Review_word_counter']=df['Review'].str.strip().str.len()\n",
    "df.head()"
   ]
  },
  {
   "cell_type": "code",
   "execution_count": 15,
   "id": "14bd408a",
   "metadata": {},
   "outputs": [],
   "source": [
    "from sklearn.utils import shuffle\n",
    "df=shuffle(df)\n",
    "df.reset_index(inplace=True,drop=True)"
   ]
  },
  {
   "cell_type": "code",
   "execution_count": 16,
   "id": "f973560f",
   "metadata": {},
   "outputs": [
    {
     "data": {
      "text/html": [
       "<div>\n",
       "<style scoped>\n",
       "    .dataframe tbody tr th:only-of-type {\n",
       "        vertical-align: middle;\n",
       "    }\n",
       "\n",
       "    .dataframe tbody tr th {\n",
       "        vertical-align: top;\n",
       "    }\n",
       "\n",
       "    .dataframe thead th {\n",
       "        text-align: right;\n",
       "    }\n",
       "</style>\n",
       "<table border=\"1\" class=\"dataframe\">\n",
       "  <thead>\n",
       "    <tr style=\"text-align: right;\">\n",
       "      <th></th>\n",
       "      <th>Rating</th>\n",
       "      <th>Heading</th>\n",
       "      <th>Review</th>\n",
       "      <th>Product</th>\n",
       "      <th>Review_word_counter</th>\n",
       "    </tr>\n",
       "  </thead>\n",
       "  <tbody>\n",
       "    <tr>\n",
       "      <th>0</th>\n",
       "      <td>5.0</td>\n",
       "      <td>Worth every penny</td>\n",
       "      <td>Dear team members\\n\\n\\nIn music playing speake...</td>\n",
       "      <td>Home theatre</td>\n",
       "      <td>195</td>\n",
       "    </tr>\n",
       "    <tr>\n",
       "      <th>1</th>\n",
       "      <td>5.0</td>\n",
       "      <td>Perfect product!</td>\n",
       "      <td>Awesome product.. amazing sound. Love it</td>\n",
       "      <td>Home theatre</td>\n",
       "      <td>40</td>\n",
       "    </tr>\n",
       "    <tr>\n",
       "      <th>2</th>\n",
       "      <td>5.0</td>\n",
       "      <td>Worth every penny</td>\n",
       "      <td>Bluetooth home theatre\\nVery good product</td>\n",
       "      <td>Home theatre</td>\n",
       "      <td>40</td>\n",
       "    </tr>\n",
       "    <tr>\n",
       "      <th>3</th>\n",
       "      <td>5.0</td>\n",
       "      <td>Terrific</td>\n",
       "      <td>Best bass</td>\n",
       "      <td>Home theatre</td>\n",
       "      <td>9</td>\n",
       "    </tr>\n",
       "    <tr>\n",
       "      <th>4</th>\n",
       "      <td>5.0</td>\n",
       "      <td>Excellent</td>\n",
       "      <td>My best home theater👌👌👌👌👌</td>\n",
       "      <td>Home theatre</td>\n",
       "      <td>25</td>\n",
       "    </tr>\n",
       "  </tbody>\n",
       "</table>\n",
       "</div>"
      ],
      "text/plain": [
       "   Rating            Heading  \\\n",
       "0     5.0  Worth every penny   \n",
       "1     5.0   Perfect product!   \n",
       "2     5.0  Worth every penny   \n",
       "3     5.0           Terrific   \n",
       "4     5.0          Excellent   \n",
       "\n",
       "                                              Review       Product  \\\n",
       "0  Dear team members\\n\\n\\nIn music playing speake...  Home theatre   \n",
       "1           Awesome product.. amazing sound. Love it  Home theatre   \n",
       "2          Bluetooth home theatre\\nVery good product  Home theatre   \n",
       "3                                          Best bass  Home theatre   \n",
       "4                          My best home theater👌👌👌👌👌  Home theatre   \n",
       "\n",
       "   Review_word_counter  \n",
       "0                  195  \n",
       "1                   40  \n",
       "2                   40  \n",
       "3                    9  \n",
       "4                   25  "
      ]
     },
     "execution_count": 16,
     "metadata": {},
     "output_type": "execute_result"
    }
   ],
   "source": [
    "df.head()"
   ]
  },
  {
   "cell_type": "markdown",
   "id": "4682a746",
   "metadata": {},
   "source": [
    "### Exploratory Data Analysis"
   ]
  },
  {
   "cell_type": "code",
   "execution_count": 17,
   "id": "0ab29561",
   "metadata": {},
   "outputs": [
    {
     "data": {
      "text/plain": [
       "(7832, 5)"
      ]
     },
     "execution_count": 17,
     "metadata": {},
     "output_type": "execute_result"
    }
   ],
   "source": [
    "#check the dimensions of the data\n",
    "df.shape"
   ]
  },
  {
   "cell_type": "markdown",
   "id": "11c8d2c5",
   "metadata": {},
   "source": [
    "#### Observtions:\n",
    "* The dataset has 7832 rows and 4 columns"
   ]
  },
  {
   "cell_type": "code",
   "execution_count": 18,
   "id": "6c2d41b8",
   "metadata": {},
   "outputs": [
    {
     "data": {
      "text/plain": [
       "Index(['Rating', 'Heading', 'Review', 'Product', 'Review_word_counter'], dtype='object')"
      ]
     },
     "execution_count": 18,
     "metadata": {},
     "output_type": "execute_result"
    }
   ],
   "source": [
    "#check the names of columns in dataset\n",
    "df.columns"
   ]
  },
  {
   "cell_type": "code",
   "execution_count": 19,
   "id": "f8dd2aac",
   "metadata": {},
   "outputs": [
    {
     "data": {
      "text/plain": [
       "Rating                 float64\n",
       "Heading                 object\n",
       "Review                  object\n",
       "Product                 object\n",
       "Review_word_counter      int64\n",
       "dtype: object"
      ]
     },
     "execution_count": 19,
     "metadata": {},
     "output_type": "execute_result"
    }
   ],
   "source": [
    "#check the datatype of each feature\n",
    "df.dtypes"
   ]
  },
  {
   "cell_type": "markdown",
   "id": "c8907234",
   "metadata": {},
   "source": [
    "#### Observations:\n",
    "   * There are three columns with \"object\" data type they are \"Heading\", \"Review\" and \"Product\".\n",
    "   * There is one column (label) with float data type."
   ]
  },
  {
   "cell_type": "code",
   "execution_count": 20,
   "id": "7da6439f",
   "metadata": {},
   "outputs": [
    {
     "data": {
      "text/plain": [
       "Rating                 0\n",
       "Heading                0\n",
       "Review                 0\n",
       "Product                0\n",
       "Review_word_counter    0\n",
       "dtype: int64"
      ]
     },
     "execution_count": 20,
     "metadata": {},
     "output_type": "execute_result"
    }
   ],
   "source": [
    "#checking if there are any null values in the dataset\n",
    "df.isnull().sum()"
   ]
  },
  {
   "cell_type": "markdown",
   "id": "85fbf7c1",
   "metadata": {},
   "source": [
    "#### Observations:\n",
    "   * There are no null values in the entire dataset"
   ]
  },
  {
   "cell_type": "code",
   "execution_count": 21,
   "id": "f6d86097",
   "metadata": {},
   "outputs": [
    {
     "data": {
      "text/plain": [
       "5.0    4023\n",
       "4.0    1510\n",
       "1.0    1233\n",
       "3.0     714\n",
       "2.0     352\n",
       "Name: Rating, dtype: int64"
      ]
     },
     "execution_count": 21,
     "metadata": {},
     "output_type": "execute_result"
    }
   ],
   "source": [
    "df['Rating'].value_counts()"
   ]
  },
  {
   "cell_type": "markdown",
   "id": "3286e46c",
   "metadata": {},
   "source": [
    "#### Observations:\n",
    "* There are more number of 5 star rated reviews.\n",
    "* There are very less number of 2 star rated reviews.\n",
    "* The data set is not perfectly balanced."
   ]
  },
  {
   "cell_type": "code",
   "execution_count": 22,
   "id": "1c271eee",
   "metadata": {},
   "outputs": [],
   "source": [
    "#Separation of rating as different labels.\n",
    "df['1 Star']=df.apply(lambda x: 1 if x['Rating']==1 else 0, axis=1)\n",
    "df['2 Star']=df.apply(lambda x: 1 if x['Rating']==2 else 0, axis=1)\n",
    "df['3 Star']=df.apply(lambda x: 1 if x['Rating']==3 else 0, axis=1)\n",
    "df['4 Star']=df.apply(lambda x: 1 if x['Rating']==4 else 0, axis=1)\n",
    "df['5 Star']=df.apply(lambda x: 1 if x['Rating']==5 else 0, axis=1)"
   ]
  },
  {
   "cell_type": "code",
   "execution_count": 23,
   "id": "7c10e84e",
   "metadata": {},
   "outputs": [
    {
     "data": {
      "text/html": [
       "<div>\n",
       "<style scoped>\n",
       "    .dataframe tbody tr th:only-of-type {\n",
       "        vertical-align: middle;\n",
       "    }\n",
       "\n",
       "    .dataframe tbody tr th {\n",
       "        vertical-align: top;\n",
       "    }\n",
       "\n",
       "    .dataframe thead th {\n",
       "        text-align: right;\n",
       "    }\n",
       "</style>\n",
       "<table border=\"1\" class=\"dataframe\">\n",
       "  <thead>\n",
       "    <tr style=\"text-align: right;\">\n",
       "      <th></th>\n",
       "      <th>Rating</th>\n",
       "      <th>Heading</th>\n",
       "      <th>Review</th>\n",
       "      <th>Product</th>\n",
       "      <th>Review_word_counter</th>\n",
       "      <th>1 Star</th>\n",
       "      <th>2 Star</th>\n",
       "      <th>3 Star</th>\n",
       "      <th>4 Star</th>\n",
       "      <th>5 Star</th>\n",
       "    </tr>\n",
       "  </thead>\n",
       "  <tbody>\n",
       "    <tr>\n",
       "      <th>0</th>\n",
       "      <td>5.0</td>\n",
       "      <td>Worth every penny</td>\n",
       "      <td>Dear team members\\n\\n\\nIn music playing speake...</td>\n",
       "      <td>Home theatre</td>\n",
       "      <td>195</td>\n",
       "      <td>0</td>\n",
       "      <td>0</td>\n",
       "      <td>0</td>\n",
       "      <td>0</td>\n",
       "      <td>1</td>\n",
       "    </tr>\n",
       "    <tr>\n",
       "      <th>1</th>\n",
       "      <td>5.0</td>\n",
       "      <td>Perfect product!</td>\n",
       "      <td>Awesome product.. amazing sound. Love it</td>\n",
       "      <td>Home theatre</td>\n",
       "      <td>40</td>\n",
       "      <td>0</td>\n",
       "      <td>0</td>\n",
       "      <td>0</td>\n",
       "      <td>0</td>\n",
       "      <td>1</td>\n",
       "    </tr>\n",
       "    <tr>\n",
       "      <th>2</th>\n",
       "      <td>5.0</td>\n",
       "      <td>Worth every penny</td>\n",
       "      <td>Bluetooth home theatre\\nVery good product</td>\n",
       "      <td>Home theatre</td>\n",
       "      <td>40</td>\n",
       "      <td>0</td>\n",
       "      <td>0</td>\n",
       "      <td>0</td>\n",
       "      <td>0</td>\n",
       "      <td>1</td>\n",
       "    </tr>\n",
       "    <tr>\n",
       "      <th>3</th>\n",
       "      <td>5.0</td>\n",
       "      <td>Terrific</td>\n",
       "      <td>Best bass</td>\n",
       "      <td>Home theatre</td>\n",
       "      <td>9</td>\n",
       "      <td>0</td>\n",
       "      <td>0</td>\n",
       "      <td>0</td>\n",
       "      <td>0</td>\n",
       "      <td>1</td>\n",
       "    </tr>\n",
       "    <tr>\n",
       "      <th>4</th>\n",
       "      <td>5.0</td>\n",
       "      <td>Excellent</td>\n",
       "      <td>My best home theater👌👌👌👌👌</td>\n",
       "      <td>Home theatre</td>\n",
       "      <td>25</td>\n",
       "      <td>0</td>\n",
       "      <td>0</td>\n",
       "      <td>0</td>\n",
       "      <td>0</td>\n",
       "      <td>1</td>\n",
       "    </tr>\n",
       "    <tr>\n",
       "      <th>5</th>\n",
       "      <td>5.0</td>\n",
       "      <td>Classy product</td>\n",
       "      <td>Amzing really ....</td>\n",
       "      <td>Home theatre</td>\n",
       "      <td>18</td>\n",
       "      <td>0</td>\n",
       "      <td>0</td>\n",
       "      <td>0</td>\n",
       "      <td>0</td>\n",
       "      <td>1</td>\n",
       "    </tr>\n",
       "    <tr>\n",
       "      <th>6</th>\n",
       "      <td>5.0</td>\n",
       "      <td>Classy product</td>\n",
       "      <td>very high quality sound speakers</td>\n",
       "      <td>Home theatre</td>\n",
       "      <td>32</td>\n",
       "      <td>0</td>\n",
       "      <td>0</td>\n",
       "      <td>0</td>\n",
       "      <td>0</td>\n",
       "      <td>1</td>\n",
       "    </tr>\n",
       "    <tr>\n",
       "      <th>7</th>\n",
       "      <td>5.0</td>\n",
       "      <td>Wonderful</td>\n",
       "      <td>Good for this price.</td>\n",
       "      <td>Home theatre</td>\n",
       "      <td>20</td>\n",
       "      <td>0</td>\n",
       "      <td>0</td>\n",
       "      <td>0</td>\n",
       "      <td>0</td>\n",
       "      <td>1</td>\n",
       "    </tr>\n",
       "    <tr>\n",
       "      <th>8</th>\n",
       "      <td>5.0</td>\n",
       "      <td>Classy product</td>\n",
       "      <td>Excellent Speakers, happy with the sound system.</td>\n",
       "      <td>Home theatre</td>\n",
       "      <td>48</td>\n",
       "      <td>0</td>\n",
       "      <td>0</td>\n",
       "      <td>0</td>\n",
       "      <td>0</td>\n",
       "      <td>1</td>\n",
       "    </tr>\n",
       "    <tr>\n",
       "      <th>9</th>\n",
       "      <td>5.0</td>\n",
       "      <td>Mind-blowing purchase</td>\n",
       "      <td>I'm very happy thank u Flipkart</td>\n",
       "      <td>Home theatre</td>\n",
       "      <td>31</td>\n",
       "      <td>0</td>\n",
       "      <td>0</td>\n",
       "      <td>0</td>\n",
       "      <td>0</td>\n",
       "      <td>1</td>\n",
       "    </tr>\n",
       "    <tr>\n",
       "      <th>10</th>\n",
       "      <td>3.0</td>\n",
       "      <td>Decent product</td>\n",
       "      <td>Good products bat low sound</td>\n",
       "      <td>Home theatre</td>\n",
       "      <td>27</td>\n",
       "      <td>0</td>\n",
       "      <td>0</td>\n",
       "      <td>1</td>\n",
       "      <td>0</td>\n",
       "      <td>0</td>\n",
       "    </tr>\n",
       "    <tr>\n",
       "      <th>11</th>\n",
       "      <td>4.0</td>\n",
       "      <td>Very Good</td>\n",
       "      <td>Super....</td>\n",
       "      <td>Home theatre</td>\n",
       "      <td>9</td>\n",
       "      <td>0</td>\n",
       "      <td>0</td>\n",
       "      <td>0</td>\n",
       "      <td>1</td>\n",
       "      <td>0</td>\n",
       "    </tr>\n",
       "    <tr>\n",
       "      <th>12</th>\n",
       "      <td>5.0</td>\n",
       "      <td>Simply awesome</td>\n",
       "      <td>Very good product with best sound quality</td>\n",
       "      <td>Home theatre</td>\n",
       "      <td>41</td>\n",
       "      <td>0</td>\n",
       "      <td>0</td>\n",
       "      <td>0</td>\n",
       "      <td>0</td>\n",
       "      <td>1</td>\n",
       "    </tr>\n",
       "    <tr>\n",
       "      <th>13</th>\n",
       "      <td>4.0</td>\n",
       "      <td>Wonderful</td>\n",
       "      <td>sound is good\\nbut the battery capacity is dam...</td>\n",
       "      <td>Home theatre</td>\n",
       "      <td>143</td>\n",
       "      <td>0</td>\n",
       "      <td>0</td>\n",
       "      <td>0</td>\n",
       "      <td>1</td>\n",
       "      <td>0</td>\n",
       "    </tr>\n",
       "    <tr>\n",
       "      <th>14</th>\n",
       "      <td>1.0</td>\n",
       "      <td>Worthless</td>\n",
       "      <td>Poor</td>\n",
       "      <td>Home theatre</td>\n",
       "      <td>4</td>\n",
       "      <td>1</td>\n",
       "      <td>0</td>\n",
       "      <td>0</td>\n",
       "      <td>0</td>\n",
       "      <td>0</td>\n",
       "    </tr>\n",
       "    <tr>\n",
       "      <th>15</th>\n",
       "      <td>5.0</td>\n",
       "      <td>Best Next Gen Smart 5.1 Home Theatre under 7k.</td>\n",
       "      <td>Just go for it if you have :\\n1. Smart TV with...</td>\n",
       "      <td>Home theatre</td>\n",
       "      <td>508</td>\n",
       "      <td>0</td>\n",
       "      <td>0</td>\n",
       "      <td>0</td>\n",
       "      <td>0</td>\n",
       "      <td>1</td>\n",
       "    </tr>\n",
       "    <tr>\n",
       "      <th>16</th>\n",
       "      <td>2.0</td>\n",
       "      <td>Could be way better</td>\n",
       "      <td>Is a bad product.</td>\n",
       "      <td>Home theatre</td>\n",
       "      <td>17</td>\n",
       "      <td>0</td>\n",
       "      <td>1</td>\n",
       "      <td>0</td>\n",
       "      <td>0</td>\n",
       "      <td>0</td>\n",
       "    </tr>\n",
       "    <tr>\n",
       "      <th>17</th>\n",
       "      <td>4.0</td>\n",
       "      <td>Worth the money</td>\n",
       "      <td>Good home theater for low budget and sound qua...</td>\n",
       "      <td>Home theatre</td>\n",
       "      <td>76</td>\n",
       "      <td>0</td>\n",
       "      <td>0</td>\n",
       "      <td>0</td>\n",
       "      <td>1</td>\n",
       "      <td>0</td>\n",
       "    </tr>\n",
       "    <tr>\n",
       "      <th>18</th>\n",
       "      <td>1.0</td>\n",
       "      <td>Worthless</td>\n",
       "      <td>After 1 week it's dead</td>\n",
       "      <td>Home theatre</td>\n",
       "      <td>22</td>\n",
       "      <td>1</td>\n",
       "      <td>0</td>\n",
       "      <td>0</td>\n",
       "      <td>0</td>\n",
       "      <td>0</td>\n",
       "    </tr>\n",
       "    <tr>\n",
       "      <th>19</th>\n",
       "      <td>5.0</td>\n",
       "      <td>Brilliant</td>\n",
       "      <td>very good product from flipkart like it so much</td>\n",
       "      <td>Home theatre</td>\n",
       "      <td>47</td>\n",
       "      <td>0</td>\n",
       "      <td>0</td>\n",
       "      <td>0</td>\n",
       "      <td>0</td>\n",
       "      <td>1</td>\n",
       "    </tr>\n",
       "  </tbody>\n",
       "</table>\n",
       "</div>"
      ],
      "text/plain": [
       "    Rating                                         Heading  \\\n",
       "0      5.0                               Worth every penny   \n",
       "1      5.0                                Perfect product!   \n",
       "2      5.0                               Worth every penny   \n",
       "3      5.0                                        Terrific   \n",
       "4      5.0                                       Excellent   \n",
       "5      5.0                                  Classy product   \n",
       "6      5.0                                  Classy product   \n",
       "7      5.0                                       Wonderful   \n",
       "8      5.0                                  Classy product   \n",
       "9      5.0                           Mind-blowing purchase   \n",
       "10     3.0                                  Decent product   \n",
       "11     4.0                                       Very Good   \n",
       "12     5.0                                  Simply awesome   \n",
       "13     4.0                                       Wonderful   \n",
       "14     1.0                                       Worthless   \n",
       "15     5.0  Best Next Gen Smart 5.1 Home Theatre under 7k.   \n",
       "16     2.0                             Could be way better   \n",
       "17     4.0                                 Worth the money   \n",
       "18     1.0                                       Worthless   \n",
       "19     5.0                                       Brilliant   \n",
       "\n",
       "                                               Review       Product  \\\n",
       "0   Dear team members\\n\\n\\nIn music playing speake...  Home theatre   \n",
       "1            Awesome product.. amazing sound. Love it  Home theatre   \n",
       "2           Bluetooth home theatre\\nVery good product  Home theatre   \n",
       "3                                           Best bass  Home theatre   \n",
       "4                           My best home theater👌👌👌👌👌  Home theatre   \n",
       "5                                  Amzing really ....  Home theatre   \n",
       "6                    very high quality sound speakers  Home theatre   \n",
       "7                                Good for this price.  Home theatre   \n",
       "8    Excellent Speakers, happy with the sound system.  Home theatre   \n",
       "9                     I'm very happy thank u Flipkart  Home theatre   \n",
       "10                        Good products bat low sound  Home theatre   \n",
       "11                                          Super....  Home theatre   \n",
       "12          Very good product with best sound quality  Home theatre   \n",
       "13  sound is good\\nbut the battery capacity is dam...  Home theatre   \n",
       "14                                               Poor  Home theatre   \n",
       "15  Just go for it if you have :\\n1. Smart TV with...  Home theatre   \n",
       "16                                  Is a bad product.  Home theatre   \n",
       "17  Good home theater for low budget and sound qua...  Home theatre   \n",
       "18                             After 1 week it's dead  Home theatre   \n",
       "19    very good product from flipkart like it so much  Home theatre   \n",
       "\n",
       "    Review_word_counter  1 Star  2 Star  3 Star  4 Star  5 Star  \n",
       "0                   195       0       0       0       0       1  \n",
       "1                    40       0       0       0       0       1  \n",
       "2                    40       0       0       0       0       1  \n",
       "3                     9       0       0       0       0       1  \n",
       "4                    25       0       0       0       0       1  \n",
       "5                    18       0       0       0       0       1  \n",
       "6                    32       0       0       0       0       1  \n",
       "7                    20       0       0       0       0       1  \n",
       "8                    48       0       0       0       0       1  \n",
       "9                    31       0       0       0       0       1  \n",
       "10                   27       0       0       1       0       0  \n",
       "11                    9       0       0       0       1       0  \n",
       "12                   41       0       0       0       0       1  \n",
       "13                  143       0       0       0       1       0  \n",
       "14                    4       1       0       0       0       0  \n",
       "15                  508       0       0       0       0       1  \n",
       "16                   17       0       1       0       0       0  \n",
       "17                   76       0       0       0       1       0  \n",
       "18                   22       1       0       0       0       0  \n",
       "19                   47       0       0       0       0       1  "
      ]
     },
     "execution_count": 23,
     "metadata": {},
     "output_type": "execute_result"
    }
   ],
   "source": [
    "df.head(20)"
   ]
  },
  {
   "cell_type": "code",
   "execution_count": 24,
   "id": "54521371",
   "metadata": {},
   "outputs": [],
   "source": [
    "df.drop(['Rating'], axis=1, inplace= True)"
   ]
  },
  {
   "cell_type": "code",
   "execution_count": 25,
   "id": "12822ed8",
   "metadata": {},
   "outputs": [
    {
     "data": {
      "text/html": [
       "<div>\n",
       "<style scoped>\n",
       "    .dataframe tbody tr th:only-of-type {\n",
       "        vertical-align: middle;\n",
       "    }\n",
       "\n",
       "    .dataframe tbody tr th {\n",
       "        vertical-align: top;\n",
       "    }\n",
       "\n",
       "    .dataframe thead th {\n",
       "        text-align: right;\n",
       "    }\n",
       "</style>\n",
       "<table border=\"1\" class=\"dataframe\">\n",
       "  <thead>\n",
       "    <tr style=\"text-align: right;\">\n",
       "      <th></th>\n",
       "      <th>Review_word_counter</th>\n",
       "      <th>1 Star</th>\n",
       "      <th>2 Star</th>\n",
       "      <th>3 Star</th>\n",
       "      <th>4 Star</th>\n",
       "      <th>5 Star</th>\n",
       "    </tr>\n",
       "  </thead>\n",
       "  <tbody>\n",
       "    <tr>\n",
       "      <th>count</th>\n",
       "      <td>7832.000000</td>\n",
       "      <td>7832.000000</td>\n",
       "      <td>7832.000000</td>\n",
       "      <td>7832.000000</td>\n",
       "      <td>7832.000000</td>\n",
       "      <td>7832.000000</td>\n",
       "    </tr>\n",
       "    <tr>\n",
       "      <th>mean</th>\n",
       "      <td>66.836568</td>\n",
       "      <td>0.157431</td>\n",
       "      <td>0.044944</td>\n",
       "      <td>0.091164</td>\n",
       "      <td>0.192799</td>\n",
       "      <td>0.513662</td>\n",
       "    </tr>\n",
       "    <tr>\n",
       "      <th>std</th>\n",
       "      <td>85.560384</td>\n",
       "      <td>0.364230</td>\n",
       "      <td>0.207194</td>\n",
       "      <td>0.287861</td>\n",
       "      <td>0.394522</td>\n",
       "      <td>0.499845</td>\n",
       "    </tr>\n",
       "    <tr>\n",
       "      <th>min</th>\n",
       "      <td>2.000000</td>\n",
       "      <td>0.000000</td>\n",
       "      <td>0.000000</td>\n",
       "      <td>0.000000</td>\n",
       "      <td>0.000000</td>\n",
       "      <td>0.000000</td>\n",
       "    </tr>\n",
       "    <tr>\n",
       "      <th>25%</th>\n",
       "      <td>20.000000</td>\n",
       "      <td>0.000000</td>\n",
       "      <td>0.000000</td>\n",
       "      <td>0.000000</td>\n",
       "      <td>0.000000</td>\n",
       "      <td>0.000000</td>\n",
       "    </tr>\n",
       "    <tr>\n",
       "      <th>50%</th>\n",
       "      <td>37.000000</td>\n",
       "      <td>0.000000</td>\n",
       "      <td>0.000000</td>\n",
       "      <td>0.000000</td>\n",
       "      <td>0.000000</td>\n",
       "      <td>1.000000</td>\n",
       "    </tr>\n",
       "    <tr>\n",
       "      <th>75%</th>\n",
       "      <td>75.000000</td>\n",
       "      <td>0.000000</td>\n",
       "      <td>0.000000</td>\n",
       "      <td>0.000000</td>\n",
       "      <td>0.000000</td>\n",
       "      <td>1.000000</td>\n",
       "    </tr>\n",
       "    <tr>\n",
       "      <th>max</th>\n",
       "      <td>510.000000</td>\n",
       "      <td>1.000000</td>\n",
       "      <td>1.000000</td>\n",
       "      <td>1.000000</td>\n",
       "      <td>1.000000</td>\n",
       "      <td>1.000000</td>\n",
       "    </tr>\n",
       "  </tbody>\n",
       "</table>\n",
       "</div>"
      ],
      "text/plain": [
       "       Review_word_counter       1 Star       2 Star       3 Star  \\\n",
       "count          7832.000000  7832.000000  7832.000000  7832.000000   \n",
       "mean             66.836568     0.157431     0.044944     0.091164   \n",
       "std              85.560384     0.364230     0.207194     0.287861   \n",
       "min               2.000000     0.000000     0.000000     0.000000   \n",
       "25%              20.000000     0.000000     0.000000     0.000000   \n",
       "50%              37.000000     0.000000     0.000000     0.000000   \n",
       "75%              75.000000     0.000000     0.000000     0.000000   \n",
       "max             510.000000     1.000000     1.000000     1.000000   \n",
       "\n",
       "            4 Star       5 Star  \n",
       "count  7832.000000  7832.000000  \n",
       "mean      0.192799     0.513662  \n",
       "std       0.394522     0.499845  \n",
       "min       0.000000     0.000000  \n",
       "25%       0.000000     0.000000  \n",
       "50%       0.000000     1.000000  \n",
       "75%       0.000000     1.000000  \n",
       "max       1.000000     1.000000  "
      ]
     },
     "execution_count": 25,
     "metadata": {},
     "output_type": "execute_result"
    }
   ],
   "source": [
    "#statistical analysis\n",
    "df.describe()"
   ]
  },
  {
   "cell_type": "markdown",
   "id": "1581eb87",
   "metadata": {},
   "source": [
    "#### Observations\n",
    " * For all the labels the minimum value is zero and maximum is 1. As there are only binary classes deviations cannot be studied"
   ]
  },
  {
   "cell_type": "code",
   "execution_count": 26,
   "id": "3a8d473f",
   "metadata": {},
   "outputs": [
    {
     "data": {
      "text/plain": [
       "Review_word_counter    3.018592\n",
       "1 Star                 1.881539\n",
       "2 Star                 4.393683\n",
       "3 Star                 2.841230\n",
       "4 Star                 1.557733\n",
       "5 Star                -0.054678\n",
       "dtype: float64"
      ]
     },
     "execution_count": 26,
     "metadata": {},
     "output_type": "execute_result"
    }
   ],
   "source": [
    "#checking the skewness\n",
    "df.skew()"
   ]
  },
  {
   "cell_type": "markdown",
   "id": "4dc29713",
   "metadata": {},
   "source": [
    "#### observations\n",
    "* The highest skewness is seen in 2 Star rating"
   ]
  },
  {
   "cell_type": "markdown",
   "id": "56ad0d86",
   "metadata": {},
   "source": [
    "# Visualizations"
   ]
  },
  {
   "cell_type": "code",
   "execution_count": 27,
   "id": "1e6c6189",
   "metadata": {},
   "outputs": [],
   "source": [
    "#import libraries required for visualizations\n",
    "import seaborn as sns\n",
    "import matplotlib.pyplot as plt\n",
    "import warnings\n",
    "warnings.filterwarnings(\"ignore\")"
   ]
  },
  {
   "cell_type": "code",
   "execution_count": 28,
   "id": "ab6a3367",
   "metadata": {},
   "outputs": [
    {
     "name": "stdout",
     "output_type": "stream",
     "text": [
      "average length of review: 66.8\n"
     ]
    },
    {
     "data": {
      "image/png": "[encoded data removed]",
      "text/plain": [
       "<Figure size 432x288 with 1 Axes>"
      ]
     },
     "metadata": {
      "needs_background": "light"
     },
     "output_type": "display_data"
    }
   ],
   "source": [
    "#plotting the average length of reviews\n",
    "review=df[\"Review\"]\n",
    "x = [len(review[i]) for i in range(review.shape[0])]\n",
    "\n",
    "print('average length of review: {:.1f}'.format(sum(x)/len(x)) )\n",
    "bins = [1,200,400,600,800,1000]\n",
    "plt.hist(x, bins=bins)\n",
    "plt.xlabel('Length of Review')\n",
    "plt.ylabel('Number of Review')       \n",
    "plt.grid(True)\n",
    "plt.show()"
   ]
  },
  {
   "cell_type": "markdown",
   "id": "be9389eb",
   "metadata": {},
   "source": [
    "#### Observations:\n",
    "* The average length of review is 66.\n",
    "* Maximum number of reviews had less than 200 words.\n",
    "* There were no reviews with more than 600 words.\n",
    "* Comments with 200 and above words were less."
   ]
  },
  {
   "cell_type": "code",
   "execution_count": 29,
   "id": "f109ccce",
   "metadata": {},
   "outputs": [
    {
     "data": {
      "image/png": "[encoded data removed]",
      "text/plain": [
       "<Figure size 1080x720 with 6 Axes>"
      ]
     },
     "metadata": {
      "needs_background": "light"
     },
     "output_type": "display_data"
    }
   ],
   "source": [
    "#let us plot countplot of each feature\n",
    "a = 3  # number of rows\n",
    "b = 3  # number of columns\n",
    "c = 1  # initialize plot counter\n",
    "\n",
    "fig = plt.figure(figsize=(15,10))\n",
    "for cols in df.columns:\n",
    "    if df[cols].dtypes=='int64':\n",
    "        plt.subplot(a, b, c)\n",
    "        plt.title('{}'.format(cols),weight='bold')\n",
    "        sns.countplot(df[cols],palette='nipy_spectral')\n",
    "        plt.xticks(rotation=360)\n",
    "        c = c + 1\n",
    "        plt.tight_layout()\n",
    "        plt.ylabel(\"Count\")\n",
    "plt.show()"
   ]
  },
  {
   "cell_type": "markdown",
   "id": "4395ba0c",
   "metadata": {},
   "source": [
    "#### Obseravtions:\n",
    "   * Around 50% of the review are rated 5 star.\n",
    "   * 2 star rated reviews are least in number"
   ]
  },
  {
   "cell_type": "code",
   "execution_count": 30,
   "id": "60c2ee55",
   "metadata": {},
   "outputs": [
    {
     "name": "stdout",
     "output_type": "stream",
     "text": [
      "['Heading', 'Review', 'Product', 'Review_word_counter', '1 Star', '2 Star', '3 Star', '4 Star', '5 Star']\n"
     ]
    }
   ],
   "source": [
    "print(list(df.columns.values))"
   ]
  },
  {
   "cell_type": "code",
   "execution_count": 31,
   "id": "b7693d3f",
   "metadata": {},
   "outputs": [
    {
     "name": "stdout",
     "output_type": "stream",
     "text": [
      "['1 Star', '2 Star', '3 Star', '4 Star', '5 Star']\n"
     ]
    }
   ],
   "source": [
    "#make a list of columns\n",
    "categories = list(df.columns.values)\n",
    "categories = categories[4:]\n",
    "print(categories)"
   ]
  },
  {
   "cell_type": "code",
   "execution_count": 32,
   "id": "1fd22831",
   "metadata": {},
   "outputs": [
    {
     "data": {
      "image/png": "[encoded data removed]",
      "text/plain": [
       "<Figure size 432x288 with 1 Axes>"
      ]
     },
     "metadata": {},
     "output_type": "display_data"
    }
   ],
   "source": [
    "#distribution plot of each type of review\n",
    "colors=['#cc99ff','#ff9999','#ffff33','#99ff33','#80ffdf'] \n",
    "df_distribution = df[categories].sum()\n",
    "\n",
    "df_distribution.plot.pie(y='count',autopct='%1.1f%%',colors=colors)\\\n",
    "                            .legend(loc='center left', bbox_to_anchor=(1.3, 0.5))\n",
    "plt.ylabel(\"\")\n",
    "plt.title(\"Distribution of Review for Home Theatre\",fontweight='bold')\n",
    "plt.tight_layout()\n",
    "plt.show()"
   ]
  },
  {
   "cell_type": "markdown",
   "id": "253c9abb",
   "metadata": {},
   "source": [
    "#### Observations:\n",
    "* 5 Star rating had the highest share of 51.4%, followed by 4 star with 19.3%.\n",
    "* 2 Star rating has least share with 4.5%"
   ]
  },
  {
   "cell_type": "code",
   "execution_count": 33,
   "id": "06f6e926",
   "metadata": {},
   "outputs": [
    {
     "data": {
      "image/png": "[encoded data removed]",
      "text/plain": [
       "<Figure size 1080x360 with 1 Axes>"
      ]
     },
     "metadata": {
      "needs_background": "light"
     },
     "output_type": "display_data"
    }
   ],
   "source": [
    "# Checking the count of the various types of reviews\n",
    "cols = ['1 Star', '2 Star', '3 Star', '4 Star', '5 Star']\n",
    "val_counts = df[cols].sum()\n",
    "\n",
    "plt.figure(figsize=(15,5))\n",
    "ax = sns.barplot(val_counts.index, val_counts.values)\n",
    "\n",
    "plt.title(\"Reviews per Classes\")\n",
    "plt.xlabel(\"Various Reviews Type\")\n",
    "plt.ylabel(\"Counts of the Reviews\")\n",
    "\n",
    "rects = ax.patches\n",
    "labels = val_counts.values\n",
    "for rect, label in zip(rects, labels):\n",
    "    height = rect.get_height()\n",
    "    ax.text(rect.get_x() + rect.get_width()/2, height+5, label, ha=\"center\", va=\"bottom\")\n",
    "\n",
    "\n",
    "plt.show()"
   ]
  },
  {
   "cell_type": "markdown",
   "id": "187608ad",
   "metadata": {},
   "source": [
    "#### Observations\n",
    "* There were 4023 5 Star rated reviews which are maximum. \n",
    "* 4 Star reviews were second highest with count of 1510\n",
    "* 2 Star ratings have the least count of only 352."
   ]
  },
  {
   "cell_type": "markdown",
   "id": "42743d6e",
   "metadata": {},
   "source": [
    "##  Data Pre-Processing"
   ]
  },
  {
   "cell_type": "code",
   "execution_count": 34,
   "id": "ab1d684b",
   "metadata": {},
   "outputs": [
    {
     "data": {
      "text/html": [
       "<div>\n",
       "<style scoped>\n",
       "    .dataframe tbody tr th:only-of-type {\n",
       "        vertical-align: middle;\n",
       "    }\n",
       "\n",
       "    .dataframe tbody tr th {\n",
       "        vertical-align: top;\n",
       "    }\n",
       "\n",
       "    .dataframe thead th {\n",
       "        text-align: right;\n",
       "    }\n",
       "</style>\n",
       "<table border=\"1\" class=\"dataframe\">\n",
       "  <thead>\n",
       "    <tr style=\"text-align: right;\">\n",
       "      <th></th>\n",
       "      <th>Heading</th>\n",
       "      <th>Review</th>\n",
       "      <th>Product</th>\n",
       "      <th>Review_word_counter</th>\n",
       "      <th>1 Star</th>\n",
       "      <th>2 Star</th>\n",
       "      <th>3 Star</th>\n",
       "      <th>4 Star</th>\n",
       "      <th>5 Star</th>\n",
       "    </tr>\n",
       "  </thead>\n",
       "  <tbody>\n",
       "    <tr>\n",
       "      <th>0</th>\n",
       "      <td>simply awesome</td>\n",
       "      <td>i purchased it 2 weeks ago super up... all are...</td>\n",
       "      <td>Home theatre</td>\n",
       "      <td>226</td>\n",
       "      <td>0</td>\n",
       "      <td>0</td>\n",
       "      <td>0</td>\n",
       "      <td>0</td>\n",
       "      <td>1</td>\n",
       "    </tr>\n",
       "    <tr>\n",
       "      <th>1</th>\n",
       "      <td>awesome product</td>\n",
       "      <td>cost worthy product, connectivity is very good...</td>\n",
       "      <td>Home theatre</td>\n",
       "      <td>113</td>\n",
       "      <td>0</td>\n",
       "      <td>0</td>\n",
       "      <td>0</td>\n",
       "      <td>0</td>\n",
       "      <td>1</td>\n",
       "    </tr>\n",
       "    <tr>\n",
       "      <th>2</th>\n",
       "      <td>wonderful</td>\n",
       "      <td>good product\\nbest in this price.</td>\n",
       "      <td>Home theatre</td>\n",
       "      <td>32</td>\n",
       "      <td>0</td>\n",
       "      <td>0</td>\n",
       "      <td>0</td>\n",
       "      <td>0</td>\n",
       "      <td>1</td>\n",
       "    </tr>\n",
       "    <tr>\n",
       "      <th>3</th>\n",
       "      <td>terrific</td>\n",
       "      <td>value for money,ek no bass and sound quality i...</td>\n",
       "      <td>Home theatre</td>\n",
       "      <td>69</td>\n",
       "      <td>0</td>\n",
       "      <td>0</td>\n",
       "      <td>0</td>\n",
       "      <td>0</td>\n",
       "      <td>1</td>\n",
       "    </tr>\n",
       "    <tr>\n",
       "      <th>4</th>\n",
       "      <td>wonderful</td>\n",
       "      <td>best products good</td>\n",
       "      <td>Home theatre</td>\n",
       "      <td>18</td>\n",
       "      <td>0</td>\n",
       "      <td>0</td>\n",
       "      <td>0</td>\n",
       "      <td>0</td>\n",
       "      <td>1</td>\n",
       "    </tr>\n",
       "  </tbody>\n",
       "</table>\n",
       "</div>"
      ],
      "text/plain": [
       "           Heading                                             Review  \\\n",
       "0   simply awesome  i purchased it 2 weeks ago super up... all are...   \n",
       "1  awesome product  cost worthy product, connectivity is very good...   \n",
       "2        wonderful                  good product\\nbest in this price.   \n",
       "3         terrific  value for money,ek no bass and sound quality i...   \n",
       "4        wonderful                                 best products good   \n",
       "\n",
       "        Product  Review_word_counter  1 Star  2 Star  3 Star  4 Star  5 Star  \n",
       "0  Home theatre                  226       0       0       0       0       1  \n",
       "1  Home theatre                  113       0       0       0       0       1  \n",
       "2  Home theatre                   32       0       0       0       0       1  \n",
       "3  Home theatre                   69       0       0       0       0       1  \n",
       "4  Home theatre                   18       0       0       0       0       1  "
      ]
     },
     "execution_count": 34,
     "metadata": {},
     "output_type": "execute_result"
    }
   ],
   "source": [
    "#convert all text into lowercase \n",
    "df['Review'] = df['Review'].str.lower()\n",
    "df['Heading'] = df['Heading'].str.lower()\n",
    "#check if the text is lower cased\n",
    "df.head()"
   ]
  },
  {
   "cell_type": "code",
   "execution_count": 35,
   "id": "e781b040",
   "metadata": {},
   "outputs": [
    {
     "data": {
      "text/html": [
       "<div>\n",
       "<style scoped>\n",
       "    .dataframe tbody tr th:only-of-type {\n",
       "        vertical-align: middle;\n",
       "    }\n",
       "\n",
       "    .dataframe tbody tr th {\n",
       "        vertical-align: top;\n",
       "    }\n",
       "\n",
       "    .dataframe thead th {\n",
       "        text-align: right;\n",
       "    }\n",
       "</style>\n",
       "<table border=\"1\" class=\"dataframe\">\n",
       "  <thead>\n",
       "    <tr style=\"text-align: right;\">\n",
       "      <th></th>\n",
       "      <th>Heading</th>\n",
       "      <th>Review</th>\n",
       "      <th>Product</th>\n",
       "      <th>Review_word_counter</th>\n",
       "      <th>1 Star</th>\n",
       "      <th>2 Star</th>\n",
       "      <th>3 Star</th>\n",
       "      <th>4 Star</th>\n",
       "      <th>5 Star</th>\n",
       "    </tr>\n",
       "  </thead>\n",
       "  <tbody>\n",
       "    <tr>\n",
       "      <th>0</th>\n",
       "      <td>simply awesome</td>\n",
       "      <td>i purchased it 2 weeks ago super up... all are...</td>\n",
       "      <td>Home theatre</td>\n",
       "      <td>226</td>\n",
       "      <td>0</td>\n",
       "      <td>0</td>\n",
       "      <td>0</td>\n",
       "      <td>0</td>\n",
       "      <td>1</td>\n",
       "    </tr>\n",
       "    <tr>\n",
       "      <th>1</th>\n",
       "      <td>awesome product</td>\n",
       "      <td>cost worthy product, connectivity is very good...</td>\n",
       "      <td>Home theatre</td>\n",
       "      <td>113</td>\n",
       "      <td>0</td>\n",
       "      <td>0</td>\n",
       "      <td>0</td>\n",
       "      <td>0</td>\n",
       "      <td>1</td>\n",
       "    </tr>\n",
       "    <tr>\n",
       "      <th>2</th>\n",
       "      <td>wonderful</td>\n",
       "      <td>good product\\nbest in this price.</td>\n",
       "      <td>Home theatre</td>\n",
       "      <td>32</td>\n",
       "      <td>0</td>\n",
       "      <td>0</td>\n",
       "      <td>0</td>\n",
       "      <td>0</td>\n",
       "      <td>1</td>\n",
       "    </tr>\n",
       "    <tr>\n",
       "      <th>3</th>\n",
       "      <td>terrific</td>\n",
       "      <td>value for money,ek no bass and sound quality i...</td>\n",
       "      <td>Home theatre</td>\n",
       "      <td>69</td>\n",
       "      <td>0</td>\n",
       "      <td>0</td>\n",
       "      <td>0</td>\n",
       "      <td>0</td>\n",
       "      <td>1</td>\n",
       "    </tr>\n",
       "    <tr>\n",
       "      <th>4</th>\n",
       "      <td>wonderful</td>\n",
       "      <td>best products good</td>\n",
       "      <td>Home theatre</td>\n",
       "      <td>18</td>\n",
       "      <td>0</td>\n",
       "      <td>0</td>\n",
       "      <td>0</td>\n",
       "      <td>0</td>\n",
       "      <td>1</td>\n",
       "    </tr>\n",
       "  </tbody>\n",
       "</table>\n",
       "</div>"
      ],
      "text/plain": [
       "           Heading                                             Review  \\\n",
       "0   simply awesome  i purchased it 2 weeks ago super up... all are...   \n",
       "1  awesome product  cost worthy product, connectivity is very good...   \n",
       "2        wonderful                  good product\\nbest in this price.   \n",
       "3         terrific  value for money,ek no bass and sound quality i...   \n",
       "4        wonderful                                 best products good   \n",
       "\n",
       "        Product  Review_word_counter  1 Star  2 Star  3 Star  4 Star  5 Star  \n",
       "0  Home theatre                  226       0       0       0       0       1  \n",
       "1  Home theatre                  113       0       0       0       0       1  \n",
       "2  Home theatre                   32       0       0       0       0       1  \n",
       "3  Home theatre                   69       0       0       0       0       1  \n",
       "4  Home theatre                   18       0       0       0       0       1  "
      ]
     },
     "execution_count": 35,
     "metadata": {},
     "output_type": "execute_result"
    }
   ],
   "source": [
    "#clean all html tags \n",
    "import re\n",
    "def cleanHtml(sentence):\n",
    "    cleanr = re.compile('<.*?>')\n",
    "    cleantext = re.sub(cleanr, ' ', str(sentence))\n",
    "    return cleantext\n",
    "#apply the function \n",
    "df['Review'] = df['Review'].apply(cleanHtml)\n",
    "df['Heading'] = df['Heading'].apply(cleanHtml)\n",
    "df.head()"
   ]
  },
  {
   "cell_type": "code",
   "execution_count": 36,
   "id": "8eb5996b",
   "metadata": {},
   "outputs": [
    {
     "data": {
      "text/html": [
       "<div>\n",
       "<style scoped>\n",
       "    .dataframe tbody tr th:only-of-type {\n",
       "        vertical-align: middle;\n",
       "    }\n",
       "\n",
       "    .dataframe tbody tr th {\n",
       "        vertical-align: top;\n",
       "    }\n",
       "\n",
       "    .dataframe thead th {\n",
       "        text-align: right;\n",
       "    }\n",
       "</style>\n",
       "<table border=\"1\" class=\"dataframe\">\n",
       "  <thead>\n",
       "    <tr style=\"text-align: right;\">\n",
       "      <th></th>\n",
       "      <th>Heading</th>\n",
       "      <th>Review</th>\n",
       "      <th>Product</th>\n",
       "      <th>Review_word_counter</th>\n",
       "      <th>1 Star</th>\n",
       "      <th>2 Star</th>\n",
       "      <th>3 Star</th>\n",
       "      <th>4 Star</th>\n",
       "      <th>5 Star</th>\n",
       "    </tr>\n",
       "  </thead>\n",
       "  <tbody>\n",
       "    <tr>\n",
       "      <th>0</th>\n",
       "      <td>simply awesome</td>\n",
       "      <td>i purchased it 2 weeks ago super up    all are...</td>\n",
       "      <td>Home theatre</td>\n",
       "      <td>226</td>\n",
       "      <td>0</td>\n",
       "      <td>0</td>\n",
       "      <td>0</td>\n",
       "      <td>0</td>\n",
       "      <td>1</td>\n",
       "    </tr>\n",
       "    <tr>\n",
       "      <th>1</th>\n",
       "      <td>awesome product</td>\n",
       "      <td>cost worthy product  connectivity is very good...</td>\n",
       "      <td>Home theatre</td>\n",
       "      <td>113</td>\n",
       "      <td>0</td>\n",
       "      <td>0</td>\n",
       "      <td>0</td>\n",
       "      <td>0</td>\n",
       "      <td>1</td>\n",
       "    </tr>\n",
       "    <tr>\n",
       "      <th>2</th>\n",
       "      <td>wonderful</td>\n",
       "      <td>good product best in this price</td>\n",
       "      <td>Home theatre</td>\n",
       "      <td>32</td>\n",
       "      <td>0</td>\n",
       "      <td>0</td>\n",
       "      <td>0</td>\n",
       "      <td>0</td>\n",
       "      <td>1</td>\n",
       "    </tr>\n",
       "    <tr>\n",
       "      <th>3</th>\n",
       "      <td>terrific</td>\n",
       "      <td>value for money ek no bass and sound quality i...</td>\n",
       "      <td>Home theatre</td>\n",
       "      <td>69</td>\n",
       "      <td>0</td>\n",
       "      <td>0</td>\n",
       "      <td>0</td>\n",
       "      <td>0</td>\n",
       "      <td>1</td>\n",
       "    </tr>\n",
       "    <tr>\n",
       "      <th>4</th>\n",
       "      <td>wonderful</td>\n",
       "      <td>best products good</td>\n",
       "      <td>Home theatre</td>\n",
       "      <td>18</td>\n",
       "      <td>0</td>\n",
       "      <td>0</td>\n",
       "      <td>0</td>\n",
       "      <td>0</td>\n",
       "      <td>1</td>\n",
       "    </tr>\n",
       "  </tbody>\n",
       "</table>\n",
       "</div>"
      ],
      "text/plain": [
       "           Heading                                             Review  \\\n",
       "0   simply awesome  i purchased it 2 weeks ago super up    all are...   \n",
       "1  awesome product  cost worthy product  connectivity is very good...   \n",
       "2        wonderful                    good product best in this price   \n",
       "3         terrific  value for money ek no bass and sound quality i...   \n",
       "4        wonderful                                 best products good   \n",
       "\n",
       "        Product  Review_word_counter  1 Star  2 Star  3 Star  4 Star  5 Star  \n",
       "0  Home theatre                  226       0       0       0       0       1  \n",
       "1  Home theatre                  113       0       0       0       0       1  \n",
       "2  Home theatre                   32       0       0       0       0       1  \n",
       "3  Home theatre                   69       0       0       0       0       1  \n",
       "4  Home theatre                   18       0       0       0       0       1  "
      ]
     },
     "execution_count": 36,
     "metadata": {},
     "output_type": "execute_result"
    }
   ],
   "source": [
    "#remove punctuations\n",
    "def cleanPunc(sentence): #function to clean the word of any punctuation or special characters\n",
    "    cleaned = re.sub(r'[?|!|\\'|\"|#]',r'',sentence)\n",
    "    cleaned = re.sub(r'[.|,|)|(|\\|/]',r' ',cleaned)\n",
    "    cleaned = cleaned.strip()\n",
    "    cleaned = cleaned.replace(\"\\n\",\" \")\n",
    "    return cleaned\n",
    "#call the function\n",
    "df['Review'] = df['Review'].apply(cleanPunc)\n",
    "df['Heading'] = df['Heading'].apply(cleanPunc)\n",
    "df.head()"
   ]
  },
  {
   "cell_type": "code",
   "execution_count": 37,
   "id": "0be87355",
   "metadata": {},
   "outputs": [
    {
     "data": {
      "text/html": [
       "<div>\n",
       "<style scoped>\n",
       "    .dataframe tbody tr th:only-of-type {\n",
       "        vertical-align: middle;\n",
       "    }\n",
       "\n",
       "    .dataframe tbody tr th {\n",
       "        vertical-align: top;\n",
       "    }\n",
       "\n",
       "    .dataframe thead th {\n",
       "        text-align: right;\n",
       "    }\n",
       "</style>\n",
       "<table border=\"1\" class=\"dataframe\">\n",
       "  <thead>\n",
       "    <tr style=\"text-align: right;\">\n",
       "      <th></th>\n",
       "      <th>Heading</th>\n",
       "      <th>Review</th>\n",
       "      <th>Product</th>\n",
       "      <th>Review_word_counter</th>\n",
       "      <th>1 Star</th>\n",
       "      <th>2 Star</th>\n",
       "      <th>3 Star</th>\n",
       "      <th>4 Star</th>\n",
       "      <th>5 Star</th>\n",
       "    </tr>\n",
       "  </thead>\n",
       "  <tbody>\n",
       "    <tr>\n",
       "      <th>0</th>\n",
       "      <td>simply awesome</td>\n",
       "      <td>i purchased it   weeks ago super up all are ex...</td>\n",
       "      <td>Home theatre</td>\n",
       "      <td>226</td>\n",
       "      <td>0</td>\n",
       "      <td>0</td>\n",
       "      <td>0</td>\n",
       "      <td>0</td>\n",
       "      <td>1</td>\n",
       "    </tr>\n",
       "    <tr>\n",
       "      <th>1</th>\n",
       "      <td>awesome product</td>\n",
       "      <td>cost worthy product connectivity is very good ...</td>\n",
       "      <td>Home theatre</td>\n",
       "      <td>113</td>\n",
       "      <td>0</td>\n",
       "      <td>0</td>\n",
       "      <td>0</td>\n",
       "      <td>0</td>\n",
       "      <td>1</td>\n",
       "    </tr>\n",
       "    <tr>\n",
       "      <th>2</th>\n",
       "      <td>wonderful</td>\n",
       "      <td>good product best in this price</td>\n",
       "      <td>Home theatre</td>\n",
       "      <td>32</td>\n",
       "      <td>0</td>\n",
       "      <td>0</td>\n",
       "      <td>0</td>\n",
       "      <td>0</td>\n",
       "      <td>1</td>\n",
       "    </tr>\n",
       "    <tr>\n",
       "      <th>3</th>\n",
       "      <td>terrific</td>\n",
       "      <td>value for money ek no bass and sound quality i...</td>\n",
       "      <td>Home theatre</td>\n",
       "      <td>69</td>\n",
       "      <td>0</td>\n",
       "      <td>0</td>\n",
       "      <td>0</td>\n",
       "      <td>0</td>\n",
       "      <td>1</td>\n",
       "    </tr>\n",
       "    <tr>\n",
       "      <th>4</th>\n",
       "      <td>wonderful</td>\n",
       "      <td>best products good</td>\n",
       "      <td>Home theatre</td>\n",
       "      <td>18</td>\n",
       "      <td>0</td>\n",
       "      <td>0</td>\n",
       "      <td>0</td>\n",
       "      <td>0</td>\n",
       "      <td>1</td>\n",
       "    </tr>\n",
       "  </tbody>\n",
       "</table>\n",
       "</div>"
      ],
      "text/plain": [
       "           Heading                                             Review  \\\n",
       "0   simply awesome  i purchased it   weeks ago super up all are ex...   \n",
       "1  awesome product  cost worthy product connectivity is very good ...   \n",
       "2        wonderful                    good product best in this price   \n",
       "3         terrific  value for money ek no bass and sound quality i...   \n",
       "4        wonderful                                 best products good   \n",
       "\n",
       "        Product  Review_word_counter  1 Star  2 Star  3 Star  4 Star  5 Star  \n",
       "0  Home theatre                  226       0       0       0       0       1  \n",
       "1  Home theatre                  113       0       0       0       0       1  \n",
       "2  Home theatre                   32       0       0       0       0       1  \n",
       "3  Home theatre                   69       0       0       0       0       1  \n",
       "4  Home theatre                   18       0       0       0       0       1  "
      ]
     },
     "execution_count": 37,
     "metadata": {},
     "output_type": "execute_result"
    }
   ],
   "source": [
    "# any alphabets from small a to small z or capital A to capital Z.\n",
    "#The plus sign specifies that string should have at least one character.\n",
    "def keepAlpha(sentence):\n",
    "    alpha_sent = \"\"\n",
    "    for word in sentence.split():\n",
    "        alpha_word = re.sub('[^a-z A-Z]+', ' ', word)\n",
    "        alpha_sent += alpha_word\n",
    "        alpha_sent += \" \"\n",
    "    alpha_sent = alpha_sent.strip()\n",
    "    return alpha_sent\n",
    "#apply the function\n",
    "df['Review'] = df['Review'].apply(keepAlpha)\n",
    "df['Heading'] = df['Heading'].apply(keepAlpha)\n",
    "df.head()"
   ]
  },
  {
   "cell_type": "code",
   "execution_count": 38,
   "id": "982b040b",
   "metadata": {},
   "outputs": [],
   "source": [
    "#import libraries for stemming and stopwords removal\n",
    "from nltk.corpus import stopwords\n",
    "from nltk.stem.snowball import SnowballStemmer\n",
    "import re"
   ]
  },
  {
   "cell_type": "code",
   "execution_count": 39,
   "id": "13ea0aa8",
   "metadata": {},
   "outputs": [
    {
     "data": {
      "text/html": [
       "<div>\n",
       "<style scoped>\n",
       "    .dataframe tbody tr th:only-of-type {\n",
       "        vertical-align: middle;\n",
       "    }\n",
       "\n",
       "    .dataframe tbody tr th {\n",
       "        vertical-align: top;\n",
       "    }\n",
       "\n",
       "    .dataframe thead th {\n",
       "        text-align: right;\n",
       "    }\n",
       "</style>\n",
       "<table border=\"1\" class=\"dataframe\">\n",
       "  <thead>\n",
       "    <tr style=\"text-align: right;\">\n",
       "      <th></th>\n",
       "      <th>Heading</th>\n",
       "      <th>Review</th>\n",
       "      <th>Product</th>\n",
       "      <th>Review_word_counter</th>\n",
       "      <th>1 Star</th>\n",
       "      <th>2 Star</th>\n",
       "      <th>3 Star</th>\n",
       "      <th>4 Star</th>\n",
       "      <th>5 Star</th>\n",
       "    </tr>\n",
       "  </thead>\n",
       "  <tbody>\n",
       "    <tr>\n",
       "      <th>0</th>\n",
       "      <td>simply awesome</td>\n",
       "      <td>purchased    weeks ago super    excellent bas...</td>\n",
       "      <td>Home theatre</td>\n",
       "      <td>226</td>\n",
       "      <td>0</td>\n",
       "      <td>0</td>\n",
       "      <td>0</td>\n",
       "      <td>0</td>\n",
       "      <td>1</td>\n",
       "    </tr>\n",
       "    <tr>\n",
       "      <th>1</th>\n",
       "      <td>awesome product</td>\n",
       "      <td>cost worthy product connectivity   good usb ca...</td>\n",
       "      <td>Home theatre</td>\n",
       "      <td>113</td>\n",
       "      <td>0</td>\n",
       "      <td>0</td>\n",
       "      <td>0</td>\n",
       "      <td>0</td>\n",
       "      <td>1</td>\n",
       "    </tr>\n",
       "    <tr>\n",
       "      <th>2</th>\n",
       "      <td>wonderful</td>\n",
       "      <td>good product best   price</td>\n",
       "      <td>Home theatre</td>\n",
       "      <td>32</td>\n",
       "      <td>0</td>\n",
       "      <td>0</td>\n",
       "      <td>0</td>\n",
       "      <td>0</td>\n",
       "      <td>1</td>\n",
       "    </tr>\n",
       "    <tr>\n",
       "      <th>3</th>\n",
       "      <td>terrific</td>\n",
       "      <td>value  money ek  bass  sound quality  clear  l...</td>\n",
       "      <td>Home theatre</td>\n",
       "      <td>69</td>\n",
       "      <td>0</td>\n",
       "      <td>0</td>\n",
       "      <td>0</td>\n",
       "      <td>0</td>\n",
       "      <td>1</td>\n",
       "    </tr>\n",
       "    <tr>\n",
       "      <th>4</th>\n",
       "      <td>wonderful</td>\n",
       "      <td>best products good</td>\n",
       "      <td>Home theatre</td>\n",
       "      <td>18</td>\n",
       "      <td>0</td>\n",
       "      <td>0</td>\n",
       "      <td>0</td>\n",
       "      <td>0</td>\n",
       "      <td>1</td>\n",
       "    </tr>\n",
       "  </tbody>\n",
       "</table>\n",
       "</div>"
      ],
      "text/plain": [
       "           Heading                                             Review  \\\n",
       "0   simply awesome   purchased    weeks ago super    excellent bas...   \n",
       "1  awesome product  cost worthy product connectivity   good usb ca...   \n",
       "2        wonderful                          good product best   price   \n",
       "3         terrific  value  money ek  bass  sound quality  clear  l...   \n",
       "4        wonderful                                 best products good   \n",
       "\n",
       "        Product  Review_word_counter  1 Star  2 Star  3 Star  4 Star  5 Star  \n",
       "0  Home theatre                  226       0       0       0       0       1  \n",
       "1  Home theatre                  113       0       0       0       0       1  \n",
       "2  Home theatre                   32       0       0       0       0       1  \n",
       "3  Home theatre                   69       0       0       0       0       1  \n",
       "4  Home theatre                   18       0       0       0       0       1  "
      ]
     },
     "execution_count": 39,
     "metadata": {},
     "output_type": "execute_result"
    }
   ],
   "source": [
    "#removing stopwords\n",
    "stop_words = set(stopwords.words('english'))\n",
    "re_stop_words = re.compile(r\"\\b(\" + \"|\".join(stop_words) + \")\\\\W\", re.I)\n",
    "def removeStopWords(sentence):\n",
    "    global re_stop_words\n",
    "    return re_stop_words.sub(\" \", sentence)\n",
    "#apply the remove_stopwords function\n",
    "df['Review'] = df['Review'].apply(removeStopWords)\n",
    "df['Heading'] = df['Heading'].apply(removeStopWords)\n",
    "df.head()"
   ]
  },
  {
   "cell_type": "code",
   "execution_count": 40,
   "id": "31e03020",
   "metadata": {},
   "outputs": [
    {
     "data": {
      "text/html": [
       "<div>\n",
       "<style scoped>\n",
       "    .dataframe tbody tr th:only-of-type {\n",
       "        vertical-align: middle;\n",
       "    }\n",
       "\n",
       "    .dataframe tbody tr th {\n",
       "        vertical-align: top;\n",
       "    }\n",
       "\n",
       "    .dataframe thead th {\n",
       "        text-align: right;\n",
       "    }\n",
       "</style>\n",
       "<table border=\"1\" class=\"dataframe\">\n",
       "  <thead>\n",
       "    <tr style=\"text-align: right;\">\n",
       "      <th></th>\n",
       "      <th>Heading</th>\n",
       "      <th>Review</th>\n",
       "      <th>Product</th>\n",
       "      <th>Review_word_counter</th>\n",
       "      <th>1 Star</th>\n",
       "      <th>2 Star</th>\n",
       "      <th>3 Star</th>\n",
       "      <th>4 Star</th>\n",
       "      <th>5 Star</th>\n",
       "    </tr>\n",
       "  </thead>\n",
       "  <tbody>\n",
       "    <tr>\n",
       "      <th>0</th>\n",
       "      <td>simpli awesom</td>\n",
       "      <td>purchas week ago super excel bass volum connec...</td>\n",
       "      <td>Home theatre</td>\n",
       "      <td>226</td>\n",
       "      <td>0</td>\n",
       "      <td>0</td>\n",
       "      <td>0</td>\n",
       "      <td>0</td>\n",
       "      <td>1</td>\n",
       "    </tr>\n",
       "    <tr>\n",
       "      <th>1</th>\n",
       "      <td>awesom product</td>\n",
       "      <td>cost worthi product connect good usb card slot...</td>\n",
       "      <td>Home theatre</td>\n",
       "      <td>113</td>\n",
       "      <td>0</td>\n",
       "      <td>0</td>\n",
       "      <td>0</td>\n",
       "      <td>0</td>\n",
       "      <td>1</td>\n",
       "    </tr>\n",
       "    <tr>\n",
       "      <th>2</th>\n",
       "      <td>wonder</td>\n",
       "      <td>good product best price</td>\n",
       "      <td>Home theatre</td>\n",
       "      <td>32</td>\n",
       "      <td>0</td>\n",
       "      <td>0</td>\n",
       "      <td>0</td>\n",
       "      <td>0</td>\n",
       "      <td>1</td>\n",
       "    </tr>\n",
       "    <tr>\n",
       "      <th>3</th>\n",
       "      <td>terrif</td>\n",
       "      <td>valu money ek bass sound qualiti clear love it</td>\n",
       "      <td>Home theatre</td>\n",
       "      <td>69</td>\n",
       "      <td>0</td>\n",
       "      <td>0</td>\n",
       "      <td>0</td>\n",
       "      <td>0</td>\n",
       "      <td>1</td>\n",
       "    </tr>\n",
       "    <tr>\n",
       "      <th>4</th>\n",
       "      <td>wonder</td>\n",
       "      <td>best product good</td>\n",
       "      <td>Home theatre</td>\n",
       "      <td>18</td>\n",
       "      <td>0</td>\n",
       "      <td>0</td>\n",
       "      <td>0</td>\n",
       "      <td>0</td>\n",
       "      <td>1</td>\n",
       "    </tr>\n",
       "  </tbody>\n",
       "</table>\n",
       "</div>"
      ],
      "text/plain": [
       "          Heading                                             Review  \\\n",
       "0   simpli awesom  purchas week ago super excel bass volum connec...   \n",
       "1  awesom product  cost worthi product connect good usb card slot...   \n",
       "2          wonder                            good product best price   \n",
       "3          terrif     valu money ek bass sound qualiti clear love it   \n",
       "4          wonder                                  best product good   \n",
       "\n",
       "        Product  Review_word_counter  1 Star  2 Star  3 Star  4 Star  5 Star  \n",
       "0  Home theatre                  226       0       0       0       0       1  \n",
       "1  Home theatre                  113       0       0       0       0       1  \n",
       "2  Home theatre                   32       0       0       0       0       1  \n",
       "3  Home theatre                   69       0       0       0       0       1  \n",
       "4  Home theatre                   18       0       0       0       0       1  "
      ]
     },
     "execution_count": 40,
     "metadata": {},
     "output_type": "execute_result"
    }
   ],
   "source": [
    "#stemming\n",
    "stemmer = SnowballStemmer(\"english\")\n",
    "def stemming(sentence):\n",
    "    stemSentence = \"\"\n",
    "    for word in sentence.split():\n",
    "        stem = stemmer.stem(word)\n",
    "        stemSentence += stem\n",
    "        stemSentence += \" \"\n",
    "    stemSentence = stemSentence.strip()\n",
    "    return stemSentence\n",
    "\n",
    "df['Review'] = df['Review'].apply(stemming)\n",
    "df['Heading'] = df['Heading'].apply(stemming)\n",
    "df.head()"
   ]
  },
  {
   "cell_type": "code",
   "execution_count": 41,
   "id": "aedd8568",
   "metadata": {},
   "outputs": [
    {
     "data": {
      "text/html": [
       "<div>\n",
       "<style scoped>\n",
       "    .dataframe tbody tr th:only-of-type {\n",
       "        vertical-align: middle;\n",
       "    }\n",
       "\n",
       "    .dataframe tbody tr th {\n",
       "        vertical-align: top;\n",
       "    }\n",
       "\n",
       "    .dataframe thead th {\n",
       "        text-align: right;\n",
       "    }\n",
       "</style>\n",
       "<table border=\"1\" class=\"dataframe\">\n",
       "  <thead>\n",
       "    <tr style=\"text-align: right;\">\n",
       "      <th></th>\n",
       "      <th>Heading</th>\n",
       "      <th>Review</th>\n",
       "      <th>Product</th>\n",
       "      <th>Review_word_counter</th>\n",
       "      <th>1 Star</th>\n",
       "      <th>2 Star</th>\n",
       "      <th>3 Star</th>\n",
       "      <th>4 Star</th>\n",
       "      <th>5 Star</th>\n",
       "    </tr>\n",
       "  </thead>\n",
       "  <tbody>\n",
       "    <tr>\n",
       "      <th>0</th>\n",
       "      <td>simpli awesom</td>\n",
       "      <td>purchas week ago super excel bass volum connec...</td>\n",
       "      <td>Home theatre</td>\n",
       "      <td>226</td>\n",
       "      <td>0</td>\n",
       "      <td>0</td>\n",
       "      <td>0</td>\n",
       "      <td>0</td>\n",
       "      <td>1</td>\n",
       "    </tr>\n",
       "    <tr>\n",
       "      <th>1</th>\n",
       "      <td>awesom product</td>\n",
       "      <td>cost worthi product connect good usb card slot...</td>\n",
       "      <td>Home theatre</td>\n",
       "      <td>113</td>\n",
       "      <td>0</td>\n",
       "      <td>0</td>\n",
       "      <td>0</td>\n",
       "      <td>0</td>\n",
       "      <td>1</td>\n",
       "    </tr>\n",
       "    <tr>\n",
       "      <th>2</th>\n",
       "      <td>wonder</td>\n",
       "      <td>good product best price</td>\n",
       "      <td>Home theatre</td>\n",
       "      <td>32</td>\n",
       "      <td>0</td>\n",
       "      <td>0</td>\n",
       "      <td>0</td>\n",
       "      <td>0</td>\n",
       "      <td>1</td>\n",
       "    </tr>\n",
       "    <tr>\n",
       "      <th>3</th>\n",
       "      <td>terrif</td>\n",
       "      <td>valu money ek bass sound qualiti clear love it</td>\n",
       "      <td>Home theatre</td>\n",
       "      <td>69</td>\n",
       "      <td>0</td>\n",
       "      <td>0</td>\n",
       "      <td>0</td>\n",
       "      <td>0</td>\n",
       "      <td>1</td>\n",
       "    </tr>\n",
       "    <tr>\n",
       "      <th>4</th>\n",
       "      <td>wonder</td>\n",
       "      <td>best product good</td>\n",
       "      <td>Home theatre</td>\n",
       "      <td>18</td>\n",
       "      <td>0</td>\n",
       "      <td>0</td>\n",
       "      <td>0</td>\n",
       "      <td>0</td>\n",
       "      <td>1</td>\n",
       "    </tr>\n",
       "  </tbody>\n",
       "</table>\n",
       "</div>"
      ],
      "text/plain": [
       "          Heading                                             Review  \\\n",
       "0   simpli awesom  purchas week ago super excel bass volum connec...   \n",
       "1  awesom product  cost worthi product connect good usb card slot...   \n",
       "2          wonder                            good product best price   \n",
       "3          terrif     valu money ek bass sound qualiti clear love it   \n",
       "4          wonder                                  best product good   \n",
       "\n",
       "        Product  Review_word_counter  1 Star  2 Star  3 Star  4 Star  5 Star  \n",
       "0  Home theatre                  226       0       0       0       0       1  \n",
       "1  Home theatre                  113       0       0       0       0       1  \n",
       "2  Home theatre                   32       0       0       0       0       1  \n",
       "3  Home theatre                   69       0       0       0       0       1  \n",
       "4  Home theatre                   18       0       0       0       0       1  "
      ]
     },
     "execution_count": 41,
     "metadata": {},
     "output_type": "execute_result"
    }
   ],
   "source": [
    "import emoji\n",
    "def emoji_remover(text):\n",
    "    allchars = [str for str in text]\n",
    "    emoji_list = [c for c in allchars if c in emoji.UNICODE_EMOJI]\n",
    "    clean_text = ' '.join([str for str in text.split() if not any(i in str for i in emoji_list)])\n",
    "    return clean_text\n",
    "\n",
    "df['Review'] = df['Review'].apply(emoji_remover)\n",
    "df['Heading'] = df['Heading'].apply(emoji_remover)\n",
    "df.head()"
   ]
  },
  {
   "cell_type": "markdown",
   "id": "f965cc43",
   "metadata": {},
   "source": [
    "Modelling will be done on heading of reviews as well as on actual review. But there are duplicate values in the heading. Thus we will use only unique heading for model development"
   ]
  },
  {
   "cell_type": "markdown",
   "id": "00f94d3b",
   "metadata": {},
   "source": [
    "# Modelling on Heading of Reviews"
   ]
  },
  {
   "cell_type": "code",
   "execution_count": 42,
   "id": "05f0e07b",
   "metadata": {},
   "outputs": [
    {
     "data": {
      "text/plain": [
       "(126, 9)"
      ]
     },
     "execution_count": 42,
     "metadata": {},
     "output_type": "execute_result"
    }
   ],
   "source": [
    "df_heading = df.drop_duplicates(subset='Heading')\n",
    "df_heading.shape"
   ]
  },
  {
   "cell_type": "code",
   "execution_count": 43,
   "id": "708f6746",
   "metadata": {},
   "outputs": [],
   "source": [
    "df_heading = shuffle(df_heading)\n",
    "df_heading.reset_index(drop=True,inplace=True)"
   ]
  },
  {
   "cell_type": "code",
   "execution_count": 44,
   "id": "0902ad59",
   "metadata": {},
   "outputs": [
    {
     "data": {
      "text/html": [
       "<div>\n",
       "<style scoped>\n",
       "    .dataframe tbody tr th:only-of-type {\n",
       "        vertical-align: middle;\n",
       "    }\n",
       "\n",
       "    .dataframe tbody tr th {\n",
       "        vertical-align: top;\n",
       "    }\n",
       "\n",
       "    .dataframe thead th {\n",
       "        text-align: right;\n",
       "    }\n",
       "</style>\n",
       "<table border=\"1\" class=\"dataframe\">\n",
       "  <thead>\n",
       "    <tr style=\"text-align: right;\">\n",
       "      <th></th>\n",
       "      <th>Heading</th>\n",
       "      <th>Review</th>\n",
       "      <th>Product</th>\n",
       "      <th>Review_word_counter</th>\n",
       "      <th>1 Star</th>\n",
       "      <th>2 Star</th>\n",
       "      <th>3 Star</th>\n",
       "      <th>4 Star</th>\n",
       "      <th>5 Star</th>\n",
       "    </tr>\n",
       "  </thead>\n",
       "  <tbody>\n",
       "    <tr>\n",
       "      <th>0</th>\n",
       "      <td>excel home theatr</td>\n",
       "      <td>excel qualiti term effect qualiti sound output...</td>\n",
       "      <td>Home theatre</td>\n",
       "      <td>510</td>\n",
       "      <td>0</td>\n",
       "      <td>0</td>\n",
       "      <td>0</td>\n",
       "      <td>1</td>\n",
       "      <td>0</td>\n",
       "    </tr>\n",
       "    <tr>\n",
       "      <th>1</th>\n",
       "      <td>awesom</td>\n",
       "      <td>beyond expect terrif sound qualiti ii price ba...</td>\n",
       "      <td>Home theatre</td>\n",
       "      <td>505</td>\n",
       "      <td>0</td>\n",
       "      <td>0</td>\n",
       "      <td>0</td>\n",
       "      <td>0</td>\n",
       "      <td>1</td>\n",
       "    </tr>\n",
       "    <tr>\n",
       "      <th>2</th>\n",
       "      <td>nice product</td>\n",
       "      <td>sound good velu money</td>\n",
       "      <td>Home theatre</td>\n",
       "      <td>29</td>\n",
       "      <td>0</td>\n",
       "      <td>0</td>\n",
       "      <td>0</td>\n",
       "      <td>1</td>\n",
       "      <td>0</td>\n",
       "    </tr>\n",
       "    <tr>\n",
       "      <th>3</th>\n",
       "      <td>zebron bt wireless home audio speaker</td>\n",
       "      <td>awesom enjoy sound qualiti profit home theater...</td>\n",
       "      <td>Home theatre</td>\n",
       "      <td>167</td>\n",
       "      <td>0</td>\n",
       "      <td>0</td>\n",
       "      <td>0</td>\n",
       "      <td>0</td>\n",
       "      <td>1</td>\n",
       "    </tr>\n",
       "    <tr>\n",
       "      <th>4</th>\n",
       "      <td>f alway good sound system especi one</td>\n",
       "      <td>awesom f bass good especi surround sound reall...</td>\n",
       "      <td>Home theatre</td>\n",
       "      <td>258</td>\n",
       "      <td>0</td>\n",
       "      <td>0</td>\n",
       "      <td>0</td>\n",
       "      <td>0</td>\n",
       "      <td>1</td>\n",
       "    </tr>\n",
       "  </tbody>\n",
       "</table>\n",
       "</div>"
      ],
      "text/plain": [
       "                                 Heading  \\\n",
       "0                      excel home theatr   \n",
       "1                                 awesom   \n",
       "2                           nice product   \n",
       "3  zebron bt wireless home audio speaker   \n",
       "4   f alway good sound system especi one   \n",
       "\n",
       "                                              Review       Product  \\\n",
       "0  excel qualiti term effect qualiti sound output...  Home theatre   \n",
       "1  beyond expect terrif sound qualiti ii price ba...  Home theatre   \n",
       "2                              sound good velu money  Home theatre   \n",
       "3  awesom enjoy sound qualiti profit home theater...  Home theatre   \n",
       "4  awesom f bass good especi surround sound reall...  Home theatre   \n",
       "\n",
       "   Review_word_counter  1 Star  2 Star  3 Star  4 Star  5 Star  \n",
       "0                  510       0       0       0       1       0  \n",
       "1                  505       0       0       0       0       1  \n",
       "2                   29       0       0       0       1       0  \n",
       "3                  167       0       0       0       0       1  \n",
       "4                  258       0       0       0       0       1  "
      ]
     },
     "execution_count": 44,
     "metadata": {},
     "output_type": "execute_result"
    }
   ],
   "source": [
    "df_heading.head()"
   ]
  },
  {
   "cell_type": "code",
   "execution_count": 45,
   "id": "1a9a40f0",
   "metadata": {},
   "outputs": [],
   "source": [
    "# Separation of Labels and Features\n",
    "x = df_heading['Heading']\n",
    "y = df_heading[['1 Star','2 Star','3 Star','4 Star','5 Star']]"
   ]
  },
  {
   "cell_type": "code",
   "execution_count": 46,
   "id": "ee9f7043",
   "metadata": {},
   "outputs": [],
   "source": [
    "#transforming words to vectors\n",
    "#initiate tfid\n",
    "from sklearn.feature_extraction.text import TfidfVectorizer\n",
    "tf = TfidfVectorizer()\n",
    "#convert text into vectors\n",
    "x = tf.fit_transform(x)"
   ]
  },
  {
   "cell_type": "code",
   "execution_count": 47,
   "id": "9e451f73",
   "metadata": {},
   "outputs": [],
   "source": [
    "#splitting data into training and testing\n",
    "from sklearn.model_selection import train_test_split\n",
    "x_train, x_test, y_train, y_test = train_test_split(x, y, test_size=0.25, random_state=123)"
   ]
  },
  {
   "cell_type": "markdown",
   "id": "1b58660e",
   "metadata": {},
   "source": [
    "### Understanding few concepts before actual model building"
   ]
  },
  {
   "cell_type": "markdown",
   "id": "ade62a95",
   "metadata": {},
   "source": [
    "### Studying the evaluation metrics"
   ]
  },
  {
   "cell_type": "markdown",
   "id": "3cbb39a6",
   "metadata": {},
   "source": [
    "#### 1) Label ranking average precision (LRAP)\n",
    "It is the average over each ground truth label assigned to each sample, of the ratio of true vs. total labels with lower score.\n",
    "\n",
    "This metric is used in multilabel ranking problem, where the goal is to give better rank to the labels associated to each sample.\n",
    "\n",
    "* The obtained score is always strictly greater than 0 and the best value is 1."
   ]
  },
  {
   "cell_type": "markdown",
   "id": "13d485aa",
   "metadata": {},
   "source": [
    "#### 2) Ranking loss measure.\n",
    "\n",
    "Compute the average number of label pairs that are incorrectly ordered given y_score weighted by the size of the label set and the number of labels not in the label set.\n",
    "\n",
    "This is similar to the error set size, but weighted by the number of relevant and irrelevant labels.  The best performance is achieved with a ranking loss of zero."
   ]
  },
  {
   "cell_type": "markdown",
   "id": "2981109a",
   "metadata": {},
   "source": [
    "#### 3) Hamming loss\n",
    "it is important to note that unlikely accuracy in hamming loss the smaller the result is the better is the model. for an example if hamming loss, is 0.32 which means that if you are trying to predict the aspects of 100 sentences the model will predict incorrectly about 32% of the independent aspects.\n",
    "* hamming loss value ranges from 0 to 1. Lesser value of hamming loss indicates a better classifier."
   ]
  },
  {
   "cell_type": "markdown",
   "id": "9c17cc16",
   "metadata": {},
   "source": [
    "#### 4) Precision\n",
    "The precision is the ratio tp / (tp + fp) where tp is the number of true positives and fp the number of false positives. The precision is intuitively the ability of the classifier not to label as positive a sample that is negative.\n",
    "* The best value is 1 and the worst value is 0."
   ]
  },
  {
   "cell_type": "markdown",
   "id": "08a017eb",
   "metadata": {},
   "source": [
    "#### 5) Coverage error\n",
    "Coverage error measure.\n",
    "\n",
    "Compute how far we need to go through the ranked scores to cover all true labels. The best value is equal to the average number of labels in y_true per sample.\n",
    "* The best value of coverage is when it is equal to average number of true class labels."
   ]
  },
  {
   "cell_type": "markdown",
   "id": "8ba6db2b",
   "metadata": {},
   "source": [
    "#### 6) Log loss\n",
    "This is the loss function used in (multinomial) logistic regression and extensions of it such as neural networks, defined as the negative log-likelihood of a logistic model that returns y_pred probabilities for its training data y_true . The log loss is only defined for two or more labels.\n",
    "The bolder the probabilities, the better will be your Log Loss — closer to zero. It is a measure of uncertainty (you may call it entropy), so a low Log Loss means a low uncertainty/entropy of your model. "
   ]
  },
  {
   "cell_type": "markdown",
   "id": "39d56807",
   "metadata": {},
   "source": [
    "#### 7) Hamming loss\n",
    "The Hamming loss is the fraction of labels that are incorrectly predicted.\n",
    "hamming loss value ranges from 0 to 1. Lesser value of hamming loss indicates a better classifier."
   ]
  },
  {
   "cell_type": "markdown",
   "id": "82ac8608",
   "metadata": {},
   "source": [
    "#### 8)  Confusion matrix for multi-label\n",
    "In multilabel confusion matrix MCM, the count of true negatives is MCM(0,0) , false negatives is MCM(1,0), true positives is MCM(1,1)  and false positives is(0,1) .\n",
    "\n"
   ]
  },
  {
   "attachments": {
    "1_x7WPPEQqCJClqy7e3XxPOA.png": {
     "image/png": "[encoded data removed]"
    }
   },
   "cell_type": "markdown",
   "id": "7335094d",
   "metadata": {},
   "source": [
    "![1_x7WPPEQqCJClqy7e3XxPOA.png](attachment:1_x7WPPEQqCJClqy7e3XxPOA.png)"
   ]
  },
  {
   "cell_type": "code",
   "execution_count": 48,
   "id": "4702d989",
   "metadata": {},
   "outputs": [],
   "source": [
    "#importing libraries for evaluation\n",
    "from sklearn.metrics import hamming_loss,accuracy_score,log_loss,f1_score\n",
    "from sklearn.metrics import coverage_error,precision_score,label_ranking_average_precision_score\n",
    "from sklearn.metrics import roc_auc_score\n",
    "from sklearn.metrics import multilabel_confusion_matrix\n",
    "from sklearn.model_selection import cross_val_score"
   ]
  },
  {
   "cell_type": "markdown",
   "id": "cab660e7",
   "metadata": {},
   "source": [
    "# Building model based on Heading of review"
   ]
  },
  {
   "cell_type": "markdown",
   "id": "3e69b960",
   "metadata": {},
   "source": [
    "### 1) Power Transformation"
   ]
  },
  {
   "cell_type": "markdown",
   "id": "86d444f3",
   "metadata": {},
   "source": [
    "### 1.1 Binary relevance with GuassianNb as base classifier"
   ]
  },
  {
   "cell_type": "code",
   "execution_count": 49,
   "id": "ba54a99a",
   "metadata": {
    "scrolled": true
   },
   "outputs": [
    {
     "name": "stdout",
     "output_type": "stream",
     "text": [
      "Accuracy =  18.75\n",
      "Cross validation score= 23.015873015873016\n",
      "\n",
      "\n",
      "log loss= 13.749993463914816\n",
      "hamming loss= 0.5\n",
      "\n",
      "\n",
      "f1 score= 0.3333333333333333\n",
      "average precision score= 0.22727272727272727\n",
      "AUC ROC score= 0.5045562770562771\n",
      "\n",
      "\n",
      "label ranking average precision score= 0.3765624999999999\n",
      "coverage area= 3.90625\n",
      "\n",
      "\n"
     ]
    }
   ],
   "source": [
    "# using binary relevance\n",
    "from skmultilearn.problem_transform import BinaryRelevance\n",
    "from sklearn.naive_bayes import GaussianNB\n",
    "\n",
    "# initialize binary relevance multi-label classifier\n",
    "# with a gaussian naive bayes base classifier\n",
    "classifier1 = BinaryRelevance(GaussianNB())\n",
    "\n",
    "# train\n",
    "classifier1.fit(x_train, y_train)\n",
    "# predict\n",
    "predictions = classifier1.predict(x_test)\n",
    "\n",
    "# accuracy\n",
    "acc_br=accuracy_score(y_test,predictions)*100\n",
    "print(\"Accuracy = \",acc_br)\n",
    "#cross validation score\n",
    "cv_br=cross_val_score(classifier1,x,y,cv=3).mean()*100\n",
    "print(\"Cross validation score=\",cv_br)\n",
    "print(\"\\n\")\n",
    "\n",
    "#log loss\n",
    "loss_br=log_loss(y_test,predictions.toarray())\n",
    "print(\"log loss=\",loss_br)\n",
    "#hamming loss\n",
    "hamm_loss_br=hamming_loss(y_test,predictions)\n",
    "print(\"hamming loss=\",hamm_loss_br) \n",
    "print(\"\\n\")\n",
    "\n",
    "\n",
    "#f1 score\n",
    "f1_br=f1_score(y_test,predictions.toarray(),average='micro')\n",
    "print(\"f1 score=\",f1_br)\n",
    "#precision score micro averaged\n",
    "pre_br=precision_score(y_test,predictions.toarray(),average='micro')\n",
    "print(\"average precision score=\",pre_br)\n",
    "#auc roc curve\n",
    "auc_br=roc_auc_score(y_test,predictions.toarray())\n",
    "print(\"AUC ROC score=\",auc_br)\n",
    "print(\"\\n\")\n",
    "\n",
    "\n",
    "#label ranking \n",
    "lr_br=label_ranking_average_precision_score(y_test,predictions.toarray())\n",
    "print(\"label ranking average precision score=\",lr_br)\n",
    "#coverage error\n",
    "ce_br=coverage_error(y_test,predictions.toarray())\n",
    "print(\"coverage area=\",ce_br)\n",
    "print(\"\\n\")"
   ]
  },
  {
   "cell_type": "code",
   "execution_count": 50,
   "id": "697b7e51",
   "metadata": {},
   "outputs": [
    {
     "data": {
      "text/plain": [
       "array([[[16,  8],\n",
       "        [ 3,  5]],\n",
       "\n",
       "       [[16, 14],\n",
       "        [ 2,  0]],\n",
       "\n",
       "       [[13, 11],\n",
       "        [ 3,  5]],\n",
       "\n",
       "       [[ 8, 20],\n",
       "        [ 1,  3]],\n",
       "\n",
       "       [[ 7, 15],\n",
       "        [ 3,  7]]])"
      ]
     },
     "execution_count": 50,
     "metadata": {},
     "output_type": "execute_result"
    }
   ],
   "source": [
    "#confusion matrix for binary relevance\n",
    "conf_mat1=multilabel_confusion_matrix(y_test,predictions)\n",
    "conf_mat1"
   ]
  },
  {
   "cell_type": "code",
   "execution_count": 51,
   "id": "fa55a23e",
   "metadata": {},
   "outputs": [
    {
     "data": {
      "image/png": "[encoded data removed]",
      "text/plain": [
       "<Figure size 1080x504 with 10 Axes>"
      ]
     },
     "metadata": {
      "needs_background": "light"
     },
     "output_type": "display_data"
    }
   ],
   "source": [
    "#plotting heatmap of confusion matrix\n",
    "a = 2  # number of rows\n",
    "b = 3  # number of columns\n",
    "c = 1  # initialize plot counter\n",
    "fig = plt.figure(figsize=(15,7))\n",
    "for i in range(0,5):\n",
    "    plt.subplot(a, b, c)\n",
    "    plt.title('{}'.format(i+1),weight='bold')\n",
    "    sns.heatmap(conf_mat1[i],annot=True,cmap='plasma',fmt=\"0.2f\",linewidths=3,linecolor='black')\n",
    "    c = c + 1\n",
    "    plt.tight_layout()\n",
    "plt.show()"
   ]
  },
  {
   "cell_type": "markdown",
   "id": "bca7b51c",
   "metadata": {},
   "source": [
    "### 1.2 Label powerset"
   ]
  },
  {
   "cell_type": "code",
   "execution_count": 52,
   "id": "0d12b9ba",
   "metadata": {},
   "outputs": [
    {
     "name": "stdout",
     "output_type": "stream",
     "text": [
      "Accuracy =  21.875\n",
      "Cross validation score= 30.952380952380953\n",
      "\n",
      "\n",
      "log loss= 26.983419058523978\n",
      "hamming loss= 0.3125\n",
      "\n",
      "\n",
      "AUC ROC score= 0.5053138528138528\n",
      "f1 score= 0.21875\n",
      "average precision score= 0.21875\n",
      "\n",
      "\n",
      "coverage area= 4.125\n",
      "label ranking average precision score= 0.37499999999999994\n"
     ]
    }
   ],
   "source": [
    "#create and fit classifier\n",
    "from skmultilearn.problem_transform import LabelPowerset\n",
    "from sklearn.naive_bayes import GaussianNB\n",
    "\n",
    "# initialize Label Powerset multi-label classifier\n",
    "# with a gaussian naive bayes base classifier\n",
    "classifier2 = LabelPowerset(GaussianNB())\n",
    "classifier2.fit(x_train, y_train)\n",
    "#predictions\n",
    "predictions = classifier2.predict(x_test)\n",
    "\n",
    "# accuracy\n",
    "acc_lps=accuracy_score(y_test,predictions)*100\n",
    "print(\"Accuracy = \",acc_lps)\n",
    "#cross validation score\n",
    "cv_lps=cross_val_score(classifier2,x,y,cv=3).mean()*100\n",
    "print(\"Cross validation score=\",cv_lps)\n",
    "print(\"\\n\")\n",
    "\n",
    "#log loss\n",
    "loss_lps=log_loss(y_test,predictions.toarray())\n",
    "print(\"log loss=\",loss_lps)\n",
    "#hamming loss\n",
    "hamm_loss_lps=hamming_loss(y_test,predictions)\n",
    "print(\"hamming loss=\",hamm_loss_lps)\n",
    "print(\"\\n\")\n",
    "\n",
    "#auc roc score\n",
    "auc_lps=roc_auc_score(y_test,predictions.toarray())\n",
    "print(\"AUC ROC score=\",auc_lps)\n",
    "#f1 score\n",
    "f1_lps=f1_score(y_test,predictions.toarray(),average='micro')\n",
    "print(\"f1 score=\",f1_lps)\n",
    "#precision score micro averaged\n",
    "pre_lps=precision_score(y_test,predictions.toarray(),average='micro')\n",
    "print(\"average precision score=\",pre_lps)\n",
    "print(\"\\n\")\n",
    "\n",
    "#coverage error\n",
    "ce_lps=coverage_error(y_test,predictions.toarray())\n",
    "print(\"coverage area=\",ce_lps)\n",
    "#label ranking \n",
    "lr_lps=label_ranking_average_precision_score(y_test,predictions.toarray())\n",
    "print(\"label ranking average precision score=\",lr_lps)"
   ]
  },
  {
   "cell_type": "code",
   "execution_count": 53,
   "id": "b6b0a723",
   "metadata": {},
   "outputs": [
    {
     "data": {
      "text/plain": [
       "array([[[22,  2],\n",
       "        [ 5,  3]],\n",
       "\n",
       "       [[16, 14],\n",
       "        [ 2,  0]],\n",
       "\n",
       "       [[23,  1],\n",
       "        [ 7,  1]],\n",
       "\n",
       "       [[22,  6],\n",
       "        [ 3,  1]],\n",
       "\n",
       "       [[20,  2],\n",
       "        [ 8,  2]]])"
      ]
     },
     "execution_count": 53,
     "metadata": {},
     "output_type": "execute_result"
    }
   ],
   "source": [
    "#confusion matrix for label powerset\n",
    "conf_mat2=multilabel_confusion_matrix(y_test,predictions)\n",
    "conf_mat2"
   ]
  },
  {
   "cell_type": "code",
   "execution_count": 54,
   "id": "048c3aee",
   "metadata": {},
   "outputs": [
    {
     "data": {
      "image/png": "[encoded data removed]",
      "text/plain": [
       "<Figure size 1080x504 with 10 Axes>"
      ]
     },
     "metadata": {
      "needs_background": "light"
     },
     "output_type": "display_data"
    }
   ],
   "source": [
    "#plotting heatmap of confusion matrix\n",
    "a = 2  # number of rows\n",
    "b = 3  # number of columns\n",
    "c = 1  # initialize plot counter\n",
    "fig = plt.figure(figsize=(15,7))\n",
    "for i in range(0,5): \n",
    "    plt.subplot(a, b, c)\n",
    "    plt.title('{}'.format(i+1),weight='bold')\n",
    "    sns.heatmap(conf_mat2[i],annot=True,cmap='plasma',fmt=\"0.2f\",linewidths=3,linecolor='black')\n",
    "    c = c + 1\n",
    "    plt.tight_layout()\n",
    "plt.show()"
   ]
  },
  {
   "cell_type": "markdown",
   "id": "8b91495b",
   "metadata": {},
   "source": [
    "### 2 ) Classifier chain with MultinomialNB classifier (ensemble)"
   ]
  },
  {
   "cell_type": "code",
   "execution_count": 55,
   "id": "47bf7aab",
   "metadata": {},
   "outputs": [
    {
     "name": "stdout",
     "output_type": "stream",
     "text": [
      "Accuracy =  12.5\n",
      "Cross validation score= 15.079365079365079\n",
      "\n",
      "\n",
      "log loss= 5.524425483689413\n",
      "hamming loss= 0.2\n",
      "\n",
      "\n",
      "AUC ROC score= 0.5218181818181817\n",
      "f1 score= 0.2\n",
      "average precision score= 0.5\n",
      "\n",
      "\n",
      "coverage area= 4.5\n",
      "label ranking average precision score= 0.3\n"
     ]
    }
   ],
   "source": [
    "#create and fit classifier\n",
    "from sklearn.naive_bayes import MultinomialNB\n",
    "from skmultilearn.problem_transform import ClassifierChain\n",
    "classifier3 = ClassifierChain(MultinomialNB())\n",
    "classifier3.fit(x_train, y_train)\n",
    "\n",
    "#predictions\n",
    "predictions = classifier3.predict(x_test)\n",
    "# accuracy\n",
    "acc_cc=accuracy_score(y_test,predictions)*100\n",
    "print(\"Accuracy = \",acc_cc)\n",
    "#cross validation score\n",
    "cv_cc=cross_val_score(classifier3,x,y,cv=3).mean()*100\n",
    "print(\"Cross validation score=\",cv_cc)\n",
    "print(\"\\n\")\n",
    "\n",
    "#log loss\n",
    "loss_cc=log_loss(y_test,predictions.toarray())\n",
    "print(\"log loss=\",loss_cc)\n",
    "#hamming loss\n",
    "hamm_loss_cc=hamming_loss(y_test,predictions)\n",
    "print(\"hamming loss=\",hamm_loss_cc)\n",
    "print(\"\\n\")\n",
    "\n",
    "#auc roc score\n",
    "auc_cc=roc_auc_score(y_test,predictions.toarray())\n",
    "print(\"AUC ROC score=\",auc_cc)\n",
    "#f1 score\n",
    "f1_cc=f1_score(y_test,predictions.toarray(),average='micro')\n",
    "print(\"f1 score=\",f1_cc)\n",
    "#precision score micro averaged\n",
    "pre_cc=precision_score(y_test,predictions.toarray(),average='micro')\n",
    "print(\"average precision score=\",pre_cc)\n",
    "print(\"\\n\")\n",
    "\n",
    "#coverage error\n",
    "ce_cc=coverage_error(y_test,predictions.toarray())\n",
    "print(\"coverage area=\",ce_cc)\n",
    "\n",
    "#label ranking \n",
    "lr_cc=label_ranking_average_precision_score(y_test,predictions.toarray())\n",
    "print(\"label ranking average precision score=\",lr_cc)"
   ]
  },
  {
   "cell_type": "code",
   "execution_count": 56,
   "id": "202ff1fa",
   "metadata": {},
   "outputs": [
    {
     "data": {
      "text/plain": [
       "array([[[24,  0],\n",
       "        [ 8,  0]],\n",
       "\n",
       "       [[30,  0],\n",
       "        [ 2,  0]],\n",
       "\n",
       "       [[24,  0],\n",
       "        [ 8,  0]],\n",
       "\n",
       "       [[28,  0],\n",
       "        [ 4,  0]],\n",
       "\n",
       "       [[18,  4],\n",
       "        [ 6,  4]]])"
      ]
     },
     "execution_count": 56,
     "metadata": {},
     "output_type": "execute_result"
    }
   ],
   "source": [
    "#confusion matrix for classifier chain\n",
    "conf_mat3=multilabel_confusion_matrix(y_test,predictions)\n",
    "conf_mat3"
   ]
  },
  {
   "cell_type": "code",
   "execution_count": 57,
   "id": "dc3975fe",
   "metadata": {},
   "outputs": [
    {
     "data": {
      "image/png": "[encoded data removed]",
      "text/plain": [
       "<Figure size 1080x504 with 10 Axes>"
      ]
     },
     "metadata": {
      "needs_background": "light"
     },
     "output_type": "display_data"
    }
   ],
   "source": [
    "#plotting heatmap of confusion matrix\n",
    "a = 2  # number of rows\n",
    "b = 3  # number of columns\n",
    "c = 1  # initialize plot counter\n",
    "fig = plt.figure(figsize=(15,7))\n",
    "for i in range(0,5): \n",
    "    plt.subplot(a, b, c)\n",
    "    plt.title('{}'.format(i+1),weight='bold')\n",
    "    sns.heatmap(conf_mat3[i],annot=True,cmap='plasma',fmt=\"0.2f\",linewidths=3,linecolor='black')\n",
    "    c = c + 1\n",
    "    plt.tight_layout()\n",
    "plt.show()"
   ]
  },
  {
   "cell_type": "markdown",
   "id": "dcd6799e",
   "metadata": {},
   "source": [
    "### 3) Adapted Algorithm\n",
    "Adapted algorithm, as the name suggests, adapting the algorithm to directly perform multi-label classification, rather than transforming the problem into different subsets of problems.\n",
    "\n",
    "For example, multi-label version of kNN is represented by MLkNN. So, let us quickly implement this on our randomly generated data set."
   ]
  },
  {
   "cell_type": "code",
   "execution_count": 58,
   "id": "d9a1d43f",
   "metadata": {},
   "outputs": [
    {
     "name": "stdout",
     "output_type": "stream",
     "text": [
      "Accuracy =  18.75\n",
      "Cross validation score= 19.047619047619047\n",
      "\n",
      "\n",
      "log loss= 15.714253889936217\n",
      "hamming loss= 0.25\n",
      "\n",
      "\n",
      "AUC ROC score= 0.5272186147186148\n",
      "f1 score= 0.23076923076923075\n",
      "average precision score= 0.3\n",
      "\n",
      "\n",
      "label ranking average precision score= 0.34999999999999987\n",
      "coverage area= 4.25\n"
     ]
    }
   ],
   "source": [
    "from skmultilearn.adapt import MLkNN\n",
    "classifier4 = MLkNN(k=3)\n",
    "# train\n",
    "classifier4.fit(x_train, y_train.values)\n",
    "#predictions\n",
    "predictions = classifier4.predict(x_test)\n",
    "\n",
    "# accuracy\n",
    "acc_mlknn=accuracy_score(y_test,predictions)*100\n",
    "print(\"Accuracy = \",acc_mlknn)\n",
    "#cross validation score\n",
    "cv_mlknn=cross_val_score(classifier4,x,y.values,cv=3).mean()*100\n",
    "print(\"Cross validation score=\",cv_mlknn)\n",
    "print(\"\\n\")\n",
    "\n",
    "#log loss\n",
    "loss_mlknn=log_loss(y_test,predictions.toarray())\n",
    "print(\"log loss=\",loss_mlknn)\n",
    "#hamming loss\n",
    "hamm_loss_mlknn=hamming_loss(y_test,predictions)\n",
    "print(\"hamming loss=\",hamm_loss_mlknn)\n",
    "print(\"\\n\")\n",
    "\n",
    "#auc roc score\n",
    "auc_mlknn=roc_auc_score(y_test,predictions.toarray())\n",
    "print(\"AUC ROC score=\",auc_mlknn)\n",
    "#f1 score\n",
    "f1_mlknn=f1_score(y_test,predictions.toarray(),average='micro')\n",
    "print(\"f1 score=\",f1_mlknn)\n",
    "#precision score micro averaged\n",
    "pre_mlknn=precision_score(y_test,predictions.toarray(),average='micro')\n",
    "print(\"average precision score=\",pre_mlknn)\n",
    "print(\"\\n\")\n",
    "\n",
    "#label ranking \n",
    "lr_mlknn=label_ranking_average_precision_score(y_test,predictions.toarray())\n",
    "print(\"label ranking average precision score=\",lr_mlknn)\n",
    "#coverage error\n",
    "ce_mlknn=coverage_error(y_test,predictions.toarray())\n",
    "print(\"coverage area=\",ce_mlknn)"
   ]
  },
  {
   "cell_type": "code",
   "execution_count": 59,
   "id": "03975c14",
   "metadata": {},
   "outputs": [
    {
     "data": {
      "text/plain": [
       "array([[[18,  6],\n",
       "        [ 5,  3]],\n",
       "\n",
       "       [[29,  1],\n",
       "        [ 2,  0]],\n",
       "\n",
       "       [[24,  0],\n",
       "        [ 8,  0]],\n",
       "\n",
       "       [[23,  5],\n",
       "        [ 3,  1]],\n",
       "\n",
       "       [[20,  2],\n",
       "        [ 8,  2]]])"
      ]
     },
     "execution_count": 59,
     "metadata": {},
     "output_type": "execute_result"
    }
   ],
   "source": [
    "#confusion matrix for mlknn\n",
    "conf_mat4=multilabel_confusion_matrix(y_test,predictions)\n",
    "conf_mat4"
   ]
  },
  {
   "cell_type": "code",
   "execution_count": 60,
   "id": "ad691914",
   "metadata": {},
   "outputs": [
    {
     "data": {
      "image/png": "[encoded data removed]",
      "text/plain": [
       "<Figure size 1080x504 with 10 Axes>"
      ]
     },
     "metadata": {
      "needs_background": "light"
     },
     "output_type": "display_data"
    }
   ],
   "source": [
    "a = 2  # number of rows\n",
    "b = 3  # number of columns\n",
    "c = 1  # initialize plot counter\n",
    "fig = plt.figure(figsize=(15,7))\n",
    "for i in range(0,5): \n",
    "    plt.subplot(a, b, c)\n",
    "    plt.title('{}'.format(i+1),weight='bold')\n",
    "    sns.heatmap(conf_mat4[i],annot=True,cmap='plasma',fmt=\"0.2f\",linewidths=3,linecolor='black')\n",
    "    c = c + 1\n",
    "    plt.tight_layout()\n",
    "plt.show()"
   ]
  },
  {
   "cell_type": "markdown",
   "id": "c69f66e7",
   "metadata": {},
   "source": [
    "### Comparing all the models performance"
   ]
  },
  {
   "cell_type": "code",
   "execution_count": 61,
   "id": "40a80485",
   "metadata": {},
   "outputs": [
    {
     "data": {
      "text/html": [
       "<div>\n",
       "<style scoped>\n",
       "    .dataframe tbody tr th:only-of-type {\n",
       "        vertical-align: middle;\n",
       "    }\n",
       "\n",
       "    .dataframe tbody tr th {\n",
       "        vertical-align: top;\n",
       "    }\n",
       "\n",
       "    .dataframe thead th {\n",
       "        text-align: right;\n",
       "    }\n",
       "</style>\n",
       "<table border=\"1\" class=\"dataframe\">\n",
       "  <thead>\n",
       "    <tr style=\"text-align: right;\">\n",
       "      <th></th>\n",
       "      <th>Model</th>\n",
       "      <th>Accuracy Score</th>\n",
       "      <th>Cross Validation score</th>\n",
       "      <th>Hamming Loss</th>\n",
       "      <th>Log Loss</th>\n",
       "      <th>Auc-Roc score</th>\n",
       "      <th>F1 Score</th>\n",
       "      <th>Precision</th>\n",
       "      <th>coverage error</th>\n",
       "      <th>Label ranking</th>\n",
       "    </tr>\n",
       "  </thead>\n",
       "  <tbody>\n",
       "    <tr>\n",
       "      <th>0</th>\n",
       "      <td>Label powerset</td>\n",
       "      <td>21.875</td>\n",
       "      <td>30.952381</td>\n",
       "      <td>0.3125</td>\n",
       "      <td>26.983419</td>\n",
       "      <td>0.505314</td>\n",
       "      <td>0.218750</td>\n",
       "      <td>0.218750</td>\n",
       "      <td>4.12500</td>\n",
       "      <td>0.375000</td>\n",
       "    </tr>\n",
       "    <tr>\n",
       "      <th>1</th>\n",
       "      <td>Binary Relevance</td>\n",
       "      <td>18.750</td>\n",
       "      <td>23.015873</td>\n",
       "      <td>0.5000</td>\n",
       "      <td>13.749993</td>\n",
       "      <td>0.504556</td>\n",
       "      <td>0.333333</td>\n",
       "      <td>0.227273</td>\n",
       "      <td>3.90625</td>\n",
       "      <td>0.376562</td>\n",
       "    </tr>\n",
       "    <tr>\n",
       "      <th>2</th>\n",
       "      <td>Adapted algorithm</td>\n",
       "      <td>18.750</td>\n",
       "      <td>19.047619</td>\n",
       "      <td>0.2500</td>\n",
       "      <td>15.714254</td>\n",
       "      <td>0.527219</td>\n",
       "      <td>0.230769</td>\n",
       "      <td>0.300000</td>\n",
       "      <td>4.25000</td>\n",
       "      <td>0.350000</td>\n",
       "    </tr>\n",
       "    <tr>\n",
       "      <th>3</th>\n",
       "      <td>Classifier chain</td>\n",
       "      <td>12.500</td>\n",
       "      <td>15.079365</td>\n",
       "      <td>0.2000</td>\n",
       "      <td>5.524425</td>\n",
       "      <td>0.521818</td>\n",
       "      <td>0.200000</td>\n",
       "      <td>0.500000</td>\n",
       "      <td>4.50000</td>\n",
       "      <td>0.300000</td>\n",
       "    </tr>\n",
       "  </tbody>\n",
       "</table>\n",
       "</div>"
      ],
      "text/plain": [
       "               Model  Accuracy Score  Cross Validation score  Hamming Loss  \\\n",
       "0     Label powerset          21.875               30.952381        0.3125   \n",
       "1   Binary Relevance          18.750               23.015873        0.5000   \n",
       "2  Adapted algorithm          18.750               19.047619        0.2500   \n",
       "3   Classifier chain          12.500               15.079365        0.2000   \n",
       "\n",
       "    Log Loss   Auc-Roc score  F1 Score  Precision  coverage error  \\\n",
       "0  26.983419        0.505314  0.218750   0.218750         4.12500   \n",
       "1  13.749993        0.504556  0.333333   0.227273         3.90625   \n",
       "2  15.714254        0.527219  0.230769   0.300000         4.25000   \n",
       "3   5.524425        0.521818  0.200000   0.500000         4.50000   \n",
       "\n",
       "   Label ranking  \n",
       "0       0.375000  \n",
       "1       0.376562  \n",
       "2       0.350000  \n",
       "3       0.300000  "
      ]
     },
     "execution_count": 61,
     "metadata": {},
     "output_type": "execute_result"
    }
   ],
   "source": [
    "#creating a comparision table for better understanding\n",
    "\n",
    "df_comparison_heading=pd.DataFrame({\n",
    "    \"Model\":['Binary Relevance',\"Classifier chain\",\"Label powerset\",\"Adapted algorithm\"],\n",
    "    \"Accuracy Score\":[acc_br,acc_cc,acc_lps,acc_mlknn],\n",
    "    \"Cross Validation score\":[cv_br,cv_cc,cv_lps,cv_mlknn],\n",
    "    \"Hamming Loss\":[hamm_loss_br,hamm_loss_cc,hamm_loss_lps,hamm_loss_mlknn],\n",
    "    \"Log Loss\":[loss_br,loss_cc,loss_lps,loss_mlknn],\n",
    "    \" Auc-Roc score\":[auc_br,auc_cc,auc_lps,auc_mlknn],\n",
    "    \"F1 Score\":[f1_br,f1_cc,f1_lps,f1_mlknn],\n",
    "    \"Precision\":[pre_br,pre_cc,pre_lps,pre_mlknn],\n",
    "    \"coverage error\":[ce_br,ce_cc,ce_lps,ce_mlknn],\n",
    "    \"Label ranking\":[lr_br,lr_cc,lr_lps,lr_mlknn]})\n",
    "    \n",
    "\n",
    "df_comparison_heading.sort_values(by=\"Accuracy Score\",ascending=False,ignore_index=True)"
   ]
  },
  {
   "cell_type": "markdown",
   "id": "e85f051f",
   "metadata": {},
   "source": [
    "#### Conclusion:\n",
    "* The hamming loss for Label Powerset is the least among all.\n",
    "* The log loss is least for Classifier Chain.\n",
    "* The AUC ROC Score for Adapted ALgorithm is maximum which is 0.527\n",
    "* The AUC ROC Score for Classifier Chain and Adapted Algorithm is almost similar.\n",
    "* The accuracy score of Label Powerset is best out of 4 selected models."
   ]
  },
  {
   "cell_type": "markdown",
   "id": "b9de06fe",
   "metadata": {},
   "source": [
    "# Building model based on actual reviews and evaluation of its performance"
   ]
  },
  {
   "cell_type": "code",
   "execution_count": 62,
   "id": "24d50a4a",
   "metadata": {},
   "outputs": [],
   "source": [
    "# Separation of Labels and Features\n",
    "z = df['Review']\n",
    "y = df[['1 Star','2 Star','3 Star','4 Star','5 Star']]"
   ]
  },
  {
   "cell_type": "code",
   "execution_count": 63,
   "id": "75fbb584",
   "metadata": {},
   "outputs": [
    {
     "data": {
      "text/plain": [
       "(7832,)"
      ]
     },
     "execution_count": 63,
     "metadata": {},
     "output_type": "execute_result"
    }
   ],
   "source": [
    "z.shape"
   ]
  },
  {
   "cell_type": "code",
   "execution_count": 64,
   "id": "1cfb586d",
   "metadata": {},
   "outputs": [
    {
     "data": {
      "text/plain": [
       "(7832, 5)"
      ]
     },
     "execution_count": 64,
     "metadata": {},
     "output_type": "execute_result"
    }
   ],
   "source": [
    "y.shape"
   ]
  },
  {
   "cell_type": "code",
   "execution_count": 65,
   "id": "88bc71a8",
   "metadata": {},
   "outputs": [],
   "source": [
    "#transforming words to vectors\n",
    "#initiate tfid\n",
    "from sklearn.feature_extraction.text import TfidfVectorizer\n",
    "tf = TfidfVectorizer()\n",
    "#convert text into vectors\n",
    "z = tf.fit_transform(z)"
   ]
  },
  {
   "cell_type": "code",
   "execution_count": 66,
   "id": "822b24c9",
   "metadata": {},
   "outputs": [],
   "source": [
    "#splitting data into training and testing\n",
    "from sklearn.model_selection import train_test_split\n",
    "x_train, x_test, y_train, y_test = train_test_split(z, y, test_size=0.25, random_state=123)"
   ]
  },
  {
   "cell_type": "markdown",
   "id": "59054941",
   "metadata": {},
   "source": [
    "# 1) Power Transformation\n",
    "# 1.1 Binary relevance with GuassianNb as base classifier"
   ]
  },
  {
   "cell_type": "code",
   "execution_count": 67,
   "id": "313bc812",
   "metadata": {},
   "outputs": [
    {
     "name": "stdout",
     "output_type": "stream",
     "text": [
      "Accuracy =  8.88661899897855\n",
      "Cross validation score= 9.997397786063773\n",
      "\n",
      "\n",
      "log loss= 13.074176015385477\n",
      "hamming loss= 0.5148110316649642\n",
      "\n",
      "\n",
      "f1 score= 0.32093775262732416\n",
      "average precision score= 0.21797218155197656\n",
      "AUC ROC score= 0.5721506657316465\n",
      "\n",
      "\n",
      "label ranking average precision score= 0.33275451140619877\n",
      "coverage area= 3.812053115423902\n",
      "\n",
      "\n"
     ]
    }
   ],
   "source": [
    "# using binary relevance\n",
    "from skmultilearn.problem_transform import BinaryRelevance\n",
    "from sklearn.naive_bayes import GaussianNB\n",
    "\n",
    "# initialize binary relevance multi-label classifier\n",
    "# with a gaussian naive bayes base classifier\n",
    "classifier1 = BinaryRelevance(GaussianNB())\n",
    "\n",
    "# train\n",
    "classifier1.fit(x_train, y_train)\n",
    "# predict\n",
    "predictions = classifier1.predict(x_test)\n",
    "\n",
    "# accuracy\n",
    "acc_br=accuracy_score(y_test,predictions)*100\n",
    "print(\"Accuracy = \",acc_br)\n",
    "#cross validation score\n",
    "cv_br=cross_val_score(classifier1,z,y,cv=3).mean()*100\n",
    "print(\"Cross validation score=\",cv_br)\n",
    "print(\"\\n\")\n",
    "\n",
    "#log loss\n",
    "loss_br=log_loss(y_test,predictions.toarray())\n",
    "print(\"log loss=\",loss_br)\n",
    "#hamming loss\n",
    "hamm_loss_br=hamming_loss(y_test,predictions)\n",
    "print(\"hamming loss=\",hamm_loss_br) \n",
    "print(\"\\n\")\n",
    "\n",
    "\n",
    "#f1 score\n",
    "f1_br=f1_score(y_test,predictions.toarray(),average='micro')\n",
    "print(\"f1 score=\",f1_br)\n",
    "#precision score micro averaged\n",
    "pre_br=precision_score(y_test,predictions.toarray(),average='micro')\n",
    "print(\"average precision score=\",pre_br)\n",
    "#auc roc curve\n",
    "auc_br=roc_auc_score(y_test,predictions.toarray())\n",
    "print(\"AUC ROC score=\",auc_br)\n",
    "print(\"\\n\")\n",
    "\n",
    "\n",
    "#label ranking \n",
    "lr_br=label_ranking_average_precision_score(y_test,predictions.toarray())\n",
    "print(\"label ranking average precision score=\",lr_br)\n",
    "#coverage error\n",
    "ce_br=coverage_error(y_test,predictions.toarray())\n",
    "print(\"coverage area=\",ce_br)\n",
    "print(\"\\n\")"
   ]
  },
  {
   "cell_type": "code",
   "execution_count": 68,
   "id": "9a98005f",
   "metadata": {},
   "outputs": [
    {
     "data": {
      "text/plain": [
       "array([[[ 755,  907],\n",
       "        [  58,  238]],\n",
       "\n",
       "       [[1060,  809],\n",
       "        [  42,   47]],\n",
       "\n",
       "       [[ 612, 1144],\n",
       "        [  59,  143]],\n",
       "\n",
       "       [[ 350, 1228],\n",
       "        [  65,  315]],\n",
       "\n",
       "       [[ 782,  185],\n",
       "        [ 543,  448]]])"
      ]
     },
     "execution_count": 68,
     "metadata": {},
     "output_type": "execute_result"
    }
   ],
   "source": [
    "#confusion matrix for binary relevance\n",
    "conf_mat1=multilabel_confusion_matrix(y_test,predictions)\n",
    "conf_mat1"
   ]
  },
  {
   "cell_type": "code",
   "execution_count": 69,
   "id": "aa51c230",
   "metadata": {},
   "outputs": [
    {
     "data": {
      "image/png": "[encoded data removed]",
      "text/plain": [
       "<Figure size 1080x504 with 10 Axes>"
      ]
     },
     "metadata": {
      "needs_background": "light"
     },
     "output_type": "display_data"
    }
   ],
   "source": [
    "#plotting heatmap of confusion matrix\n",
    "a = 2  # number of rows\n",
    "b = 3  # number of columns\n",
    "c = 1  # initialize plot counter\n",
    "fig = plt.figure(figsize=(15,7))\n",
    "for i in range(0,5):\n",
    "    plt.subplot(a, b, c)\n",
    "    plt.title('{}'.format(i+1),weight='bold')\n",
    "    sns.heatmap(conf_mat1[i],annot=True,cmap='plasma',fmt=\"0.2f\",linewidths=3,linecolor='black')\n",
    "    c = c + 1\n",
    "    plt.tight_layout()\n",
    "plt.show()"
   ]
  },
  {
   "cell_type": "markdown",
   "id": "f6f2de63",
   "metadata": {},
   "source": [
    "# 1.2 Label powerset"
   ]
  },
  {
   "cell_type": "code",
   "execution_count": 70,
   "id": "faf16c89",
   "metadata": {},
   "outputs": [
    {
     "name": "stdout",
     "output_type": "stream",
     "text": [
      "Accuracy =  17.517875383043922\n",
      "Cross validation score= 17.900962281104647\n",
      "\n",
      "\n",
      "log loss= 28.48831658722205\n",
      "hamming loss= 0.3299284984678243\n",
      "\n",
      "\n",
      "AUC ROC score= 0.5280128150761658\n",
      "f1 score= 0.1751787538304392\n",
      "average precision score= 0.1751787538304392\n",
      "\n",
      "\n",
      "coverage area= 4.299284984678243\n",
      "label ranking average precision score= 0.3401430030643559\n"
     ]
    }
   ],
   "source": [
    "#create and fit classifier\n",
    "from skmultilearn.problem_transform import LabelPowerset\n",
    "from sklearn.naive_bayes import GaussianNB\n",
    "\n",
    "# initialize Label Powerset multi-label classifier\n",
    "# with a gaussian naive bayes base classifier\n",
    "classifier2 = LabelPowerset(GaussianNB())\n",
    "classifier2.fit(x_train, y_train)\n",
    "#predictions\n",
    "predictions = classifier2.predict(x_test)\n",
    "\n",
    "# accuracy\n",
    "acc_lps=accuracy_score(y_test,predictions)*100\n",
    "print(\"Accuracy = \",acc_lps)\n",
    "#cross validation score\n",
    "cv_lps=cross_val_score(classifier2,z,y,cv=3).mean()*100\n",
    "print(\"Cross validation score=\",cv_lps)\n",
    "print(\"\\n\")\n",
    "\n",
    "#log loss\n",
    "loss_lps=log_loss(y_test,predictions.toarray())\n",
    "print(\"log loss=\",loss_lps)\n",
    "#hamming loss\n",
    "hamm_loss_lps=hamming_loss(y_test,predictions)\n",
    "print(\"hamming loss=\",hamm_loss_lps)\n",
    "print(\"\\n\")\n",
    "\n",
    "#auc roc score\n",
    "auc_lps=roc_auc_score(y_test,predictions.toarray())\n",
    "print(\"AUC ROC score=\",auc_lps)\n",
    "#f1 score\n",
    "f1_lps=f1_score(y_test,predictions.toarray(),average='micro')\n",
    "print(\"f1 score=\",f1_lps)\n",
    "#precision score micro averaged\n",
    "pre_lps=precision_score(y_test,predictions.toarray(),average='micro')\n",
    "print(\"average precision score=\",pre_lps)\n",
    "print(\"\\n\")\n",
    "\n",
    "#coverage error\n",
    "ce_lps=coverage_error(y_test,predictions.toarray())\n",
    "print(\"coverage area=\",ce_lps)\n",
    "#label ranking \n",
    "lr_lps=label_ranking_average_precision_score(y_test,predictions.toarray())\n",
    "print(\"label ranking average precision score=\",lr_lps)"
   ]
  },
  {
   "cell_type": "code",
   "execution_count": 71,
   "id": "8baaa3d7",
   "metadata": {},
   "outputs": [
    {
     "data": {
      "text/plain": [
       "array([[[1574,   88],\n",
       "        [ 231,   65]],\n",
       "\n",
       "       [[1185,  684],\n",
       "        [  43,   46]],\n",
       "\n",
       "       [[1208,  548],\n",
       "        [ 155,   47]],\n",
       "\n",
       "       [[1376,  202],\n",
       "        [ 331,   49]],\n",
       "\n",
       "       [[ 874,   93],\n",
       "        [ 855,  136]]])"
      ]
     },
     "execution_count": 71,
     "metadata": {},
     "output_type": "execute_result"
    }
   ],
   "source": [
    "#confusion matrix for label powerset\n",
    "conf_mat2=multilabel_confusion_matrix(y_test,predictions)\n",
    "conf_mat2"
   ]
  },
  {
   "cell_type": "code",
   "execution_count": 72,
   "id": "881ad191",
   "metadata": {},
   "outputs": [
    {
     "data": {
      "image/png": "[encoded data removed]",
      "text/plain": [
       "<Figure size 1080x504 with 10 Axes>"
      ]
     },
     "metadata": {
      "needs_background": "light"
     },
     "output_type": "display_data"
    }
   ],
   "source": [
    "#plotting heatmap of confusion matrix\n",
    "a = 2  # number of rows\n",
    "b = 3  # number of columns\n",
    "c = 1  # initialize plot counter\n",
    "fig = plt.figure(figsize=(15,7))\n",
    "for i in range(0,5): \n",
    "    plt.subplot(a, b, c)\n",
    "    plt.title('{}'.format(i+1),weight='bold')\n",
    "    sns.heatmap(conf_mat2[i],annot=True,cmap='plasma',fmt=\"0.2f\",linewidths=3,linecolor='black')\n",
    "    c = c + 1\n",
    "    plt.tight_layout()\n",
    "plt.show()"
   ]
  },
  {
   "cell_type": "markdown",
   "id": "9d52a086",
   "metadata": {},
   "source": [
    "# 2 ) Classifier chain with MultinomialNB classifier (ensemble)"
   ]
  },
  {
   "cell_type": "code",
   "execution_count": 73,
   "id": "efd0af61",
   "metadata": {},
   "outputs": [
    {
     "name": "stdout",
     "output_type": "stream",
     "text": [
      "Accuracy =  51.12359550561798\n",
      "Cross validation score= 51.08513788554466\n",
      "\n",
      "\n",
      "log loss= 9.632821309490359\n",
      "hamming loss= 0.15148110316649643\n",
      "\n",
      "\n",
      "AUC ROC score= 0.5662537570865155\n",
      "f1 score= 0.5744619799139168\n",
      "average precision score= 0.6555337262606418\n",
      "\n",
      "\n",
      "coverage area= 2.955056179775281\n",
      "label ranking average precision score= 0.6089887640449553\n"
     ]
    }
   ],
   "source": [
    "#create and fit classifier\n",
    "from sklearn.naive_bayes import MultinomialNB\n",
    "from skmultilearn.problem_transform import ClassifierChain\n",
    "classifier3 = ClassifierChain(MultinomialNB())\n",
    "classifier3.fit(x_train, y_train)\n",
    "\n",
    "#predictions\n",
    "predictions = classifier3.predict(x_test)\n",
    "# accuracy\n",
    "acc_cc=accuracy_score(y_test,predictions)*100\n",
    "print(\"Accuracy = \",acc_cc)\n",
    "#cross validation score\n",
    "cv_cc=cross_val_score(classifier3,z,y,cv=3).mean()*100\n",
    "print(\"Cross validation score=\",cv_cc)\n",
    "print(\"\\n\")\n",
    "\n",
    "#log loss\n",
    "loss_cc=log_loss(y_test,predictions.toarray())\n",
    "print(\"log loss=\",loss_cc)\n",
    "#hamming loss\n",
    "hamm_loss_cc=hamming_loss(y_test,predictions)\n",
    "print(\"hamming loss=\",hamm_loss_cc)\n",
    "print(\"\\n\")\n",
    "\n",
    "#auc roc score\n",
    "auc_cc=roc_auc_score(y_test,predictions.toarray())\n",
    "print(\"AUC ROC score=\",auc_cc)\n",
    "#f1 score\n",
    "f1_cc=f1_score(y_test,predictions.toarray(),average='micro')\n",
    "print(\"f1 score=\",f1_cc)\n",
    "#precision score micro averaged\n",
    "pre_cc=precision_score(y_test,predictions.toarray(),average='micro')\n",
    "print(\"average precision score=\",pre_cc)\n",
    "print(\"\\n\")\n",
    "\n",
    "#coverage error\n",
    "ce_cc=coverage_error(y_test,predictions.toarray())\n",
    "print(\"coverage area=\",ce_cc)\n",
    "\n",
    "#label ranking \n",
    "lr_cc=label_ranking_average_precision_score(y_test,predictions.toarray())\n",
    "print(\"label ranking average precision score=\",lr_cc)"
   ]
  },
  {
   "cell_type": "code",
   "execution_count": 74,
   "id": "a5841cd0",
   "metadata": {},
   "outputs": [
    {
     "data": {
      "text/plain": [
       "array([[[1643,   19],\n",
       "        [ 220,   76]],\n",
       "\n",
       "       [[1869,    0],\n",
       "        [  89,    0]],\n",
       "\n",
       "       [[1755,    1],\n",
       "        [ 202,    0]],\n",
       "\n",
       "       [[1567,   11],\n",
       "        [ 378,    2]],\n",
       "\n",
       "       [[ 472,  495],\n",
       "        [  68,  923]]])"
      ]
     },
     "execution_count": 74,
     "metadata": {},
     "output_type": "execute_result"
    }
   ],
   "source": [
    "#confusion matrix for classifier chain\n",
    "conf_mat3=multilabel_confusion_matrix(y_test,predictions)\n",
    "conf_mat3"
   ]
  },
  {
   "cell_type": "code",
   "execution_count": 75,
   "id": "b6a22b48",
   "metadata": {},
   "outputs": [
    {
     "data": {
      "image/png": "[encoded data removed]",
      "text/plain": [
       "<Figure size 1080x504 with 10 Axes>"
      ]
     },
     "metadata": {
      "needs_background": "light"
     },
     "output_type": "display_data"
    }
   ],
   "source": [
    "#plotting heatmap of confusion matrix\n",
    "a = 2  # number of rows\n",
    "b = 3  # number of columns\n",
    "c = 1  # initialize plot counter\n",
    "fig = plt.figure(figsize=(15,7))\n",
    "for i in range(0,5): \n",
    "    plt.subplot(a, b, c)\n",
    "    plt.title('{}'.format(i+1),weight='bold')\n",
    "    sns.heatmap(conf_mat3[i],annot=True,cmap='plasma',fmt=\"0.2f\",linewidths=3,linecolor='black')\n",
    "    c = c + 1\n",
    "    plt.tight_layout()\n",
    "plt.show()"
   ]
  },
  {
   "cell_type": "markdown",
   "id": "468e5578",
   "metadata": {},
   "source": [
    "# 3) Adapted Algorithm"
   ]
  },
  {
   "cell_type": "code",
   "execution_count": 76,
   "id": "23b0b8f1",
   "metadata": {},
   "outputs": [
    {
     "name": "stdout",
     "output_type": "stream",
     "text": [
      "Accuracy =  46.782431052093976\n",
      "Cross validation score= 48.761346166356795\n",
      "\n",
      "\n",
      "log loss= 13.928211632786315\n",
      "hamming loss= 0.18794688457609807\n",
      "\n",
      "\n",
      "AUC ROC score= 0.5928064023842545\n",
      "f1 score= 0.5101171458998935\n",
      "average precision score= 0.5328142380422692\n",
      "\n",
      "\n",
      "label ranking average precision score= 0.5806945863125749\n",
      "coverage area= 3.0643513789581207\n"
     ]
    }
   ],
   "source": [
    "from skmultilearn.adapt import MLkNN\n",
    "classifier4 = MLkNN(k=3)\n",
    "# train\n",
    "classifier4.fit(x_train, y_train.values)\n",
    "#predictions\n",
    "predictions = classifier4.predict(x_test)\n",
    "\n",
    "# accuracy\n",
    "acc_mlknn=accuracy_score(y_test,predictions)*100\n",
    "print(\"Accuracy = \",acc_mlknn)\n",
    "#cross validation score\n",
    "cv_mlknn=cross_val_score(classifier4,z,y.values,cv=3).mean()*100\n",
    "print(\"Cross validation score=\",cv_mlknn)\n",
    "print(\"\\n\")\n",
    "\n",
    "#log loss\n",
    "loss_mlknn=log_loss(y_test,predictions.toarray())\n",
    "print(\"log loss=\",loss_mlknn)\n",
    "#hamming loss\n",
    "hamm_loss_mlknn=hamming_loss(y_test,predictions)\n",
    "print(\"hamming loss=\",hamm_loss_mlknn)\n",
    "print(\"\\n\")\n",
    "\n",
    "#auc roc score\n",
    "auc_mlknn=roc_auc_score(y_test,predictions.toarray())\n",
    "print(\"AUC ROC score=\",auc_mlknn)\n",
    "#f1 score\n",
    "f1_mlknn=f1_score(y_test,predictions.toarray(),average='micro')\n",
    "print(\"f1 score=\",f1_mlknn)\n",
    "#precision score micro averaged\n",
    "pre_mlknn=precision_score(y_test,predictions.toarray(),average='micro')\n",
    "print(\"average precision score=\",pre_mlknn)\n",
    "print(\"\\n\")\n",
    "\n",
    "#label ranking \n",
    "lr_mlknn=label_ranking_average_precision_score(y_test,predictions.toarray())\n",
    "print(\"label ranking average precision score=\",lr_mlknn)\n",
    "#coverage error\n",
    "ce_mlknn=coverage_error(y_test,predictions.toarray())\n",
    "print(\"coverage area=\",ce_mlknn)"
   ]
  },
  {
   "cell_type": "code",
   "execution_count": 77,
   "id": "c79ca395",
   "metadata": {},
   "outputs": [
    {
     "data": {
      "text/plain": [
       "array([[[1442,  220],\n",
       "        [ 101,  195]],\n",
       "\n",
       "       [[1850,   19],\n",
       "        [  89,    0]],\n",
       "\n",
       "       [[1719,   37],\n",
       "        [ 187,   15]],\n",
       "\n",
       "       [[1362,  216],\n",
       "        [ 318,   62]],\n",
       "\n",
       "       [[ 619,  348],\n",
       "        [ 305,  686]]])"
      ]
     },
     "execution_count": 77,
     "metadata": {},
     "output_type": "execute_result"
    }
   ],
   "source": [
    "#confusion matrix for mlknn\n",
    "conf_mat4=multilabel_confusion_matrix(y_test,predictions)\n",
    "conf_mat4"
   ]
  },
  {
   "cell_type": "code",
   "execution_count": 78,
   "id": "d71a1dbe",
   "metadata": {},
   "outputs": [
    {
     "data": {
      "image/png": "[encoded data removed]",
      "text/plain": [
       "<Figure size 1080x504 with 10 Axes>"
      ]
     },
     "metadata": {
      "needs_background": "light"
     },
     "output_type": "display_data"
    }
   ],
   "source": [
    "a = 2  # number of rows\n",
    "b = 3  # number of columns\n",
    "c = 1  # initialize plot counter\n",
    "fig = plt.figure(figsize=(15,7))\n",
    "for i in range(0,5): \n",
    "    plt.subplot(a, b, c)\n",
    "    plt.title('{}'.format(i+1),weight='bold')\n",
    "    sns.heatmap(conf_mat4[i],annot=True,cmap='plasma',fmt=\"0.2f\",linewidths=3,linecolor='black')\n",
    "    c = c + 1\n",
    "    plt.tight_layout()\n",
    "plt.show()\n",
    "  "
   ]
  },
  {
   "cell_type": "markdown",
   "id": "e9359e29",
   "metadata": {},
   "source": [
    "# Comparing all the models performance"
   ]
  },
  {
   "cell_type": "code",
   "execution_count": 79,
   "id": "6b92ee4d",
   "metadata": {},
   "outputs": [
    {
     "data": {
      "text/html": [
       "<div>\n",
       "<style scoped>\n",
       "    .dataframe tbody tr th:only-of-type {\n",
       "        vertical-align: middle;\n",
       "    }\n",
       "\n",
       "    .dataframe tbody tr th {\n",
       "        vertical-align: top;\n",
       "    }\n",
       "\n",
       "    .dataframe thead th {\n",
       "        text-align: right;\n",
       "    }\n",
       "</style>\n",
       "<table border=\"1\" class=\"dataframe\">\n",
       "  <thead>\n",
       "    <tr style=\"text-align: right;\">\n",
       "      <th></th>\n",
       "      <th>Model</th>\n",
       "      <th>Accuracy Score</th>\n",
       "      <th>Cross Validation score</th>\n",
       "      <th>Hamming Loss</th>\n",
       "      <th>Log Loss</th>\n",
       "      <th>Auc-Roc score</th>\n",
       "      <th>F1 Score</th>\n",
       "      <th>Precision</th>\n",
       "      <th>coverage error</th>\n",
       "      <th>Label ranking</th>\n",
       "    </tr>\n",
       "  </thead>\n",
       "  <tbody>\n",
       "    <tr>\n",
       "      <th>0</th>\n",
       "      <td>Classifier chain</td>\n",
       "      <td>51.123596</td>\n",
       "      <td>51.085138</td>\n",
       "      <td>0.151481</td>\n",
       "      <td>9.632821</td>\n",
       "      <td>0.566254</td>\n",
       "      <td>0.574462</td>\n",
       "      <td>0.655534</td>\n",
       "      <td>2.955056</td>\n",
       "      <td>0.608989</td>\n",
       "    </tr>\n",
       "    <tr>\n",
       "      <th>1</th>\n",
       "      <td>Adapted algorithm</td>\n",
       "      <td>46.782431</td>\n",
       "      <td>48.761346</td>\n",
       "      <td>0.187947</td>\n",
       "      <td>13.928212</td>\n",
       "      <td>0.592806</td>\n",
       "      <td>0.510117</td>\n",
       "      <td>0.532814</td>\n",
       "      <td>3.064351</td>\n",
       "      <td>0.580695</td>\n",
       "    </tr>\n",
       "    <tr>\n",
       "      <th>2</th>\n",
       "      <td>Label powerset</td>\n",
       "      <td>17.517875</td>\n",
       "      <td>17.900962</td>\n",
       "      <td>0.329928</td>\n",
       "      <td>28.488317</td>\n",
       "      <td>0.528013</td>\n",
       "      <td>0.175179</td>\n",
       "      <td>0.175179</td>\n",
       "      <td>4.299285</td>\n",
       "      <td>0.340143</td>\n",
       "    </tr>\n",
       "    <tr>\n",
       "      <th>3</th>\n",
       "      <td>Binary Relevance</td>\n",
       "      <td>8.886619</td>\n",
       "      <td>9.997398</td>\n",
       "      <td>0.514811</td>\n",
       "      <td>13.074176</td>\n",
       "      <td>0.572151</td>\n",
       "      <td>0.320938</td>\n",
       "      <td>0.217972</td>\n",
       "      <td>3.812053</td>\n",
       "      <td>0.332755</td>\n",
       "    </tr>\n",
       "  </tbody>\n",
       "</table>\n",
       "</div>"
      ],
      "text/plain": [
       "               Model  Accuracy Score  Cross Validation score  Hamming Loss  \\\n",
       "0   Classifier chain       51.123596               51.085138      0.151481   \n",
       "1  Adapted algorithm       46.782431               48.761346      0.187947   \n",
       "2     Label powerset       17.517875               17.900962      0.329928   \n",
       "3   Binary Relevance        8.886619                9.997398      0.514811   \n",
       "\n",
       "    Log Loss   Auc-Roc score  F1 Score  Precision  coverage error  \\\n",
       "0   9.632821        0.566254  0.574462   0.655534        2.955056   \n",
       "1  13.928212        0.592806  0.510117   0.532814        3.064351   \n",
       "2  28.488317        0.528013  0.175179   0.175179        4.299285   \n",
       "3  13.074176        0.572151  0.320938   0.217972        3.812053   \n",
       "\n",
       "   Label ranking  \n",
       "0       0.608989  \n",
       "1       0.580695  \n",
       "2       0.340143  \n",
       "3       0.332755  "
      ]
     },
     "execution_count": 79,
     "metadata": {},
     "output_type": "execute_result"
    }
   ],
   "source": [
    "#creating a comparision table for better understanding\n",
    "\n",
    "df_comparison_review=pd.DataFrame({\n",
    "    \"Model\":['Binary Relevance',\"Classifier chain\",\"Label powerset\",\"Adapted algorithm\"],\n",
    "    \"Accuracy Score\":[acc_br,acc_cc,acc_lps,acc_mlknn],\n",
    "    \"Cross Validation score\":[cv_br,cv_cc,cv_lps,cv_mlknn],\n",
    "    \"Hamming Loss\":[hamm_loss_br,hamm_loss_cc,hamm_loss_lps,hamm_loss_mlknn],\n",
    "    \"Log Loss\":[loss_br,loss_cc,loss_lps,loss_mlknn],\n",
    "    \" Auc-Roc score\":[auc_br,auc_cc,auc_lps,auc_mlknn],\n",
    "    \"F1 Score\":[f1_br,f1_cc,f1_lps,f1_mlknn],\n",
    "    \"Precision\":[pre_br,pre_cc,pre_lps,pre_mlknn],\n",
    "    \"coverage error\":[ce_br,ce_cc,ce_lps,ce_mlknn],\n",
    "    \"Label ranking\":[lr_br,lr_cc,lr_lps,lr_mlknn]})\n",
    "    \n",
    "\n",
    "df_comparison_review.sort_values(by=\"Accuracy Score\",ascending=False,ignore_index=True)"
   ]
  },
  {
   "cell_type": "markdown",
   "id": "a59249b0",
   "metadata": {},
   "source": [
    "#### Conclusion:\n",
    "* The hamming loss for Classifier Chain is the least among all.\n",
    "* The log loss is least for Classifier Chain.\n",
    "* The AUC ROC Score for Adapted Algorithm is maximum which is 0.56\n",
    "* The accuracy score of Classifier Chain is best out of 4 selected models."
   ]
  },
  {
   "cell_type": "markdown",
   "id": "60239b0a",
   "metadata": {},
   "source": [
    "# Comparison of Model performance for heading and review"
   ]
  },
  {
   "cell_type": "code",
   "execution_count": 80,
   "id": "c5db30b5",
   "metadata": {},
   "outputs": [
    {
     "data": {
      "text/html": [
       "<div>\n",
       "<style scoped>\n",
       "    .dataframe tbody tr th:only-of-type {\n",
       "        vertical-align: middle;\n",
       "    }\n",
       "\n",
       "    .dataframe tbody tr th {\n",
       "        vertical-align: top;\n",
       "    }\n",
       "\n",
       "    .dataframe thead th {\n",
       "        text-align: right;\n",
       "    }\n",
       "</style>\n",
       "<table border=\"1\" class=\"dataframe\">\n",
       "  <thead>\n",
       "    <tr style=\"text-align: right;\">\n",
       "      <th></th>\n",
       "      <th>Model</th>\n",
       "      <th>Accuracy Score</th>\n",
       "      <th>Cross Validation score</th>\n",
       "      <th>Hamming Loss</th>\n",
       "      <th>Log Loss</th>\n",
       "      <th>Auc-Roc score</th>\n",
       "      <th>F1 Score</th>\n",
       "      <th>Precision</th>\n",
       "      <th>coverage error</th>\n",
       "      <th>Label ranking</th>\n",
       "      <th>Data</th>\n",
       "    </tr>\n",
       "  </thead>\n",
       "  <tbody>\n",
       "    <tr>\n",
       "      <th>0</th>\n",
       "      <td>Binary Relevance</td>\n",
       "      <td>18.750000</td>\n",
       "      <td>23.015873</td>\n",
       "      <td>0.500000</td>\n",
       "      <td>13.749993</td>\n",
       "      <td>0.504556</td>\n",
       "      <td>0.333333</td>\n",
       "      <td>0.227273</td>\n",
       "      <td>3.906250</td>\n",
       "      <td>0.376562</td>\n",
       "      <td>Heading</td>\n",
       "    </tr>\n",
       "    <tr>\n",
       "      <th>1</th>\n",
       "      <td>Classifier chain</td>\n",
       "      <td>12.500000</td>\n",
       "      <td>15.079365</td>\n",
       "      <td>0.200000</td>\n",
       "      <td>5.524425</td>\n",
       "      <td>0.521818</td>\n",
       "      <td>0.200000</td>\n",
       "      <td>0.500000</td>\n",
       "      <td>4.500000</td>\n",
       "      <td>0.300000</td>\n",
       "      <td>Heading</td>\n",
       "    </tr>\n",
       "    <tr>\n",
       "      <th>2</th>\n",
       "      <td>Label powerset</td>\n",
       "      <td>21.875000</td>\n",
       "      <td>30.952381</td>\n",
       "      <td>0.312500</td>\n",
       "      <td>26.983419</td>\n",
       "      <td>0.505314</td>\n",
       "      <td>0.218750</td>\n",
       "      <td>0.218750</td>\n",
       "      <td>4.125000</td>\n",
       "      <td>0.375000</td>\n",
       "      <td>Heading</td>\n",
       "    </tr>\n",
       "    <tr>\n",
       "      <th>3</th>\n",
       "      <td>Adapted algorithm</td>\n",
       "      <td>18.750000</td>\n",
       "      <td>19.047619</td>\n",
       "      <td>0.250000</td>\n",
       "      <td>15.714254</td>\n",
       "      <td>0.527219</td>\n",
       "      <td>0.230769</td>\n",
       "      <td>0.300000</td>\n",
       "      <td>4.250000</td>\n",
       "      <td>0.350000</td>\n",
       "      <td>Heading</td>\n",
       "    </tr>\n",
       "    <tr>\n",
       "      <th>0</th>\n",
       "      <td>Binary Relevance</td>\n",
       "      <td>8.886619</td>\n",
       "      <td>9.997398</td>\n",
       "      <td>0.514811</td>\n",
       "      <td>13.074176</td>\n",
       "      <td>0.572151</td>\n",
       "      <td>0.320938</td>\n",
       "      <td>0.217972</td>\n",
       "      <td>3.812053</td>\n",
       "      <td>0.332755</td>\n",
       "      <td>Review</td>\n",
       "    </tr>\n",
       "    <tr>\n",
       "      <th>1</th>\n",
       "      <td>Classifier chain</td>\n",
       "      <td>51.123596</td>\n",
       "      <td>51.085138</td>\n",
       "      <td>0.151481</td>\n",
       "      <td>9.632821</td>\n",
       "      <td>0.566254</td>\n",
       "      <td>0.574462</td>\n",
       "      <td>0.655534</td>\n",
       "      <td>2.955056</td>\n",
       "      <td>0.608989</td>\n",
       "      <td>Review</td>\n",
       "    </tr>\n",
       "    <tr>\n",
       "      <th>2</th>\n",
       "      <td>Label powerset</td>\n",
       "      <td>17.517875</td>\n",
       "      <td>17.900962</td>\n",
       "      <td>0.329928</td>\n",
       "      <td>28.488317</td>\n",
       "      <td>0.528013</td>\n",
       "      <td>0.175179</td>\n",
       "      <td>0.175179</td>\n",
       "      <td>4.299285</td>\n",
       "      <td>0.340143</td>\n",
       "      <td>Review</td>\n",
       "    </tr>\n",
       "    <tr>\n",
       "      <th>3</th>\n",
       "      <td>Adapted algorithm</td>\n",
       "      <td>46.782431</td>\n",
       "      <td>48.761346</td>\n",
       "      <td>0.187947</td>\n",
       "      <td>13.928212</td>\n",
       "      <td>0.592806</td>\n",
       "      <td>0.510117</td>\n",
       "      <td>0.532814</td>\n",
       "      <td>3.064351</td>\n",
       "      <td>0.580695</td>\n",
       "      <td>Review</td>\n",
       "    </tr>\n",
       "  </tbody>\n",
       "</table>\n",
       "</div>"
      ],
      "text/plain": [
       "               Model  Accuracy Score  Cross Validation score  Hamming Loss  \\\n",
       "0   Binary Relevance       18.750000               23.015873      0.500000   \n",
       "1   Classifier chain       12.500000               15.079365      0.200000   \n",
       "2     Label powerset       21.875000               30.952381      0.312500   \n",
       "3  Adapted algorithm       18.750000               19.047619      0.250000   \n",
       "0   Binary Relevance        8.886619                9.997398      0.514811   \n",
       "1   Classifier chain       51.123596               51.085138      0.151481   \n",
       "2     Label powerset       17.517875               17.900962      0.329928   \n",
       "3  Adapted algorithm       46.782431               48.761346      0.187947   \n",
       "\n",
       "    Log Loss   Auc-Roc score  F1 Score  Precision  coverage error  \\\n",
       "0  13.749993        0.504556  0.333333   0.227273        3.906250   \n",
       "1   5.524425        0.521818  0.200000   0.500000        4.500000   \n",
       "2  26.983419        0.505314  0.218750   0.218750        4.125000   \n",
       "3  15.714254        0.527219  0.230769   0.300000        4.250000   \n",
       "0  13.074176        0.572151  0.320938   0.217972        3.812053   \n",
       "1   9.632821        0.566254  0.574462   0.655534        2.955056   \n",
       "2  28.488317        0.528013  0.175179   0.175179        4.299285   \n",
       "3  13.928212        0.592806  0.510117   0.532814        3.064351   \n",
       "\n",
       "   Label ranking     Data  \n",
       "0       0.376562  Heading  \n",
       "1       0.300000  Heading  \n",
       "2       0.375000  Heading  \n",
       "3       0.350000  Heading  \n",
       "0       0.332755   Review  \n",
       "1       0.608989   Review  \n",
       "2       0.340143   Review  \n",
       "3       0.580695   Review  "
      ]
     },
     "execution_count": 80,
     "metadata": {},
     "output_type": "execute_result"
    }
   ],
   "source": [
    "df_comparison_heading['Data']='Heading'\n",
    "df_comparison_review['Data']='Review'\n",
    "df_merged=pd.concat([df_comparison_heading,df_comparison_review])\n",
    "df_merged"
   ]
  },
  {
   "cell_type": "markdown",
   "id": "921dce05",
   "metadata": {},
   "source": [
    "#### Conclusion:\n",
    "* The hamming loss by Classifier Chain is the least both for heading of reviews and reviews.\n",
    "* The log loss by Classifier Chain is the least both for heading of reviews and reviews.\n",
    "* The AUC ROC score by Adapted Algorithm is the least both for heading of reviews and reviews.\n",
    "* The accuracy score of Label Powerset is best for heading and Classifier Chain for reviews"
   ]
  },
  {
   "cell_type": "markdown",
   "id": "861672ad",
   "metadata": {},
   "source": [
    "# Saving Best Model"
   ]
  },
  {
   "cell_type": "markdown",
   "id": "f804da56",
   "metadata": {},
   "source": [
    "# saving classifier chain as our best model\n",
    "import pickle\n",
    "filename=\"Review_Classification_Laptop_Model.pkl\"\n",
    "pickle.dump(classifier3,open(filename,'wb'))"
   ]
  },
  {
   "cell_type": "code",
   "execution_count": null,
   "id": "53dc22e4",
   "metadata": {},
   "outputs": [],
   "source": []
  }
 ],
 "metadata": {
  "kernelspec": {
   "display_name": "Python 3",
   "language": "python",
   "name": "python3"
  },
  "language_info": {
   "codemirror_mode": {
    "name": "ipython",
    "version": 3
   },
   "file_extension": ".py",
   "mimetype": "text/x-python",
   "name": "python",
   "nbconvert_exporter": "python",
   "pygments_lexer": "ipython3",
   "version": "3.8.8"
  }
 },
 "nbformat": 4,
 "nbformat_minor": 5
}
